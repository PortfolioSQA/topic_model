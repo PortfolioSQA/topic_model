{
  "nbformat": 4,
  "nbformat_minor": 0,
  "metadata": {
    "colab": {
      "name": "Topic_Model.ipynb",
      "provenance": [],
      "collapsed_sections": [],
      "machine_shape": "hm"
    },
    "kernelspec": {
      "name": "python3",
      "display_name": "Python 3"
    },
    "language_info": {
      "name": "python"
    },
    "accelerator": "GPU"
  },
  "cells": [
    {
      "cell_type": "markdown",
      "metadata": {
        "id": "XezhW7HqC1fI"
      },
      "source": [
        "# Topic Modeling on a Small Scientific Corpus"
      ]
    },
    {
      "cell_type": "code",
      "metadata": {
        "colab": {
          "base_uri": "https://localhost:8080/"
        },
        "id": "QETmuGSTXIwV",
        "outputId": "7b10124f-be96-4c78-8c56-715614120833"
      },
      "source": [
        "from google.colab import drive\n",
        "drive.mount('/content/drive')"
      ],
      "execution_count": 77,
      "outputs": [
        {
          "output_type": "stream",
          "text": [
            "Drive already mounted at /content/drive; to attempt to forcibly remount, call drive.mount(\"/content/drive\", force_remount=True).\n"
          ],
          "name": "stdout"
        }
      ]
    },
    {
      "cell_type": "code",
      "metadata": {
        "colab": {
          "base_uri": "https://localhost:8080/"
        },
        "id": "F-S25KrnXLX-",
        "outputId": "53e8f5aa-f5fa-40e8-a36b-908eef29cd0d"
      },
      "source": [
        "%cd \"/content/drive/MyDrive/Clustering_USGS\""
      ],
      "execution_count": 78,
      "outputs": [
        {
          "output_type": "stream",
          "text": [
            "/content/drive/MyDrive/Clustering_USGS\n"
          ],
          "name": "stdout"
        }
      ]
    },
    {
      "cell_type": "code",
      "metadata": {
        "id": "boPkJZBIXM3A"
      },
      "source": [
        "%%capture\n",
        "!pip install umap-learn\n",
        "\n",
        "import pandas as pd\n",
        "import numpy as np\n",
        "import seaborn as sns\n",
        "import matplotlib.pyplot as plt\n",
        "import umap\n",
        "\n",
        "import nltk\n",
        "from nltk.tokenize import RegexpTokenizer\n",
        "from nltk.corpus import stopwords\n",
        "from nltk.stem.snowball import SnowballStemmer\n",
        "\n",
        "import gensim\n",
        "from gensim import corpora\n",
        "from gensim import models\n",
        "\n",
        "import sklearn\n",
        "from sklearn import metrics\n",
        "from sklearn.feature_extraction.text import TfidfVectorizer, CountVectorizer"
      ],
      "execution_count": 79,
      "outputs": []
    },
    {
      "cell_type": "code",
      "metadata": {
        "id": "YNriCNrIsQ6M"
      },
      "source": [
        "import warnings\n",
        "warnings.filterwarnings(\"ignore\", category=DeprecationWarning) "
      ],
      "execution_count": 80,
      "outputs": []
    },
    {
      "cell_type": "code",
      "metadata": {
        "id": "mexJX-5nXRHE"
      },
      "source": [
        "df = pd.read_csv('abstracts.csv')"
      ],
      "execution_count": 81,
      "outputs": []
    },
    {
      "cell_type": "code",
      "metadata": {
        "id": "jAypq1vO9Qot"
      },
      "source": [
        "df_test = pd.read_csv('abstracts_test.csv')\n",
        "df_test = df_test[['Title', 'Text']]\n",
        "df_test = df_test.dropna()"
      ],
      "execution_count": 82,
      "outputs": []
    },
    {
      "cell_type": "code",
      "metadata": {
        "colab": {
          "base_uri": "https://localhost:8080/",
          "height": 282
        },
        "id": "2nXdDd3VXTCi",
        "outputId": "26da02ae-81aa-435d-a132-28ec0d240843"
      },
      "source": [
        "def word_count(text):\n",
        "    return len(str(text).strip().split(\" \"))\n",
        "    \n",
        "temp_df = df.copy()\n",
        "temp_df['word_count'] = temp_df['Text'].apply(word_count)\n",
        "pd.Series(temp_df.word_count.values).hist(bins = 30)"
      ],
      "execution_count": 83,
      "outputs": [
        {
          "output_type": "execute_result",
          "data": {
            "text/plain": [
              "<matplotlib.axes._subplots.AxesSubplot at 0x7f0ad054be10>"
            ]
          },
          "metadata": {
            "tags": []
          },
          "execution_count": 83
        },
        {
          "output_type": "display_data",
          "data": {
            "image/png": "[encoded data removed]",
            "text/plain": [
              "<Figure size 432x288 with 1 Axes>"
            ]
          },
          "metadata": {
            "tags": [],
            "needs_background": "light"
          }
        }
      ]
    },
    {
      "cell_type": "markdown",
      "metadata": {
        "id": "hWRb7gWz1qCD"
      },
      "source": [
        "### Preprocess Data for BoW Models"
      ]
    },
    {
      "cell_type": "code",
      "metadata": {
        "colab": {
          "base_uri": "https://localhost:8080/"
        },
        "id": "IlTCOGrHXjsG",
        "outputId": "f221ed1a-2981-4847-e312-69f55f4b2c5a"
      },
      "source": [
        "nltk.download('stopwords')\n",
        "sw = stopwords.words('english')\n",
        "sw = sw + ['model']\n",
        "sw = set(sw)\n",
        "\n",
        "def preprocess_data(documents):\n",
        "  tokenizer = RegexpTokenizer(r'\\w+')\n",
        "  stemmer = SnowballStemmer(\"english\")\n",
        "  texts = []\n",
        "  for i in documents:\n",
        "        lower_text = i.lower()\n",
        "        # tokenize\n",
        "        tokens = tokenizer.tokenize(lower_text)\n",
        "        # remove stopwords\n",
        "        stopped_tokens = [i for i in tokens if not i in sw]\n",
        "        # stem words\n",
        "        stemmed_tokens = [stemmer.stem(i) for i in stopped_tokens]\n",
        "        # append list\n",
        "        texts.append(stemmed_tokens)\n",
        "  return texts\n"
      ],
      "execution_count": 84,
      "outputs": [
        {
          "output_type": "stream",
          "text": [
            "[nltk_data] Downloading package stopwords to /root/nltk_data...\n",
            "[nltk_data]   Package stopwords is already up-to-date!\n"
          ],
          "name": "stdout"
        }
      ]
    },
    {
      "cell_type": "code",
      "metadata": {
        "id": "zO7WPkLqifTu"
      },
      "source": [
        "document_list = df.Text.values\n",
        "tokens = preprocess_data(document_list)"
      ],
      "execution_count": 85,
      "outputs": []
    },
    {
      "cell_type": "code",
      "metadata": {
        "id": "-Z-DMvJogxNf"
      },
      "source": [
        "test_document_list = df_test.Text.values\n",
        "test_tokens = preprocess_data(test_document_list)"
      ],
      "execution_count": 86,
      "outputs": []
    },
    {
      "cell_type": "code",
      "metadata": {
        "id": "qWTt3e-giwkZ"
      },
      "source": [
        "dictionary = corpora.Dictionary(tokens)\n",
        "BoW_corpus = [dictionary.doc2bow(doc, allow_update=True) for doc in tokens]"
      ],
      "execution_count": 87,
      "outputs": []
    },
    {
      "cell_type": "code",
      "metadata": {
        "id": "sC6GUWGkg7Bi"
      },
      "source": [
        "test_BoW_corpus = [dictionary.doc2bow(doc, allow_update=True) for doc in test_tokens]"
      ],
      "execution_count": 88,
      "outputs": []
    },
    {
      "cell_type": "code",
      "metadata": {
        "id": "ALthllC1ixY-"
      },
      "source": [
        "# # Human-readable dictionary\n",
        "# id_words = [[(dictionary[id], count) for id, count in line] for line in BoW_corpus]\n",
        "# print(id_words)"
      ],
      "execution_count": 89,
      "outputs": []
    },
    {
      "cell_type": "code",
      "metadata": {
        "id": "xIbhA2GLv2c8"
      },
      "source": [
        "tfidf = models.TfidfModel(BoW_corpus)\n",
        "corpus_tfidf = tfidf[BoW_corpus]"
      ],
      "execution_count": 90,
      "outputs": []
    },
    {
      "cell_type": "code",
      "metadata": {
        "id": "Cho77FPuhntD"
      },
      "source": [
        "test_corpus_tfidf = tfidf[test_BoW_corpus]"
      ],
      "execution_count": 91,
      "outputs": []
    },
    {
      "cell_type": "code",
      "metadata": {
        "id": "NKDXV8aJxVIB"
      },
      "source": [
        "# # View td-idf\n",
        "# for doc in tfidf[BoW_corpus]:\n",
        "#    print([[dictionary[id], round(freq, 2)] for id, freq in doc])"
      ],
      "execution_count": 92,
      "outputs": []
    },
    {
      "cell_type": "markdown",
      "metadata": {
        "id": "PoQliexZWDUf"
      },
      "source": [
        "### Preprocess Text for BERT-type Embeddings"
      ]
    },
    {
      "cell_type": "code",
      "metadata": {
        "id": "NYAWijNUmSEn"
      },
      "source": [
        "document_list = df.Text.values"
      ],
      "execution_count": 93,
      "outputs": []
    },
    {
      "cell_type": "markdown",
      "metadata": {
        "id": "pkxfhe8hmac5"
      },
      "source": [
        "Yep. That's it!"
      ]
    },
    {
      "cell_type": "markdown",
      "metadata": {
        "id": "rU14eytxAhn4"
      },
      "source": [
        "### Get Common Words in Abstracts for Later Analysis"
      ]
    },
    {
      "cell_type": "code",
      "metadata": {
        "colab": {
          "base_uri": "https://localhost:8080/"
        },
        "id": "qg6paKLg-xpC",
        "outputId": "08136437-8264-4997-f6be-f6398f1fa543"
      },
      "source": [
        "import collections\n",
        "\n",
        "df['Common5Words'] = [0]*len(df)\n",
        "for i in range(len(tokens)):\n",
        "  elements_count = collections.Counter(tokens[i])\n",
        "  most_comm = elements_count.most_common(5)\n",
        "  Common5Words = []\n",
        "  for key, value in most_comm:\n",
        "    Common5Words.append(key)\n",
        "    # print(f\"{key}: {value}\")\n",
        "  df['Common5Words'].iloc[i] = Common5Words\n",
        "dataset = df.copy()\n",
        "dataset = dataset[['Title', 'Common5Words']]"
      ],
      "execution_count": 94,
      "outputs": [
        {
          "output_type": "stream",
          "text": [
            "/usr/local/lib/python3.7/dist-packages/pandas/core/indexing.py:1637: SettingWithCopyWarning:\n",
            "\n",
            "\n",
            "A value is trying to be set on a copy of a slice from a DataFrame\n",
            "\n",
            "See the caveats in the documentation: https://pandas.pydata.org/pandas-docs/stable/user_guide/indexing.html#returning-a-view-versus-a-copy\n",
            "\n"
          ],
          "name": "stderr"
        }
      ]
    },
    {
      "cell_type": "code",
      "metadata": {
        "colab": {
          "base_uri": "https://localhost:8080/"
        },
        "id": "N8_fqu5mB6iz",
        "outputId": "9c6c3f54-3a2b-4b7c-9a26-31d7f108fb59"
      },
      "source": [
        "df_test['Common5Words'] = [0]*len(df_test)\n",
        "for i in range(len(test_tokens)):\n",
        "  elements_count = collections.Counter(test_tokens[i])\n",
        "  most_comm = elements_count.most_common(5)\n",
        "  Common5Words = []\n",
        "  for key, value in most_comm:\n",
        "    Common5Words.append(key)\n",
        "    # print(f\"{key}: {value}\")\n",
        "  df_test['Common5Words'].iloc[i] = Common5Words"
      ],
      "execution_count": 95,
      "outputs": [
        {
          "output_type": "stream",
          "text": [
            "/usr/local/lib/python3.7/dist-packages/pandas/core/indexing.py:1637: SettingWithCopyWarning:\n",
            "\n",
            "\n",
            "A value is trying to be set on a copy of a slice from a DataFrame\n",
            "\n",
            "See the caveats in the documentation: https://pandas.pydata.org/pandas-docs/stable/user_guide/indexing.html#returning-a-view-versus-a-copy\n",
            "\n"
          ],
          "name": "stderr"
        }
      ]
    },
    {
      "cell_type": "markdown",
      "metadata": {
        "id": "RrThOJkXYNIM"
      },
      "source": [
        "## Number of Clusters = 9\n",
        "I could get rid of this analysis or show how ineffective it is in determining the number of clusters.  Although the analysis show 3 topics are sufficient, we know that there are more than 3 topics in the abstract."
      ]
    },
    {
      "cell_type": "code",
      "metadata": {
        "id": "U3633Hehxhwg"
      },
      "source": [
        "def compute_coherence_values(dictionary, doc_term_matrix, doc_clean, stop, start=2, step=3):\n",
        "    coherence_values = []\n",
        "    model_list = []\n",
        "    for num_topics in range(start, stop, step):\n",
        "        # generate LSA model\n",
        "        model = models.LsiModel(doc_term_matrix, num_topics=num_topics, id2word = dictionary)  # train model\n",
        "        model_list.append(model)\n",
        "        coherencemodel = models.CoherenceModel(model=model, texts=doc_clean, dictionary=dictionary, coherence='u_mass')\n",
        "        coherence_values.append(coherencemodel.get_coherence())\n",
        "    return model_list, coherence_values"
      ],
      "execution_count": 96,
      "outputs": []
    },
    {
      "cell_type": "code",
      "metadata": {
        "id": "yUh3PwK_xLtz"
      },
      "source": [
        "def plot_graph(dictionary, doc_term_matrix, doc_clean, start, stop, step):\n",
        "    model_list, coherence_values = compute_coherence_values(dictionary, doc_term_matrix, doc_clean, stop, start, step)\n",
        "    x = range(start, stop, step)\n",
        "    plt.plot(x, coherence_values)\n",
        "    plt.xlabel(\"Number of Topics\")\n",
        "    plt.ylabel(\"U-mass Coherence score\")\n",
        "    plt.legend((\"coherence_values\"), loc='best')\n",
        "    plt.show()"
      ],
      "execution_count": 97,
      "outputs": []
    },
    {
      "cell_type": "code",
      "metadata": {
        "colab": {
          "base_uri": "https://localhost:8080/",
          "height": 279
        },
        "id": "hy06mJ7RylRW",
        "outputId": "d59fd612-cb3d-44f3-fb5d-248a4f84c1f9"
      },
      "source": [
        "start,stop,step = 1,20,1\n",
        "plot_graph(dictionary, BoW_corpus, tokens, start, stop, step)"
      ],
      "execution_count": 98,
      "outputs": [
        {
          "output_type": "display_data",
          "data": {
            "image/png": "[encoded data removed]",
            "text/plain": [
              "<Figure size 432x288 with 1 Axes>"
            ]
          },
          "metadata": {
            "tags": [],
            "needs_background": "light"
          }
        }
      ]
    },
    {
      "cell_type": "code",
      "metadata": {
        "id": "dXuYj1-6Jikt"
      },
      "source": [
        "no_clusters = 9 #Not effective for selecting number of clusers. Varies with each run: 4, 7, 9, 11, etc."
      ],
      "execution_count": 99,
      "outputs": []
    },
    {
      "cell_type": "markdown",
      "metadata": {
        "id": "A2O-Mr0i1gwS"
      },
      "source": [
        "## Latent Semantic Analysis (LSA/LSI)"
      ]
    },
    {
      "cell_type": "code",
      "metadata": {
        "id": "8OtuqEBvxVx1"
      },
      "source": [
        "lsi_model = models.LsiModel(corpus_tfidf, id2word=dictionary, num_topics=no_clusters)  # initialize an LSI transformation\n",
        "corpus_lsi = lsi_model[corpus_tfidf]\n",
        "test_corpus_lsi = lsi_model[test_corpus_tfidf]"
      ],
      "execution_count": 100,
      "outputs": []
    },
    {
      "cell_type": "code",
      "metadata": {
        "id": "5eTiK_B6f2Gn"
      },
      "source": [
        "# lsi_model.print_topics(9)"
      ],
      "execution_count": 101,
      "outputs": []
    },
    {
      "cell_type": "code",
      "metadata": {
        "id": "XNtb_fXFS2Lt"
      },
      "source": [
        "def Sort_Tuple(tup): \n",
        "    tup.sort(key = lambda x: abs(x[1]), reverse = True) \n",
        "    return tup "
      ],
      "execution_count": 102,
      "outputs": []
    },
    {
      "cell_type": "code",
      "metadata": {
        "id": "OitfKLQHOedN"
      },
      "source": [
        "cluster_lsa = []\n",
        "for i in range(len(corpus_lsi)):\n",
        "  x = lsi_model[corpus_lsi[i]]\n",
        "  x = Sort_Tuple(x)\n",
        "  cluster_lsa.append(x[0][0])\n",
        "dataset['LSA_Topic'] = cluster_lsa\n",
        "dataset[\"LSA_Topic\"] = pd.to_numeric(dataset[\"LSA_Topic\"])"
      ],
      "execution_count": 103,
      "outputs": []
    },
    {
      "cell_type": "code",
      "metadata": {
        "id": "fsvplM8I0_Ni"
      },
      "source": [
        "# dic1 = {0: 'transport_structur_flow_ground',\n",
        "#     1: 'feq_structur_unsteadi_stream',\n",
        "#     2: 'water_balance_transport_watersh',\n",
        "#     3: 'transport_rainfall_veget_balance',\n",
        "#     4: 'hydraul_modflow_veget',\n",
        "#     5: 'wave_reef_ocean_flood',\n",
        "#     6: 'veget_month_tool_reservoir',\n",
        "#     7: 'watersh_cblcm_land_contam',\n",
        "#     8: 'reservoir_veget_balanc'}\n",
        "# dataset.replace({\"LSA_Topic\": dic1},inplace=True)"
      ],
      "execution_count": 104,
      "outputs": []
    },
    {
      "cell_type": "code",
      "metadata": {
        "id": "fggecen0LGbE"
      },
      "source": [
        "# for doc, as_text in zip(corpus_lsi, document_list):\n",
        "#     print(doc, as_text)"
      ],
      "execution_count": 105,
      "outputs": []
    },
    {
      "cell_type": "markdown",
      "metadata": {
        "id": "1InXrkEGh4PD"
      },
      "source": [
        "#### Train Set LSA Results"
      ]
    },
    {
      "cell_type": "markdown",
      "metadata": {
        "id": "uU6VGwqhyThX"
      },
      "source": [
        "##### LSA Training Coherence Score -10.4"
      ]
    },
    {
      "cell_type": "code",
      "metadata": {
        "colab": {
          "base_uri": "https://localhost:8080/"
        },
        "id": "fBkRmvAgqXZV",
        "outputId": "1f5d3ef1-0134-47c3-db86-ff9cd739f5a3"
      },
      "source": [
        "cm = models.CoherenceModel(model= lsi_model, corpus = BoW_corpus, texts=document_list, dictionary=dictionary, coherence='u_mass')\n",
        "lsa_score = cm.get_coherence()\n",
        "lsa_score"
      ],
      "execution_count": 106,
      "outputs": [
        {
          "output_type": "execute_result",
          "data": {
            "text/plain": [
              "-11.24152838372912"
            ]
          },
          "metadata": {
            "tags": []
          },
          "execution_count": 106
        }
      ]
    },
    {
      "cell_type": "markdown",
      "metadata": {
        "id": "DvKDEEnSyZjV"
      },
      "source": [
        "##### LSA Training Silhouette Score 0.11\n"
      ]
    },
    {
      "cell_type": "code",
      "metadata": {
        "colab": {
          "base_uri": "https://localhost:8080/"
        },
        "id": "VhBKSnOtilye",
        "outputId": "942d6336-a361-415d-d28a-91bbc0f657e1"
      },
      "source": [
        "X = np.array([[tup[1] for tup in arr] for arr in corpus_lsi])\n",
        "score = metrics.silhouette_score(X, cluster_lsa)\n",
        "score"
      ],
      "execution_count": 107,
      "outputs": [
        {
          "output_type": "execute_result",
          "data": {
            "text/plain": [
              "-0.06475219630877946"
            ]
          },
          "metadata": {
            "tags": []
          },
          "execution_count": 107
        }
      ]
    },
    {
      "cell_type": "markdown",
      "metadata": {
        "id": "fOO_F71AiJEq"
      },
      "source": [
        "#### Test Set LSA Results\n",
        "We transform the training corpus with the LSA model; however, once the transformation model has been initialized it can be used on any corpus provided it comes from the same vector space. "
      ]
    },
    {
      "cell_type": "code",
      "metadata": {
        "id": "ReUyImrfAPD6"
      },
      "source": [
        "test_cluster_lsa = []\n",
        "for i in range(len(test_corpus_lsi)):\n",
        "  x = lsi_model[test_corpus_lsi[i]]\n",
        "  x = Sort_Tuple(x)\n",
        "  test_cluster_lsa.append(x[0][0])\n",
        "df_test['LSA_Topic'] = test_cluster_lsa\n",
        "df_test[\"LSA_Topic\"] = pd.to_numeric(df_test[\"LSA_Topic\"])"
      ],
      "execution_count": 108,
      "outputs": []
    },
    {
      "cell_type": "markdown",
      "metadata": {
        "id": "nJvtOb2AjG1F"
      },
      "source": [
        "##### LSA Testing Coherence Score n/a"
      ]
    },
    {
      "cell_type": "code",
      "metadata": {
        "id": "rvu6wmuJjAfm"
      },
      "source": [
        "# cm2 = models.CoherenceModel(model= lsi_model, corpus = test_BoW_corpus, texts=document_list, dictionary=dictionary, coherence='u_mass')\n",
        "# lsa_score = cm2.get_coherence()\n",
        "# lsa_score\n",
        "\n",
        "# ZeroDivisionError: float division by zero"
      ],
      "execution_count": 109,
      "outputs": []
    },
    {
      "cell_type": "markdown",
      "metadata": {
        "id": "0r0i2wf7pUqH"
      },
      "source": [
        "##### LSA Testing Silhouette Score 0.05"
      ]
    },
    {
      "cell_type": "code",
      "metadata": {
        "colab": {
          "base_uri": "https://localhost:8080/"
        },
        "id": "5OxDNnW4pW1c",
        "outputId": "8c1966e6-4337-4e3f-d299-4c4cadb1af90"
      },
      "source": [
        "X = np.array([[tup[1] for tup in arr] for arr in test_corpus_lsi])\n",
        "score = metrics.silhouette_score(X, test_cluster_lsa)\n",
        "score"
      ],
      "execution_count": 110,
      "outputs": [
        {
          "output_type": "execute_result",
          "data": {
            "text/plain": [
              "0.10786842269570387"
            ]
          },
          "metadata": {
            "tags": []
          },
          "execution_count": 110
        }
      ]
    },
    {
      "cell_type": "markdown",
      "metadata": {
        "id": "3HI6nJ5PUW5D"
      },
      "source": [
        "## Latent Dirichlet Allocation (LDA)"
      ]
    },
    {
      "cell_type": "code",
      "metadata": {
        "id": "C-lN5qKr1b12"
      },
      "source": [
        "%%capture\n",
        "lda_model = models.LdaModel(corpus_tfidf, id2word=dictionary, num_topics=no_clusters, iterations=100)"
      ],
      "execution_count": 111,
      "outputs": []
    },
    {
      "cell_type": "code",
      "metadata": {
        "id": "5bEX7aOp5QzL"
      },
      "source": [
        "corpus_lda = lda_model[corpus_tfidf]"
      ],
      "execution_count": 112,
      "outputs": []
    },
    {
      "cell_type": "code",
      "metadata": {
        "id": "OQe8dUTnf6uE"
      },
      "source": [
        "# lda_model.print_topics(9)"
      ],
      "execution_count": 113,
      "outputs": []
    },
    {
      "cell_type": "code",
      "metadata": {
        "id": "IF0ViZPxQw4G"
      },
      "source": [
        "cluster_lda = []\n",
        "for i in range(len(corpus_lda)):\n",
        "  x = lda_model[corpus_lda[i]]\n",
        "  x = Sort_Tuple(x)\n",
        "  cluster_lda.append(x[0][0])\n",
        "dataset['LDA_Topic'] = cluster_lda"
      ],
      "execution_count": 114,
      "outputs": []
    },
    {
      "cell_type": "code",
      "metadata": {
        "id": "oO7STLJnU0nj"
      },
      "source": [
        "# dic2 = {0: 'structur_flow_record_conduct',\n",
        "#       1: 'reef_migrat_flodd_dispers',\n",
        "#       2: 'subduct_erupt_ash_feq_volcan',\n",
        "#       3: 'subduc_structur_map_watersh',\n",
        "#       4: 'cblcm_veget_land_submers',\n",
        "#       5: 'scoops3d_dem_site_goal_statement',\n",
        "#       6: 'reservoir_veget_keyword_modul',\n",
        "#       7: 'threshold_rainfal_speci_precip',\n",
        "#       8: 'psd_perman_channel_network_streamflow'}\n",
        "# dataset.replace({\"LDA_Topic\": dic2}, inplace=True)"
      ],
      "execution_count": 115,
      "outputs": []
    },
    {
      "cell_type": "markdown",
      "metadata": {
        "id": "jCgEkKd_h6mS"
      },
      "source": [
        "#### Train Set LDA Results"
      ]
    },
    {
      "cell_type": "markdown",
      "metadata": {
        "id": "6oncoLueyDoM"
      },
      "source": [
        "##### LDA Training Coherence Score -12.2"
      ]
    },
    {
      "cell_type": "code",
      "metadata": {
        "colab": {
          "base_uri": "https://localhost:8080/"
        },
        "id": "KgqOoZ9EoxP6",
        "outputId": "e8ce05b2-0aa6-48cd-be83-a44d899107eb"
      },
      "source": [
        "cm = models.CoherenceModel(model= lda_model, corpus = BoW_corpus, texts=document_list, dictionary=dictionary, coherence='u_mass')\n",
        "lda_score = cm.get_coherence()\n",
        "lda_score"
      ],
      "execution_count": 116,
      "outputs": [
        {
          "output_type": "execute_result",
          "data": {
            "text/plain": [
              "-13.748435167814588"
            ]
          },
          "metadata": {
            "tags": []
          },
          "execution_count": 116
        }
      ]
    },
    {
      "cell_type": "markdown",
      "metadata": {
        "id": "uYyxeiQKy3IK"
      },
      "source": [
        "##### LDA Training Silhouette Score -0.13"
      ]
    },
    {
      "cell_type": "code",
      "metadata": {
        "colab": {
          "base_uri": "https://localhost:8080/"
        },
        "id": "xZ-dCornkIQu",
        "outputId": "12a4f49c-b89f-4182-d84d-5a1b2404c1f0"
      },
      "source": [
        "# LDA_score = metrics.silhouette_score(X, cluster_lda)\n",
        "# LDA_score\n",
        "\n",
        "X = np.array([[tup[1] for tup in arr] for arr in corpus_lsi])\n",
        "LDA_score = metrics.silhouette_score(X, cluster_lsa)\n",
        "LDA_score"
      ],
      "execution_count": 117,
      "outputs": [
        {
          "output_type": "execute_result",
          "data": {
            "text/plain": [
              "-0.06475219630877946"
            ]
          },
          "metadata": {
            "tags": []
          },
          "execution_count": 117
        }
      ]
    },
    {
      "cell_type": "markdown",
      "metadata": {
        "id": "rf0urzg348oT"
      },
      "source": [
        "##### pyLDAvis for Training"
      ]
    },
    {
      "cell_type": "code",
      "metadata": {
        "id": "gXzX7iRz4_3n"
      },
      "source": [
        "%%capture\n",
        "!pip install pyLDAvis==3.3.1\n",
        "import pyLDAvis.gensim_models as gensimvis\n",
        "import pyLDAvis"
      ],
      "execution_count": 118,
      "outputs": []
    },
    {
      "cell_type": "code",
      "metadata": {
        "colab": {
          "base_uri": "https://localhost:8080/",
          "height": 861
        },
        "id": "GI1Uut5F5DVj",
        "outputId": "56615333-54b7-4c8b-b930-7721dde5ab3e"
      },
      "source": [
        "vis_data1 = gensimvis.prepare(lda_model, BoW_corpus, dictionary)\n",
        "pyLDAvis.display(vis_data1)"
      ],
      "execution_count": 119,
      "outputs": [
        {
          "output_type": "execute_result",
          "data": {
            "text/html": [
              "\n",
              "<link rel=\"stylesheet\" type=\"text/css\" href=\"https://cdn.jsdelivr.net/gh/bmabey/pyLDAvis@3.3.1/pyLDAvis/js/ldavis.v1.0.0.css\">\n",
              "\n",
              "\n",
              "<div id=\"ldavis_el4471396831495189282687330609\"></div>\n",
              "<script type=\"text/javascript\">\n",
              "\n",
              "var ldavis_el4471396831495189282687330609_data = {\"mdsDat\": {\"x\": [-0.01760881586835836, 0.009193155309745243, 0.004006542821647878, -0.005492967213292795, 0.0011091758675204053, 0.0053661169807849305, 0.0025290002869026687, 0.0007919335591464221, 0.00010585825590360744], \"y\": [0.007960967107989339, 0.0015205854357325792, 0.0029692934142395103, -0.01728957328730117, 3.5606777668500475e-05, 0.0027130555659398204, 0.001726922533232781, 0.00048488631219280163, -0.00012174385969418181], \"topics\": [1, 2, 3, 4, 5, 6, 7, 8, 9], \"cluster\": [1, 1, 1, 1, 1, 1, 1, 1, 1], \"Freq\": [24.322495782645557, 19.243248368464656, 12.27263181002214, 11.481061938869901, 9.629782841670307, 8.425442482099427, 7.926732159822709, 6.618011603446837, 0.08059301295846324]}, \"tinfo\": {\"Term\": [\"structur\", \"veget\", \"subduct\", \"threshold\", \"reef\", \"feq\", \"psd\", \"erupt\", \"speci\", \"cblcm\", \"map\", \"reservoir\", \"vs2drti\", \"fish\", \"flood\", \"ash\", \"oteq\", \"ocean\", \"month\", \"site\", \"migrat\", \"land\", \"count\", \"keyword\", \"ground\", \"earthquak\", \"degrad\", \"unsteadi\", \"scoops3d\", \"precipit\", \"reservoir\", \"scoops3d\", \"3d\", \"streamflow\", \"groundwat\", \"massachusett\", \"cell\", \"dem\", \"modflow\", \"dri\", \"modul\", \"perman\", \"rainfal\", \"station\", \"attribut\", \"nwt\", \"lpf\", \"safeti\", \"unsatur\", \"mor\", \"watersh\", \"materi\", \"heterogen\", \"packag\", \"upw\", \"consist\", \"1dtemppro\", \"known\", \"network\", \"prosper\", \"regress\", \"u\", \"contamin\", \"stabil\", \"hydraul\", \"stream\", \"new\", \"flow\", \"keyword\", \"matlab\", \"vflux\", \"constitu\", \"ground\", \"saltwat\", \"dissolv\", \"dispers\", \"isotop\", \"lagrangian\", \"appendic\", \"onedimension\", \"phreeqc\", \"distanc\", \"revers\", \"discuss\", \"chemic\", \"freshwat\", \"sharp\", \"confin\", \"aqueous\", \"calcul\", \"plot\", \"doubl\", \"flux\", \"sensor\", \"toolbox\", \"kalkan\", \"attenu\", \"gk15\", \"fluid\", \"transport\", \"temperatur\", \"time\", \"aquif\", \"data\", \"present\", \"ocean\", \"degrad\", \"site\", \"month\", \"articl\", \"fractur\", \"goal\", \"rock\", \"statement\", \"atmospher\", \"aerob\", \"submers\", \"locat\", \"classroom\", \"thornthwait\", \"monod\", \"spreadsheet\", \"hurrican\", \"balanc\", \"veget\", \"driven\", \"identifi\", \"anaerob\", \"inhibit\", \"biomass\", \"impact\", \"fig\", \"ltrm\", \"mississippi\", \"wildlif\", \"refer\", \"redox\", \"coupl\", \"tool\", \"aquat\", \"wave\", \"coastal\", \"compon\", \"base\", \"sediment\", \"structur\", \"feq\", \"unsteadi\", \"fe\", \"maximum\", \"flexibl\", \"follow\", \"quasi\", \"fastmech\", \"usg\", \"well\", \"klamath\", \"span\", \"california\", \"huc\", \"interv\", \"screen\", \"inflow\", \"later\", \"evapor\", \"file\", \"foreign\", \"nt\", \"initi\", \"os\", \"edit\", \"mac\", \"text\", \"98\", \"discharg\", \"channel\", \"flow\", \"dimension\", \"hydraul\", \"stream\", \"open\", \"three\", \"control\", \"program\", \"simul\", \"threshold\", \"vs2drti\", \"map\", \"count\", \"circl\", \"isopleth\", \"microcomput\", \"thresh\", \"precipit\", \"wateq4f\", \"ptcount\", \"iv\", \"adapt\", \"wateq2\", \"vi\", \"heat\", \"view\", \"vs2di\", \"postprocessor\", \"anteced\", \"python\", \"list\", \"see\", \"run\", \"thermodynam\", \"execut\", \"desir\", \"complet\", \"revis\", \"reactiv\", \"autom\", \"softwar\", \"contamin\", \"packag\", \"program\", \"user\", \"transport\", \"subduct\", \"psd\", \"oteq\", \"veget\", \"lsp\", \"crop\", \"earthquak\", \"select\", \"nurp\", \"slide\", \"dissolut\", \"record\", \"solid\", \"rainf\", \"fault\", \"urban\", \"psds\", \"scms\", \"zone\", \"form\", \"waterborn\", \"submodel\", \"streamb\", \"consid\", \"ph\", \"group\", \"geometri\", \"block\", \"call\", \"seismic\", \"conduct\", \"may\", \"analysi\", \"sorption\", \"runoff\", \"erupt\", \"cblcm\", \"ash\", \"migrat\", \"volcan\", \"migratori\", \"bodi\", \"land\", \"anim\", \"forag\", \"infil\", \"redevelop\", \"size\", \"larger\", \"convers\", \"volcano\", \"high\", \"employ\", \"thermal\", \"hydrotherm\", \"6\", \"109\", \"atm\", \"releas\", \"dimens\", \"alloc\", \"array\", \"energi\", \"104\", \"pa\", \"abil\", \"specifi\", \"hypothesi\", \"boundari\", \"watersh\", \"pressur\", \"1\", \"phase\", \"develop\", \"simul\", \"3\", \"ground\", \"chang\", \"reef\", \"flood\", \"fish\", \"coast\", \"speci\", \"000\", \"coral\", \"13\", \"bewar\", \"climat\", \"km\", \"percent\", \"warm\", \"33\", \"cool\", \"cold\", \"4\", \"occurr\", \"bayesian\", \"incid\", \"flat\", \"make\", \"xbnh\", \"line\", \"lake\", \"project\", \"great\", \"vulner\", \"suitabl\", \"21st\", \"hydrodynam\", \"hazard\", \"wave\", \"futur\", \"induc\", \"stream\", \"predict\", \"bank\", \"built\", \"delawar\", \"drainag\", \"facet\", \"floodplain\", \"hand\", \"identif\", \"metric\", \"nearest\", \"tune\", \"along\", \"carolina\", \"close\", \"exposur\", \"harker\", \"mode\", \"nccos\", \"north\", \"purpos\", \"rei\", \"rwe\", \"servic\", \"unitless\", \"wemo\", \"2018\", \"al\", \"fundament\", \"hot\", \"landsat\", \"transport\", \"structur\", \"program\", \"simul\", \"user\", \"rainfal\", \"statement\", \"flow\", \"water\", \"balanc\", \"reservoir\", \"size\", \"estim\", \"stream\", \"data\", \"watersh\", \"veget\", \"dimension\", \"impact\", \"precipit\", \"present\", \"speci\", \"vflux\", \"includ\", \"input\", \"softwar\", \"tool\", \"rock\", \"method\", \"packag\"], \"Freq\": [4.0, 4.0, 3.0, 3.0, 3.0, 3.0, 3.0, 3.0, 3.0, 3.0, 3.0, 5.0, 3.0, 3.0, 3.0, 3.0, 3.0, 3.0, 4.0, 4.0, 3.0, 3.0, 3.0, 4.0, 4.0, 3.0, 3.0, 3.0, 5.0, 4.0, 4.039673931206812, 3.37839473869602, 2.839629448403086, 2.7216919304140252, 2.3286981736467727, 2.2909925123645274, 2.559905365573784, 2.243938978619247, 2.5964367012454175, 2.13224478880428, 2.5235737608800513, 2.3527695351780773, 2.606668788145757, 2.031411337214693, 2.031410257587785, 2.0177887591273196, 2.017727066161173, 1.9663488554889752, 1.966293794516689, 1.953109699186207, 2.6335144823647, 1.9072062765623252, 1.8707111855083027, 2.606799268769158, 1.8069704755822884, 1.7504415191664635, 1.6881157374190345, 1.6881004684099132, 2.370627489623869, 1.6569711230865414, 1.7515721970035258, 1.9633643040191904, 2.1107480289827127, 1.8648304577427388, 2.151456749624587, 2.0724862056106508, 1.8881431500228483, 1.8762308551894904, 2.570080174830072, 2.2080988527602554, 2.208061269311904, 2.0431476604543515, 2.4027532937061453, 1.7998726838085732, 1.8276313550689298, 1.8245114407590421, 1.6429126111962677, 1.565848848569625, 1.5658238336121184, 1.5658050418879428, 1.6340604888677128, 1.4909999468878652, 1.4638776317416382, 1.4638345572050537, 1.672015744904463, 1.4626108986983442, 1.4626017468846222, 1.4625840533780932, 1.5264800643974814, 1.9045150100015256, 1.512729769340782, 1.3527681458760585, 1.7582695148222733, 1.3294517649963131, 1.329448592367556, 1.312123354822716, 1.3121198161214103, 1.3121187179037637, 1.5271953701579852, 2.2460547189179203, 1.7617618469385508, 1.6643462809571437, 1.503432136720245, 1.558618183584225, 1.5425338099558918, 1.577951605394667, 1.4594509596482226, 1.620611414508938, 1.6176989849320702, 1.1762263663538894, 1.1762209966007684, 1.1762068329041302, 1.1761810736536507, 1.1761340688582138, 1.2074559166360732, 1.1275092422514956, 1.022761779408321, 0.9623302664934759, 0.9623173479569815, 0.9623120560263695, 0.9615458934252509, 1.0111679376623128, 0.937833764045074, 1.3230914488911225, 1.2790807966656055, 0.8374250617237445, 0.9964187044663343, 0.7955904046724152, 0.7955893151572891, 0.7955855018543481, 0.9145175177681871, 0.781074872470968, 0.7810695027178468, 0.7810675571551218, 0.7810618761119646, 0.8374329996196627, 0.8368123651103766, 1.0384533653657972, 1.1676360065202807, 0.9846642370617472, 1.19676489381699, 0.8970621624667036, 0.8527760963818306, 0.912598025583668, 0.8595884453522848, 2.7192839592457942, 1.856395692192401, 1.3490028328843973, 1.0856968372466433, 1.106841464321033, 1.1094037677196582, 1.1093971426419689, 1.102639126580574, 0.9537710827952065, 1.1738303185504486, 1.1242989808506467, 0.8486928368537185, 0.8486870126095961, 0.8486869398065445, 0.8486858477607716, 0.8387649759286742, 0.8387643935042619, 0.8871703416335013, 0.8871361241992818, 0.8136731858094411, 1.1545746394510765, 0.7868721256463688, 0.7868642629168034, 0.7868562545811351, 0.7868540704895891, 0.7868533424590738, 0.7868497751095488, 0.7868488286698789, 0.7868318655588723, 1.0434069278704006, 1.1365226860057138, 1.2594585740480289, 1.0532761095359113, 1.0682136940428908, 1.0801299519113434, 0.9441601335534755, 0.9780116596359418, 0.835270647864352, 0.9283700981161223, 0.9055544954029987, 1.6483030793744857, 1.3035415989889299, 1.3286549526087625, 1.1256801360954185, 1.0147326587441063, 0.9038551605381808, 0.8636778493845408, 0.7671491902380563, 1.0331915207865703, 0.7462046030025227, 0.6820567477455534, 0.6552801986781654, 0.6552747029337633, 0.6552726878274826, 0.6552704895297217, 0.8150987052527983, 0.5934919718121507, 0.5934909337270969, 0.5934864760677486, 0.5909286955591849, 0.5909242378998366, 0.587827324865427, 0.5711623348596347, 0.7242288919895019, 0.576959246054969, 0.5769593071187957, 0.5769593681826224, 0.5769573530763417, 0.5769580247784352, 0.5267763215790405, 0.6417049161752334, 0.739284239523746, 0.7370642030406046, 0.7924611844861114, 0.7587047957727507, 0.6837195157463218, 0.5921216384774006, 1.4410664897641605, 1.2801275787960396, 1.010042466513768, 1.268910914843465, 0.8607435210857697, 0.8607348659226771, 0.9531573153453767, 0.8595677545784901, 0.7434975296441085, 0.7296860264255934, 0.6887666058279245, 0.8790653793872607, 0.7336629135858544, 0.6427799078011224, 0.6182537400894048, 0.6093406317658515, 0.6093383878346793, 0.6093241228436563, 0.7866343816553337, 0.5495729907260218, 0.5281291296139305, 0.528127259671287, 0.5281241074822595, 0.5281219704049527, 0.5281164674308876, 0.5281004927780191, 0.5409614240104608, 0.6963829356416996, 0.5930314728719234, 0.540961691145124, 0.7392297862623893, 0.5927180704848783, 0.6387629504413586, 0.5452363266011577, 0.5418279554314435, 1.1089386804064558, 1.0520602324105266, 0.956878999061304, 0.9112050195376308, 0.8047904156060111, 0.783181137218428, 0.7523613846356261, 0.8852195595583738, 0.68540745998636, 0.6729387378197241, 0.6242690922783328, 0.6242562245562526, 0.7775456278572331, 0.5876209150322118, 0.5714233682765226, 0.5006178227685083, 0.5295685889837004, 0.4442796683063292, 0.4442767529630454, 0.4442767529630454, 0.4442765519048879, 0.44427650164034854, 0.44427630058219103, 0.44427625031765167, 0.4442752952914035, 0.4442722291545016, 0.44427117359917473, 0.4442689619594422, 0.4442689619594422, 0.44426815772681216, 0.505838398357156, 0.5615928809881036, 0.47111530270458823, 0.615566893105282, 0.6470628042717669, 0.5058327184642066, 0.5330075379741734, 0.4732252572739656, 0.5163940521551497, 0.560471629908248, 0.5025101821469279, 0.5058409115841249, 0.4619014105206919, 1.0723788190919978, 0.8031942636450669, 0.811994314739435, 0.6237212469307096, 0.8576500353397026, 0.5370625910235689, 0.5339967827453992, 0.4767362297726651, 0.44427299001217907, 0.5883698399356716, 0.5180442980887856, 0.5151527316280269, 0.4164060076722426, 0.41640365758992687, 0.41639631358269014, 0.4163953064045548, 0.47162073005760047, 0.42926276246691636, 0.35454474890886123, 0.35454462301159434, 0.35454445514857175, 0.35454281848410185, 0.35453375388088393, 0.4271148291960717, 0.37106121135550046, 0.4193823869251467, 0.3445362519151272, 0.2969502954013895, 0.2957475778276683, 0.29574631885499914, 0.42710777894912444, 0.3208300903152355, 0.5111496601634273, 0.325715177048967, 0.3431173057854787, 0.39229940883204845, 0.3571317698809514, 0.002274522878136243, 0.002274522878136243, 0.002274522878136243, 0.002274522878136243, 0.002274522878136243, 0.002274522878136243, 0.002274522878136243, 0.002274522878136243, 0.002274522878136243, 0.002274522878136243, 0.002274522878136243, 0.002274522878136243, 0.002274522878136243, 0.002274522878136243, 0.002274522878136243, 0.002274522878136243, 0.002274522878136243, 0.002274522878136243, 0.002274522878136243, 0.002274522878136243, 0.002274522878136243, 0.002274522878136243, 0.002274522878136243, 0.002274522878136243, 0.002274522878136243, 0.002274522878136243, 0.002274522878136243, 0.002274522878136243, 0.002274522878136243, 0.002274522878136243, 0.0022749746479201797, 0.0022749585497887385, 0.0022749135772310615, 0.0022748601723188203, 0.002274836663936398, 0.002274834619729231, 0.002274810855820913, 0.0022747998682073898, 0.0022747957797930557, 0.002274795013215368, 0.002274792202430513, 0.0022747822369205734, 0.0022747740600919048, 0.0022747704827293623, 0.002274766649840924, 0.00227475693985688, 0.0022747564288050884, 0.0022747536180202335, 0.00227475259591665, 0.0022747510627612747, 0.002274738030940584, 0.002274735731207521, 0.002274730876215499, 0.00227472832095654, 0.00227472832095654, 0.00227472832095654, 0.00227472832095654, 0.002274722443860935, 0.002274716566765329, 0.002274714778084058], \"Total\": [4.0, 4.0, 3.0, 3.0, 3.0, 3.0, 3.0, 3.0, 3.0, 3.0, 3.0, 5.0, 3.0, 3.0, 3.0, 3.0, 3.0, 3.0, 4.0, 4.0, 3.0, 3.0, 3.0, 4.0, 4.0, 3.0, 3.0, 3.0, 5.0, 4.0, 5.87892413818795, 5.217461777051512, 4.678666818181875, 4.6031215643917385, 4.167737624598331, 4.130095289033772, 4.625242683573339, 4.082966286805901, 4.742698094819399, 3.971264256478432, 4.719528052971019, 4.404120125608458, 4.959445270193733, 3.8704610360105, 3.870460102658394, 3.856809693491646, 3.856773144241156, 3.8053672786142174, 3.8053369503370944, 3.7921177464655518, 5.126001934335989, 3.7462260723012304, 3.7097356146868443, 5.23656534986092, 3.6459925933296513, 3.589456550260591, 3.527126906388743, 3.5271177638345796, 4.992668959974741, 3.495974562602224, 3.6995848117154706, 4.170451330485266, 4.564968471156643, 4.025653830553847, 4.912049070115951, 5.0202051013084255, 4.3698159289831695, 5.748526913356004, 4.500582972349447, 4.138664775163465, 4.138642377368141, 3.9736630834707753, 4.864270018171258, 3.7303566238114674, 3.8746738744603473, 3.8854628945480694, 3.573374842347681, 3.4963182467731353, 3.496309274638589, 3.496300290613771, 3.708684309373116, 3.421461005551553, 3.394356257762499, 3.3943352786660563, 3.878484766839047, 3.39307573576334, 3.39307300457706, 3.393066112606316, 3.5874045109764268, 4.539389480743662, 3.6459428702644168, 3.2832390318266382, 4.289625658789839, 3.2599409932964436, 3.2599437976832903, 3.2425753660664993, 3.2425720952694745, 3.242572073685488, 3.8485250021220736, 6.411154481785369, 4.852702910572072, 4.698055741768295, 4.023271855363801, 4.540704210885317, 4.450939319841265, 3.6616146999451398, 3.543023032427248, 4.228911199548907, 4.293709269411704, 3.2598598022299634, 3.259871144995686, 3.259868449149601, 3.259858820884698, 3.2598469356091737, 3.414579467783521, 3.211078055857721, 3.106312095785878, 3.0459249229392586, 3.0459223027574516, 3.0459238395611177, 3.045103763783565, 3.24837665841191, 3.021417602712858, 4.493819513143139, 4.42481912493799, 2.9700166579394107, 3.554933679007266, 2.8791343119041644, 2.879135763261367, 2.8791339843947372, 3.314533714096685, 2.864613347482347, 2.8646129126758457, 2.864614554017821, 2.864612039205015, 3.0902830759665307, 3.089621729678287, 3.985857879934843, 4.605249288335236, 3.7782949080687085, 5.075732410160129, 3.467359017218009, 3.279511209617584, 4.166772887212338, 3.6780928537144755, 4.898732481786482, 3.9664644387009598, 3.459011461045047, 3.195710282023901, 3.4338184682481923, 3.4524853291301647, 3.4670759513816036, 3.4864969075570453, 3.063710227605836, 3.8933242719290932, 3.907070934145362, 2.9586039444771584, 2.9586017682016768, 2.9586028135783247, 2.9586008544068747, 2.9486736702766576, 2.9486743999382132, 3.127543517039305, 3.127542713319448, 2.923593124568013, 4.196219947421494, 2.896782904357227, 2.896783322317858, 2.896780186987115, 2.896784232754895, 2.896783478307872, 2.896781372289877, 2.896780632680977, 2.896781557817394, 3.9579720235366453, 4.922344565587126, 5.748526913356004, 4.729067726369924, 4.912049070115951, 5.0202051013084255, 4.002119532197707, 4.530593459822115, 3.5410587015305883, 5.605211803248085, 5.504836986126165, 3.791236921024522, 3.4463941452387625, 3.7166418378076833, 3.2685140910814394, 3.157603132532952, 3.046689595889095, 3.006485295596037, 2.909975596476475, 4.122381601138247, 2.996568986412121, 2.824870471828758, 2.798063744354683, 2.7980619391330532, 2.7980638959342023, 2.798064494176525, 3.6715088213618987, 2.7362761204166506, 2.7362777166145213, 2.736277884216413, 2.7337224113056364, 2.733722056808114, 2.730621594491413, 2.713955152974102, 3.4788157386554706, 2.85452113669376, 2.8733482406577684, 2.93206596036251, 2.9348805366573525, 2.952908112048087, 2.8043437139731004, 3.589132851614954, 4.340036031009645, 4.564968471156643, 5.23656534986092, 5.605211803248085, 4.657987411084412, 6.411154481785369, 3.6156221202064467, 3.4546600375920224, 3.18448267932651, 4.42481912493799, 3.035207468818216, 3.0352093291106743, 3.663121703063653, 3.307842264714534, 2.9179380100749905, 2.904127217969265, 2.8631796682327746, 3.676116056436772, 3.094098300142403, 2.817209404118895, 2.79268173233848, 2.783754833489399, 2.783753643914973, 2.783759486410571, 3.6133552176026504, 2.7240192467406654, 2.7025243884262093, 2.702525149788166, 2.7025299831106344, 2.702527984591093, 2.7025290953576455, 2.7025128408434718, 2.868976308797262, 3.7090232372320426, 3.203949432512616, 2.948534294700053, 4.336371629521685, 3.5255863088674895, 4.193997682407889, 3.5466370309889386, 3.438981562387776, 3.2938388024136884, 3.2369757204418947, 3.141728180700033, 3.194185380608874, 2.9896301891403745, 2.9680415812090044, 3.0719796115360927, 3.6709449753647805, 2.8702330577315864, 2.9559157624510646, 2.809087362460733, 2.8090894469886014, 3.55500292026202, 2.772427137430029, 2.7562347132063585, 2.685425676223491, 3.0630500076687173, 2.629066763365033, 2.6290672255553797, 2.6290685873268496, 2.6290684274065157, 2.629068890466683, 2.629068873299584, 2.629069621857133, 2.629070086587915, 2.629070835587942, 2.6290707315481887, 2.629070050788705, 2.629072450638532, 2.6290733899388985, 2.9979204334167173, 3.438645149632938, 2.8654377636042154, 4.253795073478531, 5.126001934335989, 3.421578831722986, 3.9160025597926564, 3.0415363358278715, 4.083302906045805, 5.504836986126165, 3.9542961939655017, 4.864270018171258, 4.072865532001713, 3.278646048868021, 3.009419979489131, 3.1163548232074634, 2.8299392954970197, 3.958835370734055, 2.743239375899077, 2.7401983656131703, 2.6828987459387657, 2.6504476870617766, 3.618834862297909, 3.1905504144091847, 3.235463513523242, 2.6225650451923253, 2.6225666904684792, 2.622568732001314, 2.6225687212401314, 3.021544771667776, 2.928901737123013, 2.560704982199698, 2.5607062728276895, 2.5607058696793237, 2.5607051451562777, 2.560709932972457, 3.102011822271335, 2.8116642487068964, 3.35420694432785, 2.885116632180204, 2.5030992745183194, 2.501891743643143, 2.5018936795411864, 3.722546152730524, 2.760142628430354, 5.075732410160129, 2.8245978435493164, 3.0832126440308243, 5.0202051013084255, 4.699648155840721, 2.3812189300717423, 2.3812189300717423, 2.3812189300717423, 2.3812189300717423, 2.3812189300717423, 2.3812189300717423, 2.3812189300717423, 2.3812189300717423, 2.3812189300717423, 2.3812189300717423, 2.3812189300717423, 2.3812189300717423, 2.3812189300717423, 2.3812189300717423, 2.3812189300717423, 2.3812189300717423, 2.3812189300717423, 2.3812189300717423, 2.3812189300717423, 2.3812189300717423, 2.3812189300717423, 2.3812189300717423, 2.3812189300717423, 2.3812189300717423, 2.3812189300717423, 2.3812189300717423, 2.3812189300717423, 2.3812189300717423, 2.3812189300717423, 2.3812189300717423, 6.411154481785369, 4.898732481786482, 5.605211803248085, 5.504836986126165, 4.657987411084412, 4.959445270193733, 3.2598469356091737, 5.748526913356004, 5.0644497343892825, 4.493819513143139, 5.87892413818795, 3.55500292026202, 4.142436550257254, 5.0202051013084255, 4.540704210885317, 5.126001934335989, 4.42481912493799, 4.729067726369924, 3.314533714096685, 4.122381601138247, 4.450939319841265, 3.958835370734055, 4.138642377368141, 4.143735160056829, 4.483457475669277, 4.340036031009645, 4.605249288335236, 3.259858820884698, 3.9446600320829783, 5.23656534986092], \"Category\": [\"Default\", \"Default\", \"Default\", \"Default\", \"Default\", \"Default\", \"Default\", \"Default\", \"Default\", \"Default\", \"Default\", \"Default\", \"Default\", \"Default\", \"Default\", \"Default\", \"Default\", \"Default\", \"Default\", \"Default\", \"Default\", \"Default\", \"Default\", \"Default\", \"Default\", \"Default\", \"Default\", \"Default\", \"Default\", \"Default\", \"Topic1\", \"Topic1\", \"Topic1\", \"Topic1\", \"Topic1\", \"Topic1\", \"Topic1\", \"Topic1\", \"Topic1\", \"Topic1\", \"Topic1\", \"Topic1\", \"Topic1\", \"Topic1\", \"Topic1\", \"Topic1\", \"Topic1\", \"Topic1\", \"Topic1\", \"Topic1\", \"Topic1\", \"Topic1\", \"Topic1\", \"Topic1\", \"Topic1\", \"Topic1\", \"Topic1\", \"Topic1\", \"Topic1\", \"Topic1\", \"Topic1\", \"Topic1\", \"Topic1\", \"Topic1\", \"Topic1\", \"Topic1\", \"Topic1\", \"Topic1\", \"Topic2\", \"Topic2\", \"Topic2\", \"Topic2\", \"Topic2\", \"Topic2\", \"Topic2\", \"Topic2\", \"Topic2\", \"Topic2\", \"Topic2\", \"Topic2\", \"Topic2\", \"Topic2\", \"Topic2\", \"Topic2\", \"Topic2\", \"Topic2\", \"Topic2\", \"Topic2\", \"Topic2\", \"Topic2\", \"Topic2\", \"Topic2\", \"Topic2\", \"Topic2\", \"Topic2\", \"Topic2\", \"Topic2\", \"Topic2\", \"Topic2\", \"Topic2\", \"Topic2\", \"Topic2\", \"Topic2\", \"Topic2\", \"Topic2\", \"Topic3\", \"Topic3\", \"Topic3\", \"Topic3\", \"Topic3\", \"Topic3\", \"Topic3\", \"Topic3\", \"Topic3\", \"Topic3\", \"Topic3\", \"Topic3\", \"Topic3\", \"Topic3\", \"Topic3\", \"Topic3\", \"Topic3\", \"Topic3\", \"Topic3\", \"Topic3\", \"Topic3\", \"Topic3\", \"Topic3\", \"Topic3\", \"Topic3\", \"Topic3\", \"Topic3\", \"Topic3\", \"Topic3\", \"Topic3\", \"Topic3\", \"Topic3\", \"Topic3\", \"Topic3\", \"Topic3\", \"Topic3\", \"Topic3\", \"Topic3\", \"Topic3\", \"Topic3\", \"Topic4\", \"Topic4\", \"Topic4\", \"Topic4\", \"Topic4\", \"Topic4\", \"Topic4\", \"Topic4\", \"Topic4\", \"Topic4\", \"Topic4\", \"Topic4\", \"Topic4\", \"Topic4\", \"Topic4\", \"Topic4\", \"Topic4\", \"Topic4\", \"Topic4\", \"Topic4\", \"Topic4\", \"Topic4\", \"Topic4\", \"Topic4\", \"Topic4\", \"Topic4\", \"Topic4\", \"Topic4\", \"Topic4\", \"Topic4\", \"Topic4\", \"Topic4\", \"Topic4\", \"Topic4\", \"Topic4\", \"Topic4\", \"Topic4\", \"Topic4\", \"Topic4\", \"Topic4\", \"Topic5\", \"Topic5\", \"Topic5\", \"Topic5\", \"Topic5\", \"Topic5\", \"Topic5\", \"Topic5\", \"Topic5\", \"Topic5\", \"Topic5\", \"Topic5\", \"Topic5\", \"Topic5\", \"Topic5\", \"Topic5\", \"Topic5\", \"Topic5\", \"Topic5\", \"Topic5\", \"Topic5\", \"Topic5\", \"Topic5\", \"Topic5\", \"Topic5\", \"Topic5\", \"Topic5\", \"Topic5\", \"Topic5\", \"Topic5\", \"Topic5\", \"Topic5\", \"Topic5\", \"Topic5\", \"Topic5\", \"Topic5\", \"Topic5\", \"Topic6\", \"Topic6\", \"Topic6\", \"Topic6\", \"Topic6\", \"Topic6\", \"Topic6\", \"Topic6\", \"Topic6\", \"Topic6\", \"Topic6\", \"Topic6\", \"Topic6\", \"Topic6\", \"Topic6\", \"Topic6\", \"Topic6\", \"Topic6\", \"Topic6\", \"Topic6\", \"Topic6\", \"Topic6\", \"Topic6\", \"Topic6\", \"Topic6\", \"Topic6\", \"Topic6\", \"Topic6\", \"Topic6\", \"Topic6\", \"Topic6\", \"Topic6\", \"Topic6\", \"Topic6\", \"Topic6\", \"Topic7\", \"Topic7\", \"Topic7\", \"Topic7\", \"Topic7\", \"Topic7\", \"Topic7\", \"Topic7\", \"Topic7\", \"Topic7\", \"Topic7\", \"Topic7\", \"Topic7\", \"Topic7\", \"Topic7\", \"Topic7\", \"Topic7\", \"Topic7\", \"Topic7\", \"Topic7\", \"Topic7\", \"Topic7\", \"Topic7\", \"Topic7\", \"Topic7\", \"Topic7\", \"Topic7\", \"Topic7\", \"Topic7\", \"Topic7\", \"Topic7\", \"Topic7\", \"Topic7\", \"Topic7\", \"Topic7\", \"Topic7\", \"Topic7\", \"Topic7\", \"Topic7\", \"Topic7\", \"Topic7\", \"Topic7\", \"Topic7\", \"Topic8\", \"Topic8\", \"Topic8\", \"Topic8\", \"Topic8\", \"Topic8\", \"Topic8\", \"Topic8\", \"Topic8\", \"Topic8\", \"Topic8\", \"Topic8\", \"Topic8\", \"Topic8\", \"Topic8\", \"Topic8\", \"Topic8\", \"Topic8\", \"Topic8\", \"Topic8\", \"Topic8\", \"Topic8\", \"Topic8\", \"Topic8\", \"Topic8\", \"Topic8\", \"Topic8\", \"Topic8\", \"Topic8\", \"Topic8\", \"Topic8\", \"Topic8\", \"Topic8\", \"Topic8\", \"Topic8\", \"Topic8\", \"Topic8\", \"Topic9\", \"Topic9\", \"Topic9\", \"Topic9\", \"Topic9\", \"Topic9\", \"Topic9\", \"Topic9\", \"Topic9\", \"Topic9\", \"Topic9\", \"Topic9\", \"Topic9\", \"Topic9\", \"Topic9\", \"Topic9\", \"Topic9\", \"Topic9\", \"Topic9\", \"Topic9\", \"Topic9\", \"Topic9\", \"Topic9\", \"Topic9\", \"Topic9\", \"Topic9\", \"Topic9\", \"Topic9\", \"Topic9\", \"Topic9\", \"Topic9\", \"Topic9\", \"Topic9\", \"Topic9\", \"Topic9\", \"Topic9\", \"Topic9\", \"Topic9\", \"Topic9\", \"Topic9\", \"Topic9\", \"Topic9\", \"Topic9\", \"Topic9\", \"Topic9\", \"Topic9\", \"Topic9\", \"Topic9\", \"Topic9\", \"Topic9\", \"Topic9\", \"Topic9\", \"Topic9\", \"Topic9\", \"Topic9\", \"Topic9\", \"Topic9\", \"Topic9\", \"Topic9\", \"Topic9\"], \"logprob\": [30.0, 29.0, 28.0, 27.0, 26.0, 25.0, 24.0, 23.0, 22.0, 21.0, 20.0, 19.0, 18.0, 17.0, 16.0, 15.0, 14.0, 13.0, 12.0, 11.0, 10.0, 9.0, 8.0, 7.0, 6.0, 5.0, 4.0, 3.0, 2.0, 1.0, -5.7929, -5.9717, -6.1454, -6.1878, -6.3437, -6.3601, -6.2491, -6.3808, -6.2349, -6.4319, -6.2634, -6.3335, -6.231, -6.4803, -6.4803, -6.487, -6.4871, -6.5129, -6.5129, -6.5196, -6.2207, -6.5434, -6.5627, -6.2309, -6.5974, -6.6292, -6.6654, -6.6654, -6.3259, -6.6841, -6.6285, -6.5144, -6.442, -6.5659, -6.4229, -6.4603, -6.5535, -6.5598, -6.0109, -6.1627, -6.1627, -6.2403, -6.0782, -6.3671, -6.3518, -6.3535, -6.4583, -6.5064, -6.5064, -6.5064, -6.4637, -6.5554, -6.5737, -6.5738, -6.4408, -6.5746, -6.5746, -6.5746, -6.5318, -6.3106, -6.5409, -6.6527, -6.3905, -6.67, -6.67, -6.6832, -6.6832, -6.6832, -6.5314, -6.1456, -6.3885, -6.4454, -6.5471, -6.511, -6.5214, -6.0489, -6.127, -6.0222, -6.024, -6.3427, -6.3427, -6.3427, -6.3427, -6.3428, -6.3165, -6.385, -6.4825, -6.5434, -6.5434, -6.5434, -6.5442, -6.4939, -6.5692, -6.2251, -6.2589, -6.6824, -6.5086, -6.7337, -6.7337, -6.7337, -6.5944, -6.7521, -6.7521, -6.7521, -6.7521, -6.6824, -6.6832, -6.4673, -6.35, -6.5205, -6.3254, -6.6137, -6.6643, -6.5965, -6.6563, -5.438, -5.8197, -6.139, -6.3561, -6.3368, -6.3345, -6.3345, -6.3406, -6.4857, -6.2781, -6.3212, -6.6024, -6.6024, -6.6024, -6.6024, -6.6142, -6.6142, -6.5581, -6.5581, -6.6445, -6.2946, -6.678, -6.678, -6.6781, -6.6781, -6.6781, -6.6781, -6.6781, -6.6781, -6.3959, -6.3104, -6.2077, -6.3864, -6.3724, -6.3613, -6.4958, -6.4606, -6.6183, -6.5127, -6.5376, -5.7628, -5.9974, -5.9783, -6.1441, -6.2479, -6.3636, -6.4091, -6.5276, -6.2299, -6.5553, -6.6452, -6.6852, -6.6852, -6.6852, -6.6852, -6.467, -6.7842, -6.7842, -6.7843, -6.7886, -6.7886, -6.7938, -6.8226, -6.5852, -6.8125, -6.8125, -6.8125, -6.8125, -6.8125, -6.9035, -6.7061, -6.5646, -6.5676, -6.4951, -6.5387, -6.6427, -6.7866, -5.7635, -5.8819, -6.1189, -5.8907, -6.2789, -6.2789, -6.1769, -6.2802, -6.4253, -6.444, -6.5018, -6.2578, -6.4386, -6.5709, -6.6098, -6.6243, -6.6243, -6.6243, -6.3689, -6.7275, -6.7673, -6.7673, -6.7673, -6.7673, -6.7673, -6.7674, -6.7433, -6.4908, -6.6514, -6.7433, -6.4311, -6.6519, -6.5771, -6.7354, -6.7417, -5.9645, -6.0171, -6.112, -6.1609, -6.2851, -6.3123, -6.3524, -6.1898, -6.4456, -6.464, -6.5391, -6.5391, -6.3195, -6.5996, -6.6275, -6.7598, -6.7036, -6.8792, -6.8792, -6.8792, -6.8792, -6.8792, -6.8792, -6.8792, -6.8792, -6.8792, -6.8792, -6.8792, -6.8792, -6.8792, -6.7494, -6.6449, -6.8205, -6.5531, -6.5032, -6.7494, -6.6971, -6.8161, -6.7288, -6.6469, -6.756, -6.7494, -6.8403, -5.8176, -6.1066, -6.0957, -6.3595, -6.041, -6.5091, -6.5148, -6.6282, -6.6988, -6.4178, -6.5451, -6.5507, -6.7635, -6.7635, -6.7636, -6.7636, -6.639, -6.7331, -6.9244, -6.9244, -6.9244, -6.9244, -6.9244, -6.7381, -6.8788, -6.7564, -6.953, -7.1016, -7.1057, -7.1057, -6.7382, -7.0243, -6.5585, -7.0092, -6.9571, -6.8232, -6.9171, -7.5653, -7.5653, -7.5653, -7.5653, -7.5653, -7.5653, -7.5653, -7.5653, -7.5653, -7.5653, -7.5653, -7.5653, -7.5653, -7.5653, -7.5653, -7.5653, -7.5653, -7.5653, -7.5653, -7.5653, -7.5653, -7.5653, -7.5653, -7.5653, -7.5653, -7.5653, -7.5653, -7.5653, -7.5653, -7.5653, -7.5651, -7.5651, -7.5651, -7.5651, -7.5652, -7.5652, -7.5652, -7.5652, -7.5652, -7.5652, -7.5652, -7.5652, -7.5652, -7.5652, -7.5652, -7.5652, -7.5652, -7.5652, -7.5652, -7.5652, -7.5652, -7.5652, -7.5652, -7.5652, -7.5652, -7.5652, -7.5652, -7.5652, -7.5652, -7.5652], \"loglift\": [30.0, 29.0, 28.0, 27.0, 26.0, 25.0, 24.0, 23.0, 22.0, 21.0, 20.0, 19.0, 18.0, 17.0, 16.0, 15.0, 14.0, 13.0, 12.0, 11.0, 10.0, 9.0, 8.0, 7.0, 6.0, 5.0, 4.0, 3.0, 2.0, 1.0, 1.0386, 0.9792, 0.9144, 0.8883, 0.8317, 0.8245, 0.8222, 0.8152, 0.8113, 0.7919, 0.7877, 0.7868, 0.7705, 0.7691, 0.7691, 0.7659, 0.7659, 0.7535, 0.7535, 0.7503, 0.7478, 0.7387, 0.7291, 0.7162, 0.7118, 0.6956, 0.6769, 0.6769, 0.669, 0.6671, 0.6661, 0.6604, 0.6424, 0.6443, 0.5882, 0.529, 0.5746, 0.2941, 1.0877, 1.0198, 1.0198, 0.9828, 0.9427, 0.9192, 0.8966, 0.8921, 0.871, 0.8447, 0.8447, 0.8447, 0.8284, 0.8174, 0.807, 0.807, 0.8066, 0.8065, 0.8065, 0.8065, 0.7935, 0.7794, 0.7683, 0.7613, 0.7561, 0.7511, 0.7511, 0.7433, 0.7433, 0.7433, 0.7238, 0.5991, 0.6348, 0.6103, 0.6637, 0.5787, 0.5883, 1.256, 1.2109, 1.1387, 1.1217, 1.0784, 1.0784, 1.0784, 1.0784, 1.0784, 1.0583, 1.0512, 0.9869, 0.9456, 0.9456, 0.9456, 0.9451, 0.9307, 0.9279, 0.8751, 0.8567, 0.8318, 0.8259, 0.8116, 0.8116, 0.8116, 0.8101, 0.7983, 0.7983, 0.7983, 0.7983, 0.7921, 0.7916, 0.7528, 0.7256, 0.7531, 0.6529, 0.7458, 0.7508, 0.5792, 0.6441, 1.5759, 1.4052, 1.2229, 1.0849, 1.0323, 1.0292, 1.025, 1.0133, 0.9975, 0.9655, 0.9188, 0.9157, 0.9157, 0.9157, 0.9157, 0.9073, 0.9073, 0.9045, 0.9045, 0.8855, 0.874, 0.8612, 0.8612, 0.8612, 0.8612, 0.8612, 0.8612, 0.8612, 0.8611, 0.8312, 0.6987, 0.6462, 0.6626, 0.6388, 0.6281, 0.7202, 0.6314, 0.72, 0.3664, 0.3596, 1.5074, 1.3681, 1.3117, 1.2744, 1.2051, 1.1252, 1.093, 1.0071, 0.9565, 0.9501, 0.9192, 0.8887, 0.8887, 0.8887, 0.8887, 0.8353, 0.812, 0.812, 0.812, 0.8086, 0.8086, 0.8045, 0.7818, 0.771, 0.7414, 0.7348, 0.7146, 0.7137, 0.7075, 0.6682, 0.6188, 0.5704, 0.5168, 0.452, 0.3405, 0.4215, -0.0418, 1.554, 1.4811, 1.3256, 1.2248, 1.2137, 1.2137, 1.1276, 1.1263, 1.1066, 1.0926, 1.0491, 1.0432, 1.0347, 0.9962, 0.9661, 0.9547, 0.9547, 0.9547, 0.9493, 0.8732, 0.8413, 0.8413, 0.8413, 0.8413, 0.8413, 0.8413, 0.8056, 0.8013, 0.787, 0.7782, 0.7047, 0.6908, 0.592, 0.6014, 0.6259, 1.4463, 1.411, 1.3461, 1.2806, 1.2226, 1.2026, 1.1281, 1.1126, 1.1028, 1.055, 1.0309, 1.0309, 1.015, 0.9835, 0.9614, 0.8552, 0.7798, 0.757, 0.757, 0.757, 0.757, 0.757, 0.757, 0.757, 0.757, 0.757, 0.757, 0.757, 0.757, 0.757, 0.7555, 0.7229, 0.7296, 0.6019, 0.4653, 0.6233, 0.5406, 0.6744, 0.4671, 0.2503, 0.472, 0.2715, 0.3582, 1.5978, 1.3945, 1.3704, 1.2031, 1.1859, 1.0846, 1.08, 0.9877, 0.9293, 0.8988, 0.8975, 0.8779, 0.8751, 0.8751, 0.8751, 0.8751, 0.858, 0.7951, 0.7382, 0.7382, 0.7382, 0.7382, 0.7381, 0.7326, 0.6902, 0.6362, 0.5903, 0.5837, 0.5801, 0.5801, 0.5502, 0.5632, 0.4198, 0.5553, 0.5197, 0.1662, 0.1382, 0.1699, 0.1699, 0.1699, 0.1699, 0.1699, 0.1699, 0.1699, 0.1699, 0.1699, 0.1699, 0.1699, 0.1699, 0.1699, 0.1699, 0.1699, 0.1699, 0.1699, 0.1699, 0.1699, 0.1699, 0.1699, 0.1699, 0.1699, 0.1699, 0.1699, 0.1699, 0.1699, 0.1699, 0.1699, 0.1699, -0.8203, -0.5513, -0.686, -0.668, -0.5009, -0.5636, -0.144, -0.7113, -0.5846, -0.4651, -0.7337, -0.2307, -0.3836, -0.5758, -0.4754, -0.5967, -0.4496, -0.5161, -0.1607, -0.3788, -0.4555, -0.3383, -0.3827, -0.384, -0.4628, -0.4303, -0.4896, -0.1441, -0.3347, -0.6181]}, \"token.table\": {\"Topic\": [1, 8, 1, 2, 7, 1, 1, 1, 1, 1, 1, 1, 2, 7, 1, 1, 1, 1, 1, 4, 1, 7, 1, 5, 1, 3, 1, 1, 1, 1, 3, 1, 2, 4, 6, 1, 7, 1, 5, 1, 2, 1, 3, 1, 2, 1, 2, 4, 1, 1, 3, 1, 7, 1, 1, 3, 1, 2, 1, 1, 5, 1, 3, 1, 1, 3, 6, 1, 1, 1, 3, 1, 2, 6, 1, 7, 1, 2, 7, 1, 1, 2, 1, 4, 1, 6, 1, 1, 7, 1, 3, 1, 2, 4, 1, 2, 4, 1, 2, 1, 5, 1, 3, 1, 4, 8, 1, 1, 8, 1, 2, 3, 1, 1, 2, 5, 1, 2, 3, 1, 2, 4, 6, 1, 2, 1, 6, 1, 1, 2, 1, 5, 1, 2, 4, 1, 7, 1, 1, 8, 1, 5, 1, 2, 3, 6, 1, 6, 1, 2, 4, 5, 1, 3, 1, 1, 1, 5, 1, 2, 7, 1, 1, 2, 3, 4, 1, 4, 1, 2, 1, 2, 1, 6, 1, 2, 1, 2, 1, 2, 1, 1, 1, 3, 1, 2, 6, 1, 4, 1, 1, 1, 7, 1, 2, 4, 1, 4, 1, 5, 1, 1, 1, 4, 1, 6, 1, 4, 1, 4, 1, 3, 1, 2, 4, 1, 8, 1, 1, 3, 4, 1, 8, 1, 1, 2, 4, 1, 2, 4, 1, 2, 1, 4, 1, 7, 1, 4, 1, 6, 1, 3, 1, 2, 1, 1, 1, 6, 1, 2, 1, 3, 1, 2, 1, 2, 7, 1, 1, 6, 1, 1, 1, 2, 1, 2, 5, 1, 1, 2, 7, 1, 1, 4, 1, 3, 1, 4, 1, 2, 1, 1, 1, 1, 2, 3, 1, 3, 1, 1, 2, 4, 1, 1, 7, 1, 4, 1, 3, 1, 4, 1, 2, 1, 4, 1, 5, 1, 2, 1, 5, 1, 2, 1, 2, 1, 4, 1, 2, 8, 1, 1, 2, 1, 4, 1, 7, 1, 1, 7, 1, 4, 1, 1, 5, 1, 3, 1, 1, 6, 1, 3, 1, 4, 1, 1, 5, 1, 1, 1, 2, 1, 2, 4, 1, 2, 6, 1, 3, 1, 1, 5, 1, 7, 1, 7, 1, 3, 1, 1, 4, 1, 2, 1, 3, 1, 3, 4, 1, 1, 1, 1, 2, 1, 2, 1, 1, 4, 1, 6, 1, 1, 1, 3, 1, 2, 1, 2, 4, 1, 4, 1, 6, 1, 1, 4, 5, 1, 2, 8, 1, 1, 6, 1, 2, 6, 1, 2, 1, 2, 1, 5, 1, 4, 5, 1, 2, 3, 1, 2, 3, 1, 2, 7, 1, 2, 3, 4, 5, 1, 3, 1, 1, 6, 1, 6, 1, 5, 1, 1, 5, 1, 2, 4, 1, 6, 1, 4, 1, 5, 1, 2, 6, 1, 7, 1, 3, 1, 8, 1, 3, 1, 1, 1, 1, 1, 2, 1, 2, 5, 1, 3, 1, 2, 5, 1, 4, 6, 1, 1, 1, 2, 1, 6, 1, 1, 4, 1, 3, 4, 1, 5, 1, 2, 6, 1, 2, 6, 1, 2, 1, 1, 2, 1, 2, 3, 4, 7, 1, 2, 3, 1, 7, 1, 6, 1, 3, 5, 1, 2, 6, 1, 2, 3, 6, 1, 4, 1, 2, 5, 8, 1, 2, 3, 7, 1, 3, 1, 4, 1, 3, 1, 1, 4, 1, 6, 1, 1, 4, 1, 6, 1, 3, 1, 6, 1, 1, 2, 4, 1, 4, 1, 1, 5, 1, 3, 1, 2, 4, 1, 5, 1, 5, 1, 2, 1, 3, 1, 2, 1, 2, 3, 5, 1, 1, 1, 1, 1, 4, 1, 1, 6, 1, 2, 3, 4, 5, 1, 4, 1, 3, 6, 1, 2, 1, 5, 1, 5, 1, 7, 1, 7, 1, 5, 1, 5, 1, 1, 1, 5, 1, 2, 5, 1, 2, 3, 4, 1, 6, 1, 7, 1, 2, 3, 8, 1, 4, 1, 1, 3, 1, 1, 3, 6], \"Freq\": [0.36453253361174764, 0.36453253361174764, 0.25536244798904006, 0.25536244798904006, 0.25536244798904006, 0.3803622831912169, 0.38036279826143743, 0.3727311742620733, 0.5670337510049233, 0.4199529859985917, 0.39969724060511896, 0.2528895032006103, 0.2528895032006103, 0.2528895032006103, 0.381305841957966, 0.6412083006940419, 0.330956538978583, 0.38036286525507634, 0.34521070368642465, 0.34521070368642465, 0.3335645565684024, 0.3335645565684024, 0.3573902300067876, 0.3573902300067876, 0.3114218909053853, 0.3114218909053853, 0.4199529859985917, 0.38036251684955796, 0.4199529859985917, 0.34732662379291124, 0.34732662379291124, 0.23843599251248815, 0.23843599251248815, 0.23843599251248815, 0.23843599251248815, 0.3484037636965703, 0.3484037636965703, 0.36580158829015713, 0.36580158829015713, 0.2860158874541696, 0.5720317749083392, 0.2646696524044372, 0.2646696524044372, 0.2787530642112668, 0.5575061284225336, 0.24855392226772002, 0.49710784453544005, 0.24855392226772002, 0.3803625319015769, 0.30676165868112876, 0.30676165868112876, 0.3182961550089232, 0.3182961550089232, 0.3803628007451022, 0.2928618324554977, 0.2928618324554977, 0.308397152204844, 0.308397152204844, 0.5167344312957306, 0.27861883116141645, 0.27861883116141645, 0.2225278512132687, 0.2225278512132687, 0.4199529859985917, 0.23999388185253884, 0.23999388185253884, 0.23999388185253884, 0.39051745786856695, 0.37729475095151804, 0.3473266633022721, 0.3473266633022721, 0.2696127621854094, 0.2696127621854094, 0.2696127621854094, 0.32552299378704747, 0.32552299378704747, 0.2350841972230346, 0.2350841972230346, 0.2350841972230346, 0.4199529859985917, 0.22029394134212424, 0.4405878826842485, 0.337997380185864, 0.337997380185864, 0.31211478865812664, 0.31211478865812664, 0.4199529859985917, 0.3089303369453402, 0.3089303369453402, 0.6486146144621929, 0.21620487148739764, 0.24552737922298276, 0.24552737922298276, 0.24552737922298276, 0.4063104427882416, 0.2031552213941208, 0.2031552213941208, 0.257832648602871, 0.515665297205742, 0.3166959107992221, 0.3166959107992221, 0.3283077835224842, 0.3283077835224842, 0.27633203449494076, 0.27633203449494076, 0.27633203449494076, 0.4199529859985917, 0.3533644702524868, 0.3533644702524868, 0.28840393943467013, 0.28840393943467013, 0.28840393943467013, 0.3813055466958864, 0.34072937126733555, 0.34072937126733555, 0.34072937126733555, 0.304923488923402, 0.304923488923402, 0.304923488923402, 0.23060754138138825, 0.23060754138138825, 0.23060754138138825, 0.23060754138138825, 0.294718690061677, 0.294718690061677, 0.370023920455834, 0.370023920455834, 0.5571874104047316, 0.2516569671343538, 0.5033139342687076, 0.43811912670083625, 0.21905956335041812, 0.2824014184141482, 0.2824014184141482, 0.2824014184141482, 0.36281380363165405, 0.36281380363165405, 0.3813055451312759, 0.36493708358819177, 0.36493708358819177, 0.30594942292848865, 0.30594942292848865, 0.25088701858490425, 0.25088701858490425, 0.25088701858490425, 0.25088701858490425, 0.3294665677286262, 0.3294665677286262, 0.22023015672386784, 0.4404603134477357, 0.22023015672386784, 0.22023015672386784, 0.28224484877675826, 0.28224484877675826, 0.4199529859985917, 0.48983994956387394, 0.34105644740555685, 0.34105644740555685, 0.2448997840741581, 0.2448997840741581, 0.2448997840741581, 0.38036262521165026, 0.21145816847237442, 0.21145816847237442, 0.21145816847237442, 0.21145816847237442, 0.2526546408244822, 0.2526546408244822, 0.2946084926510239, 0.2946084926510239, 0.25736959202548587, 0.5147391840509717, 0.34926204984447407, 0.34926204984447407, 0.2580862370356981, 0.5161724740713962, 0.2922728034536802, 0.2922728034536802, 0.30457727576528215, 0.30457727576528215, 0.4199529859985917, 0.5036179591265793, 0.3366984482483668, 0.3366984482483668, 0.27299120287585577, 0.27299120287585577, 0.27299120287585577, 0.3452104748209004, 0.3452104748209004, 0.3803631060019433, 0.38036263039092705, 0.30359712784584697, 0.30359712784584697, 0.24140381822816281, 0.24140381822816281, 0.24140381822816281, 0.3420448596614342, 0.3420448596614342, 0.3480260366112391, 0.3480260366112391, 0.4199529859985917, 0.4199529859985917, 0.3264016260380666, 0.3264016260380666, 0.35807875577810294, 0.35807875577810294, 0.31291948009964216, 0.31291948009964216, 0.2521136935561449, 0.5042273871122898, 0.34908725147108616, 0.34908725147108616, 0.2383097198264078, 0.2383097198264078, 0.2383097198264078, 0.3208877219477737, 0.3208877219477737, 0.39051732252452315, 0.2896464154568746, 0.2896464154568746, 0.2896464154568746, 0.33228994517732835, 0.33228994517732835, 0.4199529859985917, 0.34791521900214867, 0.17395760950107433, 0.17395760950107433, 0.2598398086146253, 0.5196796172292506, 0.2598398086146253, 0.23312057497392757, 0.46624114994785515, 0.28842748587653744, 0.28842748587653744, 0.3383046339489707, 0.3383046339489707, 0.34521054321876843, 0.34521054321876843, 0.36710460148052065, 0.36710460148052065, 0.30676059129978994, 0.30676059129978994, 0.29471785420522895, 0.29471785420522895, 0.4199529859985917, 0.3540326996580249, 0.3485563812199, 0.3485563812199, 0.3083971542576711, 0.3083971542576711, 0.3067608449846708, 0.3067608449846708, 0.3466064383138394, 0.3466064383138394, 0.20558069273793195, 0.4111613854758639, 0.20558069273793195, 0.47987665734902196, 0.3700259939145723, 0.3700259939145723, 0.4199529859985917, 0.4199529859985917, 0.3623001180082795, 0.3623001180082795, 0.27236758745660944, 0.27236758745660944, 0.27236758745660944, 0.5391219773403796, 0.32647197972490777, 0.32647197972490777, 0.32647197972490777, 0.4199529859985917, 0.3379976040061257, 0.3379976040061257, 0.33097046866415425, 0.33097046866415425, 0.40716205629289226, 0.20358102814644613, 0.2686333383043459, 0.2686333383043459, 0.38036284211845806, 0.34898681545334853, 0.4199529859985917, 0.28129920001187064, 0.28129920001187064, 0.28129920001187064, 0.30170156234857654, 0.30170156234857654, 0.3905172610428835, 0.24132816441538354, 0.24132816441538354, 0.24132816441538354, 0.3243370196784917, 0.3559875044697826, 0.3559875044697826, 0.31973975567465546, 0.31973975567465546, 0.34732644870738605, 0.34732644870738605, 0.3452108670489357, 0.3452108670489357, 0.22304215115829173, 0.22304215115829173, 0.339135527298338, 0.339135527298338, 0.3282251008928846, 0.3282251008928846, 0.27984749546817966, 0.5596949909363593, 0.35738999942999145, 0.35738999942999145, 0.3083968411235663, 0.3083968411235663, 0.2221934371933084, 0.6665803115799251, 0.3379972509895099, 0.3379972509895099, 0.3134255442207694, 0.3134255442207694, 0.3134255442207694, 0.5670352207989955, 0.28601515348979806, 0.5720303069795961, 0.35566124243316277, 0.35566124243316277, 0.27240942229068155, 0.27240942229068155, 0.4199529859985917, 0.3606947812980128, 0.3606947812980128, 0.3197398378417797, 0.3197398378417797, 0.32237143418357006, 0.36621698224951343, 0.36621698224951343, 0.328307501103809, 0.328307501103809, 0.5185682240570342, 0.32946676966018357, 0.32946676966018357, 0.34908730445744457, 0.34908730445744457, 0.34521072579582, 0.34521072579582, 0.39051743301705705, 0.2690600933959956, 0.2690600933959956, 0.4842503283908242, 0.533870610422462, 0.2416238217700304, 0.4832476435400608, 0.2912209859801247, 0.2912209859801247, 0.2912209859801247, 0.2836407656465021, 0.2836407656465021, 0.2836407656465021, 0.25350727106182325, 0.25350727106182325, 0.4199529859985917, 0.33261429931648795, 0.33261429931648795, 0.3130688675963386, 0.3130688675963386, 0.3369225034888693, 0.3369225034888693, 0.3490871044404318, 0.3490871044404318, 0.4199529859985917, 0.6325513326005288, 0.21085044420017626, 0.6356567788831029, 0.2118855929610343, 0.32839603428078007, 0.32839603428078007, 0.23289886139333635, 0.4657977227866727, 0.23289886139333635, 0.5274097835870478, 0.4199529859985917, 0.4199529859985917, 0.40058734437103927, 0.20029367218551963, 0.45768518228304145, 0.22884259114152072, 0.4199529859985917, 0.3452104934102738, 0.3452104934102738, 0.3427077602564628, 0.3427077602564628, 0.5185633098192513, 0.34142490590424346, 0.27310355729536, 0.54620711459072, 0.2860166223949978, 0.5720332447899956, 0.24986759939447992, 0.24986759939447992, 0.24986759939447992, 0.34521038491326694, 0.34521038491326694, 0.31402274739691505, 0.31402274739691505, 0.3803621472975468, 0.5728945978072589, 0.19096486593575296, 0.19096486593575296, 0.30907472633219557, 0.30907472633219557, 0.30907472633219557, 0.454120219921042, 0.370023768372293, 0.370023768372293, 0.3287812110677321, 0.3287812110677321, 0.3287812110677321, 0.2696374014559981, 0.5392748029119963, 0.2742774737793619, 0.5485549475587238, 0.3654599577653531, 0.3654599577653531, 0.24257822219172678, 0.24257822219172678, 0.24257822219172678, 0.4255637727931613, 0.21278188639658066, 0.21278188639658066, 0.2246716767272539, 0.4493433534545078, 0.2246716767272539, 0.29226273868909675, 0.29226273868909675, 0.29226273868909675, 0.35681078078816725, 0.17840539039408362, 0.17840539039408362, 0.17840539039408362, 0.17840539039408362, 0.29813306590729455, 0.29813306590729455, 0.5720865424464939, 0.2894640830410112, 0.2894640830410112, 0.35922719030324657, 0.35922719030324657, 0.35399853195839537, 0.35399853195839537, 0.4199529859985917, 0.3658016357257611, 0.3658016357257611, 0.2868208481219306, 0.2868208481219306, 0.2868208481219306, 0.3549611890894416, 0.3549611890894416, 0.6049063628204551, 0.20163545427348503, 0.35658967016679755, 0.35658967016679755, 0.2720262322102234, 0.2720262322102234, 0.2720262322102234, 0.3559872403038, 0.3559872403038, 0.3236642176594631, 0.3236642176594631, 0.30500395135524255, 0.30500395135524255, 0.32359495082412004, 0.32359495082412004, 0.5406012030502997, 0.4199529859985917, 0.3803626924469257, 0.680396600802696, 0.2946066717991419, 0.2946066717991419, 0.33864921022090894, 0.33864921022090894, 0.33864921022090894, 0.30676175102841063, 0.30676175102841063, 0.2874541439169441, 0.2874541439169441, 0.2874541439169441, 0.29078376311668086, 0.29078376311668086, 0.29078376311668086, 0.4199529859985917, 0.5255734475985536, 0.2680708845950113, 0.5361417691900227, 0.3592264363648089, 0.3592264363648089, 0.5749922334256865, 0.339135443377863, 0.339135443377863, 0.27188003124774524, 0.27188003124774524, 0.27188003124774524, 0.3684659265294582, 0.3684659265294582, 0.3391515580461402, 0.3391515580461402, 0.3391515580461402, 0.3023118758313283, 0.3023118758313283, 0.3023118758313283, 0.30675401857160695, 0.30675401857160695, 0.4199529859985917, 0.29471809143247363, 0.29471809143247363, 0.18165842195151263, 0.18165842195151263, 0.18165842195151263, 0.18165842195151263, 0.18165842195151263, 0.23646748602965906, 0.23646748602965906, 0.4729349720593181, 0.2812937211107257, 0.2812937211107257, 0.3443375323961387, 0.3443375323961387, 0.46082566727786584, 0.23041283363893292, 0.23041283363893292, 0.32319593723120427, 0.32319593723120427, 0.32319593723120427, 0.28195724323138915, 0.28195724323138915, 0.28195724323138915, 0.28195724323138915, 0.33799749961206466, 0.33799749961206466, 0.25259954162089293, 0.25259954162089293, 0.25259954162089293, 0.25259954162089293, 0.2908122113463048, 0.2908122113463048, 0.2908122113463048, 0.2908122113463048, 0.30784607364125294, 0.30784607364125294, 0.4968137063401801, 0.24840685317009004, 0.30676286946986, 0.30676286946986, 0.5167343066865004, 0.3983900975437709, 0.19919504877188546, 0.37002364682333394, 0.37002364682333394, 0.6517316473253782, 0.20413443757502708, 0.6124033127250812, 0.2765775755191202, 0.2765775755191202, 0.3219251540618317, 0.3219251540618317, 0.3700243085909427, 0.3700243085909427, 0.39969754988033357, 0.20607072355931896, 0.4121414471186379, 0.20607072355931896, 0.3452108139353644, 0.3452108139353644, 0.3803630391340617, 0.3503214557234797, 0.3503214557234797, 0.3283076178766467, 0.3283076178766467, 0.2207216358890129, 0.2207216358890129, 0.2207216358890129, 0.3436454935260775, 0.3436454935260775, 0.26376615886346816, 0.5275323177269363, 0.21285400918287345, 0.4257080183657469, 0.21714351110870975, 0.21714351110870975, 0.3067537546845622, 0.3067537546845622, 0.15597814759277512, 0.31195629518555024, 0.15597814759277512, 0.15597814759277512, 0.4199529859985917, 0.4795644023898209, 0.4199529859985917, 0.5255776363832461, 0.2890999383095068, 0.2890999383095068, 0.548547466514058, 0.35922703679566265, 0.35922703679566265, 0.21468499412865372, 0.21468499412865372, 0.21468499412865372, 0.21468499412865372, 0.21468499412865372, 0.2568499128649545, 0.2568499128649545, 0.22599793839347368, 0.22599793839347368, 0.22599793839347368, 0.24162512940678949, 0.48325025881357897, 0.3573899036570641, 0.3573899036570641, 0.36546019334033103, 0.36546019334033103, 0.334489531057196, 0.334489531057196, 0.37238044189936326, 0.37238044189936326, 0.36545998015042747, 0.36545998015042747, 0.2901583387905625, 0.2901583387905625, 0.3995047300680608, 0.381306081171636, 0.35738998006910255, 0.35738998006910255, 0.33371499355912676, 0.33371499355912676, 0.33371499355912676, 0.19745481788666408, 0.19745481788666408, 0.19745481788666408, 0.19745481788666408, 0.37002441283512005, 0.37002441283512005, 0.5852514373638475, 0.19508381245461584, 0.39403180435528595, 0.19701590217764298, 0.19701590217764298, 0.19701590217764298, 0.2559462105641912, 0.2559462105641912, 0.4199529859985917, 0.34908741090033235, 0.34908741090033235, 0.3905167028579476, 0.27675109137580695, 0.27675109137580695, 0.27675109137580695], \"Term\": [\"000\", \"000\", \"1\", \"1\", \"1\", \"104\", \"109\", \"13\", \"1dtemppro\", \"2018\", \"21st\", \"3\", \"3\", \"3\", \"33\", \"3d\", \"4\", \"6\", \"98\", \"98\", \"abil\", \"abil\", \"adapt\", \"adapt\", \"aerob\", \"aerob\", \"al\", \"alloc\", \"along\", \"anaerob\", \"anaerob\", \"analysi\", \"analysi\", \"analysi\", \"analysi\", \"anim\", \"anim\", \"anteced\", \"anteced\", \"appendic\", \"appendic\", \"aquat\", \"aquat\", \"aqueous\", \"aqueous\", \"aquif\", \"aquif\", \"aquif\", \"array\", \"articl\", \"articl\", \"ash\", \"ash\", \"atm\", \"atmospher\", \"atmospher\", \"attenu\", \"attenu\", \"attribut\", \"autom\", \"autom\", \"balanc\", \"balanc\", \"bank\", \"base\", \"base\", \"base\", \"bayesian\", \"bewar\", \"biomass\", \"biomass\", \"block\", \"block\", \"block\", \"bodi\", \"bodi\", \"boundari\", \"boundari\", \"boundari\", \"built\", \"calcul\", \"calcul\", \"california\", \"california\", \"call\", \"call\", \"carolina\", \"cblcm\", \"cblcm\", \"cell\", \"cell\", \"chang\", \"chang\", \"chang\", \"channel\", \"channel\", \"channel\", \"chemic\", \"chemic\", \"circl\", \"circl\", \"classroom\", \"classroom\", \"climat\", \"climat\", \"climat\", \"close\", \"coast\", \"coast\", \"coastal\", \"coastal\", \"coastal\", \"cold\", \"complet\", \"complet\", \"complet\", \"compon\", \"compon\", \"compon\", \"conduct\", \"conduct\", \"conduct\", \"conduct\", \"confin\", \"confin\", \"consid\", \"consid\", \"consist\", \"constitu\", \"constitu\", \"contamin\", \"contamin\", \"control\", \"control\", \"control\", \"convers\", \"convers\", \"cool\", \"coral\", \"coral\", \"count\", \"count\", \"coupl\", \"coupl\", \"coupl\", \"coupl\", \"crop\", \"crop\", \"data\", \"data\", \"data\", \"data\", \"degrad\", \"degrad\", \"delawar\", \"dem\", \"desir\", \"desir\", \"develop\", \"develop\", \"develop\", \"dimens\", \"dimension\", \"dimension\", \"dimension\", \"dimension\", \"discharg\", \"discharg\", \"discuss\", \"discuss\", \"dispers\", \"dispers\", \"dissolut\", \"dissolut\", \"dissolv\", \"dissolv\", \"distanc\", \"distanc\", \"doubl\", \"doubl\", \"drainag\", \"dri\", \"driven\", \"driven\", \"earthquak\", \"earthquak\", \"earthquak\", \"edit\", \"edit\", \"employ\", \"energi\", \"erupt\", \"erupt\", \"estim\", \"estim\", \"estim\", \"evapor\", \"evapor\", \"execut\", \"execut\", \"exposur\", \"facet\", \"fastmech\", \"fastmech\", \"fault\", \"fault\", \"fe\", \"fe\", \"feq\", \"feq\", \"fig\", \"fig\", \"file\", \"file\", \"file\", \"fish\", \"fish\", \"flat\", \"flexibl\", \"flexibl\", \"flexibl\", \"flood\", \"flood\", \"floodplain\", \"flow\", \"flow\", \"flow\", \"fluid\", \"fluid\", \"fluid\", \"flux\", \"flux\", \"follow\", \"follow\", \"forag\", \"forag\", \"foreign\", \"foreign\", \"form\", \"form\", \"fractur\", \"fractur\", \"freshwat\", \"freshwat\", \"fundament\", \"futur\", \"geometri\", \"geometri\", \"gk15\", \"gk15\", \"goal\", \"goal\", \"great\", \"great\", \"ground\", \"ground\", \"ground\", \"groundwat\", \"group\", \"group\", \"hand\", \"harker\", \"hazard\", \"hazard\", \"heat\", \"heat\", \"heat\", \"heterogen\", \"high\", \"high\", \"high\", \"hot\", \"huc\", \"huc\", \"hurrican\", \"hurrican\", \"hydraul\", \"hydraul\", \"hydrodynam\", \"hydrodynam\", \"hydrotherm\", \"hypothesi\", \"identif\", \"identifi\", \"identifi\", \"identifi\", \"impact\", \"impact\", \"incid\", \"includ\", \"includ\", \"includ\", \"induc\", \"infil\", \"infil\", \"inflow\", \"inflow\", \"inhibit\", \"inhibit\", \"initi\", \"initi\", \"input\", \"input\", \"interv\", \"interv\", \"isopleth\", \"isopleth\", \"isotop\", \"isotop\", \"iv\", \"iv\", \"kalkan\", \"kalkan\", \"keyword\", \"keyword\", \"klamath\", \"klamath\", \"km\", \"km\", \"km\", \"known\", \"lagrangian\", \"lagrangian\", \"lake\", \"lake\", \"land\", \"land\", \"landsat\", \"larger\", \"larger\", \"later\", \"later\", \"line\", \"list\", \"list\", \"locat\", \"locat\", \"lpf\", \"lsp\", \"lsp\", \"ltrm\", \"ltrm\", \"mac\", \"mac\", \"make\", \"map\", \"map\", \"massachusett\", \"materi\", \"matlab\", \"matlab\", \"maximum\", \"maximum\", \"maximum\", \"may\", \"may\", \"may\", \"method\", \"method\", \"metric\", \"microcomput\", \"microcomput\", \"migrat\", \"migrat\", \"migratori\", \"migratori\", \"mississippi\", \"mississippi\", \"mode\", \"modflow\", \"modflow\", \"modul\", \"modul\", \"monod\", \"monod\", \"month\", \"month\", \"month\", \"mor\", \"nccos\", \"nearest\", \"network\", \"network\", \"new\", \"new\", \"north\", \"nt\", \"nt\", \"nurp\", \"nurp\", \"nwt\", \"occurr\", \"ocean\", \"ocean\", \"onedimension\", \"onedimension\", \"open\", \"open\", \"open\", \"os\", \"os\", \"oteq\", \"oteq\", \"pa\", \"packag\", \"packag\", \"packag\", \"percent\", \"percent\", \"percent\", \"perman\", \"ph\", \"ph\", \"phase\", \"phase\", \"phase\", \"phreeqc\", \"phreeqc\", \"plot\", \"plot\", \"postprocessor\", \"postprocessor\", \"precipit\", \"precipit\", \"precipit\", \"predict\", \"predict\", \"predict\", \"present\", \"present\", \"present\", \"pressur\", \"pressur\", \"pressur\", \"program\", \"program\", \"program\", \"program\", \"program\", \"project\", \"project\", \"prosper\", \"psd\", \"psd\", \"psds\", \"psds\", \"ptcount\", \"ptcount\", \"purpos\", \"python\", \"python\", \"quasi\", \"quasi\", \"quasi\", \"rainf\", \"rainf\", \"rainfal\", \"rainfal\", \"reactiv\", \"reactiv\", \"record\", \"record\", \"record\", \"redevelop\", \"redevelop\", \"redox\", \"redox\", \"reef\", \"reef\", \"refer\", \"refer\", \"regress\", \"rei\", \"releas\", \"reservoir\", \"revers\", \"revers\", \"revis\", \"revis\", \"revis\", \"rock\", \"rock\", \"run\", \"run\", \"run\", \"runoff\", \"runoff\", \"runoff\", \"rwe\", \"safeti\", \"saltwat\", \"saltwat\", \"scms\", \"scms\", \"scoops3d\", \"screen\", \"screen\", \"sediment\", \"sediment\", \"sediment\", \"see\", \"see\", \"seismic\", \"seismic\", \"seismic\", \"select\", \"select\", \"select\", \"sensor\", \"sensor\", \"servic\", \"sharp\", \"sharp\", \"simul\", \"simul\", \"simul\", \"simul\", \"simul\", \"site\", \"site\", \"site\", \"size\", \"size\", \"slide\", \"slide\", \"softwar\", \"softwar\", \"softwar\", \"solid\", \"solid\", \"solid\", \"sorption\", \"sorption\", \"sorption\", \"sorption\", \"span\", \"span\", \"speci\", \"speci\", \"speci\", \"speci\", \"specifi\", \"specifi\", \"specifi\", \"specifi\", \"spreadsheet\", \"spreadsheet\", \"stabil\", \"stabil\", \"statement\", \"statement\", \"station\", \"stream\", \"stream\", \"streamb\", \"streamb\", \"streamflow\", \"structur\", \"structur\", \"subduct\", \"subduct\", \"submers\", \"submers\", \"submodel\", \"submodel\", \"suitabl\", \"temperatur\", \"temperatur\", \"temperatur\", \"text\", \"text\", \"thermal\", \"thermodynam\", \"thermodynam\", \"thornthwait\", \"thornthwait\", \"three\", \"three\", \"three\", \"thresh\", \"thresh\", \"threshold\", \"threshold\", \"time\", \"time\", \"tool\", \"tool\", \"toolbox\", \"toolbox\", \"transport\", \"transport\", \"transport\", \"transport\", \"tune\", \"u\", \"unitless\", \"unsatur\", \"unsteadi\", \"unsteadi\", \"upw\", \"urban\", \"urban\", \"user\", \"user\", \"user\", \"user\", \"user\", \"usg\", \"usg\", \"veget\", \"veget\", \"veget\", \"vflux\", \"vflux\", \"vi\", \"vi\", \"view\", \"view\", \"volcan\", \"volcan\", \"volcano\", \"volcano\", \"vs2di\", \"vs2di\", \"vs2drti\", \"vs2drti\", \"vulner\", \"warm\", \"wateq2\", \"wateq2\", \"wateq4f\", \"wateq4f\", \"wateq4f\", \"water\", \"water\", \"water\", \"water\", \"waterborn\", \"waterborn\", \"watersh\", \"watersh\", \"wave\", \"wave\", \"wave\", \"wave\", \"well\", \"well\", \"wemo\", \"wildlif\", \"wildlif\", \"xbnh\", \"zone\", \"zone\", \"zone\"]}, \"R\": 30, \"lambda.step\": 0.01, \"plot.opts\": {\"xlab\": \"PC1\", \"ylab\": \"PC2\"}, \"topic.order\": [5, 6, 4, 8, 3, 7, 1, 9, 2]};\n",
              "\n",
              "function LDAvis_load_lib(url, callback){\n",
              "  var s = document.createElement('script');\n",
              "  s.src = url;\n",
              "  s.async = true;\n",
              "  s.onreadystatechange = s.onload = callback;\n",
              "  s.onerror = function(){console.warn(\"failed to load library \" + url);};\n",
              "  document.getElementsByTagName(\"head\")[0].appendChild(s);\n",
              "}\n",
              "\n",
              "if(typeof(LDAvis) !== \"undefined\"){\n",
              "   // already loaded: just create the visualization\n",
              "   !function(LDAvis){\n",
              "       new LDAvis(\"#\" + \"ldavis_el4471396831495189282687330609\", ldavis_el4471396831495189282687330609_data);\n",
              "   }(LDAvis);\n",
              "}else if(typeof define === \"function\" && define.amd){\n",
              "   // require.js is available: use it to load d3/LDAvis\n",
              "   require.config({paths: {d3: \"https://d3js.org/d3.v5\"}});\n",
              "   require([\"d3\"], function(d3){\n",
              "      window.d3 = d3;\n",
              "      LDAvis_load_lib(\"https://cdn.jsdelivr.net/gh/bmabey/pyLDAvis@3.3.1/pyLDAvis/js/ldavis.v3.0.0.js\", function(){\n",
              "        new LDAvis(\"#\" + \"ldavis_el4471396831495189282687330609\", ldavis_el4471396831495189282687330609_data);\n",
              "      });\n",
              "    });\n",
              "}else{\n",
              "    // require.js not available: dynamically load d3 & LDAvis\n",
              "    LDAvis_load_lib(\"https://d3js.org/d3.v5.js\", function(){\n",
              "         LDAvis_load_lib(\"https://cdn.jsdelivr.net/gh/bmabey/pyLDAvis@3.3.1/pyLDAvis/js/ldavis.v3.0.0.js\", function(){\n",
              "                 new LDAvis(\"#\" + \"ldavis_el4471396831495189282687330609\", ldavis_el4471396831495189282687330609_data);\n",
              "            })\n",
              "         });\n",
              "}\n",
              "</script>"
            ],
            "text/plain": [
              "<IPython.core.display.HTML object>"
            ]
          },
          "metadata": {
            "tags": []
          },
          "execution_count": 119
        }
      ]
    },
    {
      "cell_type": "markdown",
      "metadata": {
        "id": "Kw5fOFR8iJLI"
      },
      "source": [
        "#### Test Set LDA Reults"
      ]
    },
    {
      "cell_type": "code",
      "metadata": {
        "id": "H1LEEZy3nEsZ"
      },
      "source": [
        "test_cluster_lda = []\n",
        "for i in range(len(test_corpus_tfidf)):\n",
        "  test_bow = lda_model.id2word.doc2bow(test_tokens[i])\n",
        "  x = lda_model[test_bow]\n",
        "  x = Sort_Tuple(x)\n",
        "  test_cluster_lda.append(x[0][0])\n",
        "df_test['LDA_Topic'] = test_cluster_lda"
      ],
      "execution_count": 120,
      "outputs": []
    },
    {
      "cell_type": "code",
      "metadata": {
        "id": "OnmVnBAKi5XF"
      },
      "source": [
        "# # OR Update the model by incrementally training on the new corpus\n",
        "# lda_model.update(other_corpus)\n",
        "# vector = lda_model[unseen_doc]"
      ],
      "execution_count": 121,
      "outputs": []
    },
    {
      "cell_type": "markdown",
      "metadata": {
        "id": "DRFBhFkHoxYT"
      },
      "source": [
        "##### LDA Testing Silhouette Score 0.11"
      ]
    },
    {
      "cell_type": "code",
      "metadata": {
        "colab": {
          "base_uri": "https://localhost:8080/"
        },
        "id": "ShnqNB8UoB60",
        "outputId": "6ae51359-b2a8-4bc8-c1ce-77a0e75676bd"
      },
      "source": [
        "X = np.array([[tup[1] for tup in arr] for arr in test_corpus_lsi])\n",
        "LDA_score2 = metrics.silhouette_score(X, test_cluster_lda)\n",
        "LDA_score2"
      ],
      "execution_count": 122,
      "outputs": [
        {
          "output_type": "execute_result",
          "data": {
            "text/plain": [
              "0.040219857290670166"
            ]
          },
          "metadata": {
            "tags": []
          },
          "execution_count": 122
        }
      ]
    },
    {
      "cell_type": "markdown",
      "metadata": {
        "id": "2rLo62aD8kmk"
      },
      "source": [
        "##### pyLDAvis for Testing"
      ]
    },
    {
      "cell_type": "code",
      "metadata": {
        "colab": {
          "base_uri": "https://localhost:8080/",
          "height": 861
        },
        "id": "jwW2HS1U75lD",
        "outputId": "1cbeece2-a551-4e37-c04a-8acdcf3e4822"
      },
      "source": [
        "vis_data1 = gensimvis.prepare(lda_model, test_BoW_corpus, dictionary)\n",
        "pyLDAvis.display(vis_data1)"
      ],
      "execution_count": 123,
      "outputs": [
        {
          "output_type": "execute_result",
          "data": {
            "text/html": [
              "\n",
              "<link rel=\"stylesheet\" type=\"text/css\" href=\"https://cdn.jsdelivr.net/gh/bmabey/pyLDAvis@3.3.1/pyLDAvis/js/ldavis.v1.0.0.css\">\n",
              "\n",
              "\n",
              "<div id=\"ldavis_el4471396892280077606107008015\"></div>\n",
              "<script type=\"text/javascript\">\n",
              "\n",
              "var ldavis_el4471396892280077606107008015_data = {\"mdsDat\": {\"x\": [-0.017608815868358357, 0.009193155309745252, 0.0040065428216478766, -0.0054929672132928015, 0.0025290002869026705, 0.005366116980784934, 0.0011091758675204053, 0.0007919335591464221, 0.00010585825590360765], \"y\": [0.007960967107989339, 0.0015205854357325376, 0.0029692934142395437, -0.01728957328730117, 0.0017269225332327861, 0.002713055565939825, 3.560677766851132e-05, 0.00048488631219280505, -0.0001217438596941852], \"topics\": [1, 2, 3, 4, 5, 6, 7, 8, 9], \"cluster\": [1, 1, 1, 1, 1, 1, 1, 1, 1], \"Freq\": [30.471702515046317, 23.014117976784366, 15.493553765594442, 13.770026860635138, 6.479961537719873, 5.685937465949461, 2.610511290033762, 2.407830189604856, 0.06635839863178339]}, \"tinfo\": {\"Term\": [\"structur\", \"threshold\", \"reef\", \"veget\", \"speci\", \"subduct\", \"map\", \"packag\", \"vs2drti\", \"feq\", \"psd\", \"precipit\", \"fish\", \"reservoir\", \"flood\", \"contamin\", \"ground\", \"wave\", \"count\", \"erupt\", \"climat\", \"stream\", \"cblcm\", \"softwar\", \"heat\", \"circl\", \"scoops3d\", \"earthquak\", \"site\", \"land\", \"reservoir\", \"scoops3d\", \"3d\", \"streamflow\", \"groundwat\", \"massachusett\", \"dem\", \"cell\", \"perman\", \"dri\", \"modflow\", \"rainfal\", \"modul\", \"packag\", \"station\", \"attribut\", \"nwt\", \"lpf\", \"safeti\", \"unsatur\", \"mor\", \"watersh\", \"materi\", \"heterogen\", \"upw\", \"contamin\", \"consist\", \"infiltr\", \"1dtemppro\", \"known\", \"regress\", \"u\", \"network\", \"hydraul\", \"stream\", \"stabil\", \"new\", \"flow\", \"keyword\", \"matlab\", \"vflux\", \"ground\", \"constitu\", \"saltwat\", \"dispers\", \"dissolv\", \"isotop\", \"phreeqc\", \"lagrangian\", \"appendic\", \"onedimension\", \"distanc\", \"chemic\", \"revers\", \"discuss\", \"freshwat\", \"sharp\", \"confin\", \"aqueous\", \"calcul\", \"doubl\", \"plot\", \"sensor\", \"toolbox\", \"kalkan\", \"attenu\", \"gk15\", \"graizer\", \"flux\", \"fluid\", \"fate\", \"transport\", \"temperatur\", \"time\", \"data\", \"aquif\", \"present\", \"ocean\", \"degrad\", \"site\", \"month\", \"articl\", \"fractur\", \"goal\", \"rock\", \"statement\", \"atmospher\", \"aerob\", \"submers\", \"locat\", \"classroom\", \"thornthwait\", \"monod\", \"veget\", \"hurrican\", \"spreadsheet\", \"balanc\", \"driven\", \"refer\", \"redox\", \"anaerob\", \"inhibit\", \"biomass\", \"fig\", \"ltrm\", \"mississippi\", \"wildlif\", \"identifi\", \"impact\", \"coupl\", \"cycl\", \"tool\", \"wave\", \"aquat\", \"coastal\", \"base\", \"compon\", \"project\", \"sediment\", \"structur\", \"feq\", \"unsteadi\", \"fe\", \"maximum\", \"flexibl\", \"follow\", \"fastmech\", \"quasi\", \"usg\", \"well\", \"inflow\", \"later\", \"klamath\", \"span\", \"california\", \"huc\", \"interv\", \"screen\", \"evapor\", \"foreign\", \"nt\", \"initi\", \"os\", \"edit\", \"mac\", \"text\", \"98\", \"file\", \"without\", \"discharg\", \"flow\", \"channel\", \"stream\", \"dimension\", \"hydraul\", \"open\", \"three\", \"control\", \"program\", \"simul\", \"erupt\", \"cblcm\", \"ash\", \"migrat\", \"volcan\", \"migratori\", \"bodi\", \"anim\", \"land\", \"forag\", \"infil\", \"redevelop\", \"size\", \"larger\", \"convers\", \"volcano\", \"high\", \"employ\", \"thermal\", \"hydrotherm\", \"6\", \"109\", \"atm\", \"releas\", \"dimens\", \"alloc\", \"array\", \"energi\", \"104\", \"pa\", \"hypothesi\", \"abil\", \"specifi\", \"boundari\", \"phase\", \"watersh\", \"1\", \"pressur\", \"develop\", \"simul\", \"3\", \"ground\", \"chang\", \"subduct\", \"psd\", \"oteq\", \"lsp\", \"crop\", \"veget\", \"select\", \"nurp\", \"earthquak\", \"slide\", \"dissolut\", \"record\", \"solid\", \"rainf\", \"fault\", \"urban\", \"psds\", \"scms\", \"zone\", \"form\", \"waterborn\", \"submodel\", \"streamb\", \"consid\", \"ph\", \"group\", \"geometri\", \"seismic\", \"block\", \"call\", \"conduct\", \"may\", \"analysi\", \"sorption\", \"runoff\", \"threshold\", \"vs2drti\", \"map\", \"count\", \"circl\", \"isopleth\", \"microcomput\", \"thresh\", \"precipit\", \"wateq4f\", \"ptcount\", \"iv\", \"adapt\", \"wateq2\", \"vi\", \"view\", \"vs2di\", \"postprocessor\", \"heat\", \"anteced\", \"python\", \"list\", \"see\", \"run\", \"desir\", \"thermodynam\", \"execut\", \"complet\", \"revis\", \"reactiv\", \"autom\", \"softwar\", \"packag\", \"contamin\", \"program\", \"user\", \"transport\", \"reef\", \"flood\", \"fish\", \"speci\", \"coast\", \"000\", \"coral\", \"13\", \"bewar\", \"km\", \"warm\", \"33\", \"cool\", \"cold\", \"4\", \"climat\", \"percent\", \"occurr\", \"line\", \"bayesian\", \"incid\", \"flat\", \"make\", \"xbnh\", \"lake\", \"project\", \"vulner\", \"suitabl\", \"21st\", \"littl\", \"great\", \"futur\", \"hydrodynam\", \"hazard\", \"wave\", \"induc\", \"stream\", \"predict\", \"bank\", \"built\", \"delawar\", \"drainag\", \"facet\", \"floodplain\", \"hand\", \"identif\", \"metric\", \"nearest\", \"tune\", \"along\", \"carolina\", \"close\", \"exposur\", \"harker\", \"mode\", \"nccos\", \"north\", \"purpos\", \"rei\", \"rwe\", \"servic\", \"unitless\", \"wemo\", \"2018\", \"al\", \"fundament\", \"hot\", \"landsat\", \"transport\", \"structur\", \"program\", \"simul\", \"user\", \"rainfal\", \"statement\", \"flow\", \"water\", \"balanc\", \"reservoir\", \"size\", \"estim\", \"stream\", \"data\", \"watersh\", \"veget\", \"dimension\", \"impact\", \"precipit\", \"present\", \"speci\", \"vflux\", \"includ\", \"input\", \"softwar\", \"tool\", \"rock\", \"method\", \"packag\"], \"Freq\": [3.0, 1.0, 1.0, 2.0, 1.0, 1.0, 1.0, 3.0, 1.0, 2.0, 1.0, 2.0, 1.0, 4.0, 1.0, 2.0, 3.0, 3.0, 1.0, 1.0, 2.0, 3.0, 1.0, 2.0, 2.0, 1.0, 3.0, 2.0, 2.0, 2.0, 3.0884354540786956, 2.582870366902281, 2.1709703342997457, 2.080804044117348, 1.7803501282071177, 1.751523172589742, 1.7155495261189242, 1.95711402077506, 1.7987533081783826, 1.6301564221918243, 1.9850431740172423, 1.9928658697323844, 1.9293375670437625, 1.9929656255518504, 1.5530666342164428, 1.5530658088136813, 1.5426518200860286, 1.5426046542139409, 1.5033246801097597, 1.5032825845689213, 1.493203001874372, 2.0133900989714433, 1.4581086451739533, 1.4302072018816228, 1.3814757765844234, 1.6137215919774686, 1.3382579238196217, 1.327210143685788, 1.290608247798759, 1.2905965742454173, 1.3391223563403132, 1.5010429131328262, 1.8124061773423128, 1.6448444643334041, 1.58446943602322, 1.4257112330395219, 1.4435343906987856, 1.434427132457329, 1.8757124280397441, 1.6115288935437806, 1.6115014641500007, 1.75359284844724, 1.4911431544301692, 1.3135946477359237, 1.3315766636574702, 1.333853659567087, 1.199041038946506, 1.1925805261466296, 1.1427978685092819, 1.142779611932253, 1.1427658972353631, 1.0881711621191266, 1.2202812750006102, 1.0683765797962805, 1.0683451428612016, 1.0674520845468385, 1.0674454053113402, 1.06743249212271, 1.114065489468466, 1.389965382649704, 0.9872859408534881, 1.1040301607734109, 0.9702690299332135, 0.9702667144649074, 0.9576222982712586, 0.9576197156335325, 0.9576189141252728, 0.9576171329958065, 1.2832315556123093, 1.1145875385150152, 0.9898375869267961, 1.6392300876801278, 1.2857803518784714, 1.2146838975400645, 1.1375207381267627, 1.0972445027894757, 1.1257819372102138, 1.2156558729041953, 1.1243628285217762, 1.2485210427290738, 1.2462773033726606, 0.9061662507483766, 0.9061621138839155, 0.9061512021544674, 0.9061313571959656, 0.9060951446432916, 0.9302255349994916, 0.8686345179476961, 0.7879369427230931, 0.7413804302595547, 0.741370477803025, 0.7413664008931213, 0.7407761482754458, 0.9854054313640456, 0.7225082944062098, 0.7790050326696591, 1.0193112923964012, 0.645153305666182, 0.6451594210310375, 0.6446812834357138, 0.6129238340134937, 0.61292299464969, 0.6129200568763771, 0.6017410500113153, 0.6017369131468542, 0.601735414282919, 0.6017310376002282, 0.7676422051315864, 0.704545429370505, 0.8000257599968116, 0.6451297435251209, 0.8995482268835224, 0.9219891577665404, 0.7585865488716637, 0.6910978020077061, 0.7030666502120525, 0.6569797617966859, 0.6517933328536047, 0.6622280038884542, 1.9902650786445877, 1.358710444988441, 0.9873456650798242, 0.7946299590448749, 0.8101058760501708, 0.8119812458356016, 0.8119763968897151, 0.6980724733267009, 0.807030152374801, 0.8591355394576649, 0.8228831681717291, 0.6493268728919623, 0.6493018288857355, 0.6211648878899173, 0.6211606250803469, 0.6211605717952272, 0.6211597725184327, 0.6138986092662475, 0.6138981829852904, 0.5955337329298903, 0.5759178285548247, 0.5759120737619043, 0.575906212398745, 0.575904613845156, 0.5759040809939596, 0.5759014700230978, 0.5759007773165425, 0.5758883618836684, 0.845042158166328, 0.5520744426435542, 0.7636776454682065, 0.921807525618815, 0.8318297930429784, 0.7905555123722519, 0.7709009762854533, 0.7818339105612063, 0.6910381448287869, 0.7158143400443264, 0.6113410833792942, 0.6794812950872686, 0.6627823780161904, 0.5532092217239948, 0.5248346303199292, 0.4773521707807293, 0.4545670816574355, 0.40148070162468086, 0.39070061766690034, 0.3753257627346071, 0.3419248820538002, 0.44160387968309744, 0.33570468953317395, 0.3114251714612936, 0.3114187522222111, 0.38788926677544955, 0.29314272720161766, 0.2850623595556189, 0.24974004515147663, 0.264182530682191, 0.22163498656341762, 0.221633532204563, 0.221633532204563, 0.22163343190395235, 0.22163340682879967, 0.22163330652818902, 0.22163328145303635, 0.2216328050251357, 0.22163127544082306, 0.22163074886261708, 0.22162964555589978, 0.22162964555589978, 0.22162924435345713, 0.23502230966994792, 0.2523444006576698, 0.28015828657297154, 0.30708396043053926, 0.2360748893534074, 0.32279612631649507, 0.26589809740213877, 0.25234156716541856, 0.2576102328678292, 0.2795989351424517, 0.2506840744990452, 0.2523456544153031, 0.23042583358505397, 0.5934676011302279, 0.5271888901205831, 0.41596101491450577, 0.35447593589575244, 0.35447237148084554, 0.5225695844217131, 0.3539917255324411, 0.3061910734156004, 0.39253427198235946, 0.3005031473266134, 0.2836514957517358, 0.3620213401999031, 0.30214092996865644, 0.26471301126422764, 0.2546125155409715, 0.250941872268808, 0.2509409481612395, 0.25093507347741145, 0.32395591928860457, 0.2263280471572927, 0.2174969231921207, 0.2174961531024803, 0.21749485495137222, 0.21749397484892607, 0.21749170858512723, 0.21748512981934226, 0.22278158634028117, 0.22278169635308695, 0.2867880928595747, 0.24422534844844268, 0.30443350883063613, 0.24409628142471457, 0.26305872670131925, 0.22454209926844007, 0.22313844587963438, 0.27267780336391, 0.2156441156080766, 0.2197986028415505, 0.1862205990159101, 0.16786662346888653, 0.14952422453048797, 0.1428777157133108, 0.12690903673243084, 0.1709202620971943, 0.12344418605586935, 0.11283224430750206, 0.1084026156350057, 0.10840170647726027, 0.10840137311942029, 0.10840100945632213, 0.09818102581551111, 0.09818085408571475, 0.09818011665776569, 0.1348412966366873, 0.09775698454129422, 0.09775624711334516, 0.09724392662204794, 0.09448704718359817, 0.1198087571827615, 0.09544604697697326, 0.09544602677346781, 0.09544603687522053, 0.09544571361913327, 0.09544582473841327, 0.08714429526322515, 0.1061568646810314, 0.12229935441933029, 0.13109638496752535, 0.12193209509719127, 0.12551208555133392, 0.11310731503425543, 0.09795433238256684, 0.2380949549644592, 0.17832924207903278, 0.1802830738143263, 0.19041978720950023, 0.1384817375674068, 0.11924134563859048, 0.11856065941938809, 0.10584738260100889, 0.09863973035054954, 0.11501880830458926, 0.09245256235814131, 0.09245204058101072, 0.09245041002747763, 0.09245018640870738, 0.10471161354944342, 0.13063283985834848, 0.11437680813264067, 0.09530708391277147, 0.09483018893285994, 0.07871781363214239, 0.0787177856797961, 0.07871774841000106, 0.0787173850294994, 0.07871537246056712, 0.08238488194083433, 0.09311339309403498, 0.06593040253269983, 0.06566336910994668, 0.06566308958648386, 0.06566301504689377, 0.07649567664233992, 0.0723169266587889, 0.09482862360146817, 0.07123231505964327, 0.11348802601282001, 0.076180635064848, 0.08710029367937144, 0.07929219707843561, 0.0011428584639235583, 0.0011428584639235583, 0.0011428584639235583, 0.0011428584639235583, 0.0011428584639235583, 0.0011428584639235583, 0.0011428584639235583, 0.0011428584639235583, 0.0011428584639235583, 0.0011428584639235583, 0.0011428584639235583, 0.0011428584639235583, 0.0011428584639235583, 0.0011428584639235583, 0.0011428584639235583, 0.0011428584639235583, 0.0011428584639235583, 0.0011428584639235583, 0.0011428584639235583, 0.0011428584639235583, 0.0011428584639235583, 0.0011428584639235583, 0.0011428584639235583, 0.0011428584639235583, 0.0011428584639235583, 0.0011428584639235583, 0.0011428584639235583, 0.0011428584639235583, 0.0011428584639235583, 0.0011428584639235583, 0.0011430854605065691, 0.0011430773718274234, 0.001143054774882508, 0.0011430279410104215, 0.0011430161289710341, 0.0011430151018371744, 0.0011430031614060544, 0.0011429976405615582, 0.0011429955862938385, 0.0011429952011186412, 0.001142993788809584, 0.0011429887815320174, 0.0011429846729965785, 0.0011429828755123237, 0.0011429809496363368, 0.0011429760707505029, 0.001142975813967038, 0.0011429744016579807, 0.0011429738880910508, 0.001142973117740656, 0.0011429665697622999, 0.0011429654142367076, 0.0011429629747937906, 0.001142961690876466, 0.001142961690876466, 0.001142961690876466, 0.001142961690876466, 0.001142958737866619, 0.0011429557848567722, 0.0011429548861146448], \"Total\": [3.0, 1.0, 1.0, 2.0, 1.0, 1.0, 1.0, 3.0, 1.0, 2.0, 1.0, 2.0, 1.0, 4.0, 1.0, 2.0, 3.0, 3.0, 1.0, 1.0, 2.0, 3.0, 1.0, 2.0, 2.0, 1.0, 3.0, 2.0, 2.0, 2.0, 4.1081881963054325, 3.602531089391226, 3.190614042961448, 3.1098703664466583, 2.799993982939276, 2.7712046314936933, 2.7351873004259115, 3.1510947868455035, 2.9058369562724513, 2.649789866874295, 3.2295415500733, 3.2483149758459513, 3.165516381227916, 3.2775136583937674, 2.5727163636163564, 2.5727161821934277, 2.562286483111884, 2.562252286209474, 2.5229558547657756, 2.5229290127007835, 2.5128303831938164, 3.4062644643546975, 2.4777429339001067, 2.44984415023119, 2.4011108294493226, 2.8056620082704877, 2.35788864608531, 2.370700525079189, 2.310237332120519, 2.3102291911098045, 2.4036488479973306, 2.7326283811913656, 3.4034889646929924, 3.268360909711436, 3.2783592068798963, 2.680870852058106, 2.8121828740947197, 3.8528552678651864, 2.9809207836604146, 2.7167767140727057, 2.716760113130745, 3.0498212643994687, 2.5963626807999374, 2.418794486286849, 2.490509961652121, 2.5288471343260555, 2.3042291860086483, 2.321620007374679, 2.2479888614215624, 2.247981258129494, 2.2479730174182166, 2.1933576675889044, 2.466190095711806, 2.1735753097500528, 2.1735545957877664, 2.1726412414948975, 2.172639680864489, 2.172632495142309, 2.272983444742452, 2.8775217856360458, 2.092478247014165, 2.357601995646921, 2.075472033032164, 2.0754761371303325, 2.062804717177555, 2.0628015515918166, 2.062801726562236, 2.0628019814995184, 2.799818511775952, 2.469794727323704, 2.148780037537767, 4.099744912384825, 3.1847556950936124, 3.040115238703999, 2.7433758029073503, 2.642075914229736, 2.830103309168798, 2.4205608184193155, 2.3292138552641948, 2.7409035036110265, 2.8922811035381213, 2.111051206730289, 2.111058452712507, 2.111053661167642, 2.1110429907364967, 2.111028526734603, 2.1967168844135605, 2.0734834214593305, 1.9927755862370204, 1.946244551980173, 1.9462407620351196, 1.9462404586394622, 1.9456185946800089, 2.627701993382723, 1.9273654340915485, 2.0962971825618966, 2.8295896686142274, 1.8608963827431078, 1.878027013317277, 1.8775313270570173, 1.8177586290489742, 1.8177587224310763, 1.817756595195103, 1.8065726426317474, 1.8065711172588066, 1.806572323151572, 1.806569072401961, 2.314326696650359, 2.1330659782852646, 2.4541236718546644, 1.9688876078156197, 3.00445678769108, 3.30470180741745, 2.506282494554944, 2.2303684354118136, 2.511922290160775, 2.112499040366011, 2.0428352915951087, 2.421131446222474, 3.2375015986891253, 2.5943937475603107, 2.2229939221268022, 2.03027729117386, 2.1913708189723424, 2.227186861953264, 2.236975178116576, 1.9336810074334694, 2.2425468572134717, 2.4688711076661747, 2.4437857274781623, 1.9386478073829871, 1.9386440975899726, 1.8567562141611327, 1.856753035614934, 1.8567544092542843, 1.8567525290842901, 1.8494882709857452, 1.8494884687964237, 1.8311286914223455, 1.8115085860355575, 1.8115078562221265, 1.8115021592469103, 1.811506973476298, 1.8115062247140659, 1.8115035241667763, 1.8115029823359532, 1.8115029247569217, 2.6664718994119707, 1.8657584350982888, 2.614435344287466, 3.8528552678651864, 3.326860648248546, 3.2783592068798963, 3.162700806432328, 3.268360909711436, 2.597573661725017, 2.960072840845368, 2.25539248931275, 3.4774988330323024, 3.5155931484552987, 1.8894567505304118, 1.8610928463326608, 1.813566922494066, 1.8663842341893393, 1.7376905781241159, 1.7269232158239418, 1.8153680029921462, 1.6781266382499533, 2.1892100855082983, 1.7475205098445996, 1.6476217414447027, 1.647623153024713, 2.0570071757828323, 1.6293322901910026, 1.6212548831111193, 1.5859309481085002, 1.809669000389567, 1.5578127744434451, 1.557813327215269, 1.5578144108761758, 1.557814128023633, 1.5578146985823176, 1.5578147604737818, 1.5578153683680034, 1.557815700945593, 1.5578160988441776, 1.557816388436065, 1.5578158584252628, 1.5578169835423663, 1.5578186870650534, 1.6572156180181548, 1.7885318267585504, 2.1405544314892344, 2.7150114689541223, 1.756495626810025, 3.4062644643546975, 2.4162251996239044, 2.1387432480705133, 2.55943331316719, 3.5155931484552987, 2.4878136354817415, 3.0498212643994687, 2.558811601857058, 1.94257064187046, 1.8762731987850922, 1.764989028309998, 1.703519730254131, 1.7035208359154423, 2.627701993382723, 1.815351717624038, 1.6552198335490187, 2.138531930101038, 1.6495310974878445, 1.6326634879034692, 2.093454000620934, 1.7869150220111973, 1.613733935252199, 1.6036326107714889, 1.5999539952356265, 1.5999521807737012, 1.5999592200272144, 2.1672838148714777, 1.5753585721498955, 1.5664969880143578, 1.5664977472698933, 1.5665020827023626, 1.5664997721008072, 1.566502253147782, 1.5664945971218194, 1.6842154255440545, 1.7419590228491788, 2.2521180561335936, 1.9269496836919615, 2.7259880102261373, 2.1277429252437603, 2.60728786809396, 2.186561525395911, 2.1111005945860124, 1.667512338597322, 1.6104282590072827, 1.772396024288543, 1.5809914900519948, 1.5626602775894152, 1.544295380319694, 1.5376309035001015, 1.521675157335702, 2.145651315455075, 1.5966964511040997, 1.50758966101914, 1.503140565516426, 1.5031415250484523, 1.5031439593347335, 1.5031454255614376, 1.4929191671469972, 1.49292046162933, 1.4929236430783144, 2.0503957949380736, 1.4925008912765436, 1.492503405370268, 1.4919891683240967, 1.4892312315725886, 1.9657026162606066, 1.5776301651891689, 1.5940168979443183, 1.6026078363591536, 1.6471976596723619, 1.660354572804954, 1.5857184620460318, 2.116059819725834, 2.6073434269254476, 3.2775136583937674, 2.8056620082704877, 3.4774988330323024, 2.8255016590887814, 4.099744912384825, 1.6334782096752503, 1.5736852592182233, 1.651241753151989, 1.9967676865986281, 1.533833013785341, 1.5145662364752188, 1.5139011562705582, 1.5011621348010367, 1.493962175283309, 1.8506821244915312, 1.4877659455982615, 1.487767915972201, 1.4877713257389593, 1.4877720956950655, 1.7176033195167817, 2.1443857482991375, 1.8949592231986194, 1.641853147603635, 1.7738250424475093, 1.4740312289934765, 1.4740321930405709, 1.4740329607918612, 1.47403244963457, 1.474038910921662, 1.6492880706052984, 2.0428352915951087, 1.4612374165624336, 1.4609669765877666, 1.4609689098385115, 1.4609678912031523, 1.716152880780618, 1.6268572252719147, 2.302308006563986, 1.6367066117806077, 3.30470180741745, 1.8099456974566, 3.2783592068798963, 3.010174914256207, 1.4341687352751138, 1.4341687352751138, 1.4341687352751138, 1.4341687352751138, 1.4341687352751138, 1.4341687352751138, 1.4341687352751138, 1.4341687352751138, 1.4341687352751138, 1.4341687352751138, 1.4341687352751138, 1.4341687352751138, 1.4341687352751138, 1.4341687352751138, 1.4341687352751138, 1.4341687352751138, 1.4341687352751138, 1.4341687352751138, 1.4341687352751138, 1.4341687352751138, 1.4341687352751138, 1.4341687352751138, 1.4341687352751138, 1.4341687352751138, 1.4341687352751138, 1.4341687352751138, 1.4341687352751138, 1.4341687352751138, 1.4341687352751138, 1.4341687352751138, 4.099744912384825, 3.2375015986891253, 3.4774988330323024, 3.5155931484552987, 2.8255016590887814, 3.2483149758459513, 2.111028526734603, 3.8528552678651864, 3.1775596502441386, 2.8295896686142274, 4.1081881963054325, 2.0570071757828323, 2.607784664568492, 3.2783592068798963, 2.7433758029073503, 3.4062644643546975, 2.627701993382723, 3.162700806432328, 2.1330659782852646, 2.145651315455075, 2.830103309168798, 1.9967676865986281, 2.716760113130745, 2.6223705903589996, 2.8324456945723004, 2.6073434269254476, 3.00445678769108, 2.1110429907364967, 2.4807187916399034, 3.2775136583937674], \"Category\": [\"Default\", \"Default\", \"Default\", \"Default\", \"Default\", \"Default\", \"Default\", \"Default\", \"Default\", \"Default\", \"Default\", \"Default\", \"Default\", \"Default\", \"Default\", \"Default\", \"Default\", \"Default\", \"Default\", \"Default\", \"Default\", \"Default\", \"Default\", \"Default\", \"Default\", \"Default\", \"Default\", \"Default\", \"Default\", \"Default\", \"Topic1\", \"Topic1\", \"Topic1\", \"Topic1\", \"Topic1\", \"Topic1\", \"Topic1\", \"Topic1\", \"Topic1\", \"Topic1\", \"Topic1\", \"Topic1\", \"Topic1\", \"Topic1\", \"Topic1\", \"Topic1\", \"Topic1\", \"Topic1\", \"Topic1\", \"Topic1\", \"Topic1\", \"Topic1\", \"Topic1\", \"Topic1\", \"Topic1\", \"Topic1\", \"Topic1\", \"Topic1\", \"Topic1\", \"Topic1\", \"Topic1\", \"Topic1\", \"Topic1\", \"Topic1\", \"Topic1\", \"Topic1\", \"Topic1\", \"Topic1\", \"Topic2\", \"Topic2\", \"Topic2\", \"Topic2\", \"Topic2\", \"Topic2\", \"Topic2\", \"Topic2\", \"Topic2\", \"Topic2\", \"Topic2\", \"Topic2\", \"Topic2\", \"Topic2\", \"Topic2\", \"Topic2\", \"Topic2\", \"Topic2\", \"Topic2\", \"Topic2\", \"Topic2\", \"Topic2\", \"Topic2\", \"Topic2\", \"Topic2\", \"Topic2\", \"Topic2\", \"Topic2\", \"Topic2\", \"Topic2\", \"Topic2\", \"Topic2\", \"Topic2\", \"Topic2\", \"Topic2\", \"Topic2\", \"Topic2\", \"Topic2\", \"Topic2\", \"Topic3\", \"Topic3\", \"Topic3\", \"Topic3\", \"Topic3\", \"Topic3\", \"Topic3\", \"Topic3\", \"Topic3\", \"Topic3\", \"Topic3\", \"Topic3\", \"Topic3\", \"Topic3\", \"Topic3\", \"Topic3\", \"Topic3\", \"Topic3\", \"Topic3\", \"Topic3\", \"Topic3\", \"Topic3\", \"Topic3\", \"Topic3\", \"Topic3\", \"Topic3\", \"Topic3\", \"Topic3\", \"Topic3\", \"Topic3\", \"Topic3\", \"Topic3\", \"Topic3\", \"Topic3\", \"Topic3\", \"Topic3\", \"Topic3\", \"Topic3\", \"Topic3\", \"Topic3\", \"Topic3\", \"Topic3\", \"Topic4\", \"Topic4\", \"Topic4\", \"Topic4\", \"Topic4\", \"Topic4\", \"Topic4\", \"Topic4\", \"Topic4\", \"Topic4\", \"Topic4\", \"Topic4\", \"Topic4\", \"Topic4\", \"Topic4\", \"Topic4\", \"Topic4\", \"Topic4\", \"Topic4\", \"Topic4\", \"Topic4\", \"Topic4\", \"Topic4\", \"Topic4\", \"Topic4\", \"Topic4\", \"Topic4\", \"Topic4\", \"Topic4\", \"Topic4\", \"Topic4\", \"Topic4\", \"Topic4\", \"Topic4\", \"Topic4\", \"Topic4\", \"Topic4\", \"Topic4\", \"Topic4\", \"Topic4\", \"Topic4\", \"Topic5\", \"Topic5\", \"Topic5\", \"Topic5\", \"Topic5\", \"Topic5\", \"Topic5\", \"Topic5\", \"Topic5\", \"Topic5\", \"Topic5\", \"Topic5\", \"Topic5\", \"Topic5\", \"Topic5\", \"Topic5\", \"Topic5\", \"Topic5\", \"Topic5\", \"Topic5\", \"Topic5\", \"Topic5\", \"Topic5\", \"Topic5\", \"Topic5\", \"Topic5\", \"Topic5\", \"Topic5\", \"Topic5\", \"Topic5\", \"Topic5\", \"Topic5\", \"Topic5\", \"Topic5\", \"Topic5\", \"Topic5\", \"Topic5\", \"Topic5\", \"Topic5\", \"Topic5\", \"Topic5\", \"Topic5\", \"Topic5\", \"Topic6\", \"Topic6\", \"Topic6\", \"Topic6\", \"Topic6\", \"Topic6\", \"Topic6\", \"Topic6\", \"Topic6\", \"Topic6\", \"Topic6\", \"Topic6\", \"Topic6\", \"Topic6\", \"Topic6\", \"Topic6\", \"Topic6\", \"Topic6\", \"Topic6\", \"Topic6\", \"Topic6\", \"Topic6\", \"Topic6\", \"Topic6\", \"Topic6\", \"Topic6\", \"Topic6\", \"Topic6\", \"Topic6\", \"Topic6\", \"Topic6\", \"Topic6\", \"Topic6\", \"Topic6\", \"Topic6\", \"Topic7\", \"Topic7\", \"Topic7\", \"Topic7\", \"Topic7\", \"Topic7\", \"Topic7\", \"Topic7\", \"Topic7\", \"Topic7\", \"Topic7\", \"Topic7\", \"Topic7\", \"Topic7\", \"Topic7\", \"Topic7\", \"Topic7\", \"Topic7\", \"Topic7\", \"Topic7\", \"Topic7\", \"Topic7\", \"Topic7\", \"Topic7\", \"Topic7\", \"Topic7\", \"Topic7\", \"Topic7\", \"Topic7\", \"Topic7\", \"Topic7\", \"Topic7\", \"Topic7\", \"Topic7\", \"Topic7\", \"Topic7\", \"Topic7\", \"Topic8\", \"Topic8\", \"Topic8\", \"Topic8\", \"Topic8\", \"Topic8\", \"Topic8\", \"Topic8\", \"Topic8\", \"Topic8\", \"Topic8\", \"Topic8\", \"Topic8\", \"Topic8\", \"Topic8\", \"Topic8\", \"Topic8\", \"Topic8\", \"Topic8\", \"Topic8\", \"Topic8\", \"Topic8\", \"Topic8\", \"Topic8\", \"Topic8\", \"Topic8\", \"Topic8\", \"Topic8\", \"Topic8\", \"Topic8\", \"Topic8\", \"Topic8\", \"Topic8\", \"Topic8\", \"Topic8\", \"Topic8\", \"Topic8\", \"Topic8\", \"Topic9\", \"Topic9\", \"Topic9\", \"Topic9\", \"Topic9\", \"Topic9\", \"Topic9\", \"Topic9\", \"Topic9\", \"Topic9\", \"Topic9\", \"Topic9\", \"Topic9\", \"Topic9\", \"Topic9\", \"Topic9\", \"Topic9\", \"Topic9\", \"Topic9\", \"Topic9\", \"Topic9\", \"Topic9\", \"Topic9\", \"Topic9\", \"Topic9\", \"Topic9\", \"Topic9\", \"Topic9\", \"Topic9\", \"Topic9\", \"Topic9\", \"Topic9\", \"Topic9\", \"Topic9\", \"Topic9\", \"Topic9\", \"Topic9\", \"Topic9\", \"Topic9\", \"Topic9\", \"Topic9\", \"Topic9\", \"Topic9\", \"Topic9\", \"Topic9\", \"Topic9\", \"Topic9\", \"Topic9\", \"Topic9\", \"Topic9\", \"Topic9\", \"Topic9\", \"Topic9\", \"Topic9\", \"Topic9\", \"Topic9\", \"Topic9\", \"Topic9\", \"Topic9\", \"Topic9\"], \"logprob\": [30.0, 29.0, 28.0, 27.0, 26.0, 25.0, 24.0, 23.0, 22.0, 21.0, 20.0, 19.0, 18.0, 17.0, 16.0, 15.0, 14.0, 13.0, 12.0, 11.0, 10.0, 9.0, 8.0, 7.0, 6.0, 5.0, 4.0, 3.0, 2.0, 1.0, -5.7929, -5.9717, -6.1454, -6.1878, -6.3437, -6.3601, -6.3808, -6.2491, -6.3335, -6.4319, -6.2349, -6.231, -6.2634, -6.2309, -6.4803, -6.4803, -6.487, -6.4871, -6.5129, -6.5129, -6.5196, -6.2207, -6.5434, -6.5627, -6.5974, -6.442, -6.6292, -6.6375, -6.6654, -6.6654, -6.6285, -6.5144, -6.3259, -6.4229, -6.4603, -6.5659, -6.5535, -6.5598, -6.0109, -6.1627, -6.1627, -6.0782, -6.2403, -6.3671, -6.3535, -6.3518, -6.4583, -6.4637, -6.5064, -6.5064, -6.5064, -6.5554, -6.4408, -6.5737, -6.5738, -6.5746, -6.5746, -6.5746, -6.5318, -6.3106, -6.6527, -6.5409, -6.67, -6.67, -6.6832, -6.6832, -6.6832, -6.6832, -6.3905, -6.5314, -6.6501, -6.1456, -6.3885, -6.4454, -6.511, -6.5471, -6.5214, -6.0489, -6.127, -6.0222, -6.024, -6.3427, -6.3427, -6.3427, -6.3427, -6.3428, -6.3165, -6.385, -6.4825, -6.5434, -6.5434, -6.5434, -6.5442, -6.2589, -6.5692, -6.4939, -6.2251, -6.6824, -6.6824, -6.6832, -6.7337, -6.7337, -6.7337, -6.7521, -6.7521, -6.7521, -6.7521, -6.5086, -6.5944, -6.4673, -6.6825, -6.35, -6.3254, -6.5205, -6.6137, -6.5965, -6.6643, -6.6722, -6.6563, -5.438, -5.8197, -6.139, -6.3561, -6.3368, -6.3345, -6.3345, -6.4857, -6.3406, -6.2781, -6.3212, -6.5581, -6.5581, -6.6024, -6.6024, -6.6024, -6.6024, -6.6142, -6.6142, -6.6445, -6.678, -6.678, -6.6781, -6.6781, -6.6781, -6.6781, -6.6781, -6.6781, -6.2946, -6.7203, -6.3959, -6.2077, -6.3104, -6.3613, -6.3864, -6.3724, -6.4958, -6.4606, -6.6183, -6.5127, -6.5376, -5.9645, -6.0171, -6.112, -6.1609, -6.2851, -6.3123, -6.3524, -6.4456, -6.1898, -6.464, -6.5391, -6.5391, -6.3195, -6.5996, -6.6275, -6.7598, -6.7036, -6.8792, -6.8792, -6.8792, -6.8792, -6.8792, -6.8792, -6.8792, -6.8792, -6.8792, -6.8792, -6.8792, -6.8792, -6.8792, -6.8205, -6.7494, -6.6449, -6.5531, -6.8161, -6.5032, -6.6971, -6.7494, -6.7288, -6.6469, -6.756, -6.7494, -6.8403, -5.7635, -5.8819, -6.1189, -6.2789, -6.2789, -5.8907, -6.2802, -6.4253, -6.1769, -6.444, -6.5018, -6.2578, -6.4386, -6.5709, -6.6098, -6.6243, -6.6243, -6.6243, -6.3689, -6.7275, -6.7673, -6.7673, -6.7673, -6.7673, -6.7673, -6.7674, -6.7433, -6.7433, -6.4908, -6.6514, -6.4311, -6.6519, -6.5771, -6.7354, -6.7417, -5.7628, -5.9974, -5.9783, -6.1441, -6.2479, -6.3636, -6.4091, -6.5276, -6.2299, -6.5553, -6.6452, -6.6852, -6.6852, -6.6852, -6.6852, -6.7842, -6.7842, -6.7843, -6.467, -6.7886, -6.7886, -6.7938, -6.8226, -6.5852, -6.8125, -6.8125, -6.8125, -6.8125, -6.8125, -6.9035, -6.7061, -6.5646, -6.4951, -6.5676, -6.5387, -6.6427, -6.7866, -5.8176, -6.1066, -6.0957, -6.041, -6.3595, -6.5091, -6.5148, -6.6282, -6.6988, -6.5451, -6.7635, -6.7635, -6.7636, -6.7636, -6.639, -6.4178, -6.5507, -6.7331, -6.7381, -6.9244, -6.9244, -6.9244, -6.9244, -6.9244, -6.8788, -6.7564, -7.1016, -7.1057, -7.1057, -7.1057, -6.953, -7.0092, -6.7382, -7.0243, -6.5585, -6.9571, -6.8232, -6.9171, -7.5653, -7.5653, -7.5653, -7.5653, -7.5653, -7.5653, -7.5653, -7.5653, -7.5653, -7.5653, -7.5653, -7.5653, -7.5653, -7.5653, -7.5653, -7.5653, -7.5653, -7.5653, -7.5653, -7.5653, -7.5653, -7.5653, -7.5653, -7.5653, -7.5653, -7.5653, -7.5653, -7.5653, -7.5653, -7.5653, -7.5651, -7.5651, -7.5651, -7.5651, -7.5652, -7.5652, -7.5652, -7.5652, -7.5652, -7.5652, -7.5652, -7.5652, -7.5652, -7.5652, -7.5652, -7.5652, -7.5652, -7.5652, -7.5652, -7.5652, -7.5652, -7.5652, -7.5652, -7.5652, -7.5652, -7.5652, -7.5652, -7.5652, -7.5652, -7.5652], \"loglift\": [30.0, 29.0, 28.0, 27.0, 26.0, 25.0, 24.0, 23.0, 22.0, 21.0, 20.0, 19.0, 18.0, 17.0, 16.0, 15.0, 14.0, 13.0, 12.0, 11.0, 10.0, 9.0, 8.0, 7.0, 6.0, 5.0, 4.0, 3.0, 2.0, 1.0, 0.9031, 0.8556, 0.8033, 0.7865, 0.7356, 0.7296, 0.7219, 0.7121, 0.7087, 0.7026, 0.7017, 0.6998, 0.6932, 0.6909, 0.6836, 0.6836, 0.681, 0.681, 0.6706, 0.6706, 0.6679, 0.6626, 0.6582, 0.6502, 0.6356, 0.6353, 0.622, 0.6083, 0.6061, 0.6061, 0.6034, 0.5893, 0.5582, 0.5017, 0.4613, 0.5569, 0.5215, 0.2003, 1.0058, 0.9468, 0.9468, 0.9156, 0.9145, 0.8586, 0.8429, 0.8294, 0.8158, 0.8029, 0.7925, 0.7925, 0.7925, 0.7681, 0.7655, 0.7588, 0.7588, 0.7584, 0.7584, 0.7584, 0.756, 0.7414, 0.7179, 0.7104, 0.7087, 0.7087, 0.7017, 0.7017, 0.7017, 0.7017, 0.6889, 0.6734, 0.6939, 0.5524, 0.5621, 0.5517, 0.5887, 0.5903, 0.5472, 1.176, 1.1364, 1.0784, 1.0229, 1.019, 1.019, 1.019, 1.019, 1.019, 1.0055, 0.9947, 0.9369, 0.8996, 0.8996, 0.8996, 0.8991, 0.8839, 0.8836, 0.8748, 0.8437, 0.8054, 0.7963, 0.7958, 0.7776, 0.7776, 0.7776, 0.7654, 0.7654, 0.7654, 0.7654, 0.7612, 0.757, 0.7439, 0.749, 0.6588, 0.5882, 0.6696, 0.6931, 0.5914, 0.6968, 0.7224, 0.5684, 1.4961, 1.3359, 1.1711, 1.0446, 0.9876, 0.9737, 0.9693, 0.9638, 0.9607, 0.9271, 0.8942, 0.8889, 0.8888, 0.8877, 0.8877, 0.8877, 0.8877, 0.8798, 0.8798, 0.8594, 0.8367, 0.8367, 0.8367, 0.8367, 0.8367, 0.8367, 0.8367, 0.8367, 0.8336, 0.7649, 0.752, 0.5524, 0.5965, 0.5603, 0.5711, 0.5523, 0.6585, 0.5631, 0.6773, 0.3499, 0.3142, 1.5081, 1.4706, 1.4017, 1.324, 1.2713, 1.2503, 1.1602, 1.1456, 1.1356, 1.0867, 1.0705, 1.0705, 1.0682, 1.0212, 0.9982, 0.8879, 0.8122, 0.7864, 0.7864, 0.7864, 0.7864, 0.7864, 0.7864, 0.7864, 0.7864, 0.7864, 0.7864, 0.7864, 0.7864, 0.7864, 0.7832, 0.7781, 0.703, 0.557, 0.7295, 0.3801, 0.5296, 0.5993, 0.4404, 0.2048, 0.4415, 0.2444, 0.3291, 1.6814, 1.5977, 1.4219, 1.2974, 1.2974, 1.2521, 1.2324, 1.1797, 1.1719, 1.1644, 1.117, 1.1123, 1.0898, 1.0595, 1.0269, 1.0147, 1.0147, 1.0146, 0.9666, 0.9269, 0.8928, 0.8928, 0.8927, 0.8927, 0.8927, 0.8927, 0.8443, 0.8106, 0.8063, 0.8016, 0.675, 0.7019, 0.5735, 0.5912, 0.62, 1.8348, 1.635, 1.5582, 1.5067, 1.4146, 1.3108, 1.2696, 1.1615, 1.1156, 1.0857, 1.0533, 1.0162, 1.0162, 1.0162, 1.0161, 0.9239, 0.9239, 0.9239, 0.9239, 0.9199, 0.9199, 0.915, 0.8881, 0.8479, 0.8405, 0.8302, 0.8248, 0.7974, 0.7894, 0.7444, 0.6532, 0.586, 0.4267, 0.5097, 0.324, 0.4275, -0.0886, 1.8006, 1.5489, 1.5117, 1.3764, 1.3217, 1.1847, 1.1794, 1.0744, 1.0087, 0.9482, 0.9481, 0.9481, 0.9481, 0.9481, 0.929, 0.9282, 0.919, 0.88, 0.7976, 0.7966, 0.7966, 0.7966, 0.7966, 0.7965, 0.7297, 0.6382, 0.628, 0.6241, 0.6241, 0.6241, 0.6158, 0.6131, 0.5368, 0.5919, 0.355, 0.5585, 0.0984, 0.0898, 0.183, 0.183, 0.183, 0.183, 0.183, 0.183, 0.183, 0.183, 0.183, 0.183, 0.183, 0.183, 0.183, 0.183, 0.183, 0.183, 0.183, 0.183, 0.183, 0.183, 0.183, 0.183, 0.183, 0.183, 0.183, 0.183, 0.183, 0.183, 0.183, 0.183, -0.8671, -0.631, -0.7025, -0.7134, -0.4949, -0.6344, -0.2034, -0.8051, -0.6124, -0.4964, -0.8692, -0.1775, -0.4148, -0.6436, -0.4654, -0.6819, -0.4224, -0.6077, -0.2138, -0.2197, -0.4966, -0.1478, -0.4557, -0.4204, -0.4974, -0.4146, -0.5564, -0.2035, -0.3648, -0.6434]}, \"token.table\": {\"Topic\": [1, 2, 1, 1, 2, 1, 4, 1, 3, 3, 1, 2, 1, 3, 2, 1, 2, 3, 3, 2, 1, 1, 1, 3, 1, 3, 3, 1, 2, 1, 2, 1, 2, 4, 1, 5, 1, 1, 2, 4, 1, 2, 4, 2, 3, 1, 1, 3, 2, 3, 1, 4, 2, 1, 2, 1, 1, 4, 2, 3, 3, 2, 3, 1, 1, 1, 2, 4, 1, 4, 2, 2, 2, 2, 2, 1, 3, 1, 2, 4, 5, 1, 4, 4, 2, 4, 4, 3, 1, 2, 4, 4, 1, 2, 4, 2, 1, 2, 1, 4, 4, 3, 2, 2, 3, 2, 2, 1, 2, 1, 4, 3, 1, 4, 1, 2, 1, 3, 1, 3, 1, 2, 1, 1, 4, 3, 4, 1, 2, 4, 2, 2, 2, 4, 2, 1, 2, 1, 4, 1, 3, 1, 3, 4, 1, 1, 2, 4, 1, 1, 3, 3, 1, 1, 2, 3, 1, 3, 1, 1, 2, 1, 2, 4, 1, 3, 2, 1, 2, 4, 4, 1, 1, 2, 1, 2, 2, 1, 1, 3, 1, 2, 3, 1, 2, 1, 2, 4, 3, 6, 2, 4, 1, 1, 3, 3, 1, 1, 2, 3, 1, 2, 1, 4, 1, 2, 1, 4, 1, 3, 2, 2, 1, 2, 4, 2, 3, 1, 1, 3, 2, 4, 2, 3, 3, 1, 3, 1, 1, 4, 1, 4, 6, 3, 1, 2, 4, 3, 1, 2, 4, 1, 2, 1, 3, 2, 1, 2, 3, 1, 1, 4, 1, 1, 2, 4, 1, 4, 3, 6, 2, 1, 2, 3, 1, 1, 2, 3, 1, 4, 3, 4, 3], \"Freq\": [0.4138687073355804, 0.4138687073355804, 0.43285596076924304, 0.40195936935861337, 0.40195936935861337, 0.6268385875164174, 0.5520278142163011, 0.5591178110664948, 0.48228020038674524, 0.5501280445155614, 0.38354031107851666, 0.44484356637033645, 0.39899732060235144, 0.39899732060235144, 0.4399504106873547, 0.37849026010728287, 0.37849026010728287, 0.4736976520568889, 0.4552247980134963, 0.48477760705014156, 0.7773885101833714, 0.47257643223411544, 0.3534081323140197, 0.3534081323140197, 0.3981014874214103, 0.3981014874214103, 0.5501286600435458, 0.4440264564624053, 0.4440264564624053, 0.36832256932793744, 0.36832256932793744, 0.3475212611740351, 0.3475212611740351, 0.5385741889265923, 0.5189549101687172, 0.5373187060336779, 0.6347000440447427, 0.3908064193840023, 0.3908064193840023, 0.3908064193840023, 0.30058367504105066, 0.30058367504105066, 0.30058367504105066, 0.40548374666607934, 0.5138110451218446, 0.46633400767243954, 0.448356416869467, 0.448356416869467, 0.47337299610168826, 0.47337299610168826, 0.3668394711380421, 0.3668394711380421, 0.4602711237339287, 0.424108238385325, 0.3851542033765101, 0.7128442392934111, 0.4433818081502587, 0.4433818081502587, 0.40747742726602937, 0.40747742726602937, 0.5079010076707471, 0.3645144055510838, 0.4293294056017769, 0.7312113505676809, 0.39071148869377753, 0.31618545705183093, 0.31618545705183093, 0.31618545705183093, 0.38249176908696453, 0.38249176908696453, 0.46007586003956236, 0.4015241919918415, 0.3954371090392155, 0.4559219933788872, 0.4779022202151622, 0.7547768315527636, 0.5373754332983985, 0.46761050696715745, 0.46761050696715745, 0.5520268086066573, 0.5292526540865665, 0.3834672446643401, 0.5461112616957802, 0.5171483797771159, 0.4653803472345521, 0.4925435576446914, 0.38544650400131814, 0.5535343425455825, 0.3750273911457785, 0.3750273911457785, 0.3750273911457785, 0.4489969014647431, 0.25954777184093036, 0.25954777184093036, 0.25954777184093036, 0.4048919486857965, 0.35716600765157824, 0.35716600765157824, 0.4470322289592642, 0.4470322289592642, 0.5520260890336025, 0.4736960261403924, 0.460269270830901, 0.48477756593046434, 0.47369710130764336, 0.48477750601784236, 0.6557761346036828, 0.7142872492534833, 0.4877107153988297, 0.4081892311009379, 0.5385747342933085, 0.5188429668353701, 0.6119275243004239, 0.3059637621502119, 0.434346749934828, 0.434346749934828, 0.43209111377721654, 0.43209111377721654, 0.4688087523686834, 0.4688087523686834, 0.38133435589784476, 0.38133435589784476, 0.5525027637045883, 0.42181624773824894, 0.5158234498250183, 0.5501280162543227, 0.5520280474938692, 0.35305178203990245, 0.35305178203990245, 0.5406901009796712, 0.4339846079860594, 0.48477686310910517, 0.6709336292875602, 0.5385736653919275, 0.5403413080864693, 0.4328574861092517, 0.44484206179190283, 0.45678576333062004, 0.5158244369057482, 0.5637534571167223, 0.5138100445715146, 0.7805632609889268, 0.5535348099206556, 0.5520276315553747, 0.72170780074151, 0.40359311949522697, 0.7361664982036048, 0.45633536384725454, 0.46998158853492, 0.4031089712264163, 0.4031089712264163, 0.5535344404344114, 0.6192829443406933, 0.6318084505454975, 0.31590422527274875, 0.5139753509420316, 0.3457478592854277, 0.3457478592854277, 0.3979576204936668, 0.5876322857948234, 0.2938161428974117, 0.35559565105520163, 0.35559565105520163, 0.5520263114317846, 0.7805528434006372, 0.41312740105122586, 0.4448451970960461, 0.38497464566064016, 0.38497464566064016, 0.38497464566064016, 0.552026580433743, 0.6102186622099854, 0.5277158409308871, 0.5277158409308871, 0.68826986169436, 0.43073371043645264, 0.42415980383728935, 0.46605895039749656, 0.33220660874688507, 0.33220660874688507, 0.3533439916346023, 0.3533439916346023, 0.3533439916346023, 0.46756430483283073, 0.46756430483283073, 0.2875630008847543, 0.2875630008847543, 0.2875630008847543, 0.4895157255772536, 0.5329714247624019, 0.4459215631474354, 0.4459215631474354, 0.615703838719995, 0.4776794712008922, 0.532614282163523, 0.5324737040036699, 0.4160341477637962, 0.7302489215800664, 0.4600714755611544, 0.47369949564652014, 0.5087239502699137, 0.5087239502699137, 0.4736865702015968, 0.4736865702015968, 0.792720965062496, 0.4134290886098077, 0.8327478446568952, 0.5406900431505592, 0.4130300325330257, 0.4130300325330257, 0.4818181040671738, 0.46026960144725976, 0.28444702153301943, 0.28444702153301943, 0.28444702153301943, 0.364843198121547, 0.364843198121547, 0.4861431752757165, 0.3835321383724236, 0.3835321383724236, 0.4573390633583633, 0.5385745873676798, 0.5008093864456706, 0.46716868549998813, 0.4770316004422113, 0.37301311968545575, 0.4737027412636756, 0.7773884553634534, 0.6100612757146446, 0.3050306378573223, 0.6431136235061793, 0.6177603127083571, 0.5147817940031881, 0.5018126511115638, 0.3139958275419949, 0.3139958275419949, 0.5520277966699723, 0.5138111252188537, 0.3378295243958962, 0.3378295243958962, 0.3378295243958962, 0.32893489933174375, 0.32893489933174375, 0.33283886927476775, 0.33283886927476775, 0.48181715130806324, 0.24391761472259482, 0.48783522944518964, 0.24391761472259482, 0.7318960798936166, 0.792729399016665, 0.4498437850173118, 0.4164739035512754, 0.3539194524212376, 0.3539194524212376, 0.3539194524212376, 0.405043421219871, 0.405043421219871, 0.3805606581409442, 0.3805606581409442, 0.7361709965975746, 0.31470691665006756, 0.31470691665006756, 0.31470691665006756, 0.5871534700048288, 0.3025991627309568, 0.3025991627309568, 0.3025991627309568, 0.40920117862867583, 0.40920117862867583, 0.5535354364671091, 0.5359750657899717, 0.461407035450639], \"Term\": [\"1\", \"1\", \"1dtemppro\", \"3\", \"3\", \"3d\", \"98\", \"abil\", \"aerob\", \"anaerob\", \"analysi\", \"appendic\", \"aquat\", \"aquat\", \"aqueous\", \"aquif\", \"aquif\", \"articl\", \"atmospher\", \"attenu\", \"attribut\", \"autom\", \"balanc\", \"balanc\", \"base\", \"base\", \"biomass\", \"block\", \"block\", \"boundari\", \"boundari\", \"calcul\", \"calcul\", \"california\", \"call\", \"cblcm\", \"cell\", \"chang\", \"chang\", \"chang\", \"channel\", \"channel\", \"channel\", \"chemic\", \"classroom\", \"climat\", \"coastal\", \"coastal\", \"compon\", \"compon\", \"conduct\", \"conduct\", \"confin\", \"consist\", \"constitu\", \"contamin\", \"control\", \"control\", \"coupl\", \"coupl\", \"cycl\", \"data\", \"degrad\", \"dem\", \"develop\", \"dimension\", \"dimension\", \"dimension\", \"discharg\", \"discharg\", \"discuss\", \"dispers\", \"dissolv\", \"distanc\", \"doubl\", \"dri\", \"driven\", \"earthquak\", \"earthquak\", \"edit\", \"erupt\", \"estim\", \"evapor\", \"fastmech\", \"fate\", \"fe\", \"feq\", \"fig\", \"file\", \"file\", \"file\", \"flexibl\", \"flow\", \"flow\", \"flow\", \"fluid\", \"flux\", \"flux\", \"follow\", \"follow\", \"foreign\", \"fractur\", \"freshwat\", \"gk15\", \"goal\", \"graizer\", \"ground\", \"groundwat\", \"heat\", \"heterogen\", \"huc\", \"hurrican\", \"hydraul\", \"hydraul\", \"hydrodynam\", \"hydrodynam\", \"identifi\", \"identifi\", \"impact\", \"impact\", \"includ\", \"includ\", \"induc\", \"infiltr\", \"inflow\", \"inhibit\", \"initi\", \"input\", \"input\", \"interv\", \"isotop\", \"kalkan\", \"keyword\", \"klamath\", \"km\", \"known\", \"lagrangian\", \"land\", \"later\", \"line\", \"locat\", \"lpf\", \"ltrm\", \"mac\", \"massachusett\", \"materi\", \"matlab\", \"maximum\", \"may\", \"method\", \"method\", \"mississippi\", \"modflow\", \"modul\", \"modul\", \"monod\", \"month\", \"month\", \"mor\", \"network\", \"network\", \"new\", \"new\", \"nt\", \"nwt\", \"ocean\", \"onedimension\", \"open\", \"open\", \"open\", \"os\", \"packag\", \"percent\", \"percent\", \"perman\", \"phreeqc\", \"plot\", \"precipit\", \"predict\", \"predict\", \"present\", \"present\", \"present\", \"pressur\", \"pressur\", \"program\", \"program\", \"program\", \"project\", \"psd\", \"quasi\", \"quasi\", \"rainfal\", \"record\", \"redox\", \"refer\", \"regress\", \"reservoir\", \"revers\", \"rock\", \"run\", \"run\", \"runoff\", \"runoff\", \"safeti\", \"saltwat\", \"scoops3d\", \"screen\", \"sediment\", \"sediment\", \"sensor\", \"sharp\", \"simul\", \"simul\", \"simul\", \"site\", \"site\", \"size\", \"softwar\", \"softwar\", \"sorption\", \"span\", \"speci\", \"specifi\", \"spreadsheet\", \"stabil\", \"statement\", \"station\", \"stream\", \"stream\", \"streamflow\", \"structur\", \"subduct\", \"submers\", \"temperatur\", \"temperatur\", \"text\", \"thornthwait\", \"three\", \"three\", \"three\", \"time\", \"time\", \"tool\", \"tool\", \"toolbox\", \"transport\", \"transport\", \"transport\", \"u\", \"unsatur\", \"unsteadi\", \"upw\", \"user\", \"user\", \"user\", \"usg\", \"usg\", \"veget\", \"veget\", \"vflux\", \"water\", \"water\", \"water\", \"watersh\", \"wave\", \"wave\", \"wave\", \"well\", \"well\", \"wildlif\", \"without\", \"zone\"]}, \"R\": 30, \"lambda.step\": 0.01, \"plot.opts\": {\"xlab\": \"PC1\", \"ylab\": \"PC2\"}, \"topic.order\": [5, 6, 4, 8, 1, 7, 3, 9, 2]};\n",
              "\n",
              "function LDAvis_load_lib(url, callback){\n",
              "  var s = document.createElement('script');\n",
              "  s.src = url;\n",
              "  s.async = true;\n",
              "  s.onreadystatechange = s.onload = callback;\n",
              "  s.onerror = function(){console.warn(\"failed to load library \" + url);};\n",
              "  document.getElementsByTagName(\"head\")[0].appendChild(s);\n",
              "}\n",
              "\n",
              "if(typeof(LDAvis) !== \"undefined\"){\n",
              "   // already loaded: just create the visualization\n",
              "   !function(LDAvis){\n",
              "       new LDAvis(\"#\" + \"ldavis_el4471396892280077606107008015\", ldavis_el4471396892280077606107008015_data);\n",
              "   }(LDAvis);\n",
              "}else if(typeof define === \"function\" && define.amd){\n",
              "   // require.js is available: use it to load d3/LDAvis\n",
              "   require.config({paths: {d3: \"https://d3js.org/d3.v5\"}});\n",
              "   require([\"d3\"], function(d3){\n",
              "      window.d3 = d3;\n",
              "      LDAvis_load_lib(\"https://cdn.jsdelivr.net/gh/bmabey/pyLDAvis@3.3.1/pyLDAvis/js/ldavis.v3.0.0.js\", function(){\n",
              "        new LDAvis(\"#\" + \"ldavis_el4471396892280077606107008015\", ldavis_el4471396892280077606107008015_data);\n",
              "      });\n",
              "    });\n",
              "}else{\n",
              "    // require.js not available: dynamically load d3 & LDAvis\n",
              "    LDAvis_load_lib(\"https://d3js.org/d3.v5.js\", function(){\n",
              "         LDAvis_load_lib(\"https://cdn.jsdelivr.net/gh/bmabey/pyLDAvis@3.3.1/pyLDAvis/js/ldavis.v3.0.0.js\", function(){\n",
              "                 new LDAvis(\"#\" + \"ldavis_el4471396892280077606107008015\", ldavis_el4471396892280077606107008015_data);\n",
              "            })\n",
              "         });\n",
              "}\n",
              "</script>"
            ],
            "text/plain": [
              "<IPython.core.display.HTML object>"
            ]
          },
          "metadata": {
            "tags": []
          },
          "execution_count": 123
        }
      ]
    },
    {
      "cell_type": "markdown",
      "metadata": {
        "id": "JreIHeP6WHZ2"
      },
      "source": [
        "## HDBSCAN "
      ]
    },
    {
      "cell_type": "code",
      "metadata": {
        "id": "kccdPh4ECLU3"
      },
      "source": [
        "tfidf_vectorizer = TfidfVectorizer(max_df=0.95, min_df=2,\n",
        "                                   max_features=1000,\n",
        "                                   stop_words='english')\n",
        "tfidf_vec = tfidf_vectorizer.fit_transform(document_list)\n",
        "# tfidf_tokens = tfidfvectorizer.get_feature_names()"
      ],
      "execution_count": 124,
      "outputs": []
    },
    {
      "cell_type": "code",
      "metadata": {
        "id": "emRpt1P5WFN-"
      },
      "source": [
        "%%capture\n",
        "!pip install hdbscan\n",
        "import hdbscan"
      ],
      "execution_count": 125,
      "outputs": []
    },
    {
      "cell_type": "code",
      "metadata": {
        "id": "LhGAw-YF0aX9"
      },
      "source": [
        "tfidf_vec = tfidf_vec.todense()"
      ],
      "execution_count": 126,
      "outputs": []
    },
    {
      "cell_type": "code",
      "metadata": {
        "id": "tPBrow_Ek4hK"
      },
      "source": [
        "hdb_model = hdbscan.HDBSCAN(min_cluster_size=2, metric='euclidean', cluster_selection_method='eom',prediction_data=True) #min_samples=2, \n",
        "hdp_labels = hdb_model.fit_predict(tfidf_vec)\n",
        "dataset['HDBSCAN_Topic'] = hdp_labels"
      ],
      "execution_count": 127,
      "outputs": []
    },
    {
      "cell_type": "code",
      "metadata": {
        "id": "4h9JlYDbO4gI",
        "colab": {
          "base_uri": "https://localhost:8080/"
        },
        "outputId": "626e12d4-5c7e-4cfc-c3f2-f1a4d161225d"
      },
      "source": [
        "# Number of clusters in labels, ignoring noise if present.\n",
        "n_clusters_ = len(set(hdp_labels)) - (1 if -1 in hdp_labels else 0)\n",
        "n_noise_ = list(hdp_labels).count(-1)\n",
        "print('Number of HDBSCAN topics: ', n_clusters_)\n",
        "print('Number of outliers: ', n_noise_)"
      ],
      "execution_count": 128,
      "outputs": [
        {
          "output_type": "stream",
          "text": [
            "Number of HDBSCAN topics:  12\n",
            "Number of outliers:  11\n"
          ],
          "name": "stdout"
        }
      ]
    },
    {
      "cell_type": "markdown",
      "metadata": {
        "id": "TNhJ6qxVh8sY"
      },
      "source": [
        "#### Train Set HDBSCAN"
      ]
    },
    {
      "cell_type": "markdown",
      "metadata": {
        "id": "B1PUUP2b04vs"
      },
      "source": [
        "##### HDBSCAN Training Coherence Score - n/a"
      ]
    },
    {
      "cell_type": "code",
      "metadata": {
        "id": "KR2Jc81D04Cs"
      },
      "source": [
        "# cm = models.CoherenceModel(model= hdb_model, corpus = corpus_tfidf, texts=document_list, dictionary=dictionary, coherence='u_mass')\n",
        "# lsa_score = cm.get_coherence()\n",
        "\n",
        "# ValueError: This topic model is not currently supported. Supported topic models should implement the `get_topics` method."
      ],
      "execution_count": 129,
      "outputs": []
    },
    {
      "cell_type": "markdown",
      "metadata": {
        "id": "nULZR9Y2ltja"
      },
      "source": [
        "##### HDBSCAN Training Silhouette Score 0.21\n"
      ]
    },
    {
      "cell_type": "code",
      "metadata": {
        "colab": {
          "base_uri": "https://localhost:8080/"
        },
        "id": "qYc9sulAlrQC",
        "outputId": "8eb2df23-a303-421d-dd1e-769cb2239a7b"
      },
      "source": [
        "HDB_score = metrics.silhouette_score(tfidf_vec, hdp_labels)\n",
        "HDB_score"
      ],
      "execution_count": 130,
      "outputs": [
        {
          "output_type": "execute_result",
          "data": {
            "text/plain": [
              "0.04744266619346962"
            ]
          },
          "metadata": {
            "tags": []
          },
          "execution_count": 130
        }
      ]
    },
    {
      "cell_type": "markdown",
      "metadata": {
        "id": "dW0jLB7QiJTc"
      },
      "source": [
        "#### Test Set HDBSCAN \n",
        "If we do not change the existing clusters, to which cluster would HDBSCAN assign new data points? <br>\n",
        "Be sure to use dense matrices in order for approximate_predict to work"
      ]
    },
    {
      "cell_type": "code",
      "metadata": {
        "id": "dAn0yhg8AP5q"
      },
      "source": [
        "test_points = tfidf_vectorizer.transform(test_document_list)\n",
        "test_points = test_points.todense()\n",
        "test_labels, strengths = hdbscan.approximate_predict(hdb_model, test_points)\n",
        "df_test['HDBSCAN_Topic'] = test_labels"
      ],
      "execution_count": 131,
      "outputs": []
    },
    {
      "cell_type": "markdown",
      "metadata": {
        "id": "cWNZWX5g5Lyv"
      },
      "source": [
        "##### HDBSCAN Testing Silhouette Score -0.03"
      ]
    },
    {
      "cell_type": "code",
      "metadata": {
        "colab": {
          "base_uri": "https://localhost:8080/"
        },
        "id": "rByGkdv35LLu",
        "outputId": "56ce4dda-24c4-4a92-d950-5ea6421490ee"
      },
      "source": [
        "HDB_score2 = metrics.silhouette_score(test_points, test_labels)\n",
        "HDB_score2"
      ],
      "execution_count": 132,
      "outputs": [
        {
          "output_type": "execute_result",
          "data": {
            "text/plain": [
              "-0.026680878974332467"
            ]
          },
          "metadata": {
            "tags": []
          },
          "execution_count": 132
        }
      ]
    },
    {
      "cell_type": "markdown",
      "metadata": {
        "id": "FqtT9ogtdac0"
      },
      "source": [
        "## Top2Vec\n",
        "Deep HDBSCAN: Create jointly embedded document and word vectors using BERT Sentence Transformer. Create lower dimensional embedding of document vectors using UMAP. Find dense areas of documents using HDBSCAN.  For each dense area calculate the centroid of document vectors in original dimension, this is the topic vector.  Find n-closest word vectors to the resulting topic vector. <br><br>\n",
        "*Error: need at least one array to concatenate. The model is putting everyhing into one topic and crashing*<br>"
      ]
    },
    {
      "cell_type": "code",
      "metadata": {
        "id": "ADh-POyBUH34"
      },
      "source": [
        "# %%capture\n",
        "# !pip install torch sentence_transformers\n",
        "# !pip install top2vec[sentence_transformers]\n",
        "# from top2vec import Top2Vec"
      ],
      "execution_count": 133,
      "outputs": []
    },
    {
      "cell_type": "code",
      "metadata": {
        "id": "91WenPqhixJn"
      },
      "source": [
        "# top2vec_model = Top2Vec(document_list, embedding_model='distiluse-base-multilingual-cased', use_embedding_model_tokenizer = True)"
      ],
      "execution_count": 134,
      "outputs": []
    },
    {
      "cell_type": "markdown",
      "metadata": {
        "id": "YuM80mdWj05V"
      },
      "source": [
        "## BERTopic"
      ]
    },
    {
      "cell_type": "code",
      "metadata": {
        "id": "hKq2dr8nj3NH"
      },
      "source": [
        "%%capture\n",
        "!pip install bertopic[all]\n",
        "from bertopic import BERTopic\n",
        "import umap\n",
        "from umap import UMAP\n",
        "#Note that if this gives an error on the first run, Try running it again and it should work."
      ],
      "execution_count": 135,
      "outputs": []
    },
    {
      "cell_type": "code",
      "metadata": {
        "id": "yJfQtQkqlijJ"
      },
      "source": [
        "# umap_model = UMAP(n_neighbors=10, n_components=5, min_dist=0.0, metric='cosine')\n",
        "hdbscan_model = hdbscan.HDBSCAN(min_cluster_size=2, metric='euclidean', cluster_selection_method='eom', prediction_data=True) #leaf_size=10, cluster_selection_epsilon=0.5, min_samples=2, \n",
        "\n",
        "topic_model = BERTopic(hdbscan_model=hdbscan_model, embedding_model=\"paraphrase-distilroberta-base-v1\", \n",
        "                       min_topic_size=2, calculate_probabilities= True, language=\"english\", n_gram_range=(1, 3)) #n_gram_range=(1, 3)\n",
        "# topic_model = BERTopic(hdbscan_model=hdbscan_model, embedding_model=\"bert-large-nli-stsb-mean-tokens\", min_topic_size=2)\n",
        "# topic_model = BERTopic(hdbscan_model=hdbscan_model, embedding_model=\"stsb-mpnet-base-v2\", min_topic_size=2)\n",
        "\n",
        "topics, probs  = topic_model.fit_transform(document_list)"
      ],
      "execution_count": 136,
      "outputs": []
    },
    {
      "cell_type": "code",
      "metadata": {
        "colab": {
          "base_uri": "https://localhost:8080/",
          "height": 246
        },
        "id": "Gm6Y_-gBlyLG",
        "outputId": "4dc8e6b8-af43-49d3-e0c3-3557902cccc5"
      },
      "source": [
        "topic_model.get_topic_info()"
      ],
      "execution_count": 137,
      "outputs": [
        {
          "output_type": "execute_result",
          "data": {
            "text/html": [
              "<div>\n",
              "<style scoped>\n",
              "    .dataframe tbody tr th:only-of-type {\n",
              "        vertical-align: middle;\n",
              "    }\n",
              "\n",
              "    .dataframe tbody tr th {\n",
              "        vertical-align: top;\n",
              "    }\n",
              "\n",
              "    .dataframe thead th {\n",
              "        text-align: right;\n",
              "    }\n",
              "</style>\n",
              "<table border=\"1\" class=\"dataframe\">\n",
              "  <thead>\n",
              "    <tr style=\"text-align: right;\">\n",
              "      <th></th>\n",
              "      <th>Topic</th>\n",
              "      <th>Count</th>\n",
              "      <th>Name</th>\n",
              "    </tr>\n",
              "  </thead>\n",
              "  <tbody>\n",
              "    <tr>\n",
              "      <th>0</th>\n",
              "      <td>-1</td>\n",
              "      <td>9</td>\n",
              "      <td>-1_can_can be_keyword_phreeqc</td>\n",
              "    </tr>\n",
              "    <tr>\n",
              "      <th>1</th>\n",
              "      <td>2</td>\n",
              "      <td>7</td>\n",
              "      <td>2_of_water_fish_the model</td>\n",
              "    </tr>\n",
              "    <tr>\n",
              "      <th>2</th>\n",
              "      <td>3</td>\n",
              "      <td>7</td>\n",
              "      <td>3_model_transport_is_the model</td>\n",
              "    </tr>\n",
              "    <tr>\n",
              "      <th>3</th>\n",
              "      <td>5</td>\n",
              "      <td>7</td>\n",
              "      <td>5_program_vs2drti_transport_programs</td>\n",
              "    </tr>\n",
              "    <tr>\n",
              "      <th>4</th>\n",
              "      <td>4</td>\n",
              "      <td>4</td>\n",
              "      <td>4_map_count_count circle_isopleth</td>\n",
              "    </tr>\n",
              "    <tr>\n",
              "      <th>5</th>\n",
              "      <td>0</td>\n",
              "      <td>3</td>\n",
              "      <td>0_hydraulic_flow_subduction_interface</td>\n",
              "    </tr>\n",
              "    <tr>\n",
              "      <th>6</th>\n",
              "      <td>1</td>\n",
              "      <td>3</td>\n",
              "      <td>1_modflow_flow_lpf_upw</td>\n",
              "    </tr>\n",
              "  </tbody>\n",
              "</table>\n",
              "</div>"
            ],
            "text/plain": [
              "   Topic  Count                                   Name\n",
              "0     -1      9          -1_can_can be_keyword_phreeqc\n",
              "1      2      7              2_of_water_fish_the model\n",
              "2      3      7         3_model_transport_is_the model\n",
              "3      5      7   5_program_vs2drti_transport_programs\n",
              "4      4      4      4_map_count_count circle_isopleth\n",
              "5      0      3  0_hydraulic_flow_subduction_interface\n",
              "6      1      3                 1_modflow_flow_lpf_upw"
            ]
          },
          "metadata": {
            "tags": []
          },
          "execution_count": 137
        }
      ]
    },
    {
      "cell_type": "code",
      "metadata": {
        "colab": {
          "base_uri": "https://localhost:8080/"
        },
        "id": "cJBbVZFaly1W",
        "outputId": "ecf7486d-fb56-476e-e743-485f1da86f9b"
      },
      "source": [
        "topic_model.get_topic(3)"
      ],
      "execution_count": 138,
      "outputs": [
        {
          "output_type": "execute_result",
          "data": {
            "text/plain": [
              "[('model', 0.027080437788192985),\n",
              " ('transport', 0.021180771756100596),\n",
              " ('is', 0.01901749366382378),\n",
              " ('the model', 0.015464249569117143),\n",
              " ('psd', 0.013076847095622308),\n",
              " ('may', 0.0105293874051584),\n",
              " ('sorption', 0.010271264769664806),\n",
              " ('oteq', 0.008804245697516744),\n",
              " ('transport model', 0.008559387308054006),\n",
              " ('dimensional', 0.008252307527931739)]"
            ]
          },
          "metadata": {
            "tags": []
          },
          "execution_count": 138
        }
      ]
    },
    {
      "cell_type": "code",
      "metadata": {
        "colab": {
          "base_uri": "https://localhost:8080/"
        },
        "id": "FQdODNS0_Xw6",
        "outputId": "266a1bda-558c-44fa-d55c-9cb30ea900a7"
      },
      "source": [
        "topic_model.get_topic(0)"
      ],
      "execution_count": 139,
      "outputs": [
        {
          "output_type": "execute_result",
          "data": {
            "text/plain": [
              "[('hydraulic', 0.020437858498180986),\n",
              " ('flow', 0.020326516858907576),\n",
              " ('subduction', 0.01870902210722308),\n",
              " ('interface', 0.01645885840755336),\n",
              " ('saltwater', 0.015476677848596293),\n",
              " ('conductivity', 0.014967217685778463),\n",
              " ('hydraulic conductivity', 0.014967217685778463),\n",
              " ('equations', 0.012968430614194218),\n",
              " ('subduction zones', 0.01210011467489205),\n",
              " ('difference', 0.01210011467489205)]"
            ]
          },
          "metadata": {
            "tags": []
          },
          "execution_count": 139
        }
      ]
    },
    {
      "cell_type": "code",
      "metadata": {
        "colab": {
          "base_uri": "https://localhost:8080/"
        },
        "id": "x51OlLTKl67R",
        "outputId": "75bd3786-4d13-4700-88aa-d0043636480c"
      },
      "source": [
        "topic_model.find_topics(\"pollution\")"
      ],
      "execution_count": 140,
      "outputs": [
        {
          "output_type": "execute_result",
          "data": {
            "text/plain": [
              "([0, 1, 2, 3, -1],\n",
              " [0.4859534648387763,\n",
              "  0.45279862389847425,\n",
              "  0.44686397041918274,\n",
              "  0.4124672529019081,\n",
              "  0.3822883571810237])"
            ]
          },
          "metadata": {
            "tags": []
          },
          "execution_count": 140
        }
      ]
    },
    {
      "cell_type": "code",
      "metadata": {
        "colab": {
          "base_uri": "https://localhost:8080/",
          "height": 667
        },
        "id": "D4hM9q79l9wY",
        "outputId": "9a4d68d5-0d4b-4dab-e69f-1429bdcc04be"
      },
      "source": [
        "topic_model.visualize_topics()"
      ],
      "execution_count": 141,
      "outputs": [
        {
          "output_type": "display_data",
          "data": {
            "text/html": [
              "<html>\n",
              "<head><meta charset=\"utf-8\" /></head>\n",
              "<body>\n",
              "    <div>            <script src=\"https://cdnjs.cloudflare.com/ajax/libs/mathjax/2.7.5/MathJax.js?config=TeX-AMS-MML_SVG\"></script><script type=\"text/javascript\">if (window.MathJax) {MathJax.Hub.Config({SVG: {font: \"STIX-Web\"}});}</script>                <script type=\"text/javascript\">window.PlotlyConfig = {MathJaxConfig: 'local'};</script>\n",
              "        <script src=\"https://cdn.plot.ly/plotly-latest.min.js\"></script>                <div id=\"adc64b63-dcf6-4a01-afa2-22eec75b6425\" class=\"plotly-graph-div\" style=\"height:650px; width:650px;\"></div>            <script type=\"text/javascript\">                                    window.PLOTLYENV=window.PLOTLYENV || {};                                    if (document.getElementById(\"adc64b63-dcf6-4a01-afa2-22eec75b6425\")) {                    Plotly.newPlot(                        \"adc64b63-dcf6-4a01-afa2-22eec75b6425\",                        [{\"customdata\": [[8.492130279541016, 12.906067848205566, 0, \"hydraulic | flow | subduction | interface | saltwater\", 3], [8.32005786895752, 13.525245666503906, 1, \"modflow | flow | lpf | upw | modflow nwt\", 3], [6.512711524963379, 15.259142875671387, 2, \"of | water | fish | the model | we\", 7], [7.139365196228027, 15.304676055908203, 3, \"model | transport | is | the model | psd\", 7], [8.975114822387695, 14.316265106201172, 4, \"map | count | count circle | isopleth | ptcount\", 4], [8.372771263122559, 14.284388542175293, 5, \"program | vs2drti | transport | programs | simulation\", 7]], \"hovertemplate\": \"<b>Topic %{customdata[2]}</b><br>Words: %{customdata[3]}<br>Size: %{customdata[4]}\", \"legendgroup\": \"\", \"marker\": {\"color\": \"#B0BEC5\", \"line\": {\"color\": \"DarkSlateGrey\", \"width\": 2}, \"size\": [3, 3, 7, 7, 4, 7], \"sizemode\": \"area\", \"sizeref\": 0.004375, \"symbol\": \"circle\"}, \"mode\": \"markers\", \"name\": \"\", \"orientation\": \"v\", \"showlegend\": false, \"type\": \"scatter\", \"x\": [8.492130279541016, 8.32005786895752, 6.512711524963379, 7.139365196228027, 8.975114822387695, 8.372771263122559], \"xaxis\": \"x\", \"y\": [12.906067848205566, 13.525245666503906, 15.259142875671387, 15.304676055908203, 14.316265106201172, 14.284388542175293], \"yaxis\": \"y\"}],                        {\"annotations\": [{\"showarrow\": false, \"text\": \"D1\", \"x\": 5.535804796218872, \"y\": 14.285267567634582, \"yshift\": 10}, {\"showarrow\": false, \"text\": \"D2\", \"x\": 7.928593420982361, \"xshift\": 10, \"y\": 17.600377464294432}], \"height\": 650, \"hoverlabel\": {\"bgcolor\": \"white\", \"font\": {\"family\": \"Rockwell\", \"size\": 16}}, \"legend\": {\"itemsizing\": \"constant\", \"tracegroupgap\": 0}, \"margin\": {\"t\": 60}, \"shapes\": [{\"line\": {\"color\": \"#CFD8DC\", \"width\": 2}, \"type\": \"line\", \"x0\": 7.928593420982361, \"x1\": 7.928593420982361, \"y0\": 10.970157670974732, \"y1\": 17.600377464294432}, {\"line\": {\"color\": \"#9E9E9E\", \"width\": 2}, \"type\": \"line\", \"x0\": 5.535804796218872, \"x1\": 10.32138204574585, \"y0\": 14.285267567634582, \"y1\": 14.285267567634582}], \"sliders\": [{\"active\": 0, \"pad\": {\"t\": 50}, \"steps\": [{\"args\": [{\"marker.color\": [[\"red\", \"#B0BEC5\", \"#B0BEC5\", \"#B0BEC5\", \"#B0BEC5\", \"#B0BEC5\"]]}], \"label\": \"Topic 0\", \"method\": \"update\"}, {\"args\": [{\"marker.color\": [[\"#B0BEC5\", \"red\", \"#B0BEC5\", \"#B0BEC5\", \"#B0BEC5\", \"#B0BEC5\"]]}], \"label\": \"Topic 1\", \"method\": \"update\"}, {\"args\": [{\"marker.color\": [[\"#B0BEC5\", \"#B0BEC5\", \"red\", \"#B0BEC5\", \"#B0BEC5\", \"#B0BEC5\"]]}], \"label\": \"Topic 2\", \"method\": \"update\"}, {\"args\": [{\"marker.color\": [[\"#B0BEC5\", \"#B0BEC5\", \"#B0BEC5\", \"red\", \"#B0BEC5\", \"#B0BEC5\"]]}], \"label\": \"Topic 3\", \"method\": \"update\"}, {\"args\": [{\"marker.color\": [[\"#B0BEC5\", \"#B0BEC5\", \"#B0BEC5\", \"#B0BEC5\", \"red\", \"#B0BEC5\"]]}], \"label\": \"Topic 4\", \"method\": \"update\"}, {\"args\": [{\"marker.color\": [[\"#B0BEC5\", \"#B0BEC5\", \"#B0BEC5\", \"#B0BEC5\", \"#B0BEC5\", \"red\"]]}], \"label\": \"Topic 5\", \"method\": \"update\"}]}], \"template\": {\"data\": {\"bar\": [{\"error_x\": {\"color\": \"rgb(36,36,36)\"}, \"error_y\": {\"color\": \"rgb(36,36,36)\"}, \"marker\": {\"line\": {\"color\": \"white\", \"width\": 0.5}}, \"type\": \"bar\"}], \"barpolar\": [{\"marker\": {\"line\": {\"color\": \"white\", \"width\": 0.5}}, \"type\": \"barpolar\"}], \"carpet\": [{\"aaxis\": {\"endlinecolor\": \"rgb(36,36,36)\", \"gridcolor\": \"white\", \"linecolor\": \"white\", \"minorgridcolor\": \"white\", \"startlinecolor\": \"rgb(36,36,36)\"}, \"baxis\": {\"endlinecolor\": \"rgb(36,36,36)\", \"gridcolor\": \"white\", \"linecolor\": \"white\", \"minorgridcolor\": \"white\", \"startlinecolor\": \"rgb(36,36,36)\"}, \"type\": \"carpet\"}], \"choropleth\": [{\"colorbar\": {\"outlinewidth\": 1, \"tickcolor\": \"rgb(36,36,36)\", \"ticks\": \"outside\"}, \"type\": \"choropleth\"}], \"contour\": [{\"colorbar\": {\"outlinewidth\": 1, \"tickcolor\": \"rgb(36,36,36)\", \"ticks\": \"outside\"}, \"colorscale\": [[0.0, \"#440154\"], [0.1111111111111111, \"#482878\"], [0.2222222222222222, \"#3e4989\"], [0.3333333333333333, \"#31688e\"], [0.4444444444444444, \"#26828e\"], [0.5555555555555556, \"#1f9e89\"], [0.6666666666666666, \"#35b779\"], [0.7777777777777778, \"#6ece58\"], [0.8888888888888888, \"#b5de2b\"], [1.0, \"#fde725\"]], \"type\": \"contour\"}], \"contourcarpet\": [{\"colorbar\": {\"outlinewidth\": 1, \"tickcolor\": \"rgb(36,36,36)\", \"ticks\": \"outside\"}, \"type\": \"contourcarpet\"}], \"heatmap\": [{\"colorbar\": {\"outlinewidth\": 1, \"tickcolor\": \"rgb(36,36,36)\", \"ticks\": \"outside\"}, \"colorscale\": [[0.0, \"#440154\"], [0.1111111111111111, \"#482878\"], [0.2222222222222222, \"#3e4989\"], [0.3333333333333333, \"#31688e\"], [0.4444444444444444, \"#26828e\"], [0.5555555555555556, \"#1f9e89\"], [0.6666666666666666, \"#35b779\"], [0.7777777777777778, \"#6ece58\"], [0.8888888888888888, \"#b5de2b\"], [1.0, \"#fde725\"]], \"type\": \"heatmap\"}], \"heatmapgl\": [{\"colorbar\": {\"outlinewidth\": 1, \"tickcolor\": \"rgb(36,36,36)\", \"ticks\": \"outside\"}, \"colorscale\": [[0.0, \"#440154\"], [0.1111111111111111, \"#482878\"], [0.2222222222222222, \"#3e4989\"], [0.3333333333333333, \"#31688e\"], [0.4444444444444444, \"#26828e\"], [0.5555555555555556, \"#1f9e89\"], [0.6666666666666666, \"#35b779\"], [0.7777777777777778, \"#6ece58\"], [0.8888888888888888, \"#b5de2b\"], [1.0, \"#fde725\"]], \"type\": \"heatmapgl\"}], \"histogram\": [{\"marker\": {\"line\": {\"color\": \"white\", \"width\": 0.6}}, \"type\": \"histogram\"}], \"histogram2d\": [{\"colorbar\": {\"outlinewidth\": 1, \"tickcolor\": \"rgb(36,36,36)\", \"ticks\": \"outside\"}, \"colorscale\": [[0.0, \"#440154\"], [0.1111111111111111, \"#482878\"], [0.2222222222222222, \"#3e4989\"], [0.3333333333333333, \"#31688e\"], [0.4444444444444444, \"#26828e\"], [0.5555555555555556, \"#1f9e89\"], [0.6666666666666666, \"#35b779\"], [0.7777777777777778, \"#6ece58\"], [0.8888888888888888, \"#b5de2b\"], [1.0, \"#fde725\"]], \"type\": \"histogram2d\"}], \"histogram2dcontour\": [{\"colorbar\": {\"outlinewidth\": 1, \"tickcolor\": \"rgb(36,36,36)\", \"ticks\": \"outside\"}, \"colorscale\": [[0.0, \"#440154\"], [0.1111111111111111, \"#482878\"], [0.2222222222222222, \"#3e4989\"], [0.3333333333333333, \"#31688e\"], [0.4444444444444444, \"#26828e\"], [0.5555555555555556, \"#1f9e89\"], [0.6666666666666666, \"#35b779\"], [0.7777777777777778, \"#6ece58\"], [0.8888888888888888, \"#b5de2b\"], [1.0, \"#fde725\"]], \"type\": \"histogram2dcontour\"}], \"mesh3d\": [{\"colorbar\": {\"outlinewidth\": 1, \"tickcolor\": \"rgb(36,36,36)\", \"ticks\": \"outside\"}, \"type\": \"mesh3d\"}], \"parcoords\": [{\"line\": {\"colorbar\": {\"outlinewidth\": 1, \"tickcolor\": \"rgb(36,36,36)\", \"ticks\": \"outside\"}}, \"type\": \"parcoords\"}], \"pie\": [{\"automargin\": true, \"type\": \"pie\"}], \"scatter\": [{\"marker\": {\"colorbar\": {\"outlinewidth\": 1, \"tickcolor\": \"rgb(36,36,36)\", \"ticks\": \"outside\"}}, \"type\": \"scatter\"}], \"scatter3d\": [{\"line\": {\"colorbar\": {\"outlinewidth\": 1, \"tickcolor\": \"rgb(36,36,36)\", \"ticks\": \"outside\"}}, \"marker\": {\"colorbar\": {\"outlinewidth\": 1, \"tickcolor\": \"rgb(36,36,36)\", \"ticks\": \"outside\"}}, \"type\": \"scatter3d\"}], \"scattercarpet\": [{\"marker\": {\"colorbar\": {\"outlinewidth\": 1, \"tickcolor\": \"rgb(36,36,36)\", \"ticks\": \"outside\"}}, \"type\": \"scattercarpet\"}], \"scattergeo\": [{\"marker\": {\"colorbar\": {\"outlinewidth\": 1, \"tickcolor\": \"rgb(36,36,36)\", \"ticks\": \"outside\"}}, \"type\": \"scattergeo\"}], \"scattergl\": [{\"marker\": {\"colorbar\": {\"outlinewidth\": 1, \"tickcolor\": \"rgb(36,36,36)\", \"ticks\": \"outside\"}}, \"type\": \"scattergl\"}], \"scattermapbox\": [{\"marker\": {\"colorbar\": {\"outlinewidth\": 1, \"tickcolor\": \"rgb(36,36,36)\", \"ticks\": \"outside\"}}, \"type\": \"scattermapbox\"}], \"scatterpolar\": [{\"marker\": {\"colorbar\": {\"outlinewidth\": 1, \"tickcolor\": \"rgb(36,36,36)\", \"ticks\": \"outside\"}}, \"type\": \"scatterpolar\"}], \"scatterpolargl\": [{\"marker\": {\"colorbar\": {\"outlinewidth\": 1, \"tickcolor\": \"rgb(36,36,36)\", \"ticks\": \"outside\"}}, \"type\": \"scatterpolargl\"}], \"scatterternary\": [{\"marker\": {\"colorbar\": {\"outlinewidth\": 1, \"tickcolor\": \"rgb(36,36,36)\", \"ticks\": \"outside\"}}, \"type\": \"scatterternary\"}], \"surface\": [{\"colorbar\": {\"outlinewidth\": 1, \"tickcolor\": \"rgb(36,36,36)\", \"ticks\": \"outside\"}, \"colorscale\": [[0.0, \"#440154\"], [0.1111111111111111, \"#482878\"], [0.2222222222222222, \"#3e4989\"], [0.3333333333333333, \"#31688e\"], [0.4444444444444444, \"#26828e\"], [0.5555555555555556, \"#1f9e89\"], [0.6666666666666666, \"#35b779\"], [0.7777777777777778, \"#6ece58\"], [0.8888888888888888, \"#b5de2b\"], [1.0, \"#fde725\"]], \"type\": \"surface\"}], \"table\": [{\"cells\": {\"fill\": {\"color\": \"rgb(237,237,237)\"}, \"line\": {\"color\": \"white\"}}, \"header\": {\"fill\": {\"color\": \"rgb(217,217,217)\"}, \"line\": {\"color\": \"white\"}}, \"type\": \"table\"}]}, \"layout\": {\"annotationdefaults\": {\"arrowhead\": 0, \"arrowwidth\": 1}, \"autotypenumbers\": \"strict\", \"coloraxis\": {\"colorbar\": {\"outlinewidth\": 1, \"tickcolor\": \"rgb(36,36,36)\", \"ticks\": \"outside\"}}, \"colorscale\": {\"diverging\": [[0.0, \"rgb(103,0,31)\"], [0.1, \"rgb(178,24,43)\"], [0.2, \"rgb(214,96,77)\"], [0.3, \"rgb(244,165,130)\"], [0.4, \"rgb(253,219,199)\"], [0.5, \"rgb(247,247,247)\"], [0.6, \"rgb(209,229,240)\"], [0.7, \"rgb(146,197,222)\"], [0.8, \"rgb(67,147,195)\"], [0.9, \"rgb(33,102,172)\"], [1.0, \"rgb(5,48,97)\"]], \"sequential\": [[0.0, \"#440154\"], [0.1111111111111111, \"#482878\"], [0.2222222222222222, \"#3e4989\"], [0.3333333333333333, \"#31688e\"], [0.4444444444444444, \"#26828e\"], [0.5555555555555556, \"#1f9e89\"], [0.6666666666666666, \"#35b779\"], [0.7777777777777778, \"#6ece58\"], [0.8888888888888888, \"#b5de2b\"], [1.0, \"#fde725\"]], \"sequentialminus\": [[0.0, \"#440154\"], [0.1111111111111111, \"#482878\"], [0.2222222222222222, \"#3e4989\"], [0.3333333333333333, \"#31688e\"], [0.4444444444444444, \"#26828e\"], [0.5555555555555556, \"#1f9e89\"], [0.6666666666666666, \"#35b779\"], [0.7777777777777778, \"#6ece58\"], [0.8888888888888888, \"#b5de2b\"], [1.0, \"#fde725\"]]}, \"colorway\": [\"#1F77B4\", \"#FF7F0E\", \"#2CA02C\", \"#D62728\", \"#9467BD\", \"#8C564B\", \"#E377C2\", \"#7F7F7F\", \"#BCBD22\", \"#17BECF\"], \"font\": {\"color\": \"rgb(36,36,36)\"}, \"geo\": {\"bgcolor\": \"white\", \"lakecolor\": \"white\", \"landcolor\": \"white\", \"showlakes\": true, \"showland\": true, \"subunitcolor\": \"white\"}, \"hoverlabel\": {\"align\": \"left\"}, \"hovermode\": \"closest\", \"mapbox\": {\"style\": \"light\"}, \"paper_bgcolor\": \"white\", \"plot_bgcolor\": \"white\", \"polar\": {\"angularaxis\": {\"gridcolor\": \"rgb(232,232,232)\", \"linecolor\": \"rgb(36,36,36)\", \"showgrid\": false, \"showline\": true, \"ticks\": \"outside\"}, \"bgcolor\": \"white\", \"radialaxis\": {\"gridcolor\": \"rgb(232,232,232)\", \"linecolor\": \"rgb(36,36,36)\", \"showgrid\": false, \"showline\": true, \"ticks\": \"outside\"}}, \"scene\": {\"xaxis\": {\"backgroundcolor\": \"white\", \"gridcolor\": \"rgb(232,232,232)\", \"gridwidth\": 2, \"linecolor\": \"rgb(36,36,36)\", \"showbackground\": true, \"showgrid\": false, \"showline\": true, \"ticks\": \"outside\", \"zeroline\": false, \"zerolinecolor\": \"rgb(36,36,36)\"}, \"yaxis\": {\"backgroundcolor\": \"white\", \"gridcolor\": \"rgb(232,232,232)\", \"gridwidth\": 2, \"linecolor\": \"rgb(36,36,36)\", \"showbackground\": true, \"showgrid\": false, \"showline\": true, \"ticks\": \"outside\", \"zeroline\": false, \"zerolinecolor\": \"rgb(36,36,36)\"}, \"zaxis\": {\"backgroundcolor\": \"white\", \"gridcolor\": \"rgb(232,232,232)\", \"gridwidth\": 2, \"linecolor\": \"rgb(36,36,36)\", \"showbackground\": true, \"showgrid\": false, \"showline\": true, \"ticks\": \"outside\", \"zeroline\": false, \"zerolinecolor\": \"rgb(36,36,36)\"}}, \"shapedefaults\": {\"fillcolor\": \"black\", \"line\": {\"width\": 0}, \"opacity\": 0.3}, \"ternary\": {\"aaxis\": {\"gridcolor\": \"rgb(232,232,232)\", \"linecolor\": \"rgb(36,36,36)\", \"showgrid\": false, \"showline\": true, \"ticks\": \"outside\"}, \"baxis\": {\"gridcolor\": \"rgb(232,232,232)\", \"linecolor\": \"rgb(36,36,36)\", \"showgrid\": false, \"showline\": true, \"ticks\": \"outside\"}, \"bgcolor\": \"white\", \"caxis\": {\"gridcolor\": \"rgb(232,232,232)\", \"linecolor\": \"rgb(36,36,36)\", \"showgrid\": false, \"showline\": true, \"ticks\": \"outside\"}}, \"title\": {\"x\": 0.05}, \"xaxis\": {\"automargin\": true, \"gridcolor\": \"rgb(232,232,232)\", \"linecolor\": \"rgb(36,36,36)\", \"showgrid\": false, \"showline\": true, \"ticks\": \"outside\", \"title\": {\"standoff\": 15}, \"zeroline\": false, \"zerolinecolor\": \"rgb(36,36,36)\"}, \"yaxis\": {\"automargin\": true, \"gridcolor\": \"rgb(232,232,232)\", \"linecolor\": \"rgb(36,36,36)\", \"showgrid\": false, \"showline\": true, \"ticks\": \"outside\", \"title\": {\"standoff\": 15}, \"zeroline\": false, \"zerolinecolor\": \"rgb(36,36,36)\"}}}, \"title\": {\"font\": {\"color\": \"Black\", \"size\": 22}, \"text\": \"<b>Intertopic Distance Map\", \"x\": 0.5, \"xanchor\": \"center\", \"y\": 0.95, \"yanchor\": \"top\"}, \"width\": 650, \"xaxis\": {\"anchor\": \"y\", \"domain\": [0.0, 1.0], \"range\": [5.535804796218872, 10.32138204574585], \"title\": {\"text\": \"\"}, \"visible\": false}, \"yaxis\": {\"anchor\": \"x\", \"domain\": [0.0, 1.0], \"range\": [10.970157670974732, 17.600377464294432], \"title\": {\"text\": \"\"}, \"visible\": false}},                        {\"responsive\": true}                    ).then(function(){\n",
              "                            \n",
              "var gd = document.getElementById('adc64b63-dcf6-4a01-afa2-22eec75b6425');\n",
              "var x = new MutationObserver(function (mutations, observer) {{\n",
              "        var display = window.getComputedStyle(gd).display;\n",
              "        if (!display || display === 'none') {{\n",
              "            console.log([gd, 'removed!']);\n",
              "            Plotly.purge(gd);\n",
              "            observer.disconnect();\n",
              "        }}\n",
              "}});\n",
              "\n",
              "// Listen for the removal of the full notebook cells\n",
              "var notebookContainer = gd.closest('#notebook-container');\n",
              "if (notebookContainer) {{\n",
              "    x.observe(notebookContainer, {childList: true});\n",
              "}}\n",
              "\n",
              "// Listen for the clearing of the current output cell\n",
              "var outputEl = gd.closest('.output');\n",
              "if (outputEl) {{\n",
              "    x.observe(outputEl, {childList: true});\n",
              "}}\n",
              "\n",
              "                        })                };                            </script>        </div>\n",
              "</body>\n",
              "</html>"
            ]
          },
          "metadata": {
            "tags": []
          }
        }
      ]
    },
    {
      "cell_type": "code",
      "metadata": {
        "colab": {
          "base_uri": "https://localhost:8080/",
          "height": 541
        },
        "id": "AZVampscoZu_",
        "outputId": "52c37a29-88aa-40c6-8108-51773d7d84a7"
      },
      "source": [
        "topic_model.visualize_distribution(probs[0])"
      ],
      "execution_count": 142,
      "outputs": [
        {
          "output_type": "display_data",
          "data": {
            "text/html": [
              "<html>\n",
              "<head><meta charset=\"utf-8\" /></head>\n",
              "<body>\n",
              "    <div>            <script src=\"https://cdnjs.cloudflare.com/ajax/libs/mathjax/2.7.5/MathJax.js?config=TeX-AMS-MML_SVG\"></script><script type=\"text/javascript\">if (window.MathJax) {MathJax.Hub.Config({SVG: {font: \"STIX-Web\"}});}</script>                <script type=\"text/javascript\">window.PlotlyConfig = {MathJaxConfig: 'local'};</script>\n",
              "        <script src=\"https://cdn.plot.ly/plotly-latest.min.js\"></script>                <div id=\"5b08168a-b611-4289-b74d-2905bf2e886b\" class=\"plotly-graph-div\" style=\"height:525px; width:100%;\"></div>            <script type=\"text/javascript\">                                    window.PLOTLYENV=window.PLOTLYENV || {};                                    if (document.getElementById(\"5b08168a-b611-4289-b74d-2905bf2e886b\")) {                    Plotly.newPlot(                        \"5b08168a-b611-4289-b74d-2905bf2e886b\",                        [{\"marker\": {\"color\": \"#C8D2D7\", \"line\": {\"color\": \"#6E8484\", \"width\": 1}}, \"orientation\": \"h\", \"type\": \"bar\", \"x\": [1.0], \"y\": [\"<b>Topic 4</b>: map_count_count circle_i...\"]}],                        {\"hoverlabel\": {\"bgcolor\": \"white\", \"font\": {\"family\": \"Rockwell\", \"size\": 16}}, \"template\": {\"data\": {\"bar\": [{\"error_x\": {\"color\": \"rgb(36,36,36)\"}, \"error_y\": {\"color\": \"rgb(36,36,36)\"}, \"marker\": {\"line\": {\"color\": \"white\", \"width\": 0.5}}, \"type\": \"bar\"}], \"barpolar\": [{\"marker\": {\"line\": {\"color\": \"white\", \"width\": 0.5}}, \"type\": \"barpolar\"}], \"carpet\": [{\"aaxis\": {\"endlinecolor\": \"rgb(36,36,36)\", \"gridcolor\": \"white\", \"linecolor\": \"white\", \"minorgridcolor\": \"white\", \"startlinecolor\": \"rgb(36,36,36)\"}, \"baxis\": {\"endlinecolor\": \"rgb(36,36,36)\", \"gridcolor\": \"white\", \"linecolor\": \"white\", \"minorgridcolor\": \"white\", \"startlinecolor\": \"rgb(36,36,36)\"}, \"type\": \"carpet\"}], \"choropleth\": [{\"colorbar\": {\"outlinewidth\": 1, \"tickcolor\": \"rgb(36,36,36)\", \"ticks\": \"outside\"}, \"type\": \"choropleth\"}], \"contour\": [{\"colorbar\": {\"outlinewidth\": 1, \"tickcolor\": \"rgb(36,36,36)\", \"ticks\": \"outside\"}, \"colorscale\": [[0.0, \"#440154\"], [0.1111111111111111, \"#482878\"], [0.2222222222222222, \"#3e4989\"], [0.3333333333333333, \"#31688e\"], [0.4444444444444444, \"#26828e\"], [0.5555555555555556, \"#1f9e89\"], [0.6666666666666666, \"#35b779\"], [0.7777777777777778, \"#6ece58\"], [0.8888888888888888, \"#b5de2b\"], [1.0, \"#fde725\"]], \"type\": \"contour\"}], \"contourcarpet\": [{\"colorbar\": {\"outlinewidth\": 1, \"tickcolor\": \"rgb(36,36,36)\", \"ticks\": \"outside\"}, \"type\": \"contourcarpet\"}], \"heatmap\": [{\"colorbar\": {\"outlinewidth\": 1, \"tickcolor\": \"rgb(36,36,36)\", \"ticks\": \"outside\"}, \"colorscale\": [[0.0, \"#440154\"], [0.1111111111111111, \"#482878\"], [0.2222222222222222, \"#3e4989\"], [0.3333333333333333, \"#31688e\"], [0.4444444444444444, \"#26828e\"], [0.5555555555555556, \"#1f9e89\"], [0.6666666666666666, \"#35b779\"], [0.7777777777777778, \"#6ece58\"], [0.8888888888888888, \"#b5de2b\"], [1.0, \"#fde725\"]], \"type\": \"heatmap\"}], \"heatmapgl\": [{\"colorbar\": {\"outlinewidth\": 1, \"tickcolor\": \"rgb(36,36,36)\", \"ticks\": \"outside\"}, \"colorscale\": [[0.0, \"#440154\"], [0.1111111111111111, \"#482878\"], [0.2222222222222222, \"#3e4989\"], [0.3333333333333333, \"#31688e\"], [0.4444444444444444, \"#26828e\"], [0.5555555555555556, \"#1f9e89\"], [0.6666666666666666, \"#35b779\"], [0.7777777777777778, \"#6ece58\"], [0.8888888888888888, \"#b5de2b\"], [1.0, \"#fde725\"]], \"type\": \"heatmapgl\"}], \"histogram\": [{\"marker\": {\"line\": {\"color\": \"white\", \"width\": 0.6}}, \"type\": \"histogram\"}], \"histogram2d\": [{\"colorbar\": {\"outlinewidth\": 1, \"tickcolor\": \"rgb(36,36,36)\", \"ticks\": \"outside\"}, \"colorscale\": [[0.0, \"#440154\"], [0.1111111111111111, \"#482878\"], [0.2222222222222222, \"#3e4989\"], [0.3333333333333333, \"#31688e\"], [0.4444444444444444, \"#26828e\"], [0.5555555555555556, \"#1f9e89\"], [0.6666666666666666, \"#35b779\"], [0.7777777777777778, \"#6ece58\"], [0.8888888888888888, \"#b5de2b\"], [1.0, \"#fde725\"]], \"type\": \"histogram2d\"}], \"histogram2dcontour\": [{\"colorbar\": {\"outlinewidth\": 1, \"tickcolor\": \"rgb(36,36,36)\", \"ticks\": \"outside\"}, \"colorscale\": [[0.0, \"#440154\"], [0.1111111111111111, \"#482878\"], [0.2222222222222222, \"#3e4989\"], [0.3333333333333333, \"#31688e\"], [0.4444444444444444, \"#26828e\"], [0.5555555555555556, \"#1f9e89\"], [0.6666666666666666, \"#35b779\"], [0.7777777777777778, \"#6ece58\"], [0.8888888888888888, \"#b5de2b\"], [1.0, \"#fde725\"]], \"type\": \"histogram2dcontour\"}], \"mesh3d\": [{\"colorbar\": {\"outlinewidth\": 1, \"tickcolor\": \"rgb(36,36,36)\", \"ticks\": \"outside\"}, \"type\": \"mesh3d\"}], \"parcoords\": [{\"line\": {\"colorbar\": {\"outlinewidth\": 1, \"tickcolor\": \"rgb(36,36,36)\", \"ticks\": \"outside\"}}, \"type\": \"parcoords\"}], \"pie\": [{\"automargin\": true, \"type\": \"pie\"}], \"scatter\": [{\"marker\": {\"colorbar\": {\"outlinewidth\": 1, \"tickcolor\": \"rgb(36,36,36)\", \"ticks\": \"outside\"}}, \"type\": \"scatter\"}], \"scatter3d\": [{\"line\": {\"colorbar\": {\"outlinewidth\": 1, \"tickcolor\": \"rgb(36,36,36)\", \"ticks\": \"outside\"}}, \"marker\": {\"colorbar\": {\"outlinewidth\": 1, \"tickcolor\": \"rgb(36,36,36)\", \"ticks\": \"outside\"}}, \"type\": \"scatter3d\"}], \"scattercarpet\": [{\"marker\": {\"colorbar\": {\"outlinewidth\": 1, \"tickcolor\": \"rgb(36,36,36)\", \"ticks\": \"outside\"}}, \"type\": \"scattercarpet\"}], \"scattergeo\": [{\"marker\": {\"colorbar\": {\"outlinewidth\": 1, \"tickcolor\": \"rgb(36,36,36)\", \"ticks\": \"outside\"}}, \"type\": \"scattergeo\"}], \"scattergl\": [{\"marker\": {\"colorbar\": {\"outlinewidth\": 1, \"tickcolor\": \"rgb(36,36,36)\", \"ticks\": \"outside\"}}, \"type\": \"scattergl\"}], \"scattermapbox\": [{\"marker\": {\"colorbar\": {\"outlinewidth\": 1, \"tickcolor\": \"rgb(36,36,36)\", \"ticks\": \"outside\"}}, \"type\": \"scattermapbox\"}], \"scatterpolar\": [{\"marker\": {\"colorbar\": {\"outlinewidth\": 1, \"tickcolor\": \"rgb(36,36,36)\", \"ticks\": \"outside\"}}, \"type\": \"scatterpolar\"}], \"scatterpolargl\": [{\"marker\": {\"colorbar\": {\"outlinewidth\": 1, \"tickcolor\": \"rgb(36,36,36)\", \"ticks\": \"outside\"}}, \"type\": \"scatterpolargl\"}], \"scatterternary\": [{\"marker\": {\"colorbar\": {\"outlinewidth\": 1, \"tickcolor\": \"rgb(36,36,36)\", \"ticks\": \"outside\"}}, \"type\": \"scatterternary\"}], \"surface\": [{\"colorbar\": {\"outlinewidth\": 1, \"tickcolor\": \"rgb(36,36,36)\", \"ticks\": \"outside\"}, \"colorscale\": [[0.0, \"#440154\"], [0.1111111111111111, \"#482878\"], [0.2222222222222222, \"#3e4989\"], [0.3333333333333333, \"#31688e\"], [0.4444444444444444, \"#26828e\"], [0.5555555555555556, \"#1f9e89\"], [0.6666666666666666, \"#35b779\"], [0.7777777777777778, \"#6ece58\"], [0.8888888888888888, \"#b5de2b\"], [1.0, \"#fde725\"]], \"type\": \"surface\"}], \"table\": [{\"cells\": {\"fill\": {\"color\": \"rgb(237,237,237)\"}, \"line\": {\"color\": \"white\"}}, \"header\": {\"fill\": {\"color\": \"rgb(217,217,217)\"}, \"line\": {\"color\": \"white\"}}, \"type\": \"table\"}]}, \"layout\": {\"annotationdefaults\": {\"arrowhead\": 0, \"arrowwidth\": 1}, \"autotypenumbers\": \"strict\", \"coloraxis\": {\"colorbar\": {\"outlinewidth\": 1, \"tickcolor\": \"rgb(36,36,36)\", \"ticks\": \"outside\"}}, \"colorscale\": {\"diverging\": [[0.0, \"rgb(103,0,31)\"], [0.1, \"rgb(178,24,43)\"], [0.2, \"rgb(214,96,77)\"], [0.3, \"rgb(244,165,130)\"], [0.4, \"rgb(253,219,199)\"], [0.5, \"rgb(247,247,247)\"], [0.6, \"rgb(209,229,240)\"], [0.7, \"rgb(146,197,222)\"], [0.8, \"rgb(67,147,195)\"], [0.9, \"rgb(33,102,172)\"], [1.0, \"rgb(5,48,97)\"]], \"sequential\": [[0.0, \"#440154\"], [0.1111111111111111, \"#482878\"], [0.2222222222222222, \"#3e4989\"], [0.3333333333333333, \"#31688e\"], [0.4444444444444444, \"#26828e\"], [0.5555555555555556, \"#1f9e89\"], [0.6666666666666666, \"#35b779\"], [0.7777777777777778, \"#6ece58\"], [0.8888888888888888, \"#b5de2b\"], [1.0, \"#fde725\"]], \"sequentialminus\": [[0.0, \"#440154\"], [0.1111111111111111, \"#482878\"], [0.2222222222222222, \"#3e4989\"], [0.3333333333333333, \"#31688e\"], [0.4444444444444444, \"#26828e\"], [0.5555555555555556, \"#1f9e89\"], [0.6666666666666666, \"#35b779\"], [0.7777777777777778, \"#6ece58\"], [0.8888888888888888, \"#b5de2b\"], [1.0, \"#fde725\"]]}, \"colorway\": [\"#1F77B4\", \"#FF7F0E\", \"#2CA02C\", \"#D62728\", \"#9467BD\", \"#8C564B\", \"#E377C2\", \"#7F7F7F\", \"#BCBD22\", \"#17BECF\"], \"font\": {\"color\": \"rgb(36,36,36)\"}, \"geo\": {\"bgcolor\": \"white\", \"lakecolor\": \"white\", \"landcolor\": \"white\", \"showlakes\": true, \"showland\": true, \"subunitcolor\": \"white\"}, \"hoverlabel\": {\"align\": \"left\"}, \"hovermode\": \"closest\", \"mapbox\": {\"style\": \"light\"}, \"paper_bgcolor\": \"white\", \"plot_bgcolor\": \"white\", \"polar\": {\"angularaxis\": {\"gridcolor\": \"rgb(232,232,232)\", \"linecolor\": \"rgb(36,36,36)\", \"showgrid\": false, \"showline\": true, \"ticks\": \"outside\"}, \"bgcolor\": \"white\", \"radialaxis\": {\"gridcolor\": \"rgb(232,232,232)\", \"linecolor\": \"rgb(36,36,36)\", \"showgrid\": false, \"showline\": true, \"ticks\": \"outside\"}}, \"scene\": {\"xaxis\": {\"backgroundcolor\": \"white\", \"gridcolor\": \"rgb(232,232,232)\", \"gridwidth\": 2, \"linecolor\": \"rgb(36,36,36)\", \"showbackground\": true, \"showgrid\": false, \"showline\": true, \"ticks\": \"outside\", \"zeroline\": false, \"zerolinecolor\": \"rgb(36,36,36)\"}, \"yaxis\": {\"backgroundcolor\": \"white\", \"gridcolor\": \"rgb(232,232,232)\", \"gridwidth\": 2, \"linecolor\": \"rgb(36,36,36)\", \"showbackground\": true, \"showgrid\": false, \"showline\": true, \"ticks\": \"outside\", \"zeroline\": false, \"zerolinecolor\": \"rgb(36,36,36)\"}, \"zaxis\": {\"backgroundcolor\": \"white\", \"gridcolor\": \"rgb(232,232,232)\", \"gridwidth\": 2, \"linecolor\": \"rgb(36,36,36)\", \"showbackground\": true, \"showgrid\": false, \"showline\": true, \"ticks\": \"outside\", \"zeroline\": false, \"zerolinecolor\": \"rgb(36,36,36)\"}}, \"shapedefaults\": {\"fillcolor\": \"black\", \"line\": {\"width\": 0}, \"opacity\": 0.3}, \"ternary\": {\"aaxis\": {\"gridcolor\": \"rgb(232,232,232)\", \"linecolor\": \"rgb(36,36,36)\", \"showgrid\": false, \"showline\": true, \"ticks\": \"outside\"}, \"baxis\": {\"gridcolor\": \"rgb(232,232,232)\", \"linecolor\": \"rgb(36,36,36)\", \"showgrid\": false, \"showline\": true, \"ticks\": \"outside\"}, \"bgcolor\": \"white\", \"caxis\": {\"gridcolor\": \"rgb(232,232,232)\", \"linecolor\": \"rgb(36,36,36)\", \"showgrid\": false, \"showline\": true, \"ticks\": \"outside\"}}, \"title\": {\"x\": 0.05}, \"xaxis\": {\"automargin\": true, \"gridcolor\": \"rgb(232,232,232)\", \"linecolor\": \"rgb(36,36,36)\", \"showgrid\": false, \"showline\": true, \"ticks\": \"outside\", \"title\": {\"standoff\": 15}, \"zeroline\": false, \"zerolinecolor\": \"rgb(36,36,36)\"}, \"yaxis\": {\"automargin\": true, \"gridcolor\": \"rgb(232,232,232)\", \"linecolor\": \"rgb(36,36,36)\", \"showgrid\": false, \"showline\": true, \"ticks\": \"outside\", \"title\": {\"standoff\": 15}, \"zeroline\": false, \"zerolinecolor\": \"rgb(36,36,36)\"}}}, \"title\": {\"font\": {\"color\": \"Black\", \"size\": 22}, \"text\": \"<b>Topic Probability Distribution\", \"x\": 0.5, \"xanchor\": \"center\", \"y\": 0.95, \"yanchor\": \"top\"}, \"xaxis\": {\"title\": {\"text\": \"Probability\"}}},                        {\"responsive\": true}                    ).then(function(){\n",
              "                            \n",
              "var gd = document.getElementById('5b08168a-b611-4289-b74d-2905bf2e886b');\n",
              "var x = new MutationObserver(function (mutations, observer) {{\n",
              "        var display = window.getComputedStyle(gd).display;\n",
              "        if (!display || display === 'none') {{\n",
              "            console.log([gd, 'removed!']);\n",
              "            Plotly.purge(gd);\n",
              "            observer.disconnect();\n",
              "        }}\n",
              "}});\n",
              "\n",
              "// Listen for the removal of the full notebook cells\n",
              "var notebookContainer = gd.closest('#notebook-container');\n",
              "if (notebookContainer) {{\n",
              "    x.observe(notebookContainer, {childList: true});\n",
              "}}\n",
              "\n",
              "// Listen for the clearing of the current output cell\n",
              "var outputEl = gd.closest('.output');\n",
              "if (outputEl) {{\n",
              "    x.observe(outputEl, {childList: true});\n",
              "}}\n",
              "\n",
              "                        })                };                            </script>        </div>\n",
              "</body>\n",
              "</html>"
            ]
          },
          "metadata": {
            "tags": []
          }
        }
      ]
    },
    {
      "cell_type": "code",
      "metadata": {
        "colab": {
          "base_uri": "https://localhost:8080/",
          "height": 541
        },
        "id": "U4LpCXCro0q3",
        "outputId": "d3fcd392-7c28-4599-9b2a-dc7c448b906d"
      },
      "source": [
        "topic_model.visualize_distribution(probs[1])"
      ],
      "execution_count": 143,
      "outputs": [
        {
          "output_type": "display_data",
          "data": {
            "text/html": [
              "<html>\n",
              "<head><meta charset=\"utf-8\" /></head>\n",
              "<body>\n",
              "    <div>            <script src=\"https://cdnjs.cloudflare.com/ajax/libs/mathjax/2.7.5/MathJax.js?config=TeX-AMS-MML_SVG\"></script><script type=\"text/javascript\">if (window.MathJax) {MathJax.Hub.Config({SVG: {font: \"STIX-Web\"}});}</script>                <script type=\"text/javascript\">window.PlotlyConfig = {MathJaxConfig: 'local'};</script>\n",
              "        <script src=\"https://cdn.plot.ly/plotly-latest.min.js\"></script>                <div id=\"18dba39d-1a34-49d9-b426-c73040b0ef6a\" class=\"plotly-graph-div\" style=\"height:525px; width:100%;\"></div>            <script type=\"text/javascript\">                                    window.PLOTLYENV=window.PLOTLYENV || {};                                    if (document.getElementById(\"18dba39d-1a34-49d9-b426-c73040b0ef6a\")) {                    Plotly.newPlot(                        \"18dba39d-1a34-49d9-b426-c73040b0ef6a\",                        [{\"marker\": {\"color\": \"#C8D2D7\", \"line\": {\"color\": \"#6E8484\", \"width\": 1}}, \"orientation\": \"h\", \"type\": \"bar\", \"x\": [0.16125910865726684, 0.1777715347108048, 0.1499625919746227, 0.11747426435605114, 0.22426801578847047, 0.1457737153822207], \"y\": [\"<b>Topic 0</b>: hydraulic_flow_subductio...\", \"<b>Topic 1</b>: modflow_flow_lpf_upw_mod...\", \"<b>Topic 2</b>: of_water_fish_the model_...\", \"<b>Topic 3</b>: model_transport_is_the m...\", \"<b>Topic 4</b>: map_count_count circle_i...\", \"<b>Topic 5</b>: program_vs2drti_transpor...\"]}],                        {\"hoverlabel\": {\"bgcolor\": \"white\", \"font\": {\"family\": \"Rockwell\", \"size\": 16}}, \"template\": {\"data\": {\"bar\": [{\"error_x\": {\"color\": \"rgb(36,36,36)\"}, \"error_y\": {\"color\": \"rgb(36,36,36)\"}, \"marker\": {\"line\": {\"color\": \"white\", \"width\": 0.5}}, \"type\": \"bar\"}], \"barpolar\": [{\"marker\": {\"line\": {\"color\": \"white\", \"width\": 0.5}}, \"type\": \"barpolar\"}], \"carpet\": [{\"aaxis\": {\"endlinecolor\": \"rgb(36,36,36)\", \"gridcolor\": \"white\", \"linecolor\": \"white\", \"minorgridcolor\": \"white\", \"startlinecolor\": \"rgb(36,36,36)\"}, \"baxis\": {\"endlinecolor\": \"rgb(36,36,36)\", \"gridcolor\": \"white\", \"linecolor\": \"white\", \"minorgridcolor\": \"white\", \"startlinecolor\": \"rgb(36,36,36)\"}, \"type\": \"carpet\"}], \"choropleth\": [{\"colorbar\": {\"outlinewidth\": 1, \"tickcolor\": \"rgb(36,36,36)\", \"ticks\": \"outside\"}, \"type\": \"choropleth\"}], \"contour\": [{\"colorbar\": {\"outlinewidth\": 1, \"tickcolor\": \"rgb(36,36,36)\", \"ticks\": \"outside\"}, \"colorscale\": [[0.0, \"#440154\"], [0.1111111111111111, \"#482878\"], [0.2222222222222222, \"#3e4989\"], [0.3333333333333333, \"#31688e\"], [0.4444444444444444, \"#26828e\"], [0.5555555555555556, \"#1f9e89\"], [0.6666666666666666, \"#35b779\"], [0.7777777777777778, \"#6ece58\"], [0.8888888888888888, \"#b5de2b\"], [1.0, \"#fde725\"]], \"type\": \"contour\"}], \"contourcarpet\": [{\"colorbar\": {\"outlinewidth\": 1, \"tickcolor\": \"rgb(36,36,36)\", \"ticks\": \"outside\"}, \"type\": \"contourcarpet\"}], \"heatmap\": [{\"colorbar\": {\"outlinewidth\": 1, \"tickcolor\": \"rgb(36,36,36)\", \"ticks\": \"outside\"}, \"colorscale\": [[0.0, \"#440154\"], [0.1111111111111111, \"#482878\"], [0.2222222222222222, \"#3e4989\"], [0.3333333333333333, \"#31688e\"], [0.4444444444444444, \"#26828e\"], [0.5555555555555556, \"#1f9e89\"], [0.6666666666666666, \"#35b779\"], [0.7777777777777778, \"#6ece58\"], [0.8888888888888888, \"#b5de2b\"], [1.0, \"#fde725\"]], \"type\": \"heatmap\"}], \"heatmapgl\": [{\"colorbar\": {\"outlinewidth\": 1, \"tickcolor\": \"rgb(36,36,36)\", \"ticks\": \"outside\"}, \"colorscale\": [[0.0, \"#440154\"], [0.1111111111111111, \"#482878\"], [0.2222222222222222, \"#3e4989\"], [0.3333333333333333, \"#31688e\"], [0.4444444444444444, \"#26828e\"], [0.5555555555555556, \"#1f9e89\"], [0.6666666666666666, \"#35b779\"], [0.7777777777777778, \"#6ece58\"], [0.8888888888888888, \"#b5de2b\"], [1.0, \"#fde725\"]], \"type\": \"heatmapgl\"}], \"histogram\": [{\"marker\": {\"line\": {\"color\": \"white\", \"width\": 0.6}}, \"type\": \"histogram\"}], \"histogram2d\": [{\"colorbar\": {\"outlinewidth\": 1, \"tickcolor\": \"rgb(36,36,36)\", \"ticks\": \"outside\"}, \"colorscale\": [[0.0, \"#440154\"], [0.1111111111111111, \"#482878\"], [0.2222222222222222, \"#3e4989\"], [0.3333333333333333, \"#31688e\"], [0.4444444444444444, \"#26828e\"], [0.5555555555555556, \"#1f9e89\"], [0.6666666666666666, \"#35b779\"], [0.7777777777777778, \"#6ece58\"], [0.8888888888888888, \"#b5de2b\"], [1.0, \"#fde725\"]], \"type\": \"histogram2d\"}], \"histogram2dcontour\": [{\"colorbar\": {\"outlinewidth\": 1, \"tickcolor\": \"rgb(36,36,36)\", \"ticks\": \"outside\"}, \"colorscale\": [[0.0, \"#440154\"], [0.1111111111111111, \"#482878\"], [0.2222222222222222, \"#3e4989\"], [0.3333333333333333, \"#31688e\"], [0.4444444444444444, \"#26828e\"], [0.5555555555555556, \"#1f9e89\"], [0.6666666666666666, \"#35b779\"], [0.7777777777777778, \"#6ece58\"], [0.8888888888888888, \"#b5de2b\"], [1.0, \"#fde725\"]], \"type\": \"histogram2dcontour\"}], \"mesh3d\": [{\"colorbar\": {\"outlinewidth\": 1, \"tickcolor\": \"rgb(36,36,36)\", \"ticks\": \"outside\"}, \"type\": \"mesh3d\"}], \"parcoords\": [{\"line\": {\"colorbar\": {\"outlinewidth\": 1, \"tickcolor\": \"rgb(36,36,36)\", \"ticks\": \"outside\"}}, \"type\": \"parcoords\"}], \"pie\": [{\"automargin\": true, \"type\": \"pie\"}], \"scatter\": [{\"marker\": {\"colorbar\": {\"outlinewidth\": 1, \"tickcolor\": \"rgb(36,36,36)\", \"ticks\": \"outside\"}}, \"type\": \"scatter\"}], \"scatter3d\": [{\"line\": {\"colorbar\": {\"outlinewidth\": 1, \"tickcolor\": \"rgb(36,36,36)\", \"ticks\": \"outside\"}}, \"marker\": {\"colorbar\": {\"outlinewidth\": 1, \"tickcolor\": \"rgb(36,36,36)\", \"ticks\": \"outside\"}}, \"type\": \"scatter3d\"}], \"scattercarpet\": [{\"marker\": {\"colorbar\": {\"outlinewidth\": 1, \"tickcolor\": \"rgb(36,36,36)\", \"ticks\": \"outside\"}}, \"type\": \"scattercarpet\"}], \"scattergeo\": [{\"marker\": {\"colorbar\": {\"outlinewidth\": 1, \"tickcolor\": \"rgb(36,36,36)\", \"ticks\": \"outside\"}}, \"type\": \"scattergeo\"}], \"scattergl\": [{\"marker\": {\"colorbar\": {\"outlinewidth\": 1, \"tickcolor\": \"rgb(36,36,36)\", \"ticks\": \"outside\"}}, \"type\": \"scattergl\"}], \"scattermapbox\": [{\"marker\": {\"colorbar\": {\"outlinewidth\": 1, \"tickcolor\": \"rgb(36,36,36)\", \"ticks\": \"outside\"}}, \"type\": \"scattermapbox\"}], \"scatterpolar\": [{\"marker\": {\"colorbar\": {\"outlinewidth\": 1, \"tickcolor\": \"rgb(36,36,36)\", \"ticks\": \"outside\"}}, \"type\": \"scatterpolar\"}], \"scatterpolargl\": [{\"marker\": {\"colorbar\": {\"outlinewidth\": 1, \"tickcolor\": \"rgb(36,36,36)\", \"ticks\": \"outside\"}}, \"type\": \"scatterpolargl\"}], \"scatterternary\": [{\"marker\": {\"colorbar\": {\"outlinewidth\": 1, \"tickcolor\": \"rgb(36,36,36)\", \"ticks\": \"outside\"}}, \"type\": \"scatterternary\"}], \"surface\": [{\"colorbar\": {\"outlinewidth\": 1, \"tickcolor\": \"rgb(36,36,36)\", \"ticks\": \"outside\"}, \"colorscale\": [[0.0, \"#440154\"], [0.1111111111111111, \"#482878\"], [0.2222222222222222, \"#3e4989\"], [0.3333333333333333, \"#31688e\"], [0.4444444444444444, \"#26828e\"], [0.5555555555555556, \"#1f9e89\"], [0.6666666666666666, \"#35b779\"], [0.7777777777777778, \"#6ece58\"], [0.8888888888888888, \"#b5de2b\"], [1.0, \"#fde725\"]], \"type\": \"surface\"}], \"table\": [{\"cells\": {\"fill\": {\"color\": \"rgb(237,237,237)\"}, \"line\": {\"color\": \"white\"}}, \"header\": {\"fill\": {\"color\": \"rgb(217,217,217)\"}, \"line\": {\"color\": \"white\"}}, \"type\": \"table\"}]}, \"layout\": {\"annotationdefaults\": {\"arrowhead\": 0, \"arrowwidth\": 1}, \"autotypenumbers\": \"strict\", \"coloraxis\": {\"colorbar\": {\"outlinewidth\": 1, \"tickcolor\": \"rgb(36,36,36)\", \"ticks\": \"outside\"}}, \"colorscale\": {\"diverging\": [[0.0, \"rgb(103,0,31)\"], [0.1, \"rgb(178,24,43)\"], [0.2, \"rgb(214,96,77)\"], [0.3, \"rgb(244,165,130)\"], [0.4, \"rgb(253,219,199)\"], [0.5, \"rgb(247,247,247)\"], [0.6, \"rgb(209,229,240)\"], [0.7, \"rgb(146,197,222)\"], [0.8, \"rgb(67,147,195)\"], [0.9, \"rgb(33,102,172)\"], [1.0, \"rgb(5,48,97)\"]], \"sequential\": [[0.0, \"#440154\"], [0.1111111111111111, \"#482878\"], [0.2222222222222222, \"#3e4989\"], [0.3333333333333333, \"#31688e\"], [0.4444444444444444, \"#26828e\"], [0.5555555555555556, \"#1f9e89\"], [0.6666666666666666, \"#35b779\"], [0.7777777777777778, \"#6ece58\"], [0.8888888888888888, \"#b5de2b\"], [1.0, \"#fde725\"]], \"sequentialminus\": [[0.0, \"#440154\"], [0.1111111111111111, \"#482878\"], [0.2222222222222222, \"#3e4989\"], [0.3333333333333333, \"#31688e\"], [0.4444444444444444, \"#26828e\"], [0.5555555555555556, \"#1f9e89\"], [0.6666666666666666, \"#35b779\"], [0.7777777777777778, \"#6ece58\"], [0.8888888888888888, \"#b5de2b\"], [1.0, \"#fde725\"]]}, \"colorway\": [\"#1F77B4\", \"#FF7F0E\", \"#2CA02C\", \"#D62728\", \"#9467BD\", \"#8C564B\", \"#E377C2\", \"#7F7F7F\", \"#BCBD22\", \"#17BECF\"], \"font\": {\"color\": \"rgb(36,36,36)\"}, \"geo\": {\"bgcolor\": \"white\", \"lakecolor\": \"white\", \"landcolor\": \"white\", \"showlakes\": true, \"showland\": true, \"subunitcolor\": \"white\"}, \"hoverlabel\": {\"align\": \"left\"}, \"hovermode\": \"closest\", \"mapbox\": {\"style\": \"light\"}, \"paper_bgcolor\": \"white\", \"plot_bgcolor\": \"white\", \"polar\": {\"angularaxis\": {\"gridcolor\": \"rgb(232,232,232)\", \"linecolor\": \"rgb(36,36,36)\", \"showgrid\": false, \"showline\": true, \"ticks\": \"outside\"}, \"bgcolor\": \"white\", \"radialaxis\": {\"gridcolor\": \"rgb(232,232,232)\", \"linecolor\": \"rgb(36,36,36)\", \"showgrid\": false, \"showline\": true, \"ticks\": \"outside\"}}, \"scene\": {\"xaxis\": {\"backgroundcolor\": \"white\", \"gridcolor\": \"rgb(232,232,232)\", \"gridwidth\": 2, \"linecolor\": \"rgb(36,36,36)\", \"showbackground\": true, \"showgrid\": false, \"showline\": true, \"ticks\": \"outside\", \"zeroline\": false, \"zerolinecolor\": \"rgb(36,36,36)\"}, \"yaxis\": {\"backgroundcolor\": \"white\", \"gridcolor\": \"rgb(232,232,232)\", \"gridwidth\": 2, \"linecolor\": \"rgb(36,36,36)\", \"showbackground\": true, \"showgrid\": false, \"showline\": true, \"ticks\": \"outside\", \"zeroline\": false, \"zerolinecolor\": \"rgb(36,36,36)\"}, \"zaxis\": {\"backgroundcolor\": \"white\", \"gridcolor\": \"rgb(232,232,232)\", \"gridwidth\": 2, \"linecolor\": \"rgb(36,36,36)\", \"showbackground\": true, \"showgrid\": false, \"showline\": true, \"ticks\": \"outside\", \"zeroline\": false, \"zerolinecolor\": \"rgb(36,36,36)\"}}, \"shapedefaults\": {\"fillcolor\": \"black\", \"line\": {\"width\": 0}, \"opacity\": 0.3}, \"ternary\": {\"aaxis\": {\"gridcolor\": \"rgb(232,232,232)\", \"linecolor\": \"rgb(36,36,36)\", \"showgrid\": false, \"showline\": true, \"ticks\": \"outside\"}, \"baxis\": {\"gridcolor\": \"rgb(232,232,232)\", \"linecolor\": \"rgb(36,36,36)\", \"showgrid\": false, \"showline\": true, \"ticks\": \"outside\"}, \"bgcolor\": \"white\", \"caxis\": {\"gridcolor\": \"rgb(232,232,232)\", \"linecolor\": \"rgb(36,36,36)\", \"showgrid\": false, \"showline\": true, \"ticks\": \"outside\"}}, \"title\": {\"x\": 0.05}, \"xaxis\": {\"automargin\": true, \"gridcolor\": \"rgb(232,232,232)\", \"linecolor\": \"rgb(36,36,36)\", \"showgrid\": false, \"showline\": true, \"ticks\": \"outside\", \"title\": {\"standoff\": 15}, \"zeroline\": false, \"zerolinecolor\": \"rgb(36,36,36)\"}, \"yaxis\": {\"automargin\": true, \"gridcolor\": \"rgb(232,232,232)\", \"linecolor\": \"rgb(36,36,36)\", \"showgrid\": false, \"showline\": true, \"ticks\": \"outside\", \"title\": {\"standoff\": 15}, \"zeroline\": false, \"zerolinecolor\": \"rgb(36,36,36)\"}}}, \"title\": {\"font\": {\"color\": \"Black\", \"size\": 22}, \"text\": \"<b>Topic Probability Distribution\", \"x\": 0.5, \"xanchor\": \"center\", \"y\": 0.95, \"yanchor\": \"top\"}, \"xaxis\": {\"title\": {\"text\": \"Probability\"}}},                        {\"responsive\": true}                    ).then(function(){\n",
              "                            \n",
              "var gd = document.getElementById('18dba39d-1a34-49d9-b426-c73040b0ef6a');\n",
              "var x = new MutationObserver(function (mutations, observer) {{\n",
              "        var display = window.getComputedStyle(gd).display;\n",
              "        if (!display || display === 'none') {{\n",
              "            console.log([gd, 'removed!']);\n",
              "            Plotly.purge(gd);\n",
              "            observer.disconnect();\n",
              "        }}\n",
              "}});\n",
              "\n",
              "// Listen for the removal of the full notebook cells\n",
              "var notebookContainer = gd.closest('#notebook-container');\n",
              "if (notebookContainer) {{\n",
              "    x.observe(notebookContainer, {childList: true});\n",
              "}}\n",
              "\n",
              "// Listen for the clearing of the current output cell\n",
              "var outputEl = gd.closest('.output');\n",
              "if (outputEl) {{\n",
              "    x.observe(outputEl, {childList: true});\n",
              "}}\n",
              "\n",
              "                        })                };                            </script>        </div>\n",
              "</body>\n",
              "</html>"
            ]
          },
          "metadata": {
            "tags": []
          }
        }
      ]
    },
    {
      "cell_type": "code",
      "metadata": {
        "colab": {
          "base_uri": "https://localhost:8080/",
          "height": 541
        },
        "id": "N5ZGefLEo3Oz",
        "outputId": "be8b7d93-667b-4149-8ce4-7c4274c1fea3"
      },
      "source": [
        "topic_model.visualize_distribution(probs[2])"
      ],
      "execution_count": 144,
      "outputs": [
        {
          "output_type": "display_data",
          "data": {
            "text/html": [
              "<html>\n",
              "<head><meta charset=\"utf-8\" /></head>\n",
              "<body>\n",
              "    <div>            <script src=\"https://cdnjs.cloudflare.com/ajax/libs/mathjax/2.7.5/MathJax.js?config=TeX-AMS-MML_SVG\"></script><script type=\"text/javascript\">if (window.MathJax) {MathJax.Hub.Config({SVG: {font: \"STIX-Web\"}});}</script>                <script type=\"text/javascript\">window.PlotlyConfig = {MathJaxConfig: 'local'};</script>\n",
              "        <script src=\"https://cdn.plot.ly/plotly-latest.min.js\"></script>                <div id=\"1706f1d0-be35-4fcf-9c32-f09a1656b2df\" class=\"plotly-graph-div\" style=\"height:525px; width:100%;\"></div>            <script type=\"text/javascript\">                                    window.PLOTLYENV=window.PLOTLYENV || {};                                    if (document.getElementById(\"1706f1d0-be35-4fcf-9c32-f09a1656b2df\")) {                    Plotly.newPlot(                        \"1706f1d0-be35-4fcf-9c32-f09a1656b2df\",                        [{\"marker\": {\"color\": \"#C8D2D7\", \"line\": {\"color\": \"#6E8484\", \"width\": 1}}, \"orientation\": \"h\", \"type\": \"bar\", \"x\": [0.13549073587479363, 0.1141769618738562, 0.2623059248062705, 0.0956083305482594, 0.12194219838934167, 0.08937596083528002], \"y\": [\"<b>Topic 0</b>: hydraulic_flow_subductio...\", \"<b>Topic 1</b>: modflow_flow_lpf_upw_mod...\", \"<b>Topic 2</b>: of_water_fish_the model_...\", \"<b>Topic 3</b>: model_transport_is_the m...\", \"<b>Topic 4</b>: map_count_count circle_i...\", \"<b>Topic 5</b>: program_vs2drti_transpor...\"]}],                        {\"hoverlabel\": {\"bgcolor\": \"white\", \"font\": {\"family\": \"Rockwell\", \"size\": 16}}, \"template\": {\"data\": {\"bar\": [{\"error_x\": {\"color\": \"rgb(36,36,36)\"}, \"error_y\": {\"color\": \"rgb(36,36,36)\"}, \"marker\": {\"line\": {\"color\": \"white\", \"width\": 0.5}}, \"type\": \"bar\"}], \"barpolar\": [{\"marker\": {\"line\": {\"color\": \"white\", \"width\": 0.5}}, \"type\": \"barpolar\"}], \"carpet\": [{\"aaxis\": {\"endlinecolor\": \"rgb(36,36,36)\", \"gridcolor\": \"white\", \"linecolor\": \"white\", \"minorgridcolor\": \"white\", \"startlinecolor\": \"rgb(36,36,36)\"}, \"baxis\": {\"endlinecolor\": \"rgb(36,36,36)\", \"gridcolor\": \"white\", \"linecolor\": \"white\", \"minorgridcolor\": \"white\", \"startlinecolor\": \"rgb(36,36,36)\"}, \"type\": \"carpet\"}], \"choropleth\": [{\"colorbar\": {\"outlinewidth\": 1, \"tickcolor\": \"rgb(36,36,36)\", \"ticks\": \"outside\"}, \"type\": \"choropleth\"}], \"contour\": [{\"colorbar\": {\"outlinewidth\": 1, \"tickcolor\": \"rgb(36,36,36)\", \"ticks\": \"outside\"}, \"colorscale\": [[0.0, \"#440154\"], [0.1111111111111111, \"#482878\"], [0.2222222222222222, \"#3e4989\"], [0.3333333333333333, \"#31688e\"], [0.4444444444444444, \"#26828e\"], [0.5555555555555556, \"#1f9e89\"], [0.6666666666666666, \"#35b779\"], [0.7777777777777778, \"#6ece58\"], [0.8888888888888888, \"#b5de2b\"], [1.0, \"#fde725\"]], \"type\": \"contour\"}], \"contourcarpet\": [{\"colorbar\": {\"outlinewidth\": 1, \"tickcolor\": \"rgb(36,36,36)\", \"ticks\": \"outside\"}, \"type\": \"contourcarpet\"}], \"heatmap\": [{\"colorbar\": {\"outlinewidth\": 1, \"tickcolor\": \"rgb(36,36,36)\", \"ticks\": \"outside\"}, \"colorscale\": [[0.0, \"#440154\"], [0.1111111111111111, \"#482878\"], [0.2222222222222222, \"#3e4989\"], [0.3333333333333333, \"#31688e\"], [0.4444444444444444, \"#26828e\"], [0.5555555555555556, \"#1f9e89\"], [0.6666666666666666, \"#35b779\"], [0.7777777777777778, \"#6ece58\"], [0.8888888888888888, \"#b5de2b\"], [1.0, \"#fde725\"]], \"type\": \"heatmap\"}], \"heatmapgl\": [{\"colorbar\": {\"outlinewidth\": 1, \"tickcolor\": \"rgb(36,36,36)\", \"ticks\": \"outside\"}, \"colorscale\": [[0.0, \"#440154\"], [0.1111111111111111, \"#482878\"], [0.2222222222222222, \"#3e4989\"], [0.3333333333333333, \"#31688e\"], [0.4444444444444444, \"#26828e\"], [0.5555555555555556, \"#1f9e89\"], [0.6666666666666666, \"#35b779\"], [0.7777777777777778, \"#6ece58\"], [0.8888888888888888, \"#b5de2b\"], [1.0, \"#fde725\"]], \"type\": \"heatmapgl\"}], \"histogram\": [{\"marker\": {\"line\": {\"color\": \"white\", \"width\": 0.6}}, \"type\": \"histogram\"}], \"histogram2d\": [{\"colorbar\": {\"outlinewidth\": 1, \"tickcolor\": \"rgb(36,36,36)\", \"ticks\": \"outside\"}, \"colorscale\": [[0.0, \"#440154\"], [0.1111111111111111, \"#482878\"], [0.2222222222222222, \"#3e4989\"], [0.3333333333333333, \"#31688e\"], [0.4444444444444444, \"#26828e\"], [0.5555555555555556, \"#1f9e89\"], [0.6666666666666666, \"#35b779\"], [0.7777777777777778, \"#6ece58\"], [0.8888888888888888, \"#b5de2b\"], [1.0, \"#fde725\"]], \"type\": \"histogram2d\"}], \"histogram2dcontour\": [{\"colorbar\": {\"outlinewidth\": 1, \"tickcolor\": \"rgb(36,36,36)\", \"ticks\": \"outside\"}, \"colorscale\": [[0.0, \"#440154\"], [0.1111111111111111, \"#482878\"], [0.2222222222222222, \"#3e4989\"], [0.3333333333333333, \"#31688e\"], [0.4444444444444444, \"#26828e\"], [0.5555555555555556, \"#1f9e89\"], [0.6666666666666666, \"#35b779\"], [0.7777777777777778, \"#6ece58\"], [0.8888888888888888, \"#b5de2b\"], [1.0, \"#fde725\"]], \"type\": \"histogram2dcontour\"}], \"mesh3d\": [{\"colorbar\": {\"outlinewidth\": 1, \"tickcolor\": \"rgb(36,36,36)\", \"ticks\": \"outside\"}, \"type\": \"mesh3d\"}], \"parcoords\": [{\"line\": {\"colorbar\": {\"outlinewidth\": 1, \"tickcolor\": \"rgb(36,36,36)\", \"ticks\": \"outside\"}}, \"type\": \"parcoords\"}], \"pie\": [{\"automargin\": true, \"type\": \"pie\"}], \"scatter\": [{\"marker\": {\"colorbar\": {\"outlinewidth\": 1, \"tickcolor\": \"rgb(36,36,36)\", \"ticks\": \"outside\"}}, \"type\": \"scatter\"}], \"scatter3d\": [{\"line\": {\"colorbar\": {\"outlinewidth\": 1, \"tickcolor\": \"rgb(36,36,36)\", \"ticks\": \"outside\"}}, \"marker\": {\"colorbar\": {\"outlinewidth\": 1, \"tickcolor\": \"rgb(36,36,36)\", \"ticks\": \"outside\"}}, \"type\": \"scatter3d\"}], \"scattercarpet\": [{\"marker\": {\"colorbar\": {\"outlinewidth\": 1, \"tickcolor\": \"rgb(36,36,36)\", \"ticks\": \"outside\"}}, \"type\": \"scattercarpet\"}], \"scattergeo\": [{\"marker\": {\"colorbar\": {\"outlinewidth\": 1, \"tickcolor\": \"rgb(36,36,36)\", \"ticks\": \"outside\"}}, \"type\": \"scattergeo\"}], \"scattergl\": [{\"marker\": {\"colorbar\": {\"outlinewidth\": 1, \"tickcolor\": \"rgb(36,36,36)\", \"ticks\": \"outside\"}}, \"type\": \"scattergl\"}], \"scattermapbox\": [{\"marker\": {\"colorbar\": {\"outlinewidth\": 1, \"tickcolor\": \"rgb(36,36,36)\", \"ticks\": \"outside\"}}, \"type\": \"scattermapbox\"}], \"scatterpolar\": [{\"marker\": {\"colorbar\": {\"outlinewidth\": 1, \"tickcolor\": \"rgb(36,36,36)\", \"ticks\": \"outside\"}}, \"type\": \"scatterpolar\"}], \"scatterpolargl\": [{\"marker\": {\"colorbar\": {\"outlinewidth\": 1, \"tickcolor\": \"rgb(36,36,36)\", \"ticks\": \"outside\"}}, \"type\": \"scatterpolargl\"}], \"scatterternary\": [{\"marker\": {\"colorbar\": {\"outlinewidth\": 1, \"tickcolor\": \"rgb(36,36,36)\", \"ticks\": \"outside\"}}, \"type\": \"scatterternary\"}], \"surface\": [{\"colorbar\": {\"outlinewidth\": 1, \"tickcolor\": \"rgb(36,36,36)\", \"ticks\": \"outside\"}, \"colorscale\": [[0.0, \"#440154\"], [0.1111111111111111, \"#482878\"], [0.2222222222222222, \"#3e4989\"], [0.3333333333333333, \"#31688e\"], [0.4444444444444444, \"#26828e\"], [0.5555555555555556, \"#1f9e89\"], [0.6666666666666666, \"#35b779\"], [0.7777777777777778, \"#6ece58\"], [0.8888888888888888, \"#b5de2b\"], [1.0, \"#fde725\"]], \"type\": \"surface\"}], \"table\": [{\"cells\": {\"fill\": {\"color\": \"rgb(237,237,237)\"}, \"line\": {\"color\": \"white\"}}, \"header\": {\"fill\": {\"color\": \"rgb(217,217,217)\"}, \"line\": {\"color\": \"white\"}}, \"type\": \"table\"}]}, \"layout\": {\"annotationdefaults\": {\"arrowhead\": 0, \"arrowwidth\": 1}, \"autotypenumbers\": \"strict\", \"coloraxis\": {\"colorbar\": {\"outlinewidth\": 1, \"tickcolor\": \"rgb(36,36,36)\", \"ticks\": \"outside\"}}, \"colorscale\": {\"diverging\": [[0.0, \"rgb(103,0,31)\"], [0.1, \"rgb(178,24,43)\"], [0.2, \"rgb(214,96,77)\"], [0.3, \"rgb(244,165,130)\"], [0.4, \"rgb(253,219,199)\"], [0.5, \"rgb(247,247,247)\"], [0.6, \"rgb(209,229,240)\"], [0.7, \"rgb(146,197,222)\"], [0.8, \"rgb(67,147,195)\"], [0.9, \"rgb(33,102,172)\"], [1.0, \"rgb(5,48,97)\"]], \"sequential\": [[0.0, \"#440154\"], [0.1111111111111111, \"#482878\"], [0.2222222222222222, \"#3e4989\"], [0.3333333333333333, \"#31688e\"], [0.4444444444444444, \"#26828e\"], [0.5555555555555556, \"#1f9e89\"], [0.6666666666666666, \"#35b779\"], [0.7777777777777778, \"#6ece58\"], [0.8888888888888888, \"#b5de2b\"], [1.0, \"#fde725\"]], \"sequentialminus\": [[0.0, \"#440154\"], [0.1111111111111111, \"#482878\"], [0.2222222222222222, \"#3e4989\"], [0.3333333333333333, \"#31688e\"], [0.4444444444444444, \"#26828e\"], [0.5555555555555556, \"#1f9e89\"], [0.6666666666666666, \"#35b779\"], [0.7777777777777778, \"#6ece58\"], [0.8888888888888888, \"#b5de2b\"], [1.0, \"#fde725\"]]}, \"colorway\": [\"#1F77B4\", \"#FF7F0E\", \"#2CA02C\", \"#D62728\", \"#9467BD\", \"#8C564B\", \"#E377C2\", \"#7F7F7F\", \"#BCBD22\", \"#17BECF\"], \"font\": {\"color\": \"rgb(36,36,36)\"}, \"geo\": {\"bgcolor\": \"white\", \"lakecolor\": \"white\", \"landcolor\": \"white\", \"showlakes\": true, \"showland\": true, \"subunitcolor\": \"white\"}, \"hoverlabel\": {\"align\": \"left\"}, \"hovermode\": \"closest\", \"mapbox\": {\"style\": \"light\"}, \"paper_bgcolor\": \"white\", \"plot_bgcolor\": \"white\", \"polar\": {\"angularaxis\": {\"gridcolor\": \"rgb(232,232,232)\", \"linecolor\": \"rgb(36,36,36)\", \"showgrid\": false, \"showline\": true, \"ticks\": \"outside\"}, \"bgcolor\": \"white\", \"radialaxis\": {\"gridcolor\": \"rgb(232,232,232)\", \"linecolor\": \"rgb(36,36,36)\", \"showgrid\": false, \"showline\": true, \"ticks\": \"outside\"}}, \"scene\": {\"xaxis\": {\"backgroundcolor\": \"white\", \"gridcolor\": \"rgb(232,232,232)\", \"gridwidth\": 2, \"linecolor\": \"rgb(36,36,36)\", \"showbackground\": true, \"showgrid\": false, \"showline\": true, \"ticks\": \"outside\", \"zeroline\": false, \"zerolinecolor\": \"rgb(36,36,36)\"}, \"yaxis\": {\"backgroundcolor\": \"white\", \"gridcolor\": \"rgb(232,232,232)\", \"gridwidth\": 2, \"linecolor\": \"rgb(36,36,36)\", \"showbackground\": true, \"showgrid\": false, \"showline\": true, \"ticks\": \"outside\", \"zeroline\": false, \"zerolinecolor\": \"rgb(36,36,36)\"}, \"zaxis\": {\"backgroundcolor\": \"white\", \"gridcolor\": \"rgb(232,232,232)\", \"gridwidth\": 2, \"linecolor\": \"rgb(36,36,36)\", \"showbackground\": true, \"showgrid\": false, \"showline\": true, \"ticks\": \"outside\", \"zeroline\": false, \"zerolinecolor\": \"rgb(36,36,36)\"}}, \"shapedefaults\": {\"fillcolor\": \"black\", \"line\": {\"width\": 0}, \"opacity\": 0.3}, \"ternary\": {\"aaxis\": {\"gridcolor\": \"rgb(232,232,232)\", \"linecolor\": \"rgb(36,36,36)\", \"showgrid\": false, \"showline\": true, \"ticks\": \"outside\"}, \"baxis\": {\"gridcolor\": \"rgb(232,232,232)\", \"linecolor\": \"rgb(36,36,36)\", \"showgrid\": false, \"showline\": true, \"ticks\": \"outside\"}, \"bgcolor\": \"white\", \"caxis\": {\"gridcolor\": \"rgb(232,232,232)\", \"linecolor\": \"rgb(36,36,36)\", \"showgrid\": false, \"showline\": true, \"ticks\": \"outside\"}}, \"title\": {\"x\": 0.05}, \"xaxis\": {\"automargin\": true, \"gridcolor\": \"rgb(232,232,232)\", \"linecolor\": \"rgb(36,36,36)\", \"showgrid\": false, \"showline\": true, \"ticks\": \"outside\", \"title\": {\"standoff\": 15}, \"zeroline\": false, \"zerolinecolor\": \"rgb(36,36,36)\"}, \"yaxis\": {\"automargin\": true, \"gridcolor\": \"rgb(232,232,232)\", \"linecolor\": \"rgb(36,36,36)\", \"showgrid\": false, \"showline\": true, \"ticks\": \"outside\", \"title\": {\"standoff\": 15}, \"zeroline\": false, \"zerolinecolor\": \"rgb(36,36,36)\"}}}, \"title\": {\"font\": {\"color\": \"Black\", \"size\": 22}, \"text\": \"<b>Topic Probability Distribution\", \"x\": 0.5, \"xanchor\": \"center\", \"y\": 0.95, \"yanchor\": \"top\"}, \"xaxis\": {\"title\": {\"text\": \"Probability\"}}},                        {\"responsive\": true}                    ).then(function(){\n",
              "                            \n",
              "var gd = document.getElementById('1706f1d0-be35-4fcf-9c32-f09a1656b2df');\n",
              "var x = new MutationObserver(function (mutations, observer) {{\n",
              "        var display = window.getComputedStyle(gd).display;\n",
              "        if (!display || display === 'none') {{\n",
              "            console.log([gd, 'removed!']);\n",
              "            Plotly.purge(gd);\n",
              "            observer.disconnect();\n",
              "        }}\n",
              "}});\n",
              "\n",
              "// Listen for the removal of the full notebook cells\n",
              "var notebookContainer = gd.closest('#notebook-container');\n",
              "if (notebookContainer) {{\n",
              "    x.observe(notebookContainer, {childList: true});\n",
              "}}\n",
              "\n",
              "// Listen for the clearing of the current output cell\n",
              "var outputEl = gd.closest('.output');\n",
              "if (outputEl) {{\n",
              "    x.observe(outputEl, {childList: true});\n",
              "}}\n",
              "\n",
              "                        })                };                            </script>        </div>\n",
              "</body>\n",
              "</html>"
            ]
          },
          "metadata": {
            "tags": []
          }
        }
      ]
    },
    {
      "cell_type": "code",
      "metadata": {
        "id": "ORUgEGwio8_v"
      },
      "source": [
        "bertopic_labels = np.argmax(probs, axis=1)\n",
        "dataset['BERTopic_Topic'] = bertopic_labels"
      ],
      "execution_count": 145,
      "outputs": []
    },
    {
      "cell_type": "code",
      "metadata": {
        "colab": {
          "base_uri": "https://localhost:8080/"
        },
        "id": "4K5ETSl6oac6",
        "outputId": "09fc9c54-4092-4afe-e524-ed3c940a5a55"
      },
      "source": [
        "topic_model.get_params()"
      ],
      "execution_count": 146,
      "outputs": [
        {
          "output_type": "execute_result",
          "data": {
            "text/plain": [
              "{'calculate_probabilities': True,\n",
              " 'embedding_model': <bertopic.backend._sentencetransformers.SentenceTransformerBackend at 0x7f0b82c8cdd0>,\n",
              " 'hdbscan_model': HDBSCAN(algorithm='best', allow_single_cluster=False, alpha=1.0,\n",
              "         approx_min_span_tree=True, cluster_selection_epsilon=0.0,\n",
              "         cluster_selection_method='eom', core_dist_n_jobs=4,\n",
              "         gen_min_span_tree=False, leaf_size=40,\n",
              "         match_reference_implementation=False, memory=Memory(location=None),\n",
              "         metric='euclidean', min_cluster_size=2, min_samples=None, p=None,\n",
              "         prediction_data=True),\n",
              " 'language': None,\n",
              " 'low_memory': False,\n",
              " 'min_topic_size': 2,\n",
              " 'n_gram_range': (1, 3),\n",
              " 'nr_topics': None,\n",
              " 'top_n_words': 10,\n",
              " 'umap_model': UMAP(a=None, angular_rp_forest=True, b=None, dens_frac=0.0, dens_lambda=0.0,\n",
              "      dens_var_shift=0.1, densmap=False, disconnection_distance=None,\n",
              "      force_approximation_algorithm=False, init='spectral', learning_rate=1.0,\n",
              "      local_connectivity=1.0, low_memory=False, metric='cosine',\n",
              "      metric_kwds=None, min_dist=0.0, n_components=5, n_epochs=None, n_jobs=-1,\n",
              "      n_neighbors=15, negative_sample_rate=5, output_dens=False,\n",
              "      output_metric='euclidean', output_metric_kwds=None, random_state=None,\n",
              "      repulsion_strength=1.0, set_op_mix_ratio=1.0, spread=1.0,\n",
              "      target_metric='categorical', target_metric_kwds=None, ...),\n",
              " 'vectorizer_model': CountVectorizer(analyzer='word', binary=False, decode_error='strict',\n",
              "                 dtype=<class 'numpy.int64'>, encoding='utf-8', input='content',\n",
              "                 lowercase=True, max_df=1.0, max_features=None, min_df=1,\n",
              "                 ngram_range=(1, 3), preprocessor=None, stop_words=None,\n",
              "                 strip_accents=None, token_pattern='(?u)\\\\b\\\\w\\\\w+\\\\b',\n",
              "                 tokenizer=None, vocabulary=None),\n",
              " 'verbose': False}"
            ]
          },
          "metadata": {
            "tags": []
          },
          "execution_count": 146
        }
      ]
    },
    {
      "cell_type": "markdown",
      "metadata": {
        "id": "hnwLHlXqiDKO"
      },
      "source": [
        "#### Train Set BERTopic"
      ]
    },
    {
      "cell_type": "markdown",
      "metadata": {
        "id": "W5evja8S1lgp"
      },
      "source": [
        "##### BERTopic Training Coherence Score - n/a"
      ]
    },
    {
      "cell_type": "code",
      "metadata": {
        "id": "cr7bKy_01lr1"
      },
      "source": [
        "# cm = models.CoherenceModel(model= topic_model, corpus = BoW_corpus, texts=document_list, dictionary=dictionary, coherence='u_mass')\n",
        "# lda_score = cm.get_coherence()\n",
        "# lda_score"
      ],
      "execution_count": 147,
      "outputs": []
    },
    {
      "cell_type": "markdown",
      "metadata": {
        "id": "OkZB828I1l8x"
      },
      "source": [
        "##### BERTopic Training Silhouettte Score 0.06"
      ]
    },
    {
      "cell_type": "code",
      "metadata": {
        "colab": {
          "base_uri": "https://localhost:8080/"
        },
        "id": "nSx4dLkC1mKK",
        "outputId": "34305639-fb1e-4fff-dbeb-f23a8453bdce"
      },
      "source": [
        "BERT_score = metrics.silhouette_score(tfidf_vec, bertopic_labels)\n",
        "BERT_score"
      ],
      "execution_count": 148,
      "outputs": [
        {
          "output_type": "execute_result",
          "data": {
            "text/plain": [
              "0.004702062715187102"
            ]
          },
          "metadata": {
            "tags": []
          },
          "execution_count": 148
        }
      ]
    },
    {
      "cell_type": "markdown",
      "metadata": {
        "id": "mYA1pEN2iJcu"
      },
      "source": [
        "#### Test Set BERTopic"
      ]
    },
    {
      "cell_type": "code",
      "metadata": {
        "id": "2Axai7uwBK_S"
      },
      "source": [
        "test_topics, test_probs  = topic_model.transform(test_document_list)\n",
        "test_bertopic_labels = np.argmax(test_probs, axis=1)\n",
        "df_test['BERTopic_Topic'] = test_bertopic_labels"
      ],
      "execution_count": 149,
      "outputs": []
    },
    {
      "cell_type": "markdown",
      "metadata": {
        "id": "gxhGGMO-CAqc"
      },
      "source": [
        "##### BERTopic Testing Silhouette Score 0.03"
      ]
    },
    {
      "cell_type": "code",
      "metadata": {
        "colab": {
          "base_uri": "https://localhost:8080/"
        },
        "id": "6bKlH-G-CAFc",
        "outputId": "a35cecbb-7b08-45d1-ec01-095c33b9c0e9"
      },
      "source": [
        "BERT_score2 = metrics.silhouette_score(test_points, test_bertopic_labels)\n",
        "BERT_score2"
      ],
      "execution_count": 150,
      "outputs": [
        {
          "output_type": "execute_result",
          "data": {
            "text/plain": [
              "-0.037343332319327224"
            ]
          },
          "metadata": {
            "tags": []
          },
          "execution_count": 150
        }
      ]
    },
    {
      "cell_type": "markdown",
      "metadata": {
        "id": "-p6lB04GeRuR"
      },
      "source": [
        "## Compare Models: "
      ]
    },
    {
      "cell_type": "markdown",
      "metadata": {
        "id": "ciPKEIT4wYUf"
      },
      "source": [
        "### Evaluate topics through interactive tables."
      ]
    },
    {
      "cell_type": "markdown",
      "metadata": {
        "id": "G-sPuPoe0tpe"
      },
      "source": [
        "##### Train Set: Titles and Top 5 Words Grouped by Topic\n",
        "\n",
        "Click on the topic columns to sort or click filter to filter by topic."
      ]
    },
    {
      "cell_type": "code",
      "metadata": {
        "colab": {
          "base_uri": "https://localhost:8080/",
          "height": 961
        },
        "id": "1afd28Inc5sy",
        "outputId": "e7c31bea-24c7-46cd-bd38-6d34a7eb8a6c"
      },
      "source": [
        "temp = dataset[['Title', 'Common5Words', 'LSA_Topic']]\n",
        "temp.sort_values(['LSA_Topic'])\n",
        "\n",
        "from google.colab import data_table\n",
        "data_table.DataTable(dataset, include_index=False, num_rows_per_page=40)\n"
      ],
      "execution_count": 151,
      "outputs": [
        {
          "output_type": "execute_result",
          "data": {
            "application/vnd.google.colaboratory.module+javascript": "\n      import \"https://ssl.gstatic.com/colaboratory/data_table/a6224c040fa35dcf/data_table.js\";\n\n      window.createDataTable({\n        data: [[\"THRESH\\u2014Software for Tracking Rainfall Thresholds for Landslide and Debris-Flow Occurrence, User Manual\",\n[\"precipit\", \"threshold\", \"softwar\", \"landslid\", \"thresh\"],\n{\n            'v': 0,\n            'f': \"0\",\n        },\n{\n            'v': 4,\n            'f': \"4\",\n        },\n{\n            'v': -1,\n            'f': \"-1\",\n        },\n{\n            'v': 4,\n            'f': \"4\",\n        }],\n [\"TRIGRS\\u2014A Fortran Program for Transient\\nRainfall Infiltration and Grid-Based Regional\\nSlope-Stability Analysis, Version 2.0\",\n[\"rainfal\", \"program\", \"use\", \"cell\", \"infiltr\"],\n{\n            'v': 0,\n            'f': \"0\",\n        },\n{\n            'v': 6,\n            'f': \"6\",\n        },\n{\n            'v': 9,\n            'f': \"9\",\n        },\n{\n            'v': 4,\n            'f': \"4\",\n        }],\n [\"Massachusetts Reservoir Simulation Tool\\u2014User\\u2019s Manual\",\n[\"reservoir\", \"simul\", \"develop\", \"massachusett\", \"tool\"],\n{\n            'v': 6,\n            'f': \"6\",\n        },\n{\n            'v': 6,\n            'f': \"6\",\n        },\n{\n            'v': 3,\n            'f': \"3\",\n        },\n{\n            'v': 2,\n            'f': \"2\",\n        }],\n [\"A Monthly Water-Balance Model Driven By a Graphical User\\nInterface\",\n[\"month\", \"water\", \"balanc\", \"tool\", \"program\"],\n{\n            'v': 0,\n            'f': \"0\",\n        },\n{\n            'v': 7,\n            'f': \"7\",\n        },\n{\n            'v': 3,\n            'f': \"3\",\n        },\n{\n            'v': 4,\n            'f': \"4\",\n        }],\n [\"The Effect of Particle Size Distribution on the Design of Urban Stormwater Control Measures\",\n[\"psd\", \"use\", \"runoff\", \"measur\", \"nurp\"],\n{\n            'v': 4,\n            'f': \"4\",\n        },\n{\n            'v': 2,\n            'f': \"2\",\n        },\n{\n            'v': -1,\n            'f': \"-1\",\n        },\n{\n            'v': 2,\n            'f': \"2\",\n        }],\n [\"THE COMPUTER MODEL SHARP, A QUASI-THREE-DIMENSIONAL FINITE-DIFFERENCE\\nMODEL TO SIMULATE FRESHWATER AND SALTWATER FLOW IN LAYERED COASTAL\\nAQUIFER SYSTEMS\",\n[\"aquif\", \"boundari\", \"saltwat\", \"interfac\", \"equat\"],\n{\n            'v': 4,\n            'f': \"4\",\n        },\n{\n            'v': 2,\n            'f': \"2\",\n        },\n{\n            'v': 1,\n            'f': \"1\",\n        },\n{\n            'v': 0,\n            'f': \"0\",\n        }],\n [\"SLAMMER\\u2014Seismic LAndslide Movement Modeled using Earthquake Records\",\n[\"record\", \"select\", \"conduct\", \"block\", \"analysi\"],\n{\n            'v': 0,\n            'f': \"0\",\n        },\n{\n            'v': 2,\n            'f': \"2\",\n        },\n{\n            'v': -1,\n            'f': \"-1\",\n        },\n{\n            'v': 4,\n            'f': \"4\",\n        }],\n [\"The SPARROW Surface Water-Quality Model: Theory, Application and User Documentation\",\n[\"watersh\", \"contamin\", \"spatial\", \"regress\", \"attribut\"],\n{\n            'v': 3,\n            'f': \"3\",\n        },\n{\n            'v': 6,\n            'f': \"6\",\n        },\n{\n            'v': 0,\n            'f': \"0\",\n        },\n{\n            'v': 3,\n            'f': \"3\",\n        }],\n [\"Modeling Landscape Evapotranspiration by Integrating Land Surface Phenology and a Water Balance Algorithm\",\n[\"veget\", \"use\", \"lsp\", \"crop\", \"model\"],\n{\n            'v': 3,\n            'f': \"3\",\n        },\n{\n            'v': 2,\n            'f': \"2\",\n        },\n{\n            'v': 4,\n            'f': \"4\",\n        },\n{\n            'v': 5,\n            'f': \"5\",\n        }],\n [\"Benefits of the destinations, not costs of the journeys, shape partial migration patterns\",\n[\"size\", \"migrat\", \"bodi\", \"forag\", \"migratori\"],\n{\n            'v': 3,\n            'f': \"3\",\n        },\n{\n            'v': 4,\n            'f': \"4\",\n        },\n{\n            'v': -1,\n            'f': \"-1\",\n        },\n{\n            'v': 2,\n            'f': \"2\",\n        }],\n [\"1DTempPro V2: New Features for Inferring Groundwater/Surface\\u2010Water Exchange\",\n[\"new\", \"code\", \"estim\", \"hydraul\", \"version\"],\n{\n            'v': 3,\n            'f': \"3\",\n        },\n{\n            'v': 6,\n            'f': \"6\",\n        },\n{\n            'v': 2,\n            'f': \"2\",\n        },\n{\n            'v': 5,\n            'f': \"5\",\n        }],\n [\"FishVis, A regional decision support tool for identifying vulnerabilities of riverine habitat and fishes to climate change in the Great Lakes Region\",\n[\"speci\", \"fish\", \"water\", \"percent\", \"climat\"],\n{\n            'v': 2,\n            'f': \"2\",\n        },\n{\n            'v': 2,\n            'f': \"2\",\n        },\n{\n            'v': -1,\n            'f': \"-1\",\n        },\n{\n            'v': 2,\n            'f': \"2\",\n        }],\n [\"One-Dimensional Transport with Equilibrium\\nChemistry (OTEQ)\\u2014A Reactive Transport\\nModel for Streams and Rivers\",\n[\"transport\", \"oteq\", \"solut\", \"base\", \"reaction\"],\n{\n            'v': 3,\n            'f': \"3\",\n        },\n{\n            'v': 2,\n            'f': \"2\",\n        },\n{\n            'v': 11,\n            'f': \"11\",\n        },\n{\n            'v': 3,\n            'f': \"3\",\n        }],\n [\"Submersed Aquatic Vegetation Modeling Output Online\",\n[\"veget\", \"predict\", \"aquat\", \"submers\", \"river\"],\n{\n            'v': 2,\n            'f': \"2\",\n        },\n{\n            'v': 7,\n            'f': \"7\",\n        },\n{\n            'v': 4,\n            'f': \"4\",\n        },\n{\n            'v': 2,\n            'f': \"2\",\n        }],\n [\"Probability of Streamflow Permanence Model (PROSPER): A spatially continuous model of annual streamflow permanence throughout the Pacific Northwest\",\n[\"streamflow\", \"perman\", \"predict\", \"channel\", \"stream\"],\n{\n            'v': 0,\n            'f': \"0\",\n        },\n{\n            'v': 6,\n            'f': \"6\",\n        },\n{\n            'v': -1,\n            'f': \"-1\",\n        },\n{\n            'v': 2,\n            'f': \"2\",\n        }],\n [\"FaSTMECH - Flow and Sediment Transport with Morphological Evolution of Channels\",\n[\"flow\", \"three\", \"dimension\", \"usg\", \"quasi\"],\n{\n            'v': 4,\n            'f': \"4\",\n        },\n{\n            'v': 7,\n            'f': \"7\",\n        },\n{\n            'v': 7,\n            'f': \"7\",\n        },\n{\n            'v': 1,\n            'f': \"1\",\n        }],\n [\"VS2DRTI - A Graphical Software Package for Simulating Water Flow, Heat Transport, and Reactive Solute Transport\",\n[\"transport\", \"vs2drti\", \"simul\", \"packag\", \"user\"],\n{\n            'v': 3,\n            'f': \"3\",\n        },\n{\n            'v': 4,\n            'f': \"4\",\n        },\n{\n            'v': 6,\n            'f': \"6\",\n        },\n{\n            'v': 5,\n            'f': \"5\",\n        }],\n [\"USER'S MANUAL FOR WATEQ4F, WITH REVISED THERMODYNAMIC DATA\\nBASE AND TEST CASES FOR CALCULATING SPECIATION OF MAJOR,\\nTRACE, AND REDOX ELEMENTS IN NATURAL WATERS\",\n[\"program\", \"data\", \"wateq4f\", \"microcomput\", \"base\"],\n{\n            'v': 0,\n            'f': \"0\",\n        },\n{\n            'v': 4,\n            'f': \"4\",\n        },\n{\n            'v': 10,\n            'f': \"10\",\n        },\n{\n            'v': 5,\n            'f': \"5\",\n        }],\n [\"Computer programs for limit-equilibrium slope-stability analyses FelleniusGS, BishopGS, and JanbuGS\",\n[\"program\", \"file\", \"use\", \"user\", \"simpl\"],\n{\n            'v': 0,\n            'f': \"0\",\n        },\n{\n            'v': 7,\n            'f': \"7\",\n        },\n{\n            'v': 9,\n            'f': \"9\",\n        },\n{\n            'v': 5,\n            'f': \"5\",\n        }],\n [\"VFLUX: Vertical Fluid Heat Transfer Solver (VFlu[H]X Solver)\",\n[\"vflux\", \"calcul\", \"vertic\", \"flux\", \"use\"],\n{\n            'v': 3,\n            'f': \"3\",\n        },\n{\n            'v': 2,\n            'f': \"2\",\n        },\n{\n            'v': -1,\n            'f': \"-1\",\n        },\n{\n            'v': 5,\n            'f': \"5\",\n        }],\n [\"Slab2, a comprehensive subduction zone geometry model\",\n[\"subduct\", \"zone\", \"seismic\", \"activ\", \"fault\"],\n{\n            'v': 2,\n            'f': \"2\",\n        },\n{\n            'v': 2,\n            'f': \"2\",\n        },\n{\n            'v': -1,\n            'f': \"-1\",\n        },\n{\n            'v': 0,\n            'f': \"0\",\n        }],\n [\"PTCOUNT\\u2014A FORTRAN-77 Computer Program to Calculate the Areal Distribution of Mapped Data Points Using Count-Circle Methodology\",\n[\"map\", \"count\", \"circl\", \"isopleth\", \"data\"],\n{\n            'v': 3,\n            'f': \"3\",\n        },\n{\n            'v': 4,\n            'f': \"4\",\n        },\n{\n            'v': 9,\n            'f': \"9\",\n        },\n{\n            'v': 4,\n            'f': \"4\",\n        }],\n [\"MOC3D\",\n[\"transport\", \"simul\", \"ground\", \"water\", \"chemic\"],\n{\n            'v': 0,\n            'f': \"0\",\n        },\n{\n            'v': 2,\n            'f': \"2\",\n        },\n{\n            'v': 11,\n            'f': \"11\",\n        },\n{\n            'v': 3,\n            'f': \"3\",\n        }],\n [\"HYDROTHERM - A computer code for simulation of two-phase ground-water flow and heat transport\",\n[\"simul\", \"1\", \"boundari\", \"program\", \"ground\"],\n{\n            'v': 4,\n            'f': \"4\",\n        },\n{\n            'v': 4,\n            'f': \"4\",\n        },\n{\n            'v': 1,\n            'f': \"1\",\n        },\n{\n            'v': 5,\n            'f': \"5\",\n        }],\n [\"A Fractured Rock Geophysical Toolbox Method Selection Tool\",\n[\"base\", \"site\", \"articl\", \"impact\", \"statement\"],\n{\n            'v': 4,\n            'f': \"4\",\n        },\n{\n            'v': 7,\n            'f': \"7\",\n        },\n{\n            'v': -1,\n            'f': \"-1\",\n        },\n{\n            'v': 4,\n            'f': \"4\",\n        }],\n [\"Delft3D - 3D modeling suite to investigate hydrodynamics, sediment transport and morphology and water quality for fluvial, estuarine and coastal environments\",\n[\"modul\", \"flow\", \"transport\", \"wave\", \"3d\"],\n{\n            'v': 2,\n            'f': \"2\",\n        },\n{\n            'v': 6,\n            'f': \"6\",\n        },\n{\n            'v': 7,\n            'f': \"7\",\n        },\n{\n            'v': 5,\n            'f': \"5\",\n        }],\n [\"FEQ - Full Equations Model for the Solution of the Full, Dynamic Equations of Motion for One-Dimensional Unsteady Flow in Open Channels and Through Control Structures\",\n[\"feq\", \"simul\", \"structur\", \"stream\", \"includ\"],\n{\n            'v': 3,\n            'f': \"3\",\n        },\n{\n            'v': 7,\n            'f': \"7\",\n        },\n{\n            'v': 5,\n            'f': \"5\",\n        },\n{\n            'v': 5,\n            'f': \"5\",\n        }],\n [\"CBLCM - Chesapeake Bay Land Change Model\",\n[\"cblcm\", \"land\", \"develop\", \"watersh\", \"model\"],\n{\n            'v': 3,\n            'f': \"3\",\n        },\n{\n            'v': 4,\n            'f': \"4\",\n        },\n{\n            'v': 0,\n            'f': \"0\",\n        },\n{\n            'v': 3,\n            'f': \"3\",\n        }],\n [\"USERS MANUAL FOR A BRANCHED\\nLAGRANGIAN TRANSPORT MODEL\",\n[\"transport\", \"present\", \"use\", \"data\", \"lagrangian\"],\n{\n            'v': 6,\n            'f': \"6\",\n        },\n{\n            'v': 2,\n            'f': \"2\",\n        },\n{\n            'v': 11,\n            'f': \"11\",\n        },\n{\n            'v': 3,\n            'f': \"3\",\n        }],\n [\"A Bayesian\\u2010Based System to Assess Wave\\u2010Driven Flooding Hazards on Coral Reef\\u2010Lined Coasts\",\n[\"reef\", \"flood\", \"wave\", \"coast\", \"coral\"],\n{\n            'v': 2,\n            'f': \"2\",\n        },\n{\n            'v': 2,\n            'f': \"2\",\n        },\n{\n            'v': 8,\n            'f': \"8\",\n        },\n{\n            'v': 2,\n            'f': \"2\",\n        }],\n [\"Ash3d: A finite\\u2010volume, conservative numerical model for ash transport and tephra deposition\",\n[\"erupt\", \"ash\", \"volcan\", \"use\", \"distribut\"],\n{\n            'v': 0,\n            'f': \"0\",\n        },\n{\n            'v': 4,\n            'f': \"4\",\n        },\n{\n            'v': -1,\n            'f': \"-1\",\n        },\n{\n            'v': 3,\n            'f': \"3\",\n        }],\n [\"BIOMOC, A Multispecies Solute-Transport Model with\\nBiodegradation\",\n[\"degrad\", \"simul\", \"dimension\", \"transport\", \"aerob\"],\n{\n            'v': 0,\n            'f': \"0\",\n        },\n{\n            'v': 7,\n            'f': \"7\",\n        },\n{\n            'v': 11,\n            'f': \"11\",\n        },\n{\n            'v': 3,\n            'f': \"3\",\n        }],\n [\"AnalyzeHOLE\\u2014An Integrated Wellbore Flow Analysis Tool\",\n[\"well\", \"flow\", \"hydraul\", \"simul\", \"conduct\"],\n{\n            'v': 3,\n            'f': \"3\",\n        },\n{\n            'v': 7,\n            'f': \"7\",\n        },\n{\n            'v': 2,\n            'f': \"2\",\n        },\n{\n            'v': 0,\n            'f': \"0\",\n        }],\n [\"Development of a Coupled Ocean\\u2013Atmosphere\\u2013Wave\\u2013Sediment Transport (COAWST) Modeling System\",\n[\"coupl\", \"wave\", \"ocean\", \"atmospher\", \"coastal\"],\n{\n            'v': 2,\n            'f': \"2\",\n        },\n{\n            'v': 7,\n            'f': \"7\",\n        },\n{\n            'v': 8,\n            'f': \"8\",\n        },\n{\n            'v': 2,\n            'f': \"2\",\n        }],\n [\"Update of the Graizer-Kalkan ground-motion prediction equations for shallow crustal continental earthquakes\",\n[\"ground\", \"motion\", \"5\", \"distanc\", \"0\"],\n{\n            'v': 4,\n            'f': \"4\",\n        },\n{\n            'v': 2,\n            'f': \"2\",\n        },\n{\n            'v': -1,\n            'f': \"-1\",\n        },\n{\n            'v': 1,\n            'f': \"1\",\n        }],\n [\"NCCV - National Climate Change Viewer\",\n[\"chang\", \"water\", \"area\", \"climat\", \"temperatur\"],\n{\n            'v': 0,\n            'f': \"0\",\n        },\n{\n            'v': 7,\n            'f': \"7\",\n        },\n{\n            'v': 3,\n            'f': \"3\",\n        },\n{\n            'v': 2,\n            'f': \"2\",\n        }],\n [\"MODFLOW-NWT, A Newton Formulation for MODFLOW-2005\",\n[\"packag\", \"modflow\", \"flow\", \"use\", \"nwt\"],\n{\n            'v': 0,\n            'f': \"0\",\n        },\n{\n            'v': 6,\n            'f': \"6\",\n        },\n{\n            'v': 6,\n            'f': \"6\",\n        },\n{\n            'v': 1,\n            'f': \"1\",\n        }],\n [\"Spring onset variations and trends in the continental United States: past and regional assessment using temperature\\u2010based indices\",\n[\"structur\", \"feq\", \"comput\", \"simul\", \"one\"],\n{\n            'v': 3,\n            'f': \"3\",\n        },\n{\n            'v': 7,\n            'f': \"7\",\n        },\n{\n            'v': 5,\n            'f': \"5\",\n        },\n{\n            'v': 5,\n            'f': \"5\",\n        }],\n [\"Scoops3D: software to analyze 3D slope stability throughout a digital landscape\",\n[\"scoops3d\", \"dem\", \"stabil\", \"3d\", \"potenti\"],\n{\n            'v': 0,\n            'f': \"0\",\n        },\n{\n            'v': 6,\n            'f': \"6\",\n        },\n{\n            'v': 9,\n            'f': \"9\",\n        },\n{\n            'v': 4,\n            'f': \"4\",\n        }],\n [\"Description of input and examples for PHREEQC version 3: a computer program for speciation, batch-reaction, one-dimensional transport, and inverse geochemical calculations\",\n[\"keyword\", \"calcul\", \"data\", \"phreeqc\", \"aqueous\"],\n{\n            'v': 4,\n            'f': \"4\",\n        },\n{\n            'v': 2,\n            'f': \"2\",\n        },\n{\n            'v': 10,\n            'f': \"10\",\n        },\n{\n            'v': 5,\n            'f': \"5\",\n        }]],\n        columns: [[\"string\", \"Title\"], [\"string\", \"Common5Words\"], [\"number\", \"LSA_Topic\"], [\"number\", \"LDA_Topic\"], [\"number\", \"HDBSCAN_Topic\"], [\"number\", \"BERTopic_Topic\"]],\n        columnOptions: [],\n        rowsPerPage: 40,\n        helpUrl: \"https://colab.research.google.com/notebooks/data_table.ipynb\",\n        suppressOutputScrolling: true,\n        minimumWidth: undefined,\n      });\n    ",
            "text/plain": [
              "<google.colab.data_table.DataTable object>"
            ],
            "text/html": [
              "<div>\n",
              "<style scoped>\n",
              "    .dataframe tbody tr th:only-of-type {\n",
              "        vertical-align: middle;\n",
              "    }\n",
              "\n",
              "    .dataframe tbody tr th {\n",
              "        vertical-align: top;\n",
              "    }\n",
              "\n",
              "    .dataframe thead th {\n",
              "        text-align: right;\n",
              "    }\n",
              "</style>\n",
              "<table border=\"1\" class=\"dataframe\">\n",
              "  <thead>\n",
              "    <tr style=\"text-align: right;\">\n",
              "      <th></th>\n",
              "      <th>Title</th>\n",
              "      <th>Common5Words</th>\n",
              "      <th>LSA_Topic</th>\n",
              "      <th>LDA_Topic</th>\n",
              "      <th>HDBSCAN_Topic</th>\n",
              "      <th>BERTopic_Topic</th>\n",
              "    </tr>\n",
              "  </thead>\n",
              "  <tbody>\n",
              "    <tr>\n",
              "      <th>0</th>\n",
              "      <td>THRESH—Software for Tracking Rainfall Threshol...</td>\n",
              "      <td>[precipit, threshold, softwar, landslid, thresh]</td>\n",
              "      <td>0</td>\n",
              "      <td>4</td>\n",
              "      <td>-1</td>\n",
              "      <td>4</td>\n",
              "    </tr>\n",
              "    <tr>\n",
              "      <th>1</th>\n",
              "      <td>TRIGRS—A Fortran Program for Transient\\nRainfa...</td>\n",
              "      <td>[rainfal, program, use, cell, infiltr]</td>\n",
              "      <td>0</td>\n",
              "      <td>6</td>\n",
              "      <td>9</td>\n",
              "      <td>4</td>\n",
              "    </tr>\n",
              "    <tr>\n",
              "      <th>2</th>\n",
              "      <td>Massachusetts Reservoir Simulation Tool—User’s...</td>\n",
              "      <td>[reservoir, simul, develop, massachusett, tool]</td>\n",
              "      <td>6</td>\n",
              "      <td>6</td>\n",
              "      <td>3</td>\n",
              "      <td>2</td>\n",
              "    </tr>\n",
              "    <tr>\n",
              "      <th>3</th>\n",
              "      <td>A Monthly Water-Balance Model Driven By a Grap...</td>\n",
              "      <td>[month, water, balanc, tool, program]</td>\n",
              "      <td>0</td>\n",
              "      <td>7</td>\n",
              "      <td>3</td>\n",
              "      <td>4</td>\n",
              "    </tr>\n",
              "    <tr>\n",
              "      <th>4</th>\n",
              "      <td>The Effect of Particle Size Distribution on th...</td>\n",
              "      <td>[psd, use, runoff, measur, nurp]</td>\n",
              "      <td>4</td>\n",
              "      <td>2</td>\n",
              "      <td>-1</td>\n",
              "      <td>2</td>\n",
              "    </tr>\n",
              "    <tr>\n",
              "      <th>5</th>\n",
              "      <td>THE COMPUTER MODEL SHARP, A QUASI-THREE-DIMENS...</td>\n",
              "      <td>[aquif, boundari, saltwat, interfac, equat]</td>\n",
              "      <td>4</td>\n",
              "      <td>2</td>\n",
              "      <td>1</td>\n",
              "      <td>0</td>\n",
              "    </tr>\n",
              "    <tr>\n",
              "      <th>6</th>\n",
              "      <td>SLAMMER—Seismic LAndslide Movement Modeled usi...</td>\n",
              "      <td>[record, select, conduct, block, analysi]</td>\n",
              "      <td>0</td>\n",
              "      <td>2</td>\n",
              "      <td>-1</td>\n",
              "      <td>4</td>\n",
              "    </tr>\n",
              "    <tr>\n",
              "      <th>7</th>\n",
              "      <td>The SPARROW Surface Water-Quality Model: Theor...</td>\n",
              "      <td>[watersh, contamin, spatial, regress, attribut]</td>\n",
              "      <td>3</td>\n",
              "      <td>6</td>\n",
              "      <td>0</td>\n",
              "      <td>3</td>\n",
              "    </tr>\n",
              "    <tr>\n",
              "      <th>8</th>\n",
              "      <td>Modeling Landscape Evapotranspiration by Integ...</td>\n",
              "      <td>[veget, use, lsp, crop, model]</td>\n",
              "      <td>3</td>\n",
              "      <td>2</td>\n",
              "      <td>4</td>\n",
              "      <td>5</td>\n",
              "    </tr>\n",
              "    <tr>\n",
              "      <th>9</th>\n",
              "      <td>Benefits of the destinations, not costs of the...</td>\n",
              "      <td>[size, migrat, bodi, forag, migratori]</td>\n",
              "      <td>3</td>\n",
              "      <td>4</td>\n",
              "      <td>-1</td>\n",
              "      <td>2</td>\n",
              "    </tr>\n",
              "    <tr>\n",
              "      <th>10</th>\n",
              "      <td>1DTempPro V2: New Features for Inferring Groun...</td>\n",
              "      <td>[new, code, estim, hydraul, version]</td>\n",
              "      <td>3</td>\n",
              "      <td>6</td>\n",
              "      <td>2</td>\n",
              "      <td>5</td>\n",
              "    </tr>\n",
              "    <tr>\n",
              "      <th>11</th>\n",
              "      <td>FishVis, A regional decision support tool for ...</td>\n",
              "      <td>[speci, fish, water, percent, climat]</td>\n",
              "      <td>2</td>\n",
              "      <td>2</td>\n",
              "      <td>-1</td>\n",
              "      <td>2</td>\n",
              "    </tr>\n",
              "    <tr>\n",
              "      <th>12</th>\n",
              "      <td>One-Dimensional Transport with Equilibrium\\nCh...</td>\n",
              "      <td>[transport, oteq, solut, base, reaction]</td>\n",
              "      <td>3</td>\n",
              "      <td>2</td>\n",
              "      <td>11</td>\n",
              "      <td>3</td>\n",
              "    </tr>\n",
              "    <tr>\n",
              "      <th>13</th>\n",
              "      <td>Submersed Aquatic Vegetation Modeling Output O...</td>\n",
              "      <td>[veget, predict, aquat, submers, river]</td>\n",
              "      <td>2</td>\n",
              "      <td>7</td>\n",
              "      <td>4</td>\n",
              "      <td>2</td>\n",
              "    </tr>\n",
              "    <tr>\n",
              "      <th>14</th>\n",
              "      <td>Probability of Streamflow Permanence Model (PR...</td>\n",
              "      <td>[streamflow, perman, predict, channel, stream]</td>\n",
              "      <td>0</td>\n",
              "      <td>6</td>\n",
              "      <td>-1</td>\n",
              "      <td>2</td>\n",
              "    </tr>\n",
              "    <tr>\n",
              "      <th>15</th>\n",
              "      <td>FaSTMECH - Flow and Sediment Transport with Mo...</td>\n",
              "      <td>[flow, three, dimension, usg, quasi]</td>\n",
              "      <td>4</td>\n",
              "      <td>7</td>\n",
              "      <td>7</td>\n",
              "      <td>1</td>\n",
              "    </tr>\n",
              "    <tr>\n",
              "      <th>16</th>\n",
              "      <td>VS2DRTI - A Graphical Software Package for Sim...</td>\n",
              "      <td>[transport, vs2drti, simul, packag, user]</td>\n",
              "      <td>3</td>\n",
              "      <td>4</td>\n",
              "      <td>6</td>\n",
              "      <td>5</td>\n",
              "    </tr>\n",
              "    <tr>\n",
              "      <th>17</th>\n",
              "      <td>USER'S MANUAL FOR WATEQ4F, WITH REVISED THERMO...</td>\n",
              "      <td>[program, data, wateq4f, microcomput, base]</td>\n",
              "      <td>0</td>\n",
              "      <td>4</td>\n",
              "      <td>10</td>\n",
              "      <td>5</td>\n",
              "    </tr>\n",
              "    <tr>\n",
              "      <th>18</th>\n",
              "      <td>Computer programs for limit-equilibrium slope-...</td>\n",
              "      <td>[program, file, use, user, simpl]</td>\n",
              "      <td>0</td>\n",
              "      <td>7</td>\n",
              "      <td>9</td>\n",
              "      <td>5</td>\n",
              "    </tr>\n",
              "    <tr>\n",
              "      <th>19</th>\n",
              "      <td>VFLUX: Vertical Fluid Heat Transfer Solver (VF...</td>\n",
              "      <td>[vflux, calcul, vertic, flux, use]</td>\n",
              "      <td>3</td>\n",
              "      <td>2</td>\n",
              "      <td>-1</td>\n",
              "      <td>5</td>\n",
              "    </tr>\n",
              "    <tr>\n",
              "      <th>20</th>\n",
              "      <td>Slab2, a comprehensive subduction zone geometr...</td>\n",
              "      <td>[subduct, zone, seismic, activ, fault]</td>\n",
              "      <td>2</td>\n",
              "      <td>2</td>\n",
              "      <td>-1</td>\n",
              "      <td>0</td>\n",
              "    </tr>\n",
              "    <tr>\n",
              "      <th>21</th>\n",
              "      <td>PTCOUNT—A FORTRAN-77 Computer Program to Calcu...</td>\n",
              "      <td>[map, count, circl, isopleth, data]</td>\n",
              "      <td>3</td>\n",
              "      <td>4</td>\n",
              "      <td>9</td>\n",
              "      <td>4</td>\n",
              "    </tr>\n",
              "    <tr>\n",
              "      <th>22</th>\n",
              "      <td>MOC3D</td>\n",
              "      <td>[transport, simul, ground, water, chemic]</td>\n",
              "      <td>0</td>\n",
              "      <td>2</td>\n",
              "      <td>11</td>\n",
              "      <td>3</td>\n",
              "    </tr>\n",
              "    <tr>\n",
              "      <th>23</th>\n",
              "      <td>HYDROTHERM - A computer code for simulation of...</td>\n",
              "      <td>[simul, 1, boundari, program, ground]</td>\n",
              "      <td>4</td>\n",
              "      <td>4</td>\n",
              "      <td>1</td>\n",
              "      <td>5</td>\n",
              "    </tr>\n",
              "    <tr>\n",
              "      <th>24</th>\n",
              "      <td>A Fractured Rock Geophysical Toolbox Method Se...</td>\n",
              "      <td>[base, site, articl, impact, statement]</td>\n",
              "      <td>4</td>\n",
              "      <td>7</td>\n",
              "      <td>-1</td>\n",
              "      <td>4</td>\n",
              "    </tr>\n",
              "    <tr>\n",
              "      <th>25</th>\n",
              "      <td>Delft3D - 3D modeling suite to investigate hyd...</td>\n",
              "      <td>[modul, flow, transport, wave, 3d]</td>\n",
              "      <td>2</td>\n",
              "      <td>6</td>\n",
              "      <td>7</td>\n",
              "      <td>5</td>\n",
              "    </tr>\n",
              "    <tr>\n",
              "      <th>26</th>\n",
              "      <td>FEQ - Full Equations Model for the Solution of...</td>\n",
              "      <td>[feq, simul, structur, stream, includ]</td>\n",
              "      <td>3</td>\n",
              "      <td>7</td>\n",
              "      <td>5</td>\n",
              "      <td>5</td>\n",
              "    </tr>\n",
              "    <tr>\n",
              "      <th>27</th>\n",
              "      <td>CBLCM - Chesapeake Bay Land Change Model</td>\n",
              "      <td>[cblcm, land, develop, watersh, model]</td>\n",
              "      <td>3</td>\n",
              "      <td>4</td>\n",
              "      <td>0</td>\n",
              "      <td>3</td>\n",
              "    </tr>\n",
              "    <tr>\n",
              "      <th>28</th>\n",
              "      <td>USERS MANUAL FOR A BRANCHED\\nLAGRANGIAN TRANSP...</td>\n",
              "      <td>[transport, present, use, data, lagrangian]</td>\n",
              "      <td>6</td>\n",
              "      <td>2</td>\n",
              "      <td>11</td>\n",
              "      <td>3</td>\n",
              "    </tr>\n",
              "    <tr>\n",
              "      <th>29</th>\n",
              "      <td>A Bayesian‐Based System to Assess Wave‐Driven ...</td>\n",
              "      <td>[reef, flood, wave, coast, coral]</td>\n",
              "      <td>2</td>\n",
              "      <td>2</td>\n",
              "      <td>8</td>\n",
              "      <td>2</td>\n",
              "    </tr>\n",
              "    <tr>\n",
              "      <th>30</th>\n",
              "      <td>Ash3d: A finite‐volume, conservative numerical...</td>\n",
              "      <td>[erupt, ash, volcan, use, distribut]</td>\n",
              "      <td>0</td>\n",
              "      <td>4</td>\n",
              "      <td>-1</td>\n",
              "      <td>3</td>\n",
              "    </tr>\n",
              "    <tr>\n",
              "      <th>31</th>\n",
              "      <td>BIOMOC, A Multispecies Solute-Transport Model ...</td>\n",
              "      <td>[degrad, simul, dimension, transport, aerob]</td>\n",
              "      <td>0</td>\n",
              "      <td>7</td>\n",
              "      <td>11</td>\n",
              "      <td>3</td>\n",
              "    </tr>\n",
              "    <tr>\n",
              "      <th>32</th>\n",
              "      <td>AnalyzeHOLE—An Integrated Wellbore Flow Analys...</td>\n",
              "      <td>[well, flow, hydraul, simul, conduct]</td>\n",
              "      <td>3</td>\n",
              "      <td>7</td>\n",
              "      <td>2</td>\n",
              "      <td>0</td>\n",
              "    </tr>\n",
              "    <tr>\n",
              "      <th>33</th>\n",
              "      <td>Development of a Coupled Ocean–Atmosphere–Wave...</td>\n",
              "      <td>[coupl, wave, ocean, atmospher, coastal]</td>\n",
              "      <td>2</td>\n",
              "      <td>7</td>\n",
              "      <td>8</td>\n",
              "      <td>2</td>\n",
              "    </tr>\n",
              "    <tr>\n",
              "      <th>34</th>\n",
              "      <td>Update of the Graizer-Kalkan ground-motion pre...</td>\n",
              "      <td>[ground, motion, 5, distanc, 0]</td>\n",
              "      <td>4</td>\n",
              "      <td>2</td>\n",
              "      <td>-1</td>\n",
              "      <td>1</td>\n",
              "    </tr>\n",
              "    <tr>\n",
              "      <th>35</th>\n",
              "      <td>NCCV - National Climate Change Viewer</td>\n",
              "      <td>[chang, water, area, climat, temperatur]</td>\n",
              "      <td>0</td>\n",
              "      <td>7</td>\n",
              "      <td>3</td>\n",
              "      <td>2</td>\n",
              "    </tr>\n",
              "    <tr>\n",
              "      <th>36</th>\n",
              "      <td>MODFLOW-NWT, A Newton Formulation for MODFLOW-...</td>\n",
              "      <td>[packag, modflow, flow, use, nwt]</td>\n",
              "      <td>0</td>\n",
              "      <td>6</td>\n",
              "      <td>6</td>\n",
              "      <td>1</td>\n",
              "    </tr>\n",
              "    <tr>\n",
              "      <th>37</th>\n",
              "      <td>Spring onset variations and trends in the cont...</td>\n",
              "      <td>[structur, feq, comput, simul, one]</td>\n",
              "      <td>3</td>\n",
              "      <td>7</td>\n",
              "      <td>5</td>\n",
              "      <td>5</td>\n",
              "    </tr>\n",
              "    <tr>\n",
              "      <th>38</th>\n",
              "      <td>Scoops3D: software to analyze 3D slope stabili...</td>\n",
              "      <td>[scoops3d, dem, stabil, 3d, potenti]</td>\n",
              "      <td>0</td>\n",
              "      <td>6</td>\n",
              "      <td>9</td>\n",
              "      <td>4</td>\n",
              "    </tr>\n",
              "    <tr>\n",
              "      <th>39</th>\n",
              "      <td>Description of input and examples for PHREEQC ...</td>\n",
              "      <td>[keyword, calcul, data, phreeqc, aqueous]</td>\n",
              "      <td>4</td>\n",
              "      <td>2</td>\n",
              "      <td>10</td>\n",
              "      <td>5</td>\n",
              "    </tr>\n",
              "  </tbody>\n",
              "</table>\n",
              "</div>"
            ]
          },
          "metadata": {
            "tags": []
          },
          "execution_count": 151
        }
      ]
    },
    {
      "cell_type": "markdown",
      "metadata": {
        "id": "tXjJyntxoCFo"
      },
      "source": [
        "##### Test *Set*: Titles and Top 5 Words Grouped by Topic"
      ]
    },
    {
      "cell_type": "code",
      "metadata": {
        "colab": {
          "base_uri": "https://localhost:8080/",
          "height": 508
        },
        "id": "8gRQLuBkR7VG",
        "outputId": "32c6dd5b-1ea0-430d-c07c-d01747f89fd7"
      },
      "source": [
        "temp = df_test[['Title', 'Common5Words', 'LSA_Topic', 'LDA_Topic',\n",
        "       'HDBSCAN_Topic', 'BERTopic_Topic', ]]\n",
        "from google.colab import data_table\n",
        "data_table.DataTable(temp, include_index=False, num_rows_per_page=40)"
      ],
      "execution_count": 152,
      "outputs": [
        {
          "output_type": "execute_result",
          "data": {
            "application/vnd.google.colaboratory.module+javascript": "\n      import \"https://ssl.gstatic.com/colaboratory/data_table/a6224c040fa35dcf/data_table.js\";\n\n      window.createDataTable({\n        data: [[\"FACET - Floodplain and Channel Evaluation Tool \",\n[\"floodplain\", \"facet\", \"stream\", \"dem\", \"tool\"],\n{\n            'v': 0,\n            'f': \"0\",\n        },\n{\n            'v': 4,\n            'f': \"4\",\n        },\n{\n            'v': -1,\n            'f': \"-1\",\n        },\n{\n            'v': 1,\n            'f': \"1\",\n        }],\n [\"WEMo (Wave Exposure Model) : formulation, procedures and validation\",\n[\"wave\", \"exposur\", \"wemo\", \"mode\", \"energi\"],\n{\n            'v': 3,\n            'f': \"3\",\n        },\n{\n            'v': 3,\n            'f': \"3\",\n        },\n{\n            'v': -1,\n            'f': \"-1\",\n        },\n{\n            'v': 2,\n            'f': \"2\",\n        }],\n [\"SSEBop - Simplified Surface Energy Balance approach\",\n[\"surfac\", \"use\", \"base\", \"et\", \"ssebop\"],\n{\n            'v': 0,\n            'f': \"0\",\n        },\n{\n            'v': 4,\n            'f': \"4\",\n        },\n{\n            'v': -1,\n            'f': \"-1\",\n        },\n{\n            'v': 2,\n            'f': \"2\",\n        }],\n [\"MODIFICATIONS TO THE DIFFUSION ANALOG\\nSURFACE-WATER FLOW MODEL (DAFLOW)\\nFOR COUPLING TO THE MODULAR FINITEDIFFERENCE GROUND-WATER FLOW MODEL\\n(MODFLOW)\",\n[\"water\", \"ground\", \"flow\", \"simul\", \"surfac\"],\n{\n            'v': 4,\n            'f': \"4\",\n        },\n{\n            'v': 4,\n            'f': \"4\",\n        },\n{\n            'v': 2,\n            'f': \"2\",\n        },\n{\n            'v': 2,\n            'f': \"2\",\n        }],\n [\"Development of a Coupled Ocean\\u2013Atmosphere\\u2013Wave\\u2013Sediment Transport (COAWST) Modeling System\",\n[\"coupl\", \"wave\", \"ocean\", \"atmospher\", \"coastal\"],\n{\n            'v': 2,\n            'f': \"2\",\n        },\n{\n            'v': 3,\n            'f': \"3\",\n        },\n{\n            'v': -1,\n            'f': \"-1\",\n        },\n{\n            'v': 3,\n            'f': \"3\",\n        }],\n [\"Stochastic Empirical Loading and Dilution Model (SELDM) Version 1.0.0\",\n[\"seldm\", \"site\", \"use\", \"water\", \"input\"],\n{\n            'v': 0,\n            'f': \"0\",\n        },\n{\n            'v': 4,\n            'f': \"4\",\n        },\n{\n            'v': -1,\n            'f': \"-1\",\n        },\n{\n            'v': 2,\n            'f': \"2\",\n        }],\n [\"A modular finite-element model (MODFE) for areal and axisymmetric ground-water-flow problems, Part 1: Model Description and User's Manual\",\n[\"flow\", \"finit\", \"element\", \"modf\", \"water\"],\n{\n            'v': 4,\n            'f': \"4\",\n        },\n{\n            'v': 5,\n            'f': \"5\",\n        },\n{\n            'v': 1,\n            'f': \"1\",\n        },\n{\n            'v': 2,\n            'f': \"2\",\n        }],\n [\"The 2018 update of the US National Seismic Hazard Model: Overview of model and implications\",\n[\"updat\", \"seismic\", \"hazard\", \"unit\", \"state\"],\n{\n            'v': 4,\n            'f': \"4\",\n        },\n{\n            'v': 4,\n            'f': \"4\",\n        },\n{\n            'v': -1,\n            'f': \"-1\",\n        },\n{\n            'v': 2,\n            'f': \"2\",\n        }],\n [\"HST3D - A Computer Code for Simulation of Heat and Solute Transport in Three-Dimensional Ground-Water Flow Systems\",\n[\"transport\", \"simul\", \"heat\", \"solut\", \"program\"],\n{\n            'v': 0,\n            'f': \"0\",\n        },\n{\n            'v': 4,\n            'f': \"4\",\n        },\n{\n            'v': 10,\n            'f': \"10\",\n        },\n{\n            'v': 2,\n            'f': \"2\",\n        }],\n [\"FourPt - An unsteady, one-dimensional, open-channel flow model\",\n[\"channel\", \"flow\", \"simul\", \"network\", \"equat\"],\n{\n            'v': 4,\n            'f': \"4\",\n        },\n{\n            'v': 7,\n            'f': \"7\",\n        },\n{\n            'v': 5,\n            'f': \"5\",\n        },\n{\n            'v': 2,\n            'f': \"2\",\n        }],\n [\"BBS - North American Breeding Bird Survey\",\n[\"bird\", \"data\", \"north\", \"bbs\", \"speci\"],\n{\n            'v': 0,\n            'f': \"0\",\n        },\n{\n            'v': 3,\n            'f': \"3\",\n        },\n{\n            'v': -1,\n            'f': \"-1\",\n        },\n{\n            'v': 3,\n            'f': \"3\",\n        }],\n [\"User guide to Exploration and Graphics for RivEr Trends (EGRET) and dataRetrieval: R packages for hydrologic data\",\n[\"data\", \"use\", \"packag\", \"chang\", \"water\"],\n{\n            'v': 0,\n            'f': \"0\",\n        },\n{\n            'v': 4,\n            'f': \"4\",\n        },\n{\n            'v': -1,\n            'f': \"-1\",\n        },\n{\n            'v': 2,\n            'f': \"2\",\n        }],\n [\"Groundwater Management Process for the U.S. Geological Survey modular three-dimensional groundwater model, MODFLOW\",\n[\"gwm\", \"version\", \"use\", \"modflow\", \"2005\"],\n{\n            'v': 0,\n            'f': \"0\",\n        },\n{\n            'v': 4,\n            'f': \"4\",\n        },\n{\n            'v': -1,\n            'f': \"-1\",\n        },\n{\n            'v': 4,\n            'f': \"4\",\n        }],\n [\"Update of the Graizer-Kalkan ground-motion prediction equations for shallow crustal continental earthquakes\",\n[\"ground\", \"motion\", \"5\", \"distanc\", \"0\"],\n{\n            'v': 4,\n            'f': \"4\",\n        },\n{\n            'v': 5,\n            'f': \"5\",\n        },\n{\n            'v': -1,\n            'f': \"-1\",\n        },\n{\n            'v': 3,\n            'f': \"3\",\n        }],\n [\"Recovery planning in a dynamic system: integrating uncertainty into a decision support tool for an endangered songbird\",\n[\"manag\", \"decis\", \"popul\", \"vireo\", \"challeng\"],\n{\n            'v': 0,\n            'f': \"0\",\n        },\n{\n            'v': 4,\n            'f': \"4\",\n        },\n{\n            'v': -1,\n            'f': \"-1\",\n        },\n{\n            'v': 2,\n            'f': \"2\",\n        }],\n [\"Documentation of a Conduit Flow Process (CFP) for MODFLOW-2005\",\n[\"flow\", \"turbul\", \"laminar\", \"pipe\", \"mode\"],\n{\n            'v': 4,\n            'f': \"4\",\n        },\n{\n            'v': 4,\n            'f': \"4\",\n        },\n{\n            'v': 2,\n            'f': \"2\",\n        },\n{\n            'v': 5,\n            'f': \"5\",\n        }],\n [\"The Pedestrian Evacuation Analyst: geographic information systems software for modeling hazard evacuation potential\",\n[\"evacu\", \"time\", \"hazard\", \"model\", \"travel\"],\n{\n            'v': 0,\n            'f': \"0\",\n        },\n{\n            'v': 4,\n            'f': \"4\",\n        },\n{\n            'v': -1,\n            'f': \"-1\",\n        },\n{\n            'v': 3,\n            'f': \"3\",\n        }],\n [\"Dynamically Downscaled Climate Simulations over North America: Methods, Evaluation, and Supporting Documentation for Users\",\n[\"simul\", \"climat\", \"futur\", \"provid\", \"present\"],\n{\n            'v': 0,\n            'f': \"0\",\n        },\n{\n            'v': 7,\n            'f': \"7\",\n        },\n{\n            'v': -1,\n            'f': \"-1\",\n        },\n{\n            'v': 2,\n            'f': \"2\",\n        }],\n [\"GSFLOW\\u2014Coupled Ground-Water and Surface-Water Flow Model Based on the Integration of the Precipitation-Runoff Modeling System (PRMS) and the Modular Ground-Water Flow Model (MODFLOW-2005)\",\n[\"water\", \"flow\", \"compon\", \"integr\", \"develop\"],\n{\n            'v': 4,\n            'f': \"4\",\n        },\n{\n            'v': 4,\n            'f': \"4\",\n        },\n{\n            'v': 3,\n            'f': \"3\",\n        },\n{\n            'v': 2,\n            'f': \"2\",\n        }],\n [\"The Hydrologic System of the South Florida Peninsula: Development and Application of the Biscayne and Southern Everglades Coastal Transport (BISECT) Model\",\n[\"flow\", \"level\", \"water\", \"everglad\", \"chang\"],\n{\n            'v': 4,\n            'f': \"4\",\n        },\n{\n            'v': 4,\n            'f': \"4\",\n        },\n{\n            'v': -1,\n            'f': \"-1\",\n        },\n{\n            'v': 2,\n            'f': \"2\",\n        }]],\n        columns: [[\"string\", \"Title\"], [\"string\", \"Common5Words\"], [\"number\", \"LSA_Topic\"], [\"number\", \"LDA_Topic\"], [\"number\", \"HDBSCAN_Topic\"], [\"number\", \"BERTopic_Topic\"]],\n        columnOptions: [],\n        rowsPerPage: 40,\n        helpUrl: \"https://colab.research.google.com/notebooks/data_table.ipynb\",\n        suppressOutputScrolling: true,\n        minimumWidth: undefined,\n      });\n    ",
            "text/plain": [
              "<google.colab.data_table.DataTable object>"
            ],
            "text/html": [
              "<div>\n",
              "<style scoped>\n",
              "    .dataframe tbody tr th:only-of-type {\n",
              "        vertical-align: middle;\n",
              "    }\n",
              "\n",
              "    .dataframe tbody tr th {\n",
              "        vertical-align: top;\n",
              "    }\n",
              "\n",
              "    .dataframe thead th {\n",
              "        text-align: right;\n",
              "    }\n",
              "</style>\n",
              "<table border=\"1\" class=\"dataframe\">\n",
              "  <thead>\n",
              "    <tr style=\"text-align: right;\">\n",
              "      <th></th>\n",
              "      <th>Title</th>\n",
              "      <th>Common5Words</th>\n",
              "      <th>LSA_Topic</th>\n",
              "      <th>LDA_Topic</th>\n",
              "      <th>HDBSCAN_Topic</th>\n",
              "      <th>BERTopic_Topic</th>\n",
              "    </tr>\n",
              "  </thead>\n",
              "  <tbody>\n",
              "    <tr>\n",
              "      <th>0</th>\n",
              "      <td>FACET - Floodplain and Channel Evaluation Tool</td>\n",
              "      <td>[floodplain, facet, stream, dem, tool]</td>\n",
              "      <td>0</td>\n",
              "      <td>4</td>\n",
              "      <td>-1</td>\n",
              "      <td>1</td>\n",
              "    </tr>\n",
              "    <tr>\n",
              "      <th>1</th>\n",
              "      <td>WEMo (Wave Exposure Model) : formulation, proc...</td>\n",
              "      <td>[wave, exposur, wemo, mode, energi]</td>\n",
              "      <td>3</td>\n",
              "      <td>3</td>\n",
              "      <td>-1</td>\n",
              "      <td>2</td>\n",
              "    </tr>\n",
              "    <tr>\n",
              "      <th>2</th>\n",
              "      <td>SSEBop - Simplified Surface Energy Balance app...</td>\n",
              "      <td>[surfac, use, base, et, ssebop]</td>\n",
              "      <td>0</td>\n",
              "      <td>4</td>\n",
              "      <td>-1</td>\n",
              "      <td>2</td>\n",
              "    </tr>\n",
              "    <tr>\n",
              "      <th>3</th>\n",
              "      <td>MODIFICATIONS TO THE DIFFUSION ANALOG\\nSURFACE...</td>\n",
              "      <td>[water, ground, flow, simul, surfac]</td>\n",
              "      <td>4</td>\n",
              "      <td>4</td>\n",
              "      <td>2</td>\n",
              "      <td>2</td>\n",
              "    </tr>\n",
              "    <tr>\n",
              "      <th>4</th>\n",
              "      <td>Development of a Coupled Ocean–Atmosphere–Wave...</td>\n",
              "      <td>[coupl, wave, ocean, atmospher, coastal]</td>\n",
              "      <td>2</td>\n",
              "      <td>3</td>\n",
              "      <td>-1</td>\n",
              "      <td>3</td>\n",
              "    </tr>\n",
              "    <tr>\n",
              "      <th>5</th>\n",
              "      <td>Stochastic Empirical Loading and Dilution Mode...</td>\n",
              "      <td>[seldm, site, use, water, input]</td>\n",
              "      <td>0</td>\n",
              "      <td>4</td>\n",
              "      <td>-1</td>\n",
              "      <td>2</td>\n",
              "    </tr>\n",
              "    <tr>\n",
              "      <th>6</th>\n",
              "      <td>A modular finite-element model (MODFE) for are...</td>\n",
              "      <td>[flow, finit, element, modf, water]</td>\n",
              "      <td>4</td>\n",
              "      <td>5</td>\n",
              "      <td>1</td>\n",
              "      <td>2</td>\n",
              "    </tr>\n",
              "    <tr>\n",
              "      <th>7</th>\n",
              "      <td>The 2018 update of the US National Seismic Haz...</td>\n",
              "      <td>[updat, seismic, hazard, unit, state]</td>\n",
              "      <td>4</td>\n",
              "      <td>4</td>\n",
              "      <td>-1</td>\n",
              "      <td>2</td>\n",
              "    </tr>\n",
              "    <tr>\n",
              "      <th>8</th>\n",
              "      <td>HST3D - A Computer Code for Simulation of Heat...</td>\n",
              "      <td>[transport, simul, heat, solut, program]</td>\n",
              "      <td>0</td>\n",
              "      <td>4</td>\n",
              "      <td>10</td>\n",
              "      <td>2</td>\n",
              "    </tr>\n",
              "    <tr>\n",
              "      <th>9</th>\n",
              "      <td>FourPt - An unsteady, one-dimensional, open-ch...</td>\n",
              "      <td>[channel, flow, simul, network, equat]</td>\n",
              "      <td>4</td>\n",
              "      <td>7</td>\n",
              "      <td>5</td>\n",
              "      <td>2</td>\n",
              "    </tr>\n",
              "    <tr>\n",
              "      <th>10</th>\n",
              "      <td>BBS - North American Breeding Bird Survey</td>\n",
              "      <td>[bird, data, north, bbs, speci]</td>\n",
              "      <td>0</td>\n",
              "      <td>3</td>\n",
              "      <td>-1</td>\n",
              "      <td>3</td>\n",
              "    </tr>\n",
              "    <tr>\n",
              "      <th>11</th>\n",
              "      <td>User guide to Exploration and Graphics for Riv...</td>\n",
              "      <td>[data, use, packag, chang, water]</td>\n",
              "      <td>0</td>\n",
              "      <td>4</td>\n",
              "      <td>-1</td>\n",
              "      <td>2</td>\n",
              "    </tr>\n",
              "    <tr>\n",
              "      <th>12</th>\n",
              "      <td>Groundwater Management Process for the U.S. Ge...</td>\n",
              "      <td>[gwm, version, use, modflow, 2005]</td>\n",
              "      <td>0</td>\n",
              "      <td>4</td>\n",
              "      <td>-1</td>\n",
              "      <td>4</td>\n",
              "    </tr>\n",
              "    <tr>\n",
              "      <th>13</th>\n",
              "      <td>Update of the Graizer-Kalkan ground-motion pre...</td>\n",
              "      <td>[ground, motion, 5, distanc, 0]</td>\n",
              "      <td>4</td>\n",
              "      <td>5</td>\n",
              "      <td>-1</td>\n",
              "      <td>3</td>\n",
              "    </tr>\n",
              "    <tr>\n",
              "      <th>14</th>\n",
              "      <td>Recovery planning in a dynamic system: integra...</td>\n",
              "      <td>[manag, decis, popul, vireo, challeng]</td>\n",
              "      <td>0</td>\n",
              "      <td>4</td>\n",
              "      <td>-1</td>\n",
              "      <td>2</td>\n",
              "    </tr>\n",
              "    <tr>\n",
              "      <th>15</th>\n",
              "      <td>Documentation of a Conduit Flow Process (CFP) ...</td>\n",
              "      <td>[flow, turbul, laminar, pipe, mode]</td>\n",
              "      <td>4</td>\n",
              "      <td>4</td>\n",
              "      <td>2</td>\n",
              "      <td>5</td>\n",
              "    </tr>\n",
              "    <tr>\n",
              "      <th>16</th>\n",
              "      <td>The Pedestrian Evacuation Analyst: geographic ...</td>\n",
              "      <td>[evacu, time, hazard, model, travel]</td>\n",
              "      <td>0</td>\n",
              "      <td>4</td>\n",
              "      <td>-1</td>\n",
              "      <td>3</td>\n",
              "    </tr>\n",
              "    <tr>\n",
              "      <th>17</th>\n",
              "      <td>Dynamically Downscaled Climate Simulations ove...</td>\n",
              "      <td>[simul, climat, futur, provid, present]</td>\n",
              "      <td>0</td>\n",
              "      <td>7</td>\n",
              "      <td>-1</td>\n",
              "      <td>2</td>\n",
              "    </tr>\n",
              "    <tr>\n",
              "      <th>18</th>\n",
              "      <td>GSFLOW—Coupled Ground-Water and Surface-Water ...</td>\n",
              "      <td>[water, flow, compon, integr, develop]</td>\n",
              "      <td>4</td>\n",
              "      <td>4</td>\n",
              "      <td>3</td>\n",
              "      <td>2</td>\n",
              "    </tr>\n",
              "    <tr>\n",
              "      <th>19</th>\n",
              "      <td>The Hydrologic System of the South Florida Pen...</td>\n",
              "      <td>[flow, level, water, everglad, chang]</td>\n",
              "      <td>4</td>\n",
              "      <td>4</td>\n",
              "      <td>-1</td>\n",
              "      <td>2</td>\n",
              "    </tr>\n",
              "  </tbody>\n",
              "</table>\n",
              "</div>"
            ]
          },
          "metadata": {
            "tags": []
          },
          "execution_count": 152
        }
      ]
    },
    {
      "cell_type": "markdown",
      "metadata": {
        "id": "ijd9oLohwhcU"
      },
      "source": [
        "### Visualize Clusters with UMAP"
      ]
    },
    {
      "cell_type": "markdown",
      "metadata": {
        "id": "7iz7FihGwuQb"
      },
      "source": [
        "##### Train Set"
      ]
    },
    {
      "cell_type": "code",
      "metadata": {
        "id": "lwpuywoowks5"
      },
      "source": [
        ""
      ],
      "execution_count": 152,
      "outputs": []
    },
    {
      "cell_type": "markdown",
      "metadata": {
        "id": "u1fMp9fmw1Mu"
      },
      "source": [
        "##### Test Set"
      ]
    },
    {
      "cell_type": "code",
      "metadata": {
        "id": "YseJyRhbw2YE"
      },
      "source": [
        ""
      ],
      "execution_count": 152,
      "outputs": []
    }
  ]
}