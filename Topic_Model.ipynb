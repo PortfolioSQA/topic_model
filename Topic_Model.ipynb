{
  "nbformat": 4,
  "nbformat_minor": 0,
  "metadata": {
    "colab": {
      "name": "Topic_Model.ipynb",
      "provenance": [],
      "collapsed_sections": [],
      "toc_visible": true,
      "machine_shape": "hm"
    },
    "kernelspec": {
      "name": "python3",
      "display_name": "Python 3"
    },
    "language_info": {
      "name": "python"
    },
    "accelerator": "GPU"
  },
  "cells": [
    {
      "cell_type": "markdown",
      "metadata": {
        "id": "XezhW7HqC1fI"
      },
      "source": [
        "# Topic Modeling on a Small Scientific Corpus"
      ]
    },
    {
      "cell_type": "code",
      "metadata": {
        "colab": {
          "base_uri": "https://localhost:8080/"
        },
        "id": "QETmuGSTXIwV",
        "outputId": "e51dce3f-30e8-40ce-eb76-154b177a811f"
      },
      "source": [
        "from google.colab import drive\n",
        "drive.mount('/content/drive')"
      ],
      "execution_count": 1123,
      "outputs": [
        {
          "output_type": "stream",
          "text": [
            "Drive already mounted at /content/drive; to attempt to forcibly remount, call drive.mount(\"/content/drive\", force_remount=True).\n"
          ],
          "name": "stdout"
        }
      ]
    },
    {
      "cell_type": "code",
      "metadata": {
        "colab": {
          "base_uri": "https://localhost:8080/"
        },
        "id": "F-S25KrnXLX-",
        "outputId": "cbf4f3dd-5b10-4205-deff-e2263d301017"
      },
      "source": [
        "%cd \"/content/drive/MyDrive/Clustering_USGS\""
      ],
      "execution_count": 1124,
      "outputs": [
        {
          "output_type": "stream",
          "text": [
            "/content/drive/MyDrive/Clustering_USGS\n"
          ],
          "name": "stdout"
        }
      ]
    },
    {
      "cell_type": "code",
      "metadata": {
        "id": "boPkJZBIXM3A"
      },
      "source": [
        "%%capture\n",
        "!pip install umap-learn\n",
        "!pip install datashader\n",
        "\n",
        "import pandas as pd\n",
        "import numpy as np\n",
        "import seaborn as sns\n",
        "import matplotlib.pyplot as plt\n",
        "import umap\n",
        "import datashader as ds\n",
        "import datashader.transfer_functions as tf\n",
        "import datashader.bundling as bd\n",
        "import colorcet\n",
        "import matplotlib.colors\n",
        "import matplotlib.cm\n",
        "import bokeh.plotting as bpl\n",
        "import bokeh.transform as btr\n",
        "import seaborn as sns\n",
        "\n",
        "import nltk\n",
        "from nltk.tokenize import RegexpTokenizer\n",
        "from nltk.corpus import stopwords\n",
        "from nltk.stem.snowball import SnowballStemmer\n",
        "\n",
        "import gensim\n",
        "from gensim import corpora\n",
        "from gensim import models\n",
        "\n",
        "import sklearn\n",
        "from sklearn import metrics\n",
        "from sklearn.feature_extraction.text import TfidfVectorizer, CountVectorizer\n",
        "import umap.plot"
      ],
      "execution_count": 1125,
      "outputs": []
    },
    {
      "cell_type": "code",
      "metadata": {
        "id": "YNriCNrIsQ6M"
      },
      "source": [
        "import warnings\n",
        "warnings.filterwarnings(\"ignore\", category=DeprecationWarning) "
      ],
      "execution_count": 1126,
      "outputs": []
    },
    {
      "cell_type": "code",
      "metadata": {
        "id": "mexJX-5nXRHE"
      },
      "source": [
        "df = pd.read_csv('abstracts_all.csv')\n",
        "df = df[['Title', 'Text']]"
      ],
      "execution_count": 1127,
      "outputs": []
    },
    {
      "cell_type": "code",
      "metadata": {
        "id": "VdEos__VUNUT"
      },
      "source": [
        "np.random.seed(0)\n",
        "msk = np.random.rand(len(df)) < 0.75\n",
        "temp_df = df[msk]\n",
        "df_test = df[~msk]"
      ],
      "execution_count": 1128,
      "outputs": []
    },
    {
      "cell_type": "code",
      "metadata": {
        "colab": {
          "base_uri": "https://localhost:8080/"
        },
        "id": "xSZQrmjwUbnY",
        "outputId": "bc150855-42e2-4fe7-eb3a-a99cc685faca"
      },
      "source": [
        "df = temp_df\n",
        "df_test.columns"
      ],
      "execution_count": 1129,
      "outputs": [
        {
          "output_type": "execute_result",
          "data": {
            "text/plain": [
              "Index(['Title', 'Text'], dtype='object')"
            ]
          },
          "metadata": {
            "tags": []
          },
          "execution_count": 1129
        }
      ]
    },
    {
      "cell_type": "code",
      "metadata": {
        "id": "jAypq1vO9Qot"
      },
      "source": [
        "# df_test = pd.read_csv('abstracts_test.csv')\n",
        "\n",
        "df_test = df_test.dropna()"
      ],
      "execution_count": 1130,
      "outputs": []
    },
    {
      "cell_type": "code",
      "metadata": {
        "colab": {
          "base_uri": "https://localhost:8080/",
          "height": 282
        },
        "id": "2nXdDd3VXTCi",
        "outputId": "63ef612c-78d7-4c2d-cf01-d7f76671a74c"
      },
      "source": [
        "def word_count(text):\n",
        "    return len(str(text).strip().split(\" \"))\n",
        "    \n",
        "temp_df['word_count'] = temp_df['Text'].apply(word_count)\n",
        "pd.Series(temp_df.word_count.values).hist(bins = 30)"
      ],
      "execution_count": 1132,
      "outputs": [
        {
          "output_type": "execute_result",
          "data": {
            "text/plain": [
              "<matplotlib.axes._subplots.AxesSubplot at 0x7f074c8fc310>"
            ]
          },
          "metadata": {
            "tags": []
          },
          "execution_count": 1132
        },
        {
          "output_type": "display_data",
          "data": {
            "image/png": "[encoded data removed]",
            "text/plain": [
              "<Figure size 432x288 with 1 Axes>"
            ]
          },
          "metadata": {
            "tags": []
          }
        }
      ]
    },
    {
      "cell_type": "markdown",
      "metadata": {
        "id": "hWRb7gWz1qCD"
      },
      "source": [
        "### Preprocess Data for BoW Models"
      ]
    },
    {
      "cell_type": "code",
      "metadata": {
        "colab": {
          "base_uri": "https://localhost:8080/"
        },
        "id": "IlTCOGrHXjsG",
        "outputId": "9a2182dc-5ac8-400e-f520-40628aedd308"
      },
      "source": [
        "nltk.download('stopwords')\n",
        "sw = stopwords.words('english')\n",
        "sw = sw + ['model', 'keyword']\n",
        "sw = set(sw)\n",
        "\n",
        "def preprocess_data(documents):\n",
        "  tokenizer = RegexpTokenizer(r'\\w+')\n",
        "  stemmer = SnowballStemmer(\"english\")\n",
        "  texts = []\n",
        "  for i in documents:\n",
        "        lower_text = i.lower()\n",
        "        # tokenize\n",
        "        tokens = tokenizer.tokenize(lower_text)\n",
        "        # remove stopwords\n",
        "        stopped_tokens = [i for i in tokens if not i in sw]\n",
        "        # stem words\n",
        "        stemmed_tokens = [stemmer.stem(i) for i in stopped_tokens]\n",
        "        # append list\n",
        "        texts.append(stemmed_tokens)\n",
        "  return texts\n"
      ],
      "execution_count": 1133,
      "outputs": [
        {
          "output_type": "stream",
          "text": [
            "[nltk_data] Downloading package stopwords to /root/nltk_data...\n",
            "[nltk_data]   Package stopwords is already up-to-date!\n"
          ],
          "name": "stdout"
        }
      ]
    },
    {
      "cell_type": "code",
      "metadata": {
        "id": "zO7WPkLqifTu"
      },
      "source": [
        "document_list = df.Text.values\n",
        "tokens = preprocess_data(document_list)"
      ],
      "execution_count": 1134,
      "outputs": []
    },
    {
      "cell_type": "code",
      "metadata": {
        "id": "-Z-DMvJogxNf"
      },
      "source": [
        "test_document_list = df_test.Text.values\n",
        "test_tokens = preprocess_data(test_document_list)"
      ],
      "execution_count": 1135,
      "outputs": []
    },
    {
      "cell_type": "code",
      "metadata": {
        "id": "qWTt3e-giwkZ"
      },
      "source": [
        "dictionary = corpora.Dictionary(tokens)\n",
        "BoW_corpus = [dictionary.doc2bow(doc, allow_update=True) for doc in tokens]"
      ],
      "execution_count": 1136,
      "outputs": []
    },
    {
      "cell_type": "code",
      "metadata": {
        "id": "sC6GUWGkg7Bi"
      },
      "source": [
        "test_BoW_corpus = [dictionary.doc2bow(doc, allow_update=True) for doc in test_tokens]"
      ],
      "execution_count": 1137,
      "outputs": []
    },
    {
      "cell_type": "code",
      "metadata": {
        "id": "ALthllC1ixY-"
      },
      "source": [
        "# # Human-readable dictionary\n",
        "# id_words = [[(dictionary[id], count) for id, count in line] for line in BoW_corpus]\n",
        "# print(id_words)"
      ],
      "execution_count": 1138,
      "outputs": []
    },
    {
      "cell_type": "code",
      "metadata": {
        "id": "xIbhA2GLv2c8"
      },
      "source": [
        "tfidf = models.TfidfModel(BoW_corpus)\n",
        "corpus_tfidf = tfidf[BoW_corpus]"
      ],
      "execution_count": 1139,
      "outputs": []
    },
    {
      "cell_type": "code",
      "metadata": {
        "id": "Cho77FPuhntD"
      },
      "source": [
        "test_corpus_tfidf = tfidf[test_BoW_corpus]"
      ],
      "execution_count": 1140,
      "outputs": []
    },
    {
      "cell_type": "code",
      "metadata": {
        "id": "NKDXV8aJxVIB"
      },
      "source": [
        "# # View td-idf\n",
        "# for doc in tfidf[BoW_corpus]:\n",
        "#    print([[dictionary[id], round(freq, 2)] for id, freq in doc])"
      ],
      "execution_count": 1141,
      "outputs": []
    },
    {
      "cell_type": "markdown",
      "metadata": {
        "id": "PoQliexZWDUf"
      },
      "source": [
        "### Preprocess Text for BERT-type Embeddings"
      ]
    },
    {
      "cell_type": "code",
      "metadata": {
        "id": "NYAWijNUmSEn"
      },
      "source": [
        "document_list = df.Text.values"
      ],
      "execution_count": 1142,
      "outputs": []
    },
    {
      "cell_type": "markdown",
      "metadata": {
        "id": "pkxfhe8hmac5"
      },
      "source": [
        "Yep. That's it!"
      ]
    },
    {
      "cell_type": "markdown",
      "metadata": {
        "id": "rU14eytxAhn4"
      },
      "source": [
        "### Get Common Words in Abstracts for Later Analysis"
      ]
    },
    {
      "cell_type": "code",
      "metadata": {
        "id": "qg6paKLg-xpC"
      },
      "source": [
        "import collections\n",
        "\n",
        "df['Common5Words'] = [0]*len(df)\n",
        "for i in range(len(tokens)):\n",
        "  elements_count = collections.Counter(tokens[i])\n",
        "  most_comm = elements_count.most_common(5)\n",
        "  Common5Words = []\n",
        "  for key, value in most_comm:\n",
        "    Common5Words.append(key)\n",
        "    # print(f\"{key}: {value}\")\n",
        "  df['Common5Words'].iloc[i] = Common5Words\n",
        "dataset = df.copy()\n",
        "dataset = dataset[['Title', 'Common5Words']]"
      ],
      "execution_count": 1143,
      "outputs": []
    },
    {
      "cell_type": "code",
      "metadata": {
        "id": "N8_fqu5mB6iz"
      },
      "source": [
        "df_test['Common5Words'] = [0]*len(df_test)\n",
        "for i in range(len(test_tokens)):\n",
        "  elements_count = collections.Counter(test_tokens[i])\n",
        "  most_comm = elements_count.most_common(5)\n",
        "  Common5Words = []\n",
        "  for key, value in most_comm:\n",
        "    Common5Words.append(key)\n",
        "    # print(f\"{key}: {value}\")\n",
        "  df_test['Common5Words'].iloc[i] = Common5Words"
      ],
      "execution_count": 1144,
      "outputs": []
    },
    {
      "cell_type": "markdown",
      "metadata": {
        "id": "RrThOJkXYNIM"
      },
      "source": [
        "## Number of Clusters = 8\n",
        "I could get rid of this analysis or show how ineffective it is in determining the number of clusters.  Although the analysis show 3 topics are sufficient, we know that there are more than 3 topics in the abstract."
      ]
    },
    {
      "cell_type": "code",
      "metadata": {
        "id": "U3633Hehxhwg"
      },
      "source": [
        "def compute_coherence_values(dictionary, doc_term_matrix, doc_clean, stop, start=2, step=3):\n",
        "    coherence_values = []\n",
        "    model_list = []\n",
        "    for num_topics in range(start, stop, step):\n",
        "        # generate LSA model\n",
        "        model = models.LsiModel(doc_term_matrix, num_topics=num_topics, id2word = dictionary)  # train model\n",
        "        model_list.append(model)\n",
        "        coherencemodel = models.CoherenceModel(model=model, texts=doc_clean, dictionary=dictionary, coherence='u_mass')\n",
        "        coherence_values.append(coherencemodel.get_coherence())\n",
        "    return model_list, coherence_values"
      ],
      "execution_count": 1145,
      "outputs": []
    },
    {
      "cell_type": "code",
      "metadata": {
        "id": "yUh3PwK_xLtz"
      },
      "source": [
        "def plot_graph(dictionary, doc_term_matrix, doc_clean, start, stop, step):\n",
        "    model_list, coherence_values = compute_coherence_values(dictionary, doc_term_matrix, doc_clean, stop, start, step)\n",
        "    x = range(start, stop, step)\n",
        "    plt.plot(x, coherence_values)\n",
        "    plt.xlabel(\"Number of Topics\")\n",
        "    plt.ylabel(\"U-mass Coherence score\")\n",
        "    plt.legend((\"coherence_values\"), loc='best')\n",
        "    plt.show()"
      ],
      "execution_count": 1146,
      "outputs": []
    },
    {
      "cell_type": "code",
      "metadata": {
        "colab": {
          "base_uri": "https://localhost:8080/",
          "height": 278
        },
        "id": "hy06mJ7RylRW",
        "outputId": "295a0ab4-20f9-40ac-e2fe-637e59f6ac2d"
      },
      "source": [
        "start,stop,step = 1,10,1\n",
        "plot_graph(dictionary, BoW_corpus, tokens, start, stop, step)"
      ],
      "execution_count": 1147,
      "outputs": [
        {
          "output_type": "display_data",
          "data": {
            "image/png": "[encoded data removed]",
            "text/plain": [
              "<Figure size 432x288 with 1 Axes>"
            ]
          },
          "metadata": {
            "tags": []
          }
        }
      ]
    },
    {
      "cell_type": "code",
      "metadata": {
        "id": "dXuYj1-6Jikt"
      },
      "source": [
        "no_clusters = 8 #Not effective for selecting number of clusers. Varies with each run: 4, 7, 9, 11, etc."
      ],
      "execution_count": 1148,
      "outputs": []
    },
    {
      "cell_type": "markdown",
      "metadata": {
        "id": "A2O-Mr0i1gwS"
      },
      "source": [
        "## Latent Semantic Analysis (LSA/LSI)"
      ]
    },
    {
      "cell_type": "code",
      "metadata": {
        "id": "8OtuqEBvxVx1"
      },
      "source": [
        "lsi_model = models.LsiModel(corpus_tfidf, id2word=dictionary, num_topics=no_clusters)  # initialize an LSI transformation\n",
        "corpus_lsi = lsi_model[corpus_tfidf]\n",
        "test_corpus_lsi = lsi_model[test_corpus_tfidf]"
      ],
      "execution_count": 1149,
      "outputs": []
    },
    {
      "cell_type": "code",
      "metadata": {
        "id": "5eTiK_B6f2Gn"
      },
      "source": [
        "# lsi_model.print_topics(9)"
      ],
      "execution_count": 1150,
      "outputs": []
    },
    {
      "cell_type": "code",
      "metadata": {
        "id": "XNtb_fXFS2Lt"
      },
      "source": [
        "def Sort_Tuple(tup): \n",
        "    tup.sort(key = lambda x: abs(x[1]), reverse = True) \n",
        "    return tup "
      ],
      "execution_count": 1151,
      "outputs": []
    },
    {
      "cell_type": "code",
      "metadata": {
        "id": "OitfKLQHOedN"
      },
      "source": [
        "cluster_lsa = []\n",
        "for i in range(len(corpus_lsi)):\n",
        "  x = lsi_model[corpus_lsi[i]]\n",
        "  x = Sort_Tuple(x)\n",
        "  cluster_lsa.append(x[0][0])\n",
        "dataset['LSA_Topic'] = cluster_lsa\n",
        "dataset[\"LSA_Topic\"] = pd.to_numeric(dataset[\"LSA_Topic\"])"
      ],
      "execution_count": 1152,
      "outputs": []
    },
    {
      "cell_type": "code",
      "metadata": {
        "id": "fggecen0LGbE"
      },
      "source": [
        "# for doc, as_text in zip(corpus_lsi, document_list):\n",
        "#     print(doc, as_text)"
      ],
      "execution_count": 1153,
      "outputs": []
    },
    {
      "cell_type": "markdown",
      "metadata": {
        "id": "1InXrkEGh4PD"
      },
      "source": [
        "#### Train Set LSA Results"
      ]
    },
    {
      "cell_type": "markdown",
      "metadata": {
        "id": "uU6VGwqhyThX"
      },
      "source": [
        "##### LSA Training Coherence Score -9.6"
      ]
    },
    {
      "cell_type": "code",
      "metadata": {
        "id": "fBkRmvAgqXZV",
        "colab": {
          "base_uri": "https://localhost:8080/"
        },
        "outputId": "6d60d836-239a-4bde-ec46-3ee15076ea75"
      },
      "source": [
        "cm = models.CoherenceModel(model= lsi_model, corpus = BoW_corpus, texts=document_list, dictionary=dictionary, coherence='u_mass')\n",
        "lsa_score = cm.get_coherence()\n",
        "lsa_score"
      ],
      "execution_count": 1154,
      "outputs": [
        {
          "output_type": "execute_result",
          "data": {
            "text/plain": [
              "-9.599289009768858"
            ]
          },
          "metadata": {
            "tags": []
          },
          "execution_count": 1154
        }
      ]
    },
    {
      "cell_type": "markdown",
      "metadata": {
        "id": "DvKDEEnSyZjV"
      },
      "source": [
        "##### LSA Training Silhouette Score -0.08\n"
      ]
    },
    {
      "cell_type": "code",
      "metadata": {
        "colab": {
          "base_uri": "https://localhost:8080/"
        },
        "id": "VhBKSnOtilye",
        "outputId": "81bee06d-0b17-4969-8731-eca464abb864"
      },
      "source": [
        "X = np.array([[tup[1] for tup in arr] for arr in corpus_lsi])\n",
        "score = metrics.silhouette_score(X, cluster_lsa)\n",
        "score"
      ],
      "execution_count": 1155,
      "outputs": [
        {
          "output_type": "execute_result",
          "data": {
            "text/plain": [
              "-0.08497194934096666"
            ]
          },
          "metadata": {
            "tags": []
          },
          "execution_count": 1155
        }
      ]
    },
    {
      "cell_type": "markdown",
      "metadata": {
        "id": "fOO_F71AiJEq"
      },
      "source": [
        "#### Test Set LSA Results\n",
        "We transform the training corpus with the LSA model; however, once the transformation model has been initialized it can be used on any corpus provided it comes from the same vector space. "
      ]
    },
    {
      "cell_type": "code",
      "metadata": {
        "id": "ReUyImrfAPD6"
      },
      "source": [
        "test_cluster_lsa = []\n",
        "for i in range(len(test_corpus_lsi)):\n",
        "  x = lsi_model[test_corpus_lsi[i]]\n",
        "  x = Sort_Tuple(x)\n",
        "  test_cluster_lsa.append(x[0][0])\n",
        "df_test['LSA_Topic'] = test_cluster_lsa\n",
        "df_test[\"LSA_Topic\"] = pd.to_numeric(df_test[\"LSA_Topic\"])"
      ],
      "execution_count": 1156,
      "outputs": []
    },
    {
      "cell_type": "markdown",
      "metadata": {
        "id": "nJvtOb2AjG1F"
      },
      "source": [
        "##### LSA Testing Coherence Score n/a"
      ]
    },
    {
      "cell_type": "code",
      "metadata": {
        "id": "rvu6wmuJjAfm"
      },
      "source": [
        "# cm2 = models.CoherenceModel(model= lsi_model, corpus = test_BoW_corpus, texts=document_list, dictionary=dictionary, coherence='u_mass')\n",
        "# lsa_score = cm2.get_coherence()\n",
        "# lsa_score\n",
        "\n",
        "# ZeroDivisionError: float division by zero"
      ],
      "execution_count": 1157,
      "outputs": []
    },
    {
      "cell_type": "markdown",
      "metadata": {
        "id": "0r0i2wf7pUqH"
      },
      "source": [
        "##### LSA Testing Silhouette Score 0.11"
      ]
    },
    {
      "cell_type": "code",
      "metadata": {
        "colab": {
          "base_uri": "https://localhost:8080/"
        },
        "id": "5OxDNnW4pW1c",
        "outputId": "a0059c5a-c2e9-43ff-8ab7-1312c73a0bcb"
      },
      "source": [
        "X = np.array([[tup[1] for tup in arr] for arr in test_corpus_lsi])\n",
        "score = metrics.silhouette_score(X, test_cluster_lsa)\n",
        "score"
      ],
      "execution_count": 1158,
      "outputs": [
        {
          "output_type": "execute_result",
          "data": {
            "text/plain": [
              "0.10623357252850783"
            ]
          },
          "metadata": {
            "tags": []
          },
          "execution_count": 1158
        }
      ]
    },
    {
      "cell_type": "markdown",
      "metadata": {
        "id": "3HI6nJ5PUW5D"
      },
      "source": [
        "## Latent Dirichlet Allocation (LDA)"
      ]
    },
    {
      "cell_type": "code",
      "metadata": {
        "id": "C-lN5qKr1b12"
      },
      "source": [
        "%%capture\n",
        "lda_model = models.LdaModel(corpus_tfidf, id2word=dictionary, num_topics=no_clusters, iterations=100)"
      ],
      "execution_count": 1159,
      "outputs": []
    },
    {
      "cell_type": "code",
      "metadata": {
        "id": "5bEX7aOp5QzL"
      },
      "source": [
        "corpus_lda = lda_model[corpus_tfidf]"
      ],
      "execution_count": 1160,
      "outputs": []
    },
    {
      "cell_type": "code",
      "metadata": {
        "id": "OQe8dUTnf6uE"
      },
      "source": [
        "# lda_model.print_topics(9)"
      ],
      "execution_count": 1161,
      "outputs": []
    },
    {
      "cell_type": "code",
      "metadata": {
        "id": "IF0ViZPxQw4G"
      },
      "source": [
        "cluster_lda = []\n",
        "for i in range(len(corpus_lda)):\n",
        "  x = lda_model[corpus_lda[i]]\n",
        "  x = Sort_Tuple(x)\n",
        "  cluster_lda.append(x[0][0])\n",
        "dataset['LDA_Topic'] = cluster_lda"
      ],
      "execution_count": 1162,
      "outputs": []
    },
    {
      "cell_type": "markdown",
      "metadata": {
        "id": "jCgEkKd_h6mS"
      },
      "source": [
        "#### Train Set LDA Results"
      ]
    },
    {
      "cell_type": "markdown",
      "metadata": {
        "id": "6oncoLueyDoM"
      },
      "source": [
        "##### LDA Training Coherence Score -14.0"
      ]
    },
    {
      "cell_type": "code",
      "metadata": {
        "colab": {
          "base_uri": "https://localhost:8080/"
        },
        "id": "KgqOoZ9EoxP6",
        "outputId": "199bdfb9-d96a-4da8-e51e-ccd6f9516a32"
      },
      "source": [
        "cm = models.CoherenceModel(model= lda_model, corpus = BoW_corpus, texts=document_list, dictionary=dictionary, coherence='u_mass')\n",
        "lda_score = cm.get_coherence()\n",
        "lda_score"
      ],
      "execution_count": 1163,
      "outputs": [
        {
          "output_type": "execute_result",
          "data": {
            "text/plain": [
              "-14.03971564617097"
            ]
          },
          "metadata": {
            "tags": []
          },
          "execution_count": 1163
        }
      ]
    },
    {
      "cell_type": "markdown",
      "metadata": {
        "id": "uYyxeiQKy3IK"
      },
      "source": [
        "##### LDA Training Silhouette Score -0.08"
      ]
    },
    {
      "cell_type": "code",
      "metadata": {
        "colab": {
          "base_uri": "https://localhost:8080/"
        },
        "id": "xZ-dCornkIQu",
        "outputId": "9072a6bd-63eb-400d-a9b3-624fe23694b9"
      },
      "source": [
        "# LDA_score = metrics.silhouette_score(X, cluster_lda)\n",
        "# LDA_score\n",
        "\n",
        "X = np.array([[tup[1] for tup in arr] for arr in corpus_lsi])\n",
        "LDA_score = metrics.silhouette_score(X, cluster_lsa)\n",
        "LDA_score"
      ],
      "execution_count": 1164,
      "outputs": [
        {
          "output_type": "execute_result",
          "data": {
            "text/plain": [
              "-0.08497194934096666"
            ]
          },
          "metadata": {
            "tags": []
          },
          "execution_count": 1164
        }
      ]
    },
    {
      "cell_type": "markdown",
      "metadata": {
        "id": "rf0urzg348oT"
      },
      "source": [
        "##### pyLDAvis for Training"
      ]
    },
    {
      "cell_type": "code",
      "metadata": {
        "id": "gXzX7iRz4_3n"
      },
      "source": [
        "%%capture\n",
        "!pip install pyLDAvis==3.3.1\n",
        "import pyLDAvis.gensim_models as gensimvis\n",
        "import pyLDAvis"
      ],
      "execution_count": 1165,
      "outputs": []
    },
    {
      "cell_type": "code",
      "metadata": {
        "colab": {
          "base_uri": "https://localhost:8080/",
          "height": 861
        },
        "id": "GI1Uut5F5DVj",
        "outputId": "484b19fa-88d2-4c9b-866d-f1bf29b2b8d4"
      },
      "source": [
        "vis_data1 = gensimvis.prepare(lda_model, BoW_corpus, dictionary)\n",
        "pyLDAvis.display(vis_data1)"
      ],
      "execution_count": 1166,
      "outputs": [
        {
          "output_type": "execute_result",
          "data": {
            "text/html": [
              "\n",
              "<link rel=\"stylesheet\" type=\"text/css\" href=\"https://cdn.jsdelivr.net/gh/bmabey/pyLDAvis@3.3.1/pyLDAvis/js/ldavis.v1.0.0.css\">\n",
              "\n",
              "\n",
              "<div id=\"ldavis_el5581396688748286248168069790\"></div>\n",
              "<script type=\"text/javascript\">\n",
              "\n",
              "var ldavis_el5581396688748286248168069790_data = {\"mdsDat\": {\"x\": [0.019328275899851772, -0.0028721670737284735, -0.007513610410054314, -0.0020018296567007182, -0.003866973094038124, -0.001873720826234522, -0.00040804248885725465, -0.0007919323502383542], \"y\": [-0.0024496624841504, 0.013938460132052365, -0.013092412197361002, 0.0009116017617189967, 0.0026189928545320767, -3.602413501808376e-05, -0.0015694813489664965, -0.00032147458280748877], \"topics\": [1, 2, 3, 4, 5, 6, 7, 8], \"cluster\": [1, 1, 1, 1, 1, 1, 1, 1], \"Freq\": [26.19269654592873, 23.07169124101606, 20.509146251920846, 7.898948781293175, 7.491132222004343, 5.557077477519978, 5.3428327053067814, 3.936474775010085]}, \"tinfo\": {\"Term\": [\"scoops3d\", \"psd\", \"reef\", \"stream\", \"vs2drti\", \"erupt\", \"wave\", \"channel\", \"modul\", \"3d\", \"dem\", \"watersh\", \"select\", \"contamin\", \"soilwat2\", \"network\", \"ash\", \"gsflow\", \"perman\", \"soil\", \"user\", \"nurp\", \"program\", \"system\", \"present\", \"compil\", \"subreach\", \"updat\", \"transport\", \"subduct\", \"reservoir\", \"threshold\", \"seldm\", \"vflux\", \"matlab\", \"degrad\", \"tool\", \"massachusett\", \"egret\", \"code\", \"balanc\", \"origin\", \"aerob\", \"10\", \"arcgi\", \"profil\", \"serv\", \"u\", \"month\", \"driven\", \"classroom\", \"thornthwait\", \"graphic\", \"thresh\", \"known\", \"1dtemppro\", \"discharg\", \"redox\", \"monod\", \"seepag\", \"precipit\", \"estim\", \"temperatur\", \"version\", \"program\", \"new\", \"time\", \"specifi\", \"water\", \"hydrolog\", \"simul\", \"mode\", \"exposur\", \"turbul\", \"element\", \"laminar\", \"dispers\", \"modf\", \"fire\", \"chemic\", \"wemo\", \"rainfal\", \"sagebrush\", \"veget\", \"pipe\", \"speci\", \"submers\", \"factor\", \"occurr\", \"screen\", \"big\", \"well\", \"simpl\", \"repres\", \"materi\", \"approxim\", \"trigr\", \"mechan\", \"zero\", \"retard\", \"doubl\", \"cell\", \"aquif\", \"flow\", \"wave\", \"hydraul\", \"predict\", \"conduct\", \"finit\", \"aquat\", \"ground\", \"subduct\", \"map\", \"circl\", \"ocean\", \"distanc\", \"isopleth\", \"nwt\", \"count\", \"gcms\", \"climat\", \"atmospher\", \"upw\", \"evacu\", \"span\", \"hurrican\", \"activ\", \"communiti\", \"lpf\", \"klamath\", \"huc\", \"counti\", \"sediment\", \"magnitud\", \"fault\", \"regcm3\", \"ptcount\", \"kalkan\", \"graizer\", \"gk15\", \"gmpe\", \"coupl\", \"modflow\", \"packag\", \"wave\", \"zone\", \"provid\", \"earthquak\", \"travel\", \"present\", \"region\", \"saltwat\", \"everglad\", \"decis\", \"vireo\", \"scenario\", \"et\", \"biscayn\", \"freshwat\", \"sharp\", \"principl\", \"provision\", \"ssebop\", \"parameter\", \"landsat\", \"senay\", \"uniqu\", \"bisect\", \"clear\", \"recoveri\", \"criteria\", \"bell\", \"separ\", \"areal\", \"implicit\", \"constant\", \"challeng\", \"discret\", \"cerp\", \"propos\", \"wetland\", \"boundari\", \"aquif\", \"sea\", \"level\", \"confin\", \"surfac\", \"manag\", \"stream\", \"erupt\", \"soilwat2\", \"ash\", \"watersh\", \"subreach\", \"perman\", \"statement\", \"articl\", \"channel\", \"station\", \"impact\", \"goal\", \"rock\", \"fractur\", \"streamb\", \"branch\", \"network\", \"soil\", \"contamin\", \"streamflow\", \"spreadsheet\", \"prosper\", \"volcan\", \"attribut\", \"intercept\", \"litter\", \"volcano\", \"base\", \"project\", \"daili\", \"predict\", \"regress\", \"site\", \"ground\", \"water\", \"reef\", \"modul\", \"gsflow\", \"mor\", \"coral\", \"coast\", \"budget\", \"hrus\", \"prms\", \"flood\", \"morpholog\", \"delft3d\", \"world\", \"3d\", \"integr\", \"bewar\", \"hydrodynam\", \"forc\", \"2d\", \"suspend\", \"cohes\", \"incid\", \"xbnh\", \"concept\", \"biota\", \"compon\", \"essenti\", \"non\", \"line\", \"cycl\", \"wave\", \"hydrolog\", \"flow\", \"water\", \"system\", \"geolog\", \"model\", \"vs2drti\", \"select\", \"slide\", \"updat\", \"shake\", \"compil\", \"block\", \"nt\", \"edit\", \"foreign\", \"98\", \"text\", \"recompil\", \"mac\", \"os\", \"record\", \"wus\", \"2017\", \"contermin\", \"ceus\", \"over\", \"slope\", \"file\", \"postprocessor\", \"vs2di\", \"equilibrium\", \"languag\", \"without\", \"investig\", \"earthquak\", \"seismic\", \"contamin\", \"heat\", \"motion\", \"user\", \"program\", \"analysi\", \"packag\", \"hazard\", \"transport\", \"conduct\", \"ground\", \"scoops3d\", \"psd\", \"dem\", \"nurp\", \"discuss\", \"onedimension\", \"revers\", \"fate\", \"appendic\", \"lagrangian\", \"scms\", \"psds\", \"open\", \"3d\", \"theori\", \"oxygen\", \"failur\", \"algorithm\", \"manual\", \"could\", \"surrog\", \"pollut\", \"unnecessarili\", \"solid\", \"urban\", \"search\", \"stabil\", \"plot\", \"oper\", \"channel\", \"present\", \"constitu\", \"dissolv\", \"network\", \"runoff\", \"transport\"], \"Freq\": [3.0, 3.0, 3.0, 4.0, 3.0, 3.0, 7.0, 3.0, 3.0, 3.0, 3.0, 4.0, 3.0, 3.0, 3.0, 3.0, 3.0, 3.0, 3.0, 4.0, 5.0, 3.0, 7.0, 4.0, 4.0, 3.0, 3.0, 3.0, 6.0, 5.0, 4.836737142987101, 4.508156420204576, 4.110323416019503, 3.222005658615202, 3.221729507980388, 3.109858876318795, 4.141577535803391, 2.769939611492259, 2.701787167839321, 2.998530809182768, 3.6184019751390313, 2.5324395001486653, 2.422250010573734, 2.526479576958134, 2.372995136994147, 2.594336396488131, 2.4090764030209555, 2.5551176200605235, 3.2809981049170847, 2.1858132759807045, 2.1856771687285868, 2.1855313247324055, 2.582727297258023, 2.130313213326011, 2.0963792101122953, 2.096184682395798, 2.4090565152032943, 2.0785733983626287, 2.078488460808035, 2.2009276030735743, 3.0853187594784197, 2.732624472111396, 3.086647928625434, 2.4866741099095253, 2.972187115878256, 2.4859714070188343, 2.6055425602458357, 2.4283547419366096, 2.726313404640287, 2.428631099736191, 2.4496436149189362, 3.128167384736032, 2.8055350140955495, 2.927434712427628, 2.7181920883788995, 2.6867650291182112, 2.6419957669745897, 2.4822827591179406, 2.4797512149881342, 2.4687062519992495, 2.3692933735022406, 3.1287724881984724, 2.170696446345949, 2.515786987471802, 2.1245288404650897, 2.3972732043223486, 2.0304671860440973, 2.3286498001952656, 2.2817575664949397, 1.899667393871966, 1.8616278092287506, 2.476753982065762, 2.046467209171435, 2.3918305577992025, 1.8769964517830957, 1.7205016600493666, 1.6441777851709176, 1.6428973234712958, 2.0064533741180433, 1.6337457722816524, 1.6336846415036315, 2.0833186669618304, 2.227303546793384, 3.071169777229, 2.9452381847465525, 2.479850849032312, 2.190535482333005, 2.21661642695584, 1.9599534722766578, 1.9679720055536676, 2.0060150573156363, 3.660298040594389, 3.3772742483169305, 2.3505825601905492, 2.4905905878795727, 2.1059444788471855, 2.0949258970131672, 2.0648451215647863, 2.2784839825064487, 1.9355865658232467, 2.625217553322657, 2.0950402565490363, 1.8500673694155532, 2.9425188726967324, 1.746635738812278, 1.7388604258579299, 1.7847161665598394, 1.6949599899012213, 1.792489532968896, 1.66505002380216, 1.6650412643483485, 1.6649914652313105, 1.766731710188476, 1.7512701387268612, 1.593696810752554, 1.5918814950562254, 1.58343721937007, 1.5668101539152357, 1.5668072340972985, 1.56679896127981, 1.566766032221964, 1.9709452366171227, 2.055500730893471, 2.180012311517742, 2.4247861643951802, 2.1243214885189787, 1.7672705788099756, 1.6605533419669423, 1.751488962860035, 1.7170870190768768, 1.6987787873387123, 0.92155257251422, 0.8571507837239387, 0.8493828525793454, 0.7979031047440744, 0.7984470104885015, 0.8104036281183761, 0.7538570477900515, 0.7505611888942036, 0.7505063360061257, 0.7039129309217018, 0.7039065584905129, 0.7038949381748152, 0.703892001858483, 0.7038779450249779, 0.7038723847663914, 0.7032603814729836, 0.6506337209733212, 0.6111497624772926, 0.6111258346229259, 0.6111213364362043, 0.6111192747672902, 0.6286936278139903, 0.57959492015005, 0.579570305072712, 0.5795629955192894, 0.6371506561744154, 0.6307045671778334, 0.5473982740423687, 0.5473982740423687, 0.5473571031389024, 0.8234424345037027, 0.8641157260639006, 0.6057666824677802, 0.6946135546228309, 0.6576897515943967, 0.6818025938899194, 0.6325802485659491, 1.3676123662894477, 1.1619645994367436, 1.0414417089655106, 1.0052956133449937, 1.1024905180109008, 0.9270491647434957, 0.9016545637161886, 0.8485503141682121, 0.848502973985805, 0.8826708543244551, 0.7595203171078195, 0.735054270947453, 0.7350371479027525, 0.7350796888927004, 0.7350561669247209, 0.6919616108638988, 0.6919613146174508, 0.8295842610647858, 0.9195636687420656, 0.7969569215055717, 0.9013445714328915, 0.7350712162442846, 0.6369082966845493, 0.7351410119074582, 0.6621853471212484, 0.5497194712991299, 0.5497083916819707, 0.5352046988263515, 0.7809865124853841, 0.6215963842692097, 0.6894274594975182, 0.8236623538164544, 0.6052539489594917, 0.7559785723221437, 0.7489878078890492, 0.744981963417772, 1.0394133894157656, 0.7524211338516507, 0.6749943159838186, 0.5795128381745511, 0.5200177015625479, 0.5282521750251674, 0.5079216182576423, 0.507906366790914, 0.5079005211278741, 0.6058774817222345, 0.49389809238665033, 0.4780938369061681, 0.4780880351954818, 0.5060800146383, 0.5845565026168035, 0.4334849229632581, 0.5240767014252269, 0.44190342493075085, 0.3766597160281179, 0.3766543098886148, 0.3766522441279917, 0.3469172022427899, 0.34691181807946364, 0.34084804148439213, 0.34084731627055637, 0.5554792516568302, 0.32775004230109234, 0.3584253349124702, 0.39468207098959596, 0.447463441624078, 0.71995142047261, 0.45853442418402135, 0.45363004475059227, 0.42593742478871294, 0.3747114839987393, 0.3735814250331807, 0.3749891749693122, 0.832687630182205, 0.6990567717976018, 0.5390929424552747, 0.587658648730737, 0.5204178098960838, 0.48803567186842933, 0.5228781034082873, 0.4309379815838563, 0.4309300371105512, 0.43092357166153167, 0.43092205037940945, 0.4309151623520226, 0.43091440171096146, 0.43091161269373734, 0.43090983786459475, 0.5636115731930358, 0.4015141034164208, 0.4015130047126659, 0.4015120327824211, 0.40151059601597233, 0.40150683506850343, 0.5055568696800593, 0.5579549391684816, 0.386681137888311, 0.3866666011924762, 0.3825376724813516, 0.3825228399806597, 0.38252338933253716, 0.3825142616398037, 0.5264745833766256, 0.5028746380093546, 0.48169184090298695, 0.48172484427347234, 0.4670934486265602, 0.5382681117401599, 0.5972457264072993, 0.4946385011151842, 0.48683352092916055, 0.439423017136361, 0.4376372854718637, 0.420971724338324, 0.4248159197455681, 0.7136129712686193, 0.7105364378440477, 0.4779221597883388, 0.41742892698658873, 0.38239205146415606, 0.38238563773851536, 0.38238071847321814, 0.3823666767729076, 0.38236038758562885, 0.38235929787496176, 0.34419084297197317, 0.3441760851760814, 0.3356688696708905, 0.3656556523468403, 0.3356749097814454, 0.3356817905259434, 0.3011270030026411, 0.30833905067808365, 0.3265571138221764, 0.27091633148648553, 0.27090565232194785, 0.2709031926892992, 0.27090285020880384, 0.2708971837133349, 0.28110658954973566, 0.26913381391181423, 0.31231300753890767, 0.3083386459284073, 0.2691363358136438, 0.3083560190299001, 0.3601183965629774, 0.30835190926395556, 0.3083490760162211, 0.2889627184986224, 0.2942526410956413, 0.3054998251022186], \"Total\": [3.0, 3.0, 3.0, 4.0, 3.0, 3.0, 7.0, 3.0, 3.0, 3.0, 3.0, 4.0, 3.0, 3.0, 3.0, 3.0, 3.0, 3.0, 3.0, 4.0, 5.0, 3.0, 7.0, 4.0, 4.0, 3.0, 3.0, 3.0, 6.0, 5.0, 6.944419836336945, 6.615503530543865, 6.21757310356458, 5.329296989821908, 5.329146178944463, 5.216970896083162, 7.162740668438937, 4.877338318541806, 4.808873582941931, 5.342588737614925, 6.541876752075041, 4.639636319626633, 4.529351462594378, 4.731028777816562, 4.480088058241872, 4.935423938319483, 4.645821193187673, 4.988655181166561, 6.434776063972014, 4.292984809091537, 4.292915259399236, 4.292818483098697, 5.075019035019217, 4.237423509569117, 4.20346331836434, 4.203351795382727, 4.8472805097265494, 4.185618496473675, 4.185582945098339, 4.455291669438649, 6.375717913338702, 5.684972546324829, 6.627628025150885, 5.334974709487642, 7.0238374881870795, 5.391948400981666, 6.431204669637154, 5.505306344895666, 7.256602486715918, 5.577237322820626, 7.851592946976248, 5.313772597704123, 4.991172268901589, 5.241386075409169, 4.903706897072138, 4.872298364099654, 4.827647709537102, 4.667822591816058, 4.665288854702664, 4.654293977041428, 4.554947074633715, 6.093330358784278, 4.356162264265242, 5.051946862137954, 4.310001236863306, 4.864263086931871, 4.215905246463229, 4.894440905920686, 4.806263417235817, 4.0850884174064035, 4.047052291846971, 5.459589240083832, 4.58148329372332, 5.385355958496939, 4.238445730390632, 3.90591342053769, 3.8295908192012322, 3.8283351361529308, 4.682163512077082, 3.819153688825491, 3.819129224944097, 4.930634047359111, 5.401995161144483, 7.866318494067482, 7.541628302067767, 6.418926759861065, 5.4369721876512305, 5.724719352507699, 4.715745371911931, 4.999556975707275, 6.974302296570029, 5.910867749585678, 6.019326774375943, 4.600948165339929, 5.098044763508656, 4.356177149362323, 4.345207435669249, 4.315163490279937, 4.925667304944862, 4.185843953783861, 5.685800083573527, 4.549994083911575, 4.1002759522640195, 6.560043217341367, 3.9968422507334394, 3.989050841571896, 4.141580344167972, 3.945146119699357, 4.196276508298481, 3.9152522319110306, 3.9152669286175836, 3.9152379328303413, 4.183174123619014, 4.182625269244803, 3.843964831975254, 3.842045989598212, 3.833631808635714, 3.8169615289851766, 3.8169646374515875, 3.8169624239690774, 3.8169520407412736, 5.130568906135528, 5.481850345923954, 6.378421094866367, 7.541628302067767, 6.15102661336037, 4.989071064346963, 4.305225713443055, 5.368954812518201, 4.953177131132967, 4.75403318289971, 3.4946104457255225, 3.4301848291257167, 3.5713626021581817, 3.37093247337305, 3.443848732171021, 3.517798158408623, 3.3269327386416863, 3.3235839408245247, 3.3236253301484284, 3.2769241773119684, 3.27693758494673, 3.2769424859524032, 3.276939006534795, 3.2769360098042704, 3.276950683198885, 3.4433245187359542, 3.223634079114794, 3.1841156993877004, 3.1841312993003075, 3.184139911543115, 3.1841403778040656, 3.3134757549197116, 3.152552759838652, 3.152564495288899, 3.152572363973681, 3.492298780737895, 3.579936726803103, 3.120336142584909, 3.120336180656115, 3.12035597994026, 5.059818385884366, 5.401995161144483, 3.660662016533272, 4.703832722590349, 4.371543133799158, 5.171527595934718, 5.2254254354060246, 4.088529490133667, 3.7509674685398484, 3.6303835588050504, 3.594190764589317, 4.14398610524363, 3.51590088783082, 3.644295401297064, 3.4375971793310285, 3.4376824328844826, 3.655691238998649, 3.348441872435677, 3.407238693444068, 3.4770978618485833, 3.4775786376271154, 3.4776023604135844, 3.2807958878757657, 3.280799283392036, 3.941966443109423, 4.438247376914077, 3.9492116246227447, 4.468067182506206, 3.672029627595061, 3.2256430748657143, 3.7797242322270783, 3.5042019096471937, 3.138444783449847, 3.1384642001388303, 3.124006574587277, 4.594874316755464, 3.6840849074017785, 4.182103872976159, 5.4369721876512305, 3.6026021502155956, 5.637438001472254, 6.974302296570029, 7.256602486715918, 3.676631072264947, 3.6886688350125665, 3.311953427638765, 3.216402875939062, 3.1569760396890616, 3.2497252052862224, 3.144797581983848, 3.1448144334604544, 3.144843795278726, 3.7692403236706267, 3.1307242682352525, 3.11491703274078, 3.1149242809454365, 3.384316035998109, 4.073529839635856, 3.0703211059869475, 3.8702937433564815, 3.3238917209937666, 3.013448920546981, 3.013452697979485, 3.0134569195716354, 2.9837176098914946, 2.9837216107268385, 2.9776626497682543, 2.977662002998506, 4.929814299846872, 2.9645342134243897, 3.2759023709087596, 3.723923056760709, 4.298205580923106, 7.541628302067767, 5.577237322820626, 7.866318494067482, 7.256602486715918, 4.722427744530023, 4.742553005971841, 5.077853219109133, 3.4798332481450163, 3.9962658276591476, 3.186111053015872, 3.500372005723679, 3.16743014506013, 3.2613038375504044, 3.5357320720930945, 3.077897378506434, 3.0779091894809323, 3.077909529648564, 3.0779251108871795, 3.0779144808651124, 3.077939581899679, 3.0779320302196624, 3.077925864639977, 4.199160430618749, 3.0484519271319304, 3.048447576338207, 3.0484505848124543, 3.048452445674114, 3.0484545268786913, 3.900326081271271, 4.346488685451765, 3.0336104761626914, 3.0336285916121675, 3.077796224356199, 3.077809911842866, 3.0895700510638715, 3.112660766205562, 4.305225713443055, 4.126004852284068, 3.9492116246227447, 4.192981915845882, 4.0709927037488205, 5.045564739895209, 7.0238374881870795, 5.137891236527456, 6.378421094866367, 5.514594001400506, 6.676900034741293, 5.724719352507699, 6.974302296570029, 3.4000814820572365, 3.397088759903907, 3.1642215830471883, 3.10384853222458, 3.068729268305147, 3.068740999103203, 3.06877788148088, 3.068794839042097, 3.0687930044267073, 3.068789401671496, 3.0304446143242116, 3.0304815906154117, 3.1050964224856132, 3.384316035998109, 3.198031415242412, 3.3034984450038403, 2.9874011686737436, 3.2019805053777457, 3.4103247922045536, 2.9571294712800453, 2.9571569315849393, 2.9571634091768577, 2.957162781725307, 2.95716771202108, 3.1994901773215516, 3.1092109432077777, 3.631294364359648, 3.590993757562487, 3.1463613288582772, 3.655691238998649, 4.953177131132967, 3.9163001436405325, 3.958986518606357, 3.941966443109423, 4.6803161446268255, 6.676900034741293], \"Category\": [\"Default\", \"Default\", \"Default\", \"Default\", \"Default\", \"Default\", \"Default\", \"Default\", \"Default\", \"Default\", \"Default\", \"Default\", \"Default\", \"Default\", \"Default\", \"Default\", \"Default\", \"Default\", \"Default\", \"Default\", \"Default\", \"Default\", \"Default\", \"Default\", \"Default\", \"Default\", \"Default\", \"Default\", \"Default\", \"Default\", \"Topic1\", \"Topic1\", \"Topic1\", \"Topic1\", \"Topic1\", \"Topic1\", \"Topic1\", \"Topic1\", \"Topic1\", \"Topic1\", \"Topic1\", \"Topic1\", \"Topic1\", \"Topic1\", \"Topic1\", \"Topic1\", \"Topic1\", \"Topic1\", \"Topic1\", \"Topic1\", \"Topic1\", \"Topic1\", \"Topic1\", \"Topic1\", \"Topic1\", \"Topic1\", \"Topic1\", \"Topic1\", \"Topic1\", \"Topic1\", \"Topic1\", \"Topic1\", \"Topic1\", \"Topic1\", \"Topic1\", \"Topic1\", \"Topic1\", \"Topic1\", \"Topic1\", \"Topic1\", \"Topic1\", \"Topic2\", \"Topic2\", \"Topic2\", \"Topic2\", \"Topic2\", \"Topic2\", \"Topic2\", \"Topic2\", \"Topic2\", \"Topic2\", \"Topic2\", \"Topic2\", \"Topic2\", \"Topic2\", \"Topic2\", \"Topic2\", \"Topic2\", \"Topic2\", \"Topic2\", \"Topic2\", \"Topic2\", \"Topic2\", \"Topic2\", \"Topic2\", \"Topic2\", \"Topic2\", \"Topic2\", \"Topic2\", \"Topic2\", \"Topic2\", \"Topic2\", \"Topic2\", \"Topic2\", \"Topic2\", \"Topic2\", \"Topic2\", \"Topic2\", \"Topic2\", \"Topic2\", \"Topic2\", \"Topic3\", \"Topic3\", \"Topic3\", \"Topic3\", \"Topic3\", \"Topic3\", \"Topic3\", \"Topic3\", \"Topic3\", \"Topic3\", \"Topic3\", \"Topic3\", \"Topic3\", \"Topic3\", \"Topic3\", \"Topic3\", \"Topic3\", \"Topic3\", \"Topic3\", \"Topic3\", \"Topic3\", \"Topic3\", \"Topic3\", \"Topic3\", \"Topic3\", \"Topic3\", \"Topic3\", \"Topic3\", \"Topic3\", \"Topic3\", \"Topic3\", \"Topic3\", \"Topic3\", \"Topic3\", \"Topic3\", \"Topic3\", \"Topic3\", \"Topic3\", \"Topic3\", \"Topic3\", \"Topic4\", \"Topic4\", \"Topic4\", \"Topic4\", \"Topic4\", \"Topic4\", \"Topic4\", \"Topic4\", \"Topic4\", \"Topic4\", \"Topic4\", \"Topic4\", \"Topic4\", \"Topic4\", \"Topic4\", \"Topic4\", \"Topic4\", \"Topic4\", \"Topic4\", \"Topic4\", \"Topic4\", \"Topic4\", \"Topic4\", \"Topic4\", \"Topic4\", \"Topic4\", \"Topic4\", \"Topic4\", \"Topic4\", \"Topic4\", \"Topic4\", \"Topic4\", \"Topic4\", \"Topic4\", \"Topic4\", \"Topic4\", \"Topic4\", \"Topic5\", \"Topic5\", \"Topic5\", \"Topic5\", \"Topic5\", \"Topic5\", \"Topic5\", \"Topic5\", \"Topic5\", \"Topic5\", \"Topic5\", \"Topic5\", \"Topic5\", \"Topic5\", \"Topic5\", \"Topic5\", \"Topic5\", \"Topic5\", \"Topic5\", \"Topic5\", \"Topic5\", \"Topic5\", \"Topic5\", \"Topic5\", \"Topic5\", \"Topic5\", \"Topic5\", \"Topic5\", \"Topic5\", \"Topic5\", \"Topic5\", \"Topic5\", \"Topic5\", \"Topic5\", \"Topic5\", \"Topic5\", \"Topic6\", \"Topic6\", \"Topic6\", \"Topic6\", \"Topic6\", \"Topic6\", \"Topic6\", \"Topic6\", \"Topic6\", \"Topic6\", \"Topic6\", \"Topic6\", \"Topic6\", \"Topic6\", \"Topic6\", \"Topic6\", \"Topic6\", \"Topic6\", \"Topic6\", \"Topic6\", \"Topic6\", \"Topic6\", \"Topic6\", \"Topic6\", \"Topic6\", \"Topic6\", \"Topic6\", \"Topic6\", \"Topic6\", \"Topic6\", \"Topic6\", \"Topic6\", \"Topic6\", \"Topic6\", \"Topic6\", \"Topic6\", \"Topic6\", \"Topic7\", \"Topic7\", \"Topic7\", \"Topic7\", \"Topic7\", \"Topic7\", \"Topic7\", \"Topic7\", \"Topic7\", \"Topic7\", \"Topic7\", \"Topic7\", \"Topic7\", \"Topic7\", \"Topic7\", \"Topic7\", \"Topic7\", \"Topic7\", \"Topic7\", \"Topic7\", \"Topic7\", \"Topic7\", \"Topic7\", \"Topic7\", \"Topic7\", \"Topic7\", \"Topic7\", \"Topic7\", \"Topic7\", \"Topic7\", \"Topic7\", \"Topic7\", \"Topic7\", \"Topic7\", \"Topic7\", \"Topic7\", \"Topic7\", \"Topic7\", \"Topic7\", \"Topic7\", \"Topic7\", \"Topic7\", \"Topic8\", \"Topic8\", \"Topic8\", \"Topic8\", \"Topic8\", \"Topic8\", \"Topic8\", \"Topic8\", \"Topic8\", \"Topic8\", \"Topic8\", \"Topic8\", \"Topic8\", \"Topic8\", \"Topic8\", \"Topic8\", \"Topic8\", \"Topic8\", \"Topic8\", \"Topic8\", \"Topic8\", \"Topic8\", \"Topic8\", \"Topic8\", \"Topic8\", \"Topic8\", \"Topic8\", \"Topic8\", \"Topic8\", \"Topic8\", \"Topic8\", \"Topic8\", \"Topic8\", \"Topic8\", \"Topic8\", \"Topic8\"], \"logprob\": [30.0, 29.0, 28.0, 27.0, 26.0, 25.0, 24.0, 23.0, 22.0, 21.0, 20.0, 19.0, 18.0, 17.0, 16.0, 15.0, 14.0, 13.0, 12.0, 11.0, 10.0, 9.0, 8.0, 7.0, 6.0, 5.0, 4.0, 3.0, 2.0, 1.0, -5.9079, -5.9782, -6.0706, -6.3141, -6.3142, -6.3495, -6.063, -6.4653, -6.4902, -6.386, -6.1981, -6.5549, -6.5994, -6.5573, -6.62, -6.5308, -6.6049, -6.546, -6.296, -6.7021, -6.7022, -6.7022, -6.5353, -6.7278, -6.7439, -6.744, -6.6049, -6.7524, -6.7525, -6.6952, -6.3575, -6.4788, -6.357, -6.5732, -6.3948, -6.5734, -6.5265, -6.5969, -6.4812, -6.5968, -6.5882, -6.2168, -6.3256, -6.2831, -6.3573, -6.3689, -6.3857, -6.4481, -6.4491, -6.4535, -6.4946, -6.2166, -6.5822, -6.4346, -6.6037, -6.4829, -6.649, -6.5119, -6.5323, -6.7156, -6.7358, -6.4503, -6.6411, -6.4852, -6.7276, -6.8146, -6.86, -6.8608, -6.6609, -6.8664, -6.8664, -6.6233, -6.5564, -6.2352, -6.277, -6.449, -6.5731, -6.5612, -6.6843, -6.6802, -6.6611, -5.942, -6.0224, -6.3848, -6.327, -6.4947, -6.5, -6.5144, -6.416, -6.5791, -6.2743, -6.4999, -6.6243, -6.1602, -6.6818, -6.6863, -6.6602, -6.7118, -6.6559, -6.7296, -6.7296, -6.7297, -6.6704, -6.6792, -6.7734, -6.7746, -6.7799, -6.7905, -6.7905, -6.7905, -6.7905, -6.561, -6.519, -6.4602, -6.3538, -6.486, -6.6701, -6.7323, -6.679, -6.6989, -6.7096, -6.3671, -6.4395, -6.4486, -6.5111, -6.5104, -6.4956, -6.5679, -6.5723, -6.5724, -6.6365, -6.6365, -6.6365, -6.6365, -6.6365, -6.6365, -6.6374, -6.7152, -6.7778, -6.7778, -6.7778, -6.7778, -6.7495, -6.8308, -6.8308, -6.8308, -6.7361, -6.7463, -6.8879, -6.8879, -6.888, -6.4796, -6.4314, -6.7866, -6.6498, -6.7044, -6.6684, -6.7433, -5.9193, -6.0822, -6.1917, -6.2271, -6.1348, -6.3081, -6.3359, -6.3966, -6.3966, -6.3571, -6.5074, -6.5402, -6.5402, -6.5401, -6.5402, -6.6006, -6.6006, -6.4192, -6.3162, -6.4593, -6.3362, -6.5401, -6.6835, -6.54, -6.6446, -6.8307, -6.8307, -6.8575, -6.4795, -6.7078, -6.6042, -6.4263, -6.7345, -6.5121, -6.5214, -6.5267, -5.895, -6.2182, -6.3267, -6.4793, -6.5876, -6.5719, -6.6111, -6.6112, -6.6112, -6.4348, -6.6391, -6.6716, -6.6717, -6.6148, -6.4706, -6.7696, -6.5798, -6.7504, -6.9101, -6.9101, -6.9101, -6.9924, -6.9924, -7.01, -7.01, -6.5216, -7.0492, -6.9597, -6.8634, -6.7379, -6.2623, -6.7134, -6.7242, -6.7872, -6.9153, -6.9183, -6.9146, -6.0775, -6.2524, -6.5122, -6.426, -6.5475, -6.6117, -6.5428, -6.7362, -6.7362, -6.7362, -6.7362, -6.7362, -6.7362, -6.7362, -6.7362, -6.4678, -6.8069, -6.8069, -6.8069, -6.8069, -6.8069, -6.5765, -6.4779, -6.8445, -6.8446, -6.8553, -6.8553, -6.8553, -6.8554, -6.5359, -6.5818, -6.6248, -6.6248, -6.6556, -6.5138, -6.4098, -6.5983, -6.6142, -6.7167, -6.7207, -6.7596, -6.7505, -5.9263, -5.9306, -6.3272, -6.4626, -6.5502, -6.5502, -6.5502, -6.5503, -6.5503, -6.5503, -6.6555, -6.6555, -6.6805, -6.595, -6.6805, -6.6805, -6.7891, -6.7655, -6.7081, -6.8949, -6.8949, -6.8949, -6.8949, -6.8949, -6.8579, -6.9015, -6.7527, -6.7655, -6.9014, -6.7654, -6.6102, -6.7654, -6.7654, -6.8304, -6.8122, -6.7747], \"loglift\": [30.0, 29.0, 28.0, 27.0, 26.0, 25.0, 24.0, 23.0, 22.0, 21.0, 20.0, 19.0, 18.0, 17.0, 16.0, 15.0, 14.0, 13.0, 12.0, 11.0, 10.0, 9.0, 8.0, 7.0, 6.0, 5.0, 4.0, 3.0, 2.0, 1.0, 0.978, 0.9562, 0.9258, 0.8365, 0.8364, 0.8223, 0.7919, 0.7739, 0.7631, 0.7621, 0.7475, 0.7342, 0.7138, 0.7124, 0.7042, 0.6966, 0.683, 0.6706, 0.6661, 0.6647, 0.6646, 0.6646, 0.6642, 0.652, 0.644, 0.6439, 0.6405, 0.6397, 0.6397, 0.6345, 0.6138, 0.6071, 0.5755, 0.5764, 0.4797, 0.5654, 0.4362, 0.5212, 0.3607, 0.5083, 0.1749, 0.9367, 0.8905, 0.8841, 0.8765, 0.8713, 0.8637, 0.835, 0.8346, 0.8325, 0.8129, 0.8, 0.77, 0.7694, 0.7592, 0.759, 0.736, 0.7238, 0.7216, 0.7009, 0.69, 0.6761, 0.6607, 0.6549, 0.652, 0.6467, 0.621, 0.6206, 0.6192, 0.6174, 0.6174, 0.6051, 0.5806, 0.526, 0.5263, 0.5155, 0.5575, 0.5178, 0.5886, 0.5342, 0.2205, 1.1051, 1.0064, 0.9127, 0.868, 0.8575, 0.8547, 0.8472, 0.8133, 0.813, 0.8115, 0.8087, 0.7885, 0.7826, 0.7565, 0.754, 0.7425, 0.7395, 0.7337, 0.7293, 0.7293, 0.7292, 0.7224, 0.7137, 0.7039, 0.7032, 0.7001, 0.6939, 0.6939, 0.6939, 0.6939, 0.6276, 0.6034, 0.5107, 0.4496, 0.5211, 0.5465, 0.6316, 0.4641, 0.5249, 0.5552, 1.2055, 1.1517, 1.1022, 1.0975, 1.0768, 1.0704, 1.0538, 1.0505, 1.0504, 1.0004, 1.0004, 1.0004, 1.0004, 1.0004, 1.0004, 0.95, 0.9381, 0.8879, 0.8878, 0.8878, 0.8878, 0.8763, 0.8448, 0.8448, 0.8447, 0.8371, 0.8022, 0.7979, 0.7979, 0.7978, 0.7228, 0.7056, 0.7395, 0.6257, 0.6443, 0.5123, 0.427, 1.4963, 1.4195, 1.3427, 1.3174, 1.2674, 1.2584, 1.1948, 1.1925, 1.1924, 1.1704, 1.1079, 1.0577, 1.0374, 1.0373, 1.0373, 1.0351, 1.0351, 1.0329, 1.0173, 0.991, 0.9906, 0.9829, 0.9692, 0.9541, 0.9253, 0.8494, 0.8493, 0.8272, 0.8193, 0.812, 0.7887, 0.7042, 0.8077, 0.5823, 0.3602, 0.3151, 1.6268, 1.3004, 1.2995, 1.1763, 1.0866, 1.0733, 1.0669, 1.0669, 1.0669, 1.0621, 1.0434, 1.0159, 1.0159, 0.9899, 0.9487, 0.9324, 0.8907, 0.8723, 0.8106, 0.8106, 0.8106, 0.7383, 0.7382, 0.7226, 0.7226, 0.7069, 0.6879, 0.6775, 0.6456, 0.6277, 0.5411, 0.3917, 0.037, 0.0547, 0.3562, 0.3489, 0.2844, 1.4993, 1.186, 1.1527, 1.1449, 1.1234, 1.0299, 1.0181, 0.9634, 0.9634, 0.9633, 0.9633, 0.9633, 0.9633, 0.9633, 0.9633, 0.9211, 0.9023, 0.9023, 0.9023, 0.9023, 0.9022, 0.8863, 0.8766, 0.8695, 0.8695, 0.8443, 0.8442, 0.8404, 0.8329, 0.828, 0.8247, 0.8254, 0.7656, 0.7643, 0.6915, 0.4647, 0.5888, 0.3567, 0.3997, 0.2044, 0.3194, 0.1311, 1.6737, 1.6702, 1.3447, 1.2286, 1.1523, 1.1523, 1.1523, 1.1522, 1.1522, 1.1522, 1.0596, 1.0596, 1.0102, 1.0097, 0.9807, 0.9483, 0.9403, 0.8946, 0.8889, 0.8447, 0.8447, 0.8447, 0.8447, 0.8446, 0.8029, 0.788, 0.7815, 0.7799, 0.7761, 0.7621, 0.6135, 0.6932, 0.6824, 0.6217, 0.4682, 0.1504]}, \"token.table\": {\"Topic\": [1, 2, 3, 1, 2, 3, 1, 2, 3, 1, 2, 3, 1, 2, 3, 6, 1, 2, 3, 1, 2, 3, 1, 2, 3, 1, 2, 3, 1, 2, 3, 1, 2, 3, 1, 2, 3, 1, 2, 3, 1, 2, 3, 4, 1, 2, 3, 1, 2, 3, 4, 1, 2, 3, 5, 1, 2, 3, 5, 1, 2, 3, 1, 2, 3, 5, 1, 2, 3, 4, 1, 2, 3, 5, 1, 2, 3, 4, 1, 2, 3, 1, 2, 3, 1, 2, 3, 1, 2, 3, 4, 1, 2, 3, 4, 1, 2, 3, 7, 1, 2, 3, 4, 1, 2, 3, 5, 1, 2, 3, 6, 1, 2, 3, 1, 2, 3, 4, 1, 2, 3, 1, 2, 3, 4, 1, 2, 3, 5, 1, 2, 3, 1, 2, 3, 1, 2, 3, 1, 2, 3, 4, 1, 2, 3, 1, 2, 3, 6, 1, 2, 3, 1, 2, 3, 1, 2, 3, 1, 2, 3, 1, 2, 3, 6, 1, 2, 3, 1, 2, 3, 1, 2, 3, 4, 1, 2, 3, 4, 1, 2, 3, 1, 2, 3, 5, 1, 2, 3, 1, 2, 3, 6, 1, 2, 3, 1, 2, 3, 1, 2, 3, 1, 2, 3, 1, 2, 3, 4, 1, 2, 3, 1, 2, 3, 5, 1, 2, 3, 4, 1, 2, 3, 1, 2, 3, 1, 2, 3, 1, 2, 3, 1, 2, 3, 4, 1, 2, 3, 1, 2, 3, 1, 2, 3, 1, 2, 3, 1, 2, 3, 1, 2, 3, 1, 2, 3, 7, 1, 2, 3, 1, 2, 3, 1, 2, 3, 1, 2, 3, 1, 2, 3, 5, 1, 2, 3, 1, 2, 3, 1, 2, 3, 4, 1, 2, 3, 1, 2, 3, 4, 1, 2, 3, 1, 2, 3, 1, 2, 3, 1, 2, 3, 1, 2, 3, 1, 2, 3, 7, 1, 2, 3, 4, 1, 2, 3, 1, 2, 3, 6, 1, 2, 3, 5, 1, 2, 3, 1, 2, 3, 1, 2, 3, 5, 1, 2, 3, 4, 1, 2, 3, 1, 2, 3, 1, 2, 3, 1, 2, 3, 1, 2, 3, 5, 1, 2, 3, 1, 2, 3, 1, 2, 3, 5, 1, 2, 3, 6, 1, 2, 3, 1, 2, 3, 1, 2, 3, 6, 1, 2, 3, 1, 2, 3, 1, 2, 3, 1, 2, 3, 6, 1, 2, 3, 1, 2, 3, 5, 1, 2, 3, 4, 1, 2, 3, 1, 2, 3, 6, 1, 2, 3, 5, 1, 2, 3, 1, 2, 3, 1, 2, 3, 1, 2, 3, 1, 2, 3, 1, 2, 3, 1, 2, 3, 1, 2, 3, 4, 1, 2, 3, 1, 2, 3, 4, 1, 2, 3, 1, 2, 3, 5, 1, 2, 3, 1, 2, 3, 1, 2, 3, 1, 2, 3, 4, 1, 2, 3, 1, 2, 3, 1, 2, 3, 1, 2, 3, 1, 2, 3, 1, 2, 3, 1, 2, 3, 1, 2, 3, 1, 2, 3, 1, 2, 3, 1, 2, 3, 6, 1, 2, 3, 1, 2, 3, 1, 2, 3, 6, 1, 2, 3, 1, 2, 3, 1, 2, 3, 5, 1, 2, 3, 1, 2, 3, 1, 2, 3, 1, 2, 3, 1, 2, 3, 1, 2, 3, 1, 2, 3, 1, 2, 3, 1, 2, 3, 1, 2, 3, 1, 2, 3, 1, 2, 3, 1, 2, 3, 1, 2, 3, 1, 2, 3, 1, 2, 3, 4, 1, 2, 3, 5, 1, 2, 3, 1, 2, 3, 1, 2, 3, 1, 2, 3, 1, 2, 3, 5, 1, 2, 3, 5, 1, 2, 3, 5, 1, 2, 3, 4, 1, 2, 3, 6, 1, 2, 3, 1, 2, 3, 7, 1, 2, 3, 5, 1, 2, 3, 4, 1, 2, 3, 5, 1, 2, 3, 1, 2, 3, 4, 1, 2, 3, 8, 1, 2, 3, 1, 2, 3, 1, 2, 3, 1, 2, 3, 1, 2, 3, 7, 1, 2, 3, 4, 1, 2, 3, 1, 2, 3, 6, 1, 2, 3, 1, 2, 3, 1, 2, 3, 5, 1, 2, 3, 1, 2, 3, 1, 2, 3, 1, 2, 3, 1, 2, 3, 5, 1, 2, 3, 1, 2, 3, 1, 2, 3, 4, 1, 2, 3, 4, 1, 2, 3, 1, 2, 3, 8, 1, 2, 3, 1, 2, 3, 4, 1, 2, 3, 1, 2, 3, 1, 2, 3, 1, 2, 3, 7, 1, 2, 3, 1, 2, 3, 7, 1, 2, 3, 4, 1, 2, 3, 4, 1, 2, 3, 1, 2, 3, 7, 1, 2, 3, 4, 1, 2, 3, 1, 2, 3, 5, 1, 2, 3, 5, 1, 2, 3, 7, 1, 2, 3, 7, 1, 2, 3, 5, 1, 2, 3, 5, 1, 2, 3, 1, 2, 3, 1, 2, 3, 1, 2, 3, 1, 2, 3, 5, 1, 2, 3, 4, 1, 2, 3, 1, 2, 3, 5, 1, 2, 3, 5, 1, 2, 3, 5, 1, 2, 3, 5, 1, 2, 3, 5, 1, 2, 3, 1, 2, 3, 1, 2, 3, 5, 1, 2, 3, 4, 5, 1, 2, 3, 1, 2, 3, 1, 2, 3, 4, 5, 1, 2, 3, 1, 2, 3, 1, 2, 3, 1, 2, 3, 1, 2, 3, 1, 2, 3, 1, 2, 3, 1, 2, 3, 1, 2, 3, 5, 1, 2, 3, 1, 2, 3, 1, 2, 3, 1, 2, 3, 1, 2, 3, 4, 1, 2, 3, 1, 2, 3, 7, 1, 2, 3, 1, 2, 3, 1, 2, 3, 7, 1, 2, 3, 5, 1, 2, 3, 1, 2, 3, 1, 2, 3, 4, 1, 2, 3, 5, 1, 2, 3, 5, 1, 2, 3, 1, 2, 3, 7, 1, 2, 3, 5, 1, 2, 3, 5, 1, 2, 3, 6, 1, 2, 3, 1, 2, 3, 1, 2, 3, 4, 1, 2, 3, 1, 2, 3, 1, 2, 3, 1, 2, 3, 1, 2, 3, 1, 2, 3], \"Freq\": [0.6341115518186604, 0.21137051727288678, 0.21137051727288678, 0.4758107570717607, 0.23790537853588034, 0.23790537853588034, 0.32803581985857844, 0.32803581985857844, 0.32803581985857844, 0.33184567794780695, 0.33184567794780695, 0.33184567794780695, 0.29548067892101515, 0.29548067892101515, 0.29548067892101515, 0.29548067892101515, 0.32489419461923186, 0.32489419461923186, 0.32489419461923186, 0.24145372464116624, 0.24145372464116624, 0.4829074492823325, 0.44156432030435, 0.220782160152175, 0.220782160152175, 0.3123067108998615, 0.3123067108998615, 0.3123067108998615, 0.3892647601765387, 0.19463238008826936, 0.19463238008826936, 0.3258610139418034, 0.3258610139418034, 0.3258610139418034, 0.25602205997242494, 0.5120441199448499, 0.25602205997242494, 0.40003544508402467, 0.40003544508402467, 0.20001772254201233, 0.1851167892916322, 0.3702335785832644, 0.1851167892916322, 0.1851167892916322, 0.4464197966646359, 0.22320989833231794, 0.22320989833231794, 0.3172032559579368, 0.3172032559579368, 0.3172032559579368, 0.3172032559579368, 0.29089365278017326, 0.29089365278017326, 0.29089365278017326, 0.29089365278017326, 0.2782267457398753, 0.2782267457398753, 0.2782267457398753, 0.2782267457398753, 0.2197805055474516, 0.2197805055474516, 0.4395610110949032, 0.285371683990858, 0.285371683990858, 0.285371683990858, 0.285371683990858, 0.6114453316062896, 0.1528613329015724, 0.1528613329015724, 0.1528613329015724, 0.2176338091236673, 0.2176338091236673, 0.2176338091236673, 0.2176338091236673, 0.3140565054765731, 0.3140565054765731, 0.3140565054765731, 0.3140565054765731, 0.3256988326237468, 0.3256988326237468, 0.3256988326237468, 0.2470934220480817, 0.4941868440961634, 0.2470934220480817, 0.3358339526087917, 0.3358339526087917, 0.3358339526087917, 0.30057716177582783, 0.30057716177582783, 0.30057716177582783, 0.30057716177582783, 0.31020890568156506, 0.31020890568156506, 0.31020890568156506, 0.31020890568156506, 0.28282686007031543, 0.28282686007031543, 0.28282686007031543, 0.28282686007031543, 0.3952711041130453, 0.19763555205652264, 0.19763555205652264, 0.19763555205652264, 0.304803772989762, 0.304803772989762, 0.304803772989762, 0.304803772989762, 0.31798548998157306, 0.31798548998157306, 0.31798548998157306, 0.31798548998157306, 0.2028136727234114, 0.4056273454468228, 0.2028136727234114, 0.32047829281995005, 0.32047829281995005, 0.32047829281995005, 0.32047829281995005, 0.328035295882356, 0.328035295882356, 0.328035295882356, 0.28634434302001727, 0.28634434302001727, 0.28634434302001727, 0.28634434302001727, 0.27354607777923706, 0.27354607777923706, 0.27354607777923706, 0.27354607777923706, 0.2148553582847951, 0.4297107165695902, 0.2148553582847951, 0.2173465042560673, 0.2173465042560673, 0.4346930085121346, 0.465883875909511, 0.2329419379547555, 0.2329419379547555, 0.31405893956438147, 0.31405893956438147, 0.31405893956438147, 0.31405893956438147, 0.17587674299155093, 0.17587674299155093, 0.5276302289746527, 0.30771832595978654, 0.30771832595978654, 0.30771832595978654, 0.30771832595978654, 0.5615255351545702, 0.18717517838485673, 0.18717517838485673, 0.33184479708511994, 0.33184479708511994, 0.33184479708511994, 0.25347603603493546, 0.25347603603493546, 0.5069520720698709, 0.306625831204709, 0.306625831204709, 0.306625831204709, 0.40569479464208685, 0.20284739732104343, 0.20284739732104343, 0.20284739732104343, 0.33583387966324124, 0.33583387966324124, 0.33583387966324124, 0.17468105219200877, 0.34936210438401755, 0.17468105219200877, 0.22875217500849276, 0.45750435001698553, 0.22875217500849276, 0.22875217500849276, 0.3172012834431953, 0.3172012834431953, 0.3172012834431953, 0.3172012834431953, 0.2553430440268593, 0.2553430440268593, 0.2553430440268593, 0.25321509583460894, 0.25321509583460894, 0.25321509583460894, 0.25321509583460894, 0.328035496124508, 0.328035496124508, 0.328035496124508, 0.3167588183844729, 0.3167588183844729, 0.3167588183844729, 0.3167588183844729, 0.3381657819558142, 0.3381657819558142, 0.3381657819558142, 0.2030181776581019, 0.2030181776581019, 0.4060363553162038, 0.2554123190355116, 0.2554123190355116, 0.5108246380710232, 0.19491015875532308, 0.19491015875532308, 0.38982031751064616, 0.3140565514645915, 0.3140565514645915, 0.3140565514645915, 0.3140565514645915, 0.46531045626962986, 0.23265522813481493, 0.23265522813481493, 0.2391140991169018, 0.2391140991169018, 0.2391140991169018, 0.2391140991169018, 0.2800051720863342, 0.2800051720863342, 0.2800051720863342, 0.2800051720863342, 0.5750463362278604, 0.19168211207595345, 0.19168211207595345, 0.3210358380300458, 0.3210358380300458, 0.3210358380300458, 0.3160334931528362, 0.3160334931528362, 0.3160334931528362, 0.41260248834099894, 0.20630124417049947, 0.20630124417049947, 0.2793345459189173, 0.2793345459189173, 0.2793345459189173, 0.2793345459189173, 0.3258677819279568, 0.3258677819279568, 0.3258677819279568, 0.20714021821113474, 0.6214206546334041, 0.20714021821113474, 0.2525898977680834, 0.2525898977680834, 0.2525898977680834, 0.22955907570158954, 0.22955907570158954, 0.4591181514031791, 0.2618397915076146, 0.5236795830152292, 0.2618397915076146, 0.4658763282284317, 0.23293816411421586, 0.23293816411421586, 0.2322758588190865, 0.2322758588190865, 0.464551717638173, 0.2322758588190865, 0.3248958752316676, 0.3248958752316676, 0.3248958752316676, 0.6238467175850952, 0.2079489058616984, 0.2079489058616984, 0.2039273596464485, 0.6117820789393456, 0.2039273596464485, 0.32490779996624886, 0.32490779996624886, 0.32490779996624886, 0.26659788664850065, 0.26659788664850065, 0.26659788664850065, 0.26659788664850065, 0.3373211196118668, 0.3373211196118668, 0.3373211196118668, 0.5277070338605968, 0.17590234462019894, 0.17590234462019894, 0.2842687257680465, 0.2842687257680465, 0.2842687257680465, 0.2842687257680465, 0.30487604025428255, 0.15243802012714128, 0.45731406038142386, 0.2915294801344216, 0.2915294801344216, 0.2915294801344216, 0.2915294801344216, 0.20035373377726967, 0.6010612013318091, 0.20035373377726967, 0.2043134280751708, 0.4086268561503416, 0.2043134280751708, 0.3347391071832344, 0.3347391071832344, 0.3347391071832344, 0.3258608191325501, 0.3258608191325501, 0.3258608191325501, 0.2601480616268129, 0.2601480616268129, 0.5202961232536258, 0.23007077030871464, 0.23007077030871464, 0.23007077030871464, 0.23007077030871464, 0.2120555545590377, 0.4241111091180754, 0.2120555545590377, 0.2120555545590377, 0.2143489998463844, 0.4286979996927688, 0.2143489998463844, 0.26530544993909083, 0.26530544993909083, 0.26530544993909083, 0.26530544993909083, 0.2542485409799176, 0.38137281146987645, 0.1271242704899588, 0.1271242704899588, 0.300852158836577, 0.300852158836577, 0.300852158836577, 0.3248958393244846, 0.3248958393244846, 0.3248958393244846, 0.28755444020375925, 0.28755444020375925, 0.28755444020375925, 0.28755444020375925, 0.3008800192216349, 0.3008800192216349, 0.3008800192216349, 0.3008800192216349, 0.23890044899930726, 0.23890044899930726, 0.4778008979986145, 0.4217137894888244, 0.2108568947444122, 0.2108568947444122, 0.26198843187985793, 0.26198843187985793, 0.5239768637597159, 0.26198914456514744, 0.26198914456514744, 0.5239782891302949, 0.28759616200976135, 0.28759616200976135, 0.28759616200976135, 0.28759616200976135, 0.26198827995106977, 0.26198827995106977, 0.5239765599021395, 0.5911307877466198, 0.19704359591553994, 0.19704359591553994, 0.2867670363218415, 0.2867670363218415, 0.14338351816092074, 0.14338351816092074, 0.3019366128928157, 0.3019366128928157, 0.3019366128928157, 0.3019366128928157, 0.3626740245051717, 0.18133701225258586, 0.3626740245051717, 0.4769875091618478, 0.2384937545809239, 0.2384937545809239, 0.31798378605749134, 0.31798378605749134, 0.31798378605749134, 0.31798378605749134, 0.2554104274962125, 0.2554104274962125, 0.510820854992425, 0.25068620073188824, 0.25068620073188824, 0.5013724014637765, 0.311578566763907, 0.311578566763907, 0.1557892833819535, 0.2583783212105131, 0.2583783212105131, 0.2583783212105131, 0.2583783212105131, 0.35860048340000034, 0.17930024170000017, 0.17930024170000017, 0.29349279283665064, 0.29349279283665064, 0.29349279283665064, 0.29349279283665064, 0.3172020751659073, 0.3172020751659073, 0.3172020751659073, 0.3172020751659073, 0.33515236049311176, 0.33515236049311176, 0.33515236049311176, 0.2454873388356946, 0.2454873388356946, 0.2454873388356946, 0.2454873388356946, 0.3186291520161072, 0.3186291520161072, 0.3186291520161072, 0.3186291520161072, 0.32126854646580505, 0.32126854646580505, 0.32126854646580505, 0.23013861013656758, 0.23013861013656758, 0.46027722027313517, 0.26198849330972224, 0.26198849330972224, 0.5239769866194445, 0.25541138623191617, 0.25541138623191617, 0.5108227724638323, 0.47579813323510667, 0.23789906661755333, 0.23789906661755333, 0.3258613965022572, 0.3258613965022572, 0.3258613965022572, 0.20524194646375862, 0.6157258393912759, 0.20524194646375862, 0.3051631148756333, 0.3051631148756333, 0.3051631148756333, 0.3051631148756333, 0.3249063550520705, 0.3249063550520705, 0.3249063550520705, 0.425185187898991, 0.2125925939494955, 0.2125925939494955, 0.2125925939494955, 0.2685340123192179, 0.2685340123192179, 0.2685340123192179, 0.31862718075795315, 0.31862718075795315, 0.31862718075795315, 0.31862718075795315, 0.2383065076913826, 0.2383065076913826, 0.4766130153827652, 0.32489346424216947, 0.32489346424216947, 0.32489346424216947, 0.23908429171340892, 0.23908429171340892, 0.47816858342681784, 0.382743955439218, 0.191371977719609, 0.191371977719609, 0.191371977719609, 0.2932272029590369, 0.2932272029590369, 0.2932272029590369, 0.166131535549285, 0.166131535549285, 0.49839460664785495, 0.6150895845373547, 0.2050298615124516, 0.2050298615124516, 0.23593554420899382, 0.47187108841798764, 0.23593554420899382, 0.5629419609191891, 0.18764732030639636, 0.18764732030639636, 0.2612101512630092, 0.5224203025260185, 0.2612101512630092, 0.1881902135654171, 0.5645706406962513, 0.1881902135654171, 0.1969336167963204, 0.1969336167963204, 0.1969336167963204, 0.21423264923419919, 0.42846529846839837, 0.21423264923419919, 0.18242015686246396, 0.18242015686246396, 0.3648403137249279, 0.27110050935125307, 0.27110050935125307, 0.27110050935125307, 0.27110050935125307, 0.47783069317552623, 0.23891534658776312, 0.23891534658776312, 0.4662166903984194, 0.1554055634661398, 0.1554055634661398, 0.31090632565985366, 0.31090632565985366, 0.31090632565985366, 0.31090632565985366, 0.319414906686652, 0.319414906686652, 0.319414906686652, 0.24564033216741915, 0.24564033216741915, 0.4912806643348383, 0.25368049536494786, 0.25368049536494786, 0.25368049536494786, 0.25368049536494786, 0.3709234308762816, 0.1854617154381408, 0.1854617154381408, 0.3052594023803562, 0.3052594023803562, 0.3052594023803562, 0.32489712197138143, 0.32489712197138143, 0.32489712197138143, 0.32218067009967244, 0.32218067009967244, 0.32218067009967244, 0.23174092992131967, 0.23174092992131967, 0.46348185984263934, 0.20806183789550198, 0.41612367579100396, 0.20806183789550198, 0.19615363269422617, 0.19615363269422617, 0.39230726538845234, 0.3258665362414867, 0.3258665362414867, 0.3258665362414867, 0.32205119066785864, 0.32205119066785864, 0.32205119066785864, 0.317827450658018, 0.317827450658018, 0.317827450658018, 0.6466024044404886, 0.21553413481349618, 0.21553413481349618, 0.32489411505594185, 0.32489411505594185, 0.32489411505594185, 0.3280350719300047, 0.3280350719300047, 0.3280350719300047, 0.3027093902563764, 0.3027093902563764, 0.3027093902563764, 0.31355722211719256, 0.15677861105859628, 0.31355722211719256, 0.30516283580677683, 0.30516283580677683, 0.30516283580677683, 0.30516283580677683, 0.27440146582082336, 0.27440146582082336, 0.27440146582082336, 0.27440146582082336, 0.2320184949013544, 0.4640369898027088, 0.2320184949013544, 0.278474446772301, 0.278474446772301, 0.278474446772301, 0.3381619009949658, 0.3381619009949658, 0.3381619009949658, 0.3296402118392376, 0.3296402118392376, 0.3296402118392376, 0.4705352465051301, 0.1568450821683767, 0.1568450821683767, 0.1568450821683767, 0.1839258994686893, 0.3678517989373786, 0.1839258994686893, 0.1839258994686893, 0.20189061960141624, 0.20189061960141624, 0.4037812392028325, 0.20189061960141624, 0.30516421677485717, 0.30516421677485717, 0.30516421677485717, 0.30516421677485717, 0.31798081720347277, 0.31798081720347277, 0.31798081720347277, 0.31798081720347277, 0.6078505185152349, 0.20261683950507828, 0.20261683950507828, 0.42711694355763474, 0.2847446290384232, 0.1423723145192116, 0.1423723145192116, 0.2714378265253543, 0.2714378265253543, 0.2714378265253543, 0.2714378265253543, 0.32047828890979607, 0.32047828890979607, 0.32047828890979607, 0.32047828890979607, 0.31001570130062533, 0.31001570130062533, 0.31001570130062533, 0.31001570130062533, 0.20043811505236464, 0.20043811505236464, 0.4008762301047293, 0.30516296819130784, 0.30516296819130784, 0.30516296819130784, 0.30516296819130784, 0.29436970025719517, 0.29436970025719517, 0.29436970025719517, 0.29436970025719517, 0.32998055592772174, 0.32998055592772174, 0.32998055592772174, 0.2608492546799566, 0.2608492546799566, 0.5216985093599132, 0.164113865672551, 0.492341597017653, 0.164113865672551, 0.32489266712077836, 0.32489266712077836, 0.32489266712077836, 0.2381428422473131, 0.2381428422473131, 0.2381428422473131, 0.2381428422473131, 0.3140574009054663, 0.3140574009054663, 0.3140574009054663, 0.3140574009054663, 0.4778266346263932, 0.2389133173131966, 0.2389133173131966, 0.2719881272678146, 0.2719881272678146, 0.2719881272678146, 0.2719881272678146, 0.26027798800622287, 0.26027798800622287, 0.5205559760124457, 0.2103477114120715, 0.2103477114120715, 0.420695422824143, 0.2775771396073129, 0.2775771396073129, 0.2775771396073129, 0.2775771396073129, 0.1856887469847214, 0.3713774939694428, 0.1856887469847214, 0.7200025513776265, 0.1440005102755253, 0.1440005102755253, 0.2618381142727805, 0.523676228545561, 0.2618381142727805, 0.32586261978577497, 0.32586261978577497, 0.32586261978577497, 0.287556401796377, 0.287556401796377, 0.287556401796377, 0.287556401796377, 0.4273215608086803, 0.21366078040434014, 0.21366078040434014, 0.22955986010972687, 0.45911972021945374, 0.22955986010972687, 0.28615492786131935, 0.28615492786131935, 0.28615492786131935, 0.28615492786131935, 0.2903728002506064, 0.2903728002506064, 0.2903728002506064, 0.2903728002506064, 0.32998458222045407, 0.32998458222045407, 0.32998458222045407, 0.29411059860687366, 0.29411059860687366, 0.29411059860687366, 0.29411059860687366, 0.2447927432216739, 0.4895854864433478, 0.2447927432216739, 0.27317463220683297, 0.27317463220683297, 0.27317463220683297, 0.27317463220683297, 0.32162500977444086, 0.32162500977444086, 0.32162500977444086, 0.2390529226009995, 0.2390529226009995, 0.478105845201999, 0.44890439243722796, 0.22445219621861398, 0.22445219621861398, 0.24236520212680346, 0.24236520212680346, 0.4847304042536069, 0.24236520212680346, 0.6433378318795755, 0.16083445796989387, 0.16083445796989387, 0.25023360385056265, 0.25023360385056265, 0.25023360385056265, 0.25023360385056265, 0.3051617484288237, 0.3051617484288237, 0.3051617484288237, 0.3051617484288237, 0.3017978925951824, 0.3017978925951824, 0.3017978925951824, 0.3017978925951824, 0.43049439847850124, 0.21524719923925062, 0.21524719923925062, 0.3157133556866543, 0.3157133556866543, 0.3157133556866543, 0.3157133556866543, 0.3008762723430506, 0.3008762723430506, 0.3008762723430506, 0.3008762723430506, 0.21826992174565177, 0.43653984349130354, 0.21826992174565177, 0.2547253803790512, 0.2547253803790512, 0.2547253803790512, 0.1273626901895256, 0.35477108563813686, 0.17738554281906843, 0.17738554281906843, 0.17738554281906843, 0.313862255069054, 0.313862255069054, 0.313862255069054, 0.313862255069054, 0.2563888195917354, 0.2563888195917354, 0.2563888195917354, 0.2563888195917354, 0.22531416459604875, 0.22531416459604875, 0.22531416459604875, 0.22531416459604875, 0.2754529883143126, 0.2754529883143126, 0.2754529883143126, 0.2754529883143126, 0.3381614089505085, 0.3381614089505085, 0.3381614089505085, 0.250197515255073, 0.250197515255073, 0.500395030510146, 0.2055809856762392, 0.4111619713524784, 0.2055809856762392, 0.36328586906963545, 0.18164293453481772, 0.18164293453481772, 0.2723289573932263, 0.2723289573932263, 0.2723289573932263, 0.2723289573932263, 0.3051625117885956, 0.3051625117885956, 0.3051625117885956, 0.3051625117885956, 0.2753838988694442, 0.2753838988694442, 0.2753838988694442, 0.2909008670395187, 0.2909008670395187, 0.2909008670395187, 0.2909008670395187, 0.29864636690634677, 0.29864636690634677, 0.29864636690634677, 0.29864636690634677, 0.24458671569158885, 0.24458671569158885, 0.24458671569158885, 0.24458671569158885, 0.30480408845168216, 0.30480408845168216, 0.30480408845168216, 0.30480408845168216, 0.4476208432654251, 0.22381042163271256, 0.22381042163271256, 0.22381042163271256, 0.1691798974981457, 0.1691798974981457, 0.6767195899925827, 0.23719698179623736, 0.4743939635924747, 0.23719698179623736, 0.28442212448626863, 0.28442212448626863, 0.28442212448626863, 0.28442212448626863, 0.38673292618068567, 0.19336646309034283, 0.19336646309034283, 0.19336646309034283, 0.19336646309034283, 0.3381626417317098, 0.3381626417317098, 0.3381626417317098, 0.33184526197159103, 0.33184526197159103, 0.33184526197159103, 0.2117554897813519, 0.2117554897813519, 0.2117554897813519, 0.2117554897813519, 0.2117554897813519, 0.45265062985059457, 0.1508835432835315, 0.301767086567063, 0.32489531668824306, 0.32489531668824306, 0.32489531668824306, 0.3126923629435953, 0.3126923629435953, 0.3126923629435953, 0.46589437868715444, 0.23294718934357722, 0.23294718934357722, 0.47198492090382776, 0.23599246045191388, 0.23599246045191388, 0.7558003675630941, 0.15116007351261881, 0.15116007351261881, 0.4664755911382399, 0.15549186371274662, 0.15549186371274662, 0.5584454589603016, 0.1396113647400754, 0.1396113647400754, 0.29954020422555167, 0.29954020422555167, 0.14977010211277583, 0.14977010211277583, 0.37251198228318483, 0.18625599114159241, 0.37251198228318483, 0.26112450316782876, 0.5222490063356575, 0.26112450316782876, 0.19078922743196988, 0.5723676822959096, 0.19078922743196988, 0.6013644742025388, 0.20045482473417958, 0.20045482473417958, 0.2904170067499477, 0.2904170067499477, 0.2904170067499477, 0.2904170067499477, 0.3381619727462439, 0.3381619727462439, 0.3381619727462439, 0.2856839211274793, 0.2856839211274793, 0.2856839211274793, 0.2856839211274793, 0.24388602417060182, 0.24388602417060182, 0.48777204834120363, 0.31254979530430954, 0.31254979530430954, 0.31254979530430954, 0.3963877391535636, 0.1981938695767818, 0.1981938695767818, 0.1981938695767818, 0.19794349134876013, 0.5938304740462804, 0.19794349134876013, 0.19794349134876013, 0.3748846262463492, 0.1874423131231746, 0.1874423131231746, 0.5629260305307647, 0.18764201017692156, 0.18764201017692156, 0.29665382142744967, 0.29665382142744967, 0.29665382142744967, 0.29665382142744967, 0.2645695660740791, 0.2645695660740791, 0.2645695660740791, 0.2645695660740791, 0.3201017591110907, 0.3201017591110907, 0.3201017591110907, 0.3201017591110907, 0.3296382433778975, 0.3296382433778975, 0.3296382433778975, 0.2873700918091598, 0.2873700918091598, 0.2873700918091598, 0.2873700918091598, 0.4134166099757924, 0.2756110733171949, 0.13780553665859746, 0.13780553665859746, 0.24131355043267183, 0.24131355043267183, 0.24131355043267183, 0.24131355043267183, 0.1325973596081127, 0.3977920788243381, 0.2651947192162254, 0.1325973596081127, 0.18316396271318114, 0.3663279254263623, 0.18316396271318114, 0.21954151905934383, 0.43908303811868765, 0.21954151905934383, 0.3204762554108154, 0.3204762554108154, 0.3204762554108154, 0.3204762554108154, 0.32366963152547945, 0.32366963152547945, 0.32366963152547945, 0.32103509100275196, 0.32103509100275196, 0.32103509100275196, 0.3280353516812149, 0.3280353516812149, 0.3280353516812149, 0.33515191109146364, 0.33515191109146364, 0.33515191109146364, 0.2135764796382312, 0.4271529592764624, 0.2135764796382312, 0.3251489752386844, 0.1625744876193422, 0.3251489752386844], \"Term\": [\"10\", \"10\", \"10\", \"1dtemppro\", \"1dtemppro\", \"1dtemppro\", \"2017\", \"2017\", \"2017\", \"2d\", \"2d\", \"2d\", \"3d\", \"3d\", \"3d\", \"3d\", \"98\", \"98\", \"98\", \"activ\", \"activ\", \"activ\", \"aerob\", \"aerob\", \"aerob\", \"algorithm\", \"algorithm\", \"algorithm\", \"analysi\", \"analysi\", \"analysi\", \"appendic\", \"appendic\", \"appendic\", \"approxim\", \"approxim\", \"approxim\", \"aquat\", \"aquat\", \"aquat\", \"aquif\", \"aquif\", \"aquif\", \"aquif\", \"arcgi\", \"arcgi\", \"arcgi\", \"areal\", \"areal\", \"areal\", \"areal\", \"articl\", \"articl\", \"articl\", \"articl\", \"ash\", \"ash\", \"ash\", \"ash\", \"atmospher\", \"atmospher\", \"atmospher\", \"attribut\", \"attribut\", \"attribut\", \"attribut\", \"balanc\", \"balanc\", \"balanc\", \"balanc\", \"base\", \"base\", \"base\", \"base\", \"bell\", \"bell\", \"bell\", \"bell\", \"bewar\", \"bewar\", \"bewar\", \"big\", \"big\", \"big\", \"biota\", \"biota\", \"biota\", \"biscayn\", \"biscayn\", \"biscayn\", \"biscayn\", \"bisect\", \"bisect\", \"bisect\", \"bisect\", \"block\", \"block\", \"block\", \"block\", \"boundari\", \"boundari\", \"boundari\", \"boundari\", \"branch\", \"branch\", \"branch\", \"branch\", \"budget\", \"budget\", \"budget\", \"budget\", \"cell\", \"cell\", \"cell\", \"cerp\", \"cerp\", \"cerp\", \"cerp\", \"ceus\", \"ceus\", \"ceus\", \"challeng\", \"challeng\", \"challeng\", \"challeng\", \"channel\", \"channel\", \"channel\", \"channel\", \"chemic\", \"chemic\", \"chemic\", \"circl\", \"circl\", \"circl\", \"classroom\", \"classroom\", \"classroom\", \"clear\", \"clear\", \"clear\", \"clear\", \"climat\", \"climat\", \"climat\", \"coast\", \"coast\", \"coast\", \"coast\", \"code\", \"code\", \"code\", \"cohes\", \"cohes\", \"cohes\", \"communiti\", \"communiti\", \"communiti\", \"compil\", \"compil\", \"compil\", \"compon\", \"compon\", \"compon\", \"compon\", \"concept\", \"concept\", \"concept\", \"conduct\", \"conduct\", \"conduct\", \"confin\", \"confin\", \"confin\", \"confin\", \"constant\", \"constant\", \"constant\", \"constant\", \"constitu\", \"constitu\", \"constitu\", \"contamin\", \"contamin\", \"contamin\", \"contamin\", \"contermin\", \"contermin\", \"contermin\", \"coral\", \"coral\", \"coral\", \"coral\", \"could\", \"could\", \"could\", \"count\", \"count\", \"count\", \"counti\", \"counti\", \"counti\", \"coupl\", \"coupl\", \"coupl\", \"criteria\", \"criteria\", \"criteria\", \"criteria\", \"cycl\", \"cycl\", \"cycl\", \"daili\", \"daili\", \"daili\", \"daili\", \"decis\", \"decis\", \"decis\", \"decis\", \"degrad\", \"degrad\", \"degrad\", \"delft3d\", \"delft3d\", \"delft3d\", \"dem\", \"dem\", \"dem\", \"discharg\", \"discharg\", \"discharg\", \"discret\", \"discret\", \"discret\", \"discret\", \"discuss\", \"discuss\", \"discuss\", \"dispers\", \"dispers\", \"dispers\", \"dissolv\", \"dissolv\", \"dissolv\", \"distanc\", \"distanc\", \"distanc\", \"doubl\", \"doubl\", \"doubl\", \"driven\", \"driven\", \"driven\", \"earthquak\", \"earthquak\", \"earthquak\", \"earthquak\", \"edit\", \"edit\", \"edit\", \"egret\", \"egret\", \"egret\", \"element\", \"element\", \"element\", \"equilibrium\", \"equilibrium\", \"equilibrium\", \"erupt\", \"erupt\", \"erupt\", \"erupt\", \"essenti\", \"essenti\", \"essenti\", \"estim\", \"estim\", \"estim\", \"et\", \"et\", \"et\", \"et\", \"evacu\", \"evacu\", \"evacu\", \"everglad\", \"everglad\", \"everglad\", \"everglad\", \"exposur\", \"exposur\", \"exposur\", \"factor\", \"factor\", \"factor\", \"failur\", \"failur\", \"failur\", \"fate\", \"fate\", \"fate\", \"fault\", \"fault\", \"fault\", \"file\", \"file\", \"file\", \"file\", \"finit\", \"finit\", \"finit\", \"finit\", \"fire\", \"fire\", \"fire\", \"flood\", \"flood\", \"flood\", \"flood\", \"flow\", \"flow\", \"flow\", \"flow\", \"forc\", \"forc\", \"forc\", \"foreign\", \"foreign\", \"foreign\", \"fractur\", \"fractur\", \"fractur\", \"fractur\", \"freshwat\", \"freshwat\", \"freshwat\", \"freshwat\", \"gcms\", \"gcms\", \"gcms\", \"geolog\", \"geolog\", \"geolog\", \"gk15\", \"gk15\", \"gk15\", \"gmpe\", \"gmpe\", \"gmpe\", \"goal\", \"goal\", \"goal\", \"goal\", \"graizer\", \"graizer\", \"graizer\", \"graphic\", \"graphic\", \"graphic\", \"ground\", \"ground\", \"ground\", \"ground\", \"gsflow\", \"gsflow\", \"gsflow\", \"gsflow\", \"hazard\", \"hazard\", \"hazard\", \"heat\", \"heat\", \"heat\", \"hrus\", \"hrus\", \"hrus\", \"hrus\", \"huc\", \"huc\", \"huc\", \"hurrican\", \"hurrican\", \"hurrican\", \"hydraul\", \"hydraul\", \"hydraul\", \"hydrodynam\", \"hydrodynam\", \"hydrodynam\", \"hydrodynam\", \"hydrolog\", \"hydrolog\", \"hydrolog\", \"impact\", \"impact\", \"impact\", \"impact\", \"implicit\", \"implicit\", \"implicit\", \"implicit\", \"incid\", \"incid\", \"incid\", \"integr\", \"integr\", \"integr\", \"integr\", \"intercept\", \"intercept\", \"intercept\", \"intercept\", \"investig\", \"investig\", \"investig\", \"isopleth\", \"isopleth\", \"isopleth\", \"kalkan\", \"kalkan\", \"kalkan\", \"klamath\", \"klamath\", \"klamath\", \"known\", \"known\", \"known\", \"lagrangian\", \"lagrangian\", \"lagrangian\", \"laminar\", \"laminar\", \"laminar\", \"landsat\", \"landsat\", \"landsat\", \"landsat\", \"languag\", \"languag\", \"languag\", \"level\", \"level\", \"level\", \"level\", \"line\", \"line\", \"line\", \"litter\", \"litter\", \"litter\", \"litter\", \"lpf\", \"lpf\", \"lpf\", \"mac\", \"mac\", \"mac\", \"magnitud\", \"magnitud\", \"magnitud\", \"manag\", \"manag\", \"manag\", \"manag\", \"manual\", \"manual\", \"manual\", \"map\", \"map\", \"map\", \"massachusett\", \"massachusett\", \"massachusett\", \"materi\", \"materi\", \"materi\", \"matlab\", \"matlab\", \"matlab\", \"mechan\", \"mechan\", \"mechan\", \"mode\", \"mode\", \"mode\", \"model\", \"model\", \"model\", \"modf\", \"modf\", \"modf\", \"modflow\", \"modflow\", \"modflow\", \"modul\", \"modul\", \"modul\", \"modul\", \"monod\", \"monod\", \"monod\", \"month\", \"month\", \"month\", \"mor\", \"mor\", \"mor\", \"mor\", \"morpholog\", \"morpholog\", \"morpholog\", \"motion\", \"motion\", \"motion\", \"network\", \"network\", \"network\", \"network\", \"new\", \"new\", \"new\", \"non\", \"non\", \"non\", \"nt\", \"nt\", \"nt\", \"nurp\", \"nurp\", \"nurp\", \"nwt\", \"nwt\", \"nwt\", \"occurr\", \"occurr\", \"occurr\", \"ocean\", \"ocean\", \"ocean\", \"onedimension\", \"onedimension\", \"onedimension\", \"open\", \"open\", \"open\", \"oper\", \"oper\", \"oper\", \"origin\", \"origin\", \"origin\", \"os\", \"os\", \"os\", \"over\", \"over\", \"over\", \"oxygen\", \"oxygen\", \"oxygen\", \"packag\", \"packag\", \"packag\", \"parameter\", \"parameter\", \"parameter\", \"parameter\", \"perman\", \"perman\", \"perman\", \"perman\", \"pipe\", \"pipe\", \"pipe\", \"plot\", \"plot\", \"plot\", \"pollut\", \"pollut\", \"pollut\", \"postprocessor\", \"postprocessor\", \"postprocessor\", \"precipit\", \"precipit\", \"precipit\", \"precipit\", \"predict\", \"predict\", \"predict\", \"predict\", \"present\", \"present\", \"present\", \"present\", \"principl\", \"principl\", \"principl\", \"principl\", \"prms\", \"prms\", \"prms\", \"prms\", \"profil\", \"profil\", \"profil\", \"program\", \"program\", \"program\", \"program\", \"project\", \"project\", \"project\", \"project\", \"propos\", \"propos\", \"propos\", \"propos\", \"prosper\", \"prosper\", \"prosper\", \"prosper\", \"provid\", \"provid\", \"provid\", \"provision\", \"provision\", \"provision\", \"provision\", \"psd\", \"psd\", \"psd\", \"psd\", \"psds\", \"psds\", \"psds\", \"ptcount\", \"ptcount\", \"ptcount\", \"rainfal\", \"rainfal\", \"rainfal\", \"recompil\", \"recompil\", \"recompil\", \"record\", \"record\", \"record\", \"record\", \"recoveri\", \"recoveri\", \"recoveri\", \"recoveri\", \"redox\", \"redox\", \"redox\", \"reef\", \"reef\", \"reef\", \"reef\", \"regcm3\", \"regcm3\", \"regcm3\", \"region\", \"region\", \"region\", \"regress\", \"regress\", \"regress\", \"regress\", \"repres\", \"repres\", \"repres\", \"reservoir\", \"reservoir\", \"reservoir\", \"retard\", \"retard\", \"retard\", \"revers\", \"revers\", \"revers\", \"rock\", \"rock\", \"rock\", \"rock\", \"runoff\", \"runoff\", \"runoff\", \"sagebrush\", \"sagebrush\", \"sagebrush\", \"saltwat\", \"saltwat\", \"saltwat\", \"saltwat\", \"scenario\", \"scenario\", \"scenario\", \"scenario\", \"scms\", \"scms\", \"scms\", \"scoops3d\", \"scoops3d\", \"scoops3d\", \"scoops3d\", \"screen\", \"screen\", \"screen\", \"sea\", \"sea\", \"sea\", \"sea\", \"search\", \"search\", \"search\", \"sediment\", \"sediment\", \"sediment\", \"seepag\", \"seepag\", \"seepag\", \"seismic\", \"seismic\", \"seismic\", \"seismic\", \"seldm\", \"seldm\", \"seldm\", \"select\", \"select\", \"select\", \"select\", \"senay\", \"senay\", \"senay\", \"senay\", \"separ\", \"separ\", \"separ\", \"separ\", \"serv\", \"serv\", \"serv\", \"shake\", \"shake\", \"shake\", \"shake\", \"sharp\", \"sharp\", \"sharp\", \"sharp\", \"simpl\", \"simpl\", \"simpl\", \"simul\", \"simul\", \"simul\", \"simul\", \"site\", \"site\", \"site\", \"site\", \"slide\", \"slide\", \"slide\", \"slide\", \"slope\", \"slope\", \"slope\", \"slope\", \"soil\", \"soil\", \"soil\", \"soil\", \"soilwat2\", \"soilwat2\", \"soilwat2\", \"soilwat2\", \"solid\", \"solid\", \"solid\", \"span\", \"span\", \"span\", \"speci\", \"speci\", \"speci\", \"specifi\", \"specifi\", \"specifi\", \"spreadsheet\", \"spreadsheet\", \"spreadsheet\", \"spreadsheet\", \"ssebop\", \"ssebop\", \"ssebop\", \"ssebop\", \"stabil\", \"stabil\", \"stabil\", \"statement\", \"statement\", \"statement\", \"statement\", \"station\", \"station\", \"station\", \"station\", \"stream\", \"stream\", \"stream\", \"stream\", \"streamb\", \"streamb\", \"streamb\", \"streamb\", \"streamflow\", \"streamflow\", \"streamflow\", \"streamflow\", \"subduct\", \"subduct\", \"subduct\", \"submers\", \"submers\", \"submers\", \"subreach\", \"subreach\", \"subreach\", \"subreach\", \"surfac\", \"surfac\", \"surfac\", \"surfac\", \"surfac\", \"surrog\", \"surrog\", \"surrog\", \"suspend\", \"suspend\", \"suspend\", \"system\", \"system\", \"system\", \"system\", \"system\", \"temperatur\", \"temperatur\", \"temperatur\", \"text\", \"text\", \"text\", \"theori\", \"theori\", \"theori\", \"thornthwait\", \"thornthwait\", \"thornthwait\", \"thresh\", \"thresh\", \"thresh\", \"threshold\", \"threshold\", \"threshold\", \"time\", \"time\", \"time\", \"tool\", \"tool\", \"tool\", \"transport\", \"transport\", \"transport\", \"transport\", \"travel\", \"travel\", \"travel\", \"trigr\", \"trigr\", \"trigr\", \"turbul\", \"turbul\", \"turbul\", \"u\", \"u\", \"u\", \"uniqu\", \"uniqu\", \"uniqu\", \"uniqu\", \"unnecessarili\", \"unnecessarili\", \"unnecessarili\", \"updat\", \"updat\", \"updat\", \"updat\", \"upw\", \"upw\", \"upw\", \"urban\", \"urban\", \"urban\", \"user\", \"user\", \"user\", \"user\", \"veget\", \"veget\", \"veget\", \"veget\", \"version\", \"version\", \"version\", \"vflux\", \"vflux\", \"vflux\", \"vireo\", \"vireo\", \"vireo\", \"vireo\", \"volcan\", \"volcan\", \"volcan\", \"volcan\", \"volcano\", \"volcano\", \"volcano\", \"volcano\", \"vs2di\", \"vs2di\", \"vs2di\", \"vs2drti\", \"vs2drti\", \"vs2drti\", \"vs2drti\", \"water\", \"water\", \"water\", \"water\", \"watersh\", \"watersh\", \"watersh\", \"watersh\", \"wave\", \"wave\", \"wave\", \"wave\", \"well\", \"well\", \"well\", \"wemo\", \"wemo\", \"wemo\", \"wetland\", \"wetland\", \"wetland\", \"wetland\", \"without\", \"without\", \"without\", \"world\", \"world\", \"world\", \"wus\", \"wus\", \"wus\", \"xbnh\", \"xbnh\", \"xbnh\", \"zero\", \"zero\", \"zero\", \"zone\", \"zone\", \"zone\"]}, \"R\": 30, \"lambda.step\": 0.01, \"plot.opts\": {\"xlab\": \"PC1\", \"ylab\": \"PC2\"}, \"topic.order\": [8, 4, 5, 6, 1, 3, 2, 7]};\n",
              "\n",
              "function LDAvis_load_lib(url, callback){\n",
              "  var s = document.createElement('script');\n",
              "  s.src = url;\n",
              "  s.async = true;\n",
              "  s.onreadystatechange = s.onload = callback;\n",
              "  s.onerror = function(){console.warn(\"failed to load library \" + url);};\n",
              "  document.getElementsByTagName(\"head\")[0].appendChild(s);\n",
              "}\n",
              "\n",
              "if(typeof(LDAvis) !== \"undefined\"){\n",
              "   // already loaded: just create the visualization\n",
              "   !function(LDAvis){\n",
              "       new LDAvis(\"#\" + \"ldavis_el5581396688748286248168069790\", ldavis_el5581396688748286248168069790_data);\n",
              "   }(LDAvis);\n",
              "}else if(typeof define === \"function\" && define.amd){\n",
              "   // require.js is available: use it to load d3/LDAvis\n",
              "   require.config({paths: {d3: \"https://d3js.org/d3.v5\"}});\n",
              "   require([\"d3\"], function(d3){\n",
              "      window.d3 = d3;\n",
              "      LDAvis_load_lib(\"https://cdn.jsdelivr.net/gh/bmabey/pyLDAvis@3.3.1/pyLDAvis/js/ldavis.v3.0.0.js\", function(){\n",
              "        new LDAvis(\"#\" + \"ldavis_el5581396688748286248168069790\", ldavis_el5581396688748286248168069790_data);\n",
              "      });\n",
              "    });\n",
              "}else{\n",
              "    // require.js not available: dynamically load d3 & LDAvis\n",
              "    LDAvis_load_lib(\"https://d3js.org/d3.v5.js\", function(){\n",
              "         LDAvis_load_lib(\"https://cdn.jsdelivr.net/gh/bmabey/pyLDAvis@3.3.1/pyLDAvis/js/ldavis.v3.0.0.js\", function(){\n",
              "                 new LDAvis(\"#\" + \"ldavis_el5581396688748286248168069790\", ldavis_el5581396688748286248168069790_data);\n",
              "            })\n",
              "         });\n",
              "}\n",
              "</script>"
            ],
            "text/plain": [
              "<IPython.core.display.HTML object>"
            ]
          },
          "metadata": {
            "tags": []
          },
          "execution_count": 1166
        }
      ]
    },
    {
      "cell_type": "markdown",
      "metadata": {
        "id": "Kw5fOFR8iJLI"
      },
      "source": [
        "#### Test Set LDA Reults"
      ]
    },
    {
      "cell_type": "code",
      "metadata": {
        "id": "H1LEEZy3nEsZ"
      },
      "source": [
        "test_cluster_lda = []\n",
        "for i in range(len(test_corpus_tfidf)):\n",
        "  test_bow = lda_model.id2word.doc2bow(test_tokens[i])\n",
        "  x = lda_model[test_bow]\n",
        "  x = Sort_Tuple(x)\n",
        "  test_cluster_lda.append(x[0][0])\n",
        "df_test['LDA_Topic'] = test_cluster_lda"
      ],
      "execution_count": 1167,
      "outputs": []
    },
    {
      "cell_type": "code",
      "metadata": {
        "id": "OnmVnBAKi5XF"
      },
      "source": [
        "# # OR Update the model by incrementally training on the new corpus\n",
        "# lda_model.update(other_corpus)\n",
        "# vector = lda_model[unseen_doc]"
      ],
      "execution_count": 1168,
      "outputs": []
    },
    {
      "cell_type": "markdown",
      "metadata": {
        "id": "DRFBhFkHoxYT"
      },
      "source": [
        "##### LDA Testing Silhouette Score 0.18"
      ]
    },
    {
      "cell_type": "code",
      "metadata": {
        "colab": {
          "base_uri": "https://localhost:8080/"
        },
        "id": "ShnqNB8UoB60",
        "outputId": "46d2cfc6-7456-44e5-c721-20a5c48fec05"
      },
      "source": [
        "X = np.array([[tup[1] for tup in arr] for arr in test_corpus_lsi])\n",
        "LDA_score2 = metrics.silhouette_score(X, test_cluster_lda)\n",
        "LDA_score2"
      ],
      "execution_count": 1169,
      "outputs": [
        {
          "output_type": "execute_result",
          "data": {
            "text/plain": [
              "0.17674649737131154"
            ]
          },
          "metadata": {
            "tags": []
          },
          "execution_count": 1169
        }
      ]
    },
    {
      "cell_type": "markdown",
      "metadata": {
        "id": "2rLo62aD8kmk"
      },
      "source": [
        "##### pyLDAvis for Testing"
      ]
    },
    {
      "cell_type": "code",
      "metadata": {
        "colab": {
          "base_uri": "https://localhost:8080/",
          "height": 861
        },
        "id": "jwW2HS1U75lD",
        "outputId": "c6ae2ea0-8a9b-4b10-d571-371f61a327e8"
      },
      "source": [
        "vis_data1 = gensimvis.prepare(lda_model, test_BoW_corpus, dictionary)\n",
        "pyLDAvis.display(vis_data1)"
      ],
      "execution_count": 1170,
      "outputs": [
        {
          "output_type": "execute_result",
          "data": {
            "text/html": [
              "\n",
              "<link rel=\"stylesheet\" type=\"text/css\" href=\"https://cdn.jsdelivr.net/gh/bmabey/pyLDAvis@3.3.1/pyLDAvis/js/ldavis.v1.0.0.css\">\n",
              "\n",
              "\n",
              "<div id=\"ldavis_el558139669279820112576370428\"></div>\n",
              "<script type=\"text/javascript\">\n",
              "\n",
              "var ldavis_el558139669279820112576370428_data = {\"mdsDat\": {\"x\": [-0.019328275899851755, 0.0028721670737284683, 0.007513610410054328, 0.0038669730940381264, 0.00040804248885725487, 0.002001829656700716, 0.0007919323502383541, 0.001873720826234523], \"y\": [0.002449662484150393, -0.013938460132052386, 0.013092412197360995, -0.0026189928545320615, 0.0015694813489664865, -0.0009116017617189963, 0.00032147458280748465, 3.602413501807926e-05], \"topics\": [1, 2, 3, 4, 5, 6, 7, 8], \"cluster\": [1, 1, 1, 1, 1, 1, 1, 1], \"Freq\": [38.15510303060275, 22.9899860715495, 18.251259052672587, 8.255910927476453, 6.265490075612071, 2.5214918740119314, 2.2225664172872586, 1.3381925507874484]}, \"tinfo\": {\"Term\": [\"wave\", \"reef\", \"scoops3d\", \"psd\", \"modul\", \"flow\", \"transport\", \"compon\", \"stream\", \"flood\", \"water\", \"3d\", \"system\", \"hydrolog\", \"gsflow\", \"integr\", \"surfac\", \"boundari\", \"aquif\", \"hydrodynam\", \"cycl\", \"dem\", \"present\", \"vs2drti\", \"mor\", \"user\", \"channel\", \"predict\", \"level\", \"saltwat\", \"reservoir\", \"threshold\", \"seldm\", \"vflux\", \"matlab\", \"degrad\", \"tool\", \"massachusett\", \"balanc\", \"egret\", \"code\", \"origin\", \"aerob\", \"arcgi\", \"10\", \"u\", \"profil\", \"serv\", \"driven\", \"classroom\", \"thornthwait\", \"seepag\", \"thresh\", \"graphic\", \"known\", \"1dtemppro\", \"month\", \"redox\", \"monod\", \"set\", \"discharg\", \"precipit\", \"temperatur\", \"estim\", \"survey\", \"new\", \"program\", \"version\", \"hydrolog\", \"time\", \"water\", \"specifi\", \"simul\", \"mode\", \"exposur\", \"turbul\", \"element\", \"laminar\", \"dispers\", \"modf\", \"fire\", \"chemic\", \"wemo\", \"sagebrush\", \"veget\", \"pipe\", \"factor\", \"rainfal\", \"submers\", \"speci\", \"screen\", \"big\", \"occurr\", \"simpl\", \"materi\", \"approxim\", \"aquif\", \"finit\", \"well\", \"confin\", \"cell\", \"trigr\", \"mechan\", \"wave\", \"repres\", \"flow\", \"predict\", \"hydraul\", \"conduct\", \"zero\", \"ground\", \"subduct\", \"map\", \"circl\", \"ocean\", \"distanc\", \"isopleth\", \"nwt\", \"climat\", \"gcms\", \"atmospher\", \"upw\", \"count\", \"activ\", \"span\", \"hurrican\", \"sediment\", \"communiti\", \"lpf\", \"klamath\", \"huc\", \"counti\", \"fault\", \"regcm3\", \"ptcount\", \"magnitud\", \"evacu\", \"kalkan\", \"graizer\", \"gk15\", \"gmpe\", \"coupl\", \"modflow\", \"wave\", \"zone\", \"packag\", \"provid\", \"earthquak\", \"region\", \"present\", \"travel\", \"stream\", \"erupt\", \"soilwat2\", \"ash\", \"watersh\", \"subreach\", \"statement\", \"articl\", \"channel\", \"perman\", \"station\", \"impact\", \"goal\", \"network\", \"rock\", \"fractur\", \"streamb\", \"branch\", \"soil\", \"spreadsheet\", \"prosper\", \"contamin\", \"attribut\", \"volcan\", \"streamflow\", \"intercept\", \"litter\", \"project\", \"volcano\", \"base\", \"predict\", \"daili\", \"identifi\", \"site\", \"ground\", \"water\", \"vs2drti\", \"slide\", \"select\", \"updat\", \"shake\", \"compil\", \"block\", \"nt\", \"edit\", \"foreign\", \"98\", \"text\", \"recompil\", \"mac\", \"os\", \"2017\", \"wus\", \"contermin\", \"ceus\", \"over\", \"slope\", \"record\", \"postprocessor\", \"vs2di\", \"file\", \"earthquak\", \"investig\", \"equilibrium\", \"languag\", \"without\", \"seismic\", \"contamin\", \"motion\", \"heat\", \"user\", \"program\", \"analysi\", \"packag\", \"hazard\", \"transport\", \"conduct\", \"ground\", \"saltwat\", \"everglad\", \"decis\", \"vireo\", \"scenario\", \"et\", \"biscayn\", \"freshwat\", \"sharp\", \"principl\", \"provision\", \"ssebop\", \"parameter\", \"landsat\", \"senay\", \"uniqu\", \"bisect\", \"clear\", \"recoveri\", \"criteria\", \"bell\", \"separ\", \"challeng\", \"areal\", \"implicit\", \"constant\", \"discret\", \"propos\", \"cerp\", \"wetland\", \"aquif\", \"sea\", \"boundari\", \"confin\", \"level\", \"surfac\", \"manag\", \"scoops3d\", \"psd\", \"dem\", \"nurp\", \"discuss\", \"onedimension\", \"revers\", \"fate\", \"appendic\", \"lagrangian\", \"3d\", \"scms\", \"psds\", \"open\", \"theori\", \"failur\", \"oxygen\", \"algorithm\", \"manual\", \"could\", \"surrog\", \"pollut\", \"unnecessarili\", \"solid\", \"urban\", \"oper\", \"search\", \"stabil\", \"plot\", \"channel\", \"present\", \"constitu\", \"dissolv\", \"network\", \"runoff\", \"transport\", \"reef\", \"modul\", \"gsflow\", \"mor\", \"coast\", \"coral\", \"budget\", \"hrus\", \"prms\", \"morpholog\", \"flood\", \"3d\", \"delft3d\", \"world\", \"integr\", \"bewar\", \"hydrodynam\", \"forc\", \"2d\", \"suspend\", \"cohes\", \"incid\", \"xbnh\", \"concept\", \"biota\", \"non\", \"essenti\", \"line\", \"compon\", \"aspect\", \"wave\", \"cycl\", \"hydrolog\", \"flow\", \"water\", \"system\", \"model\"], \"Freq\": [1.0, 0.0, 0.0, 0.0, 0.0, 2.0, 2.0, 1.0, 1.0, 1.0, 2.0, 0.0, 1.0, 1.0, 0.0, 1.0, 1.0, 1.0, 1.0, 1.0, 1.0, 0.0, 1.0, 1.0, 0.0, 1.0, 1.0, 1.0, 1.0, 0.0, 2.032616430419673, 1.8945319002699825, 1.7273444189237475, 1.3540329869077377, 1.3539169358797407, 1.306903819955821, 1.740478818315938, 1.1640543199154099, 1.520616706904266, 1.1354135704500254, 1.260118714266203, 1.0642459957761838, 1.0179393720444587, 0.9972402390636077, 1.0617413656003063, 1.073776370857804, 1.0902578803943093, 1.0124032243547911, 0.9185779270700551, 0.9185207286263988, 0.91845943836105, 0.9249296531770338, 0.8952542822437455, 1.0853792100965645, 0.8809936742257718, 0.8809119248519615, 1.3788242898210488, 0.8735108641309938, 0.873475169516231, 0.8789419303572014, 1.0123948665913345, 1.2965909492705723, 1.2971495264615913, 1.1483728050497706, 0.931883486493035, 1.0447179943996954, 1.2490478989074796, 1.0450133020418302, 1.020620995273538, 1.094967218922021, 1.1457206081128617, 1.0205048571855049, 1.029451407665664, 0.8992486354318362, 0.8065020898152965, 0.8415443762094192, 0.7813937765106522, 0.772359496473814, 0.7594897574411825, 0.7135773471665242, 0.7128496087419847, 0.7096745331547211, 0.6810964922963576, 0.6240061918803136, 0.7232087472557329, 0.6107344734959019, 0.6694127575915872, 0.8994225834326849, 0.5836947393700134, 0.6891398037915699, 0.5460939590538788, 0.5351587882731466, 0.6559327317550134, 0.5882942371572301, 0.5395767842259432, 0.49458950873505053, 0.640278932936785, 0.5634242892675002, 0.7119879996002659, 0.507653654067786, 0.598887859254752, 0.4726488220984538, 0.472280730083389, 0.8466623082826392, 0.6875752160131284, 0.8828636360153479, 0.6297092837694162, 0.7128782503609422, 0.6372067258747518, 0.5767915321722813, 0.5766655300317389, 0.9397064838857994, 0.8670459273553026, 0.6034638841489666, 0.6394080750198479, 0.540658071973516, 0.5378292769743602, 0.5301066545497213, 0.6739707884736934, 0.49692217023152235, 0.5378586364407639, 0.4749668697423953, 0.5849540523873729, 0.4581892881432537, 0.4484129189878837, 0.44641676678486375, 0.4535721476607298, 0.4351462298350275, 0.4601849406106753, 0.4274674592091447, 0.4274652103989521, 0.4274524254965607, 0.4091489845370901, 0.4086829394469852, 0.4065150447766619, 0.44960270615831494, 0.7554313973788955, 0.40224638658472833, 0.4022456369813308, 0.4022435131050378, 0.4022350592444988, 0.505999784086484, 0.5277076738097891, 0.6225141383155546, 0.5453759924683761, 0.5596734695821184, 0.45371049113220935, 0.42631302833229756, 0.4361266277897454, 0.4408268909601301, 0.44965888476849736, 0.4348215722213074, 0.3694374856841955, 0.3311181826308429, 0.31962581643499033, 0.3505281702747663, 0.29474797484750337, 0.2697898840419057, 0.2697748326040488, 0.280638240843498, 0.28667396161333997, 0.24148349821878637, 0.23370471168561596, 0.2336992675485188, 0.26375977694976255, 0.2337127931209609, 0.23370531449664403, 0.22000374007217002, 0.22000364588294688, 0.29236802039518356, 0.23371009930917927, 0.20249997276388879, 0.25338617150845777, 0.2105366117143124, 0.23373229029014977, 0.28657540201025195, 0.17477897296255082, 0.1747754502856056, 0.19763167090126596, 0.1701641154615385, 0.24830850584065145, 0.26187695321714705, 0.21919802661963225, 0.19994599430290558, 0.2403574283805233, 0.23813476993083824, 0.23686114325561256, 0.28170600877163166, 0.18238018156076094, 0.23649744027636474, 0.19881041395780305, 0.17606220965167946, 0.16510702966747995, 0.17689454994425466, 0.1457903473281179, 0.14578765963853846, 0.1457854723166999, 0.14578495765273786, 0.1457826273686876, 0.1457823700367066, 0.14578142648610956, 0.14578082604482054, 0.13583560260497746, 0.13583597430672778, 0.1358352737918906, 0.13583478772037091, 0.13583351535668703, 0.17103461466514888, 0.19067506352528435, 0.13081784341860989, 0.13081292551852838, 0.18876137135984378, 0.17811127273535218, 0.12940815023419758, 0.1294160703407242, 0.12941105236709452, 0.12941123821796968, 0.17012719061900358, 0.16296085235341845, 0.15802207978899965, 0.16297201770215003, 0.1821011336197985, 0.20205381195022548, 0.16734082852107515, 0.16470033076771562, 0.1486609141687211, 0.14805678445463782, 0.14241866934316222, 0.14371919658274185, 0.08486701315733662, 0.07893616599827616, 0.07822080679434608, 0.07347996772864547, 0.07353005673858953, 0.07463115770230709, 0.0694237072324618, 0.06912018716358985, 0.06911513568751233, 0.06482428648337331, 0.0648236996376331, 0.06482262950716565, 0.06482235909785398, 0.06482106458519175, 0.06482055253351647, 0.06476419232889757, 0.059917732536737836, 0.05628160181004021, 0.0562793982618196, 0.05627898401776769, 0.05627879415591056, 0.05789723991335318, 0.05867605900468081, 0.053375674032466285, 0.053373407196959974, 0.05337273405037561, 0.058082430018117664, 0.050410641683429534, 0.050410641683429534, 0.05040685019967659, 0.0795775768855498, 0.05578586674769005, 0.07583191888084789, 0.06056753186606274, 0.06396789443993497, 0.06278811587330159, 0.058255164034376646, 0.11623596819729781, 0.11573485084700541, 0.0778457612214988, 0.06799239564772598, 0.06228545741520166, 0.06228441272341547, 0.06228361145495811, 0.062281324289931064, 0.062280299883422284, 0.06228012238724502, 0.05955936969838335, 0.05606310071181675, 0.05606069690644465, 0.054675009607135866, 0.05467599344308985, 0.04904870028096388, 0.05467711420466629, 0.05022342576661453, 0.05319085249999998, 0.044127872332267525, 0.04412613286973033, 0.04412573223550165, 0.04412567645098879, 0.044124753470867015, 0.04578769994170196, 0.04383793993368466, 0.043837529156817275, 0.05087071882586345, 0.050223359839462973, 0.05022618963566051, 0.05865744062323049, 0.050225520221506254, 0.050225058731445366, 0.04706733581075476, 0.047928978324987874, 0.04976096201241102, 0.07220894335517374, 0.05227134418969546, 0.04689243646874318, 0.04025925597212382, 0.036698133555004474, 0.03612607759163441, 0.03528575226671788, 0.03528469273418898, 0.03528428663094303, 0.03431152584672974, 0.04209083046587177, 0.035157814477205174, 0.03321359060712089, 0.03321318755728281, 0.04060964368477183, 0.03011457093617942, 0.03640805980789929, 0.03069941151827716, 0.026166874869812652, 0.026166499300645348, 0.02616635579047573, 0.02410063682147234, 0.024100262779008966, 0.023679006996535294, 0.023678956615305533, 0.024900116709388593, 0.02276907771264891, 0.0274189033906995, 0.03858962201786503, 0.02157807002122547, 0.05001564523678536, 0.031085670666514555, 0.03185478135981283, 0.031514069896686675, 0.02959023973772782, 0.02603152951282124, 0.026050820943707666], \"Total\": [1.0, 0.0, 0.0, 0.0, 0.0, 2.0, 2.0, 1.0, 1.0, 1.0, 2.0, 0.0, 1.0, 1.0, 0.0, 1.0, 1.0, 1.0, 1.0, 1.0, 1.0, 0.0, 1.0, 1.0, 0.0, 1.0, 1.0, 1.0, 1.0, 0.0, 2.5365255036929337, 2.398352051678608, 2.231149520213251, 1.8578475359927116, 1.8577618603006743, 1.8106749553828947, 2.459489290641336, 1.6678968397799148, 2.1874305110729777, 1.639179583390667, 1.8385378761266113, 1.568037887131925, 1.5217085534316583, 1.5010071893885146, 1.598472332396566, 1.6327306021005052, 1.6684039598759353, 1.549453396387999, 1.42236345047306, 1.4223234057776726, 1.4222730509369093, 1.4422629274514, 1.3990262034607588, 1.7037388712573882, 1.3847588721857904, 1.3846971532872143, 2.1720070868722416, 1.3772657173034162, 1.3772433036152878, 1.3950003241421227, 1.611348547546155, 2.10746816812678, 2.1551867091798176, 1.8884501051509237, 1.497073334553808, 1.7601323908014421, 2.307482986164085, 1.7636986366105525, 1.7225014653614976, 2.0432983940497556, 2.265368622017217, 1.808936673089262, 2.378452440898395, 1.5190071105620488, 1.426265483683334, 1.5021110811295006, 1.40112634023133, 1.3920961681180422, 1.379259655643649, 1.333316537546638, 1.332590204324258, 1.3294275331906846, 1.3008691599167075, 1.2437251697964409, 1.4544217997874984, 1.2304551922261455, 1.3649155471117334, 1.8465264588956327, 1.2034050372456595, 1.4271679463294202, 1.1657998313511613, 1.1548656879410202, 1.4181267895846126, 1.310396024966131, 1.2044740601142199, 1.1142919990275524, 1.443075940214124, 1.2807514205372035, 1.6199145060001154, 1.166079904617921, 1.3783694986708193, 1.0923525700489902, 1.0919894204340128, 1.9830893036402886, 1.6088130109025331, 2.320465610876705, 1.5320655525507703, 2.0429186993872035, 1.7255704408547372, 1.4025287220985985, 2.100055881716246, 1.5953625437320587, 1.6815821074871942, 1.2590675741502886, 1.3976627480801158, 1.1962240421395491, 1.1934093078446377, 1.185694214127796, 1.5202387468705751, 1.1524928496488056, 1.2585027031878593, 1.130523156803001, 1.4073123712594982, 1.1211774709309663, 1.1039679086940681, 1.1019670029382054, 1.120705626374984, 1.0906963442276154, 1.1598923295026706, 1.083020769196254, 1.0830282552158603, 1.0830199413747938, 1.064723751564955, 1.0642266034510923, 1.0620683872814998, 1.1812817321974494, 1.9855606790549805, 1.0577857862102829, 1.0577881154692081, 1.0577883070346437, 1.0577854861681129, 1.3613855802588755, 1.4874506326213672, 1.9830893036402886, 1.8662231246279906, 1.9754140892774685, 1.4383714289284986, 1.209808700056228, 1.3083634011738996, 1.3950392126021391, 1.6797833498672232, 1.1759617732568093, 1.0983952915398516, 1.0600598721276417, 1.0485530959654166, 1.1956623665323676, 1.0236645537296845, 0.9987588410886354, 0.9987902123142154, 1.039573713080358, 1.067615100041563, 0.9704197631023767, 0.9684699287258958, 0.9767707921690508, 1.1226633006648146, 1.0067925704157739, 1.006798157021692, 0.9489150823449745, 0.9489167755410675, 1.28317535786473, 1.0626905106140114, 0.9313838820029917, 1.192971681073654, 1.0122263321864726, 1.1541610589617322, 1.4264178033138646, 0.9036591389007537, 0.9036654688220053, 1.0269632833079236, 0.8990635762093664, 1.3220201598808874, 1.5320655525507703, 1.3057474282991028, 1.1485693810989641, 1.7841349066307597, 2.100055881716246, 2.265368622017217, 1.0258180394747318, 0.92645779776254, 1.2137055608839247, 1.0222719893218504, 0.9201377938677078, 0.9297716707508775, 1.0006115913838043, 0.8898508771235595, 0.8898542453449994, 0.8898524179713483, 0.889860491995681, 0.8898532118203755, 0.8898630705581294, 0.8898591635775328, 0.8898560466791221, 0.8798885998749505, 0.879892362295222, 0.8798909118928856, 0.8798918094987932, 0.8798912211733138, 1.109240801597443, 1.2698551945239607, 0.87487120882602, 0.8748744177192856, 1.267053270487307, 1.209808700056228, 0.8792753637935539, 0.8813501820396197, 0.8813547007829945, 0.8832703164266886, 1.1648089063008327, 1.192971681073654, 1.1477600611351841, 1.2997203643633444, 1.5828135830285393, 2.307482986164085, 1.6297129128583046, 1.9754140892774685, 1.708301585636583, 2.026768585659911, 1.7255704408547372, 2.100055881716246, 0.8624339986821352, 0.8564965863560539, 0.8940250876698437, 0.8510395015333284, 0.8561245600566538, 0.8949087557654415, 0.8469973330876137, 0.8466773075593844, 0.8467020197596948, 0.8423775441699244, 0.8423834941636461, 0.8423878871765141, 0.8423865339653739, 0.8423879091107467, 0.84239431137068, 0.8903397160525042, 0.8374688715566729, 0.8338215559131191, 0.8338310948122862, 0.8338344705700479, 0.8338367215794324, 0.8709876032667205, 0.9038811222775153, 0.830913133698848, 0.830921592277542, 0.8309255954115327, 0.9395740615664405, 0.827941692699711, 0.8279425663260637, 0.8279555455308351, 1.443075940214124, 0.9454988768754277, 1.480882589389868, 1.166079904617921, 1.3512895570398848, 1.4953227222876915, 1.5318401386038092, 0.8954753141017697, 0.8949941931161608, 0.8570311086348786, 0.8472145409011894, 0.841480931501087, 0.8414868746879903, 0.8415015045046902, 0.8415086035581493, 0.841505729487491, 0.8415058855172786, 0.8618529258404395, 0.8352373994468608, 0.8352483211782918, 0.8396495907531641, 0.8790616603448649, 0.8282291460764744, 0.9521651502118954, 0.874634071371234, 0.9402243496588721, 0.8232890492938874, 0.8232983391380617, 0.8233000436046684, 0.8233016546908785, 0.8233023415081755, 0.8672335338946342, 0.8406106513990668, 0.8750474707769805, 1.0163836991012793, 1.0156159386108228, 1.039573713080358, 1.3950392126021391, 1.121232567777928, 1.1391687960900436, 1.1226633006648146, 1.4158834132037041, 2.026768585659911, 0.8596838972950994, 0.9236600200396957, 0.834287922304561, 0.8276338269329164, 0.8318678230426517, 0.8235206636144745, 0.8226557409601404, 0.8226619142317199, 0.8226771397754226, 0.8216670808943148, 1.029506160325085, 0.8618529258404395, 0.8205695180958065, 0.8205719366984947, 1.0839650146745785, 0.8174742104422758, 1.0148273331954565, 0.8809972623807237, 0.8135122166168807, 0.8135139325054708, 0.8135162093651505, 0.8114493302865277, 0.8114517533006399, 0.8110312631046985, 0.8110314085239625, 0.8768474276070249, 0.8101128383837116, 1.0174402286013366, 1.4498800994235703, 0.8230208513511053, 1.9830893036402886, 1.3285385907742948, 1.7225014653614976, 2.320465610876705, 2.265368622017217, 1.225724911979458, 1.3912002315221246], \"Category\": [\"Default\", \"Default\", \"Default\", \"Default\", \"Default\", \"Default\", \"Default\", \"Default\", \"Default\", \"Default\", \"Default\", \"Default\", \"Default\", \"Default\", \"Default\", \"Default\", \"Default\", \"Default\", \"Default\", \"Default\", \"Default\", \"Default\", \"Default\", \"Default\", \"Default\", \"Default\", \"Default\", \"Default\", \"Default\", \"Default\", \"Topic1\", \"Topic1\", \"Topic1\", \"Topic1\", \"Topic1\", \"Topic1\", \"Topic1\", \"Topic1\", \"Topic1\", \"Topic1\", \"Topic1\", \"Topic1\", \"Topic1\", \"Topic1\", \"Topic1\", \"Topic1\", \"Topic1\", \"Topic1\", \"Topic1\", \"Topic1\", \"Topic1\", \"Topic1\", \"Topic1\", \"Topic1\", \"Topic1\", \"Topic1\", \"Topic1\", \"Topic1\", \"Topic1\", \"Topic1\", \"Topic1\", \"Topic1\", \"Topic1\", \"Topic1\", \"Topic1\", \"Topic1\", \"Topic1\", \"Topic1\", \"Topic1\", \"Topic1\", \"Topic1\", \"Topic1\", \"Topic1\", \"Topic2\", \"Topic2\", \"Topic2\", \"Topic2\", \"Topic2\", \"Topic2\", \"Topic2\", \"Topic2\", \"Topic2\", \"Topic2\", \"Topic2\", \"Topic2\", \"Topic2\", \"Topic2\", \"Topic2\", \"Topic2\", \"Topic2\", \"Topic2\", \"Topic2\", \"Topic2\", \"Topic2\", \"Topic2\", \"Topic2\", \"Topic2\", \"Topic2\", \"Topic2\", \"Topic2\", \"Topic2\", \"Topic2\", \"Topic2\", \"Topic2\", \"Topic2\", \"Topic2\", \"Topic2\", \"Topic2\", \"Topic2\", \"Topic2\", \"Topic2\", \"Topic3\", \"Topic3\", \"Topic3\", \"Topic3\", \"Topic3\", \"Topic3\", \"Topic3\", \"Topic3\", \"Topic3\", \"Topic3\", \"Topic3\", \"Topic3\", \"Topic3\", \"Topic3\", \"Topic3\", \"Topic3\", \"Topic3\", \"Topic3\", \"Topic3\", \"Topic3\", \"Topic3\", \"Topic3\", \"Topic3\", \"Topic3\", \"Topic3\", \"Topic3\", \"Topic3\", \"Topic3\", \"Topic3\", \"Topic3\", \"Topic3\", \"Topic3\", \"Topic3\", \"Topic3\", \"Topic3\", \"Topic3\", \"Topic3\", \"Topic3\", \"Topic3\", \"Topic3\", \"Topic4\", \"Topic4\", \"Topic4\", \"Topic4\", \"Topic4\", \"Topic4\", \"Topic4\", \"Topic4\", \"Topic4\", \"Topic4\", \"Topic4\", \"Topic4\", \"Topic4\", \"Topic4\", \"Topic4\", \"Topic4\", \"Topic4\", \"Topic4\", \"Topic4\", \"Topic4\", \"Topic4\", \"Topic4\", \"Topic4\", \"Topic4\", \"Topic4\", \"Topic4\", \"Topic4\", \"Topic4\", \"Topic4\", \"Topic4\", \"Topic4\", \"Topic4\", \"Topic4\", \"Topic4\", \"Topic4\", \"Topic4\", \"Topic5\", \"Topic5\", \"Topic5\", \"Topic5\", \"Topic5\", \"Topic5\", \"Topic5\", \"Topic5\", \"Topic5\", \"Topic5\", \"Topic5\", \"Topic5\", \"Topic5\", \"Topic5\", \"Topic5\", \"Topic5\", \"Topic5\", \"Topic5\", \"Topic5\", \"Topic5\", \"Topic5\", \"Topic5\", \"Topic5\", \"Topic5\", \"Topic5\", \"Topic5\", \"Topic5\", \"Topic5\", \"Topic5\", \"Topic5\", \"Topic5\", \"Topic5\", \"Topic5\", \"Topic5\", \"Topic5\", \"Topic5\", \"Topic5\", \"Topic5\", \"Topic5\", \"Topic5\", \"Topic5\", \"Topic5\", \"Topic6\", \"Topic6\", \"Topic6\", \"Topic6\", \"Topic6\", \"Topic6\", \"Topic6\", \"Topic6\", \"Topic6\", \"Topic6\", \"Topic6\", \"Topic6\", \"Topic6\", \"Topic6\", \"Topic6\", \"Topic6\", \"Topic6\", \"Topic6\", \"Topic6\", \"Topic6\", \"Topic6\", \"Topic6\", \"Topic6\", \"Topic6\", \"Topic6\", \"Topic6\", \"Topic6\", \"Topic6\", \"Topic6\", \"Topic6\", \"Topic6\", \"Topic6\", \"Topic6\", \"Topic6\", \"Topic6\", \"Topic6\", \"Topic6\", \"Topic7\", \"Topic7\", \"Topic7\", \"Topic7\", \"Topic7\", \"Topic7\", \"Topic7\", \"Topic7\", \"Topic7\", \"Topic7\", \"Topic7\", \"Topic7\", \"Topic7\", \"Topic7\", \"Topic7\", \"Topic7\", \"Topic7\", \"Topic7\", \"Topic7\", \"Topic7\", \"Topic7\", \"Topic7\", \"Topic7\", \"Topic7\", \"Topic7\", \"Topic7\", \"Topic7\", \"Topic7\", \"Topic7\", \"Topic7\", \"Topic7\", \"Topic7\", \"Topic7\", \"Topic7\", \"Topic7\", \"Topic7\", \"Topic8\", \"Topic8\", \"Topic8\", \"Topic8\", \"Topic8\", \"Topic8\", \"Topic8\", \"Topic8\", \"Topic8\", \"Topic8\", \"Topic8\", \"Topic8\", \"Topic8\", \"Topic8\", \"Topic8\", \"Topic8\", \"Topic8\", \"Topic8\", \"Topic8\", \"Topic8\", \"Topic8\", \"Topic8\", \"Topic8\", \"Topic8\", \"Topic8\", \"Topic8\", \"Topic8\", \"Topic8\", \"Topic8\", \"Topic8\", \"Topic8\", \"Topic8\", \"Topic8\", \"Topic8\", \"Topic8\", \"Topic8\", \"Topic8\"], \"logprob\": [30.0, 29.0, 28.0, 27.0, 26.0, 25.0, 24.0, 23.0, 22.0, 21.0, 20.0, 19.0, 18.0, 17.0, 16.0, 15.0, 14.0, 13.0, 12.0, 11.0, 10.0, 9.0, 8.0, 7.0, 6.0, 5.0, 4.0, 3.0, 2.0, 1.0, -5.9079, -5.9782, -6.0706, -6.3141, -6.3142, -6.3495, -6.063, -6.4653, -6.1981, -6.4902, -6.386, -6.5549, -6.5994, -6.62, -6.5573, -6.546, -6.5308, -6.6049, -6.7021, -6.7022, -6.7022, -6.6952, -6.7278, -6.5353, -6.7439, -6.744, -6.296, -6.7524, -6.7525, -6.7462, -6.6049, -6.3575, -6.357, -6.4788, -6.6877, -6.5734, -6.3948, -6.5732, -6.5968, -6.5265, -6.4812, -6.5969, -6.5882, -6.2168, -6.3256, -6.2831, -6.3573, -6.3689, -6.3857, -6.4481, -6.4491, -6.4535, -6.4946, -6.5822, -6.4346, -6.6037, -6.5119, -6.2166, -6.649, -6.4829, -6.7156, -6.7358, -6.5323, -6.6411, -6.7276, -6.8146, -6.5564, -6.6843, -6.4503, -6.7885, -6.6233, -6.86, -6.8608, -6.277, -6.4852, -6.2352, -6.5731, -6.449, -6.5612, -6.6609, -6.6611, -5.942, -6.0224, -6.3848, -6.327, -6.4947, -6.5, -6.5144, -6.2743, -6.5791, -6.4999, -6.6243, -6.416, -6.6602, -6.6818, -6.6863, -6.6704, -6.7118, -6.6559, -6.7296, -6.7296, -6.7297, -6.7734, -6.7746, -6.7799, -6.6792, -6.1602, -6.7905, -6.7905, -6.7905, -6.7905, -6.561, -6.519, -6.3538, -6.486, -6.4602, -6.6701, -6.7323, -6.7096, -6.6989, -6.679, -5.9193, -6.0822, -6.1917, -6.2271, -6.1348, -6.3081, -6.3966, -6.3966, -6.3571, -6.3359, -6.5074, -6.5402, -6.5402, -6.4192, -6.5401, -6.5402, -6.6006, -6.6006, -6.3162, -6.5401, -6.6835, -6.4593, -6.6446, -6.54, -6.3362, -6.8307, -6.8307, -6.7078, -6.8575, -6.4795, -6.4263, -6.6042, -6.6962, -6.5121, -6.5214, -6.5267, -6.0775, -6.5122, -6.2524, -6.426, -6.5475, -6.6117, -6.5428, -6.7362, -6.7362, -6.7362, -6.7362, -6.7362, -6.7362, -6.7362, -6.7362, -6.8069, -6.8069, -6.8069, -6.8069, -6.8069, -6.5765, -6.4678, -6.8445, -6.8446, -6.4779, -6.5359, -6.8554, -6.8553, -6.8553, -6.8553, -6.5818, -6.6248, -6.6556, -6.6248, -6.5138, -6.4098, -6.5983, -6.6142, -6.7167, -6.7207, -6.7596, -6.7505, -6.3671, -6.4395, -6.4486, -6.5111, -6.5104, -6.4956, -6.5679, -6.5723, -6.5724, -6.6365, -6.6365, -6.6365, -6.6365, -6.6365, -6.6365, -6.6374, -6.7152, -6.7778, -6.7778, -6.7778, -6.7778, -6.7495, -6.7361, -6.8308, -6.8308, -6.8308, -6.7463, -6.8879, -6.8879, -6.888, -6.4314, -6.7866, -6.4796, -6.7044, -6.6498, -6.6684, -6.7433, -5.9263, -5.9306, -6.3272, -6.4626, -6.5502, -6.5502, -6.5502, -6.5503, -6.5503, -6.5503, -6.595, -6.6555, -6.6555, -6.6805, -6.6805, -6.7891, -6.6805, -6.7655, -6.7081, -6.8949, -6.8949, -6.8949, -6.8949, -6.8949, -6.8579, -6.9014, -6.9015, -6.7527, -6.7655, -6.7654, -6.6102, -6.7654, -6.7654, -6.8304, -6.8122, -6.7747, -5.895, -6.2182, -6.3267, -6.4793, -6.5719, -6.5876, -6.6111, -6.6112, -6.6112, -6.6391, -6.4348, -6.6148, -6.6716, -6.6717, -6.4706, -6.7696, -6.5798, -6.7504, -6.9101, -6.9101, -6.9101, -6.9924, -6.9924, -7.01, -7.01, -6.9597, -7.0492, -6.8634, -6.5216, -7.1029, -6.2623, -6.7379, -6.7134, -6.7242, -6.7872, -6.9153, -6.9146], \"loglift\": [30.0, 29.0, 28.0, 27.0, 26.0, 25.0, 24.0, 23.0, 22.0, 21.0, 20.0, 19.0, 18.0, 17.0, 16.0, 15.0, 14.0, 13.0, 12.0, 11.0, 10.0, 9.0, 8.0, 7.0, 6.0, 5.0, 4.0, 3.0, 2.0, 1.0, 0.742, 0.7277, 0.7076, 0.6472, 0.6471, 0.6375, 0.6177, 0.6039, 0.5999, 0.5963, 0.5857, 0.576, 0.5615, 0.5546, 0.5544, 0.5444, 0.5381, 0.5379, 0.5263, 0.5262, 0.5262, 0.5193, 0.5171, 0.5126, 0.5113, 0.5112, 0.5091, 0.5082, 0.5082, 0.5016, 0.4988, 0.4778, 0.4558, 0.4661, 0.4895, 0.4419, 0.3497, 0.4401, 0.4401, 0.3397, 0.2818, 0.3911, 0.1261, 0.9459, 0.9, 0.8907, 0.8862, 0.881, 0.8735, 0.845, 0.8445, 0.8424, 0.823, 0.7804, 0.7714, 0.7696, 0.7577, 0.7508, 0.7466, 0.7421, 0.7117, 0.7009, 0.6991, 0.6693, 0.6671, 0.6579, 0.6575, 0.6489, 0.648, 0.6385, 0.6365, 0.6324, 0.6319, 0.619, 0.62, 0.5038, 0.581, 0.4173, 0.4739, 0.5816, 0.1777, 1.1716, 1.0385, 0.9655, 0.9189, 0.9068, 0.9039, 0.8959, 0.8875, 0.8597, 0.8509, 0.8337, 0.823, 0.8061, 0.8, 0.7973, 0.7964, 0.782, 0.7765, 0.7713, 0.7713, 0.7713, 0.7445, 0.7439, 0.7406, 0.7349, 0.7346, 0.7341, 0.7341, 0.7341, 0.734, 0.7112, 0.6647, 0.5423, 0.4707, 0.4398, 0.5471, 0.6579, 0.6023, 0.5489, 0.383, 1.4993, 1.4046, 1.3306, 1.3062, 1.2672, 1.2492, 1.1854, 1.1853, 1.1847, 1.1794, 1.1033, 1.0726, 1.064, 1.0458, 1.0338, 1.0338, 1.0326, 1.0326, 1.0152, 0.9798, 0.9683, 0.945, 0.924, 0.8973, 0.8893, 0.8513, 0.8513, 0.8463, 0.8297, 0.822, 0.7277, 0.7097, 0.746, 0.4897, 0.3174, 0.2362, 1.4777, 1.1448, 1.1346, 1.1327, 1.1164, 1.0418, 1.0373, 0.9612, 0.9612, 0.9612, 0.9612, 0.9612, 0.9612, 0.9612, 0.9612, 0.9018, 0.9018, 0.9018, 0.9018, 0.9017, 0.9005, 0.874, 0.8698, 0.8698, 0.8661, 0.8543, 0.854, 0.8517, 0.8516, 0.8495, 0.8463, 0.7794, 0.7873, 0.6938, 0.6077, 0.3347, 0.494, 0.2857, 0.3285, 0.1535, 0.2756, 0.0883, 1.3616, 1.2961, 1.2441, 1.2309, 1.2256, 1.1962, 1.1789, 1.1748, 1.1747, 1.1158, 1.1158, 1.1157, 1.1157, 1.1157, 1.1157, 1.0595, 1.0429, 0.9847, 0.9846, 0.9846, 0.9846, 0.9694, 0.9457, 0.9351, 0.9351, 0.9351, 0.8968, 0.8816, 0.8816, 0.8815, 0.7825, 0.8501, 0.7084, 0.7227, 0.6299, 0.51, 0.4109, 1.7648, 1.761, 1.4078, 1.2839, 1.2031, 1.203, 1.203, 1.203, 1.203, 1.203, 1.1344, 1.1053, 1.1052, 1.0749, 1.0291, 0.98, 0.9492, 0.9492, 0.9343, 0.8803, 0.8802, 0.8802, 0.8802, 0.8802, 0.8652, 0.8529, 0.8127, 0.8118, 0.7997, 0.7765, 0.6375, 0.7008, 0.685, 0.6346, 0.4207, 0.0995, 1.8368, 1.442, 1.4351, 1.2906, 1.1929, 1.1873, 1.1648, 1.1648, 1.1647, 1.138, 1.1168, 1.1146, 1.1068, 1.1068, 1.0295, 1.0126, 0.9862, 0.957, 0.877, 0.877, 0.877, 0.7973, 0.7972, 0.7801, 0.7801, 0.7524, 0.7421, 0.7, 0.6876, 0.6725, 0.6338, 0.5588, 0.3235, 0.0148, -0.0242, 0.4619, 0.336]}, \"token.table\": {\"Topic\": [1, 1, 1, 1, 2, 1, 3, 1, 2, 1, 2, 2, 3, 1, 3, 1, 1, 1, 2, 2, 3, 3, 1, 1, 1, 1, 2, 3, 1, 1, 2, 1, 1, 3, 2, 2, 2, 2, 1, 2, 1, 1, 2, 1, 1, 1, 2, 1, 3, 1, 2, 1, 1, 3, 1, 2, 1, 2, 2, 3, 1, 1, 1, 3, 2, 3, 1, 1, 3, 2, 1, 2, 1, 1, 1, 2, 1, 1, 1, 2, 1, 1, 2, 2, 1, 1, 1, 1, 2, 1, 2, 1, 2, 1, 1, 3, 2, 1, 1, 1, 1, 1, 1, 1, 1, 1, 2, 1, 2, 1, 1, 2, 1, 1, 1, 2, 3, 1, 2, 2, 1, 2, 1, 3], \"Freq\": [0.625597315469774, 0.7221795737978092, 0.6571560616813679, 0.6136050049736245, 0.6929642246350665, 0.6662193273087409, 0.7945950354075068, 0.9143147587435637, 0.8659015593258068, 0.6752729805622237, 0.7254948698185166, 0.7522034673074327, 0.7942385464694963, 0.7030749799503144, 0.6577914173405387, 0.5439104698276745, 0.6897122047523588, 0.5795185037503678, 0.5795185037503678, 0.8575741645489217, 0.7105742978049948, 0.7345457558099331, 0.7527067764115027, 0.7658448933746884, 0.5522802405959908, 0.6205981949236568, 0.7250266444814826, 0.835963803412122, 0.703055185836934, 0.6100612831764811, 0.7137115128639271, 0.5295347741899067, 0.503636081510209, 0.503636081510209, 0.7011317398059004, 0.7326460615941237, 0.7807916383809717, 0.7504182431740816, 0.43094799393393535, 0.43094799393393535, 0.5869444061354209, 0.4761778049366771, 0.4761778049366771, 0.5853767323100383, 0.7693962697043994, 0.4894957397472358, 0.4894957397472358, 0.5805510300626259, 0.8379354789900663, 0.7221473861521733, 0.7183411770696042, 0.7400338401123926, 0.6528096338508579, 0.5946780686756418, 0.5995574643165303, 0.8302378881494304, 0.5382821239737112, 0.6583247655963831, 0.7500094477490279, 0.6722912196673565, 0.7260881191979532, 0.46040365431773583, 0.5681390815975322, 0.8433877707125409, 0.7051555667268036, 0.7154801838810108, 0.6377396925204947, 0.5062229764523761, 0.5062229764523761, 0.8127073674180652, 0.47450301509837206, 0.6527135854827345, 0.5993752256943584, 0.43337264283035115, 0.5415573631141349, 0.5415573631141349, 0.7874913646156929, 0.7260763028051882, 0.6215762759396176, 0.6215762759396176, 0.7884801462032197, 0.7062728404574715, 0.8040361522663957, 0.8577801892808653, 0.6933548529650444, 0.8963989109115565, 0.6453888850940243, 0.7168457115699709, 0.7631280780372074, 0.4204414529399955, 0.4204414529399955, 0.5604957317316575, 0.7006883825915041, 0.5528109495907462, 0.7010568696470224, 0.6268167721054069, 0.8309754148019766, 0.6687519590888727, 0.6679699497139482, 0.46399692228083667, 0.7030998719558521, 0.71478289507824, 0.8339059307828468, 0.4894047795036095, 0.8131769500319639, 0.49339624023943635, 0.49339624023943635, 0.5953148660980858, 0.6657297270239547, 0.6124709114372583, 0.6317863396690154, 0.6875584511632783, 0.5669902891810269, 0.5382573007884986, 0.4414292624524575, 0.5042637253724956, 0.5042637253724956, 0.6173165289254646, 0.6173165289254646, 0.7687168170425597, 0.7129978760817844, 0.7129978760817844, 0.5358416080067265, 0.5358416080067265], \"Term\": [\"10\", \"1dtemppro\", \"aerob\", \"analysi\", \"aquif\", \"arcgi\", \"atmospher\", \"balanc\", \"big\", \"boundari\", \"cell\", \"chemic\", \"circl\", \"classroom\", \"climat\", \"code\", \"compon\", \"conduct\", \"conduct\", \"confin\", \"count\", \"coupl\", \"cycl\", \"daili\", \"degrad\", \"discharg\", \"dispers\", \"distanc\", \"driven\", \"egret\", \"element\", \"estim\", \"evacu\", \"evacu\", \"exposur\", \"factor\", \"finit\", \"fire\", \"flow\", \"flow\", \"graphic\", \"ground\", \"ground\", \"hazard\", \"heat\", \"hydraul\", \"hydraul\", \"hydrolog\", \"isopleth\", \"known\", \"laminar\", \"level\", \"manag\", \"map\", \"massachusett\", \"materi\", \"matlab\", \"mode\", \"modf\", \"modflow\", \"monod\", \"month\", \"new\", \"nwt\", \"occurr\", \"ocean\", \"origin\", \"packag\", \"packag\", \"pipe\", \"precipit\", \"predict\", \"profil\", \"program\", \"rainfal\", \"rainfal\", \"record\", \"redox\", \"repres\", \"repres\", \"reservoir\", \"runoff\", \"sagebrush\", \"screen\", \"seepag\", \"seldm\", \"serv\", \"set\", \"simpl\", \"simul\", \"simul\", \"site\", \"speci\", \"specifi\", \"streamflow\", \"subduct\", \"submers\", \"surfac\", \"survey\", \"temperatur\", \"thornthwait\", \"thresh\", \"threshold\", \"time\", \"tool\", \"transport\", \"transport\", \"travel\", \"turbul\", \"u\", \"user\", \"veget\", \"version\", \"vflux\", \"water\", \"wave\", \"wave\", \"well\", \"well\", \"wemo\", \"zero\", \"zero\", \"zone\", \"zone\"]}, \"R\": 30, \"lambda.step\": 0.01, \"plot.opts\": {\"xlab\": \"PC1\", \"ylab\": \"PC2\"}, \"topic.order\": [8, 4, 5, 1, 2, 6, 7, 3]};\n",
              "\n",
              "function LDAvis_load_lib(url, callback){\n",
              "  var s = document.createElement('script');\n",
              "  s.src = url;\n",
              "  s.async = true;\n",
              "  s.onreadystatechange = s.onload = callback;\n",
              "  s.onerror = function(){console.warn(\"failed to load library \" + url);};\n",
              "  document.getElementsByTagName(\"head\")[0].appendChild(s);\n",
              "}\n",
              "\n",
              "if(typeof(LDAvis) !== \"undefined\"){\n",
              "   // already loaded: just create the visualization\n",
              "   !function(LDAvis){\n",
              "       new LDAvis(\"#\" + \"ldavis_el558139669279820112576370428\", ldavis_el558139669279820112576370428_data);\n",
              "   }(LDAvis);\n",
              "}else if(typeof define === \"function\" && define.amd){\n",
              "   // require.js is available: use it to load d3/LDAvis\n",
              "   require.config({paths: {d3: \"https://d3js.org/d3.v5\"}});\n",
              "   require([\"d3\"], function(d3){\n",
              "      window.d3 = d3;\n",
              "      LDAvis_load_lib(\"https://cdn.jsdelivr.net/gh/bmabey/pyLDAvis@3.3.1/pyLDAvis/js/ldavis.v3.0.0.js\", function(){\n",
              "        new LDAvis(\"#\" + \"ldavis_el558139669279820112576370428\", ldavis_el558139669279820112576370428_data);\n",
              "      });\n",
              "    });\n",
              "}else{\n",
              "    // require.js not available: dynamically load d3 & LDAvis\n",
              "    LDAvis_load_lib(\"https://d3js.org/d3.v5.js\", function(){\n",
              "         LDAvis_load_lib(\"https://cdn.jsdelivr.net/gh/bmabey/pyLDAvis@3.3.1/pyLDAvis/js/ldavis.v3.0.0.js\", function(){\n",
              "                 new LDAvis(\"#\" + \"ldavis_el558139669279820112576370428\", ldavis_el558139669279820112576370428_data);\n",
              "            })\n",
              "         });\n",
              "}\n",
              "</script>"
            ],
            "text/plain": [
              "<IPython.core.display.HTML object>"
            ]
          },
          "metadata": {
            "tags": []
          },
          "execution_count": 1170
        }
      ]
    },
    {
      "cell_type": "markdown",
      "metadata": {
        "id": "JreIHeP6WHZ2"
      },
      "source": [
        "## HDBSCAN "
      ]
    },
    {
      "cell_type": "code",
      "metadata": {
        "id": "kccdPh4ECLU3"
      },
      "source": [
        "tfidf_vectorizer = TfidfVectorizer(max_df=0.95, min_df=2,\n",
        "                                   max_features=1000,\n",
        "                                   stop_words='english')\n",
        "tfidf_vec = tfidf_vectorizer.fit_transform(document_list)\n",
        "# tfidf_tokens = tfidfvectorizer.get_feature_names()"
      ],
      "execution_count": 1171,
      "outputs": []
    },
    {
      "cell_type": "code",
      "metadata": {
        "id": "emRpt1P5WFN-",
        "colab": {
          "base_uri": "https://localhost:8080/"
        },
        "outputId": "a3252f59-d830-4600-9337-f24ee9cefa62"
      },
      "source": [
        "# %%capture\n",
        "!pip install hdbscan --no-cache-dir --no-binary :all: --no-build-isolation\n",
        "import hdbscan\n",
        "#Note that if this gives an error on the first restart the kernel and run again."
      ],
      "execution_count": 1172,
      "outputs": [
        {
          "output_type": "stream",
          "text": [
            "Requirement already satisfied: hdbscan in /usr/local/lib/python3.7/dist-packages (0.8.27)\n",
            "Requirement already satisfied: cython>=0.27 in /usr/local/lib/python3.7/dist-packages (from hdbscan) (0.29.23)\n",
            "Requirement already satisfied: joblib>=1.0 in /usr/local/lib/python3.7/dist-packages (from hdbscan) (1.0.1)\n",
            "Requirement already satisfied: six in /usr/local/lib/python3.7/dist-packages (from hdbscan) (1.15.0)\n",
            "Requirement already satisfied: scipy>=1.0 in /usr/local/lib/python3.7/dist-packages (from hdbscan) (1.4.1)\n",
            "Requirement already satisfied: scikit-learn>=0.20 in /usr/local/lib/python3.7/dist-packages (from hdbscan) (0.22.2.post1)\n",
            "Requirement already satisfied: numpy>=1.16 in /usr/local/lib/python3.7/dist-packages (from hdbscan) (1.20.3)\n"
          ],
          "name": "stdout"
        }
      ]
    },
    {
      "cell_type": "code",
      "metadata": {
        "id": "LhGAw-YF0aX9"
      },
      "source": [
        "tfidf_vec = tfidf_vec.todense()"
      ],
      "execution_count": 1173,
      "outputs": []
    },
    {
      "cell_type": "code",
      "metadata": {
        "id": "tPBrow_Ek4hK"
      },
      "source": [
        "hdb_model = hdbscan.HDBSCAN(min_cluster_size=2, metric='euclidean', cluster_selection_method='eom',prediction_data=True) #min_samples=2, \n",
        "hdp_labels = hdb_model.fit_predict(tfidf_vec)\n",
        "dataset['HDBSCAN_Topic'] = hdp_labels"
      ],
      "execution_count": 1174,
      "outputs": []
    },
    {
      "cell_type": "code",
      "metadata": {
        "id": "4h9JlYDbO4gI",
        "colab": {
          "base_uri": "https://localhost:8080/"
        },
        "outputId": "32650da6-6237-44b3-bba9-7c0aae084751"
      },
      "source": [
        "# Number of clusters in labels, ignoring noise if present.\n",
        "n_clusters_ = len(set(hdp_labels)) - (1 if -1 in hdp_labels else 0)\n",
        "n_noise_ = list(hdp_labels).count(-1)\n",
        "print('Number of HDBSCAN topics: ', n_clusters_)\n",
        "print('Number of outliers: ', n_noise_)"
      ],
      "execution_count": 1175,
      "outputs": [
        {
          "output_type": "stream",
          "text": [
            "Number of HDBSCAN topics:  8\n",
            "Number of outliers:  11\n"
          ],
          "name": "stdout"
        }
      ]
    },
    {
      "cell_type": "markdown",
      "metadata": {
        "id": "TNhJ6qxVh8sY"
      },
      "source": [
        "#### Train Set HDBSCAN"
      ]
    },
    {
      "cell_type": "markdown",
      "metadata": {
        "id": "B1PUUP2b04vs"
      },
      "source": [
        "##### HDBSCAN Training Coherence Score - n/a"
      ]
    },
    {
      "cell_type": "code",
      "metadata": {
        "id": "KR2Jc81D04Cs"
      },
      "source": [
        "# cm = models.CoherenceModel(model= hdb_model, corpus = corpus_tfidf, texts=document_list, dictionary=dictionary, coherence='u_mass')\n",
        "# lsa_score = cm.get_coherence()\n",
        "\n",
        "# ValueError: This topic model is not currently supported. Supported topic models should implement the `get_topics` method."
      ],
      "execution_count": 1176,
      "outputs": []
    },
    {
      "cell_type": "markdown",
      "metadata": {
        "id": "nULZR9Y2ltja"
      },
      "source": [
        "##### HDBSCAN Training Silhouette Score 0.04\n"
      ]
    },
    {
      "cell_type": "code",
      "metadata": {
        "colab": {
          "base_uri": "https://localhost:8080/"
        },
        "id": "qYc9sulAlrQC",
        "outputId": "367907c3-eff0-4745-f205-2c145ed541c2"
      },
      "source": [
        "HDB_score = metrics.silhouette_score(tfidf_vec, hdp_labels)\n",
        "HDB_score"
      ],
      "execution_count": 1177,
      "outputs": [
        {
          "output_type": "execute_result",
          "data": {
            "text/plain": [
              "0.03725824347108149"
            ]
          },
          "metadata": {
            "tags": []
          },
          "execution_count": 1177
        }
      ]
    },
    {
      "cell_type": "markdown",
      "metadata": {
        "id": "dW0jLB7QiJTc"
      },
      "source": [
        "#### Test Set HDBSCAN \n",
        "If we do not change the existing clusters, to which cluster would HDBSCAN assign new data points? <br>\n",
        "Be sure to use dense matrices in order for approximate_predict to work"
      ]
    },
    {
      "cell_type": "code",
      "metadata": {
        "id": "dAn0yhg8AP5q"
      },
      "source": [
        "test_points = tfidf_vectorizer.transform(test_document_list)\n",
        "test_points = test_points.todense()\n",
        "test_labels, strengths = hdbscan.approximate_predict(hdb_model, test_points)\n",
        "df_test['HDBSCAN_Topic'] = test_labels"
      ],
      "execution_count": 1178,
      "outputs": []
    },
    {
      "cell_type": "markdown",
      "metadata": {
        "id": "cWNZWX5g5Lyv"
      },
      "source": [
        "##### HDBSCAN Testing Silhouette Score 0.00"
      ]
    },
    {
      "cell_type": "code",
      "metadata": {
        "colab": {
          "base_uri": "https://localhost:8080/"
        },
        "id": "rByGkdv35LLu",
        "outputId": "6bb4d222-c974-4064-df8e-5037bf3ae859"
      },
      "source": [
        "HDB_score2 = metrics.silhouette_score(test_points, test_labels)\n",
        "HDB_score2"
      ],
      "execution_count": 1179,
      "outputs": [
        {
          "output_type": "execute_result",
          "data": {
            "text/plain": [
              "-0.004615098872410415"
            ]
          },
          "metadata": {
            "tags": []
          },
          "execution_count": 1179
        }
      ]
    },
    {
      "cell_type": "markdown",
      "metadata": {
        "id": "FqtT9ogtdac0"
      },
      "source": [
        "## Top2Vec\n",
        "Deep HDBSCAN: Create jointly embedded document and word vectors using BERT Sentence Transformer. Create lower dimensional embedding of document vectors using UMAP. Find dense areas of documents using HDBSCAN.  For each dense area calculate the centroid of document vectors in original dimension, this is the topic vector.  Find n-closest word vectors to the resulting topic vector. <br><br>\n",
        "*Error: need at least one array to concatenate. The model is putting everything into one topic and crashing*<br>"
      ]
    },
    {
      "cell_type": "code",
      "metadata": {
        "id": "ADh-POyBUH34"
      },
      "source": [
        "# %%capture\n",
        "# !pip install torch sentence_transformers\n",
        "# !pip install top2vec[sentence_transformers]\n",
        "# from top2vec import Top2Vec"
      ],
      "execution_count": 1180,
      "outputs": []
    },
    {
      "cell_type": "code",
      "metadata": {
        "id": "91WenPqhixJn"
      },
      "source": [
        "# top2vec_model = Top2Vec(document_list, embedding_model='distiluse-base-multilingual-cased', use_embedding_model_tokenizer = True)"
      ],
      "execution_count": 1181,
      "outputs": []
    },
    {
      "cell_type": "markdown",
      "metadata": {
        "id": "YuM80mdWj05V"
      },
      "source": [
        "## BERTopic"
      ]
    },
    {
      "cell_type": "code",
      "metadata": {
        "id": "hKq2dr8nj3NH"
      },
      "source": [
        "%%capture\n",
        "!pip install bertopic[all]\n",
        "from bertopic import BERTopic\n",
        "import umap\n",
        "from umap import UMAP\n",
        "#Note that if this gives an error on the first restart the kernel and run again."
      ],
      "execution_count": 1182,
      "outputs": []
    },
    {
      "cell_type": "code",
      "metadata": {
        "id": "yJfQtQkqlijJ"
      },
      "source": [
        "%%capture\n",
        "# umap_model = UMAP(n_neighbors=10, n_components=5, min_dist=0.0, metric='cosine')\n",
        "hdbscan_model = hdbscan.HDBSCAN(min_cluster_size=2, metric='euclidean', cluster_selection_method='eom', prediction_data=True) #leaf_size=10, cluster_selection_epsilon=0.5, min_samples=2, \n",
        "\n",
        "topic_model = BERTopic(hdbscan_model=hdbscan_model, embedding_model=\"paraphrase-distilroberta-base-v1\", \n",
        "                       min_topic_size=2, calculate_probabilities= True, language=\"english\", n_gram_range=(1, 4)) \n",
        "\n",
        "topics, probs  = topic_model.fit_transform(document_list)"
      ],
      "execution_count": 1183,
      "outputs": []
    },
    {
      "cell_type": "code",
      "metadata": {
        "colab": {
          "base_uri": "https://localhost:8080/",
          "height": 264
        },
        "id": "Gm6Y_-gBlyLG",
        "outputId": "266afb4d-4b71-4a7f-f1c2-83f0d0605b64"
      },
      "source": [
        "topic_model.get_topic_info()"
      ],
      "execution_count": 1184,
      "outputs": [
        {
          "output_type": "execute_result",
          "data": {
            "text/html": [
              "<div>\n",
              "<style scoped>\n",
              "    .dataframe tbody tr th:only-of-type {\n",
              "        vertical-align: middle;\n",
              "    }\n",
              "\n",
              "    .dataframe tbody tr th {\n",
              "        vertical-align: top;\n",
              "    }\n",
              "\n",
              "    .dataframe thead th {\n",
              "        text-align: right;\n",
              "    }\n",
              "</style>\n",
              "<table border=\"1\" class=\"dataframe\">\n",
              "  <thead>\n",
              "    <tr style=\"text-align: right;\">\n",
              "      <th></th>\n",
              "      <th>Topic</th>\n",
              "      <th>Count</th>\n",
              "      <th>Name</th>\n",
              "    </tr>\n",
              "  </thead>\n",
              "  <tbody>\n",
              "    <tr>\n",
              "      <th>0</th>\n",
              "      <td>-1</td>\n",
              "      <td>15</td>\n",
              "      <td>-1_and_model_wave_water</td>\n",
              "    </tr>\n",
              "    <tr>\n",
              "      <th>1</th>\n",
              "      <td>0</td>\n",
              "      <td>9</td>\n",
              "      <td>0_model_water_data_scoops3d</td>\n",
              "    </tr>\n",
              "    <tr>\n",
              "      <th>2</th>\n",
              "      <td>1</td>\n",
              "      <td>7</td>\n",
              "      <td>1_flow_modflow_water_hydraulic</td>\n",
              "    </tr>\n",
              "    <tr>\n",
              "      <th>3</th>\n",
              "      <td>2</td>\n",
              "      <td>5</td>\n",
              "      <td>2_program_rainfall_programs_thresholds</td>\n",
              "    </tr>\n",
              "    <tr>\n",
              "      <th>4</th>\n",
              "      <td>3</td>\n",
              "      <td>5</td>\n",
              "      <td>3_to_transport_flow_surface</td>\n",
              "    </tr>\n",
              "    <tr>\n",
              "      <th>5</th>\n",
              "      <td>4</td>\n",
              "      <td>3</td>\n",
              "      <td>4_degradation_the model_aerobic_redox</td>\n",
              "    </tr>\n",
              "    <tr>\n",
              "      <th>6</th>\n",
              "      <td>5</td>\n",
              "      <td>2</td>\n",
              "      <td>5_subduction_updated_united states_states</td>\n",
              "    </tr>\n",
              "  </tbody>\n",
              "</table>\n",
              "</div>"
            ],
            "text/plain": [
              "   Topic  Count                                       Name\n",
              "0     -1     15                    -1_and_model_wave_water\n",
              "1      0      9                0_model_water_data_scoops3d\n",
              "2      1      7             1_flow_modflow_water_hydraulic\n",
              "3      2      5     2_program_rainfall_programs_thresholds\n",
              "4      3      5                3_to_transport_flow_surface\n",
              "5      4      3      4_degradation_the model_aerobic_redox\n",
              "6      5      2  5_subduction_updated_united states_states"
            ]
          },
          "metadata": {
            "tags": []
          },
          "execution_count": 1184
        }
      ]
    },
    {
      "cell_type": "code",
      "metadata": {
        "colab": {
          "base_uri": "https://localhost:8080/"
        },
        "id": "cJBbVZFaly1W",
        "outputId": "c5f7ed9c-0463-42b5-e042-b121abbef660"
      },
      "source": [
        "topic_model.get_topic(3)"
      ],
      "execution_count": 1185,
      "outputs": [
        {
          "output_type": "execute_result",
          "data": {
            "text/plain": [
              "[('to', 0.021543107040930463),\n",
              " ('transport', 0.018880461561630858),\n",
              " ('flow', 0.012914868214196443),\n",
              " ('surface', 0.012406324308481416),\n",
              " ('vs2drti', 0.011655722928003048),\n",
              " ('module', 0.01139430289437853),\n",
              " ('from', 0.007993511086250578),\n",
              " ('solute transport', 0.007770481952002032),\n",
              " ('to the', 0.007486510635652032),\n",
              " ('3d', 0.007312070297837911)]"
            ]
          },
          "metadata": {
            "tags": []
          },
          "execution_count": 1185
        }
      ]
    },
    {
      "cell_type": "code",
      "metadata": {
        "colab": {
          "base_uri": "https://localhost:8080/"
        },
        "id": "FQdODNS0_Xw6",
        "outputId": "5b100be6-dfdc-4bd0-935d-5589492599fc"
      },
      "source": [
        "topic_model.get_topic(0)"
      ],
      "execution_count": 1186,
      "outputs": [
        {
          "output_type": "execute_result",
          "data": {
            "text/plain": [
              "[('model', 0.012132578387918768),\n",
              " ('water', 0.010281279565190649),\n",
              " ('data', 0.009718768203528004),\n",
              " ('scoops3d', 0.008485150257108305),\n",
              " ('simulations', 0.008471348223080096),\n",
              " ('climate', 0.007072480435023559),\n",
              " ('psd', 0.007026203482628985),\n",
              " ('hydrologic', 0.006999711483790174),\n",
              " ('future', 0.006593592004252709),\n",
              " ('using', 0.00585403779720022)]"
            ]
          },
          "metadata": {
            "tags": []
          },
          "execution_count": 1186
        }
      ]
    },
    {
      "cell_type": "code",
      "metadata": {
        "colab": {
          "base_uri": "https://localhost:8080/"
        },
        "id": "x51OlLTKl67R",
        "outputId": "6919c03b-9268-43b5-80c0-ae2b78a12474"
      },
      "source": [
        "topic_model.find_topics(\"pollution\")"
      ],
      "execution_count": 1187,
      "outputs": [
        {
          "output_type": "execute_result",
          "data": {
            "text/plain": [
              "([1, 0, 2, 3, -1],\n",
              " [0.561198462290597,\n",
              "  0.44790111691386914,\n",
              "  0.4162489125896123,\n",
              "  0.40350893267438936,\n",
              "  0.40223489246475386])"
            ]
          },
          "metadata": {
            "tags": []
          },
          "execution_count": 1187
        }
      ]
    },
    {
      "cell_type": "code",
      "metadata": {
        "colab": {
          "base_uri": "https://localhost:8080/",
          "height": 666
        },
        "id": "D4hM9q79l9wY",
        "outputId": "9312cee7-19f3-4280-d84e-87ce6f0b248c"
      },
      "source": [
        "topic_model.visualize_topics()"
      ],
      "execution_count": 1188,
      "outputs": [
        {
          "output_type": "display_data",
          "data": {
            "text/html": [
              "<html>\n",
              "<head><meta charset=\"utf-8\" /></head>\n",
              "<body>\n",
              "    <div>            <script src=\"https://cdnjs.cloudflare.com/ajax/libs/mathjax/2.7.5/MathJax.js?config=TeX-AMS-MML_SVG\"></script><script type=\"text/javascript\">if (window.MathJax) {MathJax.Hub.Config({SVG: {font: \"STIX-Web\"}});}</script>                <script type=\"text/javascript\">window.PlotlyConfig = {MathJaxConfig: 'local'};</script>\n",
              "        <script src=\"https://cdn.plot.ly/plotly-latest.min.js\"></script>                <div id=\"8df5d636-4106-47fa-8526-7fd50b8e5559\" class=\"plotly-graph-div\" style=\"height:650px; width:650px;\"></div>            <script type=\"text/javascript\">                                    window.PLOTLYENV=window.PLOTLYENV || {};                                    if (document.getElementById(\"8df5d636-4106-47fa-8526-7fd50b8e5559\")) {                    Plotly.newPlot(                        \"8df5d636-4106-47fa-8526-7fd50b8e5559\",                        [{\"customdata\": [[9.681305885314941, 11.55661392211914, 0, \"model | water | data | scoops3d | simulations\", 9], [8.842761039733887, 11.527789115905762, 1, \"flow | modflow | water | hydraulic | aquifer\", 7], [9.199315071105957, 12.290844917297363, 2, \"program | rainfall | programs | thresholds | map\", 5], [9.263694763183594, 10.698174476623535, 3, \"to | transport | flow | surface | vs2drti\", 5], [8.731456756591797, 10.270651817321777, 4, \"degradation | the model | aerobic | redox | the evolution of\", 3], [7.470243453979492, 11.712984085083008, 5, \"subduction | updated | united states | states | subduction zones\", 2]], \"hovertemplate\": \"<b>Topic %{customdata[2]}</b><br>Words: %{customdata[3]}<br>Size: %{customdata[4]}\", \"legendgroup\": \"\", \"marker\": {\"color\": \"#B0BEC5\", \"line\": {\"color\": \"DarkSlateGrey\", \"width\": 2}, \"size\": [9, 7, 5, 5, 3, 2], \"sizemode\": \"area\", \"sizeref\": 0.005625, \"symbol\": \"circle\"}, \"mode\": \"markers\", \"name\": \"\", \"orientation\": \"v\", \"showlegend\": false, \"type\": \"scatter\", \"x\": [9.681305885314941, 8.842761039733887, 9.199315071105957, 9.263694763183594, 8.731456756591797, 7.470243453979492], \"xaxis\": \"x\", \"y\": [11.55661392211914, 11.527789115905762, 12.290844917297363, 10.698174476623535, 10.270651817321777, 11.712984085083008], \"yaxis\": \"y\"}],                        {\"annotations\": [{\"showarrow\": false, \"text\": \"D1\", \"x\": 6.349706935882568, \"y\": 11.432262849807739, \"yshift\": 10}, {\"showarrow\": false, \"text\": \"D2\", \"x\": 8.741604351997376, \"xshift\": 10, \"y\": 14.134471654891968}], \"height\": 650, \"hoverlabel\": {\"bgcolor\": \"white\", \"font\": {\"family\": \"Rockwell\", \"size\": 16}}, \"legend\": {\"itemsizing\": \"constant\", \"tracegroupgap\": 0}, \"margin\": {\"t\": 60}, \"shapes\": [{\"line\": {\"color\": \"#CFD8DC\", \"width\": 2}, \"type\": \"line\", \"x0\": 8.741604351997376, \"x1\": 8.741604351997376, \"y0\": 8.730054044723511, \"y1\": 14.134471654891968}, {\"line\": {\"color\": \"#9E9E9E\", \"width\": 2}, \"type\": \"line\", \"x0\": 6.349706935882568, \"x1\": 11.133501768112183, \"y0\": 11.432262849807739, \"y1\": 11.432262849807739}], \"sliders\": [{\"active\": 0, \"pad\": {\"t\": 50}, \"steps\": [{\"args\": [{\"marker.color\": [[\"red\", \"#B0BEC5\", \"#B0BEC5\", \"#B0BEC5\", \"#B0BEC5\", \"#B0BEC5\"]]}], \"label\": \"Topic 0\", \"method\": \"update\"}, {\"args\": [{\"marker.color\": [[\"#B0BEC5\", \"red\", \"#B0BEC5\", \"#B0BEC5\", \"#B0BEC5\", \"#B0BEC5\"]]}], \"label\": \"Topic 1\", \"method\": \"update\"}, {\"args\": [{\"marker.color\": [[\"#B0BEC5\", \"#B0BEC5\", \"red\", \"#B0BEC5\", \"#B0BEC5\", \"#B0BEC5\"]]}], \"label\": \"Topic 2\", \"method\": \"update\"}, {\"args\": [{\"marker.color\": [[\"#B0BEC5\", \"#B0BEC5\", \"#B0BEC5\", \"red\", \"#B0BEC5\", \"#B0BEC5\"]]}], \"label\": \"Topic 3\", \"method\": \"update\"}, {\"args\": [{\"marker.color\": [[\"#B0BEC5\", \"#B0BEC5\", \"#B0BEC5\", \"#B0BEC5\", \"red\", \"#B0BEC5\"]]}], \"label\": \"Topic 4\", \"method\": \"update\"}, {\"args\": [{\"marker.color\": [[\"#B0BEC5\", \"#B0BEC5\", \"#B0BEC5\", \"#B0BEC5\", \"#B0BEC5\", \"red\"]]}], \"label\": \"Topic 5\", \"method\": \"update\"}]}], \"template\": {\"data\": {\"bar\": [{\"error_x\": {\"color\": \"rgb(36,36,36)\"}, \"error_y\": {\"color\": \"rgb(36,36,36)\"}, \"marker\": {\"line\": {\"color\": \"white\", \"width\": 0.5}}, \"type\": \"bar\"}], \"barpolar\": [{\"marker\": {\"line\": {\"color\": \"white\", \"width\": 0.5}}, \"type\": \"barpolar\"}], \"carpet\": [{\"aaxis\": {\"endlinecolor\": \"rgb(36,36,36)\", \"gridcolor\": \"white\", \"linecolor\": \"white\", \"minorgridcolor\": \"white\", \"startlinecolor\": \"rgb(36,36,36)\"}, \"baxis\": {\"endlinecolor\": \"rgb(36,36,36)\", \"gridcolor\": \"white\", \"linecolor\": \"white\", \"minorgridcolor\": \"white\", \"startlinecolor\": \"rgb(36,36,36)\"}, \"type\": \"carpet\"}], \"choropleth\": [{\"colorbar\": {\"outlinewidth\": 1, \"tickcolor\": \"rgb(36,36,36)\", \"ticks\": \"outside\"}, \"type\": \"choropleth\"}], \"contour\": [{\"colorbar\": {\"outlinewidth\": 1, \"tickcolor\": \"rgb(36,36,36)\", \"ticks\": \"outside\"}, \"colorscale\": [[0.0, \"#440154\"], [0.1111111111111111, \"#482878\"], [0.2222222222222222, \"#3e4989\"], [0.3333333333333333, \"#31688e\"], [0.4444444444444444, \"#26828e\"], [0.5555555555555556, \"#1f9e89\"], [0.6666666666666666, \"#35b779\"], [0.7777777777777778, \"#6ece58\"], [0.8888888888888888, \"#b5de2b\"], [1.0, \"#fde725\"]], \"type\": \"contour\"}], \"contourcarpet\": [{\"colorbar\": {\"outlinewidth\": 1, \"tickcolor\": \"rgb(36,36,36)\", \"ticks\": \"outside\"}, \"type\": \"contourcarpet\"}], \"heatmap\": [{\"colorbar\": {\"outlinewidth\": 1, \"tickcolor\": \"rgb(36,36,36)\", \"ticks\": \"outside\"}, \"colorscale\": [[0.0, \"#440154\"], [0.1111111111111111, \"#482878\"], [0.2222222222222222, \"#3e4989\"], [0.3333333333333333, \"#31688e\"], [0.4444444444444444, \"#26828e\"], [0.5555555555555556, \"#1f9e89\"], [0.6666666666666666, \"#35b779\"], [0.7777777777777778, \"#6ece58\"], [0.8888888888888888, \"#b5de2b\"], [1.0, \"#fde725\"]], \"type\": \"heatmap\"}], \"heatmapgl\": [{\"colorbar\": {\"outlinewidth\": 1, \"tickcolor\": \"rgb(36,36,36)\", \"ticks\": \"outside\"}, \"colorscale\": [[0.0, \"#440154\"], [0.1111111111111111, \"#482878\"], [0.2222222222222222, \"#3e4989\"], [0.3333333333333333, \"#31688e\"], [0.4444444444444444, \"#26828e\"], [0.5555555555555556, \"#1f9e89\"], [0.6666666666666666, \"#35b779\"], [0.7777777777777778, \"#6ece58\"], [0.8888888888888888, \"#b5de2b\"], [1.0, \"#fde725\"]], \"type\": \"heatmapgl\"}], \"histogram\": [{\"marker\": {\"line\": {\"color\": \"white\", \"width\": 0.6}}, \"type\": \"histogram\"}], \"histogram2d\": [{\"colorbar\": {\"outlinewidth\": 1, \"tickcolor\": \"rgb(36,36,36)\", \"ticks\": \"outside\"}, \"colorscale\": [[0.0, \"#440154\"], [0.1111111111111111, \"#482878\"], [0.2222222222222222, \"#3e4989\"], [0.3333333333333333, \"#31688e\"], [0.4444444444444444, \"#26828e\"], [0.5555555555555556, \"#1f9e89\"], [0.6666666666666666, \"#35b779\"], [0.7777777777777778, \"#6ece58\"], [0.8888888888888888, \"#b5de2b\"], [1.0, \"#fde725\"]], \"type\": \"histogram2d\"}], \"histogram2dcontour\": [{\"colorbar\": {\"outlinewidth\": 1, \"tickcolor\": \"rgb(36,36,36)\", \"ticks\": \"outside\"}, \"colorscale\": [[0.0, \"#440154\"], [0.1111111111111111, \"#482878\"], [0.2222222222222222, \"#3e4989\"], [0.3333333333333333, \"#31688e\"], [0.4444444444444444, \"#26828e\"], [0.5555555555555556, \"#1f9e89\"], [0.6666666666666666, \"#35b779\"], [0.7777777777777778, \"#6ece58\"], [0.8888888888888888, \"#b5de2b\"], [1.0, \"#fde725\"]], \"type\": \"histogram2dcontour\"}], \"mesh3d\": [{\"colorbar\": {\"outlinewidth\": 1, \"tickcolor\": \"rgb(36,36,36)\", \"ticks\": \"outside\"}, \"type\": \"mesh3d\"}], \"parcoords\": [{\"line\": {\"colorbar\": {\"outlinewidth\": 1, \"tickcolor\": \"rgb(36,36,36)\", \"ticks\": \"outside\"}}, \"type\": \"parcoords\"}], \"pie\": [{\"automargin\": true, \"type\": \"pie\"}], \"scatter\": [{\"marker\": {\"colorbar\": {\"outlinewidth\": 1, \"tickcolor\": \"rgb(36,36,36)\", \"ticks\": \"outside\"}}, \"type\": \"scatter\"}], \"scatter3d\": [{\"line\": {\"colorbar\": {\"outlinewidth\": 1, \"tickcolor\": \"rgb(36,36,36)\", \"ticks\": \"outside\"}}, \"marker\": {\"colorbar\": {\"outlinewidth\": 1, \"tickcolor\": \"rgb(36,36,36)\", \"ticks\": \"outside\"}}, \"type\": \"scatter3d\"}], \"scattercarpet\": [{\"marker\": {\"colorbar\": {\"outlinewidth\": 1, \"tickcolor\": \"rgb(36,36,36)\", \"ticks\": \"outside\"}}, \"type\": \"scattercarpet\"}], \"scattergeo\": [{\"marker\": {\"colorbar\": {\"outlinewidth\": 1, \"tickcolor\": \"rgb(36,36,36)\", \"ticks\": \"outside\"}}, \"type\": \"scattergeo\"}], \"scattergl\": [{\"marker\": {\"colorbar\": {\"outlinewidth\": 1, \"tickcolor\": \"rgb(36,36,36)\", \"ticks\": \"outside\"}}, \"type\": \"scattergl\"}], \"scattermapbox\": [{\"marker\": {\"colorbar\": {\"outlinewidth\": 1, \"tickcolor\": \"rgb(36,36,36)\", \"ticks\": \"outside\"}}, \"type\": \"scattermapbox\"}], \"scatterpolar\": [{\"marker\": {\"colorbar\": {\"outlinewidth\": 1, \"tickcolor\": \"rgb(36,36,36)\", \"ticks\": \"outside\"}}, \"type\": \"scatterpolar\"}], \"scatterpolargl\": [{\"marker\": {\"colorbar\": {\"outlinewidth\": 1, \"tickcolor\": \"rgb(36,36,36)\", \"ticks\": \"outside\"}}, \"type\": \"scatterpolargl\"}], \"scatterternary\": [{\"marker\": {\"colorbar\": {\"outlinewidth\": 1, \"tickcolor\": \"rgb(36,36,36)\", \"ticks\": \"outside\"}}, \"type\": \"scatterternary\"}], \"surface\": [{\"colorbar\": {\"outlinewidth\": 1, \"tickcolor\": \"rgb(36,36,36)\", \"ticks\": \"outside\"}, \"colorscale\": [[0.0, \"#440154\"], [0.1111111111111111, \"#482878\"], [0.2222222222222222, \"#3e4989\"], [0.3333333333333333, \"#31688e\"], [0.4444444444444444, \"#26828e\"], [0.5555555555555556, \"#1f9e89\"], [0.6666666666666666, \"#35b779\"], [0.7777777777777778, \"#6ece58\"], [0.8888888888888888, \"#b5de2b\"], [1.0, \"#fde725\"]], \"type\": \"surface\"}], \"table\": [{\"cells\": {\"fill\": {\"color\": \"rgb(237,237,237)\"}, \"line\": {\"color\": \"white\"}}, \"header\": {\"fill\": {\"color\": \"rgb(217,217,217)\"}, \"line\": {\"color\": \"white\"}}, \"type\": \"table\"}]}, \"layout\": {\"annotationdefaults\": {\"arrowhead\": 0, \"arrowwidth\": 1}, \"autotypenumbers\": \"strict\", \"coloraxis\": {\"colorbar\": {\"outlinewidth\": 1, \"tickcolor\": \"rgb(36,36,36)\", \"ticks\": \"outside\"}}, \"colorscale\": {\"diverging\": [[0.0, \"rgb(103,0,31)\"], [0.1, \"rgb(178,24,43)\"], [0.2, \"rgb(214,96,77)\"], [0.3, \"rgb(244,165,130)\"], [0.4, \"rgb(253,219,199)\"], [0.5, \"rgb(247,247,247)\"], [0.6, \"rgb(209,229,240)\"], [0.7, \"rgb(146,197,222)\"], [0.8, \"rgb(67,147,195)\"], [0.9, \"rgb(33,102,172)\"], [1.0, \"rgb(5,48,97)\"]], \"sequential\": [[0.0, \"#440154\"], [0.1111111111111111, \"#482878\"], [0.2222222222222222, \"#3e4989\"], [0.3333333333333333, \"#31688e\"], [0.4444444444444444, \"#26828e\"], [0.5555555555555556, \"#1f9e89\"], [0.6666666666666666, \"#35b779\"], [0.7777777777777778, \"#6ece58\"], [0.8888888888888888, \"#b5de2b\"], [1.0, \"#fde725\"]], \"sequentialminus\": [[0.0, \"#440154\"], [0.1111111111111111, \"#482878\"], [0.2222222222222222, \"#3e4989\"], [0.3333333333333333, \"#31688e\"], [0.4444444444444444, \"#26828e\"], [0.5555555555555556, \"#1f9e89\"], [0.6666666666666666, \"#35b779\"], [0.7777777777777778, \"#6ece58\"], [0.8888888888888888, \"#b5de2b\"], [1.0, \"#fde725\"]]}, \"colorway\": [\"#1F77B4\", \"#FF7F0E\", \"#2CA02C\", \"#D62728\", \"#9467BD\", \"#8C564B\", \"#E377C2\", \"#7F7F7F\", \"#BCBD22\", \"#17BECF\"], \"font\": {\"color\": \"rgb(36,36,36)\"}, \"geo\": {\"bgcolor\": \"white\", \"lakecolor\": \"white\", \"landcolor\": \"white\", \"showlakes\": true, \"showland\": true, \"subunitcolor\": \"white\"}, \"hoverlabel\": {\"align\": \"left\"}, \"hovermode\": \"closest\", \"mapbox\": {\"style\": \"light\"}, \"paper_bgcolor\": \"white\", \"plot_bgcolor\": \"white\", \"polar\": {\"angularaxis\": {\"gridcolor\": \"rgb(232,232,232)\", \"linecolor\": \"rgb(36,36,36)\", \"showgrid\": false, \"showline\": true, \"ticks\": \"outside\"}, \"bgcolor\": \"white\", \"radialaxis\": {\"gridcolor\": \"rgb(232,232,232)\", \"linecolor\": \"rgb(36,36,36)\", \"showgrid\": false, \"showline\": true, \"ticks\": \"outside\"}}, \"scene\": {\"xaxis\": {\"backgroundcolor\": \"white\", \"gridcolor\": \"rgb(232,232,232)\", \"gridwidth\": 2, \"linecolor\": \"rgb(36,36,36)\", \"showbackground\": true, \"showgrid\": false, \"showline\": true, \"ticks\": \"outside\", \"zeroline\": false, \"zerolinecolor\": \"rgb(36,36,36)\"}, \"yaxis\": {\"backgroundcolor\": \"white\", \"gridcolor\": \"rgb(232,232,232)\", \"gridwidth\": 2, \"linecolor\": \"rgb(36,36,36)\", \"showbackground\": true, \"showgrid\": false, \"showline\": true, \"ticks\": \"outside\", \"zeroline\": false, \"zerolinecolor\": \"rgb(36,36,36)\"}, \"zaxis\": {\"backgroundcolor\": \"white\", \"gridcolor\": \"rgb(232,232,232)\", \"gridwidth\": 2, \"linecolor\": \"rgb(36,36,36)\", \"showbackground\": true, \"showgrid\": false, \"showline\": true, \"ticks\": \"outside\", \"zeroline\": false, \"zerolinecolor\": \"rgb(36,36,36)\"}}, \"shapedefaults\": {\"fillcolor\": \"black\", \"line\": {\"width\": 0}, \"opacity\": 0.3}, \"ternary\": {\"aaxis\": {\"gridcolor\": \"rgb(232,232,232)\", \"linecolor\": \"rgb(36,36,36)\", \"showgrid\": false, \"showline\": true, \"ticks\": \"outside\"}, \"baxis\": {\"gridcolor\": \"rgb(232,232,232)\", \"linecolor\": \"rgb(36,36,36)\", \"showgrid\": false, \"showline\": true, \"ticks\": \"outside\"}, \"bgcolor\": \"white\", \"caxis\": {\"gridcolor\": \"rgb(232,232,232)\", \"linecolor\": \"rgb(36,36,36)\", \"showgrid\": false, \"showline\": true, \"ticks\": \"outside\"}}, \"title\": {\"x\": 0.05}, \"xaxis\": {\"automargin\": true, \"gridcolor\": \"rgb(232,232,232)\", \"linecolor\": \"rgb(36,36,36)\", \"showgrid\": false, \"showline\": true, \"ticks\": \"outside\", \"title\": {\"standoff\": 15}, \"zeroline\": false, \"zerolinecolor\": \"rgb(36,36,36)\"}, \"yaxis\": {\"automargin\": true, \"gridcolor\": \"rgb(232,232,232)\", \"linecolor\": \"rgb(36,36,36)\", \"showgrid\": false, \"showline\": true, \"ticks\": \"outside\", \"title\": {\"standoff\": 15}, \"zeroline\": false, \"zerolinecolor\": \"rgb(36,36,36)\"}}}, \"title\": {\"font\": {\"color\": \"Black\", \"size\": 22}, \"text\": \"<b>Intertopic Distance Map\", \"x\": 0.5, \"xanchor\": \"center\", \"y\": 0.95, \"yanchor\": \"top\"}, \"width\": 650, \"xaxis\": {\"anchor\": \"y\", \"domain\": [0.0, 1.0], \"range\": [6.349706935882568, 11.133501768112183], \"title\": {\"text\": \"\"}, \"visible\": false}, \"yaxis\": {\"anchor\": \"x\", \"domain\": [0.0, 1.0], \"range\": [8.730054044723511, 14.134471654891968], \"title\": {\"text\": \"\"}, \"visible\": false}},                        {\"responsive\": true}                    ).then(function(){\n",
              "                            \n",
              "var gd = document.getElementById('8df5d636-4106-47fa-8526-7fd50b8e5559');\n",
              "var x = new MutationObserver(function (mutations, observer) {{\n",
              "        var display = window.getComputedStyle(gd).display;\n",
              "        if (!display || display === 'none') {{\n",
              "            console.log([gd, 'removed!']);\n",
              "            Plotly.purge(gd);\n",
              "            observer.disconnect();\n",
              "        }}\n",
              "}});\n",
              "\n",
              "// Listen for the removal of the full notebook cells\n",
              "var notebookContainer = gd.closest('#notebook-container');\n",
              "if (notebookContainer) {{\n",
              "    x.observe(notebookContainer, {childList: true});\n",
              "}}\n",
              "\n",
              "// Listen for the clearing of the current output cell\n",
              "var outputEl = gd.closest('.output');\n",
              "if (outputEl) {{\n",
              "    x.observe(outputEl, {childList: true});\n",
              "}}\n",
              "\n",
              "                        })                };                            </script>        </div>\n",
              "</body>\n",
              "</html>"
            ]
          },
          "metadata": {
            "tags": []
          }
        }
      ]
    },
    {
      "cell_type": "code",
      "metadata": {
        "colab": {
          "base_uri": "https://localhost:8080/",
          "height": 617
        },
        "id": "AZVampscoZu_",
        "outputId": "8a75bf0b-ed66-4404-ab3c-754832e34c3f"
      },
      "source": [
        "topic_model.visualize_distribution(probs[0])"
      ],
      "execution_count": 1189,
      "outputs": [
        {
          "output_type": "display_data",
          "data": {
            "text/html": [
              "<html>\n",
              "<head><meta charset=\"utf-8\" /></head>\n",
              "<body>\n",
              "    <div>            <script src=\"https://cdnjs.cloudflare.com/ajax/libs/mathjax/2.7.5/MathJax.js?config=TeX-AMS-MML_SVG\"></script><script type=\"text/javascript\">if (window.MathJax) {MathJax.Hub.Config({SVG: {font: \"STIX-Web\"}});}</script>                <script type=\"text/javascript\">window.PlotlyConfig = {MathJaxConfig: 'local'};</script>\n",
              "        <script src=\"https://cdn.plot.ly/plotly-latest.min.js\"></script>                <div id=\"e1ee0219-0d57-4f54-9804-56dae92f3e45\" class=\"plotly-graph-div\" style=\"height:600px; width:800px;\"></div>            <script type=\"text/javascript\">                                    window.PLOTLYENV=window.PLOTLYENV || {};                                    if (document.getElementById(\"e1ee0219-0d57-4f54-9804-56dae92f3e45\")) {                    Plotly.newPlot(                        \"e1ee0219-0d57-4f54-9804-56dae92f3e45\",                        [{\"marker\": {\"color\": \"#C8D2D7\", \"line\": {\"color\": \"#6E8484\", \"width\": 1}}, \"orientation\": \"h\", \"type\": \"bar\", \"x\": [1.0], \"y\": [\"<b>Topic 1</b>: flow_modflow_water_hydra...\"]}],                        {\"height\": 600, \"hoverlabel\": {\"bgcolor\": \"white\", \"font\": {\"family\": \"Rockwell\", \"size\": 16}}, \"template\": {\"data\": {\"bar\": [{\"error_x\": {\"color\": \"rgb(36,36,36)\"}, \"error_y\": {\"color\": \"rgb(36,36,36)\"}, \"marker\": {\"line\": {\"color\": \"white\", \"width\": 0.5}}, \"type\": \"bar\"}], \"barpolar\": [{\"marker\": {\"line\": {\"color\": \"white\", \"width\": 0.5}}, \"type\": \"barpolar\"}], \"carpet\": [{\"aaxis\": {\"endlinecolor\": \"rgb(36,36,36)\", \"gridcolor\": \"white\", \"linecolor\": \"white\", \"minorgridcolor\": \"white\", \"startlinecolor\": \"rgb(36,36,36)\"}, \"baxis\": {\"endlinecolor\": \"rgb(36,36,36)\", \"gridcolor\": \"white\", \"linecolor\": \"white\", \"minorgridcolor\": \"white\", \"startlinecolor\": \"rgb(36,36,36)\"}, \"type\": \"carpet\"}], \"choropleth\": [{\"colorbar\": {\"outlinewidth\": 1, \"tickcolor\": \"rgb(36,36,36)\", \"ticks\": \"outside\"}, \"type\": \"choropleth\"}], \"contour\": [{\"colorbar\": {\"outlinewidth\": 1, \"tickcolor\": \"rgb(36,36,36)\", \"ticks\": \"outside\"}, \"colorscale\": [[0.0, \"#440154\"], [0.1111111111111111, \"#482878\"], [0.2222222222222222, \"#3e4989\"], [0.3333333333333333, \"#31688e\"], [0.4444444444444444, \"#26828e\"], [0.5555555555555556, \"#1f9e89\"], [0.6666666666666666, \"#35b779\"], [0.7777777777777778, \"#6ece58\"], [0.8888888888888888, \"#b5de2b\"], [1.0, \"#fde725\"]], \"type\": \"contour\"}], \"contourcarpet\": [{\"colorbar\": {\"outlinewidth\": 1, \"tickcolor\": \"rgb(36,36,36)\", \"ticks\": \"outside\"}, \"type\": \"contourcarpet\"}], \"heatmap\": [{\"colorbar\": {\"outlinewidth\": 1, \"tickcolor\": \"rgb(36,36,36)\", \"ticks\": \"outside\"}, \"colorscale\": [[0.0, \"#440154\"], [0.1111111111111111, \"#482878\"], [0.2222222222222222, \"#3e4989\"], [0.3333333333333333, \"#31688e\"], [0.4444444444444444, \"#26828e\"], [0.5555555555555556, \"#1f9e89\"], [0.6666666666666666, \"#35b779\"], [0.7777777777777778, \"#6ece58\"], [0.8888888888888888, \"#b5de2b\"], [1.0, \"#fde725\"]], \"type\": \"heatmap\"}], \"heatmapgl\": [{\"colorbar\": {\"outlinewidth\": 1, \"tickcolor\": \"rgb(36,36,36)\", \"ticks\": \"outside\"}, \"colorscale\": [[0.0, \"#440154\"], [0.1111111111111111, \"#482878\"], [0.2222222222222222, \"#3e4989\"], [0.3333333333333333, \"#31688e\"], [0.4444444444444444, \"#26828e\"], [0.5555555555555556, \"#1f9e89\"], [0.6666666666666666, \"#35b779\"], [0.7777777777777778, \"#6ece58\"], [0.8888888888888888, \"#b5de2b\"], [1.0, \"#fde725\"]], \"type\": \"heatmapgl\"}], \"histogram\": [{\"marker\": {\"line\": {\"color\": \"white\", \"width\": 0.6}}, \"type\": \"histogram\"}], \"histogram2d\": [{\"colorbar\": {\"outlinewidth\": 1, \"tickcolor\": \"rgb(36,36,36)\", \"ticks\": \"outside\"}, \"colorscale\": [[0.0, \"#440154\"], [0.1111111111111111, \"#482878\"], [0.2222222222222222, \"#3e4989\"], [0.3333333333333333, \"#31688e\"], [0.4444444444444444, \"#26828e\"], [0.5555555555555556, \"#1f9e89\"], [0.6666666666666666, \"#35b779\"], [0.7777777777777778, \"#6ece58\"], [0.8888888888888888, \"#b5de2b\"], [1.0, \"#fde725\"]], \"type\": \"histogram2d\"}], \"histogram2dcontour\": [{\"colorbar\": {\"outlinewidth\": 1, \"tickcolor\": \"rgb(36,36,36)\", \"ticks\": \"outside\"}, \"colorscale\": [[0.0, \"#440154\"], [0.1111111111111111, \"#482878\"], [0.2222222222222222, \"#3e4989\"], [0.3333333333333333, \"#31688e\"], [0.4444444444444444, \"#26828e\"], [0.5555555555555556, \"#1f9e89\"], [0.6666666666666666, \"#35b779\"], [0.7777777777777778, \"#6ece58\"], [0.8888888888888888, \"#b5de2b\"], [1.0, \"#fde725\"]], \"type\": \"histogram2dcontour\"}], \"mesh3d\": [{\"colorbar\": {\"outlinewidth\": 1, \"tickcolor\": \"rgb(36,36,36)\", \"ticks\": \"outside\"}, \"type\": \"mesh3d\"}], \"parcoords\": [{\"line\": {\"colorbar\": {\"outlinewidth\": 1, \"tickcolor\": \"rgb(36,36,36)\", \"ticks\": \"outside\"}}, \"type\": \"parcoords\"}], \"pie\": [{\"automargin\": true, \"type\": \"pie\"}], \"scatter\": [{\"marker\": {\"colorbar\": {\"outlinewidth\": 1, \"tickcolor\": \"rgb(36,36,36)\", \"ticks\": \"outside\"}}, \"type\": \"scatter\"}], \"scatter3d\": [{\"line\": {\"colorbar\": {\"outlinewidth\": 1, \"tickcolor\": \"rgb(36,36,36)\", \"ticks\": \"outside\"}}, \"marker\": {\"colorbar\": {\"outlinewidth\": 1, \"tickcolor\": \"rgb(36,36,36)\", \"ticks\": \"outside\"}}, \"type\": \"scatter3d\"}], \"scattercarpet\": [{\"marker\": {\"colorbar\": {\"outlinewidth\": 1, \"tickcolor\": \"rgb(36,36,36)\", \"ticks\": \"outside\"}}, \"type\": \"scattercarpet\"}], \"scattergeo\": [{\"marker\": {\"colorbar\": {\"outlinewidth\": 1, \"tickcolor\": \"rgb(36,36,36)\", \"ticks\": \"outside\"}}, \"type\": \"scattergeo\"}], \"scattergl\": [{\"marker\": {\"colorbar\": {\"outlinewidth\": 1, \"tickcolor\": \"rgb(36,36,36)\", \"ticks\": \"outside\"}}, \"type\": \"scattergl\"}], \"scattermapbox\": [{\"marker\": {\"colorbar\": {\"outlinewidth\": 1, \"tickcolor\": \"rgb(36,36,36)\", \"ticks\": \"outside\"}}, \"type\": \"scattermapbox\"}], \"scatterpolar\": [{\"marker\": {\"colorbar\": {\"outlinewidth\": 1, \"tickcolor\": \"rgb(36,36,36)\", \"ticks\": \"outside\"}}, \"type\": \"scatterpolar\"}], \"scatterpolargl\": [{\"marker\": {\"colorbar\": {\"outlinewidth\": 1, \"tickcolor\": \"rgb(36,36,36)\", \"ticks\": \"outside\"}}, \"type\": \"scatterpolargl\"}], \"scatterternary\": [{\"marker\": {\"colorbar\": {\"outlinewidth\": 1, \"tickcolor\": \"rgb(36,36,36)\", \"ticks\": \"outside\"}}, \"type\": \"scatterternary\"}], \"surface\": [{\"colorbar\": {\"outlinewidth\": 1, \"tickcolor\": \"rgb(36,36,36)\", \"ticks\": \"outside\"}, \"colorscale\": [[0.0, \"#440154\"], [0.1111111111111111, \"#482878\"], [0.2222222222222222, \"#3e4989\"], [0.3333333333333333, \"#31688e\"], [0.4444444444444444, \"#26828e\"], [0.5555555555555556, \"#1f9e89\"], [0.6666666666666666, \"#35b779\"], [0.7777777777777778, \"#6ece58\"], [0.8888888888888888, \"#b5de2b\"], [1.0, \"#fde725\"]], \"type\": \"surface\"}], \"table\": [{\"cells\": {\"fill\": {\"color\": \"rgb(237,237,237)\"}, \"line\": {\"color\": \"white\"}}, \"header\": {\"fill\": {\"color\": \"rgb(217,217,217)\"}, \"line\": {\"color\": \"white\"}}, \"type\": \"table\"}]}, \"layout\": {\"annotationdefaults\": {\"arrowhead\": 0, \"arrowwidth\": 1}, \"autotypenumbers\": \"strict\", \"coloraxis\": {\"colorbar\": {\"outlinewidth\": 1, \"tickcolor\": \"rgb(36,36,36)\", \"ticks\": \"outside\"}}, \"colorscale\": {\"diverging\": [[0.0, \"rgb(103,0,31)\"], [0.1, \"rgb(178,24,43)\"], [0.2, \"rgb(214,96,77)\"], [0.3, \"rgb(244,165,130)\"], [0.4, \"rgb(253,219,199)\"], [0.5, \"rgb(247,247,247)\"], [0.6, \"rgb(209,229,240)\"], [0.7, \"rgb(146,197,222)\"], [0.8, \"rgb(67,147,195)\"], [0.9, \"rgb(33,102,172)\"], [1.0, \"rgb(5,48,97)\"]], \"sequential\": [[0.0, \"#440154\"], [0.1111111111111111, \"#482878\"], [0.2222222222222222, \"#3e4989\"], [0.3333333333333333, \"#31688e\"], [0.4444444444444444, \"#26828e\"], [0.5555555555555556, \"#1f9e89\"], [0.6666666666666666, \"#35b779\"], [0.7777777777777778, \"#6ece58\"], [0.8888888888888888, \"#b5de2b\"], [1.0, \"#fde725\"]], \"sequentialminus\": [[0.0, \"#440154\"], [0.1111111111111111, \"#482878\"], [0.2222222222222222, \"#3e4989\"], [0.3333333333333333, \"#31688e\"], [0.4444444444444444, \"#26828e\"], [0.5555555555555556, \"#1f9e89\"], [0.6666666666666666, \"#35b779\"], [0.7777777777777778, \"#6ece58\"], [0.8888888888888888, \"#b5de2b\"], [1.0, \"#fde725\"]]}, \"colorway\": [\"#1F77B4\", \"#FF7F0E\", \"#2CA02C\", \"#D62728\", \"#9467BD\", \"#8C564B\", \"#E377C2\", \"#7F7F7F\", \"#BCBD22\", \"#17BECF\"], \"font\": {\"color\": \"rgb(36,36,36)\"}, \"geo\": {\"bgcolor\": \"white\", \"lakecolor\": \"white\", \"landcolor\": \"white\", \"showlakes\": true, \"showland\": true, \"subunitcolor\": \"white\"}, \"hoverlabel\": {\"align\": \"left\"}, \"hovermode\": \"closest\", \"mapbox\": {\"style\": \"light\"}, \"paper_bgcolor\": \"white\", \"plot_bgcolor\": \"white\", \"polar\": {\"angularaxis\": {\"gridcolor\": \"rgb(232,232,232)\", \"linecolor\": \"rgb(36,36,36)\", \"showgrid\": false, \"showline\": true, \"ticks\": \"outside\"}, \"bgcolor\": \"white\", \"radialaxis\": {\"gridcolor\": \"rgb(232,232,232)\", \"linecolor\": \"rgb(36,36,36)\", \"showgrid\": false, \"showline\": true, \"ticks\": \"outside\"}}, \"scene\": {\"xaxis\": {\"backgroundcolor\": \"white\", \"gridcolor\": \"rgb(232,232,232)\", \"gridwidth\": 2, \"linecolor\": \"rgb(36,36,36)\", \"showbackground\": true, \"showgrid\": false, \"showline\": true, \"ticks\": \"outside\", \"zeroline\": false, \"zerolinecolor\": \"rgb(36,36,36)\"}, \"yaxis\": {\"backgroundcolor\": \"white\", \"gridcolor\": \"rgb(232,232,232)\", \"gridwidth\": 2, \"linecolor\": \"rgb(36,36,36)\", \"showbackground\": true, \"showgrid\": false, \"showline\": true, \"ticks\": \"outside\", \"zeroline\": false, \"zerolinecolor\": \"rgb(36,36,36)\"}, \"zaxis\": {\"backgroundcolor\": \"white\", \"gridcolor\": \"rgb(232,232,232)\", \"gridwidth\": 2, \"linecolor\": \"rgb(36,36,36)\", \"showbackground\": true, \"showgrid\": false, \"showline\": true, \"ticks\": \"outside\", \"zeroline\": false, \"zerolinecolor\": \"rgb(36,36,36)\"}}, \"shapedefaults\": {\"fillcolor\": \"black\", \"line\": {\"width\": 0}, \"opacity\": 0.3}, \"ternary\": {\"aaxis\": {\"gridcolor\": \"rgb(232,232,232)\", \"linecolor\": \"rgb(36,36,36)\", \"showgrid\": false, \"showline\": true, \"ticks\": \"outside\"}, \"baxis\": {\"gridcolor\": \"rgb(232,232,232)\", \"linecolor\": \"rgb(36,36,36)\", \"showgrid\": false, \"showline\": true, \"ticks\": \"outside\"}, \"bgcolor\": \"white\", \"caxis\": {\"gridcolor\": \"rgb(232,232,232)\", \"linecolor\": \"rgb(36,36,36)\", \"showgrid\": false, \"showline\": true, \"ticks\": \"outside\"}}, \"title\": {\"x\": 0.05}, \"xaxis\": {\"automargin\": true, \"gridcolor\": \"rgb(232,232,232)\", \"linecolor\": \"rgb(36,36,36)\", \"showgrid\": false, \"showline\": true, \"ticks\": \"outside\", \"title\": {\"standoff\": 15}, \"zeroline\": false, \"zerolinecolor\": \"rgb(36,36,36)\"}, \"yaxis\": {\"automargin\": true, \"gridcolor\": \"rgb(232,232,232)\", \"linecolor\": \"rgb(36,36,36)\", \"showgrid\": false, \"showline\": true, \"ticks\": \"outside\", \"title\": {\"standoff\": 15}, \"zeroline\": false, \"zerolinecolor\": \"rgb(36,36,36)\"}}}, \"title\": {\"font\": {\"color\": \"Black\", \"size\": 22}, \"text\": \"<b>Topic Probability Distribution\", \"x\": 0.5, \"xanchor\": \"center\", \"y\": 0.95, \"yanchor\": \"top\"}, \"width\": 800, \"xaxis\": {\"title\": {\"text\": \"Probability\"}}},                        {\"responsive\": true}                    ).then(function(){\n",
              "                            \n",
              "var gd = document.getElementById('e1ee0219-0d57-4f54-9804-56dae92f3e45');\n",
              "var x = new MutationObserver(function (mutations, observer) {{\n",
              "        var display = window.getComputedStyle(gd).display;\n",
              "        if (!display || display === 'none') {{\n",
              "            console.log([gd, 'removed!']);\n",
              "            Plotly.purge(gd);\n",
              "            observer.disconnect();\n",
              "        }}\n",
              "}});\n",
              "\n",
              "// Listen for the removal of the full notebook cells\n",
              "var notebookContainer = gd.closest('#notebook-container');\n",
              "if (notebookContainer) {{\n",
              "    x.observe(notebookContainer, {childList: true});\n",
              "}}\n",
              "\n",
              "// Listen for the clearing of the current output cell\n",
              "var outputEl = gd.closest('.output');\n",
              "if (outputEl) {{\n",
              "    x.observe(outputEl, {childList: true});\n",
              "}}\n",
              "\n",
              "                        })                };                            </script>        </div>\n",
              "</body>\n",
              "</html>"
            ]
          },
          "metadata": {
            "tags": []
          }
        }
      ]
    },
    {
      "cell_type": "code",
      "metadata": {
        "colab": {
          "base_uri": "https://localhost:8080/",
          "height": 617
        },
        "id": "U4LpCXCro0q3",
        "outputId": "06435853-2aa5-4ef5-a8f4-660a78528130"
      },
      "source": [
        "topic_model.visualize_distribution(probs[1])"
      ],
      "execution_count": 1190,
      "outputs": [
        {
          "output_type": "display_data",
          "data": {
            "text/html": [
              "<html>\n",
              "<head><meta charset=\"utf-8\" /></head>\n",
              "<body>\n",
              "    <div>            <script src=\"https://cdnjs.cloudflare.com/ajax/libs/mathjax/2.7.5/MathJax.js?config=TeX-AMS-MML_SVG\"></script><script type=\"text/javascript\">if (window.MathJax) {MathJax.Hub.Config({SVG: {font: \"STIX-Web\"}});}</script>                <script type=\"text/javascript\">window.PlotlyConfig = {MathJaxConfig: 'local'};</script>\n",
              "        <script src=\"https://cdn.plot.ly/plotly-latest.min.js\"></script>                <div id=\"111aea81-4ee3-4544-9a55-1b951390519b\" class=\"plotly-graph-div\" style=\"height:600px; width:800px;\"></div>            <script type=\"text/javascript\">                                    window.PLOTLYENV=window.PLOTLYENV || {};                                    if (document.getElementById(\"111aea81-4ee3-4544-9a55-1b951390519b\")) {                    Plotly.newPlot(                        \"111aea81-4ee3-4544-9a55-1b951390519b\",                        [{\"marker\": {\"color\": \"#C8D2D7\", \"line\": {\"color\": \"#6E8484\", \"width\": 1}}, \"orientation\": \"h\", \"type\": \"bar\", \"x\": [1.0], \"y\": [\"<b>Topic 2</b>: program_rainfall_program...\"]}],                        {\"height\": 600, \"hoverlabel\": {\"bgcolor\": \"white\", \"font\": {\"family\": \"Rockwell\", \"size\": 16}}, \"template\": {\"data\": {\"bar\": [{\"error_x\": {\"color\": \"rgb(36,36,36)\"}, \"error_y\": {\"color\": \"rgb(36,36,36)\"}, \"marker\": {\"line\": {\"color\": \"white\", \"width\": 0.5}}, \"type\": \"bar\"}], \"barpolar\": [{\"marker\": {\"line\": {\"color\": \"white\", \"width\": 0.5}}, \"type\": \"barpolar\"}], \"carpet\": [{\"aaxis\": {\"endlinecolor\": \"rgb(36,36,36)\", \"gridcolor\": \"white\", \"linecolor\": \"white\", \"minorgridcolor\": \"white\", \"startlinecolor\": \"rgb(36,36,36)\"}, \"baxis\": {\"endlinecolor\": \"rgb(36,36,36)\", \"gridcolor\": \"white\", \"linecolor\": \"white\", \"minorgridcolor\": \"white\", \"startlinecolor\": \"rgb(36,36,36)\"}, \"type\": \"carpet\"}], \"choropleth\": [{\"colorbar\": {\"outlinewidth\": 1, \"tickcolor\": \"rgb(36,36,36)\", \"ticks\": \"outside\"}, \"type\": \"choropleth\"}], \"contour\": [{\"colorbar\": {\"outlinewidth\": 1, \"tickcolor\": \"rgb(36,36,36)\", \"ticks\": \"outside\"}, \"colorscale\": [[0.0, \"#440154\"], [0.1111111111111111, \"#482878\"], [0.2222222222222222, \"#3e4989\"], [0.3333333333333333, \"#31688e\"], [0.4444444444444444, \"#26828e\"], [0.5555555555555556, \"#1f9e89\"], [0.6666666666666666, \"#35b779\"], [0.7777777777777778, \"#6ece58\"], [0.8888888888888888, \"#b5de2b\"], [1.0, \"#fde725\"]], \"type\": \"contour\"}], \"contourcarpet\": [{\"colorbar\": {\"outlinewidth\": 1, \"tickcolor\": \"rgb(36,36,36)\", \"ticks\": \"outside\"}, \"type\": \"contourcarpet\"}], \"heatmap\": [{\"colorbar\": {\"outlinewidth\": 1, \"tickcolor\": \"rgb(36,36,36)\", \"ticks\": \"outside\"}, \"colorscale\": [[0.0, \"#440154\"], [0.1111111111111111, \"#482878\"], [0.2222222222222222, \"#3e4989\"], [0.3333333333333333, \"#31688e\"], [0.4444444444444444, \"#26828e\"], [0.5555555555555556, \"#1f9e89\"], [0.6666666666666666, \"#35b779\"], [0.7777777777777778, \"#6ece58\"], [0.8888888888888888, \"#b5de2b\"], [1.0, \"#fde725\"]], \"type\": \"heatmap\"}], \"heatmapgl\": [{\"colorbar\": {\"outlinewidth\": 1, \"tickcolor\": \"rgb(36,36,36)\", \"ticks\": \"outside\"}, \"colorscale\": [[0.0, \"#440154\"], [0.1111111111111111, \"#482878\"], [0.2222222222222222, \"#3e4989\"], [0.3333333333333333, \"#31688e\"], [0.4444444444444444, \"#26828e\"], [0.5555555555555556, \"#1f9e89\"], [0.6666666666666666, \"#35b779\"], [0.7777777777777778, \"#6ece58\"], [0.8888888888888888, \"#b5de2b\"], [1.0, \"#fde725\"]], \"type\": \"heatmapgl\"}], \"histogram\": [{\"marker\": {\"line\": {\"color\": \"white\", \"width\": 0.6}}, \"type\": \"histogram\"}], \"histogram2d\": [{\"colorbar\": {\"outlinewidth\": 1, \"tickcolor\": \"rgb(36,36,36)\", \"ticks\": \"outside\"}, \"colorscale\": [[0.0, \"#440154\"], [0.1111111111111111, \"#482878\"], [0.2222222222222222, \"#3e4989\"], [0.3333333333333333, \"#31688e\"], [0.4444444444444444, \"#26828e\"], [0.5555555555555556, \"#1f9e89\"], [0.6666666666666666, \"#35b779\"], [0.7777777777777778, \"#6ece58\"], [0.8888888888888888, \"#b5de2b\"], [1.0, \"#fde725\"]], \"type\": \"histogram2d\"}], \"histogram2dcontour\": [{\"colorbar\": {\"outlinewidth\": 1, \"tickcolor\": \"rgb(36,36,36)\", \"ticks\": \"outside\"}, \"colorscale\": [[0.0, \"#440154\"], [0.1111111111111111, \"#482878\"], [0.2222222222222222, \"#3e4989\"], [0.3333333333333333, \"#31688e\"], [0.4444444444444444, \"#26828e\"], [0.5555555555555556, \"#1f9e89\"], [0.6666666666666666, \"#35b779\"], [0.7777777777777778, \"#6ece58\"], [0.8888888888888888, \"#b5de2b\"], [1.0, \"#fde725\"]], \"type\": \"histogram2dcontour\"}], \"mesh3d\": [{\"colorbar\": {\"outlinewidth\": 1, \"tickcolor\": \"rgb(36,36,36)\", \"ticks\": \"outside\"}, \"type\": \"mesh3d\"}], \"parcoords\": [{\"line\": {\"colorbar\": {\"outlinewidth\": 1, \"tickcolor\": \"rgb(36,36,36)\", \"ticks\": \"outside\"}}, \"type\": \"parcoords\"}], \"pie\": [{\"automargin\": true, \"type\": \"pie\"}], \"scatter\": [{\"marker\": {\"colorbar\": {\"outlinewidth\": 1, \"tickcolor\": \"rgb(36,36,36)\", \"ticks\": \"outside\"}}, \"type\": \"scatter\"}], \"scatter3d\": [{\"line\": {\"colorbar\": {\"outlinewidth\": 1, \"tickcolor\": \"rgb(36,36,36)\", \"ticks\": \"outside\"}}, \"marker\": {\"colorbar\": {\"outlinewidth\": 1, \"tickcolor\": \"rgb(36,36,36)\", \"ticks\": \"outside\"}}, \"type\": \"scatter3d\"}], \"scattercarpet\": [{\"marker\": {\"colorbar\": {\"outlinewidth\": 1, \"tickcolor\": \"rgb(36,36,36)\", \"ticks\": \"outside\"}}, \"type\": \"scattercarpet\"}], \"scattergeo\": [{\"marker\": {\"colorbar\": {\"outlinewidth\": 1, \"tickcolor\": \"rgb(36,36,36)\", \"ticks\": \"outside\"}}, \"type\": \"scattergeo\"}], \"scattergl\": [{\"marker\": {\"colorbar\": {\"outlinewidth\": 1, \"tickcolor\": \"rgb(36,36,36)\", \"ticks\": \"outside\"}}, \"type\": \"scattergl\"}], \"scattermapbox\": [{\"marker\": {\"colorbar\": {\"outlinewidth\": 1, \"tickcolor\": \"rgb(36,36,36)\", \"ticks\": \"outside\"}}, \"type\": \"scattermapbox\"}], \"scatterpolar\": [{\"marker\": {\"colorbar\": {\"outlinewidth\": 1, \"tickcolor\": \"rgb(36,36,36)\", \"ticks\": \"outside\"}}, \"type\": \"scatterpolar\"}], \"scatterpolargl\": [{\"marker\": {\"colorbar\": {\"outlinewidth\": 1, \"tickcolor\": \"rgb(36,36,36)\", \"ticks\": \"outside\"}}, \"type\": \"scatterpolargl\"}], \"scatterternary\": [{\"marker\": {\"colorbar\": {\"outlinewidth\": 1, \"tickcolor\": \"rgb(36,36,36)\", \"ticks\": \"outside\"}}, \"type\": \"scatterternary\"}], \"surface\": [{\"colorbar\": {\"outlinewidth\": 1, \"tickcolor\": \"rgb(36,36,36)\", \"ticks\": \"outside\"}, \"colorscale\": [[0.0, \"#440154\"], [0.1111111111111111, \"#482878\"], [0.2222222222222222, \"#3e4989\"], [0.3333333333333333, \"#31688e\"], [0.4444444444444444, \"#26828e\"], [0.5555555555555556, \"#1f9e89\"], [0.6666666666666666, \"#35b779\"], [0.7777777777777778, \"#6ece58\"], [0.8888888888888888, \"#b5de2b\"], [1.0, \"#fde725\"]], \"type\": \"surface\"}], \"table\": [{\"cells\": {\"fill\": {\"color\": \"rgb(237,237,237)\"}, \"line\": {\"color\": \"white\"}}, \"header\": {\"fill\": {\"color\": \"rgb(217,217,217)\"}, \"line\": {\"color\": \"white\"}}, \"type\": \"table\"}]}, \"layout\": {\"annotationdefaults\": {\"arrowhead\": 0, \"arrowwidth\": 1}, \"autotypenumbers\": \"strict\", \"coloraxis\": {\"colorbar\": {\"outlinewidth\": 1, \"tickcolor\": \"rgb(36,36,36)\", \"ticks\": \"outside\"}}, \"colorscale\": {\"diverging\": [[0.0, \"rgb(103,0,31)\"], [0.1, \"rgb(178,24,43)\"], [0.2, \"rgb(214,96,77)\"], [0.3, \"rgb(244,165,130)\"], [0.4, \"rgb(253,219,199)\"], [0.5, \"rgb(247,247,247)\"], [0.6, \"rgb(209,229,240)\"], [0.7, \"rgb(146,197,222)\"], [0.8, \"rgb(67,147,195)\"], [0.9, \"rgb(33,102,172)\"], [1.0, \"rgb(5,48,97)\"]], \"sequential\": [[0.0, \"#440154\"], [0.1111111111111111, \"#482878\"], [0.2222222222222222, \"#3e4989\"], [0.3333333333333333, \"#31688e\"], [0.4444444444444444, \"#26828e\"], [0.5555555555555556, \"#1f9e89\"], [0.6666666666666666, \"#35b779\"], [0.7777777777777778, \"#6ece58\"], [0.8888888888888888, \"#b5de2b\"], [1.0, \"#fde725\"]], \"sequentialminus\": [[0.0, \"#440154\"], [0.1111111111111111, \"#482878\"], [0.2222222222222222, \"#3e4989\"], [0.3333333333333333, \"#31688e\"], [0.4444444444444444, \"#26828e\"], [0.5555555555555556, \"#1f9e89\"], [0.6666666666666666, \"#35b779\"], [0.7777777777777778, \"#6ece58\"], [0.8888888888888888, \"#b5de2b\"], [1.0, \"#fde725\"]]}, \"colorway\": [\"#1F77B4\", \"#FF7F0E\", \"#2CA02C\", \"#D62728\", \"#9467BD\", \"#8C564B\", \"#E377C2\", \"#7F7F7F\", \"#BCBD22\", \"#17BECF\"], \"font\": {\"color\": \"rgb(36,36,36)\"}, \"geo\": {\"bgcolor\": \"white\", \"lakecolor\": \"white\", \"landcolor\": \"white\", \"showlakes\": true, \"showland\": true, \"subunitcolor\": \"white\"}, \"hoverlabel\": {\"align\": \"left\"}, \"hovermode\": \"closest\", \"mapbox\": {\"style\": \"light\"}, \"paper_bgcolor\": \"white\", \"plot_bgcolor\": \"white\", \"polar\": {\"angularaxis\": {\"gridcolor\": \"rgb(232,232,232)\", \"linecolor\": \"rgb(36,36,36)\", \"showgrid\": false, \"showline\": true, \"ticks\": \"outside\"}, \"bgcolor\": \"white\", \"radialaxis\": {\"gridcolor\": \"rgb(232,232,232)\", \"linecolor\": \"rgb(36,36,36)\", \"showgrid\": false, \"showline\": true, \"ticks\": \"outside\"}}, \"scene\": {\"xaxis\": {\"backgroundcolor\": \"white\", \"gridcolor\": \"rgb(232,232,232)\", \"gridwidth\": 2, \"linecolor\": \"rgb(36,36,36)\", \"showbackground\": true, \"showgrid\": false, \"showline\": true, \"ticks\": \"outside\", \"zeroline\": false, \"zerolinecolor\": \"rgb(36,36,36)\"}, \"yaxis\": {\"backgroundcolor\": \"white\", \"gridcolor\": \"rgb(232,232,232)\", \"gridwidth\": 2, \"linecolor\": \"rgb(36,36,36)\", \"showbackground\": true, \"showgrid\": false, \"showline\": true, \"ticks\": \"outside\", \"zeroline\": false, \"zerolinecolor\": \"rgb(36,36,36)\"}, \"zaxis\": {\"backgroundcolor\": \"white\", \"gridcolor\": \"rgb(232,232,232)\", \"gridwidth\": 2, \"linecolor\": \"rgb(36,36,36)\", \"showbackground\": true, \"showgrid\": false, \"showline\": true, \"ticks\": \"outside\", \"zeroline\": false, \"zerolinecolor\": \"rgb(36,36,36)\"}}, \"shapedefaults\": {\"fillcolor\": \"black\", \"line\": {\"width\": 0}, \"opacity\": 0.3}, \"ternary\": {\"aaxis\": {\"gridcolor\": \"rgb(232,232,232)\", \"linecolor\": \"rgb(36,36,36)\", \"showgrid\": false, \"showline\": true, \"ticks\": \"outside\"}, \"baxis\": {\"gridcolor\": \"rgb(232,232,232)\", \"linecolor\": \"rgb(36,36,36)\", \"showgrid\": false, \"showline\": true, \"ticks\": \"outside\"}, \"bgcolor\": \"white\", \"caxis\": {\"gridcolor\": \"rgb(232,232,232)\", \"linecolor\": \"rgb(36,36,36)\", \"showgrid\": false, \"showline\": true, \"ticks\": \"outside\"}}, \"title\": {\"x\": 0.05}, \"xaxis\": {\"automargin\": true, \"gridcolor\": \"rgb(232,232,232)\", \"linecolor\": \"rgb(36,36,36)\", \"showgrid\": false, \"showline\": true, \"ticks\": \"outside\", \"title\": {\"standoff\": 15}, \"zeroline\": false, \"zerolinecolor\": \"rgb(36,36,36)\"}, \"yaxis\": {\"automargin\": true, \"gridcolor\": \"rgb(232,232,232)\", \"linecolor\": \"rgb(36,36,36)\", \"showgrid\": false, \"showline\": true, \"ticks\": \"outside\", \"title\": {\"standoff\": 15}, \"zeroline\": false, \"zerolinecolor\": \"rgb(36,36,36)\"}}}, \"title\": {\"font\": {\"color\": \"Black\", \"size\": 22}, \"text\": \"<b>Topic Probability Distribution\", \"x\": 0.5, \"xanchor\": \"center\", \"y\": 0.95, \"yanchor\": \"top\"}, \"width\": 800, \"xaxis\": {\"title\": {\"text\": \"Probability\"}}},                        {\"responsive\": true}                    ).then(function(){\n",
              "                            \n",
              "var gd = document.getElementById('111aea81-4ee3-4544-9a55-1b951390519b');\n",
              "var x = new MutationObserver(function (mutations, observer) {{\n",
              "        var display = window.getComputedStyle(gd).display;\n",
              "        if (!display || display === 'none') {{\n",
              "            console.log([gd, 'removed!']);\n",
              "            Plotly.purge(gd);\n",
              "            observer.disconnect();\n",
              "        }}\n",
              "}});\n",
              "\n",
              "// Listen for the removal of the full notebook cells\n",
              "var notebookContainer = gd.closest('#notebook-container');\n",
              "if (notebookContainer) {{\n",
              "    x.observe(notebookContainer, {childList: true});\n",
              "}}\n",
              "\n",
              "// Listen for the clearing of the current output cell\n",
              "var outputEl = gd.closest('.output');\n",
              "if (outputEl) {{\n",
              "    x.observe(outputEl, {childList: true});\n",
              "}}\n",
              "\n",
              "                        })                };                            </script>        </div>\n",
              "</body>\n",
              "</html>"
            ]
          },
          "metadata": {
            "tags": []
          }
        }
      ]
    },
    {
      "cell_type": "code",
      "metadata": {
        "colab": {
          "base_uri": "https://localhost:8080/",
          "height": 617
        },
        "id": "N5ZGefLEo3Oz",
        "outputId": "89bbf572-d5ea-437a-8d85-7d441a169dfb"
      },
      "source": [
        "topic_model.visualize_distribution(probs[2])"
      ],
      "execution_count": 1191,
      "outputs": [
        {
          "output_type": "display_data",
          "data": {
            "text/html": [
              "<html>\n",
              "<head><meta charset=\"utf-8\" /></head>\n",
              "<body>\n",
              "    <div>            <script src=\"https://cdnjs.cloudflare.com/ajax/libs/mathjax/2.7.5/MathJax.js?config=TeX-AMS-MML_SVG\"></script><script type=\"text/javascript\">if (window.MathJax) {MathJax.Hub.Config({SVG: {font: \"STIX-Web\"}});}</script>                <script type=\"text/javascript\">window.PlotlyConfig = {MathJaxConfig: 'local'};</script>\n",
              "        <script src=\"https://cdn.plot.ly/plotly-latest.min.js\"></script>                <div id=\"0e064d7a-67e9-4c0d-a92d-429f53997dd9\" class=\"plotly-graph-div\" style=\"height:600px; width:800px;\"></div>            <script type=\"text/javascript\">                                    window.PLOTLYENV=window.PLOTLYENV || {};                                    if (document.getElementById(\"0e064d7a-67e9-4c0d-a92d-429f53997dd9\")) {                    Plotly.newPlot(                        \"0e064d7a-67e9-4c0d-a92d-429f53997dd9\",                        [{\"marker\": {\"color\": \"#C8D2D7\", \"line\": {\"color\": \"#6E8484\", \"width\": 1}}, \"orientation\": \"h\", \"type\": \"bar\", \"x\": [0.2081200398097484, 0.0906295652424613, 0.07305806383420906, 0.0672443138755785, 0.06189967787857554, 0.09061384634798979], \"y\": [\"<b>Topic 0</b>: model_water_data_scoops3...\", \"<b>Topic 1</b>: flow_modflow_water_hydra...\", \"<b>Topic 2</b>: program_rainfall_program...\", \"<b>Topic 3</b>: to_transport_flow_surfac...\", \"<b>Topic 4</b>: degradation_the model_ae...\", \"<b>Topic 5</b>: subduction_updated_unite...\"]}],                        {\"height\": 600, \"hoverlabel\": {\"bgcolor\": \"white\", \"font\": {\"family\": \"Rockwell\", \"size\": 16}}, \"template\": {\"data\": {\"bar\": [{\"error_x\": {\"color\": \"rgb(36,36,36)\"}, \"error_y\": {\"color\": \"rgb(36,36,36)\"}, \"marker\": {\"line\": {\"color\": \"white\", \"width\": 0.5}}, \"type\": \"bar\"}], \"barpolar\": [{\"marker\": {\"line\": {\"color\": \"white\", \"width\": 0.5}}, \"type\": \"barpolar\"}], \"carpet\": [{\"aaxis\": {\"endlinecolor\": \"rgb(36,36,36)\", \"gridcolor\": \"white\", \"linecolor\": \"white\", \"minorgridcolor\": \"white\", \"startlinecolor\": \"rgb(36,36,36)\"}, \"baxis\": {\"endlinecolor\": \"rgb(36,36,36)\", \"gridcolor\": \"white\", \"linecolor\": \"white\", \"minorgridcolor\": \"white\", \"startlinecolor\": \"rgb(36,36,36)\"}, \"type\": \"carpet\"}], \"choropleth\": [{\"colorbar\": {\"outlinewidth\": 1, \"tickcolor\": \"rgb(36,36,36)\", \"ticks\": \"outside\"}, \"type\": \"choropleth\"}], \"contour\": [{\"colorbar\": {\"outlinewidth\": 1, \"tickcolor\": \"rgb(36,36,36)\", \"ticks\": \"outside\"}, \"colorscale\": [[0.0, \"#440154\"], [0.1111111111111111, \"#482878\"], [0.2222222222222222, \"#3e4989\"], [0.3333333333333333, \"#31688e\"], [0.4444444444444444, \"#26828e\"], [0.5555555555555556, \"#1f9e89\"], [0.6666666666666666, \"#35b779\"], [0.7777777777777778, \"#6ece58\"], [0.8888888888888888, \"#b5de2b\"], [1.0, \"#fde725\"]], \"type\": \"contour\"}], \"contourcarpet\": [{\"colorbar\": {\"outlinewidth\": 1, \"tickcolor\": \"rgb(36,36,36)\", \"ticks\": \"outside\"}, \"type\": \"contourcarpet\"}], \"heatmap\": [{\"colorbar\": {\"outlinewidth\": 1, \"tickcolor\": \"rgb(36,36,36)\", \"ticks\": \"outside\"}, \"colorscale\": [[0.0, \"#440154\"], [0.1111111111111111, \"#482878\"], [0.2222222222222222, \"#3e4989\"], [0.3333333333333333, \"#31688e\"], [0.4444444444444444, \"#26828e\"], [0.5555555555555556, \"#1f9e89\"], [0.6666666666666666, \"#35b779\"], [0.7777777777777778, \"#6ece58\"], [0.8888888888888888, \"#b5de2b\"], [1.0, \"#fde725\"]], \"type\": \"heatmap\"}], \"heatmapgl\": [{\"colorbar\": {\"outlinewidth\": 1, \"tickcolor\": \"rgb(36,36,36)\", \"ticks\": \"outside\"}, \"colorscale\": [[0.0, \"#440154\"], [0.1111111111111111, \"#482878\"], [0.2222222222222222, \"#3e4989\"], [0.3333333333333333, \"#31688e\"], [0.4444444444444444, \"#26828e\"], [0.5555555555555556, \"#1f9e89\"], [0.6666666666666666, \"#35b779\"], [0.7777777777777778, \"#6ece58\"], [0.8888888888888888, \"#b5de2b\"], [1.0, \"#fde725\"]], \"type\": \"heatmapgl\"}], \"histogram\": [{\"marker\": {\"line\": {\"color\": \"white\", \"width\": 0.6}}, \"type\": \"histogram\"}], \"histogram2d\": [{\"colorbar\": {\"outlinewidth\": 1, \"tickcolor\": \"rgb(36,36,36)\", \"ticks\": \"outside\"}, \"colorscale\": [[0.0, \"#440154\"], [0.1111111111111111, \"#482878\"], [0.2222222222222222, \"#3e4989\"], [0.3333333333333333, \"#31688e\"], [0.4444444444444444, \"#26828e\"], [0.5555555555555556, \"#1f9e89\"], [0.6666666666666666, \"#35b779\"], [0.7777777777777778, \"#6ece58\"], [0.8888888888888888, \"#b5de2b\"], [1.0, \"#fde725\"]], \"type\": \"histogram2d\"}], \"histogram2dcontour\": [{\"colorbar\": {\"outlinewidth\": 1, \"tickcolor\": \"rgb(36,36,36)\", \"ticks\": \"outside\"}, \"colorscale\": [[0.0, \"#440154\"], [0.1111111111111111, \"#482878\"], [0.2222222222222222, \"#3e4989\"], [0.3333333333333333, \"#31688e\"], [0.4444444444444444, \"#26828e\"], [0.5555555555555556, \"#1f9e89\"], [0.6666666666666666, \"#35b779\"], [0.7777777777777778, \"#6ece58\"], [0.8888888888888888, \"#b5de2b\"], [1.0, \"#fde725\"]], \"type\": \"histogram2dcontour\"}], \"mesh3d\": [{\"colorbar\": {\"outlinewidth\": 1, \"tickcolor\": \"rgb(36,36,36)\", \"ticks\": \"outside\"}, \"type\": \"mesh3d\"}], \"parcoords\": [{\"line\": {\"colorbar\": {\"outlinewidth\": 1, \"tickcolor\": \"rgb(36,36,36)\", \"ticks\": \"outside\"}}, \"type\": \"parcoords\"}], \"pie\": [{\"automargin\": true, \"type\": \"pie\"}], \"scatter\": [{\"marker\": {\"colorbar\": {\"outlinewidth\": 1, \"tickcolor\": \"rgb(36,36,36)\", \"ticks\": \"outside\"}}, \"type\": \"scatter\"}], \"scatter3d\": [{\"line\": {\"colorbar\": {\"outlinewidth\": 1, \"tickcolor\": \"rgb(36,36,36)\", \"ticks\": \"outside\"}}, \"marker\": {\"colorbar\": {\"outlinewidth\": 1, \"tickcolor\": \"rgb(36,36,36)\", \"ticks\": \"outside\"}}, \"type\": \"scatter3d\"}], \"scattercarpet\": [{\"marker\": {\"colorbar\": {\"outlinewidth\": 1, \"tickcolor\": \"rgb(36,36,36)\", \"ticks\": \"outside\"}}, \"type\": \"scattercarpet\"}], \"scattergeo\": [{\"marker\": {\"colorbar\": {\"outlinewidth\": 1, \"tickcolor\": \"rgb(36,36,36)\", \"ticks\": \"outside\"}}, \"type\": \"scattergeo\"}], \"scattergl\": [{\"marker\": {\"colorbar\": {\"outlinewidth\": 1, \"tickcolor\": \"rgb(36,36,36)\", \"ticks\": \"outside\"}}, \"type\": \"scattergl\"}], \"scattermapbox\": [{\"marker\": {\"colorbar\": {\"outlinewidth\": 1, \"tickcolor\": \"rgb(36,36,36)\", \"ticks\": \"outside\"}}, \"type\": \"scattermapbox\"}], \"scatterpolar\": [{\"marker\": {\"colorbar\": {\"outlinewidth\": 1, \"tickcolor\": \"rgb(36,36,36)\", \"ticks\": \"outside\"}}, \"type\": \"scatterpolar\"}], \"scatterpolargl\": [{\"marker\": {\"colorbar\": {\"outlinewidth\": 1, \"tickcolor\": \"rgb(36,36,36)\", \"ticks\": \"outside\"}}, \"type\": \"scatterpolargl\"}], \"scatterternary\": [{\"marker\": {\"colorbar\": {\"outlinewidth\": 1, \"tickcolor\": \"rgb(36,36,36)\", \"ticks\": \"outside\"}}, \"type\": \"scatterternary\"}], \"surface\": [{\"colorbar\": {\"outlinewidth\": 1, \"tickcolor\": \"rgb(36,36,36)\", \"ticks\": \"outside\"}, \"colorscale\": [[0.0, \"#440154\"], [0.1111111111111111, \"#482878\"], [0.2222222222222222, \"#3e4989\"], [0.3333333333333333, \"#31688e\"], [0.4444444444444444, \"#26828e\"], [0.5555555555555556, \"#1f9e89\"], [0.6666666666666666, \"#35b779\"], [0.7777777777777778, \"#6ece58\"], [0.8888888888888888, \"#b5de2b\"], [1.0, \"#fde725\"]], \"type\": \"surface\"}], \"table\": [{\"cells\": {\"fill\": {\"color\": \"rgb(237,237,237)\"}, \"line\": {\"color\": \"white\"}}, \"header\": {\"fill\": {\"color\": \"rgb(217,217,217)\"}, \"line\": {\"color\": \"white\"}}, \"type\": \"table\"}]}, \"layout\": {\"annotationdefaults\": {\"arrowhead\": 0, \"arrowwidth\": 1}, \"autotypenumbers\": \"strict\", \"coloraxis\": {\"colorbar\": {\"outlinewidth\": 1, \"tickcolor\": \"rgb(36,36,36)\", \"ticks\": \"outside\"}}, \"colorscale\": {\"diverging\": [[0.0, \"rgb(103,0,31)\"], [0.1, \"rgb(178,24,43)\"], [0.2, \"rgb(214,96,77)\"], [0.3, \"rgb(244,165,130)\"], [0.4, \"rgb(253,219,199)\"], [0.5, \"rgb(247,247,247)\"], [0.6, \"rgb(209,229,240)\"], [0.7, \"rgb(146,197,222)\"], [0.8, \"rgb(67,147,195)\"], [0.9, \"rgb(33,102,172)\"], [1.0, \"rgb(5,48,97)\"]], \"sequential\": [[0.0, \"#440154\"], [0.1111111111111111, \"#482878\"], [0.2222222222222222, \"#3e4989\"], [0.3333333333333333, \"#31688e\"], [0.4444444444444444, \"#26828e\"], [0.5555555555555556, \"#1f9e89\"], [0.6666666666666666, \"#35b779\"], [0.7777777777777778, \"#6ece58\"], [0.8888888888888888, \"#b5de2b\"], [1.0, \"#fde725\"]], \"sequentialminus\": [[0.0, \"#440154\"], [0.1111111111111111, \"#482878\"], [0.2222222222222222, \"#3e4989\"], [0.3333333333333333, \"#31688e\"], [0.4444444444444444, \"#26828e\"], [0.5555555555555556, \"#1f9e89\"], [0.6666666666666666, \"#35b779\"], [0.7777777777777778, \"#6ece58\"], [0.8888888888888888, \"#b5de2b\"], [1.0, \"#fde725\"]]}, \"colorway\": [\"#1F77B4\", \"#FF7F0E\", \"#2CA02C\", \"#D62728\", \"#9467BD\", \"#8C564B\", \"#E377C2\", \"#7F7F7F\", \"#BCBD22\", \"#17BECF\"], \"font\": {\"color\": \"rgb(36,36,36)\"}, \"geo\": {\"bgcolor\": \"white\", \"lakecolor\": \"white\", \"landcolor\": \"white\", \"showlakes\": true, \"showland\": true, \"subunitcolor\": \"white\"}, \"hoverlabel\": {\"align\": \"left\"}, \"hovermode\": \"closest\", \"mapbox\": {\"style\": \"light\"}, \"paper_bgcolor\": \"white\", \"plot_bgcolor\": \"white\", \"polar\": {\"angularaxis\": {\"gridcolor\": \"rgb(232,232,232)\", \"linecolor\": \"rgb(36,36,36)\", \"showgrid\": false, \"showline\": true, \"ticks\": \"outside\"}, \"bgcolor\": \"white\", \"radialaxis\": {\"gridcolor\": \"rgb(232,232,232)\", \"linecolor\": \"rgb(36,36,36)\", \"showgrid\": false, \"showline\": true, \"ticks\": \"outside\"}}, \"scene\": {\"xaxis\": {\"backgroundcolor\": \"white\", \"gridcolor\": \"rgb(232,232,232)\", \"gridwidth\": 2, \"linecolor\": \"rgb(36,36,36)\", \"showbackground\": true, \"showgrid\": false, \"showline\": true, \"ticks\": \"outside\", \"zeroline\": false, \"zerolinecolor\": \"rgb(36,36,36)\"}, \"yaxis\": {\"backgroundcolor\": \"white\", \"gridcolor\": \"rgb(232,232,232)\", \"gridwidth\": 2, \"linecolor\": \"rgb(36,36,36)\", \"showbackground\": true, \"showgrid\": false, \"showline\": true, \"ticks\": \"outside\", \"zeroline\": false, \"zerolinecolor\": \"rgb(36,36,36)\"}, \"zaxis\": {\"backgroundcolor\": \"white\", \"gridcolor\": \"rgb(232,232,232)\", \"gridwidth\": 2, \"linecolor\": \"rgb(36,36,36)\", \"showbackground\": true, \"showgrid\": false, \"showline\": true, \"ticks\": \"outside\", \"zeroline\": false, \"zerolinecolor\": \"rgb(36,36,36)\"}}, \"shapedefaults\": {\"fillcolor\": \"black\", \"line\": {\"width\": 0}, \"opacity\": 0.3}, \"ternary\": {\"aaxis\": {\"gridcolor\": \"rgb(232,232,232)\", \"linecolor\": \"rgb(36,36,36)\", \"showgrid\": false, \"showline\": true, \"ticks\": \"outside\"}, \"baxis\": {\"gridcolor\": \"rgb(232,232,232)\", \"linecolor\": \"rgb(36,36,36)\", \"showgrid\": false, \"showline\": true, \"ticks\": \"outside\"}, \"bgcolor\": \"white\", \"caxis\": {\"gridcolor\": \"rgb(232,232,232)\", \"linecolor\": \"rgb(36,36,36)\", \"showgrid\": false, \"showline\": true, \"ticks\": \"outside\"}}, \"title\": {\"x\": 0.05}, \"xaxis\": {\"automargin\": true, \"gridcolor\": \"rgb(232,232,232)\", \"linecolor\": \"rgb(36,36,36)\", \"showgrid\": false, \"showline\": true, \"ticks\": \"outside\", \"title\": {\"standoff\": 15}, \"zeroline\": false, \"zerolinecolor\": \"rgb(36,36,36)\"}, \"yaxis\": {\"automargin\": true, \"gridcolor\": \"rgb(232,232,232)\", \"linecolor\": \"rgb(36,36,36)\", \"showgrid\": false, \"showline\": true, \"ticks\": \"outside\", \"title\": {\"standoff\": 15}, \"zeroline\": false, \"zerolinecolor\": \"rgb(36,36,36)\"}}}, \"title\": {\"font\": {\"color\": \"Black\", \"size\": 22}, \"text\": \"<b>Topic Probability Distribution\", \"x\": 0.5, \"xanchor\": \"center\", \"y\": 0.95, \"yanchor\": \"top\"}, \"width\": 800, \"xaxis\": {\"title\": {\"text\": \"Probability\"}}},                        {\"responsive\": true}                    ).then(function(){\n",
              "                            \n",
              "var gd = document.getElementById('0e064d7a-67e9-4c0d-a92d-429f53997dd9');\n",
              "var x = new MutationObserver(function (mutations, observer) {{\n",
              "        var display = window.getComputedStyle(gd).display;\n",
              "        if (!display || display === 'none') {{\n",
              "            console.log([gd, 'removed!']);\n",
              "            Plotly.purge(gd);\n",
              "            observer.disconnect();\n",
              "        }}\n",
              "}});\n",
              "\n",
              "// Listen for the removal of the full notebook cells\n",
              "var notebookContainer = gd.closest('#notebook-container');\n",
              "if (notebookContainer) {{\n",
              "    x.observe(notebookContainer, {childList: true});\n",
              "}}\n",
              "\n",
              "// Listen for the clearing of the current output cell\n",
              "var outputEl = gd.closest('.output');\n",
              "if (outputEl) {{\n",
              "    x.observe(outputEl, {childList: true});\n",
              "}}\n",
              "\n",
              "                        })                };                            </script>        </div>\n",
              "</body>\n",
              "</html>"
            ]
          },
          "metadata": {
            "tags": []
          }
        }
      ]
    },
    {
      "cell_type": "code",
      "metadata": {
        "id": "ORUgEGwio8_v"
      },
      "source": [
        "bertopic_labels = np.argmax(probs, axis=1)\n",
        "dataset['BERTopic_Topic'] = bertopic_labels"
      ],
      "execution_count": 1192,
      "outputs": []
    },
    {
      "cell_type": "code",
      "metadata": {
        "colab": {
          "base_uri": "https://localhost:8080/"
        },
        "id": "4K5ETSl6oac6",
        "outputId": "eabae647-9260-402d-fbad-57d07be5a18a"
      },
      "source": [
        "topic_model.get_params()"
      ],
      "execution_count": 1193,
      "outputs": [
        {
          "output_type": "execute_result",
          "data": {
            "text/plain": [
              "{'calculate_probabilities': True,\n",
              " 'embedding_model': <bertopic.backend._sentencetransformers.SentenceTransformerBackend at 0x7f0719706910>,\n",
              " 'hdbscan_model': HDBSCAN(algorithm='best', allow_single_cluster=False, alpha=1.0,\n",
              "         approx_min_span_tree=True, cluster_selection_epsilon=0.0,\n",
              "         cluster_selection_method='eom', core_dist_n_jobs=4,\n",
              "         gen_min_span_tree=False, leaf_size=40,\n",
              "         match_reference_implementation=False, memory=Memory(location=None),\n",
              "         metric='euclidean', min_cluster_size=2, min_samples=None, p=None,\n",
              "         prediction_data=True),\n",
              " 'language': None,\n",
              " 'low_memory': False,\n",
              " 'min_topic_size': 2,\n",
              " 'n_gram_range': (1, 4),\n",
              " 'nr_topics': None,\n",
              " 'top_n_words': 10,\n",
              " 'umap_model': UMAP(a=None, angular_rp_forest=True, b=None, dens_frac=0.0, dens_lambda=0.0,\n",
              "      dens_var_shift=0.1, densmap=False, disconnection_distance=None,\n",
              "      force_approximation_algorithm=False, init='spectral', learning_rate=1.0,\n",
              "      local_connectivity=1.0, low_memory=False, metric='cosine',\n",
              "      metric_kwds=None, min_dist=0.0, n_components=5, n_epochs=None, n_jobs=-1,\n",
              "      n_neighbors=15, negative_sample_rate=5, output_dens=False,\n",
              "      output_metric='euclidean', output_metric_kwds=None, random_state=None,\n",
              "      repulsion_strength=1.0, set_op_mix_ratio=1.0, spread=1.0,\n",
              "      target_metric='categorical', target_metric_kwds=None, ...),\n",
              " 'vectorizer_model': CountVectorizer(analyzer='word', binary=False, decode_error='strict',\n",
              "                 dtype=<class 'numpy.int64'>, encoding='utf-8', input='content',\n",
              "                 lowercase=True, max_df=1.0, max_features=None, min_df=1,\n",
              "                 ngram_range=(1, 4), preprocessor=None, stop_words=None,\n",
              "                 strip_accents=None, token_pattern='(?u)\\\\b\\\\w\\\\w+\\\\b',\n",
              "                 tokenizer=None, vocabulary=None),\n",
              " 'verbose': False}"
            ]
          },
          "metadata": {
            "tags": []
          },
          "execution_count": 1193
        }
      ]
    },
    {
      "cell_type": "markdown",
      "metadata": {
        "id": "hnwLHlXqiDKO"
      },
      "source": [
        "#### Train Set BERTopic"
      ]
    },
    {
      "cell_type": "markdown",
      "metadata": {
        "id": "W5evja8S1lgp"
      },
      "source": [
        "##### BERTopic Training Coherence Score - n/a"
      ]
    },
    {
      "cell_type": "code",
      "metadata": {
        "id": "cr7bKy_01lr1"
      },
      "source": [
        "# cm = models.CoherenceModel(model= topic_model, corpus = BoW_corpus, texts=document_list, dictionary=dictionary, coherence='u_mass')\n",
        "# lda_score = cm.get_coherence()\n",
        "# lda_score"
      ],
      "execution_count": 1194,
      "outputs": []
    },
    {
      "cell_type": "markdown",
      "metadata": {
        "id": "OkZB828I1l8x"
      },
      "source": [
        "##### BERTopic Training Silhouettte Score 0.01"
      ]
    },
    {
      "cell_type": "code",
      "metadata": {
        "colab": {
          "base_uri": "https://localhost:8080/"
        },
        "id": "nSx4dLkC1mKK",
        "outputId": "3f746354-1f5d-4e79-f64a-1d51d7950175"
      },
      "source": [
        "BERT_score = metrics.silhouette_score(tfidf_vec, bertopic_labels)\n",
        "BERT_score"
      ],
      "execution_count": 1195,
      "outputs": [
        {
          "output_type": "execute_result",
          "data": {
            "text/plain": [
              "0.012702358891645232"
            ]
          },
          "metadata": {
            "tags": []
          },
          "execution_count": 1195
        }
      ]
    },
    {
      "cell_type": "markdown",
      "metadata": {
        "id": "mYA1pEN2iJcu"
      },
      "source": [
        "#### Test Set BERTopic"
      ]
    },
    {
      "cell_type": "code",
      "metadata": {
        "id": "2Axai7uwBK_S"
      },
      "source": [
        "%%capture\n",
        "test_topics, test_probs  = topic_model.transform(test_document_list)\n",
        "test_bertopic_labels = np.argmax(test_probs, axis=1)\n",
        "df_test['BERTopic_Topic'] = test_bertopic_labels"
      ],
      "execution_count": 1196,
      "outputs": []
    },
    {
      "cell_type": "markdown",
      "metadata": {
        "id": "gxhGGMO-CAqc"
      },
      "source": [
        "##### BERTopic Testing Silhouette Score n/a"
      ]
    },
    {
      "cell_type": "code",
      "metadata": {
        "id": "6bKlH-G-CAFc"
      },
      "source": [
        "# BERT_score2 = metrics.silhouette_score(test_points, test_bertopic_labels)\n",
        "# BERT_score2\n",
        "# ValueError: Number of labels is 1. Valid values are 2 to n_samples - 1 (inclusive)"
      ],
      "execution_count": 1197,
      "outputs": []
    },
    {
      "cell_type": "markdown",
      "metadata": {
        "id": "-p6lB04GeRuR"
      },
      "source": [
        "## Compare Models: "
      ]
    },
    {
      "cell_type": "markdown",
      "metadata": {
        "id": "ciPKEIT4wYUf"
      },
      "source": [
        "### Evaluate topics through interactive tables."
      ]
    },
    {
      "cell_type": "markdown",
      "metadata": {
        "id": "G-sPuPoe0tpe"
      },
      "source": [
        "##### Train Set: Titles and Top 5 Words Grouped by Topic\n",
        "\n",
        "Click on the topic columns to sort or click filter to filter by topic."
      ]
    },
    {
      "cell_type": "code",
      "metadata": {
        "colab": {
          "base_uri": "https://localhost:8080/",
          "height": 1090
        },
        "id": "1afd28Inc5sy",
        "outputId": "3432f049-4a65-4871-c618-0bcdd19f8a18"
      },
      "source": [
        "temp = dataset[['Title', 'Common5Words', 'LSA_Topic']]\n",
        "temp.sort_values(['LSA_Topic'])\n",
        "\n",
        "from google.colab import data_table\n",
        "data_table.DataTable(dataset, include_index=False, num_rows_per_page=40)\n"
      ],
      "execution_count": 1198,
      "outputs": [
        {
          "output_type": "execute_result",
          "data": {
            "application/vnd.google.colaboratory.module+javascript": "\n      import \"https://ssl.gstatic.com/colaboratory/data_table/a6224c040fa35dcf/data_table.js\";\n\n      window.createDataTable({\n        data: [[\"1DTempPro V2: New Features for Inferring Groundwater/Surface\\u2010Water Exchange\",\n[\"new\", \"code\", \"estim\", \"hydraul\", \"version\"],\n{\n            'v': 7,\n            'f': \"7\",\n        },\n{\n            'v': 7,\n            'f': \"7\",\n        },\n{\n            'v': -1,\n            'f': \"-1\",\n        },\n{\n            'v': 1,\n            'f': \"1\",\n        }],\n [\"A Bayesian\\u2010Based System to Assess Wave\\u2010Driven Flooding Hazards on Coral Reef\\u2010Lined Coasts\",\n[\"reef\", \"flood\", \"wave\", \"coast\", \"coral\"],\n{\n            'v': 5,\n            'f': \"5\",\n        },\n{\n            'v': 7,\n            'f': \"7\",\n        },\n{\n            'v': 3,\n            'f': \"3\",\n        },\n{\n            'v': 2,\n            'f': \"2\",\n        }],\n [\"A Fractured Rock Geophysical Toolbox Method Selection Tool\",\n[\"base\", \"site\", \"articl\", \"impact\", \"statement\"],\n{\n            'v': 0,\n            'f': \"0\",\n        },\n{\n            'v': 7,\n            'f': \"7\",\n        },\n{\n            'v': -1,\n            'f': \"-1\",\n        },\n{\n            'v': 0,\n            'f': \"0\",\n        }],\n [\"A modular finite-element model (MODFE) for areal and axisymmetric ground-water-flow problems, Part 1: Model Description and User's Manual\",\n[\"flow\", \"finit\", \"element\", \"modf\", \"water\"],\n{\n            'v': 5,\n            'f': \"5\",\n        },\n{\n            'v': 7,\n            'f': \"7\",\n        },\n{\n            'v': 6,\n            'f': \"6\",\n        },\n{\n            'v': 4,\n            'f': \"4\",\n        }],\n [\"A Monthly Water-Balance Model Driven By a Graphical User\\nInterface\",\n[\"month\", \"water\", \"balanc\", \"tool\", \"program\"],\n{\n            'v': 7,\n            'f': \"7\",\n        },\n{\n            'v': 7,\n            'f': \"7\",\n        },\n{\n            'v': 6,\n            'f': \"6\",\n        },\n{\n            'v': 0,\n            'f': \"0\",\n        }],\n [\"AnalyzeHOLE\\u2014An Integrated Wellbore Flow Analysis Tool\",\n[\"well\", \"flow\", \"hydraul\", \"simul\", \"conduct\"],\n{\n            'v': 0,\n            'f': \"0\",\n        },\n{\n            'v': 7,\n            'f': \"7\",\n        },\n{\n            'v': 6,\n            'f': \"6\",\n        },\n{\n            'v': 4,\n            'f': \"4\",\n        }],\n [\"Ash3d: A finite\\u2010volume, conservative numerical model for ash transport and tephra deposition\",\n[\"erupt\", \"ash\", \"volcan\", \"use\", \"distribut\"],\n{\n            'v': 2,\n            'f': \"2\",\n        },\n{\n            'v': 7,\n            'f': \"7\",\n        },\n{\n            'v': -1,\n            'f': \"-1\",\n        },\n{\n            'v': 3,\n            'f': \"3\",\n        }],\n [\"BIOMOC, A Multispecies Solute-Transport Model with\\nBiodegradation\",\n[\"degrad\", \"simul\", \"dimension\", \"transport\", \"aerob\"],\n{\n            'v': 2,\n            'f': \"2\",\n        },\n{\n            'v': 7,\n            'f': \"7\",\n        },\n{\n            'v': 5,\n            'f': \"5\",\n        },\n{\n            'v': 3,\n            'f': \"3\",\n        }],\n [\"Computer programs for limit-equilibrium slope-stability analyses FelleniusGS, BishopGS, and JanbuGS\",\n[\"program\", \"file\", \"use\", \"user\", \"simpl\"],\n{\n            'v': 7,\n            'f': \"7\",\n        },\n{\n            'v': 7,\n            'f': \"7\",\n        },\n{\n            'v': 4,\n            'f': \"4\",\n        },\n{\n            'v': 0,\n            'f': \"0\",\n        }],\n [\"Delft3D - 3D modeling suite to investigate hydrodynamics, sediment transport and morphology and water quality for fluvial, estuarine and coastal environments\",\n[\"modul\", \"flow\", \"transport\", \"wave\", \"3d\"],\n{\n            'v': 6,\n            'f': \"6\",\n        },\n{\n            'v': 7,\n            'f': \"7\",\n        },\n{\n            'v': 3,\n            'f': \"3\",\n        },\n{\n            'v': 1,\n            'f': \"1\",\n        }],\n [\"Development of a Coupled Ocean\\u2013Atmosphere\\u2013Wave\\u2013Sediment Transport (COAWST) Modeling System\",\n[\"coupl\", \"wave\", \"ocean\", \"atmospher\", \"coastal\"],\n{\n            'v': 0,\n            'f': \"0\",\n        },\n{\n            'v': 1,\n            'f': \"1\",\n        },\n{\n            'v': 3,\n            'f': \"3\",\n        },\n{\n            'v': 2,\n            'f': \"2\",\n        }],\n [\"Documentation of a Conduit Flow Process (CFP) for MODFLOW-2005\",\n[\"flow\", \"turbul\", \"laminar\", \"pipe\", \"mode\"],\n{\n            'v': 0,\n            'f': \"0\",\n        },\n{\n            'v': 7,\n            'f': \"7\",\n        },\n{\n            'v': 6,\n            'f': \"6\",\n        },\n{\n            'v': 4,\n            'f': \"4\",\n        }],\n [\"Dynamically Downscaled Climate Simulations over North America: Methods, Evaluation, and Supporting Documentation for Users\",\n[\"simul\", \"climat\", \"futur\", \"provid\", \"present\"],\n{\n            'v': 0,\n            'f': \"0\",\n        },\n{\n            'v': 1,\n            'f': \"1\",\n        },\n{\n            'v': 7,\n            'f': \"7\",\n        },\n{\n            'v': 2,\n            'f': \"2\",\n        }],\n [\"GSFLOW\\u2014Coupled Ground-Water and Surface-Water Flow Model Based on the Integration of the Precipitation-Runoff Modeling System (PRMS) and the Modular Ground-Water Flow Model (MODFLOW-2005)\",\n[\"water\", \"flow\", \"compon\", \"integr\", \"develop\"],\n{\n            'v': 0,\n            'f': \"0\",\n        },\n{\n            'v': 7,\n            'f': \"7\",\n        },\n{\n            'v': 6,\n            'f': \"6\",\n        },\n{\n            'v': 4,\n            'f': \"4\",\n        }],\n [\"HYDROTHERM - A computer code for simulation of two-phase ground-water flow and heat transport\",\n[\"simul\", \"1\", \"boundari\", \"program\", \"ground\"],\n{\n            'v': 7,\n            'f': \"7\",\n        },\n{\n            'v': 7,\n            'f': \"7\",\n        },\n{\n            'v': 6,\n            'f': \"6\",\n        },\n{\n            'v': 1,\n            'f': \"1\",\n        }],\n [\"Massachusetts Reservoir Simulation Tool\\u2014User\\u2019s Manual\",\n[\"reservoir\", \"simul\", \"develop\", \"massachusett\", \"tool\"],\n{\n            'v': 0,\n            'f': \"0\",\n        },\n{\n            'v': 7,\n            'f': \"7\",\n        },\n{\n            'v': 6,\n            'f': \"6\",\n        },\n{\n            'v': 2,\n            'f': \"2\",\n        }],\n [\"MOC3D\",\n[\"transport\", \"simul\", \"ground\", \"water\", \"chemic\"],\n{\n            'v': 2,\n            'f': \"2\",\n        },\n{\n            'v': 7,\n            'f': \"7\",\n        },\n{\n            'v': 5,\n            'f': \"5\",\n        },\n{\n            'v': 3,\n            'f': \"3\",\n        }],\n [\"MODFLOW-NWT, A Newton Formulation for MODFLOW-2005\",\n[\"packag\", \"modflow\", \"flow\", \"use\", \"nwt\"],\n{\n            'v': 0,\n            'f': \"0\",\n        },\n{\n            'v': 1,\n            'f': \"1\",\n        },\n{\n            'v': -1,\n            'f': \"-1\",\n        },\n{\n            'v': 4,\n            'f': \"4\",\n        }],\n [\"MODIFICATIONS TO THE DIFFUSION ANALOG\\nSURFACE-WATER FLOW MODEL (DAFLOW)\\nFOR COUPLING TO THE MODULAR FINITEDIFFERENCE GROUND-WATER FLOW MODEL\\n(MODFLOW)\",\n[\"water\", \"ground\", \"flow\", \"simul\", \"surfac\"],\n{\n            'v': 0,\n            'f': \"0\",\n        },\n{\n            'v': 7,\n            'f': \"7\",\n        },\n{\n            'v': 6,\n            'f': \"6\",\n        },\n{\n            'v': 4,\n            'f': \"4\",\n        }],\n [\"NCCV - National Climate Change Viewer\",\n[\"chang\", \"water\", \"area\", \"climat\", \"temperatur\"],\n{\n            'v': 7,\n            'f': \"7\",\n        },\n{\n            'v': 1,\n            'f': \"1\",\n        },\n{\n            'v': 7,\n            'f': \"7\",\n        },\n{\n            'v': 2,\n            'f': \"2\",\n        }],\n [\"Probability of Streamflow Permanence Model (PROSPER): A spatially continuous model of annual streamflow permanence throughout the Pacific Northwest\",\n[\"streamflow\", \"perman\", \"predict\", \"channel\", \"stream\"],\n{\n            'v': 0,\n            'f': \"0\",\n        },\n{\n            'v': 7,\n            'f': \"7\",\n        },\n{\n            'v': -1,\n            'f': \"-1\",\n        },\n{\n            'v': 2,\n            'f': \"2\",\n        }],\n [\"PTCOUNT\\u2014A FORTRAN-77 Computer Program to Calculate the Areal Distribution of Mapped Data Points Using Count-Circle Methodology\",\n[\"map\", \"count\", \"circl\", \"isopleth\", \"data\"],\n{\n            'v': 7,\n            'f': \"7\",\n        },\n{\n            'v': 1,\n            'f': \"1\",\n        },\n{\n            'v': 4,\n            'f': \"4\",\n        },\n{\n            'v': 0,\n            'f': \"0\",\n        }],\n [\"Recovery planning in a dynamic system: integrating uncertainty into a decision support tool for an endangered songbird\",\n[\"manag\", \"decis\", \"popul\", \"vireo\", \"challeng\"],\n{\n            'v': 0,\n            'f': \"0\",\n        },\n{\n            'v': 7,\n            'f': \"7\",\n        },\n{\n            'v': -1,\n            'f': \"-1\",\n        },\n{\n            'v': 2,\n            'f': \"2\",\n        }],\n [\"Scoops3D: software to analyze 3D slope stability throughout a digital landscape\",\n[\"scoops3d\", \"dem\", \"stabil\", \"3d\", \"potenti\"],\n{\n            'v': 7,\n            'f': \"7\",\n        },\n{\n            'v': 7,\n            'f': \"7\",\n        },\n{\n            'v': 4,\n            'f': \"4\",\n        },\n{\n            'v': 0,\n            'f': \"0\",\n        }],\n [\"Slab2, a comprehensive subduction zone geometry model\",\n[\"subduct\", \"zone\", \"seismic\", \"activ\", \"fault\"],\n{\n            'v': 6,\n            'f': \"6\",\n        },\n{\n            'v': 7,\n            'f': \"7\",\n        },\n{\n            'v': -1,\n            'f': \"-1\",\n        },\n{\n            'v': 5,\n            'f': \"5\",\n        }],\n [\"SLAMMER\\u2014Seismic LAndslide Movement Modeled using Earthquake Records\",\n[\"record\", \"select\", \"conduct\", \"block\", \"analysi\"],\n{\n            'v': 0,\n            'f': \"0\",\n        },\n{\n            'v': 7,\n            'f': \"7\",\n        },\n{\n            'v': 4,\n            'f': \"4\",\n        },\n{\n            'v': 0,\n            'f': \"0\",\n        }],\n [\"SSEBop - Simplified Surface Energy Balance approach\",\n[\"surfac\", \"use\", \"base\", \"et\", \"ssebop\"],\n{\n            'v': 7,\n            'f': \"7\",\n        },\n{\n            'v': 7,\n            'f': \"7\",\n        },\n{\n            'v': -1,\n            'f': \"-1\",\n        },\n{\n            'v': 1,\n            'f': \"1\",\n        }],\n [\"Stochastic Empirical Loading and Dilution Model (SELDM) Version 1.0.0\",\n[\"seldm\", \"site\", \"use\", \"water\", \"input\"],\n{\n            'v': 0,\n            'f': \"0\",\n        },\n{\n            'v': 7,\n            'f': \"7\",\n        },\n{\n            'v': 2,\n            'f': \"2\",\n        },\n{\n            'v': 2,\n            'f': \"2\",\n        }],\n [\"Submersed Aquatic Vegetation Modeling Output Online\",\n[\"veget\", \"predict\", \"aquat\", \"submers\", \"river\"],\n{\n            'v': 0,\n            'f': \"0\",\n        },\n{\n            'v': 7,\n            'f': \"7\",\n        },\n{\n            'v': -1,\n            'f': \"-1\",\n        },\n{\n            'v': 2,\n            'f': \"2\",\n        }],\n [\"The 2018 update of the US National Seismic Hazard Model: Overview of model and implications\",\n[\"updat\", \"seismic\", \"hazard\", \"unit\", \"state\"],\n{\n            'v': 2,\n            'f': \"2\",\n        },\n{\n            'v': 7,\n            'f': \"7\",\n        },\n{\n            'v': 0,\n            'f': \"0\",\n        },\n{\n            'v': 5,\n            'f': \"5\",\n        }],\n [\"THE COMPUTER MODEL SHARP, A QUASI-THREE-DIMENSIONAL FINITE-DIFFERENCE\\nMODEL TO SIMULATE FRESHWATER AND SALTWATER FLOW IN LAYERED COASTAL\\nAQUIFER SYSTEMS\",\n[\"aquif\", \"boundari\", \"saltwat\", \"interfac\", \"equat\"],\n{\n            'v': 5,\n            'f': \"5\",\n        },\n{\n            'v': 7,\n            'f': \"7\",\n        },\n{\n            'v': 6,\n            'f': \"6\",\n        },\n{\n            'v': 5,\n            'f': \"5\",\n        }],\n [\"The Effect of Particle Size Distribution on the Design of Urban Stormwater Control Measures\",\n[\"psd\", \"use\", \"runoff\", \"measur\", \"nurp\"],\n{\n            'v': 0,\n            'f': \"0\",\n        },\n{\n            'v': 7,\n            'f': \"7\",\n        },\n{\n            'v': 2,\n            'f': \"2\",\n        },\n{\n            'v': 4,\n            'f': \"4\",\n        }],\n [\"The Hydrologic System of the South Florida Peninsula: Development and Application of the Biscayne and Southern Everglades Coastal Transport (BISECT) Model\",\n[\"flow\", \"level\", \"water\", \"everglad\", \"chang\"],\n{\n            'v': 0,\n            'f': \"0\",\n        },\n{\n            'v': 7,\n            'f': \"7\",\n        },\n{\n            'v': 6,\n            'f': \"6\",\n        },\n{\n            'v': 2,\n            'f': \"2\",\n        }],\n [\"The Pedestrian Evacuation Analyst: geographic information systems software for modeling hazard evacuation potential\",\n[\"evacu\", \"time\", \"hazard\", \"model\", \"travel\"],\n{\n            'v': 7,\n            'f': \"7\",\n        },\n{\n            'v': 1,\n            'f': \"1\",\n        },\n{\n            'v': 1,\n            'f': \"1\",\n        },\n{\n            'v': 5,\n            'f': \"5\",\n        }],\n [\"The SPARROW Surface Water-Quality Model: Theory, Application and User Documentation\",\n[\"watersh\", \"contamin\", \"spatial\", \"regress\", \"attribut\"],\n{\n            'v': 0,\n            'f': \"0\",\n        },\n{\n            'v': 7,\n            'f': \"7\",\n        },\n{\n            'v': -1,\n            'f': \"-1\",\n        },\n{\n            'v': 2,\n            'f': \"2\",\n        }],\n [\"THRESH\\u2014Software for Tracking Rainfall Thresholds for Landslide and Debris-Flow Occurrence, User Manual\",\n[\"precipit\", \"threshold\", \"softwar\", \"landslid\", \"thresh\"],\n{\n            'v': 7,\n            'f': \"7\",\n        },\n{\n            'v': 7,\n            'f': \"7\",\n        },\n{\n            'v': 4,\n            'f': \"4\",\n        },\n{\n            'v': 0,\n            'f': \"0\",\n        }],\n [\"TRIGRS\\u2014A Fortran Program for Transient\\nRainfall Infiltration and Grid-Based Regional\\nSlope-Stability Analysis, Version 2.0\",\n[\"rainfal\", \"program\", \"use\", \"cell\", \"infiltr\"],\n{\n            'v': 7,\n            'f': \"7\",\n        },\n{\n            'v': 7,\n            'f': \"7\",\n        },\n{\n            'v': 4,\n            'f': \"4\",\n        },\n{\n            'v': 0,\n            'f': \"0\",\n        }],\n [\"Update of the Graizer-Kalkan ground-motion prediction equations for shallow crustal continental earthquakes\",\n[\"ground\", \"motion\", \"5\", \"distanc\", \"0\"],\n{\n            'v': 2,\n            'f': \"2\",\n        },\n{\n            'v': 1,\n            'f': \"1\",\n        },\n{\n            'v': 0,\n            'f': \"0\",\n        },\n{\n            'v': 5,\n            'f': \"5\",\n        }],\n [\"User guide to Exploration and Graphics for RivEr Trends (EGRET) and dataRetrieval: R packages for hydrologic data\",\n[\"data\", \"use\", \"packag\", \"chang\", \"water\"],\n{\n            'v': 0,\n            'f': \"0\",\n        },\n{\n            'v': 7,\n            'f': \"7\",\n        },\n{\n            'v': 6,\n            'f': \"6\",\n        },\n{\n            'v': 0,\n            'f': \"0\",\n        }],\n [\"USERS MANUAL FOR A BRANCHED\\nLAGRANGIAN TRANSPORT MODEL\",\n[\"transport\", \"present\", \"use\", \"data\", \"lagrangian\"],\n{\n            'v': 4,\n            'f': \"4\",\n        },\n{\n            'v': 7,\n            'f': \"7\",\n        },\n{\n            'v': 5,\n            'f': \"5\",\n        },\n{\n            'v': 3,\n            'f': \"3\",\n        }],\n [\"VFLUX: Vertical Fluid Heat Transfer Solver (VFlu[H]X Solver)\",\n[\"vflux\", \"calcul\", \"vertic\", \"flux\", \"use\"],\n{\n            'v': 2,\n            'f': \"2\",\n        },\n{\n            'v': 7,\n            'f': \"7\",\n        },\n{\n            'v': -1,\n            'f': \"-1\",\n        },\n{\n            'v': 4,\n            'f': \"4\",\n        }],\n [\"VS2DRTI - A Graphical Software Package for Simulating Water Flow, Heat Transport, and Reactive Solute Transport\",\n[\"transport\", \"vs2drti\", \"simul\", \"packag\", \"user\"],\n{\n            'v': 3,\n            'f': \"3\",\n        },\n{\n            'v': 7,\n            'f': \"7\",\n        },\n{\n            'v': 5,\n            'f': \"5\",\n        },\n{\n            'v': 1,\n            'f': \"1\",\n        }],\n [\"WEMo (Wave Exposure Model) : formulation, procedures and validation\",\n[\"wave\", \"exposur\", \"wemo\", \"mode\", \"energi\"],\n{\n            'v': 0,\n            'f': \"0\",\n        },\n{\n            'v': 7,\n            'f': \"7\",\n        },\n{\n            'v': 3,\n            'f': \"3\",\n        },\n{\n            'v': 2,\n            'f': \"2\",\n        }],\n [\"Pedestrian Evacuation Analyst Tool\",\n[\"tool\", \"hazard\", \"10\", \"pedestrian\", \"evacu\"],\n{\n            'v': 0,\n            'f': \"0\",\n        },\n{\n            'v': 7,\n            'f': \"7\",\n        },\n{\n            'v': 1,\n            'f': \"1\",\n        },\n{\n            'v': 5,\n            'f': \"5\",\n        }],\n [\"SOILWAT2\",\n[\"soil\", \"soilwat2\", \"daili\", \"water\", \"layer\"],\n{\n            'v': 7,\n            'f': \"7\",\n        },\n{\n            'v': 7,\n            'f': \"7\",\n        },\n{\n            'v': 7,\n            'f': \"7\",\n        },\n{\n            'v': 2,\n            'f': \"2\",\n        }],\n [\"Sagebrush Hurdle Model\",\n[\"speci\", \"occurr\", \"fire\", \"model\", \"variabl\"],\n{\n            'v': 2,\n            'f': \"2\",\n        },\n{\n            'v': 7,\n            'f': \"7\",\n        },\n{\n            'v': 3,\n            'f': \"3\",\n        },\n{\n            'v': 2,\n            'f': \"2\",\n        }]],\n        columns: [[\"string\", \"Title\"], [\"string\", \"Common5Words\"], [\"number\", \"LSA_Topic\"], [\"number\", \"LDA_Topic\"], [\"number\", \"HDBSCAN_Topic\"], [\"number\", \"BERTopic_Topic\"]],\n        columnOptions: [],\n        rowsPerPage: 40,\n        helpUrl: \"https://colab.research.google.com/notebooks/data_table.ipynb\",\n        suppressOutputScrolling: true,\n        minimumWidth: undefined,\n      });\n    ",
            "text/plain": [
              "<google.colab.data_table.DataTable object>"
            ],
            "text/html": [
              "<div>\n",
              "<style scoped>\n",
              "    .dataframe tbody tr th:only-of-type {\n",
              "        vertical-align: middle;\n",
              "    }\n",
              "\n",
              "    .dataframe tbody tr th {\n",
              "        vertical-align: top;\n",
              "    }\n",
              "\n",
              "    .dataframe thead th {\n",
              "        text-align: right;\n",
              "    }\n",
              "</style>\n",
              "<table border=\"1\" class=\"dataframe\">\n",
              "  <thead>\n",
              "    <tr style=\"text-align: right;\">\n",
              "      <th></th>\n",
              "      <th>Title</th>\n",
              "      <th>Common5Words</th>\n",
              "      <th>LSA_Topic</th>\n",
              "      <th>LDA_Topic</th>\n",
              "      <th>HDBSCAN_Topic</th>\n",
              "      <th>BERTopic_Topic</th>\n",
              "    </tr>\n",
              "  </thead>\n",
              "  <tbody>\n",
              "    <tr>\n",
              "      <th>0</th>\n",
              "      <td>1DTempPro V2: New Features for Inferring Groun...</td>\n",
              "      <td>[new, code, estim, hydraul, version]</td>\n",
              "      <td>7</td>\n",
              "      <td>7</td>\n",
              "      <td>-1</td>\n",
              "      <td>1</td>\n",
              "    </tr>\n",
              "    <tr>\n",
              "      <th>1</th>\n",
              "      <td>A Bayesian‐Based System to Assess Wave‐Driven ...</td>\n",
              "      <td>[reef, flood, wave, coast, coral]</td>\n",
              "      <td>5</td>\n",
              "      <td>7</td>\n",
              "      <td>3</td>\n",
              "      <td>2</td>\n",
              "    </tr>\n",
              "    <tr>\n",
              "      <th>2</th>\n",
              "      <td>A Fractured Rock Geophysical Toolbox Method Se...</td>\n",
              "      <td>[base, site, articl, impact, statement]</td>\n",
              "      <td>0</td>\n",
              "      <td>7</td>\n",
              "      <td>-1</td>\n",
              "      <td>0</td>\n",
              "    </tr>\n",
              "    <tr>\n",
              "      <th>3</th>\n",
              "      <td>A modular finite-element model (MODFE) for are...</td>\n",
              "      <td>[flow, finit, element, modf, water]</td>\n",
              "      <td>5</td>\n",
              "      <td>7</td>\n",
              "      <td>6</td>\n",
              "      <td>4</td>\n",
              "    </tr>\n",
              "    <tr>\n",
              "      <th>4</th>\n",
              "      <td>A Monthly Water-Balance Model Driven By a Grap...</td>\n",
              "      <td>[month, water, balanc, tool, program]</td>\n",
              "      <td>7</td>\n",
              "      <td>7</td>\n",
              "      <td>6</td>\n",
              "      <td>0</td>\n",
              "    </tr>\n",
              "    <tr>\n",
              "      <th>5</th>\n",
              "      <td>AnalyzeHOLE—An Integrated Wellbore Flow Analys...</td>\n",
              "      <td>[well, flow, hydraul, simul, conduct]</td>\n",
              "      <td>0</td>\n",
              "      <td>7</td>\n",
              "      <td>6</td>\n",
              "      <td>4</td>\n",
              "    </tr>\n",
              "    <tr>\n",
              "      <th>6</th>\n",
              "      <td>Ash3d: A finite‐volume, conservative numerical...</td>\n",
              "      <td>[erupt, ash, volcan, use, distribut]</td>\n",
              "      <td>2</td>\n",
              "      <td>7</td>\n",
              "      <td>-1</td>\n",
              "      <td>3</td>\n",
              "    </tr>\n",
              "    <tr>\n",
              "      <th>9</th>\n",
              "      <td>BIOMOC, A Multispecies Solute-Transport Model ...</td>\n",
              "      <td>[degrad, simul, dimension, transport, aerob]</td>\n",
              "      <td>2</td>\n",
              "      <td>7</td>\n",
              "      <td>5</td>\n",
              "      <td>3</td>\n",
              "    </tr>\n",
              "    <tr>\n",
              "      <th>11</th>\n",
              "      <td>Computer programs for limit-equilibrium slope-...</td>\n",
              "      <td>[program, file, use, user, simpl]</td>\n",
              "      <td>7</td>\n",
              "      <td>7</td>\n",
              "      <td>4</td>\n",
              "      <td>0</td>\n",
              "    </tr>\n",
              "    <tr>\n",
              "      <th>12</th>\n",
              "      <td>Delft3D - 3D modeling suite to investigate hyd...</td>\n",
              "      <td>[modul, flow, transport, wave, 3d]</td>\n",
              "      <td>6</td>\n",
              "      <td>7</td>\n",
              "      <td>3</td>\n",
              "      <td>1</td>\n",
              "    </tr>\n",
              "    <tr>\n",
              "      <th>14</th>\n",
              "      <td>Development of a Coupled Ocean–Atmosphere–Wave...</td>\n",
              "      <td>[coupl, wave, ocean, atmospher, coastal]</td>\n",
              "      <td>0</td>\n",
              "      <td>1</td>\n",
              "      <td>3</td>\n",
              "      <td>2</td>\n",
              "    </tr>\n",
              "    <tr>\n",
              "      <th>15</th>\n",
              "      <td>Documentation of a Conduit Flow Process (CFP) ...</td>\n",
              "      <td>[flow, turbul, laminar, pipe, mode]</td>\n",
              "      <td>0</td>\n",
              "      <td>7</td>\n",
              "      <td>6</td>\n",
              "      <td>4</td>\n",
              "    </tr>\n",
              "    <tr>\n",
              "      <th>16</th>\n",
              "      <td>Dynamically Downscaled Climate Simulations ove...</td>\n",
              "      <td>[simul, climat, futur, provid, present]</td>\n",
              "      <td>0</td>\n",
              "      <td>1</td>\n",
              "      <td>7</td>\n",
              "      <td>2</td>\n",
              "    </tr>\n",
              "    <tr>\n",
              "      <th>22</th>\n",
              "      <td>GSFLOW—Coupled Ground-Water and Surface-Water ...</td>\n",
              "      <td>[water, flow, compon, integr, develop]</td>\n",
              "      <td>0</td>\n",
              "      <td>7</td>\n",
              "      <td>6</td>\n",
              "      <td>4</td>\n",
              "    </tr>\n",
              "    <tr>\n",
              "      <th>24</th>\n",
              "      <td>HYDROTHERM - A computer code for simulation of...</td>\n",
              "      <td>[simul, 1, boundari, program, ground]</td>\n",
              "      <td>7</td>\n",
              "      <td>7</td>\n",
              "      <td>6</td>\n",
              "      <td>1</td>\n",
              "    </tr>\n",
              "    <tr>\n",
              "      <th>25</th>\n",
              "      <td>Massachusetts Reservoir Simulation Tool—User’s...</td>\n",
              "      <td>[reservoir, simul, develop, massachusett, tool]</td>\n",
              "      <td>0</td>\n",
              "      <td>7</td>\n",
              "      <td>6</td>\n",
              "      <td>2</td>\n",
              "    </tr>\n",
              "    <tr>\n",
              "      <th>26</th>\n",
              "      <td>MOC3D</td>\n",
              "      <td>[transport, simul, ground, water, chemic]</td>\n",
              "      <td>2</td>\n",
              "      <td>7</td>\n",
              "      <td>5</td>\n",
              "      <td>3</td>\n",
              "    </tr>\n",
              "    <tr>\n",
              "      <th>28</th>\n",
              "      <td>MODFLOW-NWT, A Newton Formulation for MODFLOW-...</td>\n",
              "      <td>[packag, modflow, flow, use, nwt]</td>\n",
              "      <td>0</td>\n",
              "      <td>1</td>\n",
              "      <td>-1</td>\n",
              "      <td>4</td>\n",
              "    </tr>\n",
              "    <tr>\n",
              "      <th>29</th>\n",
              "      <td>MODIFICATIONS TO THE DIFFUSION ANALOG\\nSURFACE...</td>\n",
              "      <td>[water, ground, flow, simul, surfac]</td>\n",
              "      <td>0</td>\n",
              "      <td>7</td>\n",
              "      <td>6</td>\n",
              "      <td>4</td>\n",
              "    </tr>\n",
              "    <tr>\n",
              "      <th>30</th>\n",
              "      <td>NCCV - National Climate Change Viewer</td>\n",
              "      <td>[chang, water, area, climat, temperatur]</td>\n",
              "      <td>7</td>\n",
              "      <td>1</td>\n",
              "      <td>7</td>\n",
              "      <td>2</td>\n",
              "    </tr>\n",
              "    <tr>\n",
              "      <th>32</th>\n",
              "      <td>Probability of Streamflow Permanence Model (PR...</td>\n",
              "      <td>[streamflow, perman, predict, channel, stream]</td>\n",
              "      <td>0</td>\n",
              "      <td>7</td>\n",
              "      <td>-1</td>\n",
              "      <td>2</td>\n",
              "    </tr>\n",
              "    <tr>\n",
              "      <th>33</th>\n",
              "      <td>PTCOUNT—A FORTRAN-77 Computer Program to Calcu...</td>\n",
              "      <td>[map, count, circl, isopleth, data]</td>\n",
              "      <td>7</td>\n",
              "      <td>1</td>\n",
              "      <td>4</td>\n",
              "      <td>0</td>\n",
              "    </tr>\n",
              "    <tr>\n",
              "      <th>34</th>\n",
              "      <td>Recovery planning in a dynamic system: integra...</td>\n",
              "      <td>[manag, decis, popul, vireo, challeng]</td>\n",
              "      <td>0</td>\n",
              "      <td>7</td>\n",
              "      <td>-1</td>\n",
              "      <td>2</td>\n",
              "    </tr>\n",
              "    <tr>\n",
              "      <th>35</th>\n",
              "      <td>Scoops3D: software to analyze 3D slope stabili...</td>\n",
              "      <td>[scoops3d, dem, stabil, 3d, potenti]</td>\n",
              "      <td>7</td>\n",
              "      <td>7</td>\n",
              "      <td>4</td>\n",
              "      <td>0</td>\n",
              "    </tr>\n",
              "    <tr>\n",
              "      <th>36</th>\n",
              "      <td>Slab2, a comprehensive subduction zone geometr...</td>\n",
              "      <td>[subduct, zone, seismic, activ, fault]</td>\n",
              "      <td>6</td>\n",
              "      <td>7</td>\n",
              "      <td>-1</td>\n",
              "      <td>5</td>\n",
              "    </tr>\n",
              "    <tr>\n",
              "      <th>37</th>\n",
              "      <td>SLAMMER—Seismic LAndslide Movement Modeled usi...</td>\n",
              "      <td>[record, select, conduct, block, analysi]</td>\n",
              "      <td>0</td>\n",
              "      <td>7</td>\n",
              "      <td>4</td>\n",
              "      <td>0</td>\n",
              "    </tr>\n",
              "    <tr>\n",
              "      <th>39</th>\n",
              "      <td>SSEBop - Simplified Surface Energy Balance app...</td>\n",
              "      <td>[surfac, use, base, et, ssebop]</td>\n",
              "      <td>7</td>\n",
              "      <td>7</td>\n",
              "      <td>-1</td>\n",
              "      <td>1</td>\n",
              "    </tr>\n",
              "    <tr>\n",
              "      <th>40</th>\n",
              "      <td>Stochastic Empirical Loading and Dilution Mode...</td>\n",
              "      <td>[seldm, site, use, water, input]</td>\n",
              "      <td>0</td>\n",
              "      <td>7</td>\n",
              "      <td>2</td>\n",
              "      <td>2</td>\n",
              "    </tr>\n",
              "    <tr>\n",
              "      <th>41</th>\n",
              "      <td>Submersed Aquatic Vegetation Modeling Output O...</td>\n",
              "      <td>[veget, predict, aquat, submers, river]</td>\n",
              "      <td>0</td>\n",
              "      <td>7</td>\n",
              "      <td>-1</td>\n",
              "      <td>2</td>\n",
              "    </tr>\n",
              "    <tr>\n",
              "      <th>42</th>\n",
              "      <td>The 2018 update of the US National Seismic Haz...</td>\n",
              "      <td>[updat, seismic, hazard, unit, state]</td>\n",
              "      <td>2</td>\n",
              "      <td>7</td>\n",
              "      <td>0</td>\n",
              "      <td>5</td>\n",
              "    </tr>\n",
              "    <tr>\n",
              "      <th>43</th>\n",
              "      <td>THE COMPUTER MODEL SHARP, A QUASI-THREE-DIMENS...</td>\n",
              "      <td>[aquif, boundari, saltwat, interfac, equat]</td>\n",
              "      <td>5</td>\n",
              "      <td>7</td>\n",
              "      <td>6</td>\n",
              "      <td>5</td>\n",
              "    </tr>\n",
              "    <tr>\n",
              "      <th>44</th>\n",
              "      <td>The Effect of Particle Size Distribution on th...</td>\n",
              "      <td>[psd, use, runoff, measur, nurp]</td>\n",
              "      <td>0</td>\n",
              "      <td>7</td>\n",
              "      <td>2</td>\n",
              "      <td>4</td>\n",
              "    </tr>\n",
              "    <tr>\n",
              "      <th>45</th>\n",
              "      <td>The Hydrologic System of the South Florida Pen...</td>\n",
              "      <td>[flow, level, water, everglad, chang]</td>\n",
              "      <td>0</td>\n",
              "      <td>7</td>\n",
              "      <td>6</td>\n",
              "      <td>2</td>\n",
              "    </tr>\n",
              "    <tr>\n",
              "      <th>46</th>\n",
              "      <td>The Pedestrian Evacuation Analyst: geographic ...</td>\n",
              "      <td>[evacu, time, hazard, model, travel]</td>\n",
              "      <td>7</td>\n",
              "      <td>1</td>\n",
              "      <td>1</td>\n",
              "      <td>5</td>\n",
              "    </tr>\n",
              "    <tr>\n",
              "      <th>47</th>\n",
              "      <td>The SPARROW Surface Water-Quality Model: Theor...</td>\n",
              "      <td>[watersh, contamin, spatial, regress, attribut]</td>\n",
              "      <td>0</td>\n",
              "      <td>7</td>\n",
              "      <td>-1</td>\n",
              "      <td>2</td>\n",
              "    </tr>\n",
              "    <tr>\n",
              "      <th>48</th>\n",
              "      <td>THRESH—Software for Tracking Rainfall Threshol...</td>\n",
              "      <td>[precipit, threshold, softwar, landslid, thresh]</td>\n",
              "      <td>7</td>\n",
              "      <td>7</td>\n",
              "      <td>4</td>\n",
              "      <td>0</td>\n",
              "    </tr>\n",
              "    <tr>\n",
              "      <th>49</th>\n",
              "      <td>TRIGRS—A Fortran Program for Transient\\nRainfa...</td>\n",
              "      <td>[rainfal, program, use, cell, infiltr]</td>\n",
              "      <td>7</td>\n",
              "      <td>7</td>\n",
              "      <td>4</td>\n",
              "      <td>0</td>\n",
              "    </tr>\n",
              "    <tr>\n",
              "      <th>50</th>\n",
              "      <td>Update of the Graizer-Kalkan ground-motion pre...</td>\n",
              "      <td>[ground, motion, 5, distanc, 0]</td>\n",
              "      <td>2</td>\n",
              "      <td>1</td>\n",
              "      <td>0</td>\n",
              "      <td>5</td>\n",
              "    </tr>\n",
              "    <tr>\n",
              "      <th>51</th>\n",
              "      <td>User guide to Exploration and Graphics for Riv...</td>\n",
              "      <td>[data, use, packag, chang, water]</td>\n",
              "      <td>0</td>\n",
              "      <td>7</td>\n",
              "      <td>6</td>\n",
              "      <td>0</td>\n",
              "    </tr>\n",
              "    <tr>\n",
              "      <th>53</th>\n",
              "      <td>USERS MANUAL FOR A BRANCHED\\nLAGRANGIAN TRANSP...</td>\n",
              "      <td>[transport, present, use, data, lagrangian]</td>\n",
              "      <td>4</td>\n",
              "      <td>7</td>\n",
              "      <td>5</td>\n",
              "      <td>3</td>\n",
              "    </tr>\n",
              "    <tr>\n",
              "      <th>54</th>\n",
              "      <td>VFLUX: Vertical Fluid Heat Transfer Solver (VF...</td>\n",
              "      <td>[vflux, calcul, vertic, flux, use]</td>\n",
              "      <td>2</td>\n",
              "      <td>7</td>\n",
              "      <td>-1</td>\n",
              "      <td>4</td>\n",
              "    </tr>\n",
              "    <tr>\n",
              "      <th>55</th>\n",
              "      <td>VS2DRTI - A Graphical Software Package for Sim...</td>\n",
              "      <td>[transport, vs2drti, simul, packag, user]</td>\n",
              "      <td>3</td>\n",
              "      <td>7</td>\n",
              "      <td>5</td>\n",
              "      <td>1</td>\n",
              "    </tr>\n",
              "    <tr>\n",
              "      <th>56</th>\n",
              "      <td>WEMo (Wave Exposure Model) : formulation, proc...</td>\n",
              "      <td>[wave, exposur, wemo, mode, energi]</td>\n",
              "      <td>0</td>\n",
              "      <td>7</td>\n",
              "      <td>3</td>\n",
              "      <td>2</td>\n",
              "    </tr>\n",
              "    <tr>\n",
              "      <th>57</th>\n",
              "      <td>Pedestrian Evacuation Analyst Tool</td>\n",
              "      <td>[tool, hazard, 10, pedestrian, evacu]</td>\n",
              "      <td>0</td>\n",
              "      <td>7</td>\n",
              "      <td>1</td>\n",
              "      <td>5</td>\n",
              "    </tr>\n",
              "    <tr>\n",
              "      <th>58</th>\n",
              "      <td>SOILWAT2</td>\n",
              "      <td>[soil, soilwat2, daili, water, layer]</td>\n",
              "      <td>7</td>\n",
              "      <td>7</td>\n",
              "      <td>7</td>\n",
              "      <td>2</td>\n",
              "    </tr>\n",
              "    <tr>\n",
              "      <th>59</th>\n",
              "      <td>Sagebrush Hurdle Model</td>\n",
              "      <td>[speci, occurr, fire, model, variabl]</td>\n",
              "      <td>2</td>\n",
              "      <td>7</td>\n",
              "      <td>3</td>\n",
              "      <td>2</td>\n",
              "    </tr>\n",
              "  </tbody>\n",
              "</table>\n",
              "</div>"
            ]
          },
          "metadata": {
            "tags": []
          },
          "execution_count": 1198
        }
      ]
    },
    {
      "cell_type": "markdown",
      "metadata": {
        "id": "tXjJyntxoCFo"
      },
      "source": [
        "##### Test *Set*: Titles and Top 5 Words Grouped by Topic"
      ]
    },
    {
      "cell_type": "code",
      "metadata": {
        "colab": {
          "base_uri": "https://localhost:8080/",
          "height": 494
        },
        "id": "8gRQLuBkR7VG",
        "outputId": "18204a2f-51c9-4d5e-8028-30dbe9187c86"
      },
      "source": [
        "temp = df_test[['Title', 'Common5Words', 'LSA_Topic', 'LDA_Topic',\n",
        "       'HDBSCAN_Topic', 'BERTopic_Topic', ]]\n",
        "from google.colab import data_table\n",
        "data_table.DataTable(temp, include_index=False, num_rows_per_page=40)"
      ],
      "execution_count": 1199,
      "outputs": [
        {
          "output_type": "execute_result",
          "data": {
            "application/vnd.google.colaboratory.module+javascript": "\n      import \"https://ssl.gstatic.com/colaboratory/data_table/a6224c040fa35dcf/data_table.js\";\n\n      window.createDataTable({\n        data: [[\"BBS - North American Breeding Bird Survey\",\n[\"bird\", \"data\", \"north\", \"bbs\", \"speci\"],\n{\n            'v': 0,\n            'f': \"0\",\n        },\n{\n            'v': 3,\n            'f': \"3\",\n        },\n{\n            'v': -1,\n            'f': \"-1\",\n        },\n{\n            'v': 1,\n            'f': \"1\",\n        }],\n [\"Benefits of the destinations, not costs of the journeys, shape partial migration patterns\",\n[\"size\", \"migrat\", \"bodi\", \"forag\", \"migratori\"],\n{\n            'v': 0,\n            'f': \"0\",\n        },\n{\n            'v': 3,\n            'f': \"3\",\n        },\n{\n            'v': -1,\n            'f': \"-1\",\n        },\n{\n            'v': 1,\n            'f': \"1\",\n        }],\n [\"CBLCM - Chesapeake Bay Land Change Model\",\n[\"cblcm\", \"land\", \"develop\", \"watersh\", \"model\"],\n{\n            'v': 0,\n            'f': \"0\",\n        },\n{\n            'v': 7,\n            'f': \"7\",\n        },\n{\n            'v': -1,\n            'f': \"-1\",\n        },\n{\n            'v': 1,\n            'f': \"1\",\n        }],\n [\"Description of input and examples for PHREEQC version 3: a computer program for speciation, batch-reaction, one-dimensional transport, and inverse geochemical calculations\",\n[\"calcul\", \"data\", \"phreeqc\", \"aqueous\", \"isotop\"],\n{\n            'v': 7,\n            'f': \"7\",\n        },\n{\n            'v': 7,\n            'f': \"7\",\n        },\n{\n            'v': 5,\n            'f': \"5\",\n        },\n{\n            'v': 1,\n            'f': \"1\",\n        }],\n [\"FaSTMECH - Flow and Sediment Transport with Morphological Evolution of Channels\",\n[\"flow\", \"three\", \"dimension\", \"quasi\", \"fastmech\"],\n{\n            'v': 0,\n            'f': \"0\",\n        },\n{\n            'v': 7,\n            'f': \"7\",\n        },\n{\n            'v': -1,\n            'f': \"-1\",\n        },\n{\n            'v': 1,\n            'f': \"1\",\n        }],\n [\"FEQ - Full Equations Model for the Solution of the Full, Dynamic Equations of Motion for One-Dimensional Unsteady Flow in Open Channels and Through Control Structures\",\n[\"feq\", \"simul\", \"structur\", \"stream\", \"includ\"],\n{\n            'v': 0,\n            'f': \"0\",\n        },\n{\n            'v': 7,\n            'f': \"7\",\n        },\n{\n            'v': -1,\n            'f': \"-1\",\n        },\n{\n            'v': 1,\n            'f': \"1\",\n        }],\n [\"FishVis, A regional decision support tool for identifying vulnerabilities of riverine habitat and fishes to climate change in the Great Lakes Region\",\n[\"speci\", \"fish\", \"water\", \"percent\", \"climat\"],\n{\n            'v': 0,\n            'f': \"0\",\n        },\n{\n            'v': 3,\n            'f': \"3\",\n        },\n{\n            'v': -1,\n            'f': \"-1\",\n        },\n{\n            'v': 1,\n            'f': \"1\",\n        }],\n [\"FourPt - An unsteady, one-dimensional, open-channel flow model\",\n[\"channel\", \"flow\", \"simul\", \"network\", \"equat\"],\n{\n            'v': 0,\n            'f': \"0\",\n        },\n{\n            'v': 7,\n            'f': \"7\",\n        },\n{\n            'v': -1,\n            'f': \"-1\",\n        },\n{\n            'v': 1,\n            'f': \"1\",\n        }],\n [\"Groundwater Management Process for the U.S. Geological Survey modular three-dimensional groundwater model, MODFLOW\",\n[\"gwm\", \"version\", \"use\", \"modflow\", \"2005\"],\n{\n            'v': 0,\n            'f': \"0\",\n        },\n{\n            'v': 7,\n            'f': \"7\",\n        },\n{\n            'v': -1,\n            'f': \"-1\",\n        },\n{\n            'v': 1,\n            'f': \"1\",\n        }],\n [\"HST3D - A Computer Code for Simulation of Heat and Solute Transport in Three-Dimensional Ground-Water Flow Systems\",\n[\"transport\", \"simul\", \"heat\", \"solut\", \"program\"],\n{\n            'v': 7,\n            'f': \"7\",\n        },\n{\n            'v': 7,\n            'f': \"7\",\n        },\n{\n            'v': -1,\n            'f': \"-1\",\n        },\n{\n            'v': 1,\n            'f': \"1\",\n        }],\n [\"Modeling Landscape Evapotranspiration by Integrating Land Surface Phenology and a Water Balance Algorithm\",\n[\"veget\", \"use\", \"lsp\", \"crop\", \"model\"],\n{\n            'v': 7,\n            'f': \"7\",\n        },\n{\n            'v': 7,\n            'f': \"7\",\n        },\n{\n            'v': 7,\n            'f': \"7\",\n        },\n{\n            'v': 1,\n            'f': \"1\",\n        }],\n [\"One-Dimensional Transport with Equilibrium\\nChemistry (OTEQ)\\u2014A Reactive Transport\\nModel for Streams and Rivers\",\n[\"transport\", \"oteq\", \"solut\", \"base\", \"reaction\"],\n{\n            'v': 4,\n            'f': \"4\",\n        },\n{\n            'v': 7,\n            'f': \"7\",\n        },\n{\n            'v': 5,\n            'f': \"5\",\n        },\n{\n            'v': 1,\n            'f': \"1\",\n        }],\n [\"Spring onset variations and trends in the continental United States: past and regional assessment using temperature\\u2010based indices\",\n[\"structur\", \"feq\", \"comput\", \"simul\", \"one\"],\n{\n            'v': 0,\n            'f': \"0\",\n        },\n{\n            'v': 7,\n            'f': \"7\",\n        },\n{\n            'v': -1,\n            'f': \"-1\",\n        },\n{\n            'v': 1,\n            'f': \"1\",\n        }],\n [\"USER'S MANUAL FOR WATEQ4F, WITH REVISED THERMODYNAMIC DATA\\nBASE AND TEST CASES FOR CALCULATING SPECIATION OF MAJOR,\\nTRACE, AND REDOX ELEMENTS IN NATURAL WATERS\",\n[\"program\", \"data\", \"wateq4f\", \"microcomput\", \"base\"],\n{\n            'v': 7,\n            'f': \"7\",\n        },\n{\n            'v': 7,\n            'f': \"7\",\n        },\n{\n            'v': -1,\n            'f': \"-1\",\n        },\n{\n            'v': 1,\n            'f': \"1\",\n        }]],\n        columns: [[\"string\", \"Title\"], [\"string\", \"Common5Words\"], [\"number\", \"LSA_Topic\"], [\"number\", \"LDA_Topic\"], [\"number\", \"HDBSCAN_Topic\"], [\"number\", \"BERTopic_Topic\"]],\n        columnOptions: [],\n        rowsPerPage: 40,\n        helpUrl: \"https://colab.research.google.com/notebooks/data_table.ipynb\",\n        suppressOutputScrolling: true,\n        minimumWidth: undefined,\n      });\n    ",
            "text/plain": [
              "<google.colab.data_table.DataTable object>"
            ],
            "text/html": [
              "<div>\n",
              "<style scoped>\n",
              "    .dataframe tbody tr th:only-of-type {\n",
              "        vertical-align: middle;\n",
              "    }\n",
              "\n",
              "    .dataframe tbody tr th {\n",
              "        vertical-align: top;\n",
              "    }\n",
              "\n",
              "    .dataframe thead th {\n",
              "        text-align: right;\n",
              "    }\n",
              "</style>\n",
              "<table border=\"1\" class=\"dataframe\">\n",
              "  <thead>\n",
              "    <tr style=\"text-align: right;\">\n",
              "      <th></th>\n",
              "      <th>Title</th>\n",
              "      <th>Common5Words</th>\n",
              "      <th>LSA_Topic</th>\n",
              "      <th>LDA_Topic</th>\n",
              "      <th>HDBSCAN_Topic</th>\n",
              "      <th>BERTopic_Topic</th>\n",
              "    </tr>\n",
              "  </thead>\n",
              "  <tbody>\n",
              "    <tr>\n",
              "      <th>7</th>\n",
              "      <td>BBS - North American Breeding Bird Survey</td>\n",
              "      <td>[bird, data, north, bbs, speci]</td>\n",
              "      <td>0</td>\n",
              "      <td>3</td>\n",
              "      <td>-1</td>\n",
              "      <td>1</td>\n",
              "    </tr>\n",
              "    <tr>\n",
              "      <th>8</th>\n",
              "      <td>Benefits of the destinations, not costs of the...</td>\n",
              "      <td>[size, migrat, bodi, forag, migratori]</td>\n",
              "      <td>0</td>\n",
              "      <td>3</td>\n",
              "      <td>-1</td>\n",
              "      <td>1</td>\n",
              "    </tr>\n",
              "    <tr>\n",
              "      <th>10</th>\n",
              "      <td>CBLCM - Chesapeake Bay Land Change Model</td>\n",
              "      <td>[cblcm, land, develop, watersh, model]</td>\n",
              "      <td>0</td>\n",
              "      <td>7</td>\n",
              "      <td>-1</td>\n",
              "      <td>1</td>\n",
              "    </tr>\n",
              "    <tr>\n",
              "      <th>13</th>\n",
              "      <td>Description of input and examples for PHREEQC ...</td>\n",
              "      <td>[calcul, data, phreeqc, aqueous, isotop]</td>\n",
              "      <td>7</td>\n",
              "      <td>7</td>\n",
              "      <td>5</td>\n",
              "      <td>1</td>\n",
              "    </tr>\n",
              "    <tr>\n",
              "      <th>17</th>\n",
              "      <td>FaSTMECH - Flow and Sediment Transport with Mo...</td>\n",
              "      <td>[flow, three, dimension, quasi, fastmech]</td>\n",
              "      <td>0</td>\n",
              "      <td>7</td>\n",
              "      <td>-1</td>\n",
              "      <td>1</td>\n",
              "    </tr>\n",
              "    <tr>\n",
              "      <th>18</th>\n",
              "      <td>FEQ - Full Equations Model for the Solution of...</td>\n",
              "      <td>[feq, simul, structur, stream, includ]</td>\n",
              "      <td>0</td>\n",
              "      <td>7</td>\n",
              "      <td>-1</td>\n",
              "      <td>1</td>\n",
              "    </tr>\n",
              "    <tr>\n",
              "      <th>19</th>\n",
              "      <td>FishVis, A regional decision support tool for ...</td>\n",
              "      <td>[speci, fish, water, percent, climat]</td>\n",
              "      <td>0</td>\n",
              "      <td>3</td>\n",
              "      <td>-1</td>\n",
              "      <td>1</td>\n",
              "    </tr>\n",
              "    <tr>\n",
              "      <th>20</th>\n",
              "      <td>FourPt - An unsteady, one-dimensional, open-ch...</td>\n",
              "      <td>[channel, flow, simul, network, equat]</td>\n",
              "      <td>0</td>\n",
              "      <td>7</td>\n",
              "      <td>-1</td>\n",
              "      <td>1</td>\n",
              "    </tr>\n",
              "    <tr>\n",
              "      <th>21</th>\n",
              "      <td>Groundwater Management Process for the U.S. Ge...</td>\n",
              "      <td>[gwm, version, use, modflow, 2005]</td>\n",
              "      <td>0</td>\n",
              "      <td>7</td>\n",
              "      <td>-1</td>\n",
              "      <td>1</td>\n",
              "    </tr>\n",
              "    <tr>\n",
              "      <th>23</th>\n",
              "      <td>HST3D - A Computer Code for Simulation of Heat...</td>\n",
              "      <td>[transport, simul, heat, solut, program]</td>\n",
              "      <td>7</td>\n",
              "      <td>7</td>\n",
              "      <td>-1</td>\n",
              "      <td>1</td>\n",
              "    </tr>\n",
              "    <tr>\n",
              "      <th>27</th>\n",
              "      <td>Modeling Landscape Evapotranspiration by Integ...</td>\n",
              "      <td>[veget, use, lsp, crop, model]</td>\n",
              "      <td>7</td>\n",
              "      <td>7</td>\n",
              "      <td>7</td>\n",
              "      <td>1</td>\n",
              "    </tr>\n",
              "    <tr>\n",
              "      <th>31</th>\n",
              "      <td>One-Dimensional Transport with Equilibrium\\nCh...</td>\n",
              "      <td>[transport, oteq, solut, base, reaction]</td>\n",
              "      <td>4</td>\n",
              "      <td>7</td>\n",
              "      <td>5</td>\n",
              "      <td>1</td>\n",
              "    </tr>\n",
              "    <tr>\n",
              "      <th>38</th>\n",
              "      <td>Spring onset variations and trends in the cont...</td>\n",
              "      <td>[structur, feq, comput, simul, one]</td>\n",
              "      <td>0</td>\n",
              "      <td>7</td>\n",
              "      <td>-1</td>\n",
              "      <td>1</td>\n",
              "    </tr>\n",
              "    <tr>\n",
              "      <th>52</th>\n",
              "      <td>USER'S MANUAL FOR WATEQ4F, WITH REVISED THERMO...</td>\n",
              "      <td>[program, data, wateq4f, microcomput, base]</td>\n",
              "      <td>7</td>\n",
              "      <td>7</td>\n",
              "      <td>-1</td>\n",
              "      <td>1</td>\n",
              "    </tr>\n",
              "  </tbody>\n",
              "</table>\n",
              "</div>"
            ]
          },
          "metadata": {
            "tags": []
          },
          "execution_count": 1199
        }
      ]
    },
    {
      "cell_type": "markdown",
      "metadata": {
        "id": "ijd9oLohwhcU"
      },
      "source": [
        "### Visualize Clusters with UMAP"
      ]
    },
    {
      "cell_type": "markdown",
      "metadata": {
        "id": "OnoWiehN7L-E"
      },
      "source": [
        "#### LSA"
      ]
    },
    {
      "cell_type": "code",
      "metadata": {
        "id": "h6bTIUJ-_V8b"
      },
      "source": [
        "%%capture \n",
        "!pip install sentence_transformers\n",
        "from sentence_transformers import SentenceTransformer\n",
        "embed_model = SentenceTransformer('paraphrase-distilroberta-base-v1')\n",
        "sentence_embeddings = embed_model.encode(document_list)"
      ],
      "execution_count": 1200,
      "outputs": []
    },
    {
      "cell_type": "code",
      "metadata": {
        "id": "6V4YeoFl7Rjt"
      },
      "source": [
        "roberta_embed_df = pd.DataFrame(sentence_embeddings)\n",
        "roberta_embed_df['LSA_Topic'] = dataset[\"LSA_Topic\"]\n",
        "roberta_embed_df = roberta_embed_df.dropna()"
      ],
      "execution_count": 1201,
      "outputs": []
    },
    {
      "cell_type": "code",
      "metadata": {
        "id": "ApilfxgT7PoI"
      },
      "source": [
        "test_sentence_embeddings = embed_model.encode(test_document_list)\n",
        "test_roberta_embed_df = pd.DataFrame(test_sentence_embeddings)\n",
        "test_roberta_embed_df['LSA_Topic'] = df_test[\"LSA_Topic\"]\n",
        "test_roberta_embed_df = test_roberta_embed_df.dropna()"
      ],
      "execution_count": 1202,
      "outputs": []
    },
    {
      "cell_type": "code",
      "metadata": {
        "id": "lwpuywoowks5"
      },
      "source": [
        "%%capture\n",
        "mapper = umap.UMAP().fit(roberta_embed_df, y=roberta_embed_df.LSA_Topic)\n",
        "mapper_test = mapper.transform(test_roberta_embed_df)\n",
        "mapper_train = mapper.transform(roberta_embed_df)"
      ],
      "execution_count": 1203,
      "outputs": []
    },
    {
      "cell_type": "code",
      "metadata": {
        "colab": {
          "base_uri": "https://localhost:8080/",
          "height": 662
        },
        "id": "qZS3zPH0-OBP",
        "outputId": "0e45e70a-d381-43eb-9116-32710a4afbeb"
      },
      "source": [
        "umap.plot.points(mapper, labels=roberta_embed_df.LSA_Topic, theme='fire')\n",
        "plt.title('UMAP projection of Train LSA clusters', fontsize=24);"
      ],
      "execution_count": 1204,
      "outputs": [
        {
          "output_type": "display_data",
          "data": {
            "image/png": "[encoded data removed]",
            "text/plain": [
              "<Figure size 800x800 with 1 Axes>"
            ]
          },
          "metadata": {
            "tags": []
          }
        }
      ]
    },
    {
      "cell_type": "code",
      "metadata": {
        "colab": {
          "base_uri": "https://localhost:8080/",
          "height": 286
        },
        "id": "5mZzeOaQ7mhb",
        "outputId": "a65e32da-ac42-4493-c136-451b13cbed69"
      },
      "source": [
        "plt.style.use('dark_background')\n",
        "plt.scatter(mapper_test[:,0], mapper_test[:,1], s= 100, c=test_roberta_embed_df['LSA_Topic'], cmap='Spectral',edgecolors='white', marker = '*')\n",
        "plt.scatter(mapper_train[:,0], mapper_train[:,1], s= 25, c=roberta_embed_df.LSA_Topic, cmap='Spectral')\n",
        "plt.tick_params(axis='both', which='both', left = False, bottom=False, top=False, labelbottom=False, labelleft = False)\n",
        "plt.title('LSA clusters with test set', fontsize=20)"
      ],
      "execution_count": 1205,
      "outputs": [
        {
          "output_type": "execute_result",
          "data": {
            "text/plain": [
              "Text(0.5, 1.0, 'LSA clusters with test set')"
            ]
          },
          "metadata": {
            "tags": []
          },
          "execution_count": 1205
        },
        {
          "output_type": "display_data",
          "data": {
            "image/png": "[encoded data removed]",
            "text/plain": [
              "<Figure size 432x288 with 1 Axes>"
            ]
          },
          "metadata": {
            "tags": []
          }
        }
      ]
    },
    {
      "cell_type": "markdown",
      "metadata": {
        "id": "d4T22tG27Eky"
      },
      "source": [
        "#### LDA "
      ]
    },
    {
      "cell_type": "code",
      "metadata": {
        "id": "7NW0G5p26bUj"
      },
      "source": [
        "%%capture\n",
        "temp_df = roberta_embed_df.drop(columns=[\"LSA_Topic\"])                              \n",
        "temp_df['LDA_Topic'] = dataset[\"LDA_Topic\"]"
      ],
      "execution_count": 1206,
      "outputs": []
    },
    {
      "cell_type": "code",
      "metadata": {
        "id": "ZaEd9lcy6Obq"
      },
      "source": [
        "test_roberta_embed_df = pd.DataFrame(test_sentence_embeddings)\n",
        "test_roberta_embed_df['LDA_Topic'] = df_test[\"LDA_Topic\"]\n",
        "test_roberta_embed_df = test_roberta_embed_df.dropna()"
      ],
      "execution_count": 1207,
      "outputs": []
    },
    {
      "cell_type": "code",
      "metadata": {
        "id": "Nb_yARw4-jmR"
      },
      "source": [
        "%%capture\n",
        "mapper2 = umap.UMAP().fit(temp_df, y=temp_df.LDA_Topic)\n",
        "mapper2_test = mapper2.transform(test_roberta_embed_df)\n",
        "mapper2_train = mapper2.transform(temp_df)"
      ],
      "execution_count": 1208,
      "outputs": []
    },
    {
      "cell_type": "code",
      "metadata": {
        "colab": {
          "base_uri": "https://localhost:8080/",
          "height": 662
        },
        "id": "aItM7Ohu-lYy",
        "outputId": "d4655e22-7f36-4600-efab-d2c4588bdc4b"
      },
      "source": [
        "umap.plot.points(mapper2, labels=temp_df.LDA_Topic, theme='fire')\n",
        "plt.title('UMAP projection of Train LDA clusters', fontsize=24);"
      ],
      "execution_count": 1209,
      "outputs": [
        {
          "output_type": "display_data",
          "data": {
            "image/png": "[encoded data removed]",
            "text/plain": [
              "<Figure size 800x800 with 1 Axes>"
            ]
          },
          "metadata": {
            "tags": []
          }
        }
      ]
    },
    {
      "cell_type": "code",
      "metadata": {
        "colab": {
          "base_uri": "https://localhost:8080/",
          "height": 286
        },
        "id": "0zDzK-QQ6VQv",
        "outputId": "61e473fb-2043-4d09-877e-16362fecad30"
      },
      "source": [
        "plt.style.use('dark_background')\n",
        "plt.scatter(mapper2_test[:,0], mapper2_test[:,1], s= 100, c=test_roberta_embed_df['LDA_Topic'], cmap='Spectral',edgecolors='white', marker = '*')\n",
        "plt.scatter(mapper2_train[:,0], mapper2_train[:,1], s= 25, c=temp_df.LDA_Topic, cmap='Spectral')\n",
        "plt.tick_params(axis='both', which='both', left = False, bottom=False, top=False, labelbottom=False, labelleft = False)\n",
        "plt.title('LDA clusters with test set', fontsize=20)"
      ],
      "execution_count": 1210,
      "outputs": [
        {
          "output_type": "execute_result",
          "data": {
            "text/plain": [
              "Text(0.5, 1.0, 'LDA clusters with test set')"
            ]
          },
          "metadata": {
            "tags": []
          },
          "execution_count": 1210
        },
        {
          "output_type": "display_data",
          "data": {
            "image/png": "[encoded data removed]",
            "text/plain": [
              "<Figure size 432x288 with 1 Axes>"
            ]
          },
          "metadata": {
            "tags": []
          }
        }
      ]
    },
    {
      "cell_type": "markdown",
      "metadata": {
        "id": "_940u1Ny9tRx"
      },
      "source": [
        "#### HDBSCAN"
      ]
    },
    {
      "cell_type": "code",
      "metadata": {
        "id": "GYcskV0C6456"
      },
      "source": [
        "%%capture\n",
        "temp_df = roberta_embed_df.drop(columns=[\"LSA_Topic\"])                              \n",
        "temp_df['HDBSCAN_Topic'] = dataset[\"HDBSCAN_Topic\"]\n",
        "temp_df = temp_df.dropna()"
      ],
      "execution_count": 1211,
      "outputs": []
    },
    {
      "cell_type": "code",
      "metadata": {
        "id": "6oZ69nbfdzUk"
      },
      "source": [
        "test_roberta_embed_df = pd.DataFrame(test_sentence_embeddings)\n",
        "test_roberta_embed_df['HDBSCAN_Topic'] = df_test[\"HDBSCAN_Topic\"]\n",
        "test_roberta_embed_df = test_roberta_embed_df.dropna()"
      ],
      "execution_count": 1212,
      "outputs": []
    },
    {
      "cell_type": "code",
      "metadata": {
        "id": "TvIAO37k_Blx"
      },
      "source": [
        "%%capture\n",
        "mapper3 = umap.UMAP().fit(temp_df, y=temp_df.HDBSCAN_Topic)\n",
        "mapper3_test = mapper3.transform(test_roberta_embed_df)\n",
        "mapper3_train = mapper3.transform(temp_df)"
      ],
      "execution_count": 1213,
      "outputs": []
    },
    {
      "cell_type": "code",
      "metadata": {
        "id": "huRAi0_cR4yR",
        "colab": {
          "base_uri": "https://localhost:8080/",
          "height": 662
        },
        "outputId": "f0117a2e-d9b7-4fe2-fa81-6c6b35a1d9e2"
      },
      "source": [
        "umap.plot.points(mapper3, labels=temp_df.HDBSCAN_Topic, theme='fire')\n",
        "plt.title('UMAP projection of Train HDBSCAN clusters', fontsize=24);"
      ],
      "execution_count": 1214,
      "outputs": [
        {
          "output_type": "display_data",
          "data": {
            "image/png": "[encoded data removed]",
            "text/plain": [
              "<Figure size 800x800 with 1 Axes>"
            ]
          },
          "metadata": {
            "tags": []
          }
        }
      ]
    },
    {
      "cell_type": "code",
      "metadata": {
        "colab": {
          "base_uri": "https://localhost:8080/",
          "height": 286
        },
        "id": "aTbArs7ugMn6",
        "outputId": "b9bfb6d4-459c-4168-921a-9728b3bbae03"
      },
      "source": [
        "plt.style.use('dark_background')\n",
        "plt.scatter(mapper3_test[:,0], mapper3_test[:,1], s= 100, c=test_roberta_embed_df['HDBSCAN_Topic'], cmap='Spectral',edgecolors='white', marker = '*')\n",
        "plt.scatter(mapper3_train[:,0], mapper3_train[:,1], s= 25, c=temp_df.HDBSCAN_Topic, cmap='Spectral')\n",
        "plt.tick_params(axis='both', which='both', left = False, bottom=False, top=False, labelbottom=False, labelleft = False)\n",
        "plt.title('HDBSCAN clusters with test set', fontsize=20)"
      ],
      "execution_count": 1215,
      "outputs": [
        {
          "output_type": "execute_result",
          "data": {
            "text/plain": [
              "Text(0.5, 1.0, 'HDBSCAN clusters with test set')"
            ]
          },
          "metadata": {
            "tags": []
          },
          "execution_count": 1215
        },
        {
          "output_type": "display_data",
          "data": {
            "image/png": "[encoded data removed]",
            "text/plain": [
              "<Figure size 432x288 with 1 Axes>"
            ]
          },
          "metadata": {
            "tags": []
          }
        }
      ]
    },
    {
      "cell_type": "markdown",
      "metadata": {
        "id": "SOBdQqee9pJl"
      },
      "source": [
        "#### BERTopic"
      ]
    },
    {
      "cell_type": "code",
      "metadata": {
        "id": "y3XWTdJ32sT4"
      },
      "source": [
        "%%capture\n",
        "temp_df = roberta_embed_df.drop(columns=[\"LSA_Topic\"])                              \n",
        "temp_df['BERTopic_Topic'] = dataset[\"BERTopic_Topic\"]\n",
        "temp_df = temp_df.dropna()"
      ],
      "execution_count": 1216,
      "outputs": []
    },
    {
      "cell_type": "code",
      "metadata": {
        "id": "UoqdZwAM9dll"
      },
      "source": [
        "test_roberta_embed_df = pd.DataFrame(test_sentence_embeddings)\n",
        "test_roberta_embed_df['BERTopic_Topic'] = df_test[\"BERTopic_Topic\"]\n",
        "test_roberta_embed_df = test_roberta_embed_df.dropna()"
      ],
      "execution_count": 1217,
      "outputs": []
    },
    {
      "cell_type": "code",
      "metadata": {
        "id": "l-RVYUNP_gb8"
      },
      "source": [
        "mapper4 = umap.UMAP().fit(temp_df, y=temp_df.BERTopic_Topic)\n",
        "mapper4_test = mapper4.transform(test_roberta_embed_df)\n",
        "mapper4_train = mapper4.transform(temp_df)"
      ],
      "execution_count": 1218,
      "outputs": []
    },
    {
      "cell_type": "code",
      "metadata": {
        "id": "GNmDKmVbR-aP",
        "colab": {
          "base_uri": "https://localhost:8080/",
          "height": 662
        },
        "outputId": "639352a7-0561-4017-9c7c-4588ed6c4030"
      },
      "source": [
        "umap.plot.points(mapper4, labels=temp_df.BERTopic_Topic, theme='fire')\n",
        "plt.title('UMAP projection of Train BERTopic clusters', fontsize=24);"
      ],
      "execution_count": 1219,
      "outputs": [
        {
          "output_type": "display_data",
          "data": {
            "image/png": "[encoded data removed]",
            "text/plain": [
              "<Figure size 800x800 with 1 Axes>"
            ]
          },
          "metadata": {
            "tags": []
          }
        }
      ]
    },
    {
      "cell_type": "code",
      "metadata": {
        "id": "2xgcXoInKk5y",
        "colab": {
          "base_uri": "https://localhost:8080/",
          "height": 286
        },
        "outputId": "394a6f3a-0325-41ad-a427-9942de4a3d39"
      },
      "source": [
        "plt.style.use('dark_background')\n",
        "plt.scatter(mapper4_test[:,0], mapper4_test[:,1], s= 100, c=test_roberta_embed_df['BERTopic_Topic'], cmap='Spectral',edgecolors='white', marker = '*')\n",
        "plt.scatter(mapper4_train[:,0], mapper4_train[:,1], s= 25, c=temp_df.BERTopic_Topic, cmap='Spectral')\n",
        "plt.tick_params(axis='both', which='both', left = False, bottom=False, top=False, labelbottom=False, labelleft = False)\n",
        "plt.title('BERTopic clusters with test set', fontsize=20)"
      ],
      "execution_count": 1220,
      "outputs": [
        {
          "output_type": "execute_result",
          "data": {
            "text/plain": [
              "Text(0.5, 1.0, 'BERTopic clusters with test set')"
            ]
          },
          "metadata": {
            "tags": []
          },
          "execution_count": 1220
        },
        {
          "output_type": "display_data",
          "data": {
            "image/png": "[encoded data removed]",
            "text/plain": [
              "<Figure size 432x288 with 1 Axes>"
            ]
          },
          "metadata": {
            "tags": []
          }
        }
      ]
    }
  ]
}