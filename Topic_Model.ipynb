{
  "nbformat": 4,
  "nbformat_minor": 0,
  "metadata": {
    "colab": {
      "name": "Topic_Model.ipynb",
      "provenance": [],
      "collapsed_sections": [],
      "toc_visible": true,
      "machine_shape": "hm"
    },
    "kernelspec": {
      "name": "python3",
      "display_name": "Python 3"
    },
    "language_info": {
      "name": "python"
    },
    "accelerator": "GPU"
  },
  "cells": [
    {
      "cell_type": "markdown",
      "metadata": {
        "id": "XezhW7HqC1fI"
      },
      "source": [
        "# Topic Modeling on a Small Scientific Corpus"
      ]
    },
    {
      "cell_type": "code",
      "metadata": {
        "colab": {
          "base_uri": "https://localhost:8080/"
        },
        "id": "QETmuGSTXIwV",
        "outputId": "4c0a2e36-ea41-4d28-c3f6-3c5e46653719"
      },
      "source": [
        "from google.colab import drive\n",
        "drive.mount('/content/drive')"
      ],
      "execution_count": 1,
      "outputs": [
        {
          "output_type": "stream",
          "text": [
            "Drive already mounted at /content/drive; to attempt to forcibly remount, call drive.mount(\"/content/drive\", force_remount=True).\n"
          ],
          "name": "stdout"
        }
      ]
    },
    {
      "cell_type": "code",
      "metadata": {
        "colab": {
          "base_uri": "https://localhost:8080/"
        },
        "id": "F-S25KrnXLX-",
        "outputId": "534308bc-9eb8-4992-fdbf-b8c0efd3f568"
      },
      "source": [
        "%cd \"/content/drive/MyDrive/Clustering_USGS\""
      ],
      "execution_count": 2,
      "outputs": [
        {
          "output_type": "stream",
          "text": [
            "/content/drive/MyDrive/Clustering_USGS\n"
          ],
          "name": "stdout"
        }
      ]
    },
    {
      "cell_type": "code",
      "metadata": {
        "id": "boPkJZBIXM3A"
      },
      "source": [
        "%%capture\n",
        "!pip install umap-learn\n",
        "\n",
        "import pandas as pd\n",
        "import numpy as np\n",
        "import seaborn as sns\n",
        "import matplotlib.pyplot as plt\n",
        "import umap\n",
        "\n",
        "import nltk\n",
        "from nltk.tokenize import RegexpTokenizer\n",
        "from nltk.corpus import stopwords\n",
        "from nltk.stem.snowball import SnowballStemmer\n",
        "\n",
        "import gensim\n",
        "from gensim import corpora\n",
        "from gensim import models\n",
        "\n",
        "import sklearn\n",
        "from sklearn import metrics\n",
        "from sklearn.feature_extraction.text import TfidfVectorizer, CountVectorizer"
      ],
      "execution_count": 3,
      "outputs": []
    },
    {
      "cell_type": "code",
      "metadata": {
        "id": "mexJX-5nXRHE"
      },
      "source": [
        "df = pd.read_csv('abstracts.csv')\n",
        "dataset = df.copy()\n",
        "dataset = dataset[['Title']]"
      ],
      "execution_count": 4,
      "outputs": []
    },
    {
      "cell_type": "code",
      "metadata": {
        "id": "jAypq1vO9Qot"
      },
      "source": [
        "df_test = pd.read_csv('abstracts_test.csv')\n",
        "df_test = df_test[['Title', 'Text']]\n",
        "df_test = df_test.dropna()"
      ],
      "execution_count": 5,
      "outputs": []
    },
    {
      "cell_type": "code",
      "metadata": {
        "colab": {
          "base_uri": "https://localhost:8080/",
          "height": 281
        },
        "id": "2nXdDd3VXTCi",
        "outputId": "2c17ab00-a15c-4352-ab2f-ab08afe336c9"
      },
      "source": [
        "def word_count(text):\n",
        "    return len(str(text).strip().split(\" \"))\n",
        "    \n",
        "temp_df = df.copy()\n",
        "temp_df['word_count'] = temp_df['Text'].apply(word_count)\n",
        "pd.Series(temp_df.word_count.values).hist(bins = 30)"
      ],
      "execution_count": 6,
      "outputs": [
        {
          "output_type": "execute_result",
          "data": {
            "text/plain": [
              "<matplotlib.axes._subplots.AxesSubplot at 0x7f3bf2e01590>"
            ]
          },
          "metadata": {
            "tags": []
          },
          "execution_count": 6
        },
        {
          "output_type": "display_data",
          "data": {
            "image/png": "[encoded data removed]",
            "text/plain": [
              "<Figure size 432x288 with 1 Axes>"
            ]
          },
          "metadata": {
            "tags": [],
            "needs_background": "light"
          }
        }
      ]
    },
    {
      "cell_type": "markdown",
      "metadata": {
        "id": "hWRb7gWz1qCD"
      },
      "source": [
        "### Preprocess Data for BoW Models"
      ]
    },
    {
      "cell_type": "code",
      "metadata": {
        "colab": {
          "base_uri": "https://localhost:8080/"
        },
        "id": "IlTCOGrHXjsG",
        "outputId": "6267bcfd-8a8e-45d5-f9bb-e6d02b2f4f8e"
      },
      "source": [
        "nltk.download('stopwords')\n",
        "sw = stopwords.words('english')\n",
        "sw = set(sw)\n",
        "\n",
        "def preprocess_data(documents):\n",
        "  tokenizer = RegexpTokenizer(r'\\w+')\n",
        "  stemmer = SnowballStemmer(\"english\")\n",
        "  texts = []\n",
        "  for i in documents:\n",
        "        lower_text = i.lower()\n",
        "        # tokenize\n",
        "        tokens = tokenizer.tokenize(lower_text)\n",
        "        # remove stopwords\n",
        "        stopped_tokens = [i for i in tokens if not i in sw]\n",
        "        # stem words\n",
        "        stemmed_tokens = [stemmer.stem(i) for i in stopped_tokens]\n",
        "        # append list\n",
        "        texts.append(stemmed_tokens)\n",
        "  return texts\n"
      ],
      "execution_count": 7,
      "outputs": [
        {
          "output_type": "stream",
          "text": [
            "[nltk_data] Downloading package stopwords to /root/nltk_data...\n",
            "[nltk_data]   Package stopwords is already up-to-date!\n"
          ],
          "name": "stdout"
        }
      ]
    },
    {
      "cell_type": "code",
      "metadata": {
        "id": "zO7WPkLqifTu"
      },
      "source": [
        "document_list = df.Text.values\n",
        "tokens = preprocess_data(document_list)"
      ],
      "execution_count": 8,
      "outputs": []
    },
    {
      "cell_type": "code",
      "metadata": {
        "id": "-Z-DMvJogxNf"
      },
      "source": [
        "test_document_list = df_test.Text.values\n",
        "test_tokens = preprocess_data(test_document_list)"
      ],
      "execution_count": 9,
      "outputs": []
    },
    {
      "cell_type": "code",
      "metadata": {
        "id": "qWTt3e-giwkZ"
      },
      "source": [
        "dictionary = corpora.Dictionary(tokens)\n",
        "BoW_corpus = [dictionary.doc2bow(doc, allow_update=True) for doc in tokens]"
      ],
      "execution_count": 10,
      "outputs": []
    },
    {
      "cell_type": "code",
      "metadata": {
        "id": "sC6GUWGkg7Bi"
      },
      "source": [
        "test_BoW_corpus = [dictionary.doc2bow(doc, allow_update=True) for doc in test_tokens]"
      ],
      "execution_count": 11,
      "outputs": []
    },
    {
      "cell_type": "code",
      "metadata": {
        "id": "ALthllC1ixY-"
      },
      "source": [
        "# # Human-readable dictionary\n",
        "# id_words = [[(dictionary[id], count) for id, count in line] for line in BoW_corpus]\n",
        "# print(id_words)"
      ],
      "execution_count": 12,
      "outputs": []
    },
    {
      "cell_type": "code",
      "metadata": {
        "id": "xIbhA2GLv2c8"
      },
      "source": [
        "tfidf = models.TfidfModel(BoW_corpus)\n",
        "corpus_tfidf = tfidf[BoW_corpus]"
      ],
      "execution_count": 13,
      "outputs": []
    },
    {
      "cell_type": "code",
      "metadata": {
        "id": "Cho77FPuhntD"
      },
      "source": [
        "test_corpus_tfidf = tfidf[test_BoW_corpus]"
      ],
      "execution_count": 14,
      "outputs": []
    },
    {
      "cell_type": "code",
      "metadata": {
        "id": "NKDXV8aJxVIB"
      },
      "source": [
        "# # View td-idf\n",
        "# for doc in tfidf[BoW_corpus]:\n",
        "#    print([[dictionary[id], round(freq, 2)] for id, freq in doc])"
      ],
      "execution_count": 15,
      "outputs": []
    },
    {
      "cell_type": "markdown",
      "metadata": {
        "id": "PoQliexZWDUf"
      },
      "source": [
        "### Preprocess Text for BERT-type Embeddings"
      ]
    },
    {
      "cell_type": "code",
      "metadata": {
        "id": "NYAWijNUmSEn"
      },
      "source": [
        "document_list = df.Text.values"
      ],
      "execution_count": 16,
      "outputs": []
    },
    {
      "cell_type": "markdown",
      "metadata": {
        "id": "pkxfhe8hmac5"
      },
      "source": [
        "Yep. That's it!"
      ]
    },
    {
      "cell_type": "markdown",
      "metadata": {
        "id": "RrThOJkXYNIM"
      },
      "source": [
        "## Number of Clusters\n",
        "I could get rid of this analysis or show how ineffective it is in determining the number of clusters"
      ]
    },
    {
      "cell_type": "code",
      "metadata": {
        "id": "U3633Hehxhwg"
      },
      "source": [
        "def compute_coherence_values(dictionary, doc_term_matrix, doc_clean, stop, start=2, step=3):\n",
        "    coherence_values = []\n",
        "    model_list = []\n",
        "    for num_topics in range(start, stop, step):\n",
        "        # generate LSA model\n",
        "        model = models.LsiModel(doc_term_matrix, num_topics=num_topics, id2word = dictionary)  # train model\n",
        "        model_list.append(model)\n",
        "        coherencemodel = models.CoherenceModel(model=model, texts=doc_clean, dictionary=dictionary, coherence='c_v')\n",
        "        coherence_values.append(coherencemodel.get_coherence())\n",
        "    return model_list, coherence_values"
      ],
      "execution_count": 17,
      "outputs": []
    },
    {
      "cell_type": "code",
      "metadata": {
        "id": "yUh3PwK_xLtz"
      },
      "source": [
        "def plot_graph(dictionary, doc_term_matrix, doc_clean, start, stop, step):\n",
        "    model_list, coherence_values = compute_coherence_values(dictionary, doc_term_matrix, doc_clean, stop, start, step)\n",
        "    x = range(start, stop, step)\n",
        "    plt.plot(x, coherence_values)\n",
        "    plt.xlabel(\"Number of Topics\")\n",
        "    plt.ylabel(\"Coherence score\")\n",
        "    plt.legend((\"coherence_values\"), loc='best')\n",
        "    plt.show()"
      ],
      "execution_count": 18,
      "outputs": []
    },
    {
      "cell_type": "code",
      "metadata": {
        "colab": {
          "base_uri": "https://localhost:8080/",
          "height": 363
        },
        "id": "hy06mJ7RylRW",
        "outputId": "860060a6-1d90-467e-da99-312533a4c2b5"
      },
      "source": [
        "start,stop,step = 2,14,1\n",
        "plot_graph(dictionary, corpus_tfidf, tokens, start, stop, step)"
      ],
      "execution_count": 19,
      "outputs": [
        {
          "output_type": "stream",
          "text": [
            "/usr/local/lib/python3.7/dist-packages/gensim/topic_coherence/direct_confirmation_measure.py:195: RuntimeWarning: divide by zero encountered in double_scalars\n",
            "  m_lr_i = np.log(numerator / denominator)\n",
            "/usr/local/lib/python3.7/dist-packages/gensim/topic_coherence/indirect_confirmation_measure.py:317: RuntimeWarning: invalid value encountered in double_scalars\n",
            "  return cv1.T.dot(cv2)[0, 0] / (_magnitude(cv1) * _magnitude(cv2))\n"
          ],
          "name": "stderr"
        },
        {
          "output_type": "display_data",
          "data": {
            "image/png": "[encoded data removed]",
            "text/plain": [
              "<Figure size 432x288 with 1 Axes>"
            ]
          },
          "metadata": {
            "tags": [],
            "needs_background": "light"
          }
        }
      ]
    },
    {
      "cell_type": "code",
      "metadata": {
        "id": "dXuYj1-6Jikt"
      },
      "source": [
        "no_clusters = 9 #Not effective for selecting number of clusers. Varies with each run: 4, 7, 9, 11, etc."
      ],
      "execution_count": 20,
      "outputs": []
    },
    {
      "cell_type": "markdown",
      "metadata": {
        "id": "A2O-Mr0i1gwS"
      },
      "source": [
        "## Latent Semantic Analysis (LSA/LSI)"
      ]
    },
    {
      "cell_type": "code",
      "metadata": {
        "id": "8OtuqEBvxVx1"
      },
      "source": [
        "lsi_model = models.LsiModel(corpus_tfidf, id2word=dictionary, num_topics=no_clusters)  # initialize an LSI transformation\n",
        "corpus_lsi = lsi_model[corpus_tfidf]\n",
        "test_corpus_lsi = lsi_model[test_corpus_tfidf]"
      ],
      "execution_count": 21,
      "outputs": []
    },
    {
      "cell_type": "code",
      "metadata": {
        "id": "5eTiK_B6f2Gn"
      },
      "source": [
        "# lsi_model.print_topics(9)"
      ],
      "execution_count": 22,
      "outputs": []
    },
    {
      "cell_type": "code",
      "metadata": {
        "id": "XNtb_fXFS2Lt"
      },
      "source": [
        "def Sort_Tuple(tup): \n",
        "    tup.sort(key = lambda x: abs(x[1]), reverse = True) \n",
        "    return tup "
      ],
      "execution_count": 23,
      "outputs": []
    },
    {
      "cell_type": "code",
      "metadata": {
        "id": "OitfKLQHOedN"
      },
      "source": [
        "cluster_lsa = []\n",
        "for i in range(len(corpus_tfidf)):\n",
        "  x = lsi_model[corpus_tfidf[i]]\n",
        "  x = Sort_Tuple(x)\n",
        "  cluster_lsa.append(x[0][0])\n",
        "dataset['LSA_Topic'] = cluster_lsa\n",
        "dataset[\"LSA_Topic\"] = pd.to_numeric(dataset[\"LSA_Topic\"])"
      ],
      "execution_count": 24,
      "outputs": []
    },
    {
      "cell_type": "code",
      "metadata": {
        "id": "fsvplM8I0_Ni"
      },
      "source": [
        "# dic1 = {0: 'transport_structur_flow_ground',\n",
        "#     1: 'feq_structur_unsteadi_stream',\n",
        "#     2: 'water_balance_transport_watersh',\n",
        "#     3: 'transport_rainfall_veget_balance',\n",
        "#     4: 'hydraul_modflow_veget',\n",
        "#     5: 'wave_reef_ocean_flood',\n",
        "#     6: 'veget_month_tool_reservoir',\n",
        "#     7: 'watersh_cblcm_land_contam',\n",
        "#     8: 'reservoir_veget_balanc'}\n",
        "# dataset.replace({\"LSA_Topic\": dic1},inplace=True)"
      ],
      "execution_count": 25,
      "outputs": []
    },
    {
      "cell_type": "markdown",
      "metadata": {
        "id": "flaA6odILjD3"
      },
      "source": [
        "We transform the training corpus here with the LSA model; however, once the transformation model has been initialized it can be used on any corpus provided it comes from the same vector space. "
      ]
    },
    {
      "cell_type": "code",
      "metadata": {
        "id": "fggecen0LGbE"
      },
      "source": [
        "# for doc, as_text in zip(corpus_lsi, document_list):\n",
        "#     print(doc, as_text)"
      ],
      "execution_count": 26,
      "outputs": []
    },
    {
      "cell_type": "markdown",
      "metadata": {
        "id": "3HI6nJ5PUW5D"
      },
      "source": [
        "## Latent Dirichlet Allocation (LDA)"
      ]
    },
    {
      "cell_type": "code",
      "metadata": {
        "id": "C-lN5qKr1b12"
      },
      "source": [
        "lda_model = models.LdaModel(corpus_tfidf, id2word=dictionary, num_topics=no_clusters, iterations=100)"
      ],
      "execution_count": 27,
      "outputs": []
    },
    {
      "cell_type": "code",
      "metadata": {
        "id": "5bEX7aOp5QzL"
      },
      "source": [
        "corpus_lda = lsi_model[corpus_tfidf]"
      ],
      "execution_count": 28,
      "outputs": []
    },
    {
      "cell_type": "code",
      "metadata": {
        "id": "OQe8dUTnf6uE"
      },
      "source": [
        "# lda_model.print_topics(9)"
      ],
      "execution_count": 29,
      "outputs": []
    },
    {
      "cell_type": "code",
      "metadata": {
        "id": "IF0ViZPxQw4G"
      },
      "source": [
        "cluster_lda = []\n",
        "for i in range(len(corpus_tfidf)):\n",
        "  x = lda_model[corpus_tfidf[i]]\n",
        "  x = Sort_Tuple(x)\n",
        "  cluster_lda.append(x[0][0])\n",
        "dataset['LDA_Topic'] = cluster_lda"
      ],
      "execution_count": 30,
      "outputs": []
    },
    {
      "cell_type": "code",
      "metadata": {
        "id": "oO7STLJnU0nj"
      },
      "source": [
        "# dic2 = {0: 'structur_flow_record_conduct',\n",
        "#       1: 'reef_migrat_flodd_dispers',\n",
        "#       2: 'subduct_erupt_ash_feq_volcan',\n",
        "#       3: 'subduc_structur_map_watersh',\n",
        "#       4: 'cblcm_veget_land_submers',\n",
        "#       5: 'scoops3d_dem_site_goal_statement',\n",
        "#       6: 'reservoir_veget_keyword_modul',\n",
        "#       7: 'threshold_rainfal_speci_precip',\n",
        "#       8: 'psd_perman_channel_network_streamflow'}\n",
        "# dataset.replace({\"LDA_Topic\": dic2}, inplace=True)"
      ],
      "execution_count": 31,
      "outputs": []
    },
    {
      "cell_type": "markdown",
      "metadata": {
        "id": "JreIHeP6WHZ2"
      },
      "source": [
        "## HDBSCAN "
      ]
    },
    {
      "cell_type": "code",
      "metadata": {
        "id": "kccdPh4ECLU3"
      },
      "source": [
        "tfidf_vectorizer = TfidfVectorizer(max_df=0.95, min_df=2,\n",
        "                                   max_features=1000,\n",
        "                                   stop_words='english')\n",
        "tfidf_vec = tfidf_vectorizer.fit_transform(document_list)\n",
        "# tfidf_tokens = tfidfvectorizer.get_feature_names()"
      ],
      "execution_count": 32,
      "outputs": []
    },
    {
      "cell_type": "code",
      "metadata": {
        "id": "emRpt1P5WFN-"
      },
      "source": [
        "%%capture\n",
        "!pip install hdbscan\n",
        "import hdbscan"
      ],
      "execution_count": 33,
      "outputs": []
    },
    {
      "cell_type": "code",
      "metadata": {
        "id": "tPBrow_Ek4hK"
      },
      "source": [
        "hdb_model = hdbscan.HDBSCAN(min_cluster_size=2, metric='euclidean', cluster_selection_method='eom',prediction_data=False) #min_samples=2, \n",
        "hdp_labels = hdb_model.fit_predict(tfidf_vec)\n",
        "dataset['HDBSCAN_Topic'] = hdp_labels"
      ],
      "execution_count": 34,
      "outputs": []
    },
    {
      "cell_type": "code",
      "metadata": {
        "id": "4h9JlYDbO4gI"
      },
      "source": [
        "# Number of clusters in labels, ignoring noise if present.\n",
        "n_clusters_ = len(set(hdp_labels)) - (1 if -1 in hdp_labels else 0)\n",
        "n_noise_ = list(hdp_labels).count(-1)"
      ],
      "execution_count": 35,
      "outputs": []
    },
    {
      "cell_type": "markdown",
      "metadata": {
        "id": "FqtT9ogtdac0"
      },
      "source": [
        "## Top2Vec\n",
        "Deep HDBSCAN: Create jointly embedded document and word vectors using BERT Sentence Transformer. Create lower dimensional embedding of document vectors using UMAP. Find dense areas of documents using HDBSCAN.  For each dense area calculate the centroid of document vectors in original dimension, this is the topic vector.  Find n-closest word vectors to the resulting topic vector. <br><br>\n",
        "*Error: need at least one array to concatenate. The model is putting everyhing into one topic and crashing*<br>"
      ]
    },
    {
      "cell_type": "code",
      "metadata": {
        "id": "ADh-POyBUH34"
      },
      "source": [
        "# %%capture\n",
        "# !pip install torch sentence_transformers\n",
        "# !pip install top2vec[sentence_transformers]\n",
        "# from top2vec import Top2Vec"
      ],
      "execution_count": 36,
      "outputs": []
    },
    {
      "cell_type": "code",
      "metadata": {
        "id": "91WenPqhixJn"
      },
      "source": [
        "# top2vec_model = Top2Vec(document_list, embedding_model='distiluse-base-multilingual-cased', use_embedding_model_tokenizer = True)"
      ],
      "execution_count": 37,
      "outputs": []
    },
    {
      "cell_type": "markdown",
      "metadata": {
        "id": "YuM80mdWj05V"
      },
      "source": [
        "## BERTopic"
      ]
    },
    {
      "cell_type": "code",
      "metadata": {
        "id": "hKq2dr8nj3NH"
      },
      "source": [
        "%%capture\n",
        "!pip install bertopic[all]\n",
        "from bertopic import BERTopic\n",
        "import umap\n",
        "from umap import UMAP\n",
        "#Note that if this gives an error on the first run, just run it again and it works."
      ],
      "execution_count": 38,
      "outputs": []
    },
    {
      "cell_type": "code",
      "metadata": {
        "id": "yJfQtQkqlijJ"
      },
      "source": [
        "umap_model = UMAP(n_neighbors=10, n_components=5, min_dist=0.0, metric='cosine')\n",
        "hdbscan_model = hdbscan.HDBSCAN(min_cluster_size=2, metric='euclidean', cluster_selection_method='eom', prediction_data=True) #leaf_size=10, cluster_selection_epsilon=0.5, min_samples=2, \n",
        "\n",
        "topic_model = BERTopic(umap_model = umap_model, hdbscan_model=hdbscan_model, embedding_model=\"paraphrase-distilroberta-base-v1\", \n",
        "                       min_topic_size=2, calculate_probabilities= True, language=\"english\", n_gram_range=(1, 3)) #n_gram_range=(1, 3)\n",
        "# topic_model = BERTopic(hdbscan_model=hdbscan_model, embedding_model=\"bert-large-nli-stsb-mean-tokens\", min_topic_size=2)\n",
        "# topic_model = BERTopic(hdbscan_model=hdbscan_model, embedding_model=\"stsb-mpnet-base-v2\", min_topic_size=2)\n",
        "\n",
        "topics, probs  = topic_model.fit_transform(document_list)"
      ],
      "execution_count": 39,
      "outputs": []
    },
    {
      "cell_type": "code",
      "metadata": {
        "colab": {
          "base_uri": "https://localhost:8080/",
          "height": 248
        },
        "id": "Gm6Y_-gBlyLG",
        "outputId": "a35d84c5-a030-4625-e07c-aa67d91acba1"
      },
      "source": [
        "topic_model.get_topic_info()"
      ],
      "execution_count": 40,
      "outputs": [
        {
          "output_type": "execute_result",
          "data": {
            "text/html": [
              "<div>\n",
              "<style scoped>\n",
              "    .dataframe tbody tr th:only-of-type {\n",
              "        vertical-align: middle;\n",
              "    }\n",
              "\n",
              "    .dataframe tbody tr th {\n",
              "        vertical-align: top;\n",
              "    }\n",
              "\n",
              "    .dataframe thead th {\n",
              "        text-align: right;\n",
              "    }\n",
              "</style>\n",
              "<table border=\"1\" class=\"dataframe\">\n",
              "  <thead>\n",
              "    <tr style=\"text-align: right;\">\n",
              "      <th></th>\n",
              "      <th>Topic</th>\n",
              "      <th>Count</th>\n",
              "      <th>Name</th>\n",
              "    </tr>\n",
              "  </thead>\n",
              "  <tbody>\n",
              "    <tr>\n",
              "      <th>0</th>\n",
              "      <td>-1</td>\n",
              "      <td>9</td>\n",
              "      <td>-1_program_scoops3d_3d_map</td>\n",
              "    </tr>\n",
              "    <tr>\n",
              "      <th>1</th>\n",
              "      <td>4</td>\n",
              "      <td>9</td>\n",
              "      <td>4_model_transport_can be_can</td>\n",
              "    </tr>\n",
              "    <tr>\n",
              "      <th>2</th>\n",
              "      <td>1</td>\n",
              "      <td>8</td>\n",
              "      <td>1_species_wave_fish_climate</td>\n",
              "    </tr>\n",
              "    <tr>\n",
              "      <th>3</th>\n",
              "      <td>5</td>\n",
              "      <td>5</td>\n",
              "      <td>5_software_vs2drti_users_transport</td>\n",
              "    </tr>\n",
              "    <tr>\n",
              "      <th>4</th>\n",
              "      <td>3</td>\n",
              "      <td>4</td>\n",
              "      <td>3_flow_aquifer_hydraulic_interface</td>\n",
              "    </tr>\n",
              "    <tr>\n",
              "      <th>5</th>\n",
              "      <td>0</td>\n",
              "      <td>3</td>\n",
              "      <td>0_modflow_flow_lpf_upw</td>\n",
              "    </tr>\n",
              "    <tr>\n",
              "      <th>6</th>\n",
              "      <td>2</td>\n",
              "      <td>2</td>\n",
              "      <td>2_psd_nurp_the cblcm_cblcm</td>\n",
              "    </tr>\n",
              "  </tbody>\n",
              "</table>\n",
              "</div>"
            ],
            "text/plain": [
              "   Topic  Count                                Name\n",
              "0     -1      9          -1_program_scoops3d_3d_map\n",
              "1      4      9        4_model_transport_can be_can\n",
              "2      1      8         1_species_wave_fish_climate\n",
              "3      5      5  5_software_vs2drti_users_transport\n",
              "4      3      4  3_flow_aquifer_hydraulic_interface\n",
              "5      0      3              0_modflow_flow_lpf_upw\n",
              "6      2      2          2_psd_nurp_the cblcm_cblcm"
            ]
          },
          "metadata": {
            "tags": []
          },
          "execution_count": 40
        }
      ]
    },
    {
      "cell_type": "code",
      "metadata": {
        "colab": {
          "base_uri": "https://localhost:8080/"
        },
        "id": "cJBbVZFaly1W",
        "outputId": "f649a56b-7e6c-4681-a984-14f49b589c17"
      },
      "source": [
        "topic_model.get_topic(3)"
      ],
      "execution_count": 41,
      "outputs": [
        {
          "output_type": "execute_result",
          "data": {
            "text/plain": [
              "[('flow', 0.02027097992759909),\n",
              " ('aquifer', 0.016627425456626314),\n",
              " ('hydraulic', 0.01630561388379467),\n",
              " ('interface', 0.015757333295100266),\n",
              " ('subduction', 0.01492632364838563),\n",
              " ('pumping', 0.01492632364838563),\n",
              " ('simulated', 0.013348119685362075),\n",
              " ('saltwater', 0.012347513474836388),\n",
              " ('hydraulic conductivity', 0.011941058918708503),\n",
              " ('conductivity', 0.011941058918708503)]"
            ]
          },
          "metadata": {
            "tags": []
          },
          "execution_count": 41
        }
      ]
    },
    {
      "cell_type": "code",
      "metadata": {
        "colab": {
          "base_uri": "https://localhost:8080/"
        },
        "id": "FQdODNS0_Xw6",
        "outputId": "2984f35b-df88-4363-d68c-f2ba6a14d8c5"
      },
      "source": [
        "topic_model.get_topic(0)"
      ],
      "execution_count": 76,
      "outputs": [
        {
          "output_type": "execute_result",
          "data": {
            "text/plain": [
              "[('modflow', 0.028229997083983698),\n",
              " ('flow', 0.02653090706232892),\n",
              " ('lpf', 0.01853307099542285),\n",
              " ('upw', 0.016279233178996204),\n",
              " ('modflow nwt', 0.016279233178996204),\n",
              " ('upw package', 0.016279233178996204),\n",
              " ('lpf package', 0.013954110996958213),\n",
              " ('the lpf package', 0.013954110996958213),\n",
              " ('the upw package', 0.013954110996958213),\n",
              " ('the lpf', 0.013954110996958213)]"
            ]
          },
          "metadata": {
            "tags": []
          },
          "execution_count": 76
        }
      ]
    },
    {
      "cell_type": "code",
      "metadata": {
        "colab": {
          "base_uri": "https://localhost:8080/"
        },
        "id": "x51OlLTKl67R",
        "outputId": "79a87035-f8ba-4126-ae60-b7cc315b6699"
      },
      "source": [
        "topic_model.find_topics(\"pollution\")"
      ],
      "execution_count": 43,
      "outputs": [
        {
          "output_type": "execute_result",
          "data": {
            "text/plain": [
              "([3, 0, 1, 4, 5],\n",
              " [0.5484616581333599,\n",
              "  0.45279863810130366,\n",
              "  0.441469870519045,\n",
              "  0.40573904098302205,\n",
              "  0.40026328891270446])"
            ]
          },
          "metadata": {
            "tags": []
          },
          "execution_count": 43
        }
      ]
    },
    {
      "cell_type": "code",
      "metadata": {
        "colab": {
          "base_uri": "https://localhost:8080/",
          "height": 667
        },
        "id": "D4hM9q79l9wY",
        "outputId": "ccb444f8-2cd5-4f1f-ec37-b5e8c3d44935"
      },
      "source": [
        "topic_model.visualize_topics()"
      ],
      "execution_count": 44,
      "outputs": [
        {
          "output_type": "display_data",
          "data": {
            "text/html": [
              "<html>\n",
              "<head><meta charset=\"utf-8\" /></head>\n",
              "<body>\n",
              "    <div>            <script src=\"https://cdnjs.cloudflare.com/ajax/libs/mathjax/2.7.5/MathJax.js?config=TeX-AMS-MML_SVG\"></script><script type=\"text/javascript\">if (window.MathJax) {MathJax.Hub.Config({SVG: {font: \"STIX-Web\"}});}</script>                <script type=\"text/javascript\">window.PlotlyConfig = {MathJaxConfig: 'local'};</script>\n",
              "        <script src=\"https://cdn.plot.ly/plotly-latest.min.js\"></script>                <div id=\"0649c6f2-de42-47b4-b3a4-eab226de38f9\" class=\"plotly-graph-div\" style=\"height:650px; width:650px;\"></div>            <script type=\"text/javascript\">                                    window.PLOTLYENV=window.PLOTLYENV || {};                                    if (document.getElementById(\"0649c6f2-de42-47b4-b3a4-eab226de38f9\")) {                    Plotly.newPlot(                        \"0649c6f2-de42-47b4-b3a4-eab226de38f9\",                        [{\"customdata\": [[7.664860725402832, 2.384108781814575, 0, \"modflow | flow | lpf | upw | modflow nwt\", 3], [8.420342445373535, 4.291731357574463, 1, \"species | wave | fish | climate | we\", 8], [6.979689121246338, 3.0920333862304688, 2, \"psd | nurp | the cblcm | cblcm | psds\", 2], [7.769798278808594, 2.8858892917633057, 3, \"flow | aquifer | hydraulic | interface | subduction\", 4], [7.598229885101318, 4.38792085647583, 4, \"model | transport | can be | can | keyword\", 9], [8.601570129394531, 3.4073429107666016, 5, \"software | vs2drti | users | transport | the programs\", 5]], \"hovertemplate\": \"<b>Topic %{customdata[2]}</b><br>Words: %{customdata[3]}<br>Size: %{customdata[4]}\", \"legendgroup\": \"\", \"marker\": {\"color\": \"#B0BEC5\", \"line\": {\"color\": \"DarkSlateGrey\", \"width\": 2}, \"size\": [3, 8, 2, 4, 9, 5], \"sizemode\": \"area\", \"sizeref\": 0.005625, \"symbol\": \"circle\"}, \"mode\": \"markers\", \"name\": \"\", \"orientation\": \"v\", \"showlegend\": false, \"type\": \"scatter\", \"x\": [7.664860725402832, 8.420342445373535, 6.979689121246338, 7.769798278808594, 7.598229885101318, 8.601570129394531], \"xaxis\": \"x\", \"y\": [2.384108781814575, 4.291731357574463, 3.0920333862304688, 2.8858892917633057, 4.38792085647583, 3.4073429107666016], \"yaxis\": \"y\"}],                        {\"annotations\": [{\"showarrow\": false, \"text\": \"D1\", \"x\": 5.932735753059387, \"y\": 3.536300724744797, \"yshift\": 10}, {\"showarrow\": false, \"text\": \"D2\", \"x\": 7.912270700931549, \"xshift\": 10, \"y\": 5.046108984947205}], \"height\": 650, \"hoverlabel\": {\"bgcolor\": \"white\", \"font\": {\"family\": \"Rockwell\", \"size\": 16}}, \"legend\": {\"itemsizing\": \"constant\", \"tracegroupgap\": 0}, \"margin\": {\"t\": 60}, \"shapes\": [{\"line\": {\"color\": \"#CFD8DC\", \"width\": 2}, \"type\": \"line\", \"x0\": 7.912270700931549, \"x1\": 7.912270700931549, \"y0\": 2.0264924645423887, \"y1\": 5.046108984947205}, {\"line\": {\"color\": \"#9E9E9E\", \"width\": 2}, \"type\": \"line\", \"x0\": 5.932735753059387, \"x1\": 9.891805648803711, \"y0\": 3.536300724744797, \"y1\": 3.536300724744797}], \"sliders\": [{\"active\": 0, \"pad\": {\"t\": 50}, \"steps\": [{\"args\": [{\"marker.color\": [[\"red\", \"#B0BEC5\", \"#B0BEC5\", \"#B0BEC5\", \"#B0BEC5\", \"#B0BEC5\"]]}], \"label\": \"Topic 0\", \"method\": \"update\"}, {\"args\": [{\"marker.color\": [[\"#B0BEC5\", \"red\", \"#B0BEC5\", \"#B0BEC5\", \"#B0BEC5\", \"#B0BEC5\"]]}], \"label\": \"Topic 1\", \"method\": \"update\"}, {\"args\": [{\"marker.color\": [[\"#B0BEC5\", \"#B0BEC5\", \"red\", \"#B0BEC5\", \"#B0BEC5\", \"#B0BEC5\"]]}], \"label\": \"Topic 2\", \"method\": \"update\"}, {\"args\": [{\"marker.color\": [[\"#B0BEC5\", \"#B0BEC5\", \"#B0BEC5\", \"red\", \"#B0BEC5\", \"#B0BEC5\"]]}], \"label\": \"Topic 3\", \"method\": \"update\"}, {\"args\": [{\"marker.color\": [[\"#B0BEC5\", \"#B0BEC5\", \"#B0BEC5\", \"#B0BEC5\", \"red\", \"#B0BEC5\"]]}], \"label\": \"Topic 4\", \"method\": \"update\"}, {\"args\": [{\"marker.color\": [[\"#B0BEC5\", \"#B0BEC5\", \"#B0BEC5\", \"#B0BEC5\", \"#B0BEC5\", \"red\"]]}], \"label\": \"Topic 5\", \"method\": \"update\"}]}], \"template\": {\"data\": {\"bar\": [{\"error_x\": {\"color\": \"rgb(36,36,36)\"}, \"error_y\": {\"color\": \"rgb(36,36,36)\"}, \"marker\": {\"line\": {\"color\": \"white\", \"width\": 0.5}}, \"type\": \"bar\"}], \"barpolar\": [{\"marker\": {\"line\": {\"color\": \"white\", \"width\": 0.5}}, \"type\": \"barpolar\"}], \"carpet\": [{\"aaxis\": {\"endlinecolor\": \"rgb(36,36,36)\", \"gridcolor\": \"white\", \"linecolor\": \"white\", \"minorgridcolor\": \"white\", \"startlinecolor\": \"rgb(36,36,36)\"}, \"baxis\": {\"endlinecolor\": \"rgb(36,36,36)\", \"gridcolor\": \"white\", \"linecolor\": \"white\", \"minorgridcolor\": \"white\", \"startlinecolor\": \"rgb(36,36,36)\"}, \"type\": \"carpet\"}], \"choropleth\": [{\"colorbar\": {\"outlinewidth\": 1, \"tickcolor\": \"rgb(36,36,36)\", \"ticks\": \"outside\"}, \"type\": \"choropleth\"}], \"contour\": [{\"colorbar\": {\"outlinewidth\": 1, \"tickcolor\": \"rgb(36,36,36)\", \"ticks\": \"outside\"}, \"colorscale\": [[0.0, \"#440154\"], [0.1111111111111111, \"#482878\"], [0.2222222222222222, \"#3e4989\"], [0.3333333333333333, \"#31688e\"], [0.4444444444444444, \"#26828e\"], [0.5555555555555556, \"#1f9e89\"], [0.6666666666666666, \"#35b779\"], [0.7777777777777778, \"#6ece58\"], [0.8888888888888888, \"#b5de2b\"], [1.0, \"#fde725\"]], \"type\": \"contour\"}], \"contourcarpet\": [{\"colorbar\": {\"outlinewidth\": 1, \"tickcolor\": \"rgb(36,36,36)\", \"ticks\": \"outside\"}, \"type\": \"contourcarpet\"}], \"heatmap\": [{\"colorbar\": {\"outlinewidth\": 1, \"tickcolor\": \"rgb(36,36,36)\", \"ticks\": \"outside\"}, \"colorscale\": [[0.0, \"#440154\"], [0.1111111111111111, \"#482878\"], [0.2222222222222222, \"#3e4989\"], [0.3333333333333333, \"#31688e\"], [0.4444444444444444, \"#26828e\"], [0.5555555555555556, \"#1f9e89\"], [0.6666666666666666, \"#35b779\"], [0.7777777777777778, \"#6ece58\"], [0.8888888888888888, \"#b5de2b\"], [1.0, \"#fde725\"]], \"type\": \"heatmap\"}], \"heatmapgl\": [{\"colorbar\": {\"outlinewidth\": 1, \"tickcolor\": \"rgb(36,36,36)\", \"ticks\": \"outside\"}, \"colorscale\": [[0.0, \"#440154\"], [0.1111111111111111, \"#482878\"], [0.2222222222222222, \"#3e4989\"], [0.3333333333333333, \"#31688e\"], [0.4444444444444444, \"#26828e\"], [0.5555555555555556, \"#1f9e89\"], [0.6666666666666666, \"#35b779\"], [0.7777777777777778, \"#6ece58\"], [0.8888888888888888, \"#b5de2b\"], [1.0, \"#fde725\"]], \"type\": \"heatmapgl\"}], \"histogram\": [{\"marker\": {\"line\": {\"color\": \"white\", \"width\": 0.6}}, \"type\": \"histogram\"}], \"histogram2d\": [{\"colorbar\": {\"outlinewidth\": 1, \"tickcolor\": \"rgb(36,36,36)\", \"ticks\": \"outside\"}, \"colorscale\": [[0.0, \"#440154\"], [0.1111111111111111, \"#482878\"], [0.2222222222222222, \"#3e4989\"], [0.3333333333333333, \"#31688e\"], [0.4444444444444444, \"#26828e\"], [0.5555555555555556, \"#1f9e89\"], [0.6666666666666666, \"#35b779\"], [0.7777777777777778, \"#6ece58\"], [0.8888888888888888, \"#b5de2b\"], [1.0, \"#fde725\"]], \"type\": \"histogram2d\"}], \"histogram2dcontour\": [{\"colorbar\": {\"outlinewidth\": 1, \"tickcolor\": \"rgb(36,36,36)\", \"ticks\": \"outside\"}, \"colorscale\": [[0.0, \"#440154\"], [0.1111111111111111, \"#482878\"], [0.2222222222222222, \"#3e4989\"], [0.3333333333333333, \"#31688e\"], [0.4444444444444444, \"#26828e\"], [0.5555555555555556, \"#1f9e89\"], [0.6666666666666666, \"#35b779\"], [0.7777777777777778, \"#6ece58\"], [0.8888888888888888, \"#b5de2b\"], [1.0, \"#fde725\"]], \"type\": \"histogram2dcontour\"}], \"mesh3d\": [{\"colorbar\": {\"outlinewidth\": 1, \"tickcolor\": \"rgb(36,36,36)\", \"ticks\": \"outside\"}, \"type\": \"mesh3d\"}], \"parcoords\": [{\"line\": {\"colorbar\": {\"outlinewidth\": 1, \"tickcolor\": \"rgb(36,36,36)\", \"ticks\": \"outside\"}}, \"type\": \"parcoords\"}], \"pie\": [{\"automargin\": true, \"type\": \"pie\"}], \"scatter\": [{\"marker\": {\"colorbar\": {\"outlinewidth\": 1, \"tickcolor\": \"rgb(36,36,36)\", \"ticks\": \"outside\"}}, \"type\": \"scatter\"}], \"scatter3d\": [{\"line\": {\"colorbar\": {\"outlinewidth\": 1, \"tickcolor\": \"rgb(36,36,36)\", \"ticks\": \"outside\"}}, \"marker\": {\"colorbar\": {\"outlinewidth\": 1, \"tickcolor\": \"rgb(36,36,36)\", \"ticks\": \"outside\"}}, \"type\": \"scatter3d\"}], \"scattercarpet\": [{\"marker\": {\"colorbar\": {\"outlinewidth\": 1, \"tickcolor\": \"rgb(36,36,36)\", \"ticks\": \"outside\"}}, \"type\": \"scattercarpet\"}], \"scattergeo\": [{\"marker\": {\"colorbar\": {\"outlinewidth\": 1, \"tickcolor\": \"rgb(36,36,36)\", \"ticks\": \"outside\"}}, \"type\": \"scattergeo\"}], \"scattergl\": [{\"marker\": {\"colorbar\": {\"outlinewidth\": 1, \"tickcolor\": \"rgb(36,36,36)\", \"ticks\": \"outside\"}}, \"type\": \"scattergl\"}], \"scattermapbox\": [{\"marker\": {\"colorbar\": {\"outlinewidth\": 1, \"tickcolor\": \"rgb(36,36,36)\", \"ticks\": \"outside\"}}, \"type\": \"scattermapbox\"}], \"scatterpolar\": [{\"marker\": {\"colorbar\": {\"outlinewidth\": 1, \"tickcolor\": \"rgb(36,36,36)\", \"ticks\": \"outside\"}}, \"type\": \"scatterpolar\"}], \"scatterpolargl\": [{\"marker\": {\"colorbar\": {\"outlinewidth\": 1, \"tickcolor\": \"rgb(36,36,36)\", \"ticks\": \"outside\"}}, \"type\": \"scatterpolargl\"}], \"scatterternary\": [{\"marker\": {\"colorbar\": {\"outlinewidth\": 1, \"tickcolor\": \"rgb(36,36,36)\", \"ticks\": \"outside\"}}, \"type\": \"scatterternary\"}], \"surface\": [{\"colorbar\": {\"outlinewidth\": 1, \"tickcolor\": \"rgb(36,36,36)\", \"ticks\": \"outside\"}, \"colorscale\": [[0.0, \"#440154\"], [0.1111111111111111, \"#482878\"], [0.2222222222222222, \"#3e4989\"], [0.3333333333333333, \"#31688e\"], [0.4444444444444444, \"#26828e\"], [0.5555555555555556, \"#1f9e89\"], [0.6666666666666666, \"#35b779\"], [0.7777777777777778, \"#6ece58\"], [0.8888888888888888, \"#b5de2b\"], [1.0, \"#fde725\"]], \"type\": \"surface\"}], \"table\": [{\"cells\": {\"fill\": {\"color\": \"rgb(237,237,237)\"}, \"line\": {\"color\": \"white\"}}, \"header\": {\"fill\": {\"color\": \"rgb(217,217,217)\"}, \"line\": {\"color\": \"white\"}}, \"type\": \"table\"}]}, \"layout\": {\"annotationdefaults\": {\"arrowhead\": 0, \"arrowwidth\": 1}, \"autotypenumbers\": \"strict\", \"coloraxis\": {\"colorbar\": {\"outlinewidth\": 1, \"tickcolor\": \"rgb(36,36,36)\", \"ticks\": \"outside\"}}, \"colorscale\": {\"diverging\": [[0.0, \"rgb(103,0,31)\"], [0.1, \"rgb(178,24,43)\"], [0.2, \"rgb(214,96,77)\"], [0.3, \"rgb(244,165,130)\"], [0.4, \"rgb(253,219,199)\"], [0.5, \"rgb(247,247,247)\"], [0.6, \"rgb(209,229,240)\"], [0.7, \"rgb(146,197,222)\"], [0.8, \"rgb(67,147,195)\"], [0.9, \"rgb(33,102,172)\"], [1.0, \"rgb(5,48,97)\"]], \"sequential\": [[0.0, \"#440154\"], [0.1111111111111111, \"#482878\"], [0.2222222222222222, \"#3e4989\"], [0.3333333333333333, \"#31688e\"], [0.4444444444444444, \"#26828e\"], [0.5555555555555556, \"#1f9e89\"], [0.6666666666666666, \"#35b779\"], [0.7777777777777778, \"#6ece58\"], [0.8888888888888888, \"#b5de2b\"], [1.0, \"#fde725\"]], \"sequentialminus\": [[0.0, \"#440154\"], [0.1111111111111111, \"#482878\"], [0.2222222222222222, \"#3e4989\"], [0.3333333333333333, \"#31688e\"], [0.4444444444444444, \"#26828e\"], [0.5555555555555556, \"#1f9e89\"], [0.6666666666666666, \"#35b779\"], [0.7777777777777778, \"#6ece58\"], [0.8888888888888888, \"#b5de2b\"], [1.0, \"#fde725\"]]}, \"colorway\": [\"#1F77B4\", \"#FF7F0E\", \"#2CA02C\", \"#D62728\", \"#9467BD\", \"#8C564B\", \"#E377C2\", \"#7F7F7F\", \"#BCBD22\", \"#17BECF\"], \"font\": {\"color\": \"rgb(36,36,36)\"}, \"geo\": {\"bgcolor\": \"white\", \"lakecolor\": \"white\", \"landcolor\": \"white\", \"showlakes\": true, \"showland\": true, \"subunitcolor\": \"white\"}, \"hoverlabel\": {\"align\": \"left\"}, \"hovermode\": \"closest\", \"mapbox\": {\"style\": \"light\"}, \"paper_bgcolor\": \"white\", \"plot_bgcolor\": \"white\", \"polar\": {\"angularaxis\": {\"gridcolor\": \"rgb(232,232,232)\", \"linecolor\": \"rgb(36,36,36)\", \"showgrid\": false, \"showline\": true, \"ticks\": \"outside\"}, \"bgcolor\": \"white\", \"radialaxis\": {\"gridcolor\": \"rgb(232,232,232)\", \"linecolor\": \"rgb(36,36,36)\", \"showgrid\": false, \"showline\": true, \"ticks\": \"outside\"}}, \"scene\": {\"xaxis\": {\"backgroundcolor\": \"white\", \"gridcolor\": \"rgb(232,232,232)\", \"gridwidth\": 2, \"linecolor\": \"rgb(36,36,36)\", \"showbackground\": true, \"showgrid\": false, \"showline\": true, \"ticks\": \"outside\", \"zeroline\": false, \"zerolinecolor\": \"rgb(36,36,36)\"}, \"yaxis\": {\"backgroundcolor\": \"white\", \"gridcolor\": \"rgb(232,232,232)\", \"gridwidth\": 2, \"linecolor\": \"rgb(36,36,36)\", \"showbackground\": true, \"showgrid\": false, \"showline\": true, \"ticks\": \"outside\", \"zeroline\": false, \"zerolinecolor\": \"rgb(36,36,36)\"}, \"zaxis\": {\"backgroundcolor\": \"white\", \"gridcolor\": \"rgb(232,232,232)\", \"gridwidth\": 2, \"linecolor\": \"rgb(36,36,36)\", \"showbackground\": true, \"showgrid\": false, \"showline\": true, \"ticks\": \"outside\", \"zeroline\": false, \"zerolinecolor\": \"rgb(36,36,36)\"}}, \"shapedefaults\": {\"fillcolor\": \"black\", \"line\": {\"width\": 0}, \"opacity\": 0.3}, \"ternary\": {\"aaxis\": {\"gridcolor\": \"rgb(232,232,232)\", \"linecolor\": \"rgb(36,36,36)\", \"showgrid\": false, \"showline\": true, \"ticks\": \"outside\"}, \"baxis\": {\"gridcolor\": \"rgb(232,232,232)\", \"linecolor\": \"rgb(36,36,36)\", \"showgrid\": false, \"showline\": true, \"ticks\": \"outside\"}, \"bgcolor\": \"white\", \"caxis\": {\"gridcolor\": \"rgb(232,232,232)\", \"linecolor\": \"rgb(36,36,36)\", \"showgrid\": false, \"showline\": true, \"ticks\": \"outside\"}}, \"title\": {\"x\": 0.05}, \"xaxis\": {\"automargin\": true, \"gridcolor\": \"rgb(232,232,232)\", \"linecolor\": \"rgb(36,36,36)\", \"showgrid\": false, \"showline\": true, \"ticks\": \"outside\", \"title\": {\"standoff\": 15}, \"zeroline\": false, \"zerolinecolor\": \"rgb(36,36,36)\"}, \"yaxis\": {\"automargin\": true, \"gridcolor\": \"rgb(232,232,232)\", \"linecolor\": \"rgb(36,36,36)\", \"showgrid\": false, \"showline\": true, \"ticks\": \"outside\", \"title\": {\"standoff\": 15}, \"zeroline\": false, \"zerolinecolor\": \"rgb(36,36,36)\"}}}, \"title\": {\"font\": {\"color\": \"Black\", \"size\": 22}, \"text\": \"<b>Intertopic Distance Map\", \"x\": 0.5, \"xanchor\": \"center\", \"y\": 0.95, \"yanchor\": \"top\"}, \"width\": 650, \"xaxis\": {\"anchor\": \"y\", \"domain\": [0.0, 1.0], \"range\": [5.932735753059387, 9.891805648803711], \"title\": {\"text\": \"\"}, \"visible\": false}, \"yaxis\": {\"anchor\": \"x\", \"domain\": [0.0, 1.0], \"range\": [2.0264924645423887, 5.046108984947205], \"title\": {\"text\": \"\"}, \"visible\": false}},                        {\"responsive\": true}                    ).then(function(){\n",
              "                            \n",
              "var gd = document.getElementById('0649c6f2-de42-47b4-b3a4-eab226de38f9');\n",
              "var x = new MutationObserver(function (mutations, observer) {{\n",
              "        var display = window.getComputedStyle(gd).display;\n",
              "        if (!display || display === 'none') {{\n",
              "            console.log([gd, 'removed!']);\n",
              "            Plotly.purge(gd);\n",
              "            observer.disconnect();\n",
              "        }}\n",
              "}});\n",
              "\n",
              "// Listen for the removal of the full notebook cells\n",
              "var notebookContainer = gd.closest('#notebook-container');\n",
              "if (notebookContainer) {{\n",
              "    x.observe(notebookContainer, {childList: true});\n",
              "}}\n",
              "\n",
              "// Listen for the clearing of the current output cell\n",
              "var outputEl = gd.closest('.output');\n",
              "if (outputEl) {{\n",
              "    x.observe(outputEl, {childList: true});\n",
              "}}\n",
              "\n",
              "                        })                };                            </script>        </div>\n",
              "</body>\n",
              "</html>"
            ]
          },
          "metadata": {
            "tags": []
          }
        }
      ]
    },
    {
      "cell_type": "code",
      "metadata": {
        "colab": {
          "base_uri": "https://localhost:8080/",
          "height": 542
        },
        "id": "AZVampscoZu_",
        "outputId": "98b5d02b-6e19-4243-ea8d-7d358db93fc6"
      },
      "source": [
        "topic_model.visualize_distribution(probs[0])"
      ],
      "execution_count": 45,
      "outputs": [
        {
          "output_type": "display_data",
          "data": {
            "text/html": [
              "<html>\n",
              "<head><meta charset=\"utf-8\" /></head>\n",
              "<body>\n",
              "    <div>            <script src=\"https://cdnjs.cloudflare.com/ajax/libs/mathjax/2.7.5/MathJax.js?config=TeX-AMS-MML_SVG\"></script><script type=\"text/javascript\">if (window.MathJax) {MathJax.Hub.Config({SVG: {font: \"STIX-Web\"}});}</script>                <script type=\"text/javascript\">window.PlotlyConfig = {MathJaxConfig: 'local'};</script>\n",
              "        <script src=\"https://cdn.plot.ly/plotly-latest.min.js\"></script>                <div id=\"5c63b67b-cfcc-49ab-85e8-1aa5be45c0ff\" class=\"plotly-graph-div\" style=\"height:525px; width:100%;\"></div>            <script type=\"text/javascript\">                                    window.PLOTLYENV=window.PLOTLYENV || {};                                    if (document.getElementById(\"5c63b67b-cfcc-49ab-85e8-1aa5be45c0ff\")) {                    Plotly.newPlot(                        \"5c63b67b-cfcc-49ab-85e8-1aa5be45c0ff\",                        [{\"marker\": {\"color\": \"#C8D2D7\", \"line\": {\"color\": \"#6E8484\", \"width\": 1}}, \"orientation\": \"h\", \"type\": \"bar\", \"x\": [1.0], \"y\": [\"<b>Topic 5</b>: software_vs2drti_users_t...\"]}],                        {\"hoverlabel\": {\"bgcolor\": \"white\", \"font\": {\"family\": \"Rockwell\", \"size\": 16}}, \"template\": {\"data\": {\"bar\": [{\"error_x\": {\"color\": \"rgb(36,36,36)\"}, \"error_y\": {\"color\": \"rgb(36,36,36)\"}, \"marker\": {\"line\": {\"color\": \"white\", \"width\": 0.5}}, \"type\": \"bar\"}], \"barpolar\": [{\"marker\": {\"line\": {\"color\": \"white\", \"width\": 0.5}}, \"type\": \"barpolar\"}], \"carpet\": [{\"aaxis\": {\"endlinecolor\": \"rgb(36,36,36)\", \"gridcolor\": \"white\", \"linecolor\": \"white\", \"minorgridcolor\": \"white\", \"startlinecolor\": \"rgb(36,36,36)\"}, \"baxis\": {\"endlinecolor\": \"rgb(36,36,36)\", \"gridcolor\": \"white\", \"linecolor\": \"white\", \"minorgridcolor\": \"white\", \"startlinecolor\": \"rgb(36,36,36)\"}, \"type\": \"carpet\"}], \"choropleth\": [{\"colorbar\": {\"outlinewidth\": 1, \"tickcolor\": \"rgb(36,36,36)\", \"ticks\": \"outside\"}, \"type\": \"choropleth\"}], \"contour\": [{\"colorbar\": {\"outlinewidth\": 1, \"tickcolor\": \"rgb(36,36,36)\", \"ticks\": \"outside\"}, \"colorscale\": [[0.0, \"#440154\"], [0.1111111111111111, \"#482878\"], [0.2222222222222222, \"#3e4989\"], [0.3333333333333333, \"#31688e\"], [0.4444444444444444, \"#26828e\"], [0.5555555555555556, \"#1f9e89\"], [0.6666666666666666, \"#35b779\"], [0.7777777777777778, \"#6ece58\"], [0.8888888888888888, \"#b5de2b\"], [1.0, \"#fde725\"]], \"type\": \"contour\"}], \"contourcarpet\": [{\"colorbar\": {\"outlinewidth\": 1, \"tickcolor\": \"rgb(36,36,36)\", \"ticks\": \"outside\"}, \"type\": \"contourcarpet\"}], \"heatmap\": [{\"colorbar\": {\"outlinewidth\": 1, \"tickcolor\": \"rgb(36,36,36)\", \"ticks\": \"outside\"}, \"colorscale\": [[0.0, \"#440154\"], [0.1111111111111111, \"#482878\"], [0.2222222222222222, \"#3e4989\"], [0.3333333333333333, \"#31688e\"], [0.4444444444444444, \"#26828e\"], [0.5555555555555556, \"#1f9e89\"], [0.6666666666666666, \"#35b779\"], [0.7777777777777778, \"#6ece58\"], [0.8888888888888888, \"#b5de2b\"], [1.0, \"#fde725\"]], \"type\": \"heatmap\"}], \"heatmapgl\": [{\"colorbar\": {\"outlinewidth\": 1, \"tickcolor\": \"rgb(36,36,36)\", \"ticks\": \"outside\"}, \"colorscale\": [[0.0, \"#440154\"], [0.1111111111111111, \"#482878\"], [0.2222222222222222, \"#3e4989\"], [0.3333333333333333, \"#31688e\"], [0.4444444444444444, \"#26828e\"], [0.5555555555555556, \"#1f9e89\"], [0.6666666666666666, \"#35b779\"], [0.7777777777777778, \"#6ece58\"], [0.8888888888888888, \"#b5de2b\"], [1.0, \"#fde725\"]], \"type\": \"heatmapgl\"}], \"histogram\": [{\"marker\": {\"line\": {\"color\": \"white\", \"width\": 0.6}}, \"type\": \"histogram\"}], \"histogram2d\": [{\"colorbar\": {\"outlinewidth\": 1, \"tickcolor\": \"rgb(36,36,36)\", \"ticks\": \"outside\"}, \"colorscale\": [[0.0, \"#440154\"], [0.1111111111111111, \"#482878\"], [0.2222222222222222, \"#3e4989\"], [0.3333333333333333, \"#31688e\"], [0.4444444444444444, \"#26828e\"], [0.5555555555555556, \"#1f9e89\"], [0.6666666666666666, \"#35b779\"], [0.7777777777777778, \"#6ece58\"], [0.8888888888888888, \"#b5de2b\"], [1.0, \"#fde725\"]], \"type\": \"histogram2d\"}], \"histogram2dcontour\": [{\"colorbar\": {\"outlinewidth\": 1, \"tickcolor\": \"rgb(36,36,36)\", \"ticks\": \"outside\"}, \"colorscale\": [[0.0, \"#440154\"], [0.1111111111111111, \"#482878\"], [0.2222222222222222, \"#3e4989\"], [0.3333333333333333, \"#31688e\"], [0.4444444444444444, \"#26828e\"], [0.5555555555555556, \"#1f9e89\"], [0.6666666666666666, \"#35b779\"], [0.7777777777777778, \"#6ece58\"], [0.8888888888888888, \"#b5de2b\"], [1.0, \"#fde725\"]], \"type\": \"histogram2dcontour\"}], \"mesh3d\": [{\"colorbar\": {\"outlinewidth\": 1, \"tickcolor\": \"rgb(36,36,36)\", \"ticks\": \"outside\"}, \"type\": \"mesh3d\"}], \"parcoords\": [{\"line\": {\"colorbar\": {\"outlinewidth\": 1, \"tickcolor\": \"rgb(36,36,36)\", \"ticks\": \"outside\"}}, \"type\": \"parcoords\"}], \"pie\": [{\"automargin\": true, \"type\": \"pie\"}], \"scatter\": [{\"marker\": {\"colorbar\": {\"outlinewidth\": 1, \"tickcolor\": \"rgb(36,36,36)\", \"ticks\": \"outside\"}}, \"type\": \"scatter\"}], \"scatter3d\": [{\"line\": {\"colorbar\": {\"outlinewidth\": 1, \"tickcolor\": \"rgb(36,36,36)\", \"ticks\": \"outside\"}}, \"marker\": {\"colorbar\": {\"outlinewidth\": 1, \"tickcolor\": \"rgb(36,36,36)\", \"ticks\": \"outside\"}}, \"type\": \"scatter3d\"}], \"scattercarpet\": [{\"marker\": {\"colorbar\": {\"outlinewidth\": 1, \"tickcolor\": \"rgb(36,36,36)\", \"ticks\": \"outside\"}}, \"type\": \"scattercarpet\"}], \"scattergeo\": [{\"marker\": {\"colorbar\": {\"outlinewidth\": 1, \"tickcolor\": \"rgb(36,36,36)\", \"ticks\": \"outside\"}}, \"type\": \"scattergeo\"}], \"scattergl\": [{\"marker\": {\"colorbar\": {\"outlinewidth\": 1, \"tickcolor\": \"rgb(36,36,36)\", \"ticks\": \"outside\"}}, \"type\": \"scattergl\"}], \"scattermapbox\": [{\"marker\": {\"colorbar\": {\"outlinewidth\": 1, \"tickcolor\": \"rgb(36,36,36)\", \"ticks\": \"outside\"}}, \"type\": \"scattermapbox\"}], \"scatterpolar\": [{\"marker\": {\"colorbar\": {\"outlinewidth\": 1, \"tickcolor\": \"rgb(36,36,36)\", \"ticks\": \"outside\"}}, \"type\": \"scatterpolar\"}], \"scatterpolargl\": [{\"marker\": {\"colorbar\": {\"outlinewidth\": 1, \"tickcolor\": \"rgb(36,36,36)\", \"ticks\": \"outside\"}}, \"type\": \"scatterpolargl\"}], \"scatterternary\": [{\"marker\": {\"colorbar\": {\"outlinewidth\": 1, \"tickcolor\": \"rgb(36,36,36)\", \"ticks\": \"outside\"}}, \"type\": \"scatterternary\"}], \"surface\": [{\"colorbar\": {\"outlinewidth\": 1, \"tickcolor\": \"rgb(36,36,36)\", \"ticks\": \"outside\"}, \"colorscale\": [[0.0, \"#440154\"], [0.1111111111111111, \"#482878\"], [0.2222222222222222, \"#3e4989\"], [0.3333333333333333, \"#31688e\"], [0.4444444444444444, \"#26828e\"], [0.5555555555555556, \"#1f9e89\"], [0.6666666666666666, \"#35b779\"], [0.7777777777777778, \"#6ece58\"], [0.8888888888888888, \"#b5de2b\"], [1.0, \"#fde725\"]], \"type\": \"surface\"}], \"table\": [{\"cells\": {\"fill\": {\"color\": \"rgb(237,237,237)\"}, \"line\": {\"color\": \"white\"}}, \"header\": {\"fill\": {\"color\": \"rgb(217,217,217)\"}, \"line\": {\"color\": \"white\"}}, \"type\": \"table\"}]}, \"layout\": {\"annotationdefaults\": {\"arrowhead\": 0, \"arrowwidth\": 1}, \"autotypenumbers\": \"strict\", \"coloraxis\": {\"colorbar\": {\"outlinewidth\": 1, \"tickcolor\": \"rgb(36,36,36)\", \"ticks\": \"outside\"}}, \"colorscale\": {\"diverging\": [[0.0, \"rgb(103,0,31)\"], [0.1, \"rgb(178,24,43)\"], [0.2, \"rgb(214,96,77)\"], [0.3, \"rgb(244,165,130)\"], [0.4, \"rgb(253,219,199)\"], [0.5, \"rgb(247,247,247)\"], [0.6, \"rgb(209,229,240)\"], [0.7, \"rgb(146,197,222)\"], [0.8, \"rgb(67,147,195)\"], [0.9, \"rgb(33,102,172)\"], [1.0, \"rgb(5,48,97)\"]], \"sequential\": [[0.0, \"#440154\"], [0.1111111111111111, \"#482878\"], [0.2222222222222222, \"#3e4989\"], [0.3333333333333333, \"#31688e\"], [0.4444444444444444, \"#26828e\"], [0.5555555555555556, \"#1f9e89\"], [0.6666666666666666, \"#35b779\"], [0.7777777777777778, \"#6ece58\"], [0.8888888888888888, \"#b5de2b\"], [1.0, \"#fde725\"]], \"sequentialminus\": [[0.0, \"#440154\"], [0.1111111111111111, \"#482878\"], [0.2222222222222222, \"#3e4989\"], [0.3333333333333333, \"#31688e\"], [0.4444444444444444, \"#26828e\"], [0.5555555555555556, \"#1f9e89\"], [0.6666666666666666, \"#35b779\"], [0.7777777777777778, \"#6ece58\"], [0.8888888888888888, \"#b5de2b\"], [1.0, \"#fde725\"]]}, \"colorway\": [\"#1F77B4\", \"#FF7F0E\", \"#2CA02C\", \"#D62728\", \"#9467BD\", \"#8C564B\", \"#E377C2\", \"#7F7F7F\", \"#BCBD22\", \"#17BECF\"], \"font\": {\"color\": \"rgb(36,36,36)\"}, \"geo\": {\"bgcolor\": \"white\", \"lakecolor\": \"white\", \"landcolor\": \"white\", \"showlakes\": true, \"showland\": true, \"subunitcolor\": \"white\"}, \"hoverlabel\": {\"align\": \"left\"}, \"hovermode\": \"closest\", \"mapbox\": {\"style\": \"light\"}, \"paper_bgcolor\": \"white\", \"plot_bgcolor\": \"white\", \"polar\": {\"angularaxis\": {\"gridcolor\": \"rgb(232,232,232)\", \"linecolor\": \"rgb(36,36,36)\", \"showgrid\": false, \"showline\": true, \"ticks\": \"outside\"}, \"bgcolor\": \"white\", \"radialaxis\": {\"gridcolor\": \"rgb(232,232,232)\", \"linecolor\": \"rgb(36,36,36)\", \"showgrid\": false, \"showline\": true, \"ticks\": \"outside\"}}, \"scene\": {\"xaxis\": {\"backgroundcolor\": \"white\", \"gridcolor\": \"rgb(232,232,232)\", \"gridwidth\": 2, \"linecolor\": \"rgb(36,36,36)\", \"showbackground\": true, \"showgrid\": false, \"showline\": true, \"ticks\": \"outside\", \"zeroline\": false, \"zerolinecolor\": \"rgb(36,36,36)\"}, \"yaxis\": {\"backgroundcolor\": \"white\", \"gridcolor\": \"rgb(232,232,232)\", \"gridwidth\": 2, \"linecolor\": \"rgb(36,36,36)\", \"showbackground\": true, \"showgrid\": false, \"showline\": true, \"ticks\": \"outside\", \"zeroline\": false, \"zerolinecolor\": \"rgb(36,36,36)\"}, \"zaxis\": {\"backgroundcolor\": \"white\", \"gridcolor\": \"rgb(232,232,232)\", \"gridwidth\": 2, \"linecolor\": \"rgb(36,36,36)\", \"showbackground\": true, \"showgrid\": false, \"showline\": true, \"ticks\": \"outside\", \"zeroline\": false, \"zerolinecolor\": \"rgb(36,36,36)\"}}, \"shapedefaults\": {\"fillcolor\": \"black\", \"line\": {\"width\": 0}, \"opacity\": 0.3}, \"ternary\": {\"aaxis\": {\"gridcolor\": \"rgb(232,232,232)\", \"linecolor\": \"rgb(36,36,36)\", \"showgrid\": false, \"showline\": true, \"ticks\": \"outside\"}, \"baxis\": {\"gridcolor\": \"rgb(232,232,232)\", \"linecolor\": \"rgb(36,36,36)\", \"showgrid\": false, \"showline\": true, \"ticks\": \"outside\"}, \"bgcolor\": \"white\", \"caxis\": {\"gridcolor\": \"rgb(232,232,232)\", \"linecolor\": \"rgb(36,36,36)\", \"showgrid\": false, \"showline\": true, \"ticks\": \"outside\"}}, \"title\": {\"x\": 0.05}, \"xaxis\": {\"automargin\": true, \"gridcolor\": \"rgb(232,232,232)\", \"linecolor\": \"rgb(36,36,36)\", \"showgrid\": false, \"showline\": true, \"ticks\": \"outside\", \"title\": {\"standoff\": 15}, \"zeroline\": false, \"zerolinecolor\": \"rgb(36,36,36)\"}, \"yaxis\": {\"automargin\": true, \"gridcolor\": \"rgb(232,232,232)\", \"linecolor\": \"rgb(36,36,36)\", \"showgrid\": false, \"showline\": true, \"ticks\": \"outside\", \"title\": {\"standoff\": 15}, \"zeroline\": false, \"zerolinecolor\": \"rgb(36,36,36)\"}}}, \"title\": {\"font\": {\"color\": \"Black\", \"size\": 22}, \"text\": \"<b>Topic Probability Distribution\", \"x\": 0.5, \"xanchor\": \"center\", \"y\": 0.95, \"yanchor\": \"top\"}, \"xaxis\": {\"title\": {\"text\": \"Probability\"}}},                        {\"responsive\": true}                    ).then(function(){\n",
              "                            \n",
              "var gd = document.getElementById('5c63b67b-cfcc-49ab-85e8-1aa5be45c0ff');\n",
              "var x = new MutationObserver(function (mutations, observer) {{\n",
              "        var display = window.getComputedStyle(gd).display;\n",
              "        if (!display || display === 'none') {{\n",
              "            console.log([gd, 'removed!']);\n",
              "            Plotly.purge(gd);\n",
              "            observer.disconnect();\n",
              "        }}\n",
              "}});\n",
              "\n",
              "// Listen for the removal of the full notebook cells\n",
              "var notebookContainer = gd.closest('#notebook-container');\n",
              "if (notebookContainer) {{\n",
              "    x.observe(notebookContainer, {childList: true});\n",
              "}}\n",
              "\n",
              "// Listen for the clearing of the current output cell\n",
              "var outputEl = gd.closest('.output');\n",
              "if (outputEl) {{\n",
              "    x.observe(outputEl, {childList: true});\n",
              "}}\n",
              "\n",
              "                        })                };                            </script>        </div>\n",
              "</body>\n",
              "</html>"
            ]
          },
          "metadata": {
            "tags": []
          }
        }
      ]
    },
    {
      "cell_type": "code",
      "metadata": {
        "colab": {
          "base_uri": "https://localhost:8080/",
          "height": 542
        },
        "id": "U4LpCXCro0q3",
        "outputId": "1319712d-3c2e-4992-a581-f1ef54eef8cf"
      },
      "source": [
        "topic_model.visualize_distribution(probs[1])"
      ],
      "execution_count": 46,
      "outputs": [
        {
          "output_type": "display_data",
          "data": {
            "text/html": [
              "<html>\n",
              "<head><meta charset=\"utf-8\" /></head>\n",
              "<body>\n",
              "    <div>            <script src=\"https://cdnjs.cloudflare.com/ajax/libs/mathjax/2.7.5/MathJax.js?config=TeX-AMS-MML_SVG\"></script><script type=\"text/javascript\">if (window.MathJax) {MathJax.Hub.Config({SVG: {font: \"STIX-Web\"}});}</script>                <script type=\"text/javascript\">window.PlotlyConfig = {MathJaxConfig: 'local'};</script>\n",
              "        <script src=\"https://cdn.plot.ly/plotly-latest.min.js\"></script>                <div id=\"7ba90d80-884d-4532-8ed0-7543125d9a63\" class=\"plotly-graph-div\" style=\"height:525px; width:100%;\"></div>            <script type=\"text/javascript\">                                    window.PLOTLYENV=window.PLOTLYENV || {};                                    if (document.getElementById(\"7ba90d80-884d-4532-8ed0-7543125d9a63\")) {                    Plotly.newPlot(                        \"7ba90d80-884d-4532-8ed0-7543125d9a63\",                        [{\"marker\": {\"color\": \"#C8D2D7\", \"line\": {\"color\": \"#6E8484\", \"width\": 1}}, \"orientation\": \"h\", \"type\": \"bar\", \"x\": [0.10919498528525519, 0.0768439105504151, 0.10246140317283729, 0.12411569766533115, 0.07355390383392932, 0.16779777248001151], \"y\": [\"<b>Topic 0</b>: modflow_flow_lpf_upw_mod...\", \"<b>Topic 1</b>: species_wave_fish_climat...\", \"<b>Topic 2</b>: psd_nurp_the cblcm_cblcm...\", \"<b>Topic 3</b>: flow_aquifer_hydraulic_i...\", \"<b>Topic 4</b>: model_transport_can be_c...\", \"<b>Topic 5</b>: software_vs2drti_users_t...\"]}],                        {\"hoverlabel\": {\"bgcolor\": \"white\", \"font\": {\"family\": \"Rockwell\", \"size\": 16}}, \"template\": {\"data\": {\"bar\": [{\"error_x\": {\"color\": \"rgb(36,36,36)\"}, \"error_y\": {\"color\": \"rgb(36,36,36)\"}, \"marker\": {\"line\": {\"color\": \"white\", \"width\": 0.5}}, \"type\": \"bar\"}], \"barpolar\": [{\"marker\": {\"line\": {\"color\": \"white\", \"width\": 0.5}}, \"type\": \"barpolar\"}], \"carpet\": [{\"aaxis\": {\"endlinecolor\": \"rgb(36,36,36)\", \"gridcolor\": \"white\", \"linecolor\": \"white\", \"minorgridcolor\": \"white\", \"startlinecolor\": \"rgb(36,36,36)\"}, \"baxis\": {\"endlinecolor\": \"rgb(36,36,36)\", \"gridcolor\": \"white\", \"linecolor\": \"white\", \"minorgridcolor\": \"white\", \"startlinecolor\": \"rgb(36,36,36)\"}, \"type\": \"carpet\"}], \"choropleth\": [{\"colorbar\": {\"outlinewidth\": 1, \"tickcolor\": \"rgb(36,36,36)\", \"ticks\": \"outside\"}, \"type\": \"choropleth\"}], \"contour\": [{\"colorbar\": {\"outlinewidth\": 1, \"tickcolor\": \"rgb(36,36,36)\", \"ticks\": \"outside\"}, \"colorscale\": [[0.0, \"#440154\"], [0.1111111111111111, \"#482878\"], [0.2222222222222222, \"#3e4989\"], [0.3333333333333333, \"#31688e\"], [0.4444444444444444, \"#26828e\"], [0.5555555555555556, \"#1f9e89\"], [0.6666666666666666, \"#35b779\"], [0.7777777777777778, \"#6ece58\"], [0.8888888888888888, \"#b5de2b\"], [1.0, \"#fde725\"]], \"type\": \"contour\"}], \"contourcarpet\": [{\"colorbar\": {\"outlinewidth\": 1, \"tickcolor\": \"rgb(36,36,36)\", \"ticks\": \"outside\"}, \"type\": \"contourcarpet\"}], \"heatmap\": [{\"colorbar\": {\"outlinewidth\": 1, \"tickcolor\": \"rgb(36,36,36)\", \"ticks\": \"outside\"}, \"colorscale\": [[0.0, \"#440154\"], [0.1111111111111111, \"#482878\"], [0.2222222222222222, \"#3e4989\"], [0.3333333333333333, \"#31688e\"], [0.4444444444444444, \"#26828e\"], [0.5555555555555556, \"#1f9e89\"], [0.6666666666666666, \"#35b779\"], [0.7777777777777778, \"#6ece58\"], [0.8888888888888888, \"#b5de2b\"], [1.0, \"#fde725\"]], \"type\": \"heatmap\"}], \"heatmapgl\": [{\"colorbar\": {\"outlinewidth\": 1, \"tickcolor\": \"rgb(36,36,36)\", \"ticks\": \"outside\"}, \"colorscale\": [[0.0, \"#440154\"], [0.1111111111111111, \"#482878\"], [0.2222222222222222, \"#3e4989\"], [0.3333333333333333, \"#31688e\"], [0.4444444444444444, \"#26828e\"], [0.5555555555555556, \"#1f9e89\"], [0.6666666666666666, \"#35b779\"], [0.7777777777777778, \"#6ece58\"], [0.8888888888888888, \"#b5de2b\"], [1.0, \"#fde725\"]], \"type\": \"heatmapgl\"}], \"histogram\": [{\"marker\": {\"line\": {\"color\": \"white\", \"width\": 0.6}}, \"type\": \"histogram\"}], \"histogram2d\": [{\"colorbar\": {\"outlinewidth\": 1, \"tickcolor\": \"rgb(36,36,36)\", \"ticks\": \"outside\"}, \"colorscale\": [[0.0, \"#440154\"], [0.1111111111111111, \"#482878\"], [0.2222222222222222, \"#3e4989\"], [0.3333333333333333, \"#31688e\"], [0.4444444444444444, \"#26828e\"], [0.5555555555555556, \"#1f9e89\"], [0.6666666666666666, \"#35b779\"], [0.7777777777777778, \"#6ece58\"], [0.8888888888888888, \"#b5de2b\"], [1.0, \"#fde725\"]], \"type\": \"histogram2d\"}], \"histogram2dcontour\": [{\"colorbar\": {\"outlinewidth\": 1, \"tickcolor\": \"rgb(36,36,36)\", \"ticks\": \"outside\"}, \"colorscale\": [[0.0, \"#440154\"], [0.1111111111111111, \"#482878\"], [0.2222222222222222, \"#3e4989\"], [0.3333333333333333, \"#31688e\"], [0.4444444444444444, \"#26828e\"], [0.5555555555555556, \"#1f9e89\"], [0.6666666666666666, \"#35b779\"], [0.7777777777777778, \"#6ece58\"], [0.8888888888888888, \"#b5de2b\"], [1.0, \"#fde725\"]], \"type\": \"histogram2dcontour\"}], \"mesh3d\": [{\"colorbar\": {\"outlinewidth\": 1, \"tickcolor\": \"rgb(36,36,36)\", \"ticks\": \"outside\"}, \"type\": \"mesh3d\"}], \"parcoords\": [{\"line\": {\"colorbar\": {\"outlinewidth\": 1, \"tickcolor\": \"rgb(36,36,36)\", \"ticks\": \"outside\"}}, \"type\": \"parcoords\"}], \"pie\": [{\"automargin\": true, \"type\": \"pie\"}], \"scatter\": [{\"marker\": {\"colorbar\": {\"outlinewidth\": 1, \"tickcolor\": \"rgb(36,36,36)\", \"ticks\": \"outside\"}}, \"type\": \"scatter\"}], \"scatter3d\": [{\"line\": {\"colorbar\": {\"outlinewidth\": 1, \"tickcolor\": \"rgb(36,36,36)\", \"ticks\": \"outside\"}}, \"marker\": {\"colorbar\": {\"outlinewidth\": 1, \"tickcolor\": \"rgb(36,36,36)\", \"ticks\": \"outside\"}}, \"type\": \"scatter3d\"}], \"scattercarpet\": [{\"marker\": {\"colorbar\": {\"outlinewidth\": 1, \"tickcolor\": \"rgb(36,36,36)\", \"ticks\": \"outside\"}}, \"type\": \"scattercarpet\"}], \"scattergeo\": [{\"marker\": {\"colorbar\": {\"outlinewidth\": 1, \"tickcolor\": \"rgb(36,36,36)\", \"ticks\": \"outside\"}}, \"type\": \"scattergeo\"}], \"scattergl\": [{\"marker\": {\"colorbar\": {\"outlinewidth\": 1, \"tickcolor\": \"rgb(36,36,36)\", \"ticks\": \"outside\"}}, \"type\": \"scattergl\"}], \"scattermapbox\": [{\"marker\": {\"colorbar\": {\"outlinewidth\": 1, \"tickcolor\": \"rgb(36,36,36)\", \"ticks\": \"outside\"}}, \"type\": \"scattermapbox\"}], \"scatterpolar\": [{\"marker\": {\"colorbar\": {\"outlinewidth\": 1, \"tickcolor\": \"rgb(36,36,36)\", \"ticks\": \"outside\"}}, \"type\": \"scatterpolar\"}], \"scatterpolargl\": [{\"marker\": {\"colorbar\": {\"outlinewidth\": 1, \"tickcolor\": \"rgb(36,36,36)\", \"ticks\": \"outside\"}}, \"type\": \"scatterpolargl\"}], \"scatterternary\": [{\"marker\": {\"colorbar\": {\"outlinewidth\": 1, \"tickcolor\": \"rgb(36,36,36)\", \"ticks\": \"outside\"}}, \"type\": \"scatterternary\"}], \"surface\": [{\"colorbar\": {\"outlinewidth\": 1, \"tickcolor\": \"rgb(36,36,36)\", \"ticks\": \"outside\"}, \"colorscale\": [[0.0, \"#440154\"], [0.1111111111111111, \"#482878\"], [0.2222222222222222, \"#3e4989\"], [0.3333333333333333, \"#31688e\"], [0.4444444444444444, \"#26828e\"], [0.5555555555555556, \"#1f9e89\"], [0.6666666666666666, \"#35b779\"], [0.7777777777777778, \"#6ece58\"], [0.8888888888888888, \"#b5de2b\"], [1.0, \"#fde725\"]], \"type\": \"surface\"}], \"table\": [{\"cells\": {\"fill\": {\"color\": \"rgb(237,237,237)\"}, \"line\": {\"color\": \"white\"}}, \"header\": {\"fill\": {\"color\": \"rgb(217,217,217)\"}, \"line\": {\"color\": \"white\"}}, \"type\": \"table\"}]}, \"layout\": {\"annotationdefaults\": {\"arrowhead\": 0, \"arrowwidth\": 1}, \"autotypenumbers\": \"strict\", \"coloraxis\": {\"colorbar\": {\"outlinewidth\": 1, \"tickcolor\": \"rgb(36,36,36)\", \"ticks\": \"outside\"}}, \"colorscale\": {\"diverging\": [[0.0, \"rgb(103,0,31)\"], [0.1, \"rgb(178,24,43)\"], [0.2, \"rgb(214,96,77)\"], [0.3, \"rgb(244,165,130)\"], [0.4, \"rgb(253,219,199)\"], [0.5, \"rgb(247,247,247)\"], [0.6, \"rgb(209,229,240)\"], [0.7, \"rgb(146,197,222)\"], [0.8, \"rgb(67,147,195)\"], [0.9, \"rgb(33,102,172)\"], [1.0, \"rgb(5,48,97)\"]], \"sequential\": [[0.0, \"#440154\"], [0.1111111111111111, \"#482878\"], [0.2222222222222222, \"#3e4989\"], [0.3333333333333333, \"#31688e\"], [0.4444444444444444, \"#26828e\"], [0.5555555555555556, \"#1f9e89\"], [0.6666666666666666, \"#35b779\"], [0.7777777777777778, \"#6ece58\"], [0.8888888888888888, \"#b5de2b\"], [1.0, \"#fde725\"]], \"sequentialminus\": [[0.0, \"#440154\"], [0.1111111111111111, \"#482878\"], [0.2222222222222222, \"#3e4989\"], [0.3333333333333333, \"#31688e\"], [0.4444444444444444, \"#26828e\"], [0.5555555555555556, \"#1f9e89\"], [0.6666666666666666, \"#35b779\"], [0.7777777777777778, \"#6ece58\"], [0.8888888888888888, \"#b5de2b\"], [1.0, \"#fde725\"]]}, \"colorway\": [\"#1F77B4\", \"#FF7F0E\", \"#2CA02C\", \"#D62728\", \"#9467BD\", \"#8C564B\", \"#E377C2\", \"#7F7F7F\", \"#BCBD22\", \"#17BECF\"], \"font\": {\"color\": \"rgb(36,36,36)\"}, \"geo\": {\"bgcolor\": \"white\", \"lakecolor\": \"white\", \"landcolor\": \"white\", \"showlakes\": true, \"showland\": true, \"subunitcolor\": \"white\"}, \"hoverlabel\": {\"align\": \"left\"}, \"hovermode\": \"closest\", \"mapbox\": {\"style\": \"light\"}, \"paper_bgcolor\": \"white\", \"plot_bgcolor\": \"white\", \"polar\": {\"angularaxis\": {\"gridcolor\": \"rgb(232,232,232)\", \"linecolor\": \"rgb(36,36,36)\", \"showgrid\": false, \"showline\": true, \"ticks\": \"outside\"}, \"bgcolor\": \"white\", \"radialaxis\": {\"gridcolor\": \"rgb(232,232,232)\", \"linecolor\": \"rgb(36,36,36)\", \"showgrid\": false, \"showline\": true, \"ticks\": \"outside\"}}, \"scene\": {\"xaxis\": {\"backgroundcolor\": \"white\", \"gridcolor\": \"rgb(232,232,232)\", \"gridwidth\": 2, \"linecolor\": \"rgb(36,36,36)\", \"showbackground\": true, \"showgrid\": false, \"showline\": true, \"ticks\": \"outside\", \"zeroline\": false, \"zerolinecolor\": \"rgb(36,36,36)\"}, \"yaxis\": {\"backgroundcolor\": \"white\", \"gridcolor\": \"rgb(232,232,232)\", \"gridwidth\": 2, \"linecolor\": \"rgb(36,36,36)\", \"showbackground\": true, \"showgrid\": false, \"showline\": true, \"ticks\": \"outside\", \"zeroline\": false, \"zerolinecolor\": \"rgb(36,36,36)\"}, \"zaxis\": {\"backgroundcolor\": \"white\", \"gridcolor\": \"rgb(232,232,232)\", \"gridwidth\": 2, \"linecolor\": \"rgb(36,36,36)\", \"showbackground\": true, \"showgrid\": false, \"showline\": true, \"ticks\": \"outside\", \"zeroline\": false, \"zerolinecolor\": \"rgb(36,36,36)\"}}, \"shapedefaults\": {\"fillcolor\": \"black\", \"line\": {\"width\": 0}, \"opacity\": 0.3}, \"ternary\": {\"aaxis\": {\"gridcolor\": \"rgb(232,232,232)\", \"linecolor\": \"rgb(36,36,36)\", \"showgrid\": false, \"showline\": true, \"ticks\": \"outside\"}, \"baxis\": {\"gridcolor\": \"rgb(232,232,232)\", \"linecolor\": \"rgb(36,36,36)\", \"showgrid\": false, \"showline\": true, \"ticks\": \"outside\"}, \"bgcolor\": \"white\", \"caxis\": {\"gridcolor\": \"rgb(232,232,232)\", \"linecolor\": \"rgb(36,36,36)\", \"showgrid\": false, \"showline\": true, \"ticks\": \"outside\"}}, \"title\": {\"x\": 0.05}, \"xaxis\": {\"automargin\": true, \"gridcolor\": \"rgb(232,232,232)\", \"linecolor\": \"rgb(36,36,36)\", \"showgrid\": false, \"showline\": true, \"ticks\": \"outside\", \"title\": {\"standoff\": 15}, \"zeroline\": false, \"zerolinecolor\": \"rgb(36,36,36)\"}, \"yaxis\": {\"automargin\": true, \"gridcolor\": \"rgb(232,232,232)\", \"linecolor\": \"rgb(36,36,36)\", \"showgrid\": false, \"showline\": true, \"ticks\": \"outside\", \"title\": {\"standoff\": 15}, \"zeroline\": false, \"zerolinecolor\": \"rgb(36,36,36)\"}}}, \"title\": {\"font\": {\"color\": \"Black\", \"size\": 22}, \"text\": \"<b>Topic Probability Distribution\", \"x\": 0.5, \"xanchor\": \"center\", \"y\": 0.95, \"yanchor\": \"top\"}, \"xaxis\": {\"title\": {\"text\": \"Probability\"}}},                        {\"responsive\": true}                    ).then(function(){\n",
              "                            \n",
              "var gd = document.getElementById('7ba90d80-884d-4532-8ed0-7543125d9a63');\n",
              "var x = new MutationObserver(function (mutations, observer) {{\n",
              "        var display = window.getComputedStyle(gd).display;\n",
              "        if (!display || display === 'none') {{\n",
              "            console.log([gd, 'removed!']);\n",
              "            Plotly.purge(gd);\n",
              "            observer.disconnect();\n",
              "        }}\n",
              "}});\n",
              "\n",
              "// Listen for the removal of the full notebook cells\n",
              "var notebookContainer = gd.closest('#notebook-container');\n",
              "if (notebookContainer) {{\n",
              "    x.observe(notebookContainer, {childList: true});\n",
              "}}\n",
              "\n",
              "// Listen for the clearing of the current output cell\n",
              "var outputEl = gd.closest('.output');\n",
              "if (outputEl) {{\n",
              "    x.observe(outputEl, {childList: true});\n",
              "}}\n",
              "\n",
              "                        })                };                            </script>        </div>\n",
              "</body>\n",
              "</html>"
            ]
          },
          "metadata": {
            "tags": []
          }
        }
      ]
    },
    {
      "cell_type": "code",
      "metadata": {
        "colab": {
          "base_uri": "https://localhost:8080/",
          "height": 542
        },
        "id": "N5ZGefLEo3Oz",
        "outputId": "6c6477f5-0186-4abd-daba-5cb9b2c5f3f8"
      },
      "source": [
        "topic_model.visualize_distribution(probs[2])"
      ],
      "execution_count": 47,
      "outputs": [
        {
          "output_type": "display_data",
          "data": {
            "text/html": [
              "<html>\n",
              "<head><meta charset=\"utf-8\" /></head>\n",
              "<body>\n",
              "    <div>            <script src=\"https://cdnjs.cloudflare.com/ajax/libs/mathjax/2.7.5/MathJax.js?config=TeX-AMS-MML_SVG\"></script><script type=\"text/javascript\">if (window.MathJax) {MathJax.Hub.Config({SVG: {font: \"STIX-Web\"}});}</script>                <script type=\"text/javascript\">window.PlotlyConfig = {MathJaxConfig: 'local'};</script>\n",
              "        <script src=\"https://cdn.plot.ly/plotly-latest.min.js\"></script>                <div id=\"074570b0-7dc0-44d2-86c7-40ba89ae8959\" class=\"plotly-graph-div\" style=\"height:525px; width:100%;\"></div>            <script type=\"text/javascript\">                                    window.PLOTLYENV=window.PLOTLYENV || {};                                    if (document.getElementById(\"074570b0-7dc0-44d2-86c7-40ba89ae8959\")) {                    Plotly.newPlot(                        \"074570b0-7dc0-44d2-86c7-40ba89ae8959\",                        [{\"marker\": {\"color\": \"#C8D2D7\", \"line\": {\"color\": \"#6E8484\", \"width\": 1}}, \"orientation\": \"h\", \"type\": \"bar\", \"x\": [0.07338044120157262, 0.17398294572508538, 0.09503396598223394, 0.08519692641911598, 0.05180220096076416, 0.08206061924898696], \"y\": [\"<b>Topic 0</b>: modflow_flow_lpf_upw_mod...\", \"<b>Topic 1</b>: species_wave_fish_climat...\", \"<b>Topic 2</b>: psd_nurp_the cblcm_cblcm...\", \"<b>Topic 3</b>: flow_aquifer_hydraulic_i...\", \"<b>Topic 4</b>: model_transport_can be_c...\", \"<b>Topic 5</b>: software_vs2drti_users_t...\"]}],                        {\"hoverlabel\": {\"bgcolor\": \"white\", \"font\": {\"family\": \"Rockwell\", \"size\": 16}}, \"template\": {\"data\": {\"bar\": [{\"error_x\": {\"color\": \"rgb(36,36,36)\"}, \"error_y\": {\"color\": \"rgb(36,36,36)\"}, \"marker\": {\"line\": {\"color\": \"white\", \"width\": 0.5}}, \"type\": \"bar\"}], \"barpolar\": [{\"marker\": {\"line\": {\"color\": \"white\", \"width\": 0.5}}, \"type\": \"barpolar\"}], \"carpet\": [{\"aaxis\": {\"endlinecolor\": \"rgb(36,36,36)\", \"gridcolor\": \"white\", \"linecolor\": \"white\", \"minorgridcolor\": \"white\", \"startlinecolor\": \"rgb(36,36,36)\"}, \"baxis\": {\"endlinecolor\": \"rgb(36,36,36)\", \"gridcolor\": \"white\", \"linecolor\": \"white\", \"minorgridcolor\": \"white\", \"startlinecolor\": \"rgb(36,36,36)\"}, \"type\": \"carpet\"}], \"choropleth\": [{\"colorbar\": {\"outlinewidth\": 1, \"tickcolor\": \"rgb(36,36,36)\", \"ticks\": \"outside\"}, \"type\": \"choropleth\"}], \"contour\": [{\"colorbar\": {\"outlinewidth\": 1, \"tickcolor\": \"rgb(36,36,36)\", \"ticks\": \"outside\"}, \"colorscale\": [[0.0, \"#440154\"], [0.1111111111111111, \"#482878\"], [0.2222222222222222, \"#3e4989\"], [0.3333333333333333, \"#31688e\"], [0.4444444444444444, \"#26828e\"], [0.5555555555555556, \"#1f9e89\"], [0.6666666666666666, \"#35b779\"], [0.7777777777777778, \"#6ece58\"], [0.8888888888888888, \"#b5de2b\"], [1.0, \"#fde725\"]], \"type\": \"contour\"}], \"contourcarpet\": [{\"colorbar\": {\"outlinewidth\": 1, \"tickcolor\": \"rgb(36,36,36)\", \"ticks\": \"outside\"}, \"type\": \"contourcarpet\"}], \"heatmap\": [{\"colorbar\": {\"outlinewidth\": 1, \"tickcolor\": \"rgb(36,36,36)\", \"ticks\": \"outside\"}, \"colorscale\": [[0.0, \"#440154\"], [0.1111111111111111, \"#482878\"], [0.2222222222222222, \"#3e4989\"], [0.3333333333333333, \"#31688e\"], [0.4444444444444444, \"#26828e\"], [0.5555555555555556, \"#1f9e89\"], [0.6666666666666666, \"#35b779\"], [0.7777777777777778, \"#6ece58\"], [0.8888888888888888, \"#b5de2b\"], [1.0, \"#fde725\"]], \"type\": \"heatmap\"}], \"heatmapgl\": [{\"colorbar\": {\"outlinewidth\": 1, \"tickcolor\": \"rgb(36,36,36)\", \"ticks\": \"outside\"}, \"colorscale\": [[0.0, \"#440154\"], [0.1111111111111111, \"#482878\"], [0.2222222222222222, \"#3e4989\"], [0.3333333333333333, \"#31688e\"], [0.4444444444444444, \"#26828e\"], [0.5555555555555556, \"#1f9e89\"], [0.6666666666666666, \"#35b779\"], [0.7777777777777778, \"#6ece58\"], [0.8888888888888888, \"#b5de2b\"], [1.0, \"#fde725\"]], \"type\": \"heatmapgl\"}], \"histogram\": [{\"marker\": {\"line\": {\"color\": \"white\", \"width\": 0.6}}, \"type\": \"histogram\"}], \"histogram2d\": [{\"colorbar\": {\"outlinewidth\": 1, \"tickcolor\": \"rgb(36,36,36)\", \"ticks\": \"outside\"}, \"colorscale\": [[0.0, \"#440154\"], [0.1111111111111111, \"#482878\"], [0.2222222222222222, \"#3e4989\"], [0.3333333333333333, \"#31688e\"], [0.4444444444444444, \"#26828e\"], [0.5555555555555556, \"#1f9e89\"], [0.6666666666666666, \"#35b779\"], [0.7777777777777778, \"#6ece58\"], [0.8888888888888888, \"#b5de2b\"], [1.0, \"#fde725\"]], \"type\": \"histogram2d\"}], \"histogram2dcontour\": [{\"colorbar\": {\"outlinewidth\": 1, \"tickcolor\": \"rgb(36,36,36)\", \"ticks\": \"outside\"}, \"colorscale\": [[0.0, \"#440154\"], [0.1111111111111111, \"#482878\"], [0.2222222222222222, \"#3e4989\"], [0.3333333333333333, \"#31688e\"], [0.4444444444444444, \"#26828e\"], [0.5555555555555556, \"#1f9e89\"], [0.6666666666666666, \"#35b779\"], [0.7777777777777778, \"#6ece58\"], [0.8888888888888888, \"#b5de2b\"], [1.0, \"#fde725\"]], \"type\": \"histogram2dcontour\"}], \"mesh3d\": [{\"colorbar\": {\"outlinewidth\": 1, \"tickcolor\": \"rgb(36,36,36)\", \"ticks\": \"outside\"}, \"type\": \"mesh3d\"}], \"parcoords\": [{\"line\": {\"colorbar\": {\"outlinewidth\": 1, \"tickcolor\": \"rgb(36,36,36)\", \"ticks\": \"outside\"}}, \"type\": \"parcoords\"}], \"pie\": [{\"automargin\": true, \"type\": \"pie\"}], \"scatter\": [{\"marker\": {\"colorbar\": {\"outlinewidth\": 1, \"tickcolor\": \"rgb(36,36,36)\", \"ticks\": \"outside\"}}, \"type\": \"scatter\"}], \"scatter3d\": [{\"line\": {\"colorbar\": {\"outlinewidth\": 1, \"tickcolor\": \"rgb(36,36,36)\", \"ticks\": \"outside\"}}, \"marker\": {\"colorbar\": {\"outlinewidth\": 1, \"tickcolor\": \"rgb(36,36,36)\", \"ticks\": \"outside\"}}, \"type\": \"scatter3d\"}], \"scattercarpet\": [{\"marker\": {\"colorbar\": {\"outlinewidth\": 1, \"tickcolor\": \"rgb(36,36,36)\", \"ticks\": \"outside\"}}, \"type\": \"scattercarpet\"}], \"scattergeo\": [{\"marker\": {\"colorbar\": {\"outlinewidth\": 1, \"tickcolor\": \"rgb(36,36,36)\", \"ticks\": \"outside\"}}, \"type\": \"scattergeo\"}], \"scattergl\": [{\"marker\": {\"colorbar\": {\"outlinewidth\": 1, \"tickcolor\": \"rgb(36,36,36)\", \"ticks\": \"outside\"}}, \"type\": \"scattergl\"}], \"scattermapbox\": [{\"marker\": {\"colorbar\": {\"outlinewidth\": 1, \"tickcolor\": \"rgb(36,36,36)\", \"ticks\": \"outside\"}}, \"type\": \"scattermapbox\"}], \"scatterpolar\": [{\"marker\": {\"colorbar\": {\"outlinewidth\": 1, \"tickcolor\": \"rgb(36,36,36)\", \"ticks\": \"outside\"}}, \"type\": \"scatterpolar\"}], \"scatterpolargl\": [{\"marker\": {\"colorbar\": {\"outlinewidth\": 1, \"tickcolor\": \"rgb(36,36,36)\", \"ticks\": \"outside\"}}, \"type\": \"scatterpolargl\"}], \"scatterternary\": [{\"marker\": {\"colorbar\": {\"outlinewidth\": 1, \"tickcolor\": \"rgb(36,36,36)\", \"ticks\": \"outside\"}}, \"type\": \"scatterternary\"}], \"surface\": [{\"colorbar\": {\"outlinewidth\": 1, \"tickcolor\": \"rgb(36,36,36)\", \"ticks\": \"outside\"}, \"colorscale\": [[0.0, \"#440154\"], [0.1111111111111111, \"#482878\"], [0.2222222222222222, \"#3e4989\"], [0.3333333333333333, \"#31688e\"], [0.4444444444444444, \"#26828e\"], [0.5555555555555556, \"#1f9e89\"], [0.6666666666666666, \"#35b779\"], [0.7777777777777778, \"#6ece58\"], [0.8888888888888888, \"#b5de2b\"], [1.0, \"#fde725\"]], \"type\": \"surface\"}], \"table\": [{\"cells\": {\"fill\": {\"color\": \"rgb(237,237,237)\"}, \"line\": {\"color\": \"white\"}}, \"header\": {\"fill\": {\"color\": \"rgb(217,217,217)\"}, \"line\": {\"color\": \"white\"}}, \"type\": \"table\"}]}, \"layout\": {\"annotationdefaults\": {\"arrowhead\": 0, \"arrowwidth\": 1}, \"autotypenumbers\": \"strict\", \"coloraxis\": {\"colorbar\": {\"outlinewidth\": 1, \"tickcolor\": \"rgb(36,36,36)\", \"ticks\": \"outside\"}}, \"colorscale\": {\"diverging\": [[0.0, \"rgb(103,0,31)\"], [0.1, \"rgb(178,24,43)\"], [0.2, \"rgb(214,96,77)\"], [0.3, \"rgb(244,165,130)\"], [0.4, \"rgb(253,219,199)\"], [0.5, \"rgb(247,247,247)\"], [0.6, \"rgb(209,229,240)\"], [0.7, \"rgb(146,197,222)\"], [0.8, \"rgb(67,147,195)\"], [0.9, \"rgb(33,102,172)\"], [1.0, \"rgb(5,48,97)\"]], \"sequential\": [[0.0, \"#440154\"], [0.1111111111111111, \"#482878\"], [0.2222222222222222, \"#3e4989\"], [0.3333333333333333, \"#31688e\"], [0.4444444444444444, \"#26828e\"], [0.5555555555555556, \"#1f9e89\"], [0.6666666666666666, \"#35b779\"], [0.7777777777777778, \"#6ece58\"], [0.8888888888888888, \"#b5de2b\"], [1.0, \"#fde725\"]], \"sequentialminus\": [[0.0, \"#440154\"], [0.1111111111111111, \"#482878\"], [0.2222222222222222, \"#3e4989\"], [0.3333333333333333, \"#31688e\"], [0.4444444444444444, \"#26828e\"], [0.5555555555555556, \"#1f9e89\"], [0.6666666666666666, \"#35b779\"], [0.7777777777777778, \"#6ece58\"], [0.8888888888888888, \"#b5de2b\"], [1.0, \"#fde725\"]]}, \"colorway\": [\"#1F77B4\", \"#FF7F0E\", \"#2CA02C\", \"#D62728\", \"#9467BD\", \"#8C564B\", \"#E377C2\", \"#7F7F7F\", \"#BCBD22\", \"#17BECF\"], \"font\": {\"color\": \"rgb(36,36,36)\"}, \"geo\": {\"bgcolor\": \"white\", \"lakecolor\": \"white\", \"landcolor\": \"white\", \"showlakes\": true, \"showland\": true, \"subunitcolor\": \"white\"}, \"hoverlabel\": {\"align\": \"left\"}, \"hovermode\": \"closest\", \"mapbox\": {\"style\": \"light\"}, \"paper_bgcolor\": \"white\", \"plot_bgcolor\": \"white\", \"polar\": {\"angularaxis\": {\"gridcolor\": \"rgb(232,232,232)\", \"linecolor\": \"rgb(36,36,36)\", \"showgrid\": false, \"showline\": true, \"ticks\": \"outside\"}, \"bgcolor\": \"white\", \"radialaxis\": {\"gridcolor\": \"rgb(232,232,232)\", \"linecolor\": \"rgb(36,36,36)\", \"showgrid\": false, \"showline\": true, \"ticks\": \"outside\"}}, \"scene\": {\"xaxis\": {\"backgroundcolor\": \"white\", \"gridcolor\": \"rgb(232,232,232)\", \"gridwidth\": 2, \"linecolor\": \"rgb(36,36,36)\", \"showbackground\": true, \"showgrid\": false, \"showline\": true, \"ticks\": \"outside\", \"zeroline\": false, \"zerolinecolor\": \"rgb(36,36,36)\"}, \"yaxis\": {\"backgroundcolor\": \"white\", \"gridcolor\": \"rgb(232,232,232)\", \"gridwidth\": 2, \"linecolor\": \"rgb(36,36,36)\", \"showbackground\": true, \"showgrid\": false, \"showline\": true, \"ticks\": \"outside\", \"zeroline\": false, \"zerolinecolor\": \"rgb(36,36,36)\"}, \"zaxis\": {\"backgroundcolor\": \"white\", \"gridcolor\": \"rgb(232,232,232)\", \"gridwidth\": 2, \"linecolor\": \"rgb(36,36,36)\", \"showbackground\": true, \"showgrid\": false, \"showline\": true, \"ticks\": \"outside\", \"zeroline\": false, \"zerolinecolor\": \"rgb(36,36,36)\"}}, \"shapedefaults\": {\"fillcolor\": \"black\", \"line\": {\"width\": 0}, \"opacity\": 0.3}, \"ternary\": {\"aaxis\": {\"gridcolor\": \"rgb(232,232,232)\", \"linecolor\": \"rgb(36,36,36)\", \"showgrid\": false, \"showline\": true, \"ticks\": \"outside\"}, \"baxis\": {\"gridcolor\": \"rgb(232,232,232)\", \"linecolor\": \"rgb(36,36,36)\", \"showgrid\": false, \"showline\": true, \"ticks\": \"outside\"}, \"bgcolor\": \"white\", \"caxis\": {\"gridcolor\": \"rgb(232,232,232)\", \"linecolor\": \"rgb(36,36,36)\", \"showgrid\": false, \"showline\": true, \"ticks\": \"outside\"}}, \"title\": {\"x\": 0.05}, \"xaxis\": {\"automargin\": true, \"gridcolor\": \"rgb(232,232,232)\", \"linecolor\": \"rgb(36,36,36)\", \"showgrid\": false, \"showline\": true, \"ticks\": \"outside\", \"title\": {\"standoff\": 15}, \"zeroline\": false, \"zerolinecolor\": \"rgb(36,36,36)\"}, \"yaxis\": {\"automargin\": true, \"gridcolor\": \"rgb(232,232,232)\", \"linecolor\": \"rgb(36,36,36)\", \"showgrid\": false, \"showline\": true, \"ticks\": \"outside\", \"title\": {\"standoff\": 15}, \"zeroline\": false, \"zerolinecolor\": \"rgb(36,36,36)\"}}}, \"title\": {\"font\": {\"color\": \"Black\", \"size\": 22}, \"text\": \"<b>Topic Probability Distribution\", \"x\": 0.5, \"xanchor\": \"center\", \"y\": 0.95, \"yanchor\": \"top\"}, \"xaxis\": {\"title\": {\"text\": \"Probability\"}}},                        {\"responsive\": true}                    ).then(function(){\n",
              "                            \n",
              "var gd = document.getElementById('074570b0-7dc0-44d2-86c7-40ba89ae8959');\n",
              "var x = new MutationObserver(function (mutations, observer) {{\n",
              "        var display = window.getComputedStyle(gd).display;\n",
              "        if (!display || display === 'none') {{\n",
              "            console.log([gd, 'removed!']);\n",
              "            Plotly.purge(gd);\n",
              "            observer.disconnect();\n",
              "        }}\n",
              "}});\n",
              "\n",
              "// Listen for the removal of the full notebook cells\n",
              "var notebookContainer = gd.closest('#notebook-container');\n",
              "if (notebookContainer) {{\n",
              "    x.observe(notebookContainer, {childList: true});\n",
              "}}\n",
              "\n",
              "// Listen for the clearing of the current output cell\n",
              "var outputEl = gd.closest('.output');\n",
              "if (outputEl) {{\n",
              "    x.observe(outputEl, {childList: true});\n",
              "}}\n",
              "\n",
              "                        })                };                            </script>        </div>\n",
              "</body>\n",
              "</html>"
            ]
          },
          "metadata": {
            "tags": []
          }
        }
      ]
    },
    {
      "cell_type": "code",
      "metadata": {
        "id": "ORUgEGwio8_v"
      },
      "source": [
        "bertopic_labels = np.argmax(probs, axis=1)\n",
        "dataset['BERTopic_Topic'] = bertopic_labels"
      ],
      "execution_count": 48,
      "outputs": []
    },
    {
      "cell_type": "code",
      "metadata": {
        "colab": {
          "base_uri": "https://localhost:8080/"
        },
        "id": "4K5ETSl6oac6",
        "outputId": "bc370d8d-c3b9-41a9-9335-d9bb40a63e2b"
      },
      "source": [
        "topic_model.get_params()"
      ],
      "execution_count": 50,
      "outputs": [
        {
          "output_type": "execute_result",
          "data": {
            "text/plain": [
              "{'calculate_probabilities': True,\n",
              " 'embedding_model': <bertopic.backend._sentencetransformers.SentenceTransformerBackend at 0x7f3b4d788cd0>,\n",
              " 'hdbscan_model': HDBSCAN(algorithm='best', allow_single_cluster=False, alpha=1.0,\n",
              "         approx_min_span_tree=True, cluster_selection_epsilon=0.0,\n",
              "         cluster_selection_method='eom', core_dist_n_jobs=4,\n",
              "         gen_min_span_tree=False, leaf_size=40,\n",
              "         match_reference_implementation=False, memory=Memory(location=None),\n",
              "         metric='euclidean', min_cluster_size=2, min_samples=None, p=None,\n",
              "         prediction_data=True),\n",
              " 'language': None,\n",
              " 'low_memory': False,\n",
              " 'min_topic_size': 2,\n",
              " 'n_gram_range': (1, 3),\n",
              " 'nr_topics': None,\n",
              " 'top_n_words': 10,\n",
              " 'umap_model': UMAP(a=None, angular_rp_forest=True, b=None, dens_frac=0.0, dens_lambda=0.0,\n",
              "      dens_var_shift=0.1, densmap=False, disconnection_distance=None,\n",
              "      force_approximation_algorithm=False, init='spectral', learning_rate=1.0,\n",
              "      local_connectivity=1.0, low_memory=True, metric='cosine', metric_kwds=None,\n",
              "      min_dist=0.0, n_components=5, n_epochs=None, n_jobs=-1, n_neighbors=10,\n",
              "      negative_sample_rate=5, output_dens=False, output_metric='euclidean',\n",
              "      output_metric_kwds=None, random_state=None, repulsion_strength=1.0,\n",
              "      set_op_mix_ratio=1.0, spread=1.0, target_metric='categorical',\n",
              "      target_metric_kwds=None, ...),\n",
              " 'vectorizer_model': CountVectorizer(analyzer='word', binary=False, decode_error='strict',\n",
              "                 dtype=<class 'numpy.int64'>, encoding='utf-8', input='content',\n",
              "                 lowercase=True, max_df=1.0, max_features=None, min_df=1,\n",
              "                 ngram_range=(1, 3), preprocessor=None, stop_words=None,\n",
              "                 strip_accents=None, token_pattern='(?u)\\\\b\\\\w\\\\w+\\\\b',\n",
              "                 tokenizer=None, vocabulary=None),\n",
              " 'verbose': False}"
            ]
          },
          "metadata": {
            "tags": []
          },
          "execution_count": 50
        }
      ]
    },
    {
      "cell_type": "markdown",
      "metadata": {
        "id": "-p6lB04GeRuR"
      },
      "source": [
        "## Evaluation"
      ]
    },
    {
      "cell_type": "markdown",
      "metadata": {
        "id": "dg4anA2MbF_u"
      },
      "source": [
        "### TRAINING SET TOPIC RESULTS"
      ]
    },
    {
      "cell_type": "markdown",
      "metadata": {
        "id": "1InXrkEGh4PD"
      },
      "source": [
        "#### LSA"
      ]
    },
    {
      "cell_type": "markdown",
      "metadata": {
        "id": "uU6VGwqhyThX"
      },
      "source": [
        "##### Coherence Score -11.5"
      ]
    },
    {
      "cell_type": "code",
      "metadata": {
        "colab": {
          "base_uri": "https://localhost:8080/"
        },
        "id": "fBkRmvAgqXZV",
        "outputId": "da9f6e42-9376-4a91-cf0a-9666098d8959"
      },
      "source": [
        "cm = models.CoherenceModel(model= lsi_model, corpus = BoW_corpus, texts=document_list, dictionary=dictionary, coherence='u_mass')\n",
        "lsa_score = cm.get_coherence()\n",
        "lsa_score"
      ],
      "execution_count": 51,
      "outputs": [
        {
          "output_type": "execute_result",
          "data": {
            "text/plain": [
              "-11.471560810697863"
            ]
          },
          "metadata": {
            "tags": []
          },
          "execution_count": 51
        }
      ]
    },
    {
      "cell_type": "markdown",
      "metadata": {
        "id": "DvKDEEnSyZjV"
      },
      "source": [
        "##### Silhouette Score 0.13"
      ]
    },
    {
      "cell_type": "code",
      "metadata": {
        "colab": {
          "base_uri": "https://localhost:8080/"
        },
        "id": "VhBKSnOtilye",
        "outputId": "09e45637-5c1d-49ac-d90b-15be319d7f9a"
      },
      "source": [
        "X = np.array([[tup[1] for tup in arr] for arr in corpus_lsi])\n",
        "score = metrics.silhouette_score(X, cluster_lsa)\n",
        "score"
      ],
      "execution_count": 52,
      "outputs": [
        {
          "output_type": "execute_result",
          "data": {
            "text/plain": [
              "0.12625283051867323"
            ]
          },
          "metadata": {
            "tags": []
          },
          "execution_count": 52
        }
      ]
    },
    {
      "cell_type": "markdown",
      "metadata": {
        "id": "G-sPuPoe0tpe"
      },
      "source": [
        "##### Titles Grouped by Topic"
      ]
    },
    {
      "cell_type": "code",
      "metadata": {
        "colab": {
          "base_uri": "https://localhost:8080/"
        },
        "id": "oESeYqTOWzSd",
        "outputId": "41f7f670-4898-4270-e00c-39d82a74115f"
      },
      "source": [
        "df_LSA = dataset.groupby('LSA_Topic')['Title'].apply(lambda group_series: group_series.tolist()).reset_index()\n",
        "for i in range(len(df_LSA)):\n",
        "  print('LSA topic:', df_LSA.LSA_Topic[i])\n",
        "  for j in df_LSA.Title[i]:\n",
        "    print(j)\n",
        "  print(' ')\n",
        "  "
      ],
      "execution_count": 53,
      "outputs": [
        {
          "output_type": "stream",
          "text": [
            "LSA topic: 0\n",
            "TRIGRS—A Fortran Program for Transient\n",
            "Rainfall Infiltration and Grid-Based Regional\n",
            "Slope-Stability Analysis, Version 2.0\n",
            "THE COMPUTER MODEL SHARP, A QUASI-THREE-DIMENSIONAL FINITE-DIFFERENCE\n",
            "MODEL TO SIMULATE FRESHWATER AND SALTWATER FLOW IN LAYERED COASTAL\n",
            "AQUIFER SYSTEMS\n",
            "FaSTMECH - Flow and Sediment Transport with Morphological Evolution of Channels\n",
            "VS2DRTI - A Graphical Software Package for Simulating Water Flow, Heat Transport, and Reactive Solute Transport\n",
            "USER'S MANUAL FOR WATEQ4F, WITH REVISED THERMODYNAMIC DATA\n",
            "BASE AND TEST CASES FOR CALCULATING SPECIATION OF MAJOR,\n",
            "TRACE, AND REDOX ELEMENTS IN NATURAL WATERS\n",
            "VFLUX: Vertical Fluid Heat Transfer Solver (VFlu[H]X Solver)\n",
            "HYDROTHERM - A computer code for simulation of two-phase ground-water flow and heat transport\n",
            "USERS MANUAL FOR A BRANCHED\n",
            "LAGRANGIAN TRANSPORT MODEL\n",
            "Ash3d: A finite‐volume, conservative numerical model for ash transport and tephra deposition\n",
            "Description of input and examples for PHREEQC version 3: a computer program for speciation, batch-reaction, one-dimensional transport, and inverse geochemical calculations\n",
            " \n",
            "LSA topic: 1\n",
            "FEQ - Full Equations Model for the Solution of the Full, Dynamic Equations of Motion for One-Dimensional Unsteady Flow in Open Channels and Through Control Structures\n",
            "Spring onset variations and trends in the continental United States: past and regional assessment using temperature‐based indices\n",
            " \n",
            "LSA topic: 2\n",
            "Benefits of the destinations, not costs of the journeys, shape partial migration patterns\n",
            "FishVis, A regional decision support tool for identifying vulnerabilities of riverine habitat and fishes to climate change in the Great Lakes Region\n",
            "Submersed Aquatic Vegetation Modeling Output Online\n",
            "Probability of Streamflow Permanence Model (PROSPER): A spatially continuous model of annual streamflow permanence throughout the Pacific Northwest\n",
            " \n",
            "LSA topic: 3\n",
            "THRESH—Software for Tracking Rainfall Thresholds for Landslide and Debris-Flow Occurrence, User Manual\n",
            "SLAMMER—Seismic LAndslide Movement Modeled using Earthquake Records\n",
            "Computer programs for limit-equilibrium slope-stability analyses FelleniusGS, BishopGS, and JanbuGS\n",
            "MOC3D\n",
            "BIOMOC, A Multispecies Solute-Transport Model with\n",
            "Biodegradation\n",
            "Scoops3D: software to analyze 3D slope stability throughout a digital landscape\n",
            " \n",
            "LSA topic: 4\n",
            "1DTempPro V2: New Features for Inferring Groundwater/Surface‐Water Exchange\n",
            "One-Dimensional Transport with Equilibrium\n",
            "Chemistry (OTEQ)—A Reactive Transport\n",
            "Model for Streams and Rivers\n",
            "PTCOUNT—A FORTRAN-77 Computer Program to Calculate the Areal Distribution of Mapped Data Points Using Count-Circle Methodology\n",
            "AnalyzeHOLE—An Integrated Wellbore Flow Analysis Tool\n",
            "MODFLOW-NWT, A Newton Formulation for MODFLOW-2005\n",
            " \n",
            "LSA topic: 5\n",
            "Delft3D - 3D modeling suite to investigate hydrodynamics, sediment transport and morphology and water quality for fluvial, estuarine and coastal environments\n",
            "A Bayesian‐Based System to Assess Wave‐Driven Flooding Hazards on Coral Reef‐Lined Coasts\n",
            "Development of a Coupled Ocean–Atmosphere–Wave–Sediment Transport (COAWST) Modeling System\n",
            " \n",
            "LSA topic: 6\n",
            "A Monthly Water-Balance Model Driven By a Graphical User\n",
            "Interface\n",
            "Modeling Landscape Evapotranspiration by Integrating Land Surface Phenology and a Water Balance Algorithm\n",
            "NCCV - National Climate Change Viewer\n",
            " \n",
            "LSA topic: 7\n",
            "The SPARROW Surface Water-Quality Model: Theory, Application and User Documentation\n",
            "CBLCM - Chesapeake Bay Land Change Model\n",
            " \n",
            "LSA topic: 8\n",
            "Massachusetts Reservoir Simulation Tool—User’s Manual\n",
            "The Effect of Particle Size Distribution on the Design of Urban Stormwater Control Measures\n",
            "Slab2, a comprehensive subduction zone geometry model\n",
            "A Fractured Rock Geophysical Toolbox Method Selection Tool\n",
            "Update of the Graizer-Kalkan ground-motion prediction equations for shallow crustal continental earthquakes\n",
            " \n"
          ],
          "name": "stdout"
        }
      ]
    },
    {
      "cell_type": "markdown",
      "metadata": {
        "id": "YzHMJzpQ54CM"
      },
      "source": [
        "Can't use pyLDAvis on LSA, no inference"
      ]
    },
    {
      "cell_type": "markdown",
      "metadata": {
        "id": "jCgEkKd_h6mS"
      },
      "source": [
        "#### LDA"
      ]
    },
    {
      "cell_type": "markdown",
      "metadata": {
        "id": "6oncoLueyDoM"
      },
      "source": [
        "##### Coherence Score -12.2"
      ]
    },
    {
      "cell_type": "code",
      "metadata": {
        "colab": {
          "base_uri": "https://localhost:8080/"
        },
        "id": "KgqOoZ9EoxP6",
        "outputId": "b3fdb8e1-92c5-499c-96cc-6d886f1932fc"
      },
      "source": [
        "cm = models.CoherenceModel(model= lda_model, corpus = BoW_corpus, texts=document_list, dictionary=dictionary, coherence='u_mass')\n",
        "lda_score = cm.get_coherence()\n",
        "lda_score"
      ],
      "execution_count": 54,
      "outputs": [
        {
          "output_type": "execute_result",
          "data": {
            "text/plain": [
              "-12.779054430877968"
            ]
          },
          "metadata": {
            "tags": []
          },
          "execution_count": 54
        }
      ]
    },
    {
      "cell_type": "markdown",
      "metadata": {
        "id": "uYyxeiQKy3IK"
      },
      "source": [
        "##### Silhouette Score -0.13"
      ]
    },
    {
      "cell_type": "code",
      "metadata": {
        "colab": {
          "base_uri": "https://localhost:8080/"
        },
        "id": "xZ-dCornkIQu",
        "outputId": "705b1dd0-a3fd-4a71-9d43-c53e309c8336"
      },
      "source": [
        "LDA_score = metrics.silhouette_score(X, cluster_lda)\n",
        "LDA_score"
      ],
      "execution_count": 55,
      "outputs": [
        {
          "output_type": "execute_result",
          "data": {
            "text/plain": [
              "-0.12989180767457578"
            ]
          },
          "metadata": {
            "tags": []
          },
          "execution_count": 55
        }
      ]
    },
    {
      "cell_type": "markdown",
      "metadata": {
        "id": "r0pPSvC10njP"
      },
      "source": [
        "##### Titles Grouped by Topic"
      ]
    },
    {
      "cell_type": "code",
      "metadata": {
        "colab": {
          "base_uri": "https://localhost:8080/"
        },
        "id": "7TQMxo0zZ5u7",
        "outputId": "5a648497-c0d6-42b6-a9e9-d835d0b7051c"
      },
      "source": [
        "df_LDA = dataset.groupby('LDA_Topic')['Title'].apply(lambda group_series: group_series.tolist()).reset_index()\n",
        "for i in range(len(df_LDA)):\n",
        "  print('LDA topic:', df_LDA.LDA_Topic[i])\n",
        "  for j in df_LDA.Title[i]:\n",
        "    print(j)\n",
        "  print(' ')"
      ],
      "execution_count": 56,
      "outputs": [
        {
          "output_type": "stream",
          "text": [
            "LDA topic: 0\n",
            "THRESH—Software for Tracking Rainfall Thresholds for Landslide and Debris-Flow Occurrence, User Manual\n",
            "A Monthly Water-Balance Model Driven By a Graphical User\n",
            "Interface\n",
            "Submersed Aquatic Vegetation Modeling Output Online\n",
            "Probability of Streamflow Permanence Model (PROSPER): A spatially continuous model of annual streamflow permanence throughout the Pacific Northwest\n",
            " \n",
            "LDA topic: 1\n",
            "SLAMMER—Seismic LAndslide Movement Modeled using Earthquake Records\n",
            "FishVis, A regional decision support tool for identifying vulnerabilities of riverine habitat and fishes to climate change in the Great Lakes Region\n",
            "One-Dimensional Transport with Equilibrium\n",
            "Chemistry (OTEQ)—A Reactive Transport\n",
            "Model for Streams and Rivers\n",
            "FaSTMECH - Flow and Sediment Transport with Morphological Evolution of Channels\n",
            "Delft3D - 3D modeling suite to investigate hydrodynamics, sediment transport and morphology and water quality for fluvial, estuarine and coastal environments\n",
            "MODFLOW-NWT, A Newton Formulation for MODFLOW-2005\n",
            " \n",
            "LDA topic: 2\n",
            "TRIGRS—A Fortran Program for Transient\n",
            "Rainfall Infiltration and Grid-Based Regional\n",
            "Slope-Stability Analysis, Version 2.0\n",
            "USER'S MANUAL FOR WATEQ4F, WITH REVISED THERMODYNAMIC DATA\n",
            "BASE AND TEST CASES FOR CALCULATING SPECIATION OF MAJOR,\n",
            "TRACE, AND REDOX ELEMENTS IN NATURAL WATERS\n",
            "Scoops3D: software to analyze 3D slope stability throughout a digital landscape\n",
            " \n",
            "LDA topic: 3\n",
            "Massachusetts Reservoir Simulation Tool—User’s Manual\n",
            "THE COMPUTER MODEL SHARP, A QUASI-THREE-DIMENSIONAL FINITE-DIFFERENCE\n",
            "MODEL TO SIMULATE FRESHWATER AND SALTWATER FLOW IN LAYERED COASTAL\n",
            "AQUIFER SYSTEMS\n",
            "PTCOUNT—A FORTRAN-77 Computer Program to Calculate the Areal Distribution of Mapped Data Points Using Count-Circle Methodology\n",
            "Ash3d: A finite‐volume, conservative numerical model for ash transport and tephra deposition\n",
            "Development of a Coupled Ocean–Atmosphere–Wave–Sediment Transport (COAWST) Modeling System\n",
            " \n",
            "LDA topic: 4\n",
            "CBLCM - Chesapeake Bay Land Change Model\n",
            " \n",
            "LDA topic: 5\n",
            "HYDROTHERM - A computer code for simulation of two-phase ground-water flow and heat transport\n",
            "BIOMOC, A Multispecies Solute-Transport Model with\n",
            "Biodegradation\n",
            "AnalyzeHOLE—An Integrated Wellbore Flow Analysis Tool\n",
            "Spring onset variations and trends in the continental United States: past and regional assessment using temperature‐based indices\n",
            "Description of input and examples for PHREEQC version 3: a computer program for speciation, batch-reaction, one-dimensional transport, and inverse geochemical calculations\n",
            " \n",
            "LDA topic: 6\n",
            "The Effect of Particle Size Distribution on the Design of Urban Stormwater Control Measures\n",
            "Benefits of the destinations, not costs of the journeys, shape partial migration patterns\n",
            "Computer programs for limit-equilibrium slope-stability analyses FelleniusGS, BishopGS, and JanbuGS\n",
            "Slab2, a comprehensive subduction zone geometry model\n",
            "A Fractured Rock Geophysical Toolbox Method Selection Tool\n",
            "FEQ - Full Equations Model for the Solution of the Full, Dynamic Equations of Motion for One-Dimensional Unsteady Flow in Open Channels and Through Control Structures\n",
            " \n",
            "LDA topic: 7\n",
            "The SPARROW Surface Water-Quality Model: Theory, Application and User Documentation\n",
            "A Bayesian‐Based System to Assess Wave‐Driven Flooding Hazards on Coral Reef‐Lined Coasts\n",
            "NCCV - National Climate Change Viewer\n",
            " \n",
            "LDA topic: 8\n",
            "Modeling Landscape Evapotranspiration by Integrating Land Surface Phenology and a Water Balance Algorithm\n",
            "1DTempPro V2: New Features for Inferring Groundwater/Surface‐Water Exchange\n",
            "VS2DRTI - A Graphical Software Package for Simulating Water Flow, Heat Transport, and Reactive Solute Transport\n",
            "VFLUX: Vertical Fluid Heat Transfer Solver (VFlu[H]X Solver)\n",
            "MOC3D\n",
            "USERS MANUAL FOR A BRANCHED\n",
            "LAGRANGIAN TRANSPORT MODEL\n",
            "Update of the Graizer-Kalkan ground-motion prediction equations for shallow crustal continental earthquakes\n",
            " \n"
          ],
          "name": "stdout"
        }
      ]
    },
    {
      "cell_type": "markdown",
      "metadata": {
        "id": "rf0urzg348oT"
      },
      "source": [
        "##### pyLDAvis"
      ]
    },
    {
      "cell_type": "code",
      "metadata": {
        "id": "gXzX7iRz4_3n"
      },
      "source": [
        "%%capture\n",
        "!pip install pyLDAvis==3.3.1\n",
        "import pyLDAvis.gensim_models as gensimvis\n",
        "import pyLDAvis"
      ],
      "execution_count": 77,
      "outputs": []
    },
    {
      "cell_type": "code",
      "metadata": {
        "colab": {
          "base_uri": "https://localhost:8080/",
          "height": 861
        },
        "id": "GI1Uut5F5DVj",
        "outputId": "bcea1448-6340-4e92-af3f-18dcdbcc93ef"
      },
      "source": [
        "vis_data1 = gensimvis.prepare(lda_model, BoW_corpus, dictionary)\n",
        "pyLDAvis.display(vis_data1)"
      ],
      "execution_count": 80,
      "outputs": [
        {
          "output_type": "execute_result",
          "data": {
            "text/html": [
              "\n",
              "<link rel=\"stylesheet\" type=\"text/css\" href=\"https://cdn.jsdelivr.net/gh/bmabey/pyLDAvis@3.3.1/pyLDAvis/js/ldavis.v1.0.0.css\">\n",
              "\n",
              "\n",
              "<div id=\"ldavis_el12411398924589442089761250526\"></div>\n",
              "<script type=\"text/javascript\">\n",
              "\n",
              "var ldavis_el12411398924589442089761250526_data = {\"mdsDat\": {\"x\": [-0.002537387602118486, 0.018959131056570423, 0.002732155154220493, -0.002646247032734106, -0.0028357239829128766, -0.009963451795777145, -0.0019359864044617926, -0.0011864572404025036, -0.0005860321523839666], \"y\": [0.014075987103285368, -0.0032018599521253794, -0.0022560625167792224, -0.0003758827968622371, 0.002878137117687371, -0.010945960410357307, -0.0006990919459144029, 0.0005894433852198632, -6.470998415400001e-05], \"topics\": [1, 2, 3, 4, 5, 6, 7, 8, 9], \"cluster\": [1, 1, 1, 1, 1, 1, 1, 1, 1], \"Freq\": [19.598644096482733, 19.541905659135548, 15.77927546035261, 11.098316069653993, 10.499386864736476, 9.326618050233437, 7.81704442698905, 5.069157442924908, 1.269651929491244]}, \"tinfo\": {\"Term\": [\"cblcm\", \"watersh\", \"reef\", \"land\", \"reservoir\", \"subduct\", \"scoops3d\", \"threshold\", \"month\", \"redevelop\", \"infil\", \"psd\", \"flood\", \"map\", \"erupt\", \"structur\", \"rainfal\", \"veget\", \"ocean\", \"contamin\", \"counti\", \"attribut\", \"station\", \"coupl\", \"ash\", \"size\", \"wave\", \"coast\", \"feq\", \"precipit\", \"oteq\", \"fish\", \"speci\", \"modul\", \"modflow\", \"record\", \"quasi\", \"nwt\", \"lpf\", \"solver\", \"select\", \"mor\", \"problem\", \"slide\", \"fastmech\", \"upw\", \"dissolut\", \"morpholog\", \"000\", \"fulli\", \"steadi\", \"delft3d\", \"world\", \"block\", \"usg\", \"13\", \"mean\", \"form\", \"3d\", \"matrix\", \"packag\", \"earthquak\", \"flow\", \"percent\", \"transport\", \"conduct\", \"wave\", \"vs2drti\", \"heat\", \"vflux\", \"matlab\", \"ground\", \"constitu\", \"profil\", \"veget\", \"crop\", \"lsp\", \"algorithm\", \"dissolv\", \"flux\", \"dispers\", \"paramet\", \"lagrangian\", \"onedimension\", \"appendic\", \"vs2dh\", \"temperatur\", \"known\", \"1dtemppro\", \"rainf\", \"satur\", \"sensor\", \"toolbox\", \"distanc\", \"attenu\", \"gmpe\", \"gk15\", \"time\", \"transport\", \"hydraul\", \"new\", \"estim\", \"fluid\", \"vertic\", \"chemic\", \"present\", \"water\", \"keyword\", \"degrad\", \"structur\", \"fe\", \"aerob\", \"isotop\", \"flexibl\", \"well\", \"monod\", \"phreeqc\", \"screen\", \"interv\", \"aqueous\", \"pressur\", \"ad\", \"high\", \"biomass\", \"inhibit\", \"anaerob\", \"permeabl\", \"specifi\", \"redox\", \"follow\", \"general\", \"c\", \"3\", \"feq\", \"chart\", \"pest\", \"wellbor\", \"unsteadi\", \"hydraul\", \"simul\", \"boundari\", \"one\", \"flow\", \"dimension\", \"1\", \"threshold\", \"month\", \"perman\", \"submers\", \"streamflow\", \"classroom\", \"thornthwait\", \"locat\", \"thresh\", \"precipit\", \"prosper\", \"balanc\", \"tool\", \"probabl\", \"aquat\", \"annual\", \"predict\", \"driven\", \"refer\", \"fig\", \"mississippi\", \"ltrm\", \"umrr\", \"wildlif\", \"statist\", \"cycl\", \"anteced\", \"python\", \"year\", \"dataset\", \"veget\", \"dri\", \"research\", \"channel\", \"reservoir\", \"erupt\", \"ocean\", \"map\", \"ash\", \"count\", \"atmospher\", \"circl\", \"massachusett\", \"volcan\", \"saltwat\", \"isopleth\", \"finit\", \"sharp\", \"freshwat\", \"confin\", \"hurrican\", \"coastal\", \"coupl\", \"ptcount\", \"discret\", \"refin\", \"preserv\", \"withdraw\", \"assist\", \"volcano\", \"separ\", \"areal\", \"constant\", \"implicit\", \"aquif\", \"wave\", \"grid\", \"boundari\", \"sediment\", \"manag\", \"simul\", \"subduct\", \"psd\", \"migrat\", \"size\", \"migratori\", \"rock\", \"goal\", \"articl\", \"statement\", \"fractur\", \"nurp\", \"bodi\", \"anim\", \"site\", \"forag\", \"runoff\", \"impact\", \"feq\", \"spreadsheet\", \"larger\", \"fault\", \"scms\", \"psds\", \"urban\", \"edit\", \"nt\", \"mac\", \"98\", \"os\", \"initi\", \"later\", \"inflow\", \"zone\", \"file\", \"structur\", \"base\", \"discharg\", \"method\", \"program\", \"scoops3d\", \"dem\", \"rainfal\", \"safeti\", \"unsatur\", \"microcomput\", \"cell\", \"materi\", \"wateq4f\", \"infiltr\", \"trigr\", \"iv\", \"adapt\", \"vi\", \"wateq2\", \"stabil\", \"potenti\", \"step\", \"failur\", \"prepar\", \"oper\", \"thermodynam\", \"complet\", \"execut\", \"revis\", \"3d\", \"pore\", \"factor\", \"entir\", \"desir\", \"landslid\", \"compil\", \"program\", \"slope\", \"input\", \"comput\", \"reef\", \"watersh\", \"flood\", \"attribut\", \"station\", \"coast\", \"california\", \"huc\", \"span\", \"klamath\", \"regress\", \"coral\", \"counti\", \"contamin\", \"bewar\", \"referenc\", \"core\", \"sparrow\", \"larg\", \"line\", \"northern\", \"oregon\", \"equival\", \"histogram\", \"climograph\", \"csv\", \"quantil\", \"deficit\", \"summar\", \"comprehens\", \"climat\", \"network\", \"river\", \"monitor\", \"hypothes\", \"wave\", \"hydrodynam\", \"chang\", \"yield\", \"month\", \"stream\", \"area\", \"spatial\", \"precipit\", \"cblcm\", \"redevelop\", \"infil\", \"land\", \"watersh\", \"farmland\", \"chesapeak\", \"loos\", \"tailor\", \"2013\", \"wastewat\", \"sewer\", \"consumpt\", \"treatment\", \"bay\", \"automata\", \"residenti\", \"commerci\", \"2055\", \"30m\", \"lump\", \"cellular\", \"maryland\", \"septic\", \"appropri\", \"produc\", \"counti\", \"pseudo\", \"valid\", \"convers\", \"develop\", \"serv\"], \"Freq\": [2.0, 3.0, 3.0, 3.0, 4.0, 3.0, 3.0, 4.0, 3.0, 2.0, 2.0, 3.0, 2.0, 3.0, 3.0, 5.0, 3.0, 5.0, 3.0, 3.0, 2.0, 2.0, 2.0, 4.0, 3.0, 3.0, 4.0, 2.0, 4.0, 4.0, 2.2581155549451335, 2.149572522553398, 2.6397983570279138, 2.1553328923689543, 2.2162998836411196, 2.1219728794005013, 1.8807038341263158, 1.7223861123924, 1.722326040036591, 1.99880671798744, 1.9233354777243923, 1.6680034307212563, 1.6660865534644198, 1.632798374386702, 1.6267848153999254, 1.5424385485237115, 1.5400151664563169, 1.506187600857493, 1.421468505970911, 1.410505870142293, 1.4917106689799888, 1.366735887018665, 1.3667286783359678, 1.6705769304441147, 1.6494590312489525, 1.2616803394349076, 1.2358036979147309, 1.2294804185082147, 1.4415560694128602, 1.1825916051390994, 1.9228762719897765, 1.5582656540235678, 1.9868333489638208, 1.3634880592933354, 1.6703634522617872, 1.46405563279163, 1.4031877925235794, 2.5244793681405553, 2.3093622356851675, 2.2617895033637803, 2.2617597432941516, 2.8895620311266343, 2.0901986164742055, 1.984918082694997, 2.836139679695347, 1.923639072881731, 1.9235606374439806, 1.7829294284135273, 1.869791253336345, 1.8894849794131416, 1.8677560933205073, 1.6459669045767515, 1.6013608476709786, 1.601354416469491, 1.6012637491387154, 1.533245470676437, 2.1699680871761444, 1.4373752978974075, 1.4373599134546333, 1.4363084750624122, 1.6030953805427703, 1.3617473948514667, 1.3617366761823206, 1.4171337847762586, 1.3440778579173818, 1.3440753358775828, 1.3440738226537032, 1.9184098755623953, 2.7903623875068986, 2.0732872047037127, 1.7196949550420733, 1.6449097915949826, 1.5638978379860449, 1.5841267409081985, 1.5424528074727928, 1.5803934914956652, 1.6041814969822281, 2.173809558976812, 1.867815795380405, 2.5223034633135684, 1.5244215495186688, 1.4430244469864462, 1.389483735036798, 1.482218729334725, 1.5790628566375629, 1.2306501045211677, 1.3820166107203367, 1.1780222277729522, 1.178015405691692, 1.2909837766078363, 1.1910114704920127, 1.0533492018567967, 1.1274081886838485, 1.0182584522974683, 1.018255499456326, 1.018240735250614, 1.178605770275954, 1.232278545500143, 1.0710138103253484, 1.183973220895957, 1.1823688099345542, 0.9534612044466938, 1.3314953315719475, 1.3096058183612818, 0.9413134196311068, 0.9123756782577664, 0.912375576435658, 1.1839796356887837, 1.5002855351312925, 1.5804495719312954, 1.1940561551761446, 1.146378563869988, 1.2852269582454707, 1.116228019363991, 1.0650045749563626, 1.9307724904571821, 1.6371997855091793, 1.2119532795712866, 0.9592381257532403, 1.0857547625513086, 0.9028862364356601, 0.9028816529899605, 0.9028763533808704, 0.8986376687374528, 1.3181504273377773, 0.8535511727861903, 1.241372269027086, 1.1789903555772598, 0.8416813375182329, 0.9235115988513495, 0.8416768973052114, 1.1102907351611961, 0.7857133117779975, 0.7857123091492507, 0.7326100112163744, 0.7326094382856618, 0.732608435656915, 0.7326027779661296, 0.7325995552308721, 0.7108468800220892, 0.7857295686869634, 0.692212666681197, 0.6922043591858664, 0.8012138089707799, 0.6621461222876457, 1.1996137127354556, 0.7456591527395805, 0.717178981872477, 0.8188442477034515, 1.9560296669273323, 1.4819734497187425, 1.3923287194696274, 1.4629049233049443, 1.278673938821762, 1.2393681724817656, 1.230380392938114, 1.1172870012852487, 1.1092848029279674, 1.0754781554834767, 1.048214813175252, 0.9951710735651457, 0.9061422045234346, 0.8518117960255606, 0.8518087472077022, 0.8518014977963498, 0.8274461857130089, 0.9140497540240885, 1.118223665882868, 0.750932646228667, 0.7410787314071879, 0.6862000777068593, 0.6859306299596816, 0.6859242613179328, 0.6859056296532424, 0.6690184985414007, 0.6811160723006563, 0.6553982773921345, 0.6553984128951504, 0.6553889276840353, 0.8755801090438908, 1.0559128750132774, 0.8123940364428974, 0.8957882835731722, 0.758349065048081, 0.7706246220187613, 0.7045021990625547, 1.5955243212538734, 1.4174904476021228, 1.0622348197734384, 1.0852324737081325, 0.9130211969757585, 0.9049076455633952, 0.9048933218317362, 0.9048906135631452, 0.9048860395984137, 0.9048756278102751, 0.8232664074182062, 0.8770789219323573, 0.7990087465674934, 1.0770106517358762, 0.7845066904677309, 0.7996976699132934, 0.7836568357838801, 1.0086785074679945, 0.7778569281369213, 0.6850244019688283, 0.684527103671777, 0.6747157085878527, 0.6747053569834605, 0.674698074750138, 0.6641562295353519, 0.6641559286166195, 0.6641542434717185, 0.664152498143071, 0.6641499704257194, 0.6641461186659455, 0.7487795723179468, 0.7487759011094124, 0.8709310318633302, 0.7985554425891092, 0.8282665332583741, 0.7540981905444144, 0.6784203191015866, 0.678282919608404, 0.6748360760807853, 1.2511136958518008, 0.8309751736537528, 0.9658882397821581, 0.7285384261416014, 0.728532574798058, 0.7273059616864745, 0.8509060099425937, 0.6432488895553914, 0.628372252137354, 0.6432491922110919, 0.5640021262431107, 0.5518081280692331, 0.5518072201021315, 0.5518070687742812, 0.5518063625776467, 0.6419677984177147, 0.5695781035416075, 0.5188785825414535, 0.515900753104055, 0.49079899372924424, 0.5452991641312722, 0.4858572314511833, 0.4858583916313686, 0.4858586438444524, 0.48585193497642426, 0.6272957058106108, 0.43358561585730426, 0.5671279543180626, 0.41087569404107194, 0.4858573323364168, 0.5108467055611018, 0.5070353118818596, 0.6967908520095788, 0.5239608275071715, 0.5377520406979173, 0.4948569509191753, 0.8137665088921336, 0.7448154049635541, 0.6094961051677797, 0.4979323500823629, 0.4979126909077613, 0.4733120306649459, 0.4155646936128995, 0.4155637450004811, 0.41556371228970806, 0.41556129169250255, 0.42933406455187484, 0.4052214817537027, 0.3624410570419042, 0.5173781523113803, 0.33713518524295566, 0.3153994326359681, 0.3153962596909825, 0.3153927596382664, 0.30884579654510863, 0.324114694742132, 0.27421671656752, 0.2742161604843782, 0.2742160950628321, 0.27421591515358035, 0.2742156698227825, 0.2742156207566229, 0.27421544084737115, 0.2742152118719598, 0.2742153263596655, 0.2742149828965485, 0.39432935041199413, 0.3891928431418758, 0.3607237414569053, 0.28109721505805757, 0.2811023833601991, 0.3878836925829648, 0.32411704991779144, 0.3243108612480985, 0.28109358416224933, 0.3093350842883546, 0.320616735515514, 0.29223130798799923, 0.292151428280217, 0.2922323874435098, 0.19025932244583257, 0.11282971053703594, 0.11282815387868578, 0.1320623227686529, 0.11695457660507166, 0.07411667425739361, 0.07411660871388413, 0.07411649401274255, 0.07411644485511043, 0.07411632196103016, 0.0741161335234404, 0.0741160188222988, 0.07411581399883169, 0.0741158549635251, 0.0741157484553222, 0.07411560917536456, 0.07411553543891639, 0.07411536338720401, 0.07411524049312372, 0.07411524049312372, 0.074114920968515, 0.07411485542500552, 0.07411483084618947, 0.07411441300631653, 0.06683991094074934, 0.06684227460356, 0.06684178712370824, 0.06684163145787322, 0.06258663284823261, 0.06684274160106506, 0.07657794773954113, 0.06684238111176291], \"Total\": [2.0, 3.0, 3.0, 3.0, 4.0, 3.0, 3.0, 4.0, 3.0, 2.0, 2.0, 3.0, 2.0, 3.0, 3.0, 5.0, 3.0, 5.0, 3.0, 3.0, 2.0, 2.0, 2.0, 4.0, 3.0, 3.0, 4.0, 2.0, 4.0, 4.0, 4.241013493855442, 4.224488494394114, 5.291866718980183, 4.460005993336036, 4.630692057128072, 4.479139121212766, 4.023110776201068, 3.7052587672133805, 3.7052285253112105, 4.315856155331983, 4.156926690985593, 3.6508726536304605, 3.648957781390887, 3.6156777232418986, 3.609658605576159, 3.525310845423087, 3.522879858201611, 3.5368670813094463, 3.404327894287432, 3.393380047155012, 3.623723075186123, 3.34958270364606, 3.3495799491948044, 4.19572685006406, 4.201308446415664, 3.244546087229846, 3.218662008469924, 3.2123460542128544, 3.8509357092447454, 3.1654390975372397, 5.309699153314515, 4.258234156458477, 6.167153369029031, 3.7470869120536303, 6.996275149988698, 5.021526776764394, 4.801680555925604, 4.508513295781213, 4.293428517102637, 4.245835120334515, 4.2458311449501185, 5.473762196834451, 4.074239642337422, 3.968969409639599, 5.740517358749297, 3.907657285899254, 3.9076212765382334, 3.766947980046212, 4.0029592960517, 4.110089191063687, 4.143375968295433, 3.65181670243429, 3.58534806775498, 3.585348788046356, 3.58530480494635, 3.517242168188415, 5.008403287665877, 3.421369118511292, 3.421360812550851, 3.4203217168824485, 3.886052776207465, 3.345747771369651, 3.34574648827645, 3.49209649468776, 3.328042088252748, 3.3280408968831847, 3.328040220579628, 4.769111944628014, 6.996275149988698, 5.176565154770539, 4.3283273836308975, 4.477503119304989, 4.17963119654582, 4.34055197030092, 4.185330589664966, 4.688466526070636, 5.246801315868294, 4.238517861463698, 3.932508070099274, 5.625935928686467, 3.589222831701268, 3.507701696559019, 3.454155357172799, 3.771684849815651, 4.1052346891601195, 3.2953020154249617, 3.725868658908603, 3.2426753644833584, 3.2426703773301484, 3.647253155341518, 3.4346133054471126, 3.1179974014319747, 3.4080194762806166, 3.082897546897319, 3.082896316756906, 3.082893874394562, 3.571219778313247, 3.7630349681309148, 3.2781939290138538, 3.684971621003751, 3.699195532119266, 3.018099502158743, 4.222707887014452, 4.154061943515214, 3.0059475790018246, 2.9770089445689814, 2.977010842078832, 3.8820664993306115, 5.176565154770539, 5.757662303414323, 4.242223391304707, 4.3327362170963575, 6.167153369029031, 5.002729496239993, 4.25526267262012, 4.0973498230767325, 3.98021521569557, 3.853443930031511, 3.125623165056202, 3.661663633086807, 3.069326808851398, 3.0693221015490617, 3.0693240445592815, 3.065056412181978, 4.522244731452631, 3.019930815226095, 4.4387304678348665, 4.2919783459975696, 3.120246720596946, 3.4337698340232405, 3.168171373912965, 4.241550335466339, 3.0818854660454487, 3.094675050946128, 2.898976163952304, 2.8989765683392124, 2.898976504482325, 2.8989755641110513, 2.898976477349967, 2.877219153686254, 3.229910348214514, 2.858599245376421, 2.8585985838748735, 3.342937509835605, 2.8285139047514063, 5.740517358749297, 3.496537155639686, 3.175212213885917, 4.780725713908655, 4.1394515895984085, 3.665214435466844, 3.5755650143431033, 3.8576115953276124, 3.461960807641877, 3.4226191050001953, 3.4136271690606366, 3.3005037632879772, 3.2925728919316737, 3.258704313945179, 3.23143037498506, 3.178377917573433, 3.0893211564705694, 3.0349914741322794, 3.0349935324561494, 3.0349947073402044, 3.0106235168305115, 3.327834057568037, 4.081796762998976, 2.934150474767538, 3.070386879518018, 2.8693891117443258, 2.8691258530674104, 2.869130073227289, 2.8691290771944433, 2.8521934280360726, 2.942953346903948, 2.8385539896624503, 2.83855604405834, 2.8385555325818554, 3.801132302808447, 4.801680555925604, 3.649454757582333, 4.242223391304707, 3.7733503222390077, 4.011947564608256, 5.757662303414323, 3.8123665918332295, 3.63429928298727, 3.371004155752615, 3.577372296931034, 3.1297512044654168, 3.1216919821363036, 3.1216913216254736, 3.1217018512804633, 3.121699535256392, 3.12169513349353, 3.0399894261492353, 3.2662882137730023, 3.0157429004561087, 4.224738694655986, 3.093239276363946, 3.218022369710336, 3.211988980874675, 4.154061943515214, 3.2104276547696156, 2.901726010371443, 2.9012477479665195, 2.8914120629632625, 2.8914162912355805, 2.8914145748697524, 2.8808526916119854, 2.880852935283645, 2.8808546871104213, 2.8808549719974277, 2.880854724662677, 2.880852375749744, 3.25707924817571, 3.2570811598465763, 3.889899689495628, 3.88838065331804, 5.625935928686467, 4.245320731815804, 3.9888981828665835, 4.052925070835779, 5.398087110663539, 3.4961070066519575, 3.0759450748169255, 3.725552253717812, 2.97347139548539, 2.9734744225934544, 2.972225431058555, 3.5326977334041683, 3.0342848368321476, 2.9642843221413147, 3.1673656122971483, 2.8089280106990953, 2.796710157488288, 2.796711660162355, 2.7967112426080685, 2.796711044557289, 3.270832432917831, 2.941872867948493, 2.763786870424435, 2.7608093218204117, 2.7357154319997252, 3.1323912015671023, 2.903243412338189, 2.9127481822291026, 2.9464933804696, 2.9696034499939254, 3.8509357092447454, 2.6784816147072785, 3.581028758502999, 2.6557663680072965, 3.2058283899347177, 3.414002095986891, 3.3887114310805724, 5.398087110663539, 3.712099110902332, 4.156018934714343, 4.342363014343361, 3.1267242093021013, 3.1393614133542527, 2.9224118468124907, 2.810824139516282, 2.810844755076819, 2.7862076586576467, 2.728423509776277, 2.728420285518462, 2.728421790849084, 2.7284235632453204, 2.8628759717554657, 2.718104672377203, 2.7067726068946207, 3.945097454123684, 2.6499961538523893, 2.6282506614873578, 2.6282547314708746, 2.6282592252884927, 2.8282372313319932, 3.0059171989486173, 2.5870518403336527, 2.587051656263852, 2.587052631134195, 2.5870529117927292, 2.5870521348831184, 2.587051987746515, 2.5870528709660534, 2.5870526148600295, 2.5870537977613823, 2.587053126616105, 3.743996014342292, 3.905583318724106, 3.6147103465040384, 2.685983380057757, 2.6865346095830276, 4.801680555925604, 3.6680016767106576, 3.916722683218142, 2.766451172913201, 3.98021521569557, 4.704369694651668, 3.2837077085097186, 3.7026087684801254, 4.522244731452631, 2.600643962802174, 2.5231697569054394, 2.5231821384284494, 3.260654791516444, 3.1393614133542527, 2.48442505694816, 2.484425618995349, 2.4844267915044873, 2.4844269869671574, 2.4844269486318447, 2.4844308965725803, 2.484428927382473, 2.4844303154775713, 2.4844324274502325, 2.4844302120599266, 2.484432803303353, 2.4844337119788675, 2.4844358482264903, 2.4844351232584874, 2.4844365848723897, 2.4844376928448186, 2.484438528424969, 2.4844397781841008, 2.4844438034449925, 2.5624686783613964, 2.5763166718818593, 2.7067726068946207, 2.7160050496662747, 2.6002856729432424, 2.8675650535672945, 3.9557769446585143, 3.269504252813828], \"Category\": [\"Default\", \"Default\", \"Default\", \"Default\", \"Default\", \"Default\", \"Default\", \"Default\", \"Default\", \"Default\", \"Default\", \"Default\", \"Default\", \"Default\", \"Default\", \"Default\", \"Default\", \"Default\", \"Default\", \"Default\", \"Default\", \"Default\", \"Default\", \"Default\", \"Default\", \"Default\", \"Default\", \"Default\", \"Default\", \"Default\", \"Topic1\", \"Topic1\", \"Topic1\", \"Topic1\", \"Topic1\", \"Topic1\", \"Topic1\", \"Topic1\", \"Topic1\", \"Topic1\", \"Topic1\", \"Topic1\", \"Topic1\", \"Topic1\", \"Topic1\", \"Topic1\", \"Topic1\", \"Topic1\", \"Topic1\", \"Topic1\", \"Topic1\", \"Topic1\", \"Topic1\", \"Topic1\", \"Topic1\", \"Topic1\", \"Topic1\", \"Topic1\", \"Topic1\", \"Topic1\", \"Topic1\", \"Topic1\", \"Topic1\", \"Topic1\", \"Topic1\", \"Topic1\", \"Topic1\", \"Topic2\", \"Topic2\", \"Topic2\", \"Topic2\", \"Topic2\", \"Topic2\", \"Topic2\", \"Topic2\", \"Topic2\", \"Topic2\", \"Topic2\", \"Topic2\", \"Topic2\", \"Topic2\", \"Topic2\", \"Topic2\", \"Topic2\", \"Topic2\", \"Topic2\", \"Topic2\", \"Topic2\", \"Topic2\", \"Topic2\", \"Topic2\", \"Topic2\", \"Topic2\", \"Topic2\", \"Topic2\", \"Topic2\", \"Topic2\", \"Topic2\", \"Topic2\", \"Topic2\", \"Topic2\", \"Topic2\", \"Topic2\", \"Topic2\", \"Topic2\", \"Topic2\", \"Topic2\", \"Topic3\", \"Topic3\", \"Topic3\", \"Topic3\", \"Topic3\", \"Topic3\", \"Topic3\", \"Topic3\", \"Topic3\", \"Topic3\", \"Topic3\", \"Topic3\", \"Topic3\", \"Topic3\", \"Topic3\", \"Topic3\", \"Topic3\", \"Topic3\", \"Topic3\", \"Topic3\", \"Topic3\", \"Topic3\", \"Topic3\", \"Topic3\", \"Topic3\", \"Topic3\", \"Topic3\", \"Topic3\", \"Topic3\", \"Topic3\", \"Topic3\", \"Topic3\", \"Topic3\", \"Topic3\", \"Topic3\", \"Topic3\", \"Topic3\", \"Topic3\", \"Topic4\", \"Topic4\", \"Topic4\", \"Topic4\", \"Topic4\", \"Topic4\", \"Topic4\", \"Topic4\", \"Topic4\", \"Topic4\", \"Topic4\", \"Topic4\", \"Topic4\", \"Topic4\", \"Topic4\", \"Topic4\", \"Topic4\", \"Topic4\", \"Topic4\", \"Topic4\", \"Topic4\", \"Topic4\", \"Topic4\", \"Topic4\", \"Topic4\", \"Topic4\", \"Topic4\", \"Topic4\", \"Topic4\", \"Topic4\", \"Topic4\", \"Topic4\", \"Topic4\", \"Topic4\", \"Topic5\", \"Topic5\", \"Topic5\", \"Topic5\", \"Topic5\", \"Topic5\", \"Topic5\", \"Topic5\", \"Topic5\", \"Topic5\", \"Topic5\", \"Topic5\", \"Topic5\", \"Topic5\", \"Topic5\", \"Topic5\", \"Topic5\", \"Topic5\", \"Topic5\", \"Topic5\", \"Topic5\", \"Topic5\", \"Topic5\", \"Topic5\", \"Topic5\", \"Topic5\", \"Topic5\", \"Topic5\", \"Topic5\", \"Topic5\", \"Topic5\", \"Topic5\", \"Topic5\", \"Topic5\", \"Topic5\", \"Topic5\", \"Topic5\", \"Topic6\", \"Topic6\", \"Topic6\", \"Topic6\", \"Topic6\", \"Topic6\", \"Topic6\", \"Topic6\", \"Topic6\", \"Topic6\", \"Topic6\", \"Topic6\", \"Topic6\", \"Topic6\", \"Topic6\", \"Topic6\", \"Topic6\", \"Topic6\", \"Topic6\", \"Topic6\", \"Topic6\", \"Topic6\", \"Topic6\", \"Topic6\", \"Topic6\", \"Topic6\", \"Topic6\", \"Topic6\", \"Topic6\", \"Topic6\", \"Topic6\", \"Topic6\", \"Topic6\", \"Topic6\", \"Topic6\", \"Topic6\", \"Topic6\", \"Topic6\", \"Topic6\", \"Topic7\", \"Topic7\", \"Topic7\", \"Topic7\", \"Topic7\", \"Topic7\", \"Topic7\", \"Topic7\", \"Topic7\", \"Topic7\", \"Topic7\", \"Topic7\", \"Topic7\", \"Topic7\", \"Topic7\", \"Topic7\", \"Topic7\", \"Topic7\", \"Topic7\", \"Topic7\", \"Topic7\", \"Topic7\", \"Topic7\", \"Topic7\", \"Topic7\", \"Topic7\", \"Topic7\", \"Topic7\", \"Topic7\", \"Topic7\", \"Topic7\", \"Topic7\", \"Topic7\", \"Topic7\", \"Topic7\", \"Topic7\", \"Topic8\", \"Topic8\", \"Topic8\", \"Topic8\", \"Topic8\", \"Topic8\", \"Topic8\", \"Topic8\", \"Topic8\", \"Topic8\", \"Topic8\", \"Topic8\", \"Topic8\", \"Topic8\", \"Topic8\", \"Topic8\", \"Topic8\", \"Topic8\", \"Topic8\", \"Topic8\", \"Topic8\", \"Topic8\", \"Topic8\", \"Topic8\", \"Topic8\", \"Topic8\", \"Topic8\", \"Topic8\", \"Topic8\", \"Topic8\", \"Topic8\", \"Topic8\", \"Topic8\", \"Topic8\", \"Topic8\", \"Topic8\", \"Topic8\", \"Topic8\", \"Topic8\", \"Topic8\", \"Topic8\", \"Topic8\", \"Topic8\", \"Topic8\", \"Topic9\", \"Topic9\", \"Topic9\", \"Topic9\", \"Topic9\", \"Topic9\", \"Topic9\", \"Topic9\", \"Topic9\", \"Topic9\", \"Topic9\", \"Topic9\", \"Topic9\", \"Topic9\", \"Topic9\", \"Topic9\", \"Topic9\", \"Topic9\", \"Topic9\", \"Topic9\", \"Topic9\", \"Topic9\", \"Topic9\", \"Topic9\", \"Topic9\", \"Topic9\", \"Topic9\", \"Topic9\", \"Topic9\", \"Topic9\", \"Topic9\", \"Topic9\"], \"logprob\": [30.0, 29.0, 28.0, 27.0, 26.0, 25.0, 24.0, 23.0, 22.0, 21.0, 20.0, 19.0, 18.0, 17.0, 16.0, 15.0, 14.0, 13.0, 12.0, 11.0, 10.0, 9.0, 8.0, 7.0, 6.0, 5.0, 4.0, 3.0, 2.0, 1.0, -6.1761, -6.2253, -6.0199, -6.2226, -6.1947, -6.2382, -6.3589, -6.4469, -6.4469, -6.298, -6.3365, -6.479, -6.4801, -6.5003, -6.504, -6.5572, -6.5588, -6.581, -6.6389, -6.6466, -6.5907, -6.6782, -6.6782, -6.4774, -6.4901, -6.7581, -6.7789, -6.784, -6.6249, -6.8229, -6.3368, -6.547, -6.304, -6.6805, -6.4775, -6.6094, -6.6518, -6.0616, -6.1507, -6.1715, -6.1715, -5.9266, -6.2504, -6.3021, -5.9452, -6.3335, -6.3335, -6.4094, -6.3619, -6.3514, -6.3629, -6.4894, -6.5168, -6.5168, -6.5169, -6.5603, -6.213, -6.6249, -6.6249, -6.6256, -6.5157, -6.6789, -6.6789, -6.639, -6.692, -6.692, -6.692, -6.3362, -5.9615, -6.2585, -6.4455, -6.49, -6.5405, -6.5276, -6.5543, -6.53, -6.5151, -5.9973, -6.149, -5.8486, -6.3522, -6.4071, -6.4449, -6.3803, -6.317, -6.5663, -6.4503, -6.61, -6.61, -6.5184, -6.599, -6.7218, -6.6539, -6.7557, -6.7557, -6.7557, -6.6095, -6.565, -6.7052, -6.6049, -6.6063, -6.8215, -6.4875, -6.5041, -6.8343, -6.8655, -6.8655, -6.6049, -6.3682, -6.3161, -6.5965, -6.6372, -6.5229, -6.6639, -6.7108, -5.764, -5.9289, -6.2297, -6.4635, -6.3396, -6.5241, -6.5241, -6.5241, -6.5288, -6.1457, -6.5803, -6.2057, -6.2573, -6.5943, -6.5015, -6.5943, -6.3173, -6.6631, -6.6631, -6.7331, -6.7331, -6.7331, -6.7331, -6.7331, -6.7632, -6.6631, -6.7898, -6.7898, -6.6435, -6.8342, -6.2399, -6.7154, -6.7543, -6.6218, -5.6955, -5.9731, -6.0355, -5.986, -6.1206, -6.1518, -6.1591, -6.2555, -6.2627, -6.2937, -6.3193, -6.3713, -6.465, -6.5268, -6.5268, -6.5268, -6.5558, -6.4563, -6.2547, -6.6529, -6.6661, -6.743, -6.7434, -6.7434, -6.7435, -6.7684, -6.7505, -6.789, -6.7889, -6.789, -6.4993, -6.312, -6.5742, -6.4765, -6.643, -6.627, -6.7167, -5.7808, -5.8991, -6.1876, -6.1662, -6.339, -6.3479, -6.3479, -6.3479, -6.3479, -6.348, -6.4425, -6.3792, -6.4724, -6.1738, -6.4907, -6.4715, -6.4918, -6.2394, -6.4992, -6.6263, -6.627, -6.6415, -6.6415, -6.6415, -6.6572, -6.6572, -6.6572, -6.6572, -6.6572, -6.6572, -6.5373, -6.5373, -6.3862, -6.4729, -6.4364, -6.5302, -6.636, -6.6362, -6.6413, -5.8474, -6.2566, -6.1061, -6.3881, -6.3882, -6.3898, -6.2329, -6.5127, -6.5361, -6.5127, -6.6441, -6.666, -6.666, -6.666, -6.666, -6.5146, -6.6343, -6.7275, -6.7333, -6.7831, -6.6778, -6.7933, -6.7933, -6.7933, -6.7933, -6.5378, -6.9071, -6.6386, -6.9609, -6.7933, -6.7431, -6.7506, -6.4327, -6.7178, -6.6918, -6.7749, -5.8444, -5.9329, -6.1334, -6.3356, -6.3356, -6.3863, -6.5164, -6.5164, -6.5164, -6.5164, -6.4838, -6.5416, -6.6532, -6.2973, -6.7256, -6.7922, -6.7922, -6.7922, -6.8132, -6.765, -6.9321, -6.9321, -6.9321, -6.9321, -6.9321, -6.9321, -6.9321, -6.9321, -6.9321, -6.9321, -6.5689, -6.582, -6.6579, -6.9074, -6.9073, -6.5853, -6.7649, -6.7643, -6.9074, -6.8116, -6.7758, -6.8685, -6.8688, -6.8685, -5.9132, -6.4357, -6.4358, -6.2783, -6.3998, -6.856, -6.856, -6.856, -6.856, -6.856, -6.856, -6.856, -6.856, -6.856, -6.856, -6.856, -6.856, -6.856, -6.856, -6.856, -6.856, -6.856, -6.856, -6.856, -6.9593, -6.9593, -6.9593, -6.9593, -7.0251, -6.9593, -6.8233, -6.9593], \"loglift\": [30.0, 29.0, 28.0, 27.0, 26.0, 25.0, 24.0, 23.0, 22.0, 21.0, 20.0, 19.0, 18.0, 17.0, 16.0, 15.0, 14.0, 13.0, 12.0, 11.0, 10.0, 9.0, 8.0, 7.0, 6.0, 5.0, 4.0, 3.0, 2.0, 1.0, 0.9994, 0.9541, 0.9342, 0.9025, 0.8928, 0.8826, 0.8693, 0.8637, 0.8636, 0.86, 0.859, 0.8464, 0.8457, 0.8347, 0.8327, 0.8031, 0.8022, 0.7761, 0.7564, 0.7518, 0.7421, 0.7333, 0.7333, 0.7088, 0.6948, 0.6852, 0.6725, 0.6693, 0.6471, 0.6451, 0.614, 0.6244, 0.497, 0.6188, 0.1974, 0.3972, 0.3995, 1.0527, 1.0125, 1.0028, 1.0028, 0.9937, 0.9652, 0.9397, 0.9275, 0.9239, 0.9239, 0.8846, 0.8714, 0.8555, 0.8358, 0.8357, 0.8266, 0.8266, 0.8266, 0.8023, 0.7962, 0.7654, 0.7654, 0.765, 0.7472, 0.7337, 0.7337, 0.7307, 0.7259, 0.7259, 0.7259, 0.7219, 0.7134, 0.7176, 0.7096, 0.6312, 0.6496, 0.6246, 0.6344, 0.5452, 0.4476, 1.1787, 1.102, 1.0443, 0.9902, 0.9583, 0.9358, 0.9125, 0.891, 0.8615, 0.8547, 0.8339, 0.8339, 0.8079, 0.7874, 0.7613, 0.7403, 0.7387, 0.7387, 0.7387, 0.7379, 0.7301, 0.7278, 0.7111, 0.7059, 0.6942, 0.6923, 0.6921, 0.6854, 0.6639, 0.6638, 0.659, 0.608, 0.5537, 0.5787, 0.5169, 0.2782, 0.3464, 0.4613, 1.446, 1.31, 1.0416, 1.0171, 0.9827, 0.9748, 0.9748, 0.9747, 0.9714, 0.9656, 0.9348, 0.9242, 0.9063, 0.8881, 0.8851, 0.8729, 0.8581, 0.8317, 0.8275, 0.8229, 0.8229, 0.8229, 0.8229, 0.8229, 0.8003, 0.7848, 0.7802, 0.7802, 0.7699, 0.7464, 0.6328, 0.6531, 0.7106, 0.4339, 1.5042, 1.3483, 1.3107, 1.2842, 1.2578, 1.238, 1.2334, 1.1707, 1.1659, 1.1453, 1.128, 1.0926, 1.0273, 0.9833, 0.9833, 0.9832, 0.9623, 0.9617, 0.9591, 0.891, 0.8324, 0.8232, 0.8229, 0.8229, 0.8228, 0.8038, 0.7904, 0.788, 0.788, 0.788, 0.7857, 0.7393, 0.7515, 0.6987, 0.6493, 0.604, 0.1531, 1.5012, 1.4308, 1.2175, 1.1795, 1.1403, 1.134, 1.134, 1.134, 1.134, 1.134, 1.066, 1.0575, 1.0441, 1.0055, 1.0004, 0.98, 0.9616, 0.9569, 0.9547, 0.9287, 0.9281, 0.9171, 0.9171, 0.9171, 0.905, 0.905, 0.905, 0.905, 0.905, 0.905, 0.9022, 0.9022, 0.8757, 0.7894, 0.4565, 0.6442, 0.6008, 0.5847, 0.293, 1.5212, 1.2401, 1.1989, 1.1424, 1.1424, 1.1411, 1.1253, 0.9977, 0.9976, 0.9547, 0.9434, 0.9259, 0.9259, 0.9259, 0.9259, 0.9206, 0.907, 0.8762, 0.8715, 0.8308, 0.8006, 0.7612, 0.7579, 0.7464, 0.7386, 0.7342, 0.7279, 0.706, 0.6827, 0.6621, 0.6493, 0.6492, 0.5015, 0.5909, 0.5039, 0.377, 1.6359, 1.5434, 1.4145, 1.2512, 1.2512, 1.2093, 1.1002, 1.1002, 1.1002, 1.1001, 1.0846, 1.0787, 0.9713, 0.9505, 0.9202, 0.8618, 0.8618, 0.8617, 0.7674, 0.7548, 0.7376, 0.7376, 0.7376, 0.7376, 0.7376, 0.7376, 0.7376, 0.7376, 0.7376, 0.7376, 0.7313, 0.6759, 0.6773, 0.7249, 0.7247, 0.466, 0.5557, 0.4907, 0.6954, 0.4273, 0.296, 0.5628, 0.4425, 0.2428, 1.7513, 1.259, 1.259, 1.16, 1.0764, 0.8543, 0.8543, 0.8543, 0.8543, 0.8543, 0.8543, 0.8543, 0.8543, 0.8543, 0.8543, 0.8543, 0.8543, 0.8542, 0.8542, 0.8542, 0.8542, 0.8542, 0.8542, 0.8542, 0.72, 0.7146, 0.6652, 0.6618, 0.6396, 0.6076, 0.4218, 0.4764]}, \"token.table\": {\"Topic\": [1, 1, 2, 3, 1, 2, 2, 3, 1, 7, 6, 3, 7, 3, 2, 3, 6, 4, 4, 2, 4, 5, 1, 3, 1, 3, 5, 1, 5, 6, 5, 5, 5, 2, 2, 4, 1, 3, 6, 3, 1, 3, 3, 6, 1, 3, 5, 3, 1, 7, 1, 2, 3, 1, 2, 3, 4, 3, 1, 2, 3, 5, 4, 1, 4, 1, 5, 1, 6, 7, 3, 1, 2, 3, 4, 1, 2, 3, 5, 5, 2, 2, 3, 8, 3, 5, 1, 5, 2, 4, 6, 4, 3, 1, 7, 1, 1, 2, 5, 1, 2, 3, 1, 2, 6, 1, 5, 1, 2, 1, 2, 3, 2, 1, 4, 1, 4, 1, 2, 6, 6, 5, 1, 2, 3, 3, 2, 7, 7, 1, 6, 3, 3, 6, 4, 1, 3, 6, 5, 1, 3, 8, 1, 2, 3, 2, 3, 2, 1, 3, 6, 1, 6, 5, 1, 1, 3, 6, 2, 2, 6, 1, 5, 2, 3, 2, 3, 5, 2, 3, 1, 2, 1, 6, 5, 2, 7, 1, 6, 3, 6, 1, 2, 3, 7, 3, 5, 3, 7, 3, 2, 2, 2, 3, 4, 6, 7, 2, 6, 1, 6, 2, 4, 1, 2, 4, 6, 1, 2, 4, 5, 1, 5, 5, 1, 7, 2, 1, 1, 1, 3, 6, 7, 6, 6, 4, 1, 3, 1, 3, 3, 4, 1, 1, 2, 4, 1, 2, 3, 6, 6, 1, 5, 2, 3, 2, 2, 7, 6, 1, 1, 2, 2, 1, 2, 1, 4, 2, 3, 3, 2, 3, 7, 1, 3, 4, 1, 2, 4, 1, 2, 3, 6, 5, 3, 1, 4, 1, 2, 1, 2, 3, 4, 6, 7, 4, 6, 6, 2, 5, 4, 1, 2, 4, 7, 1, 2, 3, 8, 4, 5, 1, 4, 5, 2, 1, 4, 6, 6, 7, 5, 2, 6, 7, 3, 1, 5, 1, 2, 5, 2, 5, 1, 2, 3, 5, 2, 3, 4, 6, 6, 1, 1, 7, 1, 3, 1, 2, 1, 3, 3, 4, 3, 6, 1, 6, 7, 6, 4, 1, 3, 7, 1, 3, 4, 6, 1, 4, 5, 1, 3, 6, 6, 4, 1, 2, 3, 3, 4, 4, 4, 1, 2, 3, 1, 2, 4, 5, 2, 1, 2, 3, 7, 4, 7, 1, 3, 1, 6, 1, 2, 2, 4, 1, 2, 2, 7, 5, 5, 2, 2, 7, 7, 1, 2, 3, 4, 8, 1, 2, 5, 3, 4, 3, 4, 5, 1, 2, 4, 3, 3, 6], \"Freq\": [0.2937437376928442, 0.23500311894594833, 0.23500311894594833, 0.23500311894594833, 0.3082095224154414, 0.29228136253025994, 0.23681486542679658, 0.23681486542679658, 0.25967714745259207, 0.25967714745259207, 0.3471191745923449, 0.32071867652639446, 0.35756278140662806, 0.2850869562200739, 0.5309337985536675, 0.3243705559590131, 0.3315932534728864, 0.31563949104335026, 0.3498216833357905, 0.5578326275748619, 0.29122511069075685, 0.29122511069075685, 0.2741789388914417, 0.2741789388914417, 0.2630795037734296, 0.2630795037734296, 0.2630795037734296, 0.3045338040923993, 0.35229204857185614, 0.32033808724872903, 0.2888536455388565, 0.348537822138641, 0.292943532048106, 0.3004769691855096, 0.22528964244314256, 0.22528964244314256, 0.23555346301768845, 0.23555346301768845, 0.23555346301768845, 0.3243701695524774, 0.4766754537344261, 0.23833772686721305, 0.30615791827043504, 0.30615791827043504, 0.23572544577678342, 0.23572544577678342, 0.23572544577678342, 0.331334337812499, 0.2830697884351353, 0.2830697884351353, 0.25531549738884207, 0.25531549738884207, 0.25531549738884207, 0.20917326360947278, 0.20917326360947278, 0.20917326360947278, 0.20917326360947278, 0.33267379876666603, 0.2389297520414151, 0.4778595040828302, 0.2389297520414151, 0.3029840508358625, 0.32580434156316496, 0.26709430142800783, 0.26709430142800783, 0.3004957527031244, 0.3004957527031244, 0.295097419871224, 0.295097419871224, 0.295097419871224, 0.34331838437015455, 0.23028936012417123, 0.23028936012417123, 0.23028936012417123, 0.23028936012417123, 0.19914262025390356, 0.19914262025390356, 0.19914262025390356, 0.32948986618707343, 0.35229179360160884, 0.49088914142826046, 0.25347916284165095, 0.25347916284165095, 0.25347916284165095, 0.3487279211873449, 0.2921739081451025, 0.24499014969703697, 0.24499014969703697, 0.5118156106516766, 0.3096061166381282, 0.3096061166381282, 0.3535425434254277, 0.508581283076556, 0.2985446512222219, 0.3251033343173457, 0.31193185609675245, 0.2527948400503977, 0.2527948400503977, 0.2527948400503977, 0.1998908797190796, 0.1998908797190796, 0.1998908797190796, 0.2506957947172669, 0.2506957947172669, 0.2506957947172669, 0.32569185553482355, 0.32569185553482355, 0.24134908529949206, 0.4826981705989841, 0.5677173450419557, 0.4996303614610047, 0.24981518073050235, 0.28636093003764873, 0.2859972468437995, 0.2859972468437995, 0.32447669162837506, 0.32447669162837506, 0.469678257821166, 0.234839128910583, 0.234839128910583, 0.34711944936012973, 0.2728353327225255, 0.22333876121458135, 0.4466775224291627, 0.22333876121458135, 0.3393864743183723, 0.27924936308471215, 0.27924936308471215, 0.3622126280494532, 0.5540690183028453, 0.34467928521474894, 0.557223692643238, 0.24072823506184618, 0.24072823506184618, 0.3449493695169453, 0.25717646731594507, 0.25717646731594507, 0.25717646731594507, 0.3236957083291598, 0.4734300975500336, 0.2651334986402369, 0.3421831187451255, 0.3242987291420132, 0.1621493645710066, 0.1621493645710066, 0.4785111187926972, 0.2392555593963486, 0.4866074450034993, 0.2713725105235979, 0.2713725105235979, 0.3232856920061756, 0.3112989644090626, 0.32033877660592913, 0.3294899937367324, 0.29469142451002317, 0.2703290462256535, 0.2703290462256535, 0.2703290462256535, 0.30047713781110347, 0.30047707675002777, 0.32033916776861115, 0.2740135352883436, 0.2740135352883436, 0.5480691144629812, 0.18268970482099373, 0.4658281818442091, 0.29342555315774255, 0.33215710779166707, 0.386356578194881, 0.386356578194881, 0.2726280106002478, 0.2726280106002478, 0.31133357117796967, 0.31133357117796967, 0.35229185708071503, 0.31571978811588625, 0.31571978811588625, 0.30702335954290577, 0.30702335954290577, 0.32437029898299125, 0.3471194874189793, 0.24061488066072378, 0.24061488066072378, 0.24061488066072378, 0.24061488066072378, 0.3083878049989619, 0.31462589595495954, 0.28950637611693664, 0.35756297352532773, 0.4718630581184658, 0.2922806529671141, 0.5578258964553838, 0.3066868662704789, 0.3066868662704789, 0.2929113608850695, 0.2929113608850695, 0.2929113608850695, 0.35357712886377557, 0.344622475184, 0.3070235397434987, 0.3070235397434987, 0.3326771610175327, 0.3258046349888052, 0.5397777725010944, 0.5118203271151708, 0.3449493289972599, 0.3471192089188741, 0.2492555009496103, 0.2492555009496103, 0.2492555009496103, 0.2492555009496103, 0.25922775668012105, 0.25922775668012105, 0.30371385321505334, 0.32956695029462674, 0.32956695029462674, 0.4710502918559887, 0.3159119380240218, 0.3106881049853931, 0.24673537815831956, 0.24673537815831956, 0.24673537815831956, 0.3364482348984717, 0.2966475132620353, 0.31951421524280776, 0.34494932139892653, 0.43190088551048855, 0.21595044275524428, 0.4484298906746584, 0.2242149453373292, 0.3034623216078846, 0.502485391270604, 0.5478142323072217, 0.5654721972926233, 0.2560436990822371, 0.2560436990822371, 0.2310361281315859, 0.4620722562631718, 0.2310361281315859, 0.347119419999668, 0.3289485125830531, 0.539773366896084, 0.27967607804321193, 0.23080103424116682, 0.23080103424116682, 0.5578257843889696, 0.319244926846848, 0.319244926846848, 0.34711920439413735, 0.4715853894116781, 0.3766691750796322, 0.3766691750796322, 0.5476726141996135, 0.266873980633649, 0.266873980633649, 0.2595081226449356, 0.2595081226449356, 0.28001637033728527, 0.28001637033728527, 0.3359076235979474, 0.2683937872069071, 0.2683937872069071, 0.33991951552187477, 0.22112912046641514, 0.22112912046641514, 0.22112912046641514, 0.23576285105904668, 0.23576285105904668, 0.23576285105904668, 0.2132893547259879, 0.4265787094519758, 0.2132893547259879, 0.2132893547259879, 0.3485382138015627, 0.29115359170537586, 0.3204874772879134, 0.3204874772879134, 0.5481017100827219, 0.5039091496000241, 0.18525080820288556, 0.18525080820288556, 0.18525080820288556, 0.18525080820288556, 0.18525080820288556, 0.18525080820288556, 0.3311334137054171, 0.27515620540145336, 0.3458512712372776, 0.3681878279728801, 0.3408141499897773, 0.3498217642872001, 0.4971277479683407, 0.29237015777319303, 0.26841658146173564, 0.26841658146173564, 0.44651437382871073, 0.22325718691435537, 0.30504601669518067, 0.31982353832965793, 0.32313570359972765, 0.3485062363647472, 0.31493957966865177, 0.31493957966865177, 0.48315578928996034, 0.3367452984343905, 0.2766473393828494, 0.2766473393828494, 0.3203390999888652, 0.31074985973140173, 0.33630725404599354, 0.3094604815691328, 0.5146610494445909, 0.3458517769947845, 0.28603243496189457, 0.3083873307062688, 0.2650164746449055, 0.2650164746449055, 0.48112467423037647, 0.2988868463299101, 0.33979471711708314, 0.3058567668597989, 0.32949021719604843, 0.17368159980605236, 0.17368159980605236, 0.3473631996121047, 0.17368159980605236, 0.23670102988024644, 0.23670102988024644, 0.23670102988024644, 0.23670102988024644, 0.27953478614956645, 0.5531466444433977, 0.26938935899179733, 0.26938935899179733, 0.4634074742109093, 0.23170373710545464, 0.2700798443823941, 0.2700798443823941, 0.5669077018209828, 0.1889692339403276, 0.26574294644322594, 0.26574294644322594, 0.31148498191956964, 0.31148498191956964, 0.3057325682404109, 0.3057325682404109, 0.3057325682404109, 0.32033832491116665, 0.34755781418972326, 0.27595927703405915, 0.27595927703405915, 0.3618224005262859, 0.21256832793921063, 0.21256832793921063, 0.21256832793921063, 0.21256832793921063, 0.27309990763870173, 0.27309990763870173, 0.27309990763870173, 0.1777482027303283, 0.5332446081909848, 0.1777482027303283, 0.5246085211963502, 0.3199362006206589, 0.19966443246746635, 0.3993288649349327, 0.19966443246746635, 0.3444423556599509, 0.3258048412368673, 0.3262582691873236, 0.4881203915603633, 0.20968264356352806, 0.4193652871270561, 0.20968264356352806, 0.2329927877973889, 0.2329927877973889, 0.2329927877973889, 0.2329927877973889, 0.2988869609529641, 0.2858664013526156, 0.4287996020289234, 0.1429332006763078, 0.35600769980257224, 0.34494944089211127, 0.336306911672643, 0.2575947630398477, 0.2575947630398477, 0.5673258579726668, 0.34585147653724, 0.47604217245851, 0.238021086229255, 0.5226009804547684, 0.17420032681825615, 0.23038544563968724, 0.4607708912793745, 0.47104985081060485, 0.3575628347914287, 0.30687043182182466, 0.35060735719055613, 0.5686273234436162, 0.6654078192044403, 0.35756286011245647, 0.33734955602289474, 0.19059231325867537, 0.38118462651735074, 0.19059231325867537, 0.19059231325867537, 0.31853611876166543, 0.2082604180667394, 0.2082604180667394, 0.2082604180667394, 0.48718286564249397, 0.24359143282124698, 0.3359074094945872, 0.3449493322257403, 0.34853770114199395, 0.29854489672365847, 0.2991381074452621, 0.2991381074452621, 0.36147393808760186, 0.2570760378989778, 0.2570760378989778], \"Term\": [\"000\", \"1\", \"1\", \"1\", \"13\", \"1dtemppro\", \"3\", \"3\", \"3d\", \"3d\", \"98\", \"ad\", \"adapt\", \"aerob\", \"algorithm\", \"anaerob\", \"anim\", \"annual\", \"anteced\", \"appendic\", \"aquat\", \"aquat\", \"aqueous\", \"aqueous\", \"aquif\", \"aquif\", \"aquif\", \"area\", \"areal\", \"articl\", \"ash\", \"assist\", \"atmospher\", \"attenu\", \"balanc\", \"balanc\", \"base\", \"base\", \"base\", \"biomass\", \"block\", \"block\", \"bodi\", \"bodi\", \"boundari\", \"boundari\", \"boundari\", \"c\", \"cell\", \"cell\", \"chang\", \"chang\", \"chang\", \"channel\", \"channel\", \"channel\", \"channel\", \"chart\", \"chemic\", \"chemic\", \"chemic\", \"circl\", \"classroom\", \"climat\", \"climat\", \"coastal\", \"coastal\", \"compil\", \"compil\", \"compil\", \"complet\", \"comput\", \"comput\", \"comput\", \"comput\", \"conduct\", \"conduct\", \"conduct\", \"confin\", \"constant\", \"constitu\", \"contamin\", \"contamin\", \"contamin\", \"convers\", \"count\", \"coupl\", \"coupl\", \"crop\", \"cycl\", \"cycl\", \"dataset\", \"degrad\", \"delft3d\", \"dem\", \"desir\", \"develop\", \"develop\", \"develop\", \"dimension\", \"dimension\", \"dimension\", \"discharg\", \"discharg\", \"discharg\", \"discret\", \"discret\", \"dispers\", \"dispers\", \"dissolut\", \"dissolv\", \"dissolv\", \"distanc\", \"dri\", \"dri\", \"driven\", \"driven\", \"earthquak\", \"earthquak\", \"earthquak\", \"edit\", \"erupt\", \"estim\", \"estim\", \"estim\", \"execut\", \"factor\", \"factor\", \"failur\", \"fastmech\", \"fault\", \"fe\", \"feq\", \"feq\", \"fig\", \"file\", \"file\", \"file\", \"finit\", \"fish\", \"flexibl\", \"flood\", \"flow\", \"flow\", \"flow\", \"fluid\", \"fluid\", \"flux\", \"follow\", \"follow\", \"forag\", \"form\", \"fractur\", \"freshwat\", \"fulli\", \"general\", \"general\", \"general\", \"gk15\", \"gmpe\", \"goal\", \"grid\", \"grid\", \"ground\", \"ground\", \"heat\", \"high\", \"hurrican\", \"hydraul\", \"hydraul\", \"hydrodynam\", \"hydrodynam\", \"impact\", \"impact\", \"implicit\", \"infiltr\", \"infiltr\", \"inflow\", \"inflow\", \"inhibit\", \"initi\", \"input\", \"input\", \"input\", \"input\", \"interv\", \"isopleth\", \"isotop\", \"iv\", \"keyword\", \"known\", \"lagrangian\", \"land\", \"land\", \"landslid\", \"landslid\", \"landslid\", \"larg\", \"larger\", \"later\", \"later\", \"line\", \"locat\", \"lpf\", \"lsp\", \"ltrm\", \"mac\", \"manag\", \"manag\", \"manag\", \"manag\", \"map\", \"map\", \"massachusett\", \"materi\", \"materi\", \"matlab\", \"matrix\", \"mean\", \"method\", \"method\", \"method\", \"microcomput\", \"migrat\", \"migratori\", \"mississippi\", \"modflow\", \"modflow\", \"modul\", \"modul\", \"monod\", \"month\", \"mor\", \"morpholog\", \"network\", \"network\", \"new\", \"new\", \"new\", \"nt\", \"nurp\", \"nwt\", \"ocean\", \"one\", \"one\", \"onedimension\", \"oper\", \"oper\", \"os\", \"oteq\", \"packag\", \"packag\", \"paramet\", \"percent\", \"percent\", \"perman\", \"perman\", \"permeabl\", \"permeabl\", \"pest\", \"phreeqc\", \"phreeqc\", \"potenti\", \"precipit\", \"precipit\", \"precipit\", \"predict\", \"predict\", \"predict\", \"present\", \"present\", \"present\", \"present\", \"preserv\", \"pressur\", \"probabl\", \"probabl\", \"problem\", \"profil\", \"program\", \"program\", \"program\", \"program\", \"program\", \"program\", \"prosper\", \"psd\", \"psds\", \"pseudo\", \"ptcount\", \"python\", \"quasi\", \"rainf\", \"rainfal\", \"rainfal\", \"record\", \"record\", \"redox\", \"reef\", \"refer\", \"refin\", \"research\", \"research\", \"reservoir\", \"revis\", \"river\", \"river\", \"rock\", \"runoff\", \"safeti\", \"saltwat\", \"satur\", \"scms\", \"scoops3d\", \"screen\", \"sediment\", \"sediment\", \"select\", \"sensor\", \"separ\", \"serv\", \"sharp\", \"simul\", \"simul\", \"simul\", \"simul\", \"site\", \"site\", \"site\", \"site\", \"size\", \"slide\", \"slope\", \"slope\", \"solver\", \"solver\", \"spatial\", \"spatial\", \"speci\", \"speci\", \"specifi\", \"specifi\", \"spreadsheet\", \"spreadsheet\", \"stabil\", \"stabil\", \"stabil\", \"statement\", \"statist\", \"steadi\", \"steadi\", \"step\", \"stream\", \"stream\", \"stream\", \"stream\", \"streamflow\", \"streamflow\", \"streamflow\", \"structur\", \"structur\", \"structur\", \"subduct\", \"submers\", \"temperatur\", \"temperatur\", \"temperatur\", \"thermodynam\", \"thornthwait\", \"thresh\", \"threshold\", \"time\", \"time\", \"time\", \"tool\", \"tool\", \"tool\", \"tool\", \"toolbox\", \"transport\", \"transport\", \"transport\", \"trigr\", \"umrr\", \"unsatur\", \"unsteadi\", \"unsteadi\", \"upw\", \"urban\", \"usg\", \"usg\", \"veget\", \"veget\", \"vertic\", \"vertic\", \"vflux\", \"vi\", \"volcan\", \"volcano\", \"vs2dh\", \"vs2drti\", \"wateq2\", \"wateq4f\", \"water\", \"water\", \"water\", \"water\", \"watersh\", \"wave\", \"wave\", \"wave\", \"well\", \"well\", \"wellbor\", \"wildlif\", \"withdraw\", \"world\", \"year\", \"year\", \"yield\", \"zone\", \"zone\"]}, \"R\": 30, \"lambda.step\": 0.01, \"plot.opts\": {\"xlab\": \"PC1\", \"ylab\": \"PC2\"}, \"topic.order\": [2, 9, 6, 1, 4, 7, 3, 8, 5]};\n",
              "\n",
              "function LDAvis_load_lib(url, callback){\n",
              "  var s = document.createElement('script');\n",
              "  s.src = url;\n",
              "  s.async = true;\n",
              "  s.onreadystatechange = s.onload = callback;\n",
              "  s.onerror = function(){console.warn(\"failed to load library \" + url);};\n",
              "  document.getElementsByTagName(\"head\")[0].appendChild(s);\n",
              "}\n",
              "\n",
              "if(typeof(LDAvis) !== \"undefined\"){\n",
              "   // already loaded: just create the visualization\n",
              "   !function(LDAvis){\n",
              "       new LDAvis(\"#\" + \"ldavis_el12411398924589442089761250526\", ldavis_el12411398924589442089761250526_data);\n",
              "   }(LDAvis);\n",
              "}else if(typeof define === \"function\" && define.amd){\n",
              "   // require.js is available: use it to load d3/LDAvis\n",
              "   require.config({paths: {d3: \"https://d3js.org/d3.v5\"}});\n",
              "   require([\"d3\"], function(d3){\n",
              "      window.d3 = d3;\n",
              "      LDAvis_load_lib(\"https://cdn.jsdelivr.net/gh/bmabey/pyLDAvis@3.3.1/pyLDAvis/js/ldavis.v3.0.0.js\", function(){\n",
              "        new LDAvis(\"#\" + \"ldavis_el12411398924589442089761250526\", ldavis_el12411398924589442089761250526_data);\n",
              "      });\n",
              "    });\n",
              "}else{\n",
              "    // require.js not available: dynamically load d3 & LDAvis\n",
              "    LDAvis_load_lib(\"https://d3js.org/d3.v5.js\", function(){\n",
              "         LDAvis_load_lib(\"https://cdn.jsdelivr.net/gh/bmabey/pyLDAvis@3.3.1/pyLDAvis/js/ldavis.v3.0.0.js\", function(){\n",
              "                 new LDAvis(\"#\" + \"ldavis_el12411398924589442089761250526\", ldavis_el12411398924589442089761250526_data);\n",
              "            })\n",
              "         });\n",
              "}\n",
              "</script>"
            ],
            "text/plain": [
              "<IPython.core.display.HTML object>"
            ]
          },
          "metadata": {
            "tags": []
          },
          "execution_count": 80
        }
      ]
    },
    {
      "cell_type": "markdown",
      "metadata": {
        "id": "TNhJ6qxVh8sY"
      },
      "source": [
        "#### **HDBSCAN**"
      ]
    },
    {
      "cell_type": "markdown",
      "metadata": {
        "id": "B1PUUP2b04vs"
      },
      "source": [
        "##### Coherence Score - n/a"
      ]
    },
    {
      "cell_type": "code",
      "metadata": {
        "id": "KR2Jc81D04Cs"
      },
      "source": [
        "# cm = models.CoherenceModel(model= hdb_model, corpus = corpus_tfidf, texts=document_list, dictionary=dictionary, coherence='u_mass')\n",
        "# lsa_score = cm.get_coherence()\n",
        "\n",
        "# ValueError: This topic model is not currently supported. Supported topic models should implement the `get_topics` method."
      ],
      "execution_count": 57,
      "outputs": []
    },
    {
      "cell_type": "markdown",
      "metadata": {
        "id": "nULZR9Y2ltja"
      },
      "source": [
        "##### Silhouette Score 0.05"
      ]
    },
    {
      "cell_type": "code",
      "metadata": {
        "colab": {
          "base_uri": "https://localhost:8080/"
        },
        "id": "qYc9sulAlrQC",
        "outputId": "8d9ca476-9fe6-4e69-cb51-34339e408fba"
      },
      "source": [
        "HDB_score = metrics.silhouette_score(X, hdp_labels)\n",
        "HDB_score"
      ],
      "execution_count": 58,
      "outputs": [
        {
          "output_type": "execute_result",
          "data": {
            "text/plain": [
              "0.048756017504567394"
            ]
          },
          "metadata": {
            "tags": []
          },
          "execution_count": 58
        }
      ]
    },
    {
      "cell_type": "markdown",
      "metadata": {
        "id": "om44JDe2lwgV"
      },
      "source": [
        "##### Titles Grouped by Topic"
      ]
    },
    {
      "cell_type": "code",
      "metadata": {
        "colab": {
          "base_uri": "https://localhost:8080/"
        },
        "id": "GRPNfte6ZZ-H",
        "outputId": "1f800c70-0c6b-4994-ce37-22cd07acdf55"
      },
      "source": [
        "df_HDB = dataset.groupby('HDBSCAN_Topic')['Title'].apply(lambda group_series: group_series.tolist()).reset_index()\n",
        "for i in range(len(df_HDB)):\n",
        "  print('HDBSCAN topic:', df_HDB.HDBSCAN_Topic[i])\n",
        "  for j in df_HDB.Title[i]:\n",
        "    print(j)\n",
        "  print(' ')"
      ],
      "execution_count": 59,
      "outputs": [
        {
          "output_type": "stream",
          "text": [
            "HDBSCAN topic: -1\n",
            "The Effect of Particle Size Distribution on the Design of Urban Stormwater Control Measures\n",
            "SLAMMER—Seismic LAndslide Movement Modeled using Earthquake Records\n",
            "The SPARROW Surface Water-Quality Model: Theory, Application and User Documentation\n",
            "Modeling Landscape Evapotranspiration by Integrating Land Surface Phenology and a Water Balance Algorithm\n",
            "Benefits of the destinations, not costs of the journeys, shape partial migration patterns\n",
            "FishVis, A regional decision support tool for identifying vulnerabilities of riverine habitat and fishes to climate change in the Great Lakes Region\n",
            "Probability of Streamflow Permanence Model (PROSPER): A spatially continuous model of annual streamflow permanence throughout the Pacific Northwest\n",
            "VS2DRTI - A Graphical Software Package for Simulating Water Flow, Heat Transport, and Reactive Solute Transport\n",
            "USER'S MANUAL FOR WATEQ4F, WITH REVISED THERMODYNAMIC DATA\n",
            "BASE AND TEST CASES FOR CALCULATING SPECIATION OF MAJOR,\n",
            "TRACE, AND REDOX ELEMENTS IN NATURAL WATERS\n",
            "VFLUX: Vertical Fluid Heat Transfer Solver (VFlu[H]X Solver)\n",
            "Slab2, a comprehensive subduction zone geometry model\n",
            "A Fractured Rock Geophysical Toolbox Method Selection Tool\n",
            "FEQ - Full Equations Model for the Solution of the Full, Dynamic Equations of Motion for One-Dimensional Unsteady Flow in Open Channels and Through Control Structures\n",
            "CBLCM - Chesapeake Bay Land Change Model\n",
            "Ash3d: A finite‐volume, conservative numerical model for ash transport and tephra deposition\n",
            "Update of the Graizer-Kalkan ground-motion prediction equations for shallow crustal continental earthquakes\n",
            "MODFLOW-NWT, A Newton Formulation for MODFLOW-2005\n",
            " \n",
            "HDBSCAN topic: 0\n",
            "THE COMPUTER MODEL SHARP, A QUASI-THREE-DIMENSIONAL FINITE-DIFFERENCE\n",
            "MODEL TO SIMULATE FRESHWATER AND SALTWATER FLOW IN LAYERED COASTAL\n",
            "AQUIFER SYSTEMS\n",
            "1DTempPro V2: New Features for Inferring Groundwater/Surface‐Water Exchange\n",
            "HYDROTHERM - A computer code for simulation of two-phase ground-water flow and heat transport\n",
            "AnalyzeHOLE—An Integrated Wellbore Flow Analysis Tool\n",
            " \n",
            "HDBSCAN topic: 1\n",
            "THRESH—Software for Tracking Rainfall Thresholds for Landslide and Debris-Flow Occurrence, User Manual\n",
            "TRIGRS—A Fortran Program for Transient\n",
            "Rainfall Infiltration and Grid-Based Regional\n",
            "Slope-Stability Analysis, Version 2.0\n",
            " \n",
            "HDBSCAN topic: 2\n",
            "Massachusetts Reservoir Simulation Tool—User’s Manual\n",
            "A Monthly Water-Balance Model Driven By a Graphical User\n",
            "Interface\n",
            "Submersed Aquatic Vegetation Modeling Output Online\n",
            "NCCV - National Climate Change Viewer\n",
            " \n",
            "HDBSCAN topic: 3\n",
            "FaSTMECH - Flow and Sediment Transport with Morphological Evolution of Channels\n",
            "Delft3D - 3D modeling suite to investigate hydrodynamics, sediment transport and morphology and water quality for fluvial, estuarine and coastal environments\n",
            "A Bayesian‐Based System to Assess Wave‐Driven Flooding Hazards on Coral Reef‐Lined Coasts\n",
            "Development of a Coupled Ocean–Atmosphere–Wave–Sediment Transport (COAWST) Modeling System\n",
            "Spring onset variations and trends in the continental United States: past and regional assessment using temperature‐based indices\n",
            " \n",
            "HDBSCAN topic: 4\n",
            "Computer programs for limit-equilibrium slope-stability analyses FelleniusGS, BishopGS, and JanbuGS\n",
            "PTCOUNT—A FORTRAN-77 Computer Program to Calculate the Areal Distribution of Mapped Data Points Using Count-Circle Methodology\n",
            "Scoops3D: software to analyze 3D slope stability throughout a digital landscape\n",
            " \n",
            "HDBSCAN topic: 5\n",
            "One-Dimensional Transport with Equilibrium\n",
            "Chemistry (OTEQ)—A Reactive Transport\n",
            "Model for Streams and Rivers\n",
            "MOC3D\n",
            "USERS MANUAL FOR A BRANCHED\n",
            "LAGRANGIAN TRANSPORT MODEL\n",
            "BIOMOC, A Multispecies Solute-Transport Model with\n",
            "Biodegradation\n",
            "Description of input and examples for PHREEQC version 3: a computer program for speciation, batch-reaction, one-dimensional transport, and inverse geochemical calculations\n",
            " \n"
          ],
          "name": "stdout"
        }
      ]
    },
    {
      "cell_type": "markdown",
      "metadata": {
        "id": "hnwLHlXqiDKO"
      },
      "source": [
        "#### BERTopic"
      ]
    },
    {
      "cell_type": "markdown",
      "metadata": {
        "id": "W5evja8S1lgp"
      },
      "source": [
        "##### Coherence Score - n/a"
      ]
    },
    {
      "cell_type": "code",
      "metadata": {
        "id": "cr7bKy_01lr1"
      },
      "source": [
        "# cm = models.CoherenceModel(model= topic_model, corpus = BoW_corpus, texts=document_list, dictionary=dictionary, coherence='u_mass')\n",
        "# lda_score = cm.get_coherence()\n",
        "# lda_score"
      ],
      "execution_count": 60,
      "outputs": []
    },
    {
      "cell_type": "markdown",
      "metadata": {
        "id": "OkZB828I1l8x"
      },
      "source": [
        "##### Silhouettte Score 0.06"
      ]
    },
    {
      "cell_type": "code",
      "metadata": {
        "colab": {
          "base_uri": "https://localhost:8080/"
        },
        "id": "nSx4dLkC1mKK",
        "outputId": "d4741cfe-f837-4a56-ba2f-6f8d246a505d"
      },
      "source": [
        "BERT_score = metrics.silhouette_score(X, bertopic_labels)\n",
        "BERT_score"
      ],
      "execution_count": 61,
      "outputs": [
        {
          "output_type": "execute_result",
          "data": {
            "text/plain": [
              "0.024585183243424846"
            ]
          },
          "metadata": {
            "tags": []
          },
          "execution_count": 61
        }
      ]
    },
    {
      "cell_type": "markdown",
      "metadata": {
        "id": "Y-FdVxwJ1mns"
      },
      "source": [
        "##### Titles Grouped by Topic"
      ]
    },
    {
      "cell_type": "code",
      "metadata": {
        "colab": {
          "base_uri": "https://localhost:8080/"
        },
        "id": "HieWcxPUYFnA",
        "outputId": "7f8511fc-0f73-458d-aa1e-d6765f135601"
      },
      "source": [
        "df_BERTopic = dataset.groupby('BERTopic_Topic')['Title'].apply(lambda group_series: group_series.tolist()).reset_index()\n",
        "for i in range(len(df_BERTopic)):\n",
        "  print('HDBSCAN topic:', df_BERTopic.BERTopic_Topic[i])\n",
        "  for j in df_BERTopic.Title[i]:\n",
        "    print(j)\n",
        "  print(' ')"
      ],
      "execution_count": 62,
      "outputs": [
        {
          "output_type": "stream",
          "text": [
            "HDBSCAN topic: 0\n",
            "Modeling Landscape Evapotranspiration by Integrating Land Surface Phenology and a Water Balance Algorithm\n",
            "FaSTMECH - Flow and Sediment Transport with Morphological Evolution of Channels\n",
            "Delft3D - 3D modeling suite to investigate hydrodynamics, sediment transport and morphology and water quality for fluvial, estuarine and coastal environments\n",
            "Update of the Graizer-Kalkan ground-motion prediction equations for shallow crustal continental earthquakes\n",
            "MODFLOW-NWT, A Newton Formulation for MODFLOW-2005\n",
            " \n",
            "HDBSCAN topic: 1\n",
            "Massachusetts Reservoir Simulation Tool—User’s Manual\n",
            "Benefits of the destinations, not costs of the journeys, shape partial migration patterns\n",
            "FishVis, A regional decision support tool for identifying vulnerabilities of riverine habitat and fishes to climate change in the Great Lakes Region\n",
            "Submersed Aquatic Vegetation Modeling Output Online\n",
            "Probability of Streamflow Permanence Model (PROSPER): A spatially continuous model of annual streamflow permanence throughout the Pacific Northwest\n",
            "A Bayesian‐Based System to Assess Wave‐Driven Flooding Hazards on Coral Reef‐Lined Coasts\n",
            "Development of a Coupled Ocean–Atmosphere–Wave–Sediment Transport (COAWST) Modeling System\n",
            "NCCV - National Climate Change Viewer\n",
            " \n",
            "HDBSCAN topic: 2\n",
            "The Effect of Particle Size Distribution on the Design of Urban Stormwater Control Measures\n",
            "The SPARROW Surface Water-Quality Model: Theory, Application and User Documentation\n",
            "CBLCM - Chesapeake Bay Land Change Model\n",
            " \n",
            "HDBSCAN topic: 3\n",
            "THE COMPUTER MODEL SHARP, A QUASI-THREE-DIMENSIONAL FINITE-DIFFERENCE\n",
            "MODEL TO SIMULATE FRESHWATER AND SALTWATER FLOW IN LAYERED COASTAL\n",
            "AQUIFER SYSTEMS\n",
            "Slab2, a comprehensive subduction zone geometry model\n",
            "HYDROTHERM - A computer code for simulation of two-phase ground-water flow and heat transport\n",
            "AnalyzeHOLE—An Integrated Wellbore Flow Analysis Tool\n",
            " \n",
            "HDBSCAN topic: 4\n",
            "One-Dimensional Transport with Equilibrium\n",
            "Chemistry (OTEQ)—A Reactive Transport\n",
            "Model for Streams and Rivers\n",
            "USER'S MANUAL FOR WATEQ4F, WITH REVISED THERMODYNAMIC DATA\n",
            "BASE AND TEST CASES FOR CALCULATING SPECIATION OF MAJOR,\n",
            "TRACE, AND REDOX ELEMENTS IN NATURAL WATERS\n",
            "VFLUX: Vertical Fluid Heat Transfer Solver (VFlu[H]X Solver)\n",
            "MOC3D\n",
            "FEQ - Full Equations Model for the Solution of the Full, Dynamic Equations of Motion for One-Dimensional Unsteady Flow in Open Channels and Through Control Structures\n",
            "USERS MANUAL FOR A BRANCHED\n",
            "LAGRANGIAN TRANSPORT MODEL\n",
            "Ash3d: A finite‐volume, conservative numerical model for ash transport and tephra deposition\n",
            "BIOMOC, A Multispecies Solute-Transport Model with\n",
            "Biodegradation\n",
            "Spring onset variations and trends in the continental United States: past and regional assessment using temperature‐based indices\n",
            "Description of input and examples for PHREEQC version 3: a computer program for speciation, batch-reaction, one-dimensional transport, and inverse geochemical calculations\n",
            " \n",
            "HDBSCAN topic: 5\n",
            "THRESH—Software for Tracking Rainfall Thresholds for Landslide and Debris-Flow Occurrence, User Manual\n",
            "TRIGRS—A Fortran Program for Transient\n",
            "Rainfall Infiltration and Grid-Based Regional\n",
            "Slope-Stability Analysis, Version 2.0\n",
            "A Monthly Water-Balance Model Driven By a Graphical User\n",
            "Interface\n",
            "SLAMMER—Seismic LAndslide Movement Modeled using Earthquake Records\n",
            "1DTempPro V2: New Features for Inferring Groundwater/Surface‐Water Exchange\n",
            "VS2DRTI - A Graphical Software Package for Simulating Water Flow, Heat Transport, and Reactive Solute Transport\n",
            "Computer programs for limit-equilibrium slope-stability analyses FelleniusGS, BishopGS, and JanbuGS\n",
            "PTCOUNT—A FORTRAN-77 Computer Program to Calculate the Areal Distribution of Mapped Data Points Using Count-Circle Methodology\n",
            "A Fractured Rock Geophysical Toolbox Method Selection Tool\n",
            "Scoops3D: software to analyze 3D slope stability throughout a digital landscape\n",
            " \n"
          ],
          "name": "stdout"
        }
      ]
    },
    {
      "cell_type": "markdown",
      "metadata": {
        "id": "1uIdAQFTbLrX"
      },
      "source": [
        "### TESTING SET TOPIC RESULTS"
      ]
    },
    {
      "cell_type": "markdown",
      "metadata": {
        "id": "fOO_F71AiJEq"
      },
      "source": [
        "#### LSA"
      ]
    },
    {
      "cell_type": "code",
      "metadata": {
        "id": "ReUyImrfAPD6"
      },
      "source": [
        "test_cluster_lsa = []\n",
        "for i in range(len(test_corpus_tfidf)):\n",
        "  x = lsi_model[test_corpus_tfidf[i]]\n",
        "  x = Sort_Tuple(x)\n",
        "  test_cluster_lsa.append(x[0][0])\n",
        "df_test['LSA_Topic'] = test_cluster_lsa\n",
        "df_test[\"LSA_Topic\"] = pd.to_numeric(df_test[\"LSA_Topic\"])"
      ],
      "execution_count": 63,
      "outputs": []
    },
    {
      "cell_type": "markdown",
      "metadata": {
        "id": "7D7YM0rppPx7"
      },
      "source": [
        "##### Coherence - NOT WORKING"
      ]
    },
    {
      "cell_type": "code",
      "metadata": {
        "id": "07Z0BakqjId6"
      },
      "source": [
        "# cm2 = models.CoherenceModel(model= lsi_model, corpus = test_BoW_corpus, texts=test_document_list, dictionary=dictionary, coherence='u_mass')\n",
        "# lsa_score2 = cm2.get_coherence()\n",
        "# lsa_score2"
      ],
      "execution_count": 64,
      "outputs": []
    },
    {
      "cell_type": "markdown",
      "metadata": {
        "id": "0r0i2wf7pUqH"
      },
      "source": [
        "##### Silhouette Score 0.03"
      ]
    },
    {
      "cell_type": "code",
      "metadata": {
        "colab": {
          "base_uri": "https://localhost:8080/"
        },
        "id": "5OxDNnW4pW1c",
        "outputId": "d4cc10c1-c092-4f73-b6c9-44116e041648"
      },
      "source": [
        "X = np.array([[tup[1] for tup in arr] for arr in test_corpus_lsi])\n",
        "score = metrics.silhouette_score(X, test_cluster_lsa)\n",
        "score"
      ],
      "execution_count": 65,
      "outputs": [
        {
          "output_type": "execute_result",
          "data": {
            "text/plain": [
              "0.034658818330363016"
            ]
          },
          "metadata": {
            "tags": []
          },
          "execution_count": 65
        }
      ]
    },
    {
      "cell_type": "markdown",
      "metadata": {
        "id": "yvMZf8ThpW-G"
      },
      "source": [
        "##### Titles Grouped by Topic"
      ]
    },
    {
      "cell_type": "code",
      "metadata": {
        "colab": {
          "base_uri": "https://localhost:8080/"
        },
        "id": "E79hzymnpZq9",
        "outputId": "9378ab9e-1844-493b-cd43-632f8bcad01c"
      },
      "source": [
        "df_LSA2 = df_test.groupby('LSA_Topic')['Title'].apply(lambda group_series: group_series.tolist()).reset_index()\n",
        "for i in range(len(df_LSA2)):\n",
        "  print('LSA topic:', df_LSA2.LSA_Topic[i])\n",
        "  for j in df_LSA2.Title[i]:\n",
        "    print(j)\n",
        "  print(' ')"
      ],
      "execution_count": 66,
      "outputs": [
        {
          "output_type": "stream",
          "text": [
            "LSA topic: 0\n",
            "FACET - Floodplain and Channel Evaluation Tool \n",
            "SSEBop - Simplified Surface Energy Balance approach\n",
            "MODIFICATIONS TO THE DIFFUSION ANALOG\n",
            "SURFACE-WATER FLOW MODEL (DAFLOW)\n",
            "FOR COUPLING TO THE MODULAR FINITEDIFFERENCE GROUND-WATER FLOW MODEL\n",
            "(MODFLOW)\n",
            "Stochastic Empirical Loading and Dilution Model (SELDM) Version 1.0.0\n",
            "A modular finite-element model (MODFE) for areal and axisymmetric ground-water-flow problems, Part 1: Model Description and User's Manual\n",
            "The 2018 update of the US National Seismic Hazard Model: Overview of model and implications\n",
            "HST3D - A Computer Code for Simulation of Heat and Solute Transport in Three-Dimensional Ground-Water Flow Systems\n",
            "FourPt - An unsteady, one-dimensional, open-channel flow model\n",
            "User guide to Exploration and Graphics for RivEr Trends (EGRET) and dataRetrieval: R packages for hydrologic data\n",
            "Groundwater Management Process for the U.S. Geological Survey modular three-dimensional groundwater model, MODFLOW\n",
            "Recovery planning in a dynamic system: integrating uncertainty into a decision support tool for an endangered songbird\n",
            "Documentation of a Conduit Flow Process (CFP) for MODFLOW-2005\n",
            "The Pedestrian Evacuation Analyst: geographic information systems software for modeling hazard evacuation potential\n",
            "Dynamically Downscaled Climate Simulations over North America: Methods, Evaluation, and Supporting Documentation for Users\n",
            "GSFLOW—Coupled Ground-Water and Surface-Water Flow Model Based on the Integration of the Precipitation-Runoff Modeling System (PRMS) and the Modular Ground-Water Flow Model (MODFLOW-2005)\n",
            "The Hydrologic System of the South Florida Peninsula: Development and Application of the Biscayne and Southern Everglades Coastal Transport (BISECT) Model\n",
            " \n",
            "LSA topic: 2\n",
            "BBS - North American Breeding Bird Survey\n",
            " \n",
            "LSA topic: 5\n",
            "WEMo (Wave Exposure Model) : formulation, procedures and validation\n",
            "Development of a Coupled Ocean–Atmosphere–Wave–Sediment Transport (COAWST) Modeling System\n",
            " \n",
            "LSA topic: 8\n",
            "Update of the Graizer-Kalkan ground-motion prediction equations for shallow crustal continental earthquakes\n",
            " \n"
          ],
          "name": "stdout"
        }
      ]
    },
    {
      "cell_type": "markdown",
      "metadata": {
        "id": "Kw5fOFR8iJLI"
      },
      "source": [
        "#### LDA"
      ]
    },
    {
      "cell_type": "code",
      "metadata": {
        "id": "H1LEEZy3nEsZ"
      },
      "source": [
        "test_cluster_lda = []\n",
        "for i in range(len(test_corpus_tfidf)):\n",
        "  test_bow = lda_model.id2word.doc2bow(test_tokens[i])\n",
        "  x = lda_model[test_bow]\n",
        "  x = Sort_Tuple(x)\n",
        "  test_cluster_lda.append(x[0][0])\n",
        "df_test['LDA_Topic'] = test_cluster_lda"
      ],
      "execution_count": 67,
      "outputs": []
    },
    {
      "cell_type": "code",
      "metadata": {
        "id": "OnmVnBAKi5XF"
      },
      "source": [
        "# # OR Update the model by incrementally training on the new corpus\n",
        "# lda_model.update(other_corpus)\n",
        "# vector = lda_model[unseen_doc]"
      ],
      "execution_count": 68,
      "outputs": []
    },
    {
      "cell_type": "markdown",
      "metadata": {
        "id": "3Dkc0_uOn2sK"
      },
      "source": [
        "##### Coherence Score -13.6"
      ]
    },
    {
      "cell_type": "code",
      "metadata": {
        "colab": {
          "base_uri": "https://localhost:8080/"
        },
        "id": "TnAR29GUnuKN",
        "outputId": "d32f5c2d-4eee-486a-e494-d44b8bc51bca"
      },
      "source": [
        "cm = models.CoherenceModel(model= lda_model, corpus = BoW_corpus, texts=document_list, dictionary=dictionary, coherence='u_mass')\n",
        "lda_score = cm.get_coherence()\n",
        "lda_score"
      ],
      "execution_count": 69,
      "outputs": [
        {
          "output_type": "execute_result",
          "data": {
            "text/plain": [
              "-12.779054430877968"
            ]
          },
          "metadata": {
            "tags": []
          },
          "execution_count": 69
        }
      ]
    },
    {
      "cell_type": "markdown",
      "metadata": {
        "id": "DRFBhFkHoxYT"
      },
      "source": [
        "##### Silhouette Score 0.11"
      ]
    },
    {
      "cell_type": "code",
      "metadata": {
        "colab": {
          "base_uri": "https://localhost:8080/"
        },
        "id": "ShnqNB8UoB60",
        "outputId": "196c1918-eeee-470e-ba0b-a2156ca71c6f"
      },
      "source": [
        "X = np.array([[tup[1] for tup in arr] for arr in test_corpus_lsi])\n",
        "LDA_score2 = metrics.silhouette_score(X, test_cluster_lda)\n",
        "LDA_score2"
      ],
      "execution_count": 70,
      "outputs": [
        {
          "output_type": "execute_result",
          "data": {
            "text/plain": [
              "-0.12289223956965319"
            ]
          },
          "metadata": {
            "tags": []
          },
          "execution_count": 70
        }
      ]
    },
    {
      "cell_type": "markdown",
      "metadata": {
        "id": "LyJi4SXEpKBG"
      },
      "source": [
        "##### Titles Grouped by Topic"
      ]
    },
    {
      "cell_type": "code",
      "metadata": {
        "colab": {
          "base_uri": "https://localhost:8080/"
        },
        "id": "IC7a-urYo60L",
        "outputId": "d3a582ce-e9d6-48c1-a57a-f40f00b32cb2"
      },
      "source": [
        "df_LDA2 = df_test.groupby('LDA_Topic')['Title'].apply(lambda group_series: group_series.tolist()).reset_index()\n",
        "for i in range(len(df_LDA2)):\n",
        "  print('LDA topic:', df_LDA2.LDA_Topic[i])\n",
        "  for j in df_LDA2.Title[i]:\n",
        "    print(j)\n",
        "  print(' ')"
      ],
      "execution_count": 71,
      "outputs": [
        {
          "output_type": "stream",
          "text": [
            "LDA topic: 0\n",
            "BBS - North American Breeding Bird Survey\n",
            " \n",
            "LDA topic: 1\n",
            "FACET - Floodplain and Channel Evaluation Tool \n",
            "FourPt - An unsteady, one-dimensional, open-channel flow model\n",
            "Groundwater Management Process for the U.S. Geological Survey modular three-dimensional groundwater model, MODFLOW\n",
            "Documentation of a Conduit Flow Process (CFP) for MODFLOW-2005\n",
            " \n",
            "LDA topic: 3\n",
            "WEMo (Wave Exposure Model) : formulation, procedures and validation\n",
            "Development of a Coupled Ocean–Atmosphere–Wave–Sediment Transport (COAWST) Modeling System\n",
            " \n",
            "LDA topic: 5\n",
            "HST3D - A Computer Code for Simulation of Heat and Solute Transport in Three-Dimensional Ground-Water Flow Systems\n",
            "Recovery planning in a dynamic system: integrating uncertainty into a decision support tool for an endangered songbird\n",
            " \n",
            "LDA topic: 8\n",
            "SSEBop - Simplified Surface Energy Balance approach\n",
            "MODIFICATIONS TO THE DIFFUSION ANALOG\n",
            "SURFACE-WATER FLOW MODEL (DAFLOW)\n",
            "FOR COUPLING TO THE MODULAR FINITEDIFFERENCE GROUND-WATER FLOW MODEL\n",
            "(MODFLOW)\n",
            "Stochastic Empirical Loading and Dilution Model (SELDM) Version 1.0.0\n",
            "A modular finite-element model (MODFE) for areal and axisymmetric ground-water-flow problems, Part 1: Model Description and User's Manual\n",
            "The 2018 update of the US National Seismic Hazard Model: Overview of model and implications\n",
            "User guide to Exploration and Graphics for RivEr Trends (EGRET) and dataRetrieval: R packages for hydrologic data\n",
            "Update of the Graizer-Kalkan ground-motion prediction equations for shallow crustal continental earthquakes\n",
            "The Pedestrian Evacuation Analyst: geographic information systems software for modeling hazard evacuation potential\n",
            "Dynamically Downscaled Climate Simulations over North America: Methods, Evaluation, and Supporting Documentation for Users\n",
            "GSFLOW—Coupled Ground-Water and Surface-Water Flow Model Based on the Integration of the Precipitation-Runoff Modeling System (PRMS) and the Modular Ground-Water Flow Model (MODFLOW-2005)\n",
            "The Hydrologic System of the South Florida Peninsula: Development and Application of the Biscayne and Southern Everglades Coastal Transport (BISECT) Model\n",
            " \n"
          ],
          "name": "stdout"
        }
      ]
    },
    {
      "cell_type": "markdown",
      "metadata": {
        "id": "2rLo62aD8kmk"
      },
      "source": [
        "##### pyLDAvis"
      ]
    },
    {
      "cell_type": "code",
      "metadata": {
        "colab": {
          "base_uri": "https://localhost:8080/",
          "height": 861
        },
        "id": "jwW2HS1U75lD",
        "outputId": "d9b4f4c6-c710-49b0-b39c-3fd77003e263"
      },
      "source": [
        "vis_data1 = gensimvis.prepare(lda_model, test_BoW_corpus, dictionary)\n",
        "pyLDAvis.display(vis_data1)"
      ],
      "execution_count": 82,
      "outputs": [
        {
          "output_type": "execute_result",
          "data": {
            "text/html": [
              "\n",
              "<link rel=\"stylesheet\" type=\"text/css\" href=\"https://cdn.jsdelivr.net/gh/bmabey/pyLDAvis@3.3.1/pyLDAvis/js/ldavis.v1.0.0.css\">\n",
              "\n",
              "\n",
              "<div id=\"ldavis_el1241139892525271248174673493\"></div>\n",
              "<script type=\"text/javascript\">\n",
              "\n",
              "var ldavis_el1241139892525271248174673493_data = {\"mdsDat\": {\"x\": [-0.018959131056570374, 0.0025373876021184843, 0.0028357239829128796, -0.002732155154220484, 0.002646247032734102, 0.009963451795777139, 0.0011864572404025047, 0.0019359864044617904, 0.0005860321523839673], \"y\": [0.0032018599521253673, -0.014075987103285345, -0.0028781371176873497, 0.002256062516779215, 0.0003758827968622484, 0.010945960410357326, -0.0005894433852198589, 0.0006990919459144048, 6.470998415400615e-05], \"topics\": [1, 2, 3, 4, 5, 6, 7, 8, 9], \"cluster\": [1, 1, 1, 1, 1, 1, 1, 1, 1], \"Freq\": [35.50821935036667, 19.291883849984615, 13.32733451713477, 11.623219088919644, 8.416795946030382, 5.2422322070881116, 3.148866455461404, 3.0921022163102636, 0.3493463687041372]}, \"tinfo\": {\"Term\": [\"cblcm\", \"watersh\", \"land\", \"scoops3d\", \"reef\", \"subduct\", \"redevelop\", \"infil\", \"reservoir\", \"threshold\", \"structur\", \"psd\", \"month\", \"contamin\", \"rainfal\", \"flood\", \"develop\", \"program\", \"veget\", \"cell\", \"chang\", \"counti\", \"site\", \"serv\", \"feq\", \"coupl\", \"speci\", \"map\", \"precipit\", \"size\", \"vs2drti\", \"heat\", \"vflux\", \"matlab\", \"ground\", \"constitu\", \"profil\", \"veget\", \"crop\", \"lsp\", \"algorithm\", \"dissolv\", \"flux\", \"paramet\", \"lagrangian\", \"onedimension\", \"appendic\", \"dispers\", \"vs2dh\", \"temperatur\", \"satur\", \"known\", \"1dtemppro\", \"rainf\", \"hydraul\", \"sensor\", \"toolbox\", \"distanc\", \"attenu\", \"gmpe\", \"new\", \"time\", \"transport\", \"fluid\", \"estim\", \"vertic\", \"chemic\", \"present\", \"water\", \"oteq\", \"speci\", \"fish\", \"modflow\", \"modul\", \"select\", \"solver\", \"nwt\", \"lpf\", \"record\", \"quasi\", \"mor\", \"problem\", \"slide\", \"fastmech\", \"upw\", \"dissolut\", \"morpholog\", \"000\", \"steadi\", \"fulli\", \"delft3d\", \"world\", \"block\", \"3d\", \"13\", \"usg\", \"mean\", \"form\", \"matrix\", \"earthquak\", \"packag\", \"flow\", \"percent\", \"transport\", \"conduct\", \"wave\", \"reservoir\", \"erupt\", \"ocean\", \"map\", \"ash\", \"count\", \"atmospher\", \"circl\", \"massachusett\", \"volcan\", \"saltwat\", \"isopleth\", \"finit\", \"sharp\", \"freshwat\", \"confin\", \"coupl\", \"coastal\", \"hurrican\", \"ptcount\", \"discret\", \"aquif\", \"refin\", \"preserv\", \"withdraw\", \"assist\", \"volcano\", \"separ\", \"grid\", \"areal\", \"boundari\", \"wave\", \"sediment\", \"manag\", \"simul\", \"keyword\", \"degrad\", \"structur\", \"fe\", \"aerob\", \"well\", \"flexibl\", \"isotop\", \"monod\", \"screen\", \"interv\", \"pressur\", \"aqueous\", \"phreeqc\", \"feq\", \"ad\", \"redox\", \"specifi\", \"high\", \"general\", \"follow\", \"biomass\", \"inhibit\", \"anaerob\", \"permeabl\", \"c\", \"unsteadi\", \"chart\", \"pest\", \"wellbor\", \"3\", \"pump\", \"boundari\", \"simul\", \"hydraul\", \"flow\", \"one\", \"dimension\", \"1\", \"threshold\", \"month\", \"perman\", \"submers\", \"precipit\", \"classroom\", \"thornthwait\", \"locat\", \"thresh\", \"streamflow\", \"prosper\", \"annual\", \"probabl\", \"balanc\", \"aquat\", \"refer\", \"tool\", \"predict\", \"driven\", \"cycl\", \"fig\", \"mississippi\", \"ltrm\", \"umrr\", \"wildlif\", \"statist\", \"anteced\", \"python\", \"dataset\", \"focal\", \"year\", \"research\", \"veget\", \"dri\", \"channel\", \"subduct\", \"psd\", \"migrat\", \"size\", \"migratori\", \"rock\", \"goal\", \"articl\", \"statement\", \"fractur\", \"bodi\", \"nurp\", \"anim\", \"feq\", \"runoff\", \"forag\", \"spreadsheet\", \"impact\", \"site\", \"larger\", \"fault\", \"zone\", \"scms\", \"psds\", \"urban\", \"later\", \"inflow\", \"edit\", \"nt\", \"mac\", \"file\", \"structur\", \"base\", \"method\", \"discharg\", \"program\", \"reef\", \"watersh\", \"flood\", \"attribut\", \"station\", \"coast\", \"regress\", \"california\", \"huc\", \"span\", \"klamath\", \"coral\", \"counti\", \"bewar\", \"referenc\", \"core\", \"sparrow\", \"contamin\", \"climat\", \"hypothes\", \"northern\", \"oregon\", \"equival\", \"histogram\", \"climograph\", \"csv\", \"quantil\", \"deficit\", \"summar\", \"comprehens\", \"river\", \"line\", \"monitor\", \"larg\", \"network\", \"yield\", \"wave\", \"chang\", \"hydrodynam\", \"month\", \"stream\", \"area\", \"spatial\", \"precipit\", \"scoops3d\", \"rainfal\", \"dem\", \"cell\", \"safeti\", \"unsatur\", \"microcomput\", \"wateq4f\", \"materi\", \"stabil\", \"trigr\", \"iv\", \"adapt\", \"vi\", \"wateq2\", \"potenti\", \"infiltr\", \"step\", \"failur\", \"prepar\", \"thermodynam\", \"complet\", \"execut\", \"3d\", \"pore\", \"oper\", \"landslid\", \"compil\", \"entir\", \"revis\", \"desir\", \"slope\", \"program\", \"factor\", \"input\", \"comput\", \"cblcm\", \"redevelop\", \"infil\", \"watersh\", \"land\", \"farmland\", \"chesapeak\", \"loos\", \"tailor\", \"2013\", \"wastewat\", \"sewer\", \"consumpt\", \"bay\", \"treatment\", \"automata\", \"residenti\", \"commerci\", \"2055\", \"30m\", \"lump\", \"cellular\", \"maryland\", \"septic\", \"appropri\", \"produc\", \"counti\", \"valid\", \"convers\", \"four\", \"pseudo\", \"develop\", \"serv\"], \"Freq\": [1.0, 1.0, 2.0, 1.0, 1.0, 1.0, 1.0, 1.0, 2.0, 2.0, 2.0, 1.0, 2.0, 2.0, 1.0, 1.0, 2.0, 3.0, 4.0, 1.0, 2.0, 1.0, 2.0, 2.0, 2.0, 2.0, 3.0, 2.0, 2.0, 1.0, 2.7954296485279846, 2.557224172356855, 2.5045454980642448, 2.5045125438709834, 3.1996963314545903, 2.3145379033570483, 2.197957697056521, 3.1405402032763274, 2.1301016618572253, 2.130014808008884, 1.9742897677517204, 2.070474400424453, 2.0922818378152432, 1.8226271696325083, 1.7732335815715494, 1.7732264601145311, 1.7731260615342133, 2.0682208083691687, 1.697807437561724, 2.4028689653026376, 1.7751542804203282, 1.591647598516021, 1.5916305628737417, 1.590466274469444, 2.295811403763383, 1.5079026152538515, 1.507890746158821, 1.5692335805509603, 1.4883366215504912, 1.4883338288222487, 1.9042683907096032, 2.124311219119228, 3.089849672219552, 1.7317496980754084, 1.8214565975896648, 1.7541497523992566, 1.7080029901930271, 1.7500158164182975, 1.7763569688379603, 1.354595205647445, 1.5835585519417315, 1.2894825629563795, 1.3295108791410797, 1.2929380855569927, 1.1537678004438545, 1.1990413826574426, 1.0332225757938132, 1.0331865396729014, 1.2729261275646562, 1.12819398961723, 1.000599568658214, 0.9994496750062976, 0.9794808086280199, 0.9758734032609531, 0.9252758824766125, 0.9238221474262711, 0.9035297146149642, 0.8527085422844173, 0.8948453129372881, 0.8461322916128411, 0.8198756152613171, 0.8198712909268077, 1.0021433560780761, 0.8647586417897389, 0.756855040086597, 0.9894751801999786, 0.7413321965081422, 0.737538996488206, 0.7094114006044584, 0.9347702244213507, 1.153492332749053, 1.1918588147683356, 0.8179273129010303, 1.0020152950841832, 0.8782556484488082, 0.8417423334306052, 1.5131067111153416, 1.1463956863122, 1.077050090358568, 1.1316450331009316, 0.9891312748843772, 0.9587258981970155, 0.9517733096062262, 0.8642887623183738, 0.8580985801126515, 0.8319471029681744, 0.8108572662895664, 0.7698247401762044, 0.7009555499447321, 0.6589277079821361, 0.658925349537967, 0.6589197416818315, 0.8650133287769942, 0.7070725155614712, 0.640079441461589, 0.5808916121344343, 0.5732690157601367, 0.6773139290850196, 0.5308170731260646, 0.5306086390713859, 0.530603712543566, 0.5305892998291992, 0.5175260872159922, 0.5268842888592715, 0.6284356977789624, 0.5069900261447899, 0.6929461687267008, 0.8168121805869526, 0.5866286586004653, 0.5961245409733502, 0.5449748658830899, 0.9758332682040181, 0.8384712379621065, 1.1322738102072394, 0.6843199564766034, 0.6477804168198988, 0.7088486945551438, 0.6653749133023021, 0.623745741055391, 0.5524445821628285, 0.5288196823854893, 0.5288166199213353, 0.5346506141346358, 0.5795286494731202, 0.6203937140594072, 0.587888171028196, 0.4728533785139071, 0.4807831037937632, 0.5531755969272217, 0.5060988037430318, 0.5307708834273459, 0.5314911110045698, 0.45710097707432296, 0.45709965153013693, 0.4570930238092067, 0.5290816373417037, 0.4280131897473552, 0.531493990635043, 0.422559992382811, 0.4095697050680009, 0.4095696593595807, 0.5977144757877597, 0.4615879441440816, 0.5360173873157077, 0.7094711975299621, 0.6734851868419814, 0.5769443868113772, 0.5146146938036407, 0.5010799734957282, 0.47808552995832343, 0.8923507057848986, 0.7566693597152221, 0.5601319522362149, 0.443333858733922, 0.6092133951457999, 0.41728954307612637, 0.4172874247317719, 0.417284975396112, 0.41532597025602025, 0.501806418653996, 0.3944882140302982, 0.3890002457903805, 0.38900229793647395, 0.5737286116738812, 0.42682202647314826, 0.3631349302305408, 0.5448973823238175, 0.5131462800741096, 0.36313539361836833, 0.36314290712100067, 0.3385924876209603, 0.33859222282791596, 0.3385917594400884, 0.3385891446087758, 0.33858765514790157, 0.3285341583370625, 0.3199219300664214, 0.3199180905672788, 0.3060259882904198, 0.30602466432519826, 0.37029930323400667, 0.3314606841619449, 0.5544289389451842, 0.34462344709737314, 0.3784476140910107, 0.5465252744922207, 0.48554217923612886, 0.3638541692649636, 0.37173170454406124, 0.312743061103733, 0.3099638738148399, 0.3099589674143091, 0.3099580397335365, 0.30995647298378715, 0.30995290656659463, 0.3004315209584016, 0.28199877200296686, 0.2736896383981865, 0.34550917891061944, 0.27392561977161456, 0.26872215524230725, 0.266444369103455, 0.26843104901585685, 0.3689154306393913, 0.23464584295754704, 0.2344755001525644, 0.2983256443742813, 0.23111473947974714, 0.2311111936776829, 0.23110869924716093, 0.256484314180579, 0.25648305665775384, 0.227497732762402, 0.2274976296867606, 0.22749705246316876, 0.273534365251977, 0.2837114974756478, 0.25830613491212084, 0.23233663936319512, 0.23238370370105976, 0.23115596973630836, 0.308058384860251, 0.28195634517384627, 0.23073004809723366, 0.18849661894401487, 0.18848917679260008, 0.17917638303900257, 0.162528141728758, 0.15731562668217888, 0.15731526757670294, 0.1573152551937555, 0.15731433885564453, 0.15340011393399583, 0.13720521232973346, 0.127625454612157, 0.11939719654468456, 0.11939599539878235, 0.11939467042340567, 0.19585799639261295, 0.14927680294472873, 0.10641375044569265, 0.10380712143397972, 0.10380691092387315, 0.10380688615797826, 0.1038068180517673, 0.10380672517966145, 0.10380670660524029, 0.10380663849902934, 0.10380655181839722, 0.10380659515871328, 0.1038064651377651, 0.1365551075888412, 0.12269643476439665, 0.10641179393999625, 0.11691626064101784, 0.14733233347324629, 0.10641041943282979, 0.14683674315057982, 0.12277069530022772, 0.12269732633661273, 0.11710148476890864, 0.12137225189635754, 0.11062670159151822, 0.11059646243385614, 0.11062711022878392, 0.3015940711664562, 0.23283748510911484, 0.20031527629458132, 0.20511981330671206, 0.17562182451504002, 0.17562041398734227, 0.17532472603884072, 0.15147571828083328, 0.15506188767458964, 0.15475306722683319, 0.1359586246751041, 0.13301913359187986, 0.13301891471689228, 0.1330188782377277, 0.13301870800162624, 0.13730277245300887, 0.15506196063291883, 0.12508112145891973, 0.12436328445798044, 0.11831224223184954, 0.11712097863277073, 0.11712125830636597, 0.11712131910497363, 0.1512162055038904, 0.10452035775740512, 0.13145007960451324, 0.12314495331877066, 0.12222617691950971, 0.09904589304717248, 0.11711970186200983, 0.11712100295221378, 0.12630624988246605, 0.1679687389770253, 0.13671213829901924, 0.12963076638828985, 0.11929045534996048, 0.031903054203389423, 0.01891950588671216, 0.01891924486320444, 0.019611171472705885, 0.022144467810313744, 0.012428028470887573, 0.012428017480424089, 0.012427998247112994, 0.012427990004265381, 0.012427969397146351, 0.012427937799563837, 0.012427918566252742, 0.012427884221054357, 0.012427873230590875, 0.012427891090094035, 0.012427849875855974, 0.012427837511584555, 0.012427808661617912, 0.012427788054498881, 0.012427788054498881, 0.012427734475989402, 0.012427723485525918, 0.012427719364102112, 0.012427649299897408, 0.01120784660788198, 0.011208242951471336, 0.01120816120989918, 0.010494648643213087, 0.011208321258523652, 0.010494833420380396, 0.011208135107548409, 0.012840739607986639, 0.011208260810974495], \"Total\": [1.0, 1.0, 2.0, 1.0, 1.0, 1.0, 1.0, 1.0, 2.0, 2.0, 2.0, 1.0, 2.0, 2.0, 1.0, 1.0, 2.0, 3.0, 4.0, 1.0, 2.0, 1.0, 2.0, 2.0, 2.0, 2.0, 3.0, 2.0, 2.0, 1.0, 3.759500949135066, 3.521312057408828, 3.468620235077563, 3.468602138330073, 4.4331860598295485, 3.2786125184495836, 3.162035310578214, 4.529972220148586, 3.0941637664019046, 3.0940983668065667, 2.938353371077773, 3.101488948651107, 3.1943393130272413, 2.7903520556469803, 2.7372811607082834, 2.7372781192674114, 2.737199037120613, 3.207206621856301, 2.6618604506041623, 3.8028642646089987, 2.8352419520322094, 2.555698073304889, 2.555684773040678, 2.5545273126272896, 3.762316271166496, 2.4719570702099767, 2.4719487072730693, 2.574120409876285, 2.452373357095295, 2.4523710608635545, 3.15761892372657, 3.5417149879963103, 5.3030277606704175, 2.9793934385151677, 3.230019326327019, 3.1670595379904887, 3.036441514023052, 3.3291754145309604, 3.5792165496812856, 2.5523099400439446, 3.0191635588852623, 2.5297211795278414, 2.7209326905168694, 2.6629324146662654, 2.4336893435599167, 2.546757654883724, 2.2309209269408834, 2.2309053081601267, 2.7488087031531565, 2.449297882593015, 2.198294445508824, 2.1971468224770456, 2.1771828252909433, 2.173568289984552, 2.1229729539790383, 2.1215156351076323, 2.1193255806512017, 2.0503979276490387, 2.1594924467443373, 2.043832064244414, 2.0175573449656783, 2.0175566539284753, 2.483082700724267, 2.1652839746998285, 1.9545499583144497, 2.561853153713037, 1.9390216590886897, 1.9352328543626218, 1.9070944930792235, 2.6522619531506293, 3.6394191566992435, 4.040681853999993, 2.3069550734905637, 5.3030277606704175, 3.3341832313053974, 3.156300223299674, 2.7855030200506103, 2.418688284807755, 2.3493380150991046, 2.5088214197489664, 2.261452287324438, 2.231023206435026, 2.224065401386553, 2.1365655143078217, 2.130420595544542, 2.104232182090091, 2.0831351151504003, 2.042095900007751, 1.9732108039471783, 1.9311838577229583, 1.9311849640168552, 1.9311859231333468, 2.5644152220800227, 2.108257458157207, 1.9123350284957397, 1.8531716092090837, 1.9331826246453576, 2.2997854435510647, 1.803080209812184, 1.8028728702199073, 1.802874665911547, 1.802867693785779, 1.7897803164644563, 1.8344466254547431, 2.2041625990735065, 1.7792310708121999, 2.493856904677089, 3.156300223299674, 2.357875652746682, 2.746840365639341, 3.8057529710649525, 2.280153554879553, 2.1427843648315683, 2.918873663888056, 1.9887022804146446, 1.9520851220773974, 2.1783902566329356, 2.046708333714122, 1.9280473263242277, 1.8567333746700332, 1.833110061007279, 1.8331068755232467, 1.8820944329760867, 2.0587545914633787, 2.2338429074303434, 2.1593405961972243, 1.7771405319828226, 1.8194350597419682, 2.1085675485867075, 1.9306816365382025, 2.0281163922536964, 2.0397144264634144, 1.7613809101515032, 1.761380517551777, 1.7613825330915154, 2.0983316068915903, 1.7322933967542358, 2.1579477732400743, 1.7268372303648887, 1.713846347943136, 1.7138480672558811, 2.716120898072058, 2.012673747523067, 2.493856904677089, 3.8057529710649525, 3.762316271166496, 4.040681853999993, 2.824991102207487, 3.2344765592101057, 2.8612188977510344, 2.2387194063024483, 2.1698319760901166, 2.191388073044064, 1.789583875215569, 2.5017887878532914, 1.7635723132878454, 1.7635732195742742, 1.7635759604496046, 1.7615971969677413, 2.145355218173196, 1.7407347920869634, 1.7900978405175603, 1.8025462003690673, 2.734646108245875, 2.039067619401788, 1.7437770631316165, 2.6376568458153202, 2.4982000112468987, 1.7872424770664492, 1.8045703721908626, 1.6848306792188361, 1.684831134886261, 1.68483108679214, 1.6848311515235155, 1.684833112494026, 1.6747758198147216, 1.6661720274819016, 1.666172645097346, 1.6522651725288382, 1.6522657290157692, 2.077735688230188, 1.8320656535331175, 4.529972220148586, 2.0414990347294486, 2.9840248798778477, 1.943521634259159, 1.8825172967930466, 1.8033199776670725, 1.9241765360600425, 1.7096672105687127, 1.706920383032152, 1.7069261446945116, 1.7069346770308949, 1.706937531762979, 1.7069348649504308, 1.7747810418079946, 1.6789232185242666, 1.6706174059733185, 2.1593405961972243, 1.7315849161681525, 1.7081633705130423, 1.76028497715462, 1.7922927427171553, 2.50247412283015, 1.6315534210513012, 1.6313958021787787, 2.0820826644760846, 1.6280194541727777, 1.628024975013808, 1.6280237986503512, 1.82831490263852, 1.8283180834129538, 1.6244028598319282, 1.6244033119856236, 1.6244043257534968, 2.0695482894905575, 2.918873663888056, 2.2817359757216975, 2.258691056075862, 2.633053137426115, 3.220666200898714, 1.7331758216025812, 1.7207747703723009, 1.6558214074786168, 1.6135734515697775, 1.6135893309585763, 1.6042557768491879, 1.628934879641372, 1.5823720218368142, 1.582370130473335, 1.5823705201078684, 1.5823714667562976, 1.5784713219591537, 1.5675546763997417, 1.5526814887186522, 1.5444483645425238, 1.5444527527381806, 1.5444551042438999, 2.757188386914401, 2.163390633196212, 1.563179638331455, 1.5288488941271166, 1.5288485357613557, 1.5288500035142412, 1.5288501274109845, 1.5288489375938596, 1.528848774994166, 1.5288502697327313, 1.528850072528278, 1.5288516779657142, 1.528850059719381, 2.077475392284921, 1.8458194118720215, 1.574003662052646, 1.770668309436934, 2.6449047613891428, 1.6089051339018152, 3.156300223299674, 2.3227090265733876, 2.4747013325711085, 2.1698319760901166, 2.5610178631654765, 1.8437298993809046, 2.362054456906585, 2.5017887878532914, 1.7285908583500005, 1.8708267668765277, 1.6272996118168468, 1.8649200834262158, 1.6025825745638065, 1.6025852242068694, 1.6022740370911104, 1.6192745955459735, 1.6696650376752782, 1.7421316671510647, 1.5629134738697994, 1.5599588440251273, 1.5599595588559032, 1.5599594285234029, 1.5599598684049893, 1.6191272310735503, 1.8911733985484602, 1.5520252064816253, 1.551305650055685, 1.5452614450513233, 1.6214901643109627, 1.625756972116907, 1.6409069154453488, 2.1652839746998285, 1.5314566385798691, 1.9372926418945302, 1.8218386884303486, 1.861257415509361, 1.5259776971339423, 1.8085364142369957, 1.8290461053440157, 2.0474610575515655, 3.220666200898714, 2.3312368609870138, 2.4550959755836828, 2.6793858834618103, 1.5013589230834739, 1.4883457762828056, 1.488355273470759, 1.7207747703723009, 2.0062695412994485, 1.4818360831699948, 1.4818374957971239, 1.4818374506476737, 1.4818373759459211, 1.481837552586973, 1.481841202298897, 1.4818395507774413, 1.4818390379532977, 1.4818390760029088, 1.4818427242793502, 1.4818408964341148, 1.4818423164369694, 1.4818441165017218, 1.481843979904938, 1.4818450307881486, 1.481844359400173, 1.4818467216256022, 1.481847262240357, 1.4818500977328297, 1.501193190748075, 1.5573270906655772, 1.5675546763997417, 1.534782031802258, 1.6558787378589805, 1.5765648309795603, 1.745103544471714, 2.4522689977078334, 2.3579833404586545], \"Category\": [\"Default\", \"Default\", \"Default\", \"Default\", \"Default\", \"Default\", \"Default\", \"Default\", \"Default\", \"Default\", \"Default\", \"Default\", \"Default\", \"Default\", \"Default\", \"Default\", \"Default\", \"Default\", \"Default\", \"Default\", \"Default\", \"Default\", \"Default\", \"Default\", \"Default\", \"Default\", \"Default\", \"Default\", \"Default\", \"Default\", \"Topic1\", \"Topic1\", \"Topic1\", \"Topic1\", \"Topic1\", \"Topic1\", \"Topic1\", \"Topic1\", \"Topic1\", \"Topic1\", \"Topic1\", \"Topic1\", \"Topic1\", \"Topic1\", \"Topic1\", \"Topic1\", \"Topic1\", \"Topic1\", \"Topic1\", \"Topic1\", \"Topic1\", \"Topic1\", \"Topic1\", \"Topic1\", \"Topic1\", \"Topic1\", \"Topic1\", \"Topic1\", \"Topic1\", \"Topic1\", \"Topic1\", \"Topic1\", \"Topic1\", \"Topic1\", \"Topic1\", \"Topic1\", \"Topic1\", \"Topic1\", \"Topic1\", \"Topic2\", \"Topic2\", \"Topic2\", \"Topic2\", \"Topic2\", \"Topic2\", \"Topic2\", \"Topic2\", \"Topic2\", \"Topic2\", \"Topic2\", \"Topic2\", \"Topic2\", \"Topic2\", \"Topic2\", \"Topic2\", \"Topic2\", \"Topic2\", \"Topic2\", \"Topic2\", \"Topic2\", \"Topic2\", \"Topic2\", \"Topic2\", \"Topic2\", \"Topic2\", \"Topic2\", \"Topic2\", \"Topic2\", \"Topic2\", \"Topic2\", \"Topic2\", \"Topic2\", \"Topic2\", \"Topic2\", \"Topic2\", \"Topic2\", \"Topic3\", \"Topic3\", \"Topic3\", \"Topic3\", \"Topic3\", \"Topic3\", \"Topic3\", \"Topic3\", \"Topic3\", \"Topic3\", \"Topic3\", \"Topic3\", \"Topic3\", \"Topic3\", \"Topic3\", \"Topic3\", \"Topic3\", \"Topic3\", \"Topic3\", \"Topic3\", \"Topic3\", \"Topic3\", \"Topic3\", \"Topic3\", \"Topic3\", \"Topic3\", \"Topic3\", \"Topic3\", \"Topic3\", \"Topic3\", \"Topic3\", \"Topic3\", \"Topic3\", \"Topic3\", \"Topic3\", \"Topic4\", \"Topic4\", \"Topic4\", \"Topic4\", \"Topic4\", \"Topic4\", \"Topic4\", \"Topic4\", \"Topic4\", \"Topic4\", \"Topic4\", \"Topic4\", \"Topic4\", \"Topic4\", \"Topic4\", \"Topic4\", \"Topic4\", \"Topic4\", \"Topic4\", \"Topic4\", \"Topic4\", \"Topic4\", \"Topic4\", \"Topic4\", \"Topic4\", \"Topic4\", \"Topic4\", \"Topic4\", \"Topic4\", \"Topic4\", \"Topic4\", \"Topic4\", \"Topic4\", \"Topic4\", \"Topic4\", \"Topic4\", \"Topic4\", \"Topic4\", \"Topic4\", \"Topic5\", \"Topic5\", \"Topic5\", \"Topic5\", \"Topic5\", \"Topic5\", \"Topic5\", \"Topic5\", \"Topic5\", \"Topic5\", \"Topic5\", \"Topic5\", \"Topic5\", \"Topic5\", \"Topic5\", \"Topic5\", \"Topic5\", \"Topic5\", \"Topic5\", \"Topic5\", \"Topic5\", \"Topic5\", \"Topic5\", \"Topic5\", \"Topic5\", \"Topic5\", \"Topic5\", \"Topic5\", \"Topic5\", \"Topic5\", \"Topic5\", \"Topic5\", \"Topic5\", \"Topic5\", \"Topic5\", \"Topic6\", \"Topic6\", \"Topic6\", \"Topic6\", \"Topic6\", \"Topic6\", \"Topic6\", \"Topic6\", \"Topic6\", \"Topic6\", \"Topic6\", \"Topic6\", \"Topic6\", \"Topic6\", \"Topic6\", \"Topic6\", \"Topic6\", \"Topic6\", \"Topic6\", \"Topic6\", \"Topic6\", \"Topic6\", \"Topic6\", \"Topic6\", \"Topic6\", \"Topic6\", \"Topic6\", \"Topic6\", \"Topic6\", \"Topic6\", \"Topic6\", \"Topic6\", \"Topic6\", \"Topic6\", \"Topic6\", \"Topic6\", \"Topic7\", \"Topic7\", \"Topic7\", \"Topic7\", \"Topic7\", \"Topic7\", \"Topic7\", \"Topic7\", \"Topic7\", \"Topic7\", \"Topic7\", \"Topic7\", \"Topic7\", \"Topic7\", \"Topic7\", \"Topic7\", \"Topic7\", \"Topic7\", \"Topic7\", \"Topic7\", \"Topic7\", \"Topic7\", \"Topic7\", \"Topic7\", \"Topic7\", \"Topic7\", \"Topic7\", \"Topic7\", \"Topic7\", \"Topic7\", \"Topic7\", \"Topic7\", \"Topic7\", \"Topic7\", \"Topic7\", \"Topic7\", \"Topic7\", \"Topic7\", \"Topic7\", \"Topic7\", \"Topic7\", \"Topic7\", \"Topic7\", \"Topic7\", \"Topic8\", \"Topic8\", \"Topic8\", \"Topic8\", \"Topic8\", \"Topic8\", \"Topic8\", \"Topic8\", \"Topic8\", \"Topic8\", \"Topic8\", \"Topic8\", \"Topic8\", \"Topic8\", \"Topic8\", \"Topic8\", \"Topic8\", \"Topic8\", \"Topic8\", \"Topic8\", \"Topic8\", \"Topic8\", \"Topic8\", \"Topic8\", \"Topic8\", \"Topic8\", \"Topic8\", \"Topic8\", \"Topic8\", \"Topic8\", \"Topic8\", \"Topic8\", \"Topic8\", \"Topic8\", \"Topic8\", \"Topic8\", \"Topic9\", \"Topic9\", \"Topic9\", \"Topic9\", \"Topic9\", \"Topic9\", \"Topic9\", \"Topic9\", \"Topic9\", \"Topic9\", \"Topic9\", \"Topic9\", \"Topic9\", \"Topic9\", \"Topic9\", \"Topic9\", \"Topic9\", \"Topic9\", \"Topic9\", \"Topic9\", \"Topic9\", \"Topic9\", \"Topic9\", \"Topic9\", \"Topic9\", \"Topic9\", \"Topic9\", \"Topic9\", \"Topic9\", \"Topic9\", \"Topic9\", \"Topic9\", \"Topic9\"], \"logprob\": [30.0, 29.0, 28.0, 27.0, 26.0, 25.0, 24.0, 23.0, 22.0, 21.0, 20.0, 19.0, 18.0, 17.0, 16.0, 15.0, 14.0, 13.0, 12.0, 11.0, 10.0, 9.0, 8.0, 7.0, 6.0, 5.0, 4.0, 3.0, 2.0, 1.0, -6.0616, -6.1507, -6.1715, -6.1715, -5.9266, -6.2504, -6.3021, -5.9452, -6.3335, -6.3335, -6.4094, -6.3619, -6.3514, -6.4894, -6.5168, -6.5168, -6.5169, -6.3629, -6.5603, -6.213, -6.5157, -6.6249, -6.6249, -6.6256, -6.2585, -6.6789, -6.6789, -6.639, -6.692, -6.692, -6.4455, -6.3362, -5.9615, -6.5405, -6.49, -6.5276, -6.5543, -6.53, -6.5151, -6.1761, -6.0199, -6.2253, -6.1947, -6.2226, -6.3365, -6.298, -6.4469, -6.4469, -6.2382, -6.3589, -6.479, -6.4801, -6.5003, -6.504, -6.5572, -6.5588, -6.581, -6.6389, -6.5907, -6.6466, -6.6782, -6.6782, -6.4774, -6.6249, -6.7581, -6.4901, -6.7789, -6.784, -6.8229, -6.547, -6.3368, -6.304, -6.6805, -6.4775, -6.6094, -6.6518, -5.6955, -5.9731, -6.0355, -5.986, -6.1206, -6.1518, -6.1591, -6.2555, -6.2627, -6.2937, -6.3193, -6.3713, -6.465, -6.5268, -6.5268, -6.5268, -6.2547, -6.4563, -6.5558, -6.6529, -6.6661, -6.4993, -6.743, -6.7434, -6.7434, -6.7435, -6.7684, -6.7505, -6.5742, -6.789, -6.4765, -6.312, -6.643, -6.627, -6.7167, -5.9973, -6.149, -5.8486, -6.3522, -6.4071, -6.317, -6.3803, -6.4449, -6.5663, -6.61, -6.61, -6.599, -6.5184, -6.4503, -6.5041, -6.7218, -6.7052, -6.565, -6.6539, -6.6063, -6.6049, -6.7557, -6.7557, -6.7557, -6.6095, -6.8215, -6.6049, -6.8343, -6.8655, -6.8655, -6.4875, -6.746, -6.5965, -6.3161, -6.3682, -6.5229, -6.6372, -6.6639, -6.7108, -5.764, -5.9289, -6.2297, -6.4635, -6.1457, -6.5241, -6.5241, -6.5241, -6.5288, -6.3396, -6.5803, -6.5943, -6.5943, -6.2057, -6.5015, -6.6631, -6.2573, -6.3173, -6.6631, -6.6631, -6.7331, -6.7331, -6.7331, -6.7331, -6.7331, -6.7632, -6.7898, -6.7898, -6.8342, -6.8342, -6.6435, -6.7543, -6.2399, -6.7154, -6.6218, -5.7808, -5.8991, -6.1876, -6.1662, -6.339, -6.3479, -6.3479, -6.3479, -6.3479, -6.348, -6.3792, -6.4425, -6.4724, -6.2394, -6.4715, -6.4907, -6.4992, -6.4918, -6.1738, -6.6263, -6.627, -6.3862, -6.6415, -6.6415, -6.6415, -6.5373, -6.5373, -6.6572, -6.6572, -6.6572, -6.4729, -6.4364, -6.5302, -6.6362, -6.636, -6.6413, -5.8444, -5.9329, -6.1334, -6.3356, -6.3356, -6.3863, -6.4838, -6.5164, -6.5164, -6.5164, -6.5164, -6.5416, -6.6532, -6.7256, -6.7922, -6.7922, -6.7922, -6.2973, -6.5689, -6.9073, -6.9321, -6.9321, -6.9321, -6.9321, -6.9321, -6.9321, -6.9321, -6.9321, -6.9321, -6.9321, -6.6579, -6.765, -6.9074, -6.8132, -6.582, -6.9074, -6.5853, -6.7643, -6.7649, -6.8116, -6.7758, -6.8685, -6.8688, -6.8685, -5.8474, -6.1061, -6.2566, -6.2329, -6.3881, -6.3882, -6.3898, -6.5361, -6.5127, -6.5146, -6.6441, -6.666, -6.666, -6.666, -6.666, -6.6343, -6.5127, -6.7275, -6.7333, -6.7831, -6.7933, -6.7933, -6.7933, -6.5378, -6.9071, -6.6778, -6.7431, -6.7506, -6.9609, -6.7933, -6.7933, -6.7178, -6.4327, -6.6386, -6.6918, -6.7749, -5.9132, -6.4357, -6.4358, -6.3998, -6.2783, -6.856, -6.856, -6.856, -6.856, -6.856, -6.856, -6.856, -6.856, -6.856, -6.856, -6.856, -6.856, -6.856, -6.856, -6.856, -6.856, -6.856, -6.856, -6.856, -6.9593, -6.9593, -6.9593, -7.0251, -6.9593, -7.025, -6.9593, -6.8233, -6.9593], \"loglift\": [30.0, 29.0, 28.0, 27.0, 26.0, 25.0, 24.0, 23.0, 22.0, 21.0, 20.0, 19.0, 18.0, 17.0, 16.0, 15.0, 14.0, 13.0, 12.0, 11.0, 10.0, 9.0, 8.0, 7.0, 6.0, 5.0, 4.0, 3.0, 2.0, 1.0, 0.7391, 0.7155, 0.7098, 0.7097, 0.7093, 0.6872, 0.6717, 0.6691, 0.6621, 0.662, 0.6378, 0.6313, 0.6123, 0.6095, 0.6012, 0.6012, 0.6012, 0.5967, 0.5857, 0.5763, 0.5672, 0.5619, 0.5618, 0.5616, 0.5415, 0.5411, 0.5411, 0.5405, 0.536, 0.536, 0.5297, 0.5242, 0.4953, 0.4928, 0.4626, 0.4446, 0.46, 0.3923, 0.3348, 1.012, 1.0002, 0.9716, 0.9293, 0.923, 0.8991, 0.8922, 0.8758, 0.8757, 0.8756, 0.8703, 0.8584, 0.8578, 0.8467, 0.8447, 0.815, 0.8141, 0.7929, 0.7681, 0.7645, 0.7636, 0.745, 0.745, 0.7381, 0.7276, 0.6967, 0.6942, 0.684, 0.6808, 0.6566, 0.6026, 0.4965, 0.4246, 0.6086, -0.0208, 0.3114, 0.3238, 1.4051, 1.2688, 1.2354, 1.2192, 1.1884, 1.1707, 1.1666, 1.1103, 1.106, 1.0874, 1.0718, 1.0398, 0.9804, 0.9401, 0.9401, 0.9401, 0.9286, 0.9229, 0.9209, 0.8553, 0.7998, 0.7929, 0.7925, 0.7922, 0.7922, 0.7922, 0.7746, 0.7678, 0.7605, 0.7599, 0.7347, 0.6636, 0.6242, 0.4876, 0.0718, 1.3035, 1.2139, 1.2052, 1.0854, 1.0491, 1.0295, 1.0285, 1.0236, 0.9399, 0.909, 0.909, 0.8936, 0.8845, 0.871, 0.8511, 0.8282, 0.8213, 0.8141, 0.8133, 0.8116, 0.8073, 0.8032, 0.8032, 0.8032, 0.7744, 0.7541, 0.7509, 0.7445, 0.7208, 0.7208, 0.6383, 0.6796, 0.6147, 0.4724, 0.4318, 0.2057, 0.4493, 0.2873, 0.363, 1.5551, 1.4215, 1.1108, 1.0795, 1.0623, 1.0336, 1.0336, 1.0336, 1.03, 1.0221, 0.9905, 0.9485, 0.9416, 0.9133, 0.9111, 0.9059, 0.8979, 0.8922, 0.8813, 0.8717, 0.8703, 0.8703, 0.8703, 0.8703, 0.8703, 0.8461, 0.8247, 0.8247, 0.7887, 0.7887, 0.7502, 0.7653, 0.3744, 0.696, 0.41, 1.6797, 1.5933, 1.3478, 1.3043, 1.2498, 1.2424, 1.2424, 1.2424, 1.2424, 1.2424, 1.1722, 1.1644, 1.1395, 1.1159, 1.1045, 1.0989, 1.0604, 1.0498, 1.034, 1.0092, 1.0086, 1.0055, 0.9962, 0.9962, 0.9962, 0.9843, 0.9843, 0.9827, 0.9827, 0.9827, 0.9248, 0.6174, 0.7699, 0.6741, 0.5209, 0.3142, 1.7307, 1.6493, 1.4873, 1.311, 1.311, 1.2661, 1.1533, 1.1497, 1.1497, 1.1497, 1.1497, 1.127, 1.0223, 0.9595, 0.8982, 0.8981, 0.8981, 0.8136, 0.7845, 0.771, 0.7684, 0.7684, 0.7684, 0.7684, 0.7684, 0.7684, 0.7684, 0.7684, 0.7684, 0.7684, 0.7359, 0.7472, 0.7641, 0.7405, 0.5704, 0.7421, 0.3903, 0.518, 0.454, 0.5388, 0.4088, 0.6447, 0.3967, 0.3395, 1.7303, 1.3925, 1.3815, 1.2689, 1.2653, 1.2653, 1.2638, 1.107, 1.0998, 1.0553, 1.0344, 1.0144, 1.0144, 1.0144, 1.0144, 1.0089, 0.9752, 0.958, 0.9527, 0.9067, 0.8484, 0.8458, 0.8365, 0.8147, 0.7917, 0.7859, 0.7821, 0.7532, 0.7415, 0.7392, 0.728, 0.6907, 0.5228, 0.64, 0.5351, 0.3645, 1.8054, 1.2916, 1.2916, 1.1824, 1.1504, 0.8758, 0.8758, 0.8758, 0.8758, 0.8758, 0.8758, 0.8758, 0.8758, 0.8758, 0.8758, 0.8758, 0.8758, 0.8758, 0.8758, 0.8758, 0.8757, 0.8757, 0.8757, 0.8757, 0.7595, 0.7228, 0.7162, 0.6716, 0.6614, 0.6447, 0.6089, 0.4047, 0.308]}, \"token.table\": {\"Topic\": [1, 2, 1, 1, 2, 1, 1, 1, 1, 4, 1, 1, 2, 1, 1, 1, 4, 1, 1, 1, 1, 1, 1, 1, 1, 1, 4, 1, 3, 1, 1, 3, 1, 1, 3, 1, 3, 1, 3, 1, 1, 1, 1, 5, 1, 2, 1, 1, 1, 1, 2, 1, 1, 3, 4, 1, 1, 1, 1, 1, 1, 1, 1, 1, 2, 1, 1, 3, 1, 1, 2, 1, 1, 1, 3, 1, 1, 1, 1, 1, 1, 2, 1, 3, 1, 1, 1, 1, 1, 1, 1, 3, 1, 1, 2, 3, 1, 1, 1, 1, 1, 1, 4, 1, 2, 1, 1, 2, 1, 2, 1, 2, 4, 1, 2, 1, 3, 1, 1, 2, 1, 1, 1, 2, 1, 1, 2, 1, 1, 1, 1, 3, 1, 2, 1, 1, 1, 1, 1, 2, 1, 1, 4, 1, 4, 1, 1, 1, 3, 1, 2, 1, 4, 1, 1, 2, 4, 1, 1, 1, 1, 4, 1, 1, 2, 1, 1, 1, 3, 1, 2, 1, 4, 1, 1, 1, 3, 1, 1, 1, 4, 1, 1, 1, 3, 1, 4, 1, 2, 1, 1, 1, 1, 1, 1, 1, 2, 1, 4, 1, 3, 1, 4, 1, 1, 4, 1, 1, 1, 1, 1, 1, 1, 1, 1, 1, 1, 1, 2, 1, 1, 1, 1, 1, 3, 1, 3, 1, 1, 3, 1, 1, 1, 2, 1, 2, 1, 2, 1, 1, 1, 1, 1, 2, 1, 2, 1, 1, 4, 1, 5, 1, 2, 1, 2, 1, 1, 1, 1, 1, 1, 2, 1, 3, 1, 4, 1, 1, 1, 1, 2, 1, 2, 1, 1, 2, 1, 2, 5, 1, 4, 1, 1, 4, 1, 1, 1, 2, 5, 1, 5, 1, 1, 2, 1, 3, 1, 4, 1, 1, 2, 1, 1, 1, 1, 1, 1, 1, 1, 3, 1, 1, 1, 1, 2, 1, 1, 1, 2, 1, 1, 1, 1, 1, 1, 3, 1, 1, 1, 3, 1, 1, 1, 2, 1, 1, 1, 1, 3, 1, 1, 1, 1, 4, 1, 2, 3, 1, 2, 1, 1, 3, 1, 1, 1, 1, 3, 1, 2, 3, 4, 1, 1, 1, 2, 1, 2, 1, 2, 1, 1, 1, 1, 2, 1, 4, 1, 1, 1, 1, 1, 1, 2, 1, 1, 2, 1, 5, 1, 4, 1, 6, 1, 1, 1, 1, 1, 1, 1, 1, 5, 1, 1, 5, 1, 1, 2, 1, 1, 1, 1, 1, 2, 4, 1, 2, 1, 1, 2, 1, 1, 5, 1, 2, 1, 1, 1, 3, 1, 3, 1, 1, 1, 1, 1, 1, 2, 1, 1, 2, 3, 1, 4, 1, 1, 1, 3, 1, 2, 1, 1, 1], \"Freq\": [0.48771020810901217, 0.48771020810901217, 0.34950139634056543, 0.5116267280588584, 0.5116267280588584, 0.782569126324785, 0.6748378040860233, 0.6748348770591565, 0.36817212396908194, 0.36817212396908194, 0.6748343984850631, 0.46183318755620917, 0.46183318755620917, 0.5627017008521337, 0.6410422592835768, 0.5122727429712727, 0.5122727429712727, 0.6806533277059219, 0.5677358445498127, 0.5985810972784579, 0.5586286835086489, 0.6001781229704759, 0.7306739381670588, 0.6661367811705033, 0.49042022465805984, 0.48573054998711246, 0.48573054998711246, 0.4348231713545916, 0.4348231713545916, 0.5423787943861974, 0.5620405445952058, 0.5620405445952058, 0.5858455003910501, 0.4421937202058403, 0.4421937202058403, 0.5546718727319002, 0.5546718727319002, 0.44962706554248283, 0.44962706554248283, 0.4077682531930809, 0.6197424722296603, 0.6748362812812014, 0.3656780294110688, 0.3656780294110688, 0.4382628010603667, 0.4382628010603667, 0.6748371103138847, 0.6440470935383201, 0.5677363676627937, 0.40272520915566745, 0.40272520915566745, 0.5634497870121972, 0.40098531640871454, 0.40098531640871454, 0.40098531640871454, 0.5772694174518476, 0.6319626397585076, 0.6660632475185956, 0.536216006727113, 0.6748336284760876, 0.43053175777047953, 0.33511784929921073, 0.5790933751113853, 0.6586657410536301, 0.32933287052681504, 0.6748378299484659, 0.46804087836453157, 0.46804087836453157, 0.5670309022575264, 0.4622373715848956, 0.4622373715848956, 0.6540868593425749, 0.6233419972244286, 0.4743253705238086, 0.4743253705238086, 0.6748348148526985, 0.5372711972386339, 0.6150980848619056, 0.6540863792643924, 0.37321985092643084, 0.2999235286803601, 0.2999235286803601, 0.517816533364898, 0.517816533364898, 0.6100141412702761, 0.6748371276418731, 0.7253766226101878, 0.6039089560948049, 0.6335243384459012, 0.6474785312966596, 0.44822483115176104, 0.44822483115176104, 0.6379362806640566, 0.38995245051965105, 0.38995245051965105, 0.38995245051965105, 0.6463781981151342, 0.6540869289075474, 0.5541485194539334, 0.6052297274229124, 0.654086373784375, 0.46668251664166127, 0.46668251664166127, 0.49564886098293853, 0.49564886098293853, 0.6145149871224516, 0.5467330741845434, 0.5467330741845434, 0.4077856062832881, 0.4077856062832881, 0.30916903606938206, 0.30916903606938206, 0.30916903606938206, 0.3797872461387273, 0.3797872461387273, 0.5172817028517676, 0.5172817028517676, 0.6235956194310982, 0.47136112666417673, 0.47136112666417673, 0.6448515642365373, 0.7769644311612144, 0.48983613657820113, 0.48983613657820113, 0.559521168969408, 0.3770366644260373, 0.3770366644260373, 0.615610834435164, 0.6553175723853487, 0.6540864033105815, 0.41344724174718656, 0.41344724174718656, 0.6191913415806951, 0.30959567079034755, 0.6094190904964258, 0.42895684120944005, 0.6446182929612255, 0.6748384732680861, 0.4600729614099713, 0.4600729614099713, 0.6129720320871671, 0.5028404753432977, 0.5028404753432977, 0.4631043392418417, 0.4631043392418417, 0.5935314523496482, 0.48319722959746025, 0.5067882245523978, 0.5067882245523978, 0.3953004813703005, 0.3953004813703005, 0.48858940159066017, 0.48858940159066017, 0.6039298655540023, 0.49496596670191684, 0.24748298335095842, 0.24748298335095842, 0.6712775742020612, 0.6261075621627126, 0.6052295235801359, 0.4902647091308086, 0.4902647091308086, 0.5854240977545682, 0.5167336828463233, 0.5167336828463233, 0.6342904397903347, 0.585845435894263, 0.5178167905367308, 0.5178167905367308, 0.48927698977542505, 0.48927698977542505, 0.49306834845349956, 0.49306834845349956, 0.40776863499925237, 0.5858484288310962, 0.4536870376170697, 0.4536870376170697, 0.676714209490081, 0.851955166452235, 0.5179517850457439, 0.5179517850457439, 0.6540863503039632, 0.6319633951260629, 0.5229209239484617, 0.5229209239484617, 0.5315874200495923, 0.2657937100247961, 0.40408916697880587, 0.40408916697880587, 0.6397217411732695, 0.5579445679638126, 0.671882592701175, 0.5287722430780456, 0.5469507790095706, 0.567736494207365, 0.4073160519772579, 0.4073160519772579, 0.5455219296553876, 0.5455219296553876, 0.48969296691512104, 0.48969296691512104, 0.5186594677146614, 0.5186594677146614, 0.6410425530328236, 0.4385669543439254, 0.4385669543439254, 0.6319628614448537, 0.7825650537090673, 0.7306520165734423, 0.49843751271442127, 0.5488960171669071, 0.564758512178939, 0.6129128149267978, 0.5469517305562936, 0.5417648083924985, 0.5670297296097532, 0.6748378505098014, 0.4482485188153147, 0.4482485188153147, 0.6463918605355167, 0.5935313087699285, 0.6748347042362696, 0.6156102788855475, 0.3640546471171596, 0.3640546471171596, 0.39859353564513983, 0.39859353564513983, 0.6748333822799877, 0.4693908808858454, 0.4693908808858454, 0.5989225248390708, 0.8649017328474354, 0.524357866707163, 0.524357866707163, 0.5157239968479695, 0.5157239968479695, 0.44273429839375666, 0.44273429839375666, 0.6241129649803698, 0.5545327575717787, 0.5849091529733174, 0.5935312918273603, 0.3675210355203751, 0.3675210355203751, 0.3755258655805299, 0.3755258655805299, 0.6353225371127204, 0.5385802903325921, 0.5385802903325921, 0.4608651780502973, 0.4608651780502973, 0.45489811523794166, 0.45489811523794166, 0.4718482186643223, 0.4718482186643223, 0.3780854473847993, 0.633388654017703, 0.6540868779389356, 0.6156106630794965, 0.5956198526332706, 0.4482453806066694, 0.4482453806066694, 0.4256518191818456, 0.4256518191818456, 0.35398341581273873, 0.35398341581273873, 0.7306528284145521, 0.5161842761257139, 0.6540870312584675, 0.39180194548894887, 0.39180194548894887, 0.5495382405509708, 0.2747691202754854, 0.7167554344809273, 0.4334718137735292, 0.4334718137735292, 0.45633177085375703, 0.45633177085375703, 0.45633177085375703, 0.47656909742753767, 0.47656909742753767, 0.5834828782639382, 0.4476590527801841, 0.4476590527801841, 0.6529731073073719, 0.6176166892931307, 0.3997139985818185, 0.3997139985818185, 0.3997139985818185, 0.4002882057073089, 0.4002882057073089, 0.6471396818981572, 0.6007493601179844, 0.3003746800589922, 0.5546702801501605, 0.5546702801501605, 0.5313229679016354, 0.5313229679016354, 0.5547708013227357, 0.45513571954768506, 0.45513571954768506, 0.6421258616727817, 0.6325040056666151, 0.3104947664930175, 0.5744700482496257, 0.5312036185290543, 0.61424119122713, 0.5730319001229951, 0.5396154328237257, 0.5396154328237257, 0.4968515146732887, 0.6001779004969651, 0.6540862894146049, 0.4082802696670456, 0.4082802696670456, 0.7829237096482764, 0.5345230342569707, 0.3637939587621724, 0.3637939587621724, 0.6718868800081753, 0.5496211555590337, 0.5769755079293397, 0.573467802245385, 0.6474803709583433, 0.5546064975690482, 0.5546064975690482, 0.6138980830345784, 0.5458319673596367, 0.3590015852798576, 0.7180031705597152, 0.6748356346068318, 0.5529332957456046, 0.4813534753353421, 0.4813534753353421, 0.5858504063462014, 0.577505608106655, 0.6239928075295474, 0.4800456738149705, 0.4800456738149705, 0.7054071694186328, 0.6142432742046782, 0.578505894075209, 0.5455209816755401, 0.5455209816755401, 0.4241105754814098, 0.4241105754814098, 0.4241105754814098, 0.41089878732724144, 0.41089878732724144, 0.8090755394186975, 0.5451235190623814, 0.5451235190623814, 0.6748320909989204, 0.424091206600929, 0.6748368940991984, 0.5178170871721613, 0.5178170871721613, 0.525520183576273, 0.2627600917881365, 0.2627600917881365, 0.2627600917881365, 0.3996045317220141, 0.5197028345681873, 0.4593091532707489, 0.4593091532707489, 0.48840977771554756, 0.48840977771554756, 0.39265612810954975, 0.39265612810954975, 0.6319632395147448, 0.6474775454800662, 0.423360264652674, 0.33121756423465204, 0.6624351284693041, 0.4742556152257308, 0.4742556152257308, 0.568089833736144, 0.5740094269885557, 0.5858445206059583, 0.6197363733224087, 0.5970948398996044, 0.4630717748087545, 0.4630717748087545, 0.6443194323286522, 0.39046974813521107, 0.39046974813521107, 0.4661232748446739, 0.4661232748446739, 0.342597904243639, 0.342597904243639, 0.5145299040528483, 0.5145299040528483, 0.5587891206717217, 0.6540856869324284, 0.6748378845294387, 0.5259193757223505, 0.6167166610134455, 0.5670306108647984, 0.5676666616643761, 0.4466839377837158, 0.4466839377837158, 0.5646981777976098, 0.37912437381174663, 0.37912437381174663, 0.8090782766307074, 0.5657145569271421, 0.18857151897571406, 0.6748354488741847, 0.6398306859073801, 0.5935312859663984, 0.6239917758476196, 0.46340324469416566, 0.46340324469416566, 0.46340324469416566, 0.47103755991131374, 0.47103755991131374, 0.6142416350602555, 0.3903424357288567, 0.3903424357288567, 0.6515583185618375, 0.6622557168577069, 0.22075190561923563, 0.6315006004809772, 0.3157503002404886, 0.8648972204167852, 0.6410423128417906, 0.4752327278859124, 0.4752327278859124, 0.5587277895509581, 0.5587277895509581, 0.7513541889643615, 0.7979782531216539, 0.674836141989183, 0.6410421320789932, 0.6175604821755561, 0.5587815021077983, 0.27939075105389916, 0.5811335784424846, 0.31682664171742675, 0.31682664171742675, 0.31682664171742675, 0.45905456882903356, 0.45905456882903356, 0.5834822929205998, 0.5935305951577123, 0.5546697276898017, 0.5546697276898017, 0.49564903074858147, 0.49564903074858147, 0.48129317201640714, 0.621540685605784, 0.48028832719359416], \"Term\": [\"000\", \"000\", \"1\", \"13\", \"13\", \"1dtemppro\", \"2013\", \"2055\", \"3\", \"3\", \"30m\", \"3d\", \"3d\", \"ad\", \"adapt\", \"aerob\", \"aerob\", \"algorithm\", \"anaerob\", \"anim\", \"annual\", \"anteced\", \"appendic\", \"appropri\", \"aquat\", \"aqueous\", \"aqueous\", \"aquif\", \"aquif\", \"area\", \"areal\", \"areal\", \"articl\", \"ash\", \"ash\", \"assist\", \"assist\", \"atmospher\", \"atmospher\", \"attenu\", \"attribut\", \"automata\", \"balanc\", \"balanc\", \"base\", \"base\", \"bay\", \"bewar\", \"biomass\", \"block\", \"block\", \"bodi\", \"boundari\", \"boundari\", \"boundari\", \"c\", \"california\", \"cblcm\", \"cell\", \"cellular\", \"chang\", \"channel\", \"chart\", \"chemic\", \"chemic\", \"chesapeak\", \"circl\", \"circl\", \"classroom\", \"climat\", \"climat\", \"climograph\", \"coast\", \"coastal\", \"coastal\", \"commerci\", \"compil\", \"complet\", \"comprehens\", \"comput\", \"conduct\", \"conduct\", \"confin\", \"confin\", \"constitu\", \"consumpt\", \"contamin\", \"convers\", \"coral\", \"core\", \"count\", \"count\", \"counti\", \"coupl\", \"coupl\", \"coupl\", \"crop\", \"csv\", \"cycl\", \"dataset\", \"deficit\", \"degrad\", \"degrad\", \"delft3d\", \"delft3d\", \"dem\", \"desir\", \"desir\", \"develop\", \"develop\", \"dimension\", \"dimension\", \"dimension\", \"discharg\", \"discharg\", \"discret\", \"discret\", \"dispers\", \"dissolut\", \"dissolut\", \"dissolv\", \"distanc\", \"dri\", \"dri\", \"driven\", \"earthquak\", \"earthquak\", \"edit\", \"entir\", \"equival\", \"erupt\", \"erupt\", \"estim\", \"estim\", \"execut\", \"factor\", \"failur\", \"farmland\", \"fastmech\", \"fastmech\", \"fault\", \"fe\", \"fe\", \"feq\", \"feq\", \"fig\", \"file\", \"finit\", \"finit\", \"fish\", \"fish\", \"flexibl\", \"flexibl\", \"flood\", \"flow\", \"flow\", \"flow\", \"fluid\", \"flux\", \"focal\", \"follow\", \"follow\", \"forag\", \"form\", \"form\", \"four\", \"fractur\", \"freshwat\", \"freshwat\", \"fulli\", \"fulli\", \"general\", \"general\", \"gmpe\", \"goal\", \"grid\", \"grid\", \"ground\", \"heat\", \"high\", \"high\", \"histogram\", \"huc\", \"hurrican\", \"hurrican\", \"hydraul\", \"hydraul\", \"hydrodynam\", \"hydrodynam\", \"hypothes\", \"impact\", \"infil\", \"infiltr\", \"inflow\", \"inhibit\", \"input\", \"input\", \"interv\", \"interv\", \"isopleth\", \"isopleth\", \"isotop\", \"isotop\", \"iv\", \"keyword\", \"keyword\", \"klamath\", \"known\", \"lagrangian\", \"land\", \"landslid\", \"larg\", \"larger\", \"later\", \"line\", \"locat\", \"loos\", \"lpf\", \"lpf\", \"lsp\", \"ltrm\", \"lump\", \"mac\", \"manag\", \"manag\", \"map\", \"map\", \"maryland\", \"massachusett\", \"massachusett\", \"materi\", \"matlab\", \"matrix\", \"matrix\", \"mean\", \"mean\", \"method\", \"method\", \"microcomput\", \"migrat\", \"migratori\", \"mississippi\", \"modflow\", \"modflow\", \"modul\", \"modul\", \"monitor\", \"monod\", \"monod\", \"month\", \"month\", \"mor\", \"mor\", \"morpholog\", \"morpholog\", \"network\", \"new\", \"northern\", \"nt\", \"nurp\", \"nwt\", \"nwt\", \"ocean\", \"ocean\", \"one\", \"one\", \"onedimension\", \"oper\", \"oregon\", \"oteq\", \"oteq\", \"packag\", \"packag\", \"paramet\", \"percent\", \"percent\", \"perman\", \"perman\", \"perman\", \"permeabl\", \"permeabl\", \"pest\", \"phreeqc\", \"phreeqc\", \"pore\", \"potenti\", \"precipit\", \"precipit\", \"precipit\", \"predict\", \"predict\", \"prepar\", \"present\", \"present\", \"preserv\", \"preserv\", \"pressur\", \"pressur\", \"probabl\", \"problem\", \"problem\", \"produc\", \"profil\", \"program\", \"prosper\", \"psd\", \"psds\", \"pseudo\", \"ptcount\", \"ptcount\", \"pump\", \"python\", \"quantil\", \"quasi\", \"quasi\", \"rainf\", \"rainfal\", \"record\", \"record\", \"redevelop\", \"redox\", \"reef\", \"refer\", \"referenc\", \"refin\", \"refin\", \"regress\", \"research\", \"reservoir\", \"reservoir\", \"residenti\", \"revis\", \"river\", \"river\", \"rock\", \"runoff\", \"safeti\", \"saltwat\", \"saltwat\", \"satur\", \"scms\", \"scoops3d\", \"screen\", \"screen\", \"sediment\", \"sediment\", \"sediment\", \"select\", \"select\", \"sensor\", \"separ\", \"separ\", \"septic\", \"serv\", \"sewer\", \"sharp\", \"sharp\", \"simul\", \"simul\", \"simul\", \"simul\", \"site\", \"size\", \"slide\", \"slide\", \"slope\", \"slope\", \"solver\", \"solver\", \"span\", \"sparrow\", \"spatial\", \"speci\", \"speci\", \"specifi\", \"specifi\", \"spreadsheet\", \"stabil\", \"statement\", \"station\", \"statist\", \"steadi\", \"steadi\", \"step\", \"stream\", \"stream\", \"streamflow\", \"streamflow\", \"structur\", \"structur\", \"subduct\", \"subduct\", \"submers\", \"summar\", \"tailor\", \"temperatur\", \"thermodynam\", \"thornthwait\", \"thresh\", \"threshold\", \"threshold\", \"time\", \"tool\", \"tool\", \"toolbox\", \"transport\", \"transport\", \"treatment\", \"trigr\", \"umrr\", \"unsatur\", \"unsteadi\", \"unsteadi\", \"unsteadi\", \"upw\", \"upw\", \"urban\", \"usg\", \"usg\", \"valid\", \"veget\", \"veget\", \"vertic\", \"vertic\", \"vflux\", \"vi\", \"volcan\", \"volcan\", \"volcano\", \"volcano\", \"vs2dh\", \"vs2drti\", \"wastewat\", \"wateq2\", \"wateq4f\", \"water\", \"water\", \"watersh\", \"wave\", \"wave\", \"wave\", \"well\", \"well\", \"wellbor\", \"wildlif\", \"withdraw\", \"withdraw\", \"world\", \"world\", \"year\", \"yield\", \"zone\"]}, \"R\": 30, \"lambda.step\": 0.01, \"plot.opts\": {\"xlab\": \"PC1\", \"ylab\": \"PC2\"}, \"topic.order\": [9, 2, 4, 6, 1, 7, 8, 3, 5]};\n",
              "\n",
              "function LDAvis_load_lib(url, callback){\n",
              "  var s = document.createElement('script');\n",
              "  s.src = url;\n",
              "  s.async = true;\n",
              "  s.onreadystatechange = s.onload = callback;\n",
              "  s.onerror = function(){console.warn(\"failed to load library \" + url);};\n",
              "  document.getElementsByTagName(\"head\")[0].appendChild(s);\n",
              "}\n",
              "\n",
              "if(typeof(LDAvis) !== \"undefined\"){\n",
              "   // already loaded: just create the visualization\n",
              "   !function(LDAvis){\n",
              "       new LDAvis(\"#\" + \"ldavis_el1241139892525271248174673493\", ldavis_el1241139892525271248174673493_data);\n",
              "   }(LDAvis);\n",
              "}else if(typeof define === \"function\" && define.amd){\n",
              "   // require.js is available: use it to load d3/LDAvis\n",
              "   require.config({paths: {d3: \"https://d3js.org/d3.v5\"}});\n",
              "   require([\"d3\"], function(d3){\n",
              "      window.d3 = d3;\n",
              "      LDAvis_load_lib(\"https://cdn.jsdelivr.net/gh/bmabey/pyLDAvis@3.3.1/pyLDAvis/js/ldavis.v3.0.0.js\", function(){\n",
              "        new LDAvis(\"#\" + \"ldavis_el1241139892525271248174673493\", ldavis_el1241139892525271248174673493_data);\n",
              "      });\n",
              "    });\n",
              "}else{\n",
              "    // require.js not available: dynamically load d3 & LDAvis\n",
              "    LDAvis_load_lib(\"https://d3js.org/d3.v5.js\", function(){\n",
              "         LDAvis_load_lib(\"https://cdn.jsdelivr.net/gh/bmabey/pyLDAvis@3.3.1/pyLDAvis/js/ldavis.v3.0.0.js\", function(){\n",
              "                 new LDAvis(\"#\" + \"ldavis_el1241139892525271248174673493\", ldavis_el1241139892525271248174673493_data);\n",
              "            })\n",
              "         });\n",
              "}\n",
              "</script>"
            ],
            "text/plain": [
              "<IPython.core.display.HTML object>"
            ]
          },
          "metadata": {
            "tags": []
          },
          "execution_count": 82
        }
      ]
    },
    {
      "cell_type": "markdown",
      "metadata": {
        "id": "dW0jLB7QiJTc"
      },
      "source": [
        "#### HDBSCAN - Problems with approximate_predict\n",
        "If we do not change the existing clusters, to which cluster would HDBSCAN assign new data points?"
      ]
    },
    {
      "cell_type": "code",
      "metadata": {
        "id": "dAn0yhg8AP5q"
      },
      "source": [
        "# #test HDBSCAN\n",
        "\n",
        "# test_points = tfidf_vectorizer.transform(test_document_list)\n",
        "# test_labels, strengths = hdbscan.approximate_predict(hdb_model, test_points)\n",
        "# test_labels"
      ],
      "execution_count": 72,
      "outputs": []
    },
    {
      "cell_type": "markdown",
      "metadata": {
        "id": "mYA1pEN2iJcu"
      },
      "source": [
        "#### BERTopic"
      ]
    },
    {
      "cell_type": "code",
      "metadata": {
        "id": "2Axai7uwBK_S"
      },
      "source": [
        "test_topics, test_probs  = topic_model.transform(test_document_list)\n",
        "test_bertopic_labels = np.argmax(test_probs, axis=1)\n",
        "df_test['BERTopic_Topic'] = test_bertopic_labels"
      ],
      "execution_count": 73,
      "outputs": []
    },
    {
      "cell_type": "markdown",
      "metadata": {
        "id": "gxhGGMO-CAqc"
      },
      "source": [
        "##### Silhouette Score 0.03"
      ]
    },
    {
      "cell_type": "code",
      "metadata": {
        "colab": {
          "base_uri": "https://localhost:8080/"
        },
        "id": "6bKlH-G-CAFc",
        "outputId": "7598e444-8ead-4a9c-fd38-b000e7ce6ad2"
      },
      "source": [
        "BERT_score2 = metrics.silhouette_score(X, test_bertopic_labels)\n",
        "BERT_score2"
      ],
      "execution_count": 74,
      "outputs": [
        {
          "output_type": "execute_result",
          "data": {
            "text/plain": [
              "-0.2102677659872203"
            ]
          },
          "metadata": {
            "tags": []
          },
          "execution_count": 74
        }
      ]
    },
    {
      "cell_type": "markdown",
      "metadata": {
        "id": "xydYhK7JB8LJ"
      },
      "source": [
        "##### Titles Grouped by Topic"
      ]
    },
    {
      "cell_type": "code",
      "metadata": {
        "colab": {
          "base_uri": "https://localhost:8080/"
        },
        "id": "Z9_pOIXwBHuh",
        "outputId": "b610ee87-f13b-410b-cb23-a673d127f459"
      },
      "source": [
        "df_BERTopic2 = df_test.groupby('BERTopic_Topic')['Title'].apply(lambda group_series: group_series.tolist()).reset_index()\n",
        "for i in range(len(df_BERTopic2)):\n",
        "  print('BERT topic:', df_BERTopic2.BERTopic_Topic[i])\n",
        "  for j in df_BERTopic.Title[i]:\n",
        "    print(j)\n",
        "  print(' ')"
      ],
      "execution_count": 75,
      "outputs": [
        {
          "output_type": "stream",
          "text": [
            "BERT topic: 0\n",
            "Modeling Landscape Evapotranspiration by Integrating Land Surface Phenology and a Water Balance Algorithm\n",
            "FaSTMECH - Flow and Sediment Transport with Morphological Evolution of Channels\n",
            "Delft3D - 3D modeling suite to investigate hydrodynamics, sediment transport and morphology and water quality for fluvial, estuarine and coastal environments\n",
            "Update of the Graizer-Kalkan ground-motion prediction equations for shallow crustal continental earthquakes\n",
            "MODFLOW-NWT, A Newton Formulation for MODFLOW-2005\n",
            " \n",
            "BERT topic: 1\n",
            "Massachusetts Reservoir Simulation Tool—User’s Manual\n",
            "Benefits of the destinations, not costs of the journeys, shape partial migration patterns\n",
            "FishVis, A regional decision support tool for identifying vulnerabilities of riverine habitat and fishes to climate change in the Great Lakes Region\n",
            "Submersed Aquatic Vegetation Modeling Output Online\n",
            "Probability of Streamflow Permanence Model (PROSPER): A spatially continuous model of annual streamflow permanence throughout the Pacific Northwest\n",
            "A Bayesian‐Based System to Assess Wave‐Driven Flooding Hazards on Coral Reef‐Lined Coasts\n",
            "Development of a Coupled Ocean–Atmosphere–Wave–Sediment Transport (COAWST) Modeling System\n",
            "NCCV - National Climate Change Viewer\n",
            " \n",
            "BERT topic: 2\n",
            "The Effect of Particle Size Distribution on the Design of Urban Stormwater Control Measures\n",
            "The SPARROW Surface Water-Quality Model: Theory, Application and User Documentation\n",
            "CBLCM - Chesapeake Bay Land Change Model\n",
            " \n",
            "BERT topic: 3\n",
            "THE COMPUTER MODEL SHARP, A QUASI-THREE-DIMENSIONAL FINITE-DIFFERENCE\n",
            "MODEL TO SIMULATE FRESHWATER AND SALTWATER FLOW IN LAYERED COASTAL\n",
            "AQUIFER SYSTEMS\n",
            "Slab2, a comprehensive subduction zone geometry model\n",
            "HYDROTHERM - A computer code for simulation of two-phase ground-water flow and heat transport\n",
            "AnalyzeHOLE—An Integrated Wellbore Flow Analysis Tool\n",
            " \n",
            "BERT topic: 4\n",
            "One-Dimensional Transport with Equilibrium\n",
            "Chemistry (OTEQ)—A Reactive Transport\n",
            "Model for Streams and Rivers\n",
            "USER'S MANUAL FOR WATEQ4F, WITH REVISED THERMODYNAMIC DATA\n",
            "BASE AND TEST CASES FOR CALCULATING SPECIATION OF MAJOR,\n",
            "TRACE, AND REDOX ELEMENTS IN NATURAL WATERS\n",
            "VFLUX: Vertical Fluid Heat Transfer Solver (VFlu[H]X Solver)\n",
            "MOC3D\n",
            "FEQ - Full Equations Model for the Solution of the Full, Dynamic Equations of Motion for One-Dimensional Unsteady Flow in Open Channels and Through Control Structures\n",
            "USERS MANUAL FOR A BRANCHED\n",
            "LAGRANGIAN TRANSPORT MODEL\n",
            "Ash3d: A finite‐volume, conservative numerical model for ash transport and tephra deposition\n",
            "BIOMOC, A Multispecies Solute-Transport Model with\n",
            "Biodegradation\n",
            "Spring onset variations and trends in the continental United States: past and regional assessment using temperature‐based indices\n",
            "Description of input and examples for PHREEQC version 3: a computer program for speciation, batch-reaction, one-dimensional transport, and inverse geochemical calculations\n",
            " \n",
            "BERT topic: 5\n",
            "THRESH—Software for Tracking Rainfall Thresholds for Landslide and Debris-Flow Occurrence, User Manual\n",
            "TRIGRS—A Fortran Program for Transient\n",
            "Rainfall Infiltration and Grid-Based Regional\n",
            "Slope-Stability Analysis, Version 2.0\n",
            "A Monthly Water-Balance Model Driven By a Graphical User\n",
            "Interface\n",
            "SLAMMER—Seismic LAndslide Movement Modeled using Earthquake Records\n",
            "1DTempPro V2: New Features for Inferring Groundwater/Surface‐Water Exchange\n",
            "VS2DRTI - A Graphical Software Package for Simulating Water Flow, Heat Transport, and Reactive Solute Transport\n",
            "Computer programs for limit-equilibrium slope-stability analyses FelleniusGS, BishopGS, and JanbuGS\n",
            "PTCOUNT—A FORTRAN-77 Computer Program to Calculate the Areal Distribution of Mapped Data Points Using Count-Circle Methodology\n",
            "A Fractured Rock Geophysical Toolbox Method Selection Tool\n",
            "Scoops3D: software to analyze 3D slope stability throughout a digital landscape\n",
            " \n"
          ],
          "name": "stdout"
        }
      ]
    }
  ]
}