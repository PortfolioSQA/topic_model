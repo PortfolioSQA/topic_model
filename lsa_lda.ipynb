{
 "cells": [
  {
   "cell_type": "markdown",
   "metadata": {},
   "source": [
    "## LSA & LDA"
   ]
  },
  {
   "cell_type": "code",
   "execution_count": 234,
   "metadata": {},
   "outputs": [],
   "source": [
    "# addapted from https://www.datacamp.com/community/tutorials/discovering-hidden-topics-python"
   ]
  },
  {
   "cell_type": "markdown",
   "metadata": {},
   "source": [
    "### Overview: document-term matrix (BoW model), dimensionality reduction with truncated SVD. \n",
    "#### TODO: Need to add a metric for all implementations to compare. Also need to extract document probablility for each cluster and "
   ]
  },
  {
   "cell_type": "code",
   "execution_count": 235,
   "metadata": {},
   "outputs": [],
   "source": [
    "import os.path\n",
    "from gensim import corpora\n",
    "from gensim.models import LsiModel\n",
    "from nltk.tokenize import RegexpTokenizer\n",
    "from nltk.corpus import stopwords\n",
    "from nltk.stem.porter import PorterStemmer\n",
    "from nltk.stem.snowball import SnowballStemmer\n",
    "from gensim.models.coherencemodel import CoherenceModel\n",
    "import matplotlib.pyplot as plt\n",
    "import pandas as pd"
   ]
  },
  {
   "cell_type": "markdown",
   "metadata": {},
   "source": [
    "### Stopwords, Stem, and Tokenize"
   ]
  },
  {
   "cell_type": "code",
   "execution_count": 236,
   "metadata": {},
   "outputs": [],
   "source": [
    "sw = stopwords.words('english')\n",
    "ADDITIONAL_STOPWORDS = ['version', '3','keyword','data', 'computer', 'program', 'input', 'file', 'output', '13', '4','upw', 'package', '5', 'u', 'x', '5m', 'grid', 'document', 'report', 'provide', 'area', 'many', 'used', 'including', 'designed', 'u', 'gi']\n",
    "sw = sw + ADDITIONAL_STOPWORDS\n"
   ]
  },
  {
   "cell_type": "code",
   "execution_count": 237,
   "metadata": {},
   "outputs": [],
   "source": [
    "def preprocess_data(doc_set):\n",
    "    \"\"\"\n",
    "    Input  : docuemnt list\n",
    "    Purpose: preprocess text (tokenize, removing stopwords, and stemming)\n",
    "    Output : preprocessed text\n",
    "    \"\"\"\n",
    "    # initialize regex tokenizer\n",
    "    tokenizer = RegexpTokenizer(r'\\w+')\n",
    "    # create English stop words list\n",
    "    en_stop = set(sw)\n",
    "    # Create p_stemmer of class PorterStemmer\n",
    "    p_stemmer = SnowballStemmer(\"english\") #PorterStemmer()\n",
    "    # list for tokenized documents in loop\n",
    "    texts = []\n",
    "    # loop through document list\n",
    "    for i in doc_set:\n",
    "        # clean and tokenize document string\n",
    "        raw = i.lower()\n",
    "        tokens = tokenizer.tokenize(raw)\n",
    "        # remove stop words from tokens\n",
    "        stopped_tokens = [i for i in tokens if not i in en_stop]\n",
    "        # stem tokens\n",
    "        stemmed_tokens = [p_stemmer.stem(i) for i in stopped_tokens]\n",
    "        # add tokens to list\n",
    "        texts.append(stemmed_tokens)\n",
    "    return texts"
   ]
  },
  {
   "cell_type": "markdown",
   "metadata": {},
   "source": [
    "### Prepare Document Term Matrix (BoW model)"
   ]
  },
  {
   "cell_type": "code",
   "execution_count": 238,
   "metadata": {},
   "outputs": [],
   "source": [
    "def prepare_corpus(doc_clean):\n",
    "    \"\"\"\n",
    "    Input  : clean document\n",
    "    Purpose: create term dictionary of our courpus and Converting list of documents (corpus) into Document Term Matrix\n",
    "    Output : term dictionary and Document Term Matrix\n",
    "    \"\"\"\n",
    "    # Creating the term dictionary of our courpus, where every unique term is assigned an index. dictionary = corpora.Dictionary(doc_clean)\n",
    "    dictionary = corpora.Dictionary(doc_clean)\n",
    "    # Converting list of documents (corpus) into Document Term Matrix using dictionary prepared above.\n",
    "    doc_term_matrix = [dictionary.doc2bow(doc) for doc in doc_clean]\n",
    "    # generate LDA model\n",
    "    return dictionary,doc_term_matrix\n"
   ]
  },
  {
   "cell_type": "markdown",
   "metadata": {},
   "source": [
    "### LSA Model"
   ]
  },
  {
   "cell_type": "code",
   "execution_count": 239,
   "metadata": {},
   "outputs": [],
   "source": [
    "def create_gensim_lsa_model(doc_clean,number_of_topics,words):\n",
    "    \"\"\"\n",
    "    Input  : clean document, number of topics and number of words associated with each topic\n",
    "    Purpose: create LSA model using gensim\n",
    "    Output : return LSA model\n",
    "    \"\"\"\n",
    "    dictionary,doc_term_matrix=prepare_corpus(doc_clean)\n",
    "    # generate LSA model\n",
    "    lsamodel = LsiModel(doc_term_matrix, num_topics=number_of_topics, id2word = dictionary)  # train model\n",
    "#     print(lsamodel.print_topics(num_topics=number_of_topics, num_words=words))\n",
    "    return lsamodel"
   ]
  },
  {
   "cell_type": "markdown",
   "metadata": {},
   "source": [
    "### Explore # of Topics"
   ]
  },
  {
   "cell_type": "code",
   "execution_count": 240,
   "metadata": {},
   "outputs": [],
   "source": [
    "def compute_coherence_values(dictionary, doc_term_matrix, doc_clean, stop, start=2, step=3):\n",
    "    \"\"\"\n",
    "    Input   : dictionary : Gensim dictionary\n",
    "              corpus : Gensim corpus\n",
    "              texts : List of input texts\n",
    "              stop : Max num of topics\n",
    "    purpose : Compute c_v coherence for various number of topics\n",
    "    Output  : model_list : List of LSA topic models\n",
    "              coherence_values : Coherence values corresponding to the LDA model with respective number of topics\n",
    "    \"\"\"\n",
    "    coherence_values = []\n",
    "    model_list = []\n",
    "    for num_topics in range(start, stop, step):\n",
    "        # generate LSA model\n",
    "        model = LsiModel(doc_term_matrix, num_topics=number_of_topics, id2word = dictionary)  # train model\n",
    "        model_list.append(model)\n",
    "        coherencemodel = CoherenceModel(model=model, texts=doc_clean, dictionary=dictionary, coherence='c_v')\n",
    "        coherence_values.append(coherencemodel.get_coherence())\n",
    "    return model_list, coherence_values"
   ]
  },
  {
   "cell_type": "code",
   "execution_count": 241,
   "metadata": {},
   "outputs": [],
   "source": [
    "def plot_graph(doc_clean,start, stop, step):\n",
    "    dictionary,doc_term_matrix=prepare_corpus(doc_clean)\n",
    "    model_list, coherence_values = compute_coherence_values(dictionary, doc_term_matrix,doc_clean,\n",
    "                                                            stop, start, step)\n",
    "    # Show graph\n",
    "    x = range(start, stop, step)\n",
    "    plt.plot(x, coherence_values)\n",
    "    plt.xlabel(\"Number of Topics\")\n",
    "    plt.ylabel(\"Coherence score\")\n",
    "    plt.legend((\"coherence_values\"), loc='best')\n",
    "    plt.show()"
   ]
  },
  {
   "cell_type": "markdown",
   "metadata": {},
   "source": [
    "### Load Data & Run"
   ]
  },
  {
   "cell_type": "code",
   "execution_count": 242,
   "metadata": {},
   "outputs": [],
   "source": [
    "df = pd.read_csv('abstracts.csv')\n",
    "titles = df.Title.values\n",
    "document_list = df.Text.values\n",
    "number_of_topics=5\n",
    "words=10\n",
    "# document_list,titles=load_data(\"\",\"articles.txt\")\n",
    "clean_text=preprocess_data(document_list)\n",
    "model=create_gensim_lsa_model(clean_text,number_of_topics,words)"
   ]
  },
  {
   "cell_type": "code",
   "execution_count": 243,
   "metadata": {},
   "outputs": [
    {
     "data": {
      "image/png": "[encoded data removed]",
      "text/plain": [
       "<Figure size 432x288 with 1 Axes>"
      ]
     },
     "metadata": {
      "needs_background": "light"
     },
     "output_type": "display_data"
    }
   ],
   "source": [
    "start,stop,step=2,12,1\n",
    "plot_graph(clean_text,start,stop,step)"
   ]
  },
  {
   "cell_type": "markdown",
   "metadata": {},
   "source": [
    "### According to the above graph, the highest coherence scores are for 5, 8 and 9 topics though it seems to change on each iteration.  Note that the score for 2 groups and 10 groups are abount the same.\n",
    "### Another run: 3, 5, 9, 10, 11!!\n",
    "### With the Snowball Stemmer: 4, 5, 6, 8, 10"
   ]
  },
  {
   "cell_type": "code",
   "execution_count": 244,
   "metadata": {},
   "outputs": [
    {
     "name": "stdout",
     "output_type": "stream",
     "text": [
      "Topic: 0 \n",
      "Words: 0.521*\"model\" + 0.239*\"speci\" + 0.196*\"water\" + 0.170*\"transport\" + 0.169*\"simul\" + 0.169*\"calcul\" + 0.145*\"result\" + 0.137*\"use\" + 0.119*\"solut\" + 0.117*\"phreeqc\"\n",
      "Topic: 1 \n",
      "Words: -0.468*\"speci\" + -0.304*\"fish\" + -0.226*\"percent\" + -0.192*\"climat\" + -0.177*\"water\" + -0.167*\"stream\" + -0.164*\"km\" + -0.141*\"occurr\" + -0.140*\"000\" + 0.130*\"transport\"\n",
      "Topic: 2 \n",
      "Words: -0.301*\"model\" + 0.235*\"calcul\" + 0.216*\"speci\" + 0.212*\"phreeqc\" + -0.193*\"veget\" + 0.191*\"aqueous\" + -0.186*\"predict\" + 0.173*\"isotop\" + -0.129*\"wave\" + -0.126*\"aquat\"\n",
      "Topic: 3 \n",
      "Words: 0.374*\"flow\" + 0.341*\"modflow\" + 0.194*\"solver\" + 0.187*\"nwt\" + 0.187*\"lpf\" + -0.184*\"model\" + 0.138*\"problem\" + 0.135*\"groundwat\" + 0.122*\"conduct\" + 0.118*\"simul\"\n",
      "Topic: 4 \n",
      "Words: 0.255*\"wave\" + -0.240*\"veget\" + 0.208*\"coupl\" + 0.190*\"transport\" + -0.178*\"predict\" + 0.171*\"ocean\" + 0.162*\"simul\" + -0.158*\"aquat\" + 0.149*\"atmospher\" + -0.147*\"use\"\n"
     ]
    }
   ],
   "source": [
    "number_of_topics = 5\n",
    "words=14\n",
    "lsamodel = create_gensim_lsa_model(clean_text,number_of_topics,words)\n",
    "for idx, topic in lsamodel.print_topics(-1):\n",
    "    print('Topic: {} \\nWords: {}'.format(idx, topic))"
   ]
  },
  {
   "cell_type": "code",
   "execution_count": 245,
   "metadata": {},
   "outputs": [
    {
     "name": "stdout",
     "output_type": "stream",
     "text": [
      "Topic: 0 \n",
      "Words: 0.521*\"model\" + 0.239*\"speci\" + 0.196*\"water\" + 0.170*\"transport\" + 0.169*\"simul\" + 0.169*\"calcul\" + 0.145*\"result\" + 0.137*\"use\" + 0.119*\"solut\" + 0.117*\"phreeqc\"\n",
      "Topic: 1 \n",
      "Words: -0.468*\"speci\" + -0.304*\"fish\" + -0.226*\"percent\" + -0.192*\"climat\" + -0.177*\"water\" + -0.167*\"stream\" + -0.164*\"km\" + -0.141*\"occurr\" + -0.140*\"000\" + 0.130*\"transport\"\n",
      "Topic: 2 \n",
      "Words: -0.301*\"model\" + 0.235*\"calcul\" + 0.216*\"speci\" + 0.212*\"phreeqc\" + -0.193*\"veget\" + 0.191*\"aqueous\" + -0.186*\"predict\" + 0.173*\"isotop\" + -0.129*\"wave\" + -0.126*\"aquat\"\n",
      "Topic: 3 \n",
      "Words: 0.374*\"flow\" + 0.341*\"modflow\" + 0.194*\"solver\" + 0.187*\"nwt\" + 0.187*\"lpf\" + -0.184*\"model\" + 0.138*\"problem\" + 0.135*\"groundwat\" + 0.122*\"conduct\" + 0.118*\"simul\"\n",
      "Topic: 4 \n",
      "Words: 0.255*\"wave\" + -0.240*\"veget\" + 0.208*\"coupl\" + 0.190*\"transport\" + -0.178*\"predict\" + 0.171*\"ocean\" + 0.162*\"simul\" + -0.158*\"aquat\" + 0.149*\"atmospher\" + -0.147*\"use\"\n",
      "Topic: 5 \n",
      "Words: 0.451*\"map\" + 0.257*\"count\" + 0.225*\"circl\" + 0.193*\"isopleth\" + 0.171*\"size\" + -0.149*\"modflow\" + 0.143*\"exampl\" + 0.140*\"scoops3d\" + 0.129*\"ptcount\" + 0.114*\"applic\"\n",
      "Topic: 6 \n",
      "Words: 0.290*\"size\" + 0.254*\"migrat\" + -0.211*\"simul\" + 0.189*\"bodi\" + 0.175*\"migratori\" + 0.167*\"forag\" + -0.155*\"transport\" + 0.146*\"wave\" + 0.145*\"anim\" + -0.131*\"water\"\n",
      "Topic: 7 \n",
      "Words: -0.343*\"map\" + 0.240*\"scoops3d\" + 0.219*\"size\" + -0.196*\"count\" + -0.172*\"circl\" + 0.162*\"migrat\" + -0.147*\"isopleth\" + 0.144*\"dem\" + 0.138*\"user\" + 0.131*\"3d\"\n",
      "Topic: 8 \n",
      "Words: -0.244*\"wave\" + -0.195*\"scoops3d\" + 0.189*\"migrat\" + -0.176*\"reef\" + 0.170*\"simul\" + 0.169*\"size\" + 0.169*\"bodi\" + 0.151*\"degrad\" + -0.132*\"use\" + 0.131*\"transport\"\n",
      "Topic: 9 \n",
      "Words: 0.235*\"flow\" + 0.228*\"reef\" + -0.211*\"scoops3d\" + 0.168*\"modul\" + 0.160*\"flood\" + 0.154*\"simul\" + -0.152*\"model\" + -0.149*\"coupl\" + 0.133*\"hydrodynam\" + -0.127*\"dem\"\n"
     ]
    }
   ],
   "source": [
    "number_of_topics = 10\n",
    "words=14\n",
    "lsamodel = create_gensim_lsa_model(clean_text,number_of_topics,words)\n",
    "for idx, topic in lsamodel.print_topics(-1):\n",
    "    print('Topic: {} \\nWords: {}'.format(idx, topic))"
   ]
  },
  {
   "cell_type": "markdown",
   "metadata": {},
   "source": [
    "## LDA Model"
   ]
  },
  {
   "cell_type": "code",
   "execution_count": 247,
   "metadata": {},
   "outputs": [
    {
     "name": "stdout",
     "output_type": "stream",
     "text": [
      "Topic: 0 \n",
      "Words: 0.013*\"model\" + 0.012*\"calcul\" + 0.009*\"flow\" + 0.009*\"phreeqc\" + 0.008*\"use\" + 0.008*\"aqueous\" + 0.008*\"transport\" + 0.007*\"isotop\" + 0.006*\"psd\" + 0.006*\"specif\"\n",
      "Topic: 1 \n",
      "Words: 0.016*\"model\" + 0.012*\"flow\" + 0.010*\"transport\" + 0.008*\"simul\" + 0.007*\"water\" + 0.007*\"modflow\" + 0.006*\"result\" + 0.005*\"allow\" + 0.005*\"solut\" + 0.005*\"predict\"\n",
      "Topic: 2 \n",
      "Words: 0.028*\"model\" + 0.013*\"speci\" + 0.011*\"water\" + 0.009*\"predict\" + 0.008*\"wave\" + 0.008*\"develop\" + 0.007*\"fish\" + 0.007*\"simul\" + 0.007*\"use\" + 0.007*\"climat\"\n",
      "Topic: 3 \n",
      "Words: 0.019*\"model\" + 0.013*\"simul\" + 0.009*\"map\" + 0.008*\"water\" + 0.008*\"size\" + 0.006*\"dimension\" + 0.006*\"transport\" + 0.006*\"zone\" + 0.006*\"migrat\" + 0.005*\"balanc\"\n",
      "Topic: 4 \n",
      "Words: 0.013*\"model\" + 0.013*\"use\" + 0.008*\"precipit\" + 0.008*\"simul\" + 0.007*\"flow\" + 0.007*\"threshold\" + 0.007*\"boundari\" + 0.007*\"includ\" + 0.007*\"system\" + 0.007*\"softwar\"\n"
     ]
    }
   ],
   "source": [
    "import gensim\n",
    "from gensim.utils import simple_preprocess\n",
    "dictionary,doc_term_matrix=prepare_corpus(clean_text)\n",
    "lda_model = gensim.models.LdaMulticore(doc_term_matrix, num_topics=5, id2word=dictionary, passes=2, workers=2)\n",
    "for idx, topic in lda_model.print_topics(-1):\n",
    "    print('Topic: {} \\nWords: {}'.format(idx, topic))"
   ]
  },
  {
   "cell_type": "code",
   "execution_count": 231,
   "metadata": {},
   "outputs": [
    {
     "name": "stdout",
     "output_type": "stream",
     "text": [
      "Topic: 0 \n",
      "Words: 0.010*\"size\" + 0.009*\"scoops3d\" + 0.008*\"migrat\" + 0.008*\"precipit\" + 0.008*\"threshold\" + 0.008*\"model\" + 0.008*\"softwar\" + 0.007*\"use\" + 0.007*\"user\" + 0.006*\"landslid\"\n",
      "Topic: 1 \n",
      "Words: 0.026*\"model\" + 0.010*\"speci\" + 0.010*\"water\" + 0.008*\"simul\" + 0.008*\"flow\" + 0.008*\"transport\" + 0.007*\"predict\" + 0.007*\"stream\" + 0.007*\"wave\" + 0.006*\"chang\"\n",
      "Topic: 2 \n",
      "Words: 0.021*\"model\" + 0.014*\"transport\" + 0.012*\"map\" + 0.012*\"simul\" + 0.011*\"water\" + 0.008*\"solut\" + 0.007*\"applic\" + 0.007*\"use\" + 0.007*\"count\" + 0.006*\"exampl\"\n",
      "Topic: 3 \n",
      "Words: 0.017*\"model\" + 0.013*\"simul\" + 0.009*\"calcul\" + 0.008*\"transport\" + 0.007*\"dimension\" + 0.007*\"flow\" + 0.006*\"condit\" + 0.006*\"solut\" + 0.006*\"includ\" + 0.006*\"multipl\"\n",
      "Topic: 4 \n",
      "Words: 0.016*\"model\" + 0.011*\"flow\" + 0.009*\"modflow\" + 0.009*\"veget\" + 0.009*\"use\" + 0.008*\"simul\" + 0.007*\"conduct\" + 0.007*\"system\" + 0.007*\"predict\" + 0.007*\"reef\"\n"
     ]
    }
   ],
   "source": [
    "lda_model = gensim.models.LdaMulticore(doc_term_matrix, num_topics=10, id2word=dictionary, passes=2, workers=2)\n",
    "for idx, topic in lda_model.print_topics(-1):\n",
    "    print('Topic: {} \\nWords: {}'.format(idx, topic))"
   ]
  },
  {
   "cell_type": "code",
   "execution_count": 248,
   "metadata": {},
   "outputs": [
    {
     "name": "stdout",
     "output_type": "stream",
     "text": [
      "\n",
      "Score: 0.9919432401657104\t \n",
      "Topic: 0.013*\"model\" + 0.013*\"use\" + 0.008*\"precipit\" + 0.008*\"simul\" + 0.007*\"flow\" + 0.007*\"threshold\" + 0.007*\"boundari\" + 0.007*\"includ\" + 0.007*\"system\" + 0.007*\"softwar\"\n"
     ]
    }
   ],
   "source": [
    "for index, score in sorted(lda_model[doc_term_matrix[0]], key=lambda tup: -1*tup[1]):\n",
    "    print(\"\\nScore: {}\\t \\nTopic: {}\".format(score, lda_model.print_topic(index, 10)))"
   ]
  },
  {
   "cell_type": "code",
   "execution_count": 249,
   "metadata": {},
   "outputs": [
    {
     "name": "stdout",
     "output_type": "stream",
     "text": [
      "\n",
      "Score: 0.9807340502738953\t \n",
      "Topic: 0.013*\"model\" + 0.012*\"calcul\" + 0.009*\"flow\" + 0.009*\"phreeqc\" + 0.008*\"use\" + 0.008*\"aqueous\" + 0.008*\"transport\" + 0.007*\"isotop\" + 0.006*\"psd\" + 0.006*\"specif\"\n"
     ]
    }
   ],
   "source": [
    "for index, score in sorted(lda_model[doc_term_matrix[19]], key=lambda tup: -1*tup[1]):\n",
    "    print(\"\\nScore: {}\\t \\nTopic: {}\".format(score, lda_model.print_topic(index, 10)))"
   ]
  },
  {
   "cell_type": "code",
   "execution_count": 250,
   "metadata": {},
   "outputs": [],
   "source": [
    "# https://towardsdatascience.com/topic-modeling-and-latent-dirichlet-allocation-in-python-9bf156893c24\n",
    "# test on new doc"
   ]
  }
 ],
 "metadata": {
  "kernelspec": {
   "display_name": "Python 3",
   "language": "python",
   "name": "python3"
  },
  "language_info": {
   "codemirror_mode": {
    "name": "ipython",
    "version": 3
   },
   "file_extension": ".py",
   "mimetype": "text/x-python",
   "name": "python",
   "nbconvert_exporter": "python",
   "pygments_lexer": "ipython3",
   "version": "3.7.9"
  }
 },
 "nbformat": 4,
 "nbformat_minor": 4
}
